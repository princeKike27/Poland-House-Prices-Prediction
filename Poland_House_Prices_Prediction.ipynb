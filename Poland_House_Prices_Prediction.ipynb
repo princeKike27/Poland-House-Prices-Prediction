{
  "nbformat": 4,
  "nbformat_minor": 0,
  "metadata": {
    "colab": {
      "name": "Poland House Prices Prediction.ipynb",
      "provenance": [],
      "collapsed_sections": [],
      "authorship_tag": "ABX9TyN0tG3pTbuJnGu+0jLrPvGl",
      "include_colab_link": true
    },
    "kernelspec": {
      "name": "python3",
      "display_name": "Python 3"
    },
    "language_info": {
      "name": "python"
    }
  },
  "cells": [
    {
      "cell_type": "markdown",
      "metadata": {
        "id": "view-in-github",
        "colab_type": "text"
      },
      "source": [
        "<a href=\"https://colab.research.google.com/github/princeKike27/Poland-House-Prices-Prediction/blob/main/Poland_House_Prices_Prediction.ipynb\" target=\"_parent\"><img src=\"https://colab.research.google.com/assets/colab-badge.svg\" alt=\"Open In Colab\"/></a>"
      ]
    },
    {
      "cell_type": "markdown",
      "source": [
        "# Poland House Prices Prediction\n",
        "\n",
        "For this project I analyzed data from the housing market in 3 cities in Poland Krakow, Warsaw and Poznań ...."
      ],
      "metadata": {
        "id": "Bi4FwZQ0MrxN"
      }
    },
    {
      "cell_type": "markdown",
      "source": [
        "![purple-divider](https://user-images.githubusercontent.com/7065401/52071927-c1cd7100-2562-11e9-908a-dde91ba14e59.png)"
      ],
      "metadata": {
        "id": "Vczta8LiRfbB"
      }
    },
    {
      "cell_type": "code",
      "source": [
        "# import modules\n",
        "import pandas as pd\n",
        "import numpy as np\n",
        "import matplotlib.pyplot as plt\n",
        "import seaborn as sns\n",
        "\n",
        "import torch"
      ],
      "metadata": {
        "id": "5qWBNZinRu6k"
      },
      "execution_count": 1,
      "outputs": []
    },
    {
      "cell_type": "code",
      "source": [
        "# load dataset\n",
        "df_houses = pd.read_csv('https://raw.githubusercontent.com/princeKike27/Poland-House-Prices-Prediction/main/poland_houses.csv',\n",
        "                        encoding='latin-1', sep=';')\n",
        "\n",
        "df_houses"
      ],
      "metadata": {
        "colab": {
          "base_uri": "https://localhost:8080/",
          "height": 424
        },
        "id": "xPEfNVDHaN-x",
        "outputId": "d453aec2-1332-44cb-b3f1-e6b580bea45f"
      },
      "execution_count": 2,
      "outputs": [
        {
          "output_type": "execute_result",
          "data": {
            "text/plain": [
              "                                                 address      city  floor  \\\n",
              "0               Podgórze Zab³ocie Stanis³awa Klimeckiego    Kraków    2.0   \n",
              "1                              Praga-Po³udnie Grochowska  Warszawa    3.0   \n",
              "2                                Krowodrza Czarnowiejska    Kraków    2.0   \n",
              "3                                               Grunwald    Poznañ    2.0   \n",
              "4      Ochota Gotowy budynek. Stan deweloperski. Osta...  Warszawa    1.0   \n",
              "...                                                  ...       ...    ...   \n",
              "23759                            Stare Miasto Naramowice    Poznañ    0.0   \n",
              "23760                                             W³ochy  Warszawa    4.0   \n",
              "23761                    Nowe Miasto Malta ul. Katowicka    Poznañ    0.0   \n",
              "23762                 Podgórze Duchackie Walerego S³awka    Kraków    6.0   \n",
              "23763                                            Ursynów  Warszawa    2.0   \n",
              "\n",
              "            id     latitude    longitude      price  rooms      sq    year  \n",
              "0      23918.0  500.492.242  199.703.793   749000.0    3.0   74.05  2021.0  \n",
              "1      17828.0  522.497.745  211.068.857   240548.0    1.0   24.38  2021.0  \n",
              "2      22784.0  500.669.642  199.200.249   427000.0    2.0   37.00  1970.0  \n",
              "3       4315.0   52.404.212   16.882.542  1290000.0    5.0  166.00  1935.0  \n",
              "4      11770.0   52.212.225  209.726.299   996000.0    5.0  105.00  2020.0  \n",
              "...        ...          ...          ...        ...    ...     ...     ...  \n",
              "23759   3976.0  524.496.489  169.494.082   543000.0    4.0   77.00  2020.0  \n",
              "23760  10206.0  521.861.093  209.484.377   910000.0    3.0   71.00  2017.0  \n",
              "23761   4952.0  523.973.449  169.619.394   430695.0    3.0   50.67  2022.0  \n",
              "23762  24148.0  500.242.313   19.959.569   359000.0    2.0   38.86  2021.0  \n",
              "23763  10889.0   52.141.039  210.323.214   604800.0    3.0   63.00  1978.0  \n",
              "\n",
              "[23764 rows x 10 columns]"
            ],
            "text/html": [
              "\n",
              "  <div id=\"df-cfd6b286-462d-459e-8985-fe0e849b1c3c\">\n",
              "    <div class=\"colab-df-container\">\n",
              "      <div>\n",
              "<style scoped>\n",
              "    .dataframe tbody tr th:only-of-type {\n",
              "        vertical-align: middle;\n",
              "    }\n",
              "\n",
              "    .dataframe tbody tr th {\n",
              "        vertical-align: top;\n",
              "    }\n",
              "\n",
              "    .dataframe thead th {\n",
              "        text-align: right;\n",
              "    }\n",
              "</style>\n",
              "<table border=\"1\" class=\"dataframe\">\n",
              "  <thead>\n",
              "    <tr style=\"text-align: right;\">\n",
              "      <th></th>\n",
              "      <th>address</th>\n",
              "      <th>city</th>\n",
              "      <th>floor</th>\n",
              "      <th>id</th>\n",
              "      <th>latitude</th>\n",
              "      <th>longitude</th>\n",
              "      <th>price</th>\n",
              "      <th>rooms</th>\n",
              "      <th>sq</th>\n",
              "      <th>year</th>\n",
              "    </tr>\n",
              "  </thead>\n",
              "  <tbody>\n",
              "    <tr>\n",
              "      <th>0</th>\n",
              "      <td>Podgórze Zab³ocie Stanis³awa Klimeckiego</td>\n",
              "      <td>Kraków</td>\n",
              "      <td>2.0</td>\n",
              "      <td>23918.0</td>\n",
              "      <td>500.492.242</td>\n",
              "      <td>199.703.793</td>\n",
              "      <td>749000.0</td>\n",
              "      <td>3.0</td>\n",
              "      <td>74.05</td>\n",
              "      <td>2021.0</td>\n",
              "    </tr>\n",
              "    <tr>\n",
              "      <th>1</th>\n",
              "      <td>Praga-Po³udnie Grochowska</td>\n",
              "      <td>Warszawa</td>\n",
              "      <td>3.0</td>\n",
              "      <td>17828.0</td>\n",
              "      <td>522.497.745</td>\n",
              "      <td>211.068.857</td>\n",
              "      <td>240548.0</td>\n",
              "      <td>1.0</td>\n",
              "      <td>24.38</td>\n",
              "      <td>2021.0</td>\n",
              "    </tr>\n",
              "    <tr>\n",
              "      <th>2</th>\n",
              "      <td>Krowodrza Czarnowiejska</td>\n",
              "      <td>Kraków</td>\n",
              "      <td>2.0</td>\n",
              "      <td>22784.0</td>\n",
              "      <td>500.669.642</td>\n",
              "      <td>199.200.249</td>\n",
              "      <td>427000.0</td>\n",
              "      <td>2.0</td>\n",
              "      <td>37.00</td>\n",
              "      <td>1970.0</td>\n",
              "    </tr>\n",
              "    <tr>\n",
              "      <th>3</th>\n",
              "      <td>Grunwald</td>\n",
              "      <td>Poznañ</td>\n",
              "      <td>2.0</td>\n",
              "      <td>4315.0</td>\n",
              "      <td>52.404.212</td>\n",
              "      <td>16.882.542</td>\n",
              "      <td>1290000.0</td>\n",
              "      <td>5.0</td>\n",
              "      <td>166.00</td>\n",
              "      <td>1935.0</td>\n",
              "    </tr>\n",
              "    <tr>\n",
              "      <th>4</th>\n",
              "      <td>Ochota Gotowy budynek. Stan deweloperski. Osta...</td>\n",
              "      <td>Warszawa</td>\n",
              "      <td>1.0</td>\n",
              "      <td>11770.0</td>\n",
              "      <td>52.212.225</td>\n",
              "      <td>209.726.299</td>\n",
              "      <td>996000.0</td>\n",
              "      <td>5.0</td>\n",
              "      <td>105.00</td>\n",
              "      <td>2020.0</td>\n",
              "    </tr>\n",
              "    <tr>\n",
              "      <th>...</th>\n",
              "      <td>...</td>\n",
              "      <td>...</td>\n",
              "      <td>...</td>\n",
              "      <td>...</td>\n",
              "      <td>...</td>\n",
              "      <td>...</td>\n",
              "      <td>...</td>\n",
              "      <td>...</td>\n",
              "      <td>...</td>\n",
              "      <td>...</td>\n",
              "    </tr>\n",
              "    <tr>\n",
              "      <th>23759</th>\n",
              "      <td>Stare Miasto Naramowice</td>\n",
              "      <td>Poznañ</td>\n",
              "      <td>0.0</td>\n",
              "      <td>3976.0</td>\n",
              "      <td>524.496.489</td>\n",
              "      <td>169.494.082</td>\n",
              "      <td>543000.0</td>\n",
              "      <td>4.0</td>\n",
              "      <td>77.00</td>\n",
              "      <td>2020.0</td>\n",
              "    </tr>\n",
              "    <tr>\n",
              "      <th>23760</th>\n",
              "      <td>W³ochy</td>\n",
              "      <td>Warszawa</td>\n",
              "      <td>4.0</td>\n",
              "      <td>10206.0</td>\n",
              "      <td>521.861.093</td>\n",
              "      <td>209.484.377</td>\n",
              "      <td>910000.0</td>\n",
              "      <td>3.0</td>\n",
              "      <td>71.00</td>\n",
              "      <td>2017.0</td>\n",
              "    </tr>\n",
              "    <tr>\n",
              "      <th>23761</th>\n",
              "      <td>Nowe Miasto Malta ul. Katowicka</td>\n",
              "      <td>Poznañ</td>\n",
              "      <td>0.0</td>\n",
              "      <td>4952.0</td>\n",
              "      <td>523.973.449</td>\n",
              "      <td>169.619.394</td>\n",
              "      <td>430695.0</td>\n",
              "      <td>3.0</td>\n",
              "      <td>50.67</td>\n",
              "      <td>2022.0</td>\n",
              "    </tr>\n",
              "    <tr>\n",
              "      <th>23762</th>\n",
              "      <td>Podgórze Duchackie Walerego S³awka</td>\n",
              "      <td>Kraków</td>\n",
              "      <td>6.0</td>\n",
              "      <td>24148.0</td>\n",
              "      <td>500.242.313</td>\n",
              "      <td>19.959.569</td>\n",
              "      <td>359000.0</td>\n",
              "      <td>2.0</td>\n",
              "      <td>38.86</td>\n",
              "      <td>2021.0</td>\n",
              "    </tr>\n",
              "    <tr>\n",
              "      <th>23763</th>\n",
              "      <td>Ursynów</td>\n",
              "      <td>Warszawa</td>\n",
              "      <td>2.0</td>\n",
              "      <td>10889.0</td>\n",
              "      <td>52.141.039</td>\n",
              "      <td>210.323.214</td>\n",
              "      <td>604800.0</td>\n",
              "      <td>3.0</td>\n",
              "      <td>63.00</td>\n",
              "      <td>1978.0</td>\n",
              "    </tr>\n",
              "  </tbody>\n",
              "</table>\n",
              "<p>23764 rows × 10 columns</p>\n",
              "</div>\n",
              "      <button class=\"colab-df-convert\" onclick=\"convertToInteractive('df-cfd6b286-462d-459e-8985-fe0e849b1c3c')\"\n",
              "              title=\"Convert this dataframe to an interactive table.\"\n",
              "              style=\"display:none;\">\n",
              "        \n",
              "  <svg xmlns=\"http://www.w3.org/2000/svg\" height=\"24px\"viewBox=\"0 0 24 24\"\n",
              "       width=\"24px\">\n",
              "    <path d=\"M0 0h24v24H0V0z\" fill=\"none\"/>\n",
              "    <path d=\"M18.56 5.44l.94 2.06.94-2.06 2.06-.94-2.06-.94-.94-2.06-.94 2.06-2.06.94zm-11 1L8.5 8.5l.94-2.06 2.06-.94-2.06-.94L8.5 2.5l-.94 2.06-2.06.94zm10 10l.94 2.06.94-2.06 2.06-.94-2.06-.94-.94-2.06-.94 2.06-2.06.94z\"/><path d=\"M17.41 7.96l-1.37-1.37c-.4-.4-.92-.59-1.43-.59-.52 0-1.04.2-1.43.59L10.3 9.45l-7.72 7.72c-.78.78-.78 2.05 0 2.83L4 21.41c.39.39.9.59 1.41.59.51 0 1.02-.2 1.41-.59l7.78-7.78 2.81-2.81c.8-.78.8-2.07 0-2.86zM5.41 20L4 18.59l7.72-7.72 1.47 1.35L5.41 20z\"/>\n",
              "  </svg>\n",
              "      </button>\n",
              "      \n",
              "  <style>\n",
              "    .colab-df-container {\n",
              "      display:flex;\n",
              "      flex-wrap:wrap;\n",
              "      gap: 12px;\n",
              "    }\n",
              "\n",
              "    .colab-df-convert {\n",
              "      background-color: #E8F0FE;\n",
              "      border: none;\n",
              "      border-radius: 50%;\n",
              "      cursor: pointer;\n",
              "      display: none;\n",
              "      fill: #1967D2;\n",
              "      height: 32px;\n",
              "      padding: 0 0 0 0;\n",
              "      width: 32px;\n",
              "    }\n",
              "\n",
              "    .colab-df-convert:hover {\n",
              "      background-color: #E2EBFA;\n",
              "      box-shadow: 0px 1px 2px rgba(60, 64, 67, 0.3), 0px 1px 3px 1px rgba(60, 64, 67, 0.15);\n",
              "      fill: #174EA6;\n",
              "    }\n",
              "\n",
              "    [theme=dark] .colab-df-convert {\n",
              "      background-color: #3B4455;\n",
              "      fill: #D2E3FC;\n",
              "    }\n",
              "\n",
              "    [theme=dark] .colab-df-convert:hover {\n",
              "      background-color: #434B5C;\n",
              "      box-shadow: 0px 1px 3px 1px rgba(0, 0, 0, 0.15);\n",
              "      filter: drop-shadow(0px 1px 2px rgba(0, 0, 0, 0.3));\n",
              "      fill: #FFFFFF;\n",
              "    }\n",
              "  </style>\n",
              "\n",
              "      <script>\n",
              "        const buttonEl =\n",
              "          document.querySelector('#df-cfd6b286-462d-459e-8985-fe0e849b1c3c button.colab-df-convert');\n",
              "        buttonEl.style.display =\n",
              "          google.colab.kernel.accessAllowed ? 'block' : 'none';\n",
              "\n",
              "        async function convertToInteractive(key) {\n",
              "          const element = document.querySelector('#df-cfd6b286-462d-459e-8985-fe0e849b1c3c');\n",
              "          const dataTable =\n",
              "            await google.colab.kernel.invokeFunction('convertToInteractive',\n",
              "                                                     [key], {});\n",
              "          if (!dataTable) return;\n",
              "\n",
              "          const docLinkHtml = 'Like what you see? Visit the ' +\n",
              "            '<a target=\"_blank\" href=https://colab.research.google.com/notebooks/data_table.ipynb>data table notebook</a>'\n",
              "            + ' to learn more about interactive tables.';\n",
              "          element.innerHTML = '';\n",
              "          dataTable['output_type'] = 'display_data';\n",
              "          await google.colab.output.renderOutput(dataTable, element);\n",
              "          const docLink = document.createElement('div');\n",
              "          docLink.innerHTML = docLinkHtml;\n",
              "          element.appendChild(docLink);\n",
              "        }\n",
              "      </script>\n",
              "    </div>\n",
              "  </div>\n",
              "  "
            ]
          },
          "metadata": {},
          "execution_count": 2
        }
      ]
    },
    {
      "cell_type": "markdown",
      "source": [
        "![purple-divider](https://user-images.githubusercontent.com/7065401/52071927-c1cd7100-2562-11e9-908a-dde91ba14e59.png)"
      ],
      "metadata": {
        "id": "9AWzf8CZccmm"
      }
    },
    {
      "cell_type": "markdown",
      "source": [
        "## Dataframe Analysis"
      ],
      "metadata": {
        "id": "VkQGO5ncceqM"
      }
    },
    {
      "cell_type": "code",
      "source": [
        "# shape of df \n",
        "print(df_houses.shape)"
      ],
      "metadata": {
        "colab": {
          "base_uri": "https://localhost:8080/"
        },
        "id": "JiQXQRQuci2Q",
        "outputId": "7d05dfce-7dd6-40e3-b31c-95dd52550044"
      },
      "execution_count": 3,
      "outputs": [
        {
          "output_type": "stream",
          "name": "stdout",
          "text": [
            "(23764, 10)\n"
          ]
        }
      ]
    },
    {
      "cell_type": "code",
      "source": [
        "# column types\n",
        "df_houses.dtypes"
      ],
      "metadata": {
        "colab": {
          "base_uri": "https://localhost:8080/"
        },
        "id": "nMc5fkrkcu5F",
        "outputId": "379e6fc0-3a01-4fca-c27d-7129b8583e66"
      },
      "execution_count": 4,
      "outputs": [
        {
          "output_type": "execute_result",
          "data": {
            "text/plain": [
              "address       object\n",
              "city          object\n",
              "floor        float64\n",
              "id           float64\n",
              "latitude      object\n",
              "longitude     object\n",
              "price        float64\n",
              "rooms        float64\n",
              "sq           float64\n",
              "year         float64\n",
              "dtype: object"
            ]
          },
          "metadata": {},
          "execution_count": 4
        }
      ]
    },
    {
      "cell_type": "code",
      "source": [
        "# change floor, rooms and year to int\n",
        "\n",
        "df_houses['floor'] = df_houses['floor'].astype(int)\n",
        "df_houses['rooms'] = df_houses['rooms'].astype(int)\n",
        "df_houses['year'] = df_houses['year'].astype(int)"
      ],
      "metadata": {
        "id": "WfIwEpvVgD-l"
      },
      "execution_count": 6,
      "outputs": []
    },
    {
      "cell_type": "code",
      "source": [
        "# check changes\n",
        "df_houses.dtypes"
      ],
      "metadata": {
        "colab": {
          "base_uri": "https://localhost:8080/"
        },
        "id": "GJFTpNPJgOJI",
        "outputId": "00bacebf-07ba-432a-d781-ae109d11bebe"
      },
      "execution_count": 7,
      "outputs": [
        {
          "output_type": "execute_result",
          "data": {
            "text/plain": [
              "address       object\n",
              "city          object\n",
              "floor          int64\n",
              "id           float64\n",
              "latitude      object\n",
              "longitude     object\n",
              "price        float64\n",
              "rooms          int64\n",
              "sq           float64\n",
              "year           int64\n",
              "dtype: object"
            ]
          },
          "metadata": {},
          "execution_count": 7
        }
      ]
    },
    {
      "cell_type": "code",
      "source": [
        "# check for missing values\n",
        "import missingno as msg\n",
        "\n",
        "msg.matrix(df_houses, figsize=(16, 8))"
      ],
      "metadata": {
        "colab": {
          "base_uri": "https://localhost:8080/",
          "height": 567
        },
        "id": "11-QVkkTg6kM",
        "outputId": "f451b3fb-78c6-4ab0-8d2a-f37fe73fa5ff"
      },
      "execution_count": 11,
      "outputs": [
        {
          "output_type": "execute_result",
          "data": {
            "text/plain": [
              "<matplotlib.axes._subplots.AxesSubplot at 0x7f464924df50>"
            ]
          },
          "metadata": {},
          "execution_count": 11
        },
        {
          "output_type": "display_data",
          "data": {
            "text/plain": [
              "<Figure size 1152x576 with 2 Axes>"
            ],
            "image/png": "[encoded data removed]"
          },
          "metadata": {
            "needs_background": "light"
          }
        }
      ]
    },
    {
      "cell_type": "markdown",
      "source": [
        "![purple-divider](https://user-images.githubusercontent.com/7065401/52071927-c1cd7100-2562-11e9-908a-dde91ba14e59.png)"
      ],
      "metadata": {
        "id": "2QGqv0xtk2jT"
      }
    },
    {
      "cell_type": "markdown",
      "source": [
        "## Data Analysis"
      ],
      "metadata": {
        "id": "Wpkf40hulFFD"
      }
    }
  ]
}