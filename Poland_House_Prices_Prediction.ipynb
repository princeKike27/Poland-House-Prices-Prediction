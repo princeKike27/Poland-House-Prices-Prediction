{
  "nbformat": 4,
  "nbformat_minor": 0,
  "metadata": {
    "colab": {
      "name": "Poland House Prices Prediction.ipynb",
      "provenance": [],
      "collapsed_sections": [],
      "authorship_tag": "ABX9TyMZUDuckJh5C3NokUl3O5lR",
      "include_colab_link": true
    },
    "kernelspec": {
      "name": "python3",
      "display_name": "Python 3"
    },
    "language_info": {
      "name": "python"
    }
  },
  "cells": [
    {
      "cell_type": "markdown",
      "metadata": {
        "id": "view-in-github",
        "colab_type": "text"
      },
      "source": [
        "<a href=\"https://colab.research.google.com/github/princeKike27/Poland-House-Prices-Prediction/blob/main/Poland_House_Prices_Prediction.ipynb\" target=\"_parent\"><img src=\"https://colab.research.google.com/assets/colab-badge.svg\" alt=\"Open In Colab\"/></a>"
      ]
    },
    {
      "cell_type": "markdown",
      "source": [
        "# Poland House Prices Prediction\n",
        "\n",
        "For this project I analyzed data from the housing market in 3 cities in Poland Krakow, Warsaw and Poznań ...."
      ],
      "metadata": {
        "id": "Bi4FwZQ0MrxN"
      }
    },
    {
      "cell_type": "markdown",
      "source": [
        "![purple-divider](https://user-images.githubusercontent.com/7065401/52071927-c1cd7100-2562-11e9-908a-dde91ba14e59.png)"
      ],
      "metadata": {
        "id": "Vczta8LiRfbB"
      }
    },
    {
      "cell_type": "code",
      "source": [
        "# import modules\n",
        "import pandas as pd\n",
        "import numpy as np\n",
        "import matplotlib.pyplot as plt\n",
        "import seaborn as sns\n",
        "\n",
        "import torch"
      ],
      "metadata": {
        "id": "5qWBNZinRu6k"
      },
      "execution_count": 1,
      "outputs": []
    },
    {
      "cell_type": "code",
      "source": [
        "# load dataset\n",
        "df_houses = pd.read_csv('https://raw.githubusercontent.com/princeKike27/Poland-House-Prices-Prediction/main/poland_houses.csv',\n",
        "                        encoding='latin-1', sep=';')\n",
        "\n",
        "df_houses"
      ],
      "metadata": {
        "colab": {
          "base_uri": "https://localhost:8080/",
          "height": 424
        },
        "id": "xPEfNVDHaN-x",
        "outputId": "a3ccaa0c-61f3-4d2e-a420-e77f61281055"
      },
      "execution_count": 2,
      "outputs": [
        {
          "output_type": "execute_result",
          "data": {
            "text/plain": [
              "                                                 address      city  floor  \\\n",
              "0               Podgórze Zab³ocie Stanis³awa Klimeckiego    Kraków    2.0   \n",
              "1                              Praga-Po³udnie Grochowska  Warszawa    3.0   \n",
              "2                                Krowodrza Czarnowiejska    Kraków    2.0   \n",
              "3                                               Grunwald    Poznañ    2.0   \n",
              "4      Ochota Gotowy budynek. Stan deweloperski. Osta...  Warszawa    1.0   \n",
              "...                                                  ...       ...    ...   \n",
              "23759                            Stare Miasto Naramowice    Poznañ    0.0   \n",
              "23760                                             W³ochy  Warszawa    4.0   \n",
              "23761                    Nowe Miasto Malta ul. Katowicka    Poznañ    0.0   \n",
              "23762                 Podgórze Duchackie Walerego S³awka    Kraków    6.0   \n",
              "23763                                            Ursynów  Warszawa    2.0   \n",
              "\n",
              "            id     latitude    longitude      price  rooms      sq    year  \n",
              "0      23918.0  500.492.242  199.703.793   749000.0    3.0   74.05  2021.0  \n",
              "1      17828.0  522.497.745  211.068.857   240548.0    1.0   24.38  2021.0  \n",
              "2      22784.0  500.669.642  199.200.249   427000.0    2.0   37.00  1970.0  \n",
              "3       4315.0   52.404.212   16.882.542  1290000.0    5.0  166.00  1935.0  \n",
              "4      11770.0   52.212.225  209.726.299   996000.0    5.0  105.00  2020.0  \n",
              "...        ...          ...          ...        ...    ...     ...     ...  \n",
              "23759   3976.0  524.496.489  169.494.082   543000.0    4.0   77.00  2020.0  \n",
              "23760  10206.0  521.861.093  209.484.377   910000.0    3.0   71.00  2017.0  \n",
              "23761   4952.0  523.973.449  169.619.394   430695.0    3.0   50.67  2022.0  \n",
              "23762  24148.0  500.242.313   19.959.569   359000.0    2.0   38.86  2021.0  \n",
              "23763  10889.0   52.141.039  210.323.214   604800.0    3.0   63.00  1978.0  \n",
              "\n",
              "[23764 rows x 10 columns]"
            ],
            "text/html": [
              "\n",
              "  <div id=\"df-df408fd4-43d9-4253-8c2d-c9f181c9f393\">\n",
              "    <div class=\"colab-df-container\">\n",
              "      <div>\n",
              "<style scoped>\n",
              "    .dataframe tbody tr th:only-of-type {\n",
              "        vertical-align: middle;\n",
              "    }\n",
              "\n",
              "    .dataframe tbody tr th {\n",
              "        vertical-align: top;\n",
              "    }\n",
              "\n",
              "    .dataframe thead th {\n",
              "        text-align: right;\n",
              "    }\n",
              "</style>\n",
              "<table border=\"1\" class=\"dataframe\">\n",
              "  <thead>\n",
              "    <tr style=\"text-align: right;\">\n",
              "      <th></th>\n",
              "      <th>address</th>\n",
              "      <th>city</th>\n",
              "      <th>floor</th>\n",
              "      <th>id</th>\n",
              "      <th>latitude</th>\n",
              "      <th>longitude</th>\n",
              "      <th>price</th>\n",
              "      <th>rooms</th>\n",
              "      <th>sq</th>\n",
              "      <th>year</th>\n",
              "    </tr>\n",
              "  </thead>\n",
              "  <tbody>\n",
              "    <tr>\n",
              "      <th>0</th>\n",
              "      <td>Podgórze Zab³ocie Stanis³awa Klimeckiego</td>\n",
              "      <td>Kraków</td>\n",
              "      <td>2.0</td>\n",
              "      <td>23918.0</td>\n",
              "      <td>500.492.242</td>\n",
              "      <td>199.703.793</td>\n",
              "      <td>749000.0</td>\n",
              "      <td>3.0</td>\n",
              "      <td>74.05</td>\n",
              "      <td>2021.0</td>\n",
              "    </tr>\n",
              "    <tr>\n",
              "      <th>1</th>\n",
              "      <td>Praga-Po³udnie Grochowska</td>\n",
              "      <td>Warszawa</td>\n",
              "      <td>3.0</td>\n",
              "      <td>17828.0</td>\n",
              "      <td>522.497.745</td>\n",
              "      <td>211.068.857</td>\n",
              "      <td>240548.0</td>\n",
              "      <td>1.0</td>\n",
              "      <td>24.38</td>\n",
              "      <td>2021.0</td>\n",
              "    </tr>\n",
              "    <tr>\n",
              "      <th>2</th>\n",
              "      <td>Krowodrza Czarnowiejska</td>\n",
              "      <td>Kraków</td>\n",
              "      <td>2.0</td>\n",
              "      <td>22784.0</td>\n",
              "      <td>500.669.642</td>\n",
              "      <td>199.200.249</td>\n",
              "      <td>427000.0</td>\n",
              "      <td>2.0</td>\n",
              "      <td>37.00</td>\n",
              "      <td>1970.0</td>\n",
              "    </tr>\n",
              "    <tr>\n",
              "      <th>3</th>\n",
              "      <td>Grunwald</td>\n",
              "      <td>Poznañ</td>\n",
              "      <td>2.0</td>\n",
              "      <td>4315.0</td>\n",
              "      <td>52.404.212</td>\n",
              "      <td>16.882.542</td>\n",
              "      <td>1290000.0</td>\n",
              "      <td>5.0</td>\n",
              "      <td>166.00</td>\n",
              "      <td>1935.0</td>\n",
              "    </tr>\n",
              "    <tr>\n",
              "      <th>4</th>\n",
              "      <td>Ochota Gotowy budynek. Stan deweloperski. Osta...</td>\n",
              "      <td>Warszawa</td>\n",
              "      <td>1.0</td>\n",
              "      <td>11770.0</td>\n",
              "      <td>52.212.225</td>\n",
              "      <td>209.726.299</td>\n",
              "      <td>996000.0</td>\n",
              "      <td>5.0</td>\n",
              "      <td>105.00</td>\n",
              "      <td>2020.0</td>\n",
              "    </tr>\n",
              "    <tr>\n",
              "      <th>...</th>\n",
              "      <td>...</td>\n",
              "      <td>...</td>\n",
              "      <td>...</td>\n",
              "      <td>...</td>\n",
              "      <td>...</td>\n",
              "      <td>...</td>\n",
              "      <td>...</td>\n",
              "      <td>...</td>\n",
              "      <td>...</td>\n",
              "      <td>...</td>\n",
              "    </tr>\n",
              "    <tr>\n",
              "      <th>23759</th>\n",
              "      <td>Stare Miasto Naramowice</td>\n",
              "      <td>Poznañ</td>\n",
              "      <td>0.0</td>\n",
              "      <td>3976.0</td>\n",
              "      <td>524.496.489</td>\n",
              "      <td>169.494.082</td>\n",
              "      <td>543000.0</td>\n",
              "      <td>4.0</td>\n",
              "      <td>77.00</td>\n",
              "      <td>2020.0</td>\n",
              "    </tr>\n",
              "    <tr>\n",
              "      <th>23760</th>\n",
              "      <td>W³ochy</td>\n",
              "      <td>Warszawa</td>\n",
              "      <td>4.0</td>\n",
              "      <td>10206.0</td>\n",
              "      <td>521.861.093</td>\n",
              "      <td>209.484.377</td>\n",
              "      <td>910000.0</td>\n",
              "      <td>3.0</td>\n",
              "      <td>71.00</td>\n",
              "      <td>2017.0</td>\n",
              "    </tr>\n",
              "    <tr>\n",
              "      <th>23761</th>\n",
              "      <td>Nowe Miasto Malta ul. Katowicka</td>\n",
              "      <td>Poznañ</td>\n",
              "      <td>0.0</td>\n",
              "      <td>4952.0</td>\n",
              "      <td>523.973.449</td>\n",
              "      <td>169.619.394</td>\n",
              "      <td>430695.0</td>\n",
              "      <td>3.0</td>\n",
              "      <td>50.67</td>\n",
              "      <td>2022.0</td>\n",
              "    </tr>\n",
              "    <tr>\n",
              "      <th>23762</th>\n",
              "      <td>Podgórze Duchackie Walerego S³awka</td>\n",
              "      <td>Kraków</td>\n",
              "      <td>6.0</td>\n",
              "      <td>24148.0</td>\n",
              "      <td>500.242.313</td>\n",
              "      <td>19.959.569</td>\n",
              "      <td>359000.0</td>\n",
              "      <td>2.0</td>\n",
              "      <td>38.86</td>\n",
              "      <td>2021.0</td>\n",
              "    </tr>\n",
              "    <tr>\n",
              "      <th>23763</th>\n",
              "      <td>Ursynów</td>\n",
              "      <td>Warszawa</td>\n",
              "      <td>2.0</td>\n",
              "      <td>10889.0</td>\n",
              "      <td>52.141.039</td>\n",
              "      <td>210.323.214</td>\n",
              "      <td>604800.0</td>\n",
              "      <td>3.0</td>\n",
              "      <td>63.00</td>\n",
              "      <td>1978.0</td>\n",
              "    </tr>\n",
              "  </tbody>\n",
              "</table>\n",
              "<p>23764 rows × 10 columns</p>\n",
              "</div>\n",
              "      <button class=\"colab-df-convert\" onclick=\"convertToInteractive('df-df408fd4-43d9-4253-8c2d-c9f181c9f393')\"\n",
              "              title=\"Convert this dataframe to an interactive table.\"\n",
              "              style=\"display:none;\">\n",
              "        \n",
              "  <svg xmlns=\"http://www.w3.org/2000/svg\" height=\"24px\"viewBox=\"0 0 24 24\"\n",
              "       width=\"24px\">\n",
              "    <path d=\"M0 0h24v24H0V0z\" fill=\"none\"/>\n",
              "    <path d=\"M18.56 5.44l.94 2.06.94-2.06 2.06-.94-2.06-.94-.94-2.06-.94 2.06-2.06.94zm-11 1L8.5 8.5l.94-2.06 2.06-.94-2.06-.94L8.5 2.5l-.94 2.06-2.06.94zm10 10l.94 2.06.94-2.06 2.06-.94-2.06-.94-.94-2.06-.94 2.06-2.06.94z\"/><path d=\"M17.41 7.96l-1.37-1.37c-.4-.4-.92-.59-1.43-.59-.52 0-1.04.2-1.43.59L10.3 9.45l-7.72 7.72c-.78.78-.78 2.05 0 2.83L4 21.41c.39.39.9.59 1.41.59.51 0 1.02-.2 1.41-.59l7.78-7.78 2.81-2.81c.8-.78.8-2.07 0-2.86zM5.41 20L4 18.59l7.72-7.72 1.47 1.35L5.41 20z\"/>\n",
              "  </svg>\n",
              "      </button>\n",
              "      \n",
              "  <style>\n",
              "    .colab-df-container {\n",
              "      display:flex;\n",
              "      flex-wrap:wrap;\n",
              "      gap: 12px;\n",
              "    }\n",
              "\n",
              "    .colab-df-convert {\n",
              "      background-color: #E8F0FE;\n",
              "      border: none;\n",
              "      border-radius: 50%;\n",
              "      cursor: pointer;\n",
              "      display: none;\n",
              "      fill: #1967D2;\n",
              "      height: 32px;\n",
              "      padding: 0 0 0 0;\n",
              "      width: 32px;\n",
              "    }\n",
              "\n",
              "    .colab-df-convert:hover {\n",
              "      background-color: #E2EBFA;\n",
              "      box-shadow: 0px 1px 2px rgba(60, 64, 67, 0.3), 0px 1px 3px 1px rgba(60, 64, 67, 0.15);\n",
              "      fill: #174EA6;\n",
              "    }\n",
              "\n",
              "    [theme=dark] .colab-df-convert {\n",
              "      background-color: #3B4455;\n",
              "      fill: #D2E3FC;\n",
              "    }\n",
              "\n",
              "    [theme=dark] .colab-df-convert:hover {\n",
              "      background-color: #434B5C;\n",
              "      box-shadow: 0px 1px 3px 1px rgba(0, 0, 0, 0.15);\n",
              "      filter: drop-shadow(0px 1px 2px rgba(0, 0, 0, 0.3));\n",
              "      fill: #FFFFFF;\n",
              "    }\n",
              "  </style>\n",
              "\n",
              "      <script>\n",
              "        const buttonEl =\n",
              "          document.querySelector('#df-df408fd4-43d9-4253-8c2d-c9f181c9f393 button.colab-df-convert');\n",
              "        buttonEl.style.display =\n",
              "          google.colab.kernel.accessAllowed ? 'block' : 'none';\n",
              "\n",
              "        async function convertToInteractive(key) {\n",
              "          const element = document.querySelector('#df-df408fd4-43d9-4253-8c2d-c9f181c9f393');\n",
              "          const dataTable =\n",
              "            await google.colab.kernel.invokeFunction('convertToInteractive',\n",
              "                                                     [key], {});\n",
              "          if (!dataTable) return;\n",
              "\n",
              "          const docLinkHtml = 'Like what you see? Visit the ' +\n",
              "            '<a target=\"_blank\" href=https://colab.research.google.com/notebooks/data_table.ipynb>data table notebook</a>'\n",
              "            + ' to learn more about interactive tables.';\n",
              "          element.innerHTML = '';\n",
              "          dataTable['output_type'] = 'display_data';\n",
              "          await google.colab.output.renderOutput(dataTable, element);\n",
              "          const docLink = document.createElement('div');\n",
              "          docLink.innerHTML = docLinkHtml;\n",
              "          element.appendChild(docLink);\n",
              "        }\n",
              "      </script>\n",
              "    </div>\n",
              "  </div>\n",
              "  "
            ]
          },
          "metadata": {},
          "execution_count": 2
        }
      ]
    },
    {
      "cell_type": "markdown",
      "source": [
        "![purple-divider](https://user-images.githubusercontent.com/7065401/52071927-c1cd7100-2562-11e9-908a-dde91ba14e59.png)"
      ],
      "metadata": {
        "id": "9AWzf8CZccmm"
      }
    },
    {
      "cell_type": "markdown",
      "source": [
        "## Data Cleaning & Tidying"
      ],
      "metadata": {
        "id": "VkQGO5ncceqM"
      }
    },
    {
      "cell_type": "code",
      "source": [
        "# shape of df \n",
        "print(df_houses.shape)"
      ],
      "metadata": {
        "colab": {
          "base_uri": "https://localhost:8080/"
        },
        "id": "JiQXQRQuci2Q",
        "outputId": "ee17d3be-646c-47bb-d80e-d2120c926dde"
      },
      "execution_count": 3,
      "outputs": [
        {
          "output_type": "stream",
          "name": "stdout",
          "text": [
            "(23764, 10)\n"
          ]
        }
      ]
    },
    {
      "cell_type": "code",
      "source": [
        "# column types\n",
        "df_houses.dtypes"
      ],
      "metadata": {
        "colab": {
          "base_uri": "https://localhost:8080/"
        },
        "id": "nMc5fkrkcu5F",
        "outputId": "a4f46875-75be-4383-951b-22c5a387c777"
      },
      "execution_count": 4,
      "outputs": [
        {
          "output_type": "execute_result",
          "data": {
            "text/plain": [
              "address       object\n",
              "city          object\n",
              "floor        float64\n",
              "id           float64\n",
              "latitude      object\n",
              "longitude     object\n",
              "price        float64\n",
              "rooms        float64\n",
              "sq           float64\n",
              "year         float64\n",
              "dtype: object"
            ]
          },
          "metadata": {},
          "execution_count": 4
        }
      ]
    },
    {
      "cell_type": "code",
      "source": [
        "# change floor, rooms, year to int\n",
        "df_houses['floor'] = df_houses['floor'].astype(int)\n",
        "df_houses['rooms'] = df_houses['rooms'].astype(int)\n",
        "df_houses['year'] = df_houses['year'].astype(int)\n"
      ],
      "metadata": {
        "id": "WfIwEpvVgD-l"
      },
      "execution_count": 5,
      "outputs": []
    },
    {
      "cell_type": "code",
      "source": [
        "# unique values of year column\n",
        "df_houses.year.unique()"
      ],
      "metadata": {
        "colab": {
          "base_uri": "https://localhost:8080/"
        },
        "id": "Q0j4aSIly60A",
        "outputId": "ce41df21-0918-489f-c42c-73017ecc63ad"
      },
      "execution_count": 6,
      "outputs": [
        {
          "output_type": "execute_result",
          "data": {
            "text/plain": [
              "array([2021, 1970, 1935, 2020, 2022, 2003, 1982, 1999, 1968, 1989, 2019,\n",
              "       2005, 1930, 2008, 1960, 2013, 1936, 1890, 2010, 1972, 2016, 2009,\n",
              "       1990, 2018, 2000, 1974, 1976, 2017, 1980, 1938, 1926, 1963, 2015,\n",
              "       2012, 1971, 1949, 1977, 1920, 2014, 2007, 2001, 1911, 1973, 2006,\n",
              "       1975, 1978, 1987, 1984, 2023, 1904, 2004, 1956, 1900, 1966, 1950,\n",
              "       1931, 1912, 1951, 1955, 1983, 1964, 1905, 1962, 2011, 1939, 1965,\n",
              "       1967, 2002, 1952, 1927, 1991, 1985, 1953, 1969, 1979, 1910, 1988,\n",
              "       1954, 1997, 1998, 1886, 1992, 1996, 1959, 1880, 1981, 1916, 1986,\n",
              "       1918, 1879, 1946, 1901, 1780, 1995, 1908, 1937,   75, 1994, 1864,\n",
              "       1919, 1923, 1958, 1993, 1915, 1948, 1907, 1957, 1961, 1902, 1924,\n",
              "       1885, 1934, 1947, 1925, 1913, 1892, 1922, 1929, 1841, 1933, 1897,\n",
              "       1895, 1932, 1854, 1893, 1903, 1906, 1830, 2980,   80, 1940, 1914,\n",
              "       1760, 1898, 1928,  202, 1942, 1876, 1899,   70, 1896, 1945, 1784,\n",
              "       1860, 1889, 1883, 1917,  195, 1921,   81, 1943, 1872, 1070, 1884,\n",
              "       2024, 1790, 1909, 1870, 1801, 1824, 1941, 1535, 1850,  200, 1390,\n",
              "       1800, 1944,  214])"
            ]
          },
          "metadata": {},
          "execution_count": 6
        }
      ]
    },
    {
      "cell_type": "code",
      "source": [
        "# select rows with years 75, 214, 2980, 80, 202, 70, 195, 81, 200 \n",
        "df_houses[(df_houses['year'] == 75) | (df_houses['year'] == 214) | (df_houses['year'] == 2980) |\n",
        "          (df_houses['year'] == 80) | (df_houses['year'] == 202) | (df_houses['year'] == 70) |\n",
        "          (df_houses['year'] == 195) | (df_houses['year'] == 81) | (df_houses['year'] == 200)]"
      ],
      "metadata": {
        "colab": {
          "base_uri": "https://localhost:8080/",
          "height": 363
        },
        "id": "MUTZEnBYzT8K",
        "outputId": "8ab030ba-9480-49da-a937-a08bbae6c802"
      },
      "execution_count": 7,
      "outputs": [
        {
          "output_type": "execute_result",
          "data": {
            "text/plain": [
              "                                             address      city  floor  \\\n",
              "1032                             ródmiecie ¯urawia  Warszawa      1   \n",
              "4345                                  Targówek Mokra  Warszawa      8   \n",
              "4513                                 Wola Krochmalna  Warszawa     10   \n",
              "6458             Bie¿anów-Prokocim Bie¿anów Pod³êska    Kraków      2   \n",
              "7659                            Nowe Miasto G³uszyna    Poznañ      2   \n",
              "8972                   Grunwald £azarz ul. G³ogowska    Poznañ      1   \n",
              "10408                            Bemowo ul. Karabeli  Warszawa      9   \n",
              "14431  Stare Miasto Pi¹tkowo os. Boles³awa Chrobrego    Poznañ      1   \n",
              "19206       Krowodrza Krowodrza Górka S³omczyñskiego    Kraków      0   \n",
              "22999                      Bielany Radiowo Arkuszowa  Warszawa      2   \n",
              "\n",
              "            id     latitude               longitude     price  rooms     sq  \\\n",
              "1032   14485.0  522.319.581             210.067.249  760000.0      3  53.00   \n",
              "4345   16082.0  522.319.581             210.067.249  520000.0      3  56.00   \n",
              "4513   13832.0  522.319.581             210.067.249  320000.0      1  28.00   \n",
              "6458   21883.0  500.469.432  19.997.153.435.836.600  410000.0      2  48.00   \n",
              "7659    1603.0  523.263.616             169.628.861  235000.0      2  40.50   \n",
              "8972      56.0  524.016.616             169.100.607  329000.0      2  27.80   \n",
              "10408   8116.0  522.319.581             210.067.249  450000.0      2  47.80   \n",
              "14431    640.0  524.006.632   1.691.973.259.178.080  375000.0      3  64.00   \n",
              "19206  27281.0  500.469.432  19.997.153.435.836.600  655000.0      3  73.22   \n",
              "22999  11359.0  522.319.581             210.067.249  660000.0      3  59.00   \n",
              "\n",
              "       year  \n",
              "1032     75  \n",
              "4345   2980  \n",
              "4513     80  \n",
              "6458    202  \n",
              "7659     70  \n",
              "8972    195  \n",
              "10408    81  \n",
              "14431    80  \n",
              "19206   200  \n",
              "22999   214  "
            ],
            "text/html": [
              "\n",
              "  <div id=\"df-683b4194-dc4f-4d75-8264-7489c9ca58ce\">\n",
              "    <div class=\"colab-df-container\">\n",
              "      <div>\n",
              "<style scoped>\n",
              "    .dataframe tbody tr th:only-of-type {\n",
              "        vertical-align: middle;\n",
              "    }\n",
              "\n",
              "    .dataframe tbody tr th {\n",
              "        vertical-align: top;\n",
              "    }\n",
              "\n",
              "    .dataframe thead th {\n",
              "        text-align: right;\n",
              "    }\n",
              "</style>\n",
              "<table border=\"1\" class=\"dataframe\">\n",
              "  <thead>\n",
              "    <tr style=\"text-align: right;\">\n",
              "      <th></th>\n",
              "      <th>address</th>\n",
              "      <th>city</th>\n",
              "      <th>floor</th>\n",
              "      <th>id</th>\n",
              "      <th>latitude</th>\n",
              "      <th>longitude</th>\n",
              "      <th>price</th>\n",
              "      <th>rooms</th>\n",
              "      <th>sq</th>\n",
              "      <th>year</th>\n",
              "    </tr>\n",
              "  </thead>\n",
              "  <tbody>\n",
              "    <tr>\n",
              "      <th>1032</th>\n",
              "      <td>ródmiecie ¯urawia</td>\n",
              "      <td>Warszawa</td>\n",
              "      <td>1</td>\n",
              "      <td>14485.0</td>\n",
              "      <td>522.319.581</td>\n",
              "      <td>210.067.249</td>\n",
              "      <td>760000.0</td>\n",
              "      <td>3</td>\n",
              "      <td>53.00</td>\n",
              "      <td>75</td>\n",
              "    </tr>\n",
              "    <tr>\n",
              "      <th>4345</th>\n",
              "      <td>Targówek Mokra</td>\n",
              "      <td>Warszawa</td>\n",
              "      <td>8</td>\n",
              "      <td>16082.0</td>\n",
              "      <td>522.319.581</td>\n",
              "      <td>210.067.249</td>\n",
              "      <td>520000.0</td>\n",
              "      <td>3</td>\n",
              "      <td>56.00</td>\n",
              "      <td>2980</td>\n",
              "    </tr>\n",
              "    <tr>\n",
              "      <th>4513</th>\n",
              "      <td>Wola Krochmalna</td>\n",
              "      <td>Warszawa</td>\n",
              "      <td>10</td>\n",
              "      <td>13832.0</td>\n",
              "      <td>522.319.581</td>\n",
              "      <td>210.067.249</td>\n",
              "      <td>320000.0</td>\n",
              "      <td>1</td>\n",
              "      <td>28.00</td>\n",
              "      <td>80</td>\n",
              "    </tr>\n",
              "    <tr>\n",
              "      <th>6458</th>\n",
              "      <td>Bie¿anów-Prokocim Bie¿anów Pod³êska</td>\n",
              "      <td>Kraków</td>\n",
              "      <td>2</td>\n",
              "      <td>21883.0</td>\n",
              "      <td>500.469.432</td>\n",
              "      <td>19.997.153.435.836.600</td>\n",
              "      <td>410000.0</td>\n",
              "      <td>2</td>\n",
              "      <td>48.00</td>\n",
              "      <td>202</td>\n",
              "    </tr>\n",
              "    <tr>\n",
              "      <th>7659</th>\n",
              "      <td>Nowe Miasto G³uszyna</td>\n",
              "      <td>Poznañ</td>\n",
              "      <td>2</td>\n",
              "      <td>1603.0</td>\n",
              "      <td>523.263.616</td>\n",
              "      <td>169.628.861</td>\n",
              "      <td>235000.0</td>\n",
              "      <td>2</td>\n",
              "      <td>40.50</td>\n",
              "      <td>70</td>\n",
              "    </tr>\n",
              "    <tr>\n",
              "      <th>8972</th>\n",
              "      <td>Grunwald £azarz ul. G³ogowska</td>\n",
              "      <td>Poznañ</td>\n",
              "      <td>1</td>\n",
              "      <td>56.0</td>\n",
              "      <td>524.016.616</td>\n",
              "      <td>169.100.607</td>\n",
              "      <td>329000.0</td>\n",
              "      <td>2</td>\n",
              "      <td>27.80</td>\n",
              "      <td>195</td>\n",
              "    </tr>\n",
              "    <tr>\n",
              "      <th>10408</th>\n",
              "      <td>Bemowo ul. Karabeli</td>\n",
              "      <td>Warszawa</td>\n",
              "      <td>9</td>\n",
              "      <td>8116.0</td>\n",
              "      <td>522.319.581</td>\n",
              "      <td>210.067.249</td>\n",
              "      <td>450000.0</td>\n",
              "      <td>2</td>\n",
              "      <td>47.80</td>\n",
              "      <td>81</td>\n",
              "    </tr>\n",
              "    <tr>\n",
              "      <th>14431</th>\n",
              "      <td>Stare Miasto Pi¹tkowo os. Boles³awa Chrobrego</td>\n",
              "      <td>Poznañ</td>\n",
              "      <td>1</td>\n",
              "      <td>640.0</td>\n",
              "      <td>524.006.632</td>\n",
              "      <td>1.691.973.259.178.080</td>\n",
              "      <td>375000.0</td>\n",
              "      <td>3</td>\n",
              "      <td>64.00</td>\n",
              "      <td>80</td>\n",
              "    </tr>\n",
              "    <tr>\n",
              "      <th>19206</th>\n",
              "      <td>Krowodrza Krowodrza Górka S³omczyñskiego</td>\n",
              "      <td>Kraków</td>\n",
              "      <td>0</td>\n",
              "      <td>27281.0</td>\n",
              "      <td>500.469.432</td>\n",
              "      <td>19.997.153.435.836.600</td>\n",
              "      <td>655000.0</td>\n",
              "      <td>3</td>\n",
              "      <td>73.22</td>\n",
              "      <td>200</td>\n",
              "    </tr>\n",
              "    <tr>\n",
              "      <th>22999</th>\n",
              "      <td>Bielany Radiowo Arkuszowa</td>\n",
              "      <td>Warszawa</td>\n",
              "      <td>2</td>\n",
              "      <td>11359.0</td>\n",
              "      <td>522.319.581</td>\n",
              "      <td>210.067.249</td>\n",
              "      <td>660000.0</td>\n",
              "      <td>3</td>\n",
              "      <td>59.00</td>\n",
              "      <td>214</td>\n",
              "    </tr>\n",
              "  </tbody>\n",
              "</table>\n",
              "</div>\n",
              "      <button class=\"colab-df-convert\" onclick=\"convertToInteractive('df-683b4194-dc4f-4d75-8264-7489c9ca58ce')\"\n",
              "              title=\"Convert this dataframe to an interactive table.\"\n",
              "              style=\"display:none;\">\n",
              "        \n",
              "  <svg xmlns=\"http://www.w3.org/2000/svg\" height=\"24px\"viewBox=\"0 0 24 24\"\n",
              "       width=\"24px\">\n",
              "    <path d=\"M0 0h24v24H0V0z\" fill=\"none\"/>\n",
              "    <path d=\"M18.56 5.44l.94 2.06.94-2.06 2.06-.94-2.06-.94-.94-2.06-.94 2.06-2.06.94zm-11 1L8.5 8.5l.94-2.06 2.06-.94-2.06-.94L8.5 2.5l-.94 2.06-2.06.94zm10 10l.94 2.06.94-2.06 2.06-.94-2.06-.94-.94-2.06-.94 2.06-2.06.94z\"/><path d=\"M17.41 7.96l-1.37-1.37c-.4-.4-.92-.59-1.43-.59-.52 0-1.04.2-1.43.59L10.3 9.45l-7.72 7.72c-.78.78-.78 2.05 0 2.83L4 21.41c.39.39.9.59 1.41.59.51 0 1.02-.2 1.41-.59l7.78-7.78 2.81-2.81c.8-.78.8-2.07 0-2.86zM5.41 20L4 18.59l7.72-7.72 1.47 1.35L5.41 20z\"/>\n",
              "  </svg>\n",
              "      </button>\n",
              "      \n",
              "  <style>\n",
              "    .colab-df-container {\n",
              "      display:flex;\n",
              "      flex-wrap:wrap;\n",
              "      gap: 12px;\n",
              "    }\n",
              "\n",
              "    .colab-df-convert {\n",
              "      background-color: #E8F0FE;\n",
              "      border: none;\n",
              "      border-radius: 50%;\n",
              "      cursor: pointer;\n",
              "      display: none;\n",
              "      fill: #1967D2;\n",
              "      height: 32px;\n",
              "      padding: 0 0 0 0;\n",
              "      width: 32px;\n",
              "    }\n",
              "\n",
              "    .colab-df-convert:hover {\n",
              "      background-color: #E2EBFA;\n",
              "      box-shadow: 0px 1px 2px rgba(60, 64, 67, 0.3), 0px 1px 3px 1px rgba(60, 64, 67, 0.15);\n",
              "      fill: #174EA6;\n",
              "    }\n",
              "\n",
              "    [theme=dark] .colab-df-convert {\n",
              "      background-color: #3B4455;\n",
              "      fill: #D2E3FC;\n",
              "    }\n",
              "\n",
              "    [theme=dark] .colab-df-convert:hover {\n",
              "      background-color: #434B5C;\n",
              "      box-shadow: 0px 1px 3px 1px rgba(0, 0, 0, 0.15);\n",
              "      filter: drop-shadow(0px 1px 2px rgba(0, 0, 0, 0.3));\n",
              "      fill: #FFFFFF;\n",
              "    }\n",
              "  </style>\n",
              "\n",
              "      <script>\n",
              "        const buttonEl =\n",
              "          document.querySelector('#df-683b4194-dc4f-4d75-8264-7489c9ca58ce button.colab-df-convert');\n",
              "        buttonEl.style.display =\n",
              "          google.colab.kernel.accessAllowed ? 'block' : 'none';\n",
              "\n",
              "        async function convertToInteractive(key) {\n",
              "          const element = document.querySelector('#df-683b4194-dc4f-4d75-8264-7489c9ca58ce');\n",
              "          const dataTable =\n",
              "            await google.colab.kernel.invokeFunction('convertToInteractive',\n",
              "                                                     [key], {});\n",
              "          if (!dataTable) return;\n",
              "\n",
              "          const docLinkHtml = 'Like what you see? Visit the ' +\n",
              "            '<a target=\"_blank\" href=https://colab.research.google.com/notebooks/data_table.ipynb>data table notebook</a>'\n",
              "            + ' to learn more about interactive tables.';\n",
              "          element.innerHTML = '';\n",
              "          dataTable['output_type'] = 'display_data';\n",
              "          await google.colab.output.renderOutput(dataTable, element);\n",
              "          const docLink = document.createElement('div');\n",
              "          docLink.innerHTML = docLinkHtml;\n",
              "          element.appendChild(docLink);\n",
              "        }\n",
              "      </script>\n",
              "    </div>\n",
              "  </div>\n",
              "  "
            ]
          },
          "metadata": {},
          "execution_count": 7
        }
      ]
    },
    {
      "cell_type": "code",
      "source": [
        "# replace years to correct values \n",
        "df_houses['year'].replace({2980: 1980,\n",
        "                           80: 1980,\n",
        "                           202: 2002,\n",
        "                           70: 1970,\n",
        "                           195: 1950,\n",
        "                           81: 1981,\n",
        "                           80: 1980,\n",
        "                           200: 2000,\n",
        "                           75: 1975,\n",
        "                           214: 2014}, inplace=True)"
      ],
      "metadata": {
        "id": "orJ8U8aw0mSs"
      },
      "execution_count": 8,
      "outputs": []
    },
    {
      "cell_type": "code",
      "source": [
        "# check changes\n",
        "df_houses.dtypes"
      ],
      "metadata": {
        "colab": {
          "base_uri": "https://localhost:8080/"
        },
        "id": "GJFTpNPJgOJI",
        "outputId": "a913d690-ae9f-4a55-cbc0-0ad33cd0ba13"
      },
      "execution_count": 9,
      "outputs": [
        {
          "output_type": "execute_result",
          "data": {
            "text/plain": [
              "address       object\n",
              "city          object\n",
              "floor          int64\n",
              "id           float64\n",
              "latitude      object\n",
              "longitude     object\n",
              "price        float64\n",
              "rooms          int64\n",
              "sq           float64\n",
              "year           int64\n",
              "dtype: object"
            ]
          },
          "metadata": {},
          "execution_count": 9
        }
      ]
    },
    {
      "cell_type": "code",
      "source": [
        "# check for missing values\n",
        "import missingno as msg\n",
        "\n",
        "msg.matrix(df_houses, figsize=(16, 8))"
      ],
      "metadata": {
        "colab": {
          "base_uri": "https://localhost:8080/",
          "height": 567
        },
        "id": "11-QVkkTg6kM",
        "outputId": "81aad5dc-7883-4c16-8426-d55340fcfba7"
      },
      "execution_count": 10,
      "outputs": [
        {
          "output_type": "execute_result",
          "data": {
            "text/plain": [
              "<matplotlib.axes._subplots.AxesSubplot at 0x7ff2e4588410>"
            ]
          },
          "metadata": {},
          "execution_count": 10
        },
        {
          "output_type": "display_data",
          "data": {
            "text/plain": [
              "<Figure size 1152x576 with 2 Axes>"
            ],
            "image/png": "[encoded data removed]"
          },
          "metadata": {
            "needs_background": "light"
          }
        }
      ]
    },
    {
      "cell_type": "markdown",
      "source": [
        "![purple-divider](https://user-images.githubusercontent.com/7065401/52071927-c1cd7100-2562-11e9-908a-dde91ba14e59.png)"
      ],
      "metadata": {
        "id": "2QGqv0xtk2jT"
      }
    },
    {
      "cell_type": "markdown",
      "source": [
        "## Data Analysis"
      ],
      "metadata": {
        "id": "Wpkf40hulFFD"
      }
    },
    {
      "cell_type": "code",
      "source": [
        "# descriptive statistics of numeric columns\n",
        "df_houses.describe()"
      ],
      "metadata": {
        "colab": {
          "base_uri": "https://localhost:8080/",
          "height": 300
        },
        "id": "YydwzdtwyF3U",
        "outputId": "71783fb4-4aee-488b-83d4-9f8449906f5b"
      },
      "execution_count": 11,
      "outputs": [
        {
          "output_type": "execute_result",
          "data": {
            "text/plain": [
              "              floor            id         price         rooms            sq  \\\n",
              "count  23764.000000  23764.000000  2.376400e+04  23764.000000  2.376400e+04   \n",
              "mean       2.808744  15621.964484  6.493536e+05      2.620771  1.027249e+02   \n",
              "std        2.463467   8617.293898  5.326970e+05      0.996530  6.533688e+03   \n",
              "min        0.000000      1.000000  5.000000e+03      1.000000  8.800000e+00   \n",
              "25%        1.000000   8420.750000  4.115461e+05      2.000000  4.200000e+01   \n",
              "50%        2.000000  15637.500000  5.200000e+05      3.000000  5.389500e+01   \n",
              "75%        4.000000  23111.250000  6.999990e+05      3.000000  6.891500e+01   \n",
              "max       10.000000  30308.000000  1.500000e+07     10.000000  1.007185e+06   \n",
              "\n",
              "               year  \n",
              "count  23764.000000  \n",
              "mean    2001.209939  \n",
              "std       31.164981  \n",
              "min     1070.000000  \n",
              "25%     1985.000000  \n",
              "50%     2019.000000  \n",
              "75%     2021.000000  \n",
              "max     2024.000000  "
            ],
            "text/html": [
              "\n",
              "  <div id=\"df-e089469f-869f-46ef-ac40-95bbafa04bc4\">\n",
              "    <div class=\"colab-df-container\">\n",
              "      <div>\n",
              "<style scoped>\n",
              "    .dataframe tbody tr th:only-of-type {\n",
              "        vertical-align: middle;\n",
              "    }\n",
              "\n",
              "    .dataframe tbody tr th {\n",
              "        vertical-align: top;\n",
              "    }\n",
              "\n",
              "    .dataframe thead th {\n",
              "        text-align: right;\n",
              "    }\n",
              "</style>\n",
              "<table border=\"1\" class=\"dataframe\">\n",
              "  <thead>\n",
              "    <tr style=\"text-align: right;\">\n",
              "      <th></th>\n",
              "      <th>floor</th>\n",
              "      <th>id</th>\n",
              "      <th>price</th>\n",
              "      <th>rooms</th>\n",
              "      <th>sq</th>\n",
              "      <th>year</th>\n",
              "    </tr>\n",
              "  </thead>\n",
              "  <tbody>\n",
              "    <tr>\n",
              "      <th>count</th>\n",
              "      <td>23764.000000</td>\n",
              "      <td>23764.000000</td>\n",
              "      <td>2.376400e+04</td>\n",
              "      <td>23764.000000</td>\n",
              "      <td>2.376400e+04</td>\n",
              "      <td>23764.000000</td>\n",
              "    </tr>\n",
              "    <tr>\n",
              "      <th>mean</th>\n",
              "      <td>2.808744</td>\n",
              "      <td>15621.964484</td>\n",
              "      <td>6.493536e+05</td>\n",
              "      <td>2.620771</td>\n",
              "      <td>1.027249e+02</td>\n",
              "      <td>2001.209939</td>\n",
              "    </tr>\n",
              "    <tr>\n",
              "      <th>std</th>\n",
              "      <td>2.463467</td>\n",
              "      <td>8617.293898</td>\n",
              "      <td>5.326970e+05</td>\n",
              "      <td>0.996530</td>\n",
              "      <td>6.533688e+03</td>\n",
              "      <td>31.164981</td>\n",
              "    </tr>\n",
              "    <tr>\n",
              "      <th>min</th>\n",
              "      <td>0.000000</td>\n",
              "      <td>1.000000</td>\n",
              "      <td>5.000000e+03</td>\n",
              "      <td>1.000000</td>\n",
              "      <td>8.800000e+00</td>\n",
              "      <td>1070.000000</td>\n",
              "    </tr>\n",
              "    <tr>\n",
              "      <th>25%</th>\n",
              "      <td>1.000000</td>\n",
              "      <td>8420.750000</td>\n",
              "      <td>4.115461e+05</td>\n",
              "      <td>2.000000</td>\n",
              "      <td>4.200000e+01</td>\n",
              "      <td>1985.000000</td>\n",
              "    </tr>\n",
              "    <tr>\n",
              "      <th>50%</th>\n",
              "      <td>2.000000</td>\n",
              "      <td>15637.500000</td>\n",
              "      <td>5.200000e+05</td>\n",
              "      <td>3.000000</td>\n",
              "      <td>5.389500e+01</td>\n",
              "      <td>2019.000000</td>\n",
              "    </tr>\n",
              "    <tr>\n",
              "      <th>75%</th>\n",
              "      <td>4.000000</td>\n",
              "      <td>23111.250000</td>\n",
              "      <td>6.999990e+05</td>\n",
              "      <td>3.000000</td>\n",
              "      <td>6.891500e+01</td>\n",
              "      <td>2021.000000</td>\n",
              "    </tr>\n",
              "    <tr>\n",
              "      <th>max</th>\n",
              "      <td>10.000000</td>\n",
              "      <td>30308.000000</td>\n",
              "      <td>1.500000e+07</td>\n",
              "      <td>10.000000</td>\n",
              "      <td>1.007185e+06</td>\n",
              "      <td>2024.000000</td>\n",
              "    </tr>\n",
              "  </tbody>\n",
              "</table>\n",
              "</div>\n",
              "      <button class=\"colab-df-convert\" onclick=\"convertToInteractive('df-e089469f-869f-46ef-ac40-95bbafa04bc4')\"\n",
              "              title=\"Convert this dataframe to an interactive table.\"\n",
              "              style=\"display:none;\">\n",
              "        \n",
              "  <svg xmlns=\"http://www.w3.org/2000/svg\" height=\"24px\"viewBox=\"0 0 24 24\"\n",
              "       width=\"24px\">\n",
              "    <path d=\"M0 0h24v24H0V0z\" fill=\"none\"/>\n",
              "    <path d=\"M18.56 5.44l.94 2.06.94-2.06 2.06-.94-2.06-.94-.94-2.06-.94 2.06-2.06.94zm-11 1L8.5 8.5l.94-2.06 2.06-.94-2.06-.94L8.5 2.5l-.94 2.06-2.06.94zm10 10l.94 2.06.94-2.06 2.06-.94-2.06-.94-.94-2.06-.94 2.06-2.06.94z\"/><path d=\"M17.41 7.96l-1.37-1.37c-.4-.4-.92-.59-1.43-.59-.52 0-1.04.2-1.43.59L10.3 9.45l-7.72 7.72c-.78.78-.78 2.05 0 2.83L4 21.41c.39.39.9.59 1.41.59.51 0 1.02-.2 1.41-.59l7.78-7.78 2.81-2.81c.8-.78.8-2.07 0-2.86zM5.41 20L4 18.59l7.72-7.72 1.47 1.35L5.41 20z\"/>\n",
              "  </svg>\n",
              "      </button>\n",
              "      \n",
              "  <style>\n",
              "    .colab-df-container {\n",
              "      display:flex;\n",
              "      flex-wrap:wrap;\n",
              "      gap: 12px;\n",
              "    }\n",
              "\n",
              "    .colab-df-convert {\n",
              "      background-color: #E8F0FE;\n",
              "      border: none;\n",
              "      border-radius: 50%;\n",
              "      cursor: pointer;\n",
              "      display: none;\n",
              "      fill: #1967D2;\n",
              "      height: 32px;\n",
              "      padding: 0 0 0 0;\n",
              "      width: 32px;\n",
              "    }\n",
              "\n",
              "    .colab-df-convert:hover {\n",
              "      background-color: #E2EBFA;\n",
              "      box-shadow: 0px 1px 2px rgba(60, 64, 67, 0.3), 0px 1px 3px 1px rgba(60, 64, 67, 0.15);\n",
              "      fill: #174EA6;\n",
              "    }\n",
              "\n",
              "    [theme=dark] .colab-df-convert {\n",
              "      background-color: #3B4455;\n",
              "      fill: #D2E3FC;\n",
              "    }\n",
              "\n",
              "    [theme=dark] .colab-df-convert:hover {\n",
              "      background-color: #434B5C;\n",
              "      box-shadow: 0px 1px 3px 1px rgba(0, 0, 0, 0.15);\n",
              "      filter: drop-shadow(0px 1px 2px rgba(0, 0, 0, 0.3));\n",
              "      fill: #FFFFFF;\n",
              "    }\n",
              "  </style>\n",
              "\n",
              "      <script>\n",
              "        const buttonEl =\n",
              "          document.querySelector('#df-e089469f-869f-46ef-ac40-95bbafa04bc4 button.colab-df-convert');\n",
              "        buttonEl.style.display =\n",
              "          google.colab.kernel.accessAllowed ? 'block' : 'none';\n",
              "\n",
              "        async function convertToInteractive(key) {\n",
              "          const element = document.querySelector('#df-e089469f-869f-46ef-ac40-95bbafa04bc4');\n",
              "          const dataTable =\n",
              "            await google.colab.kernel.invokeFunction('convertToInteractive',\n",
              "                                                     [key], {});\n",
              "          if (!dataTable) return;\n",
              "\n",
              "          const docLinkHtml = 'Like what you see? Visit the ' +\n",
              "            '<a target=\"_blank\" href=https://colab.research.google.com/notebooks/data_table.ipynb>data table notebook</a>'\n",
              "            + ' to learn more about interactive tables.';\n",
              "          element.innerHTML = '';\n",
              "          dataTable['output_type'] = 'display_data';\n",
              "          await google.colab.output.renderOutput(dataTable, element);\n",
              "          const docLink = document.createElement('div');\n",
              "          docLink.innerHTML = docLinkHtml;\n",
              "          element.appendChild(docLink);\n",
              "        }\n",
              "      </script>\n",
              "    </div>\n",
              "  </div>\n",
              "  "
            ]
          },
          "metadata": {},
          "execution_count": 11
        }
      ]
    },
    {
      "cell_type": "markdown",
      "source": [
        "### Houses per City"
      ],
      "metadata": {
        "id": "Nceu3O0BpXTG"
      }
    },
    {
      "cell_type": "code",
      "source": [
        "# function to calculate number_houses and avg_price\n",
        "\n",
        "def city_calc(df): \n",
        "  # dict to store columns\n",
        "  calc = {}\n",
        "  calc['number_houses'] = len(df.id)\n",
        "  calc['avg_price'] = df['price'].mean()\n",
        "\n",
        "  # return a Pandas Series\n",
        "  return pd.Series(calc, index=['number_houses', 'avg_price'])"
      ],
      "metadata": {
        "id": "x3bgXUJP2s00"
      },
      "execution_count": 12,
      "outputs": []
    },
    {
      "cell_type": "code",
      "source": [
        "# groupby city & apply function\n",
        "houses_city = df_houses.groupby(['city']).apply(city_calc).reset_index()\n",
        "\n",
        "# add %_homes column\n",
        "houses_city['%_homes'] = (houses_city.number_houses / len(df_houses)) * 100\n",
        "\n",
        "houses_city.head()"
      ],
      "metadata": {
        "colab": {
          "base_uri": "https://localhost:8080/",
          "height": 144
        },
        "id": "8t_XKRtnpbw9",
        "outputId": "a561e59b-c6e3-4e5a-c152-d8781d544d6c"
      },
      "execution_count": 13,
      "outputs": [
        {
          "output_type": "execute_result",
          "data": {
            "text/plain": [
              "       city  number_houses      avg_price    %_homes\n",
              "0    Kraków         9764.0  593756.068258  41.087359\n",
              "1    Poznañ         4149.0  468527.120154  17.459182\n",
              "2  Warszawa         9851.0  780619.918237  41.453459"
            ],
            "text/html": [
              "\n",
              "  <div id=\"df-ef967093-fd34-4628-9c92-8ef0f04f98b2\">\n",
              "    <div class=\"colab-df-container\">\n",
              "      <div>\n",
              "<style scoped>\n",
              "    .dataframe tbody tr th:only-of-type {\n",
              "        vertical-align: middle;\n",
              "    }\n",
              "\n",
              "    .dataframe tbody tr th {\n",
              "        vertical-align: top;\n",
              "    }\n",
              "\n",
              "    .dataframe thead th {\n",
              "        text-align: right;\n",
              "    }\n",
              "</style>\n",
              "<table border=\"1\" class=\"dataframe\">\n",
              "  <thead>\n",
              "    <tr style=\"text-align: right;\">\n",
              "      <th></th>\n",
              "      <th>city</th>\n",
              "      <th>number_houses</th>\n",
              "      <th>avg_price</th>\n",
              "      <th>%_homes</th>\n",
              "    </tr>\n",
              "  </thead>\n",
              "  <tbody>\n",
              "    <tr>\n",
              "      <th>0</th>\n",
              "      <td>Kraków</td>\n",
              "      <td>9764.0</td>\n",
              "      <td>593756.068258</td>\n",
              "      <td>41.087359</td>\n",
              "    </tr>\n",
              "    <tr>\n",
              "      <th>1</th>\n",
              "      <td>Poznañ</td>\n",
              "      <td>4149.0</td>\n",
              "      <td>468527.120154</td>\n",
              "      <td>17.459182</td>\n",
              "    </tr>\n",
              "    <tr>\n",
              "      <th>2</th>\n",
              "      <td>Warszawa</td>\n",
              "      <td>9851.0</td>\n",
              "      <td>780619.918237</td>\n",
              "      <td>41.453459</td>\n",
              "    </tr>\n",
              "  </tbody>\n",
              "</table>\n",
              "</div>\n",
              "      <button class=\"colab-df-convert\" onclick=\"convertToInteractive('df-ef967093-fd34-4628-9c92-8ef0f04f98b2')\"\n",
              "              title=\"Convert this dataframe to an interactive table.\"\n",
              "              style=\"display:none;\">\n",
              "        \n",
              "  <svg xmlns=\"http://www.w3.org/2000/svg\" height=\"24px\"viewBox=\"0 0 24 24\"\n",
              "       width=\"24px\">\n",
              "    <path d=\"M0 0h24v24H0V0z\" fill=\"none\"/>\n",
              "    <path d=\"M18.56 5.44l.94 2.06.94-2.06 2.06-.94-2.06-.94-.94-2.06-.94 2.06-2.06.94zm-11 1L8.5 8.5l.94-2.06 2.06-.94-2.06-.94L8.5 2.5l-.94 2.06-2.06.94zm10 10l.94 2.06.94-2.06 2.06-.94-2.06-.94-.94-2.06-.94 2.06-2.06.94z\"/><path d=\"M17.41 7.96l-1.37-1.37c-.4-.4-.92-.59-1.43-.59-.52 0-1.04.2-1.43.59L10.3 9.45l-7.72 7.72c-.78.78-.78 2.05 0 2.83L4 21.41c.39.39.9.59 1.41.59.51 0 1.02-.2 1.41-.59l7.78-7.78 2.81-2.81c.8-.78.8-2.07 0-2.86zM5.41 20L4 18.59l7.72-7.72 1.47 1.35L5.41 20z\"/>\n",
              "  </svg>\n",
              "      </button>\n",
              "      \n",
              "  <style>\n",
              "    .colab-df-container {\n",
              "      display:flex;\n",
              "      flex-wrap:wrap;\n",
              "      gap: 12px;\n",
              "    }\n",
              "\n",
              "    .colab-df-convert {\n",
              "      background-color: #E8F0FE;\n",
              "      border: none;\n",
              "      border-radius: 50%;\n",
              "      cursor: pointer;\n",
              "      display: none;\n",
              "      fill: #1967D2;\n",
              "      height: 32px;\n",
              "      padding: 0 0 0 0;\n",
              "      width: 32px;\n",
              "    }\n",
              "\n",
              "    .colab-df-convert:hover {\n",
              "      background-color: #E2EBFA;\n",
              "      box-shadow: 0px 1px 2px rgba(60, 64, 67, 0.3), 0px 1px 3px 1px rgba(60, 64, 67, 0.15);\n",
              "      fill: #174EA6;\n",
              "    }\n",
              "\n",
              "    [theme=dark] .colab-df-convert {\n",
              "      background-color: #3B4455;\n",
              "      fill: #D2E3FC;\n",
              "    }\n",
              "\n",
              "    [theme=dark] .colab-df-convert:hover {\n",
              "      background-color: #434B5C;\n",
              "      box-shadow: 0px 1px 3px 1px rgba(0, 0, 0, 0.15);\n",
              "      filter: drop-shadow(0px 1px 2px rgba(0, 0, 0, 0.3));\n",
              "      fill: #FFFFFF;\n",
              "    }\n",
              "  </style>\n",
              "\n",
              "      <script>\n",
              "        const buttonEl =\n",
              "          document.querySelector('#df-ef967093-fd34-4628-9c92-8ef0f04f98b2 button.colab-df-convert');\n",
              "        buttonEl.style.display =\n",
              "          google.colab.kernel.accessAllowed ? 'block' : 'none';\n",
              "\n",
              "        async function convertToInteractive(key) {\n",
              "          const element = document.querySelector('#df-ef967093-fd34-4628-9c92-8ef0f04f98b2');\n",
              "          const dataTable =\n",
              "            await google.colab.kernel.invokeFunction('convertToInteractive',\n",
              "                                                     [key], {});\n",
              "          if (!dataTable) return;\n",
              "\n",
              "          const docLinkHtml = 'Like what you see? Visit the ' +\n",
              "            '<a target=\"_blank\" href=https://colab.research.google.com/notebooks/data_table.ipynb>data table notebook</a>'\n",
              "            + ' to learn more about interactive tables.';\n",
              "          element.innerHTML = '';\n",
              "          dataTable['output_type'] = 'display_data';\n",
              "          await google.colab.output.renderOutput(dataTable, element);\n",
              "          const docLink = document.createElement('div');\n",
              "          docLink.innerHTML = docLinkHtml;\n",
              "          element.appendChild(docLink);\n",
              "        }\n",
              "      </script>\n",
              "    </div>\n",
              "  </div>\n",
              "  "
            ]
          },
          "metadata": {},
          "execution_count": 13
        }
      ]
    },
    {
      "cell_type": "code",
      "source": [
        "# plot number of houses per city\n",
        "f, ax = plt.subplots(figsize=(12, 6))\n",
        "\n",
        "sns.barplot(x='city', y='number_houses', data=houses_city)\n",
        "\n",
        "plt.title('Number of Houses per City', pad=12)\n",
        "\n",
        "plt.show()"
      ],
      "metadata": {
        "colab": {
          "base_uri": "https://localhost:8080/",
          "height": 410
        },
        "id": "VKJWLpLGs5Cw",
        "outputId": "b9c60621-8600-470e-8cb3-cfcf0f960160"
      },
      "execution_count": 14,
      "outputs": [
        {
          "output_type": "display_data",
          "data": {
            "text/plain": [
              "<Figure size 864x432 with 1 Axes>"
            ],
            "image/png": "[encoded data removed]"
          },
          "metadata": {
            "needs_background": "light"
          }
        }
      ]
    },
    {
      "cell_type": "markdown",
      "source": [
        "- As can be seen in the graph and table above more than 80% of the houses are located in Warsaw and Krakow $9851$ and $9764$ respectively.\n",
        "\n",
        "- The avg house price per city is higher in Warsaw which is the capital city of Poland $780,634$ $zloty$ ($167,348$ $euros$), followed by Krakow $593,756$ $zloty$ ($127,286$ $euros$) and by Poznan, the smallest of the three cities, $468,527$ $zloty$ ($100,440$ $euros$)"
      ],
      "metadata": {
        "id": "jZrNrRmR6VF9"
      }
    },
    {
      "cell_type": "markdown",
      "source": [
        "![green-divider](https://user-images.githubusercontent.com/7065401/52071924-c003ad80-2562-11e9-8297-1c6595f8a7ff.png)"
      ],
      "metadata": {
        "id": "T9Bgp0cG8gE7"
      }
    },
    {
      "cell_type": "markdown",
      "source": [
        "### Avg Floors, Rooms and Square Meters per City"
      ],
      "metadata": {
        "id": "tjynAeD78Pu9"
      }
    },
    {
      "cell_type": "code",
      "source": [
        "# function to calculate 'avg_floors', 'avg_rooms', and 'avg_sq_meters'\n",
        "\n",
        "def averages_calc(df):\n",
        "  # dictionary to store calculations\n",
        "  calc = {}\n",
        "  calc['avg_floors'] = df.floor.mean()\n",
        "  calc['avg_rooms'] = df.rooms.mean()\n",
        "  calc['avg_sq_meters'] = df.sq.mean()\n",
        "\n",
        "  # return Series\n",
        "  return pd.Series(calc, index=['avg_floors', 'avg_rooms', 'avg_sq_meters'])"
      ],
      "metadata": {
        "id": "O67jYbxbdZZG"
      },
      "execution_count": 15,
      "outputs": []
    },
    {
      "cell_type": "code",
      "source": [
        "# groupby city & apply function\n",
        "houses_avg_city = df_houses.groupby(['city']).apply(averages_calc).reset_index()\n",
        "\n",
        "houses_avg_city"
      ],
      "metadata": {
        "colab": {
          "base_uri": "https://localhost:8080/",
          "height": 144
        },
        "id": "GBecuz3BeDTF",
        "outputId": "6128cb9e-56fd-434d-9153-45af1d8d63d2"
      },
      "execution_count": 16,
      "outputs": [
        {
          "output_type": "execute_result",
          "data": {
            "text/plain": [
              "       city  avg_floors  avg_rooms  avg_sq_meters\n",
              "0    Kraków    2.540045   2.598730     160.720631\n",
              "1    Poznañ    2.323210   2.657026      61.263203\n",
              "2  Warszawa    3.279566   2.627347      62.704040"
            ],
            "text/html": [
              "\n",
              "  <div id=\"df-56586cfe-79b3-4aba-b838-7d2cd61c03c0\">\n",
              "    <div class=\"colab-df-container\">\n",
              "      <div>\n",
              "<style scoped>\n",
              "    .dataframe tbody tr th:only-of-type {\n",
              "        vertical-align: middle;\n",
              "    }\n",
              "\n",
              "    .dataframe tbody tr th {\n",
              "        vertical-align: top;\n",
              "    }\n",
              "\n",
              "    .dataframe thead th {\n",
              "        text-align: right;\n",
              "    }\n",
              "</style>\n",
              "<table border=\"1\" class=\"dataframe\">\n",
              "  <thead>\n",
              "    <tr style=\"text-align: right;\">\n",
              "      <th></th>\n",
              "      <th>city</th>\n",
              "      <th>avg_floors</th>\n",
              "      <th>avg_rooms</th>\n",
              "      <th>avg_sq_meters</th>\n",
              "    </tr>\n",
              "  </thead>\n",
              "  <tbody>\n",
              "    <tr>\n",
              "      <th>0</th>\n",
              "      <td>Kraków</td>\n",
              "      <td>2.540045</td>\n",
              "      <td>2.598730</td>\n",
              "      <td>160.720631</td>\n",
              "    </tr>\n",
              "    <tr>\n",
              "      <th>1</th>\n",
              "      <td>Poznañ</td>\n",
              "      <td>2.323210</td>\n",
              "      <td>2.657026</td>\n",
              "      <td>61.263203</td>\n",
              "    </tr>\n",
              "    <tr>\n",
              "      <th>2</th>\n",
              "      <td>Warszawa</td>\n",
              "      <td>3.279566</td>\n",
              "      <td>2.627347</td>\n",
              "      <td>62.704040</td>\n",
              "    </tr>\n",
              "  </tbody>\n",
              "</table>\n",
              "</div>\n",
              "      <button class=\"colab-df-convert\" onclick=\"convertToInteractive('df-56586cfe-79b3-4aba-b838-7d2cd61c03c0')\"\n",
              "              title=\"Convert this dataframe to an interactive table.\"\n",
              "              style=\"display:none;\">\n",
              "        \n",
              "  <svg xmlns=\"http://www.w3.org/2000/svg\" height=\"24px\"viewBox=\"0 0 24 24\"\n",
              "       width=\"24px\">\n",
              "    <path d=\"M0 0h24v24H0V0z\" fill=\"none\"/>\n",
              "    <path d=\"M18.56 5.44l.94 2.06.94-2.06 2.06-.94-2.06-.94-.94-2.06-.94 2.06-2.06.94zm-11 1L8.5 8.5l.94-2.06 2.06-.94-2.06-.94L8.5 2.5l-.94 2.06-2.06.94zm10 10l.94 2.06.94-2.06 2.06-.94-2.06-.94-.94-2.06-.94 2.06-2.06.94z\"/><path d=\"M17.41 7.96l-1.37-1.37c-.4-.4-.92-.59-1.43-.59-.52 0-1.04.2-1.43.59L10.3 9.45l-7.72 7.72c-.78.78-.78 2.05 0 2.83L4 21.41c.39.39.9.59 1.41.59.51 0 1.02-.2 1.41-.59l7.78-7.78 2.81-2.81c.8-.78.8-2.07 0-2.86zM5.41 20L4 18.59l7.72-7.72 1.47 1.35L5.41 20z\"/>\n",
              "  </svg>\n",
              "      </button>\n",
              "      \n",
              "  <style>\n",
              "    .colab-df-container {\n",
              "      display:flex;\n",
              "      flex-wrap:wrap;\n",
              "      gap: 12px;\n",
              "    }\n",
              "\n",
              "    .colab-df-convert {\n",
              "      background-color: #E8F0FE;\n",
              "      border: none;\n",
              "      border-radius: 50%;\n",
              "      cursor: pointer;\n",
              "      display: none;\n",
              "      fill: #1967D2;\n",
              "      height: 32px;\n",
              "      padding: 0 0 0 0;\n",
              "      width: 32px;\n",
              "    }\n",
              "\n",
              "    .colab-df-convert:hover {\n",
              "      background-color: #E2EBFA;\n",
              "      box-shadow: 0px 1px 2px rgba(60, 64, 67, 0.3), 0px 1px 3px 1px rgba(60, 64, 67, 0.15);\n",
              "      fill: #174EA6;\n",
              "    }\n",
              "\n",
              "    [theme=dark] .colab-df-convert {\n",
              "      background-color: #3B4455;\n",
              "      fill: #D2E3FC;\n",
              "    }\n",
              "\n",
              "    [theme=dark] .colab-df-convert:hover {\n",
              "      background-color: #434B5C;\n",
              "      box-shadow: 0px 1px 3px 1px rgba(0, 0, 0, 0.15);\n",
              "      filter: drop-shadow(0px 1px 2px rgba(0, 0, 0, 0.3));\n",
              "      fill: #FFFFFF;\n",
              "    }\n",
              "  </style>\n",
              "\n",
              "      <script>\n",
              "        const buttonEl =\n",
              "          document.querySelector('#df-56586cfe-79b3-4aba-b838-7d2cd61c03c0 button.colab-df-convert');\n",
              "        buttonEl.style.display =\n",
              "          google.colab.kernel.accessAllowed ? 'block' : 'none';\n",
              "\n",
              "        async function convertToInteractive(key) {\n",
              "          const element = document.querySelector('#df-56586cfe-79b3-4aba-b838-7d2cd61c03c0');\n",
              "          const dataTable =\n",
              "            await google.colab.kernel.invokeFunction('convertToInteractive',\n",
              "                                                     [key], {});\n",
              "          if (!dataTable) return;\n",
              "\n",
              "          const docLinkHtml = 'Like what you see? Visit the ' +\n",
              "            '<a target=\"_blank\" href=https://colab.research.google.com/notebooks/data_table.ipynb>data table notebook</a>'\n",
              "            + ' to learn more about interactive tables.';\n",
              "          element.innerHTML = '';\n",
              "          dataTable['output_type'] = 'display_data';\n",
              "          await google.colab.output.renderOutput(dataTable, element);\n",
              "          const docLink = document.createElement('div');\n",
              "          docLink.innerHTML = docLinkHtml;\n",
              "          element.appendChild(docLink);\n",
              "        }\n",
              "      </script>\n",
              "    </div>\n",
              "  </div>\n",
              "  "
            ]
          },
          "metadata": {},
          "execution_count": 16
        }
      ]
    },
    {
      "cell_type": "code",
      "source": [
        "# barplot \n",
        "\n",
        "fig = plt.figure(figsize=(25, 4))\n",
        "\n",
        "# avg_floors per city\n",
        "ax = plt.subplot(1, 3, 1)\n",
        "sns.barplot(x='city', y='avg_floors', data=houses_avg_city)\n",
        "plt.title('Avg Houses Floors per City', pad=12)\n",
        "\n",
        "# avg rooms per city\n",
        "ax = plt.subplot(1, 3, 2)\n",
        "sns.barplot(x='city', y='avg_rooms', data=houses_avg_city)\n",
        "plt.title('Avg Houses Rooms per City', pad=12)\n",
        "\n",
        "# avg sq_meters per city\n",
        "ax = plt.subplot(1, 3, 3)\n",
        "sns.barplot(x='city', y='avg_sq_meters', data=houses_avg_city)\n",
        "plt.title('Avg Houses Sq Meters per City', pad=12)\n",
        "\n",
        "\n",
        "plt.show()"
      ],
      "metadata": {
        "colab": {
          "base_uri": "https://localhost:8080/",
          "height": 270
        },
        "id": "TAgVw_NVek8S",
        "outputId": "686738b5-4222-45cc-a30c-ba16de62b372"
      },
      "execution_count": 17,
      "outputs": [
        {
          "output_type": "display_data",
          "data": {
            "text/plain": [
              "<Figure size 1800x288 with 3 Axes>"
            ],
            "image/png": "[encoded data removed]"
          },
          "metadata": {
            "needs_background": "light"
          }
        }
      ]
    },
    {
      "cell_type": "markdown",
      "source": [
        "- As can be seen in the plots and table above the **Avg Floors per Houses** is higher in $Warsaw$ the capital city of Poland with $3$ floors per house. On the other hand $Krakow$ and $Poznan$, both have an avg of $2$ floors per house.\n",
        "\n",
        "- In terms of **Avg Rooms per Houses**, all three cities have on avg $2.5$ rooms per house.\n",
        "\n",
        "- Aditionally, the **Avg Sq Meters per House** are significantly higher in $Krakow$, with an average of $160m^2$ per house, it exceeds in more than double the average of $Warsaw$ and $Poznan$, $62m^2$ and $61m^2$ respectively."
      ],
      "metadata": {
        "id": "Dj7njmWJl1zI"
      }
    },
    {
      "cell_type": "markdown",
      "source": [
        "![green-divider](https://user-images.githubusercontent.com/7065401/52071924-c003ad80-2562-11e9-8297-1c6595f8a7ff.png)"
      ],
      "metadata": {
        "id": "1Ax5U02qfx6z"
      }
    },
    {
      "cell_type": "markdown",
      "source": [
        "### Avg Houses per Year"
      ],
      "metadata": {
        "id": "wJ7Ki3vLf2VN"
      }
    },
    {
      "cell_type": "code",
      "source": [
        "# function that calculates avg_houses & avg_price per year\n",
        "def average_houses(df):\n",
        "  # dictionary to store calculations\n",
        "  calc = {}\n",
        "  calc['avg_houses'] = df.id.count()\n",
        "  calc['avg_price'] = df.price.mean()\n",
        "\n",
        "  # return Series\n",
        "  return pd.Series(calc, index=['avg_houses', 'avg_price'])"
      ],
      "metadata": {
        "id": "X2HjAxEAf6e5"
      },
      "execution_count": 18,
      "outputs": []
    },
    {
      "cell_type": "code",
      "source": [
        "# groupby year and city\n",
        "houses_year = df_houses.groupby(['year', 'city']).apply(average_houses).reset_index()\n",
        "\n",
        "# '%' of houses \n",
        "houses_year['%'] = (houses_year.avg_houses / df_houses.id.count()) * 100\n",
        "\n",
        "houses_year.sort_values(by='avg_houses', ascending=False, inplace=True)\n",
        "\n",
        "# select top 20 years with more houses\n",
        "top_20 = houses_year.head(20)\n",
        "top_20"
      ],
      "metadata": {
        "colab": {
          "base_uri": "https://localhost:8080/",
          "height": 677
        },
        "id": "0htSCqUtgfsC",
        "outputId": "3e9c7372-765b-4884-c1b2-ba8db8df7de5"
      },
      "execution_count": 19,
      "outputs": [
        {
          "output_type": "execute_result",
          "data": {
            "text/plain": [
              "     year      city  avg_houses     avg_price          %\n",
              "387  2021    Kraków      2465.0  5.447005e+05  10.372833\n",
              "384  2020    Kraków      1656.0  5.913433e+05   6.968524\n",
              "390  2022    Kraków      1247.0  5.148134e+05   5.247433\n",
              "389  2021  Warszawa      1243.0  6.887584e+05   5.230601\n",
              "385  2020    Poznañ      1088.0  5.102572e+05   4.578354\n",
              "391  2022    Poznañ       929.0  4.323993e+05   3.909275\n",
              "386  2020  Warszawa       916.0  7.790521e+05   3.854570\n",
              "392  2022  Warszawa       844.0  6.079946e+05   3.551591\n",
              "388  2021    Poznañ       675.0  4.623591e+05   2.840431\n",
              "381  2019    Kraków       341.0  8.314649e+05   1.434944\n",
              "236  1970  Warszawa       320.0  4.886242e+05   1.346575\n",
              "383  2019  Warszawa       296.0  9.776246e+05   1.245582\n",
              "264  1980    Kraków       288.0  4.551873e+05   1.211917\n",
              "234  1970    Kraków       243.0  4.159222e+05   1.022555\n",
              "266  1980  Warszawa       222.0  5.416963e+05   0.934186\n",
              "350  2008  Warszawa       216.0  9.153906e+05   0.908938\n",
              "356  2010  Warszawa       213.0  1.067618e+06   0.896314\n",
              "326  2000  Warszawa       201.0  8.132096e+05   0.845817\n",
              "353  2009  Warszawa       192.0  9.914822e+05   0.807945\n",
              "380  2018  Warszawa       178.0  1.200999e+06   0.749032"
            ],
            "text/html": [
              "\n",
              "  <div id=\"df-ec2e6b14-bcf7-41e3-bad9-2e57bff30bf1\">\n",
              "    <div class=\"colab-df-container\">\n",
              "      <div>\n",
              "<style scoped>\n",
              "    .dataframe tbody tr th:only-of-type {\n",
              "        vertical-align: middle;\n",
              "    }\n",
              "\n",
              "    .dataframe tbody tr th {\n",
              "        vertical-align: top;\n",
              "    }\n",
              "\n",
              "    .dataframe thead th {\n",
              "        text-align: right;\n",
              "    }\n",
              "</style>\n",
              "<table border=\"1\" class=\"dataframe\">\n",
              "  <thead>\n",
              "    <tr style=\"text-align: right;\">\n",
              "      <th></th>\n",
              "      <th>year</th>\n",
              "      <th>city</th>\n",
              "      <th>avg_houses</th>\n",
              "      <th>avg_price</th>\n",
              "      <th>%</th>\n",
              "    </tr>\n",
              "  </thead>\n",
              "  <tbody>\n",
              "    <tr>\n",
              "      <th>387</th>\n",
              "      <td>2021</td>\n",
              "      <td>Kraków</td>\n",
              "      <td>2465.0</td>\n",
              "      <td>5.447005e+05</td>\n",
              "      <td>10.372833</td>\n",
              "    </tr>\n",
              "    <tr>\n",
              "      <th>384</th>\n",
              "      <td>2020</td>\n",
              "      <td>Kraków</td>\n",
              "      <td>1656.0</td>\n",
              "      <td>5.913433e+05</td>\n",
              "      <td>6.968524</td>\n",
              "    </tr>\n",
              "    <tr>\n",
              "      <th>390</th>\n",
              "      <td>2022</td>\n",
              "      <td>Kraków</td>\n",
              "      <td>1247.0</td>\n",
              "      <td>5.148134e+05</td>\n",
              "      <td>5.247433</td>\n",
              "    </tr>\n",
              "    <tr>\n",
              "      <th>389</th>\n",
              "      <td>2021</td>\n",
              "      <td>Warszawa</td>\n",
              "      <td>1243.0</td>\n",
              "      <td>6.887584e+05</td>\n",
              "      <td>5.230601</td>\n",
              "    </tr>\n",
              "    <tr>\n",
              "      <th>385</th>\n",
              "      <td>2020</td>\n",
              "      <td>Poznañ</td>\n",
              "      <td>1088.0</td>\n",
              "      <td>5.102572e+05</td>\n",
              "      <td>4.578354</td>\n",
              "    </tr>\n",
              "    <tr>\n",
              "      <th>391</th>\n",
              "      <td>2022</td>\n",
              "      <td>Poznañ</td>\n",
              "      <td>929.0</td>\n",
              "      <td>4.323993e+05</td>\n",
              "      <td>3.909275</td>\n",
              "    </tr>\n",
              "    <tr>\n",
              "      <th>386</th>\n",
              "      <td>2020</td>\n",
              "      <td>Warszawa</td>\n",
              "      <td>916.0</td>\n",
              "      <td>7.790521e+05</td>\n",
              "      <td>3.854570</td>\n",
              "    </tr>\n",
              "    <tr>\n",
              "      <th>392</th>\n",
              "      <td>2022</td>\n",
              "      <td>Warszawa</td>\n",
              "      <td>844.0</td>\n",
              "      <td>6.079946e+05</td>\n",
              "      <td>3.551591</td>\n",
              "    </tr>\n",
              "    <tr>\n",
              "      <th>388</th>\n",
              "      <td>2021</td>\n",
              "      <td>Poznañ</td>\n",
              "      <td>675.0</td>\n",
              "      <td>4.623591e+05</td>\n",
              "      <td>2.840431</td>\n",
              "    </tr>\n",
              "    <tr>\n",
              "      <th>381</th>\n",
              "      <td>2019</td>\n",
              "      <td>Kraków</td>\n",
              "      <td>341.0</td>\n",
              "      <td>8.314649e+05</td>\n",
              "      <td>1.434944</td>\n",
              "    </tr>\n",
              "    <tr>\n",
              "      <th>236</th>\n",
              "      <td>1970</td>\n",
              "      <td>Warszawa</td>\n",
              "      <td>320.0</td>\n",
              "      <td>4.886242e+05</td>\n",
              "      <td>1.346575</td>\n",
              "    </tr>\n",
              "    <tr>\n",
              "      <th>383</th>\n",
              "      <td>2019</td>\n",
              "      <td>Warszawa</td>\n",
              "      <td>296.0</td>\n",
              "      <td>9.776246e+05</td>\n",
              "      <td>1.245582</td>\n",
              "    </tr>\n",
              "    <tr>\n",
              "      <th>264</th>\n",
              "      <td>1980</td>\n",
              "      <td>Kraków</td>\n",
              "      <td>288.0</td>\n",
              "      <td>4.551873e+05</td>\n",
              "      <td>1.211917</td>\n",
              "    </tr>\n",
              "    <tr>\n",
              "      <th>234</th>\n",
              "      <td>1970</td>\n",
              "      <td>Kraków</td>\n",
              "      <td>243.0</td>\n",
              "      <td>4.159222e+05</td>\n",
              "      <td>1.022555</td>\n",
              "    </tr>\n",
              "    <tr>\n",
              "      <th>266</th>\n",
              "      <td>1980</td>\n",
              "      <td>Warszawa</td>\n",
              "      <td>222.0</td>\n",
              "      <td>5.416963e+05</td>\n",
              "      <td>0.934186</td>\n",
              "    </tr>\n",
              "    <tr>\n",
              "      <th>350</th>\n",
              "      <td>2008</td>\n",
              "      <td>Warszawa</td>\n",
              "      <td>216.0</td>\n",
              "      <td>9.153906e+05</td>\n",
              "      <td>0.908938</td>\n",
              "    </tr>\n",
              "    <tr>\n",
              "      <th>356</th>\n",
              "      <td>2010</td>\n",
              "      <td>Warszawa</td>\n",
              "      <td>213.0</td>\n",
              "      <td>1.067618e+06</td>\n",
              "      <td>0.896314</td>\n",
              "    </tr>\n",
              "    <tr>\n",
              "      <th>326</th>\n",
              "      <td>2000</td>\n",
              "      <td>Warszawa</td>\n",
              "      <td>201.0</td>\n",
              "      <td>8.132096e+05</td>\n",
              "      <td>0.845817</td>\n",
              "    </tr>\n",
              "    <tr>\n",
              "      <th>353</th>\n",
              "      <td>2009</td>\n",
              "      <td>Warszawa</td>\n",
              "      <td>192.0</td>\n",
              "      <td>9.914822e+05</td>\n",
              "      <td>0.807945</td>\n",
              "    </tr>\n",
              "    <tr>\n",
              "      <th>380</th>\n",
              "      <td>2018</td>\n",
              "      <td>Warszawa</td>\n",
              "      <td>178.0</td>\n",
              "      <td>1.200999e+06</td>\n",
              "      <td>0.749032</td>\n",
              "    </tr>\n",
              "  </tbody>\n",
              "</table>\n",
              "</div>\n",
              "      <button class=\"colab-df-convert\" onclick=\"convertToInteractive('df-ec2e6b14-bcf7-41e3-bad9-2e57bff30bf1')\"\n",
              "              title=\"Convert this dataframe to an interactive table.\"\n",
              "              style=\"display:none;\">\n",
              "        \n",
              "  <svg xmlns=\"http://www.w3.org/2000/svg\" height=\"24px\"viewBox=\"0 0 24 24\"\n",
              "       width=\"24px\">\n",
              "    <path d=\"M0 0h24v24H0V0z\" fill=\"none\"/>\n",
              "    <path d=\"M18.56 5.44l.94 2.06.94-2.06 2.06-.94-2.06-.94-.94-2.06-.94 2.06-2.06.94zm-11 1L8.5 8.5l.94-2.06 2.06-.94-2.06-.94L8.5 2.5l-.94 2.06-2.06.94zm10 10l.94 2.06.94-2.06 2.06-.94-2.06-.94-.94-2.06-.94 2.06-2.06.94z\"/><path d=\"M17.41 7.96l-1.37-1.37c-.4-.4-.92-.59-1.43-.59-.52 0-1.04.2-1.43.59L10.3 9.45l-7.72 7.72c-.78.78-.78 2.05 0 2.83L4 21.41c.39.39.9.59 1.41.59.51 0 1.02-.2 1.41-.59l7.78-7.78 2.81-2.81c.8-.78.8-2.07 0-2.86zM5.41 20L4 18.59l7.72-7.72 1.47 1.35L5.41 20z\"/>\n",
              "  </svg>\n",
              "      </button>\n",
              "      \n",
              "  <style>\n",
              "    .colab-df-container {\n",
              "      display:flex;\n",
              "      flex-wrap:wrap;\n",
              "      gap: 12px;\n",
              "    }\n",
              "\n",
              "    .colab-df-convert {\n",
              "      background-color: #E8F0FE;\n",
              "      border: none;\n",
              "      border-radius: 50%;\n",
              "      cursor: pointer;\n",
              "      display: none;\n",
              "      fill: #1967D2;\n",
              "      height: 32px;\n",
              "      padding: 0 0 0 0;\n",
              "      width: 32px;\n",
              "    }\n",
              "\n",
              "    .colab-df-convert:hover {\n",
              "      background-color: #E2EBFA;\n",
              "      box-shadow: 0px 1px 2px rgba(60, 64, 67, 0.3), 0px 1px 3px 1px rgba(60, 64, 67, 0.15);\n",
              "      fill: #174EA6;\n",
              "    }\n",
              "\n",
              "    [theme=dark] .colab-df-convert {\n",
              "      background-color: #3B4455;\n",
              "      fill: #D2E3FC;\n",
              "    }\n",
              "\n",
              "    [theme=dark] .colab-df-convert:hover {\n",
              "      background-color: #434B5C;\n",
              "      box-shadow: 0px 1px 3px 1px rgba(0, 0, 0, 0.15);\n",
              "      filter: drop-shadow(0px 1px 2px rgba(0, 0, 0, 0.3));\n",
              "      fill: #FFFFFF;\n",
              "    }\n",
              "  </style>\n",
              "\n",
              "      <script>\n",
              "        const buttonEl =\n",
              "          document.querySelector('#df-ec2e6b14-bcf7-41e3-bad9-2e57bff30bf1 button.colab-df-convert');\n",
              "        buttonEl.style.display =\n",
              "          google.colab.kernel.accessAllowed ? 'block' : 'none';\n",
              "\n",
              "        async function convertToInteractive(key) {\n",
              "          const element = document.querySelector('#df-ec2e6b14-bcf7-41e3-bad9-2e57bff30bf1');\n",
              "          const dataTable =\n",
              "            await google.colab.kernel.invokeFunction('convertToInteractive',\n",
              "                                                     [key], {});\n",
              "          if (!dataTable) return;\n",
              "\n",
              "          const docLinkHtml = 'Like what you see? Visit the ' +\n",
              "            '<a target=\"_blank\" href=https://colab.research.google.com/notebooks/data_table.ipynb>data table notebook</a>'\n",
              "            + ' to learn more about interactive tables.';\n",
              "          element.innerHTML = '';\n",
              "          dataTable['output_type'] = 'display_data';\n",
              "          await google.colab.output.renderOutput(dataTable, element);\n",
              "          const docLink = document.createElement('div');\n",
              "          docLink.innerHTML = docLinkHtml;\n",
              "          element.appendChild(docLink);\n",
              "        }\n",
              "      </script>\n",
              "    </div>\n",
              "  </div>\n",
              "  "
            ]
          },
          "metadata": {},
          "execution_count": 19
        }
      ]
    },
    {
      "cell_type": "code",
      "source": [
        "# lineplot\n",
        "fig = plt.figure(figsize=(25, 6))\n",
        "\n",
        "# lineplot year - avg houses\n",
        "ax = plt.subplot(1, 2, 1)\n",
        "sns.lineplot(x='year', y='avg_houses', data=top_20, hue='city')\n",
        "plt.title('Avg Houses by Year', pad=12)\n",
        "\n",
        "# lineplot year - avg house price\n",
        "ax = plt.subplot(1, 2, 2)\n",
        "sns.lineplot(x='year', y='avg_price', data=top_20, hue='city')\n",
        "# set y_ticks\n",
        "ax.set_yticklabels(['0', '400,000', '500,000', '600,000', '700,000', '800,000', '900,000',\n",
        "                   '1,000,000', '1,100,000', '1,200,000'])\n",
        "\n",
        "plt.title('Avg Price of Houses by Year', pad=12)\n",
        "\n",
        "\n",
        "plt.show()"
      ],
      "metadata": {
        "colab": {
          "base_uri": "https://localhost:8080/",
          "height": 364
        },
        "id": "sRrby5Fhh7cv",
        "outputId": "8f224bf1-7585-4ba7-d083-2bdbf334dd3c"
      },
      "execution_count": 20,
      "outputs": [
        {
          "output_type": "display_data",
          "data": {
            "text/plain": [
              "<Figure size 1800x432 with 2 Axes>"
            ],
            "image/png": "[encoded data removed]"
          },
          "metadata": {
            "needs_background": "light"
          }
        }
      ]
    },
    {
      "cell_type": "markdown",
      "source": [
        "- As can be seen in the lineplot **Avg Houses by Year** there has been a significant increase in the avg number of houses after 2019. The biggest raise corresponds to the city of $Krakow$ which from 2019 to 2020 had a raise of $385$%, $1315$ more houses for sale.\n",
        "\n",
        "- On the other hand, the lineplot **Avg Price of Houses by Year** shows the average trend of house prices in $Krakow$, $Warsaw$ and $Poznan$ from 1970 to 2022. Even though, average house prices have been increasing throught the years, there has been a significant reduction in the average house price in the three cities after they achieve their highest price in 2018 - 2019."
      ],
      "metadata": {
        "id": "ktaGFl-s9jWY"
      }
    },
    {
      "cell_type": "markdown",
      "source": [
        "![purple-divider](https://user-images.githubusercontent.com/7065401/52071927-c1cd7100-2562-11e9-908a-dde91ba14e59.png)"
      ],
      "metadata": {
        "id": "hGVGnaWNmsZz"
      }
    },
    {
      "cell_type": "markdown",
      "source": [
        "## Floors & Rooms Distribution"
      ],
      "metadata": {
        "id": "wLbnKXbg_wAj"
      }
    },
    {
      "cell_type": "code",
      "source": [
        "# number of houses by floors\n",
        "df_houses['floor'].value_counts()"
      ],
      "metadata": {
        "colab": {
          "base_uri": "https://localhost:8080/"
        },
        "id": "lJ_APC1JD6M9",
        "outputId": "5b52c60d-7f1d-4e03-878f-c69a067c8ae0"
      },
      "execution_count": 21,
      "outputs": [
        {
          "output_type": "execute_result",
          "data": {
            "text/plain": [
              "1     4971\n",
              "2     4009\n",
              "0     3750\n",
              "3     3648\n",
              "4     2752\n",
              "5     1536\n",
              "6      934\n",
              "10     746\n",
              "7      616\n",
              "8      468\n",
              "9      334\n",
              "Name: floor, dtype: int64"
            ]
          },
          "metadata": {},
          "execution_count": 21
        }
      ]
    },
    {
      "cell_type": "markdown",
      "source": [
        "- $80$% of the houses have 4 floors or less. Houses with more than 4 floors are already buildings so they aren't going to be taken into consideration. "
      ],
      "metadata": {
        "id": "cXYwiGSwElvJ"
      }
    },
    {
      "cell_type": "code",
      "source": [
        "# number of houses by number of rooms\n",
        "df_houses['rooms'].value_counts()"
      ],
      "metadata": {
        "colab": {
          "base_uri": "https://localhost:8080/"
        },
        "id": "GsUks8ybFVBG",
        "outputId": "742c16d2-3e59-409b-c262-84785bd195cc"
      },
      "execution_count": 22,
      "outputs": [
        {
          "output_type": "execute_result",
          "data": {
            "text/plain": [
              "2     8806\n",
              "3     8437\n",
              "4     3109\n",
              "1     2595\n",
              "5      644\n",
              "6      136\n",
              "7       23\n",
              "10       8\n",
              "8        5\n",
              "9        1\n",
              "Name: rooms, dtype: int64"
            ]
          },
          "metadata": {},
          "execution_count": 22
        }
      ]
    },
    {
      "cell_type": "markdown",
      "source": [
        "- $96$% of the houses have 4 rooms or less. Houses with more than 4 rooms are not going to be taken into account since they could be potential outliers that could affect the accuracy of the model"
      ],
      "metadata": {
        "id": "vJxzQNvMFe0c"
      }
    },
    {
      "cell_type": "code",
      "source": [
        "# filter df <= 4  floors\n",
        "df_houses = df_houses[df_houses['floor'] <= 4]\n",
        "\n",
        "# filter df <= 4 rooms\n",
        "df_houses = df_houses[df_houses['rooms'] <= 4]\n",
        "\n",
        "df_houses"
      ],
      "metadata": {
        "colab": {
          "base_uri": "https://localhost:8080/",
          "height": 424
        },
        "id": "wHpjAYsWGD-i",
        "outputId": "c5890995-5966-411d-b9f6-d90423145824"
      },
      "execution_count": 23,
      "outputs": [
        {
          "output_type": "execute_result",
          "data": {
            "text/plain": [
              "                                        address      city  floor       id  \\\n",
              "0      Podgórze Zab³ocie Stanis³awa Klimeckiego    Kraków      2  23918.0   \n",
              "1                     Praga-Po³udnie Grochowska  Warszawa      3  17828.0   \n",
              "2                       Krowodrza Czarnowiejska    Kraków      2  22784.0   \n",
              "5                Nowa Huta Czy¿yny ul. Woniców    Kraków      2  26071.0   \n",
              "6                  Podgórze P³aszów Koszykarska    Kraków      0  22569.0   \n",
              "...                                         ...       ...    ...      ...   \n",
              "23758              Nowe Miasto Rataje Wagrowska    Poznañ      3   4516.0   \n",
              "23759                   Stare Miasto Naramowice    Poznañ      0   3976.0   \n",
              "23760                                    W³ochy  Warszawa      4  10206.0   \n",
              "23761           Nowe Miasto Malta ul. Katowicka    Poznañ      0   4952.0   \n",
              "23763                                   Ursynów  Warszawa      2  10889.0   \n",
              "\n",
              "          latitude               longitude     price  rooms     sq  year  \n",
              "0      500.492.242             199.703.793  749000.0      3  74.05  2021  \n",
              "1      522.497.745             211.068.857  240548.0      1  24.38  2021  \n",
              "2      500.669.642             199.200.249  427000.0      2  37.00  1970  \n",
              "5      500.469.432  19.997.153.435.836.600  414600.0      1  34.55  2022  \n",
              "6      500.498.929             199.906.026  750000.0      4  81.40  2021  \n",
              "...            ...                     ...       ...    ...    ...   ...  \n",
              "23758  523.789.966             169.442.442  294021.0      2  35.23  2022  \n",
              "23759  524.496.489             169.494.082  543000.0      4  77.00  2020  \n",
              "23760  521.861.093             209.484.377  910000.0      3  71.00  2017  \n",
              "23761  523.973.449             169.619.394  430695.0      3  50.67  2022  \n",
              "23763   52.141.039             210.323.214  604800.0      3  63.00  1978  \n",
              "\n",
              "[18470 rows x 10 columns]"
            ],
            "text/html": [
              "\n",
              "  <div id=\"df-e1e989c5-0c6e-42e8-920c-fc73d0b9a109\">\n",
              "    <div class=\"colab-df-container\">\n",
              "      <div>\n",
              "<style scoped>\n",
              "    .dataframe tbody tr th:only-of-type {\n",
              "        vertical-align: middle;\n",
              "    }\n",
              "\n",
              "    .dataframe tbody tr th {\n",
              "        vertical-align: top;\n",
              "    }\n",
              "\n",
              "    .dataframe thead th {\n",
              "        text-align: right;\n",
              "    }\n",
              "</style>\n",
              "<table border=\"1\" class=\"dataframe\">\n",
              "  <thead>\n",
              "    <tr style=\"text-align: right;\">\n",
              "      <th></th>\n",
              "      <th>address</th>\n",
              "      <th>city</th>\n",
              "      <th>floor</th>\n",
              "      <th>id</th>\n",
              "      <th>latitude</th>\n",
              "      <th>longitude</th>\n",
              "      <th>price</th>\n",
              "      <th>rooms</th>\n",
              "      <th>sq</th>\n",
              "      <th>year</th>\n",
              "    </tr>\n",
              "  </thead>\n",
              "  <tbody>\n",
              "    <tr>\n",
              "      <th>0</th>\n",
              "      <td>Podgórze Zab³ocie Stanis³awa Klimeckiego</td>\n",
              "      <td>Kraków</td>\n",
              "      <td>2</td>\n",
              "      <td>23918.0</td>\n",
              "      <td>500.492.242</td>\n",
              "      <td>199.703.793</td>\n",
              "      <td>749000.0</td>\n",
              "      <td>3</td>\n",
              "      <td>74.05</td>\n",
              "      <td>2021</td>\n",
              "    </tr>\n",
              "    <tr>\n",
              "      <th>1</th>\n",
              "      <td>Praga-Po³udnie Grochowska</td>\n",
              "      <td>Warszawa</td>\n",
              "      <td>3</td>\n",
              "      <td>17828.0</td>\n",
              "      <td>522.497.745</td>\n",
              "      <td>211.068.857</td>\n",
              "      <td>240548.0</td>\n",
              "      <td>1</td>\n",
              "      <td>24.38</td>\n",
              "      <td>2021</td>\n",
              "    </tr>\n",
              "    <tr>\n",
              "      <th>2</th>\n",
              "      <td>Krowodrza Czarnowiejska</td>\n",
              "      <td>Kraków</td>\n",
              "      <td>2</td>\n",
              "      <td>22784.0</td>\n",
              "      <td>500.669.642</td>\n",
              "      <td>199.200.249</td>\n",
              "      <td>427000.0</td>\n",
              "      <td>2</td>\n",
              "      <td>37.00</td>\n",
              "      <td>1970</td>\n",
              "    </tr>\n",
              "    <tr>\n",
              "      <th>5</th>\n",
              "      <td>Nowa Huta Czy¿yny ul. Woniców</td>\n",
              "      <td>Kraków</td>\n",
              "      <td>2</td>\n",
              "      <td>26071.0</td>\n",
              "      <td>500.469.432</td>\n",
              "      <td>19.997.153.435.836.600</td>\n",
              "      <td>414600.0</td>\n",
              "      <td>1</td>\n",
              "      <td>34.55</td>\n",
              "      <td>2022</td>\n",
              "    </tr>\n",
              "    <tr>\n",
              "      <th>6</th>\n",
              "      <td>Podgórze P³aszów Koszykarska</td>\n",
              "      <td>Kraków</td>\n",
              "      <td>0</td>\n",
              "      <td>22569.0</td>\n",
              "      <td>500.498.929</td>\n",
              "      <td>199.906.026</td>\n",
              "      <td>750000.0</td>\n",
              "      <td>4</td>\n",
              "      <td>81.40</td>\n",
              "      <td>2021</td>\n",
              "    </tr>\n",
              "    <tr>\n",
              "      <th>...</th>\n",
              "      <td>...</td>\n",
              "      <td>...</td>\n",
              "      <td>...</td>\n",
              "      <td>...</td>\n",
              "      <td>...</td>\n",
              "      <td>...</td>\n",
              "      <td>...</td>\n",
              "      <td>...</td>\n",
              "      <td>...</td>\n",
              "      <td>...</td>\n",
              "    </tr>\n",
              "    <tr>\n",
              "      <th>23758</th>\n",
              "      <td>Nowe Miasto Rataje Wagrowska</td>\n",
              "      <td>Poznañ</td>\n",
              "      <td>3</td>\n",
              "      <td>4516.0</td>\n",
              "      <td>523.789.966</td>\n",
              "      <td>169.442.442</td>\n",
              "      <td>294021.0</td>\n",
              "      <td>2</td>\n",
              "      <td>35.23</td>\n",
              "      <td>2022</td>\n",
              "    </tr>\n",
              "    <tr>\n",
              "      <th>23759</th>\n",
              "      <td>Stare Miasto Naramowice</td>\n",
              "      <td>Poznañ</td>\n",
              "      <td>0</td>\n",
              "      <td>3976.0</td>\n",
              "      <td>524.496.489</td>\n",
              "      <td>169.494.082</td>\n",
              "      <td>543000.0</td>\n",
              "      <td>4</td>\n",
              "      <td>77.00</td>\n",
              "      <td>2020</td>\n",
              "    </tr>\n",
              "    <tr>\n",
              "      <th>23760</th>\n",
              "      <td>W³ochy</td>\n",
              "      <td>Warszawa</td>\n",
              "      <td>4</td>\n",
              "      <td>10206.0</td>\n",
              "      <td>521.861.093</td>\n",
              "      <td>209.484.377</td>\n",
              "      <td>910000.0</td>\n",
              "      <td>3</td>\n",
              "      <td>71.00</td>\n",
              "      <td>2017</td>\n",
              "    </tr>\n",
              "    <tr>\n",
              "      <th>23761</th>\n",
              "      <td>Nowe Miasto Malta ul. Katowicka</td>\n",
              "      <td>Poznañ</td>\n",
              "      <td>0</td>\n",
              "      <td>4952.0</td>\n",
              "      <td>523.973.449</td>\n",
              "      <td>169.619.394</td>\n",
              "      <td>430695.0</td>\n",
              "      <td>3</td>\n",
              "      <td>50.67</td>\n",
              "      <td>2022</td>\n",
              "    </tr>\n",
              "    <tr>\n",
              "      <th>23763</th>\n",
              "      <td>Ursynów</td>\n",
              "      <td>Warszawa</td>\n",
              "      <td>2</td>\n",
              "      <td>10889.0</td>\n",
              "      <td>52.141.039</td>\n",
              "      <td>210.323.214</td>\n",
              "      <td>604800.0</td>\n",
              "      <td>3</td>\n",
              "      <td>63.00</td>\n",
              "      <td>1978</td>\n",
              "    </tr>\n",
              "  </tbody>\n",
              "</table>\n",
              "<p>18470 rows × 10 columns</p>\n",
              "</div>\n",
              "      <button class=\"colab-df-convert\" onclick=\"convertToInteractive('df-e1e989c5-0c6e-42e8-920c-fc73d0b9a109')\"\n",
              "              title=\"Convert this dataframe to an interactive table.\"\n",
              "              style=\"display:none;\">\n",
              "        \n",
              "  <svg xmlns=\"http://www.w3.org/2000/svg\" height=\"24px\"viewBox=\"0 0 24 24\"\n",
              "       width=\"24px\">\n",
              "    <path d=\"M0 0h24v24H0V0z\" fill=\"none\"/>\n",
              "    <path d=\"M18.56 5.44l.94 2.06.94-2.06 2.06-.94-2.06-.94-.94-2.06-.94 2.06-2.06.94zm-11 1L8.5 8.5l.94-2.06 2.06-.94-2.06-.94L8.5 2.5l-.94 2.06-2.06.94zm10 10l.94 2.06.94-2.06 2.06-.94-2.06-.94-.94-2.06-.94 2.06-2.06.94z\"/><path d=\"M17.41 7.96l-1.37-1.37c-.4-.4-.92-.59-1.43-.59-.52 0-1.04.2-1.43.59L10.3 9.45l-7.72 7.72c-.78.78-.78 2.05 0 2.83L4 21.41c.39.39.9.59 1.41.59.51 0 1.02-.2 1.41-.59l7.78-7.78 2.81-2.81c.8-.78.8-2.07 0-2.86zM5.41 20L4 18.59l7.72-7.72 1.47 1.35L5.41 20z\"/>\n",
              "  </svg>\n",
              "      </button>\n",
              "      \n",
              "  <style>\n",
              "    .colab-df-container {\n",
              "      display:flex;\n",
              "      flex-wrap:wrap;\n",
              "      gap: 12px;\n",
              "    }\n",
              "\n",
              "    .colab-df-convert {\n",
              "      background-color: #E8F0FE;\n",
              "      border: none;\n",
              "      border-radius: 50%;\n",
              "      cursor: pointer;\n",
              "      display: none;\n",
              "      fill: #1967D2;\n",
              "      height: 32px;\n",
              "      padding: 0 0 0 0;\n",
              "      width: 32px;\n",
              "    }\n",
              "\n",
              "    .colab-df-convert:hover {\n",
              "      background-color: #E2EBFA;\n",
              "      box-shadow: 0px 1px 2px rgba(60, 64, 67, 0.3), 0px 1px 3px 1px rgba(60, 64, 67, 0.15);\n",
              "      fill: #174EA6;\n",
              "    }\n",
              "\n",
              "    [theme=dark] .colab-df-convert {\n",
              "      background-color: #3B4455;\n",
              "      fill: #D2E3FC;\n",
              "    }\n",
              "\n",
              "    [theme=dark] .colab-df-convert:hover {\n",
              "      background-color: #434B5C;\n",
              "      box-shadow: 0px 1px 3px 1px rgba(0, 0, 0, 0.15);\n",
              "      filter: drop-shadow(0px 1px 2px rgba(0, 0, 0, 0.3));\n",
              "      fill: #FFFFFF;\n",
              "    }\n",
              "  </style>\n",
              "\n",
              "      <script>\n",
              "        const buttonEl =\n",
              "          document.querySelector('#df-e1e989c5-0c6e-42e8-920c-fc73d0b9a109 button.colab-df-convert');\n",
              "        buttonEl.style.display =\n",
              "          google.colab.kernel.accessAllowed ? 'block' : 'none';\n",
              "\n",
              "        async function convertToInteractive(key) {\n",
              "          const element = document.querySelector('#df-e1e989c5-0c6e-42e8-920c-fc73d0b9a109');\n",
              "          const dataTable =\n",
              "            await google.colab.kernel.invokeFunction('convertToInteractive',\n",
              "                                                     [key], {});\n",
              "          if (!dataTable) return;\n",
              "\n",
              "          const docLinkHtml = 'Like what you see? Visit the ' +\n",
              "            '<a target=\"_blank\" href=https://colab.research.google.com/notebooks/data_table.ipynb>data table notebook</a>'\n",
              "            + ' to learn more about interactive tables.';\n",
              "          element.innerHTML = '';\n",
              "          dataTable['output_type'] = 'display_data';\n",
              "          await google.colab.output.renderOutput(dataTable, element);\n",
              "          const docLink = document.createElement('div');\n",
              "          docLink.innerHTML = docLinkHtml;\n",
              "          element.appendChild(docLink);\n",
              "        }\n",
              "      </script>\n",
              "    </div>\n",
              "  </div>\n",
              "  "
            ]
          },
          "metadata": {},
          "execution_count": 23
        }
      ]
    },
    {
      "cell_type": "code",
      "source": [
        "# features list\n",
        "features = ['floor', 'rooms']\n",
        "\n",
        "# plot counter\n",
        "counter = 1\n",
        "\n",
        "fig = plt.figure(figsize=(25, 20))\n",
        "# plot histogram for each feature\n",
        "for el in features:\n",
        "  ax = plt.subplot(3, 2, counter)\n",
        "\n",
        "  # histogram\n",
        "  plt.hist(x=df_houses[el], alpha=0.5, bins=4)\n",
        "  # mean\n",
        "  plt.axvline(x=df_houses[el].mean(), color='crimson', linestyle='dashed', linewidth=2, label='Mean')\n",
        "  # median\n",
        "  plt.axvline(x=df_houses[el].median(), color='green', linestyle='dashed', linewidth=2, label='Median')\n",
        "\n",
        "  print(f'{el} Mean: {df_houses[el].mean()}')\n",
        "  print(f'{el} Median: {df_houses[el].median()}')\n",
        "  print(f'{el} Skewness: {df_houses[el].skew()}', '\\n')\n",
        "\n",
        "  plt.legend()\n",
        "  plt.title(f'{el} Distribution', pad=12)\n",
        "\n",
        "  counter += 1\n",
        "\n",
        "plt.show()\n",
        "\n",
        "\n"
      ],
      "metadata": {
        "colab": {
          "base_uri": "https://localhost:8080/",
          "height": 498
        },
        "id": "8rZrxMpIinc0",
        "outputId": "825397c3-61d6-4911-abc1-c55d84b15668"
      },
      "execution_count": 24,
      "outputs": [
        {
          "output_type": "stream",
          "name": "stdout",
          "text": [
            "floor Mean: 1.825554953979426\n",
            "floor Median: 2.0\n",
            "floor Skewness: 0.18329430887205117 \n",
            "\n",
            "rooms Mean: 2.5220898754737413\n",
            "rooms Median: 3.0\n",
            "rooms Skewness: 0.0337789487777992 \n",
            "\n"
          ]
        },
        {
          "output_type": "display_data",
          "data": {
            "text/plain": [
              "<Figure size 1800x1440 with 2 Axes>"
            ],
            "image/png": "[encoded data removed]"
          },
          "metadata": {
            "needs_background": "light"
          }
        }
      ]
    },
    {
      "cell_type": "markdown",
      "source": [
        "![purple-divider](https://user-images.githubusercontent.com/7065401/52071927-c1cd7100-2562-11e9-908a-dde91ba14e59.png)"
      ],
      "metadata": {
        "id": "zfrvcXVjstOM"
      }
    },
    {
      "cell_type": "markdown",
      "source": [
        "## Square Meters Distribution"
      ],
      "metadata": {
        "id": "seutS8c3ICyr"
      }
    },
    {
      "cell_type": "code",
      "source": [
        "# number of houses > 150 m^2\n",
        "df_houses[df_houses['sq'] > 150]"
      ],
      "metadata": {
        "colab": {
          "base_uri": "https://localhost:8080/",
          "height": 424
        },
        "id": "7MweHl2AIFZd",
        "outputId": "aee053ea-e82c-4785-ef98-2f4c32e644f2"
      },
      "execution_count": 25,
      "outputs": [
        {
          "output_type": "execute_result",
          "data": {
            "text/plain": [
              "                                          address      city  floor       id  \\\n",
              "179             Pr¹dnik Czerwony Marka Eminowicza    Kraków      1  25162.0   \n",
              "332                             Wilanów Urodzajna  Warszawa      1   6436.0   \n",
              "461                    Zwierzyniec Wola Justowska    Kraków      0  29440.0   \n",
              "686                      Mokotów Bia³ej Koniczyny  Warszawa      0   9361.0   \n",
              "943                         Wilanów ul. Janczarów  Warszawa      0   6654.0   \n",
              "...                                           ...       ...    ...      ...   \n",
              "22082                                Stare Miasto    Kraków      1  29311.0   \n",
              "22390  Zwierzyniec Pó³wsie Zwierzynieckie Junacka    Kraków      0  30287.0   \n",
              "23160                Stare Miasto pl. Na Groblach    Kraków      4  30307.0   \n",
              "23255                              Je¿yce Zacisze    Poznañ      3   3833.0   \n",
              "23512                      Stare Miasto Winogrady    Poznañ      2   4538.0   \n",
              "\n",
              "          latitude              longitude      price  rooms      sq  year  \n",
              "179    500.868.616            199.696.987  1045000.0      4  200.00  1984  \n",
              "332    521.692.344            210.789.978  2800000.0      4  178.80  2005  \n",
              "461    500.650.619             19.877.649  1104000.0      4  175.00  2014  \n",
              "686    521.842.458             21.042.709  2715606.0      4  168.00  2021  \n",
              "943    522.319.581            210.067.249  2400000.0      4  204.50  2010  \n",
              "...            ...                    ...        ...    ...     ...   ...  \n",
              "22082  500.590.398  1.993.716.829.792.890  4998000.0      4  178.50  2013  \n",
              "22390  500.667.032            198.488.749  1164744.0      4  184.88  2015  \n",
              "23160  500.561.004            199.320.048  5000000.0      4  170.00  2013  \n",
              "23255   52.412.666            169.143.664   869000.0      4  158.78  1903  \n",
              "23512  524.348.647            169.383.531  1100000.0      4  179.00  2020  \n",
              "\n",
              "[104 rows x 10 columns]"
            ],
            "text/html": [
              "\n",
              "  <div id=\"df-662b3df6-e2e6-4f47-bf84-1b7f4e02125d\">\n",
              "    <div class=\"colab-df-container\">\n",
              "      <div>\n",
              "<style scoped>\n",
              "    .dataframe tbody tr th:only-of-type {\n",
              "        vertical-align: middle;\n",
              "    }\n",
              "\n",
              "    .dataframe tbody tr th {\n",
              "        vertical-align: top;\n",
              "    }\n",
              "\n",
              "    .dataframe thead th {\n",
              "        text-align: right;\n",
              "    }\n",
              "</style>\n",
              "<table border=\"1\" class=\"dataframe\">\n",
              "  <thead>\n",
              "    <tr style=\"text-align: right;\">\n",
              "      <th></th>\n",
              "      <th>address</th>\n",
              "      <th>city</th>\n",
              "      <th>floor</th>\n",
              "      <th>id</th>\n",
              "      <th>latitude</th>\n",
              "      <th>longitude</th>\n",
              "      <th>price</th>\n",
              "      <th>rooms</th>\n",
              "      <th>sq</th>\n",
              "      <th>year</th>\n",
              "    </tr>\n",
              "  </thead>\n",
              "  <tbody>\n",
              "    <tr>\n",
              "      <th>179</th>\n",
              "      <td>Pr¹dnik Czerwony Marka Eminowicza</td>\n",
              "      <td>Kraków</td>\n",
              "      <td>1</td>\n",
              "      <td>25162.0</td>\n",
              "      <td>500.868.616</td>\n",
              "      <td>199.696.987</td>\n",
              "      <td>1045000.0</td>\n",
              "      <td>4</td>\n",
              "      <td>200.00</td>\n",
              "      <td>1984</td>\n",
              "    </tr>\n",
              "    <tr>\n",
              "      <th>332</th>\n",
              "      <td>Wilanów Urodzajna</td>\n",
              "      <td>Warszawa</td>\n",
              "      <td>1</td>\n",
              "      <td>6436.0</td>\n",
              "      <td>521.692.344</td>\n",
              "      <td>210.789.978</td>\n",
              "      <td>2800000.0</td>\n",
              "      <td>4</td>\n",
              "      <td>178.80</td>\n",
              "      <td>2005</td>\n",
              "    </tr>\n",
              "    <tr>\n",
              "      <th>461</th>\n",
              "      <td>Zwierzyniec Wola Justowska</td>\n",
              "      <td>Kraków</td>\n",
              "      <td>0</td>\n",
              "      <td>29440.0</td>\n",
              "      <td>500.650.619</td>\n",
              "      <td>19.877.649</td>\n",
              "      <td>1104000.0</td>\n",
              "      <td>4</td>\n",
              "      <td>175.00</td>\n",
              "      <td>2014</td>\n",
              "    </tr>\n",
              "    <tr>\n",
              "      <th>686</th>\n",
              "      <td>Mokotów Bia³ej Koniczyny</td>\n",
              "      <td>Warszawa</td>\n",
              "      <td>0</td>\n",
              "      <td>9361.0</td>\n",
              "      <td>521.842.458</td>\n",
              "      <td>21.042.709</td>\n",
              "      <td>2715606.0</td>\n",
              "      <td>4</td>\n",
              "      <td>168.00</td>\n",
              "      <td>2021</td>\n",
              "    </tr>\n",
              "    <tr>\n",
              "      <th>943</th>\n",
              "      <td>Wilanów ul. Janczarów</td>\n",
              "      <td>Warszawa</td>\n",
              "      <td>0</td>\n",
              "      <td>6654.0</td>\n",
              "      <td>522.319.581</td>\n",
              "      <td>210.067.249</td>\n",
              "      <td>2400000.0</td>\n",
              "      <td>4</td>\n",
              "      <td>204.50</td>\n",
              "      <td>2010</td>\n",
              "    </tr>\n",
              "    <tr>\n",
              "      <th>...</th>\n",
              "      <td>...</td>\n",
              "      <td>...</td>\n",
              "      <td>...</td>\n",
              "      <td>...</td>\n",
              "      <td>...</td>\n",
              "      <td>...</td>\n",
              "      <td>...</td>\n",
              "      <td>...</td>\n",
              "      <td>...</td>\n",
              "      <td>...</td>\n",
              "    </tr>\n",
              "    <tr>\n",
              "      <th>22082</th>\n",
              "      <td>Stare Miasto</td>\n",
              "      <td>Kraków</td>\n",
              "      <td>1</td>\n",
              "      <td>29311.0</td>\n",
              "      <td>500.590.398</td>\n",
              "      <td>1.993.716.829.792.890</td>\n",
              "      <td>4998000.0</td>\n",
              "      <td>4</td>\n",
              "      <td>178.50</td>\n",
              "      <td>2013</td>\n",
              "    </tr>\n",
              "    <tr>\n",
              "      <th>22390</th>\n",
              "      <td>Zwierzyniec Pó³wsie Zwierzynieckie Junacka</td>\n",
              "      <td>Kraków</td>\n",
              "      <td>0</td>\n",
              "      <td>30287.0</td>\n",
              "      <td>500.667.032</td>\n",
              "      <td>198.488.749</td>\n",
              "      <td>1164744.0</td>\n",
              "      <td>4</td>\n",
              "      <td>184.88</td>\n",
              "      <td>2015</td>\n",
              "    </tr>\n",
              "    <tr>\n",
              "      <th>23160</th>\n",
              "      <td>Stare Miasto pl. Na Groblach</td>\n",
              "      <td>Kraków</td>\n",
              "      <td>4</td>\n",
              "      <td>30307.0</td>\n",
              "      <td>500.561.004</td>\n",
              "      <td>199.320.048</td>\n",
              "      <td>5000000.0</td>\n",
              "      <td>4</td>\n",
              "      <td>170.00</td>\n",
              "      <td>2013</td>\n",
              "    </tr>\n",
              "    <tr>\n",
              "      <th>23255</th>\n",
              "      <td>Je¿yce Zacisze</td>\n",
              "      <td>Poznañ</td>\n",
              "      <td>3</td>\n",
              "      <td>3833.0</td>\n",
              "      <td>52.412.666</td>\n",
              "      <td>169.143.664</td>\n",
              "      <td>869000.0</td>\n",
              "      <td>4</td>\n",
              "      <td>158.78</td>\n",
              "      <td>1903</td>\n",
              "    </tr>\n",
              "    <tr>\n",
              "      <th>23512</th>\n",
              "      <td>Stare Miasto Winogrady</td>\n",
              "      <td>Poznañ</td>\n",
              "      <td>2</td>\n",
              "      <td>4538.0</td>\n",
              "      <td>524.348.647</td>\n",
              "      <td>169.383.531</td>\n",
              "      <td>1100000.0</td>\n",
              "      <td>4</td>\n",
              "      <td>179.00</td>\n",
              "      <td>2020</td>\n",
              "    </tr>\n",
              "  </tbody>\n",
              "</table>\n",
              "<p>104 rows × 10 columns</p>\n",
              "</div>\n",
              "      <button class=\"colab-df-convert\" onclick=\"convertToInteractive('df-662b3df6-e2e6-4f47-bf84-1b7f4e02125d')\"\n",
              "              title=\"Convert this dataframe to an interactive table.\"\n",
              "              style=\"display:none;\">\n",
              "        \n",
              "  <svg xmlns=\"http://www.w3.org/2000/svg\" height=\"24px\"viewBox=\"0 0 24 24\"\n",
              "       width=\"24px\">\n",
              "    <path d=\"M0 0h24v24H0V0z\" fill=\"none\"/>\n",
              "    <path d=\"M18.56 5.44l.94 2.06.94-2.06 2.06-.94-2.06-.94-.94-2.06-.94 2.06-2.06.94zm-11 1L8.5 8.5l.94-2.06 2.06-.94-2.06-.94L8.5 2.5l-.94 2.06-2.06.94zm10 10l.94 2.06.94-2.06 2.06-.94-2.06-.94-.94-2.06-.94 2.06-2.06.94z\"/><path d=\"M17.41 7.96l-1.37-1.37c-.4-.4-.92-.59-1.43-.59-.52 0-1.04.2-1.43.59L10.3 9.45l-7.72 7.72c-.78.78-.78 2.05 0 2.83L4 21.41c.39.39.9.59 1.41.59.51 0 1.02-.2 1.41-.59l7.78-7.78 2.81-2.81c.8-.78.8-2.07 0-2.86zM5.41 20L4 18.59l7.72-7.72 1.47 1.35L5.41 20z\"/>\n",
              "  </svg>\n",
              "      </button>\n",
              "      \n",
              "  <style>\n",
              "    .colab-df-container {\n",
              "      display:flex;\n",
              "      flex-wrap:wrap;\n",
              "      gap: 12px;\n",
              "    }\n",
              "\n",
              "    .colab-df-convert {\n",
              "      background-color: #E8F0FE;\n",
              "      border: none;\n",
              "      border-radius: 50%;\n",
              "      cursor: pointer;\n",
              "      display: none;\n",
              "      fill: #1967D2;\n",
              "      height: 32px;\n",
              "      padding: 0 0 0 0;\n",
              "      width: 32px;\n",
              "    }\n",
              "\n",
              "    .colab-df-convert:hover {\n",
              "      background-color: #E2EBFA;\n",
              "      box-shadow: 0px 1px 2px rgba(60, 64, 67, 0.3), 0px 1px 3px 1px rgba(60, 64, 67, 0.15);\n",
              "      fill: #174EA6;\n",
              "    }\n",
              "\n",
              "    [theme=dark] .colab-df-convert {\n",
              "      background-color: #3B4455;\n",
              "      fill: #D2E3FC;\n",
              "    }\n",
              "\n",
              "    [theme=dark] .colab-df-convert:hover {\n",
              "      background-color: #434B5C;\n",
              "      box-shadow: 0px 1px 3px 1px rgba(0, 0, 0, 0.15);\n",
              "      filter: drop-shadow(0px 1px 2px rgba(0, 0, 0, 0.3));\n",
              "      fill: #FFFFFF;\n",
              "    }\n",
              "  </style>\n",
              "\n",
              "      <script>\n",
              "        const buttonEl =\n",
              "          document.querySelector('#df-662b3df6-e2e6-4f47-bf84-1b7f4e02125d button.colab-df-convert');\n",
              "        buttonEl.style.display =\n",
              "          google.colab.kernel.accessAllowed ? 'block' : 'none';\n",
              "\n",
              "        async function convertToInteractive(key) {\n",
              "          const element = document.querySelector('#df-662b3df6-e2e6-4f47-bf84-1b7f4e02125d');\n",
              "          const dataTable =\n",
              "            await google.colab.kernel.invokeFunction('convertToInteractive',\n",
              "                                                     [key], {});\n",
              "          if (!dataTable) return;\n",
              "\n",
              "          const docLinkHtml = 'Like what you see? Visit the ' +\n",
              "            '<a target=\"_blank\" href=https://colab.research.google.com/notebooks/data_table.ipynb>data table notebook</a>'\n",
              "            + ' to learn more about interactive tables.';\n",
              "          element.innerHTML = '';\n",
              "          dataTable['output_type'] = 'display_data';\n",
              "          await google.colab.output.renderOutput(dataTable, element);\n",
              "          const docLink = document.createElement('div');\n",
              "          docLink.innerHTML = docLinkHtml;\n",
              "          element.appendChild(docLink);\n",
              "        }\n",
              "      </script>\n",
              "    </div>\n",
              "  </div>\n",
              "  "
            ]
          },
          "metadata": {},
          "execution_count": 25
        }
      ]
    },
    {
      "cell_type": "markdown",
      "source": [
        "- Houses with more than $150 m^2$ are not going to be taken into account because they are outliers and will generate noise in the model."
      ],
      "metadata": {
        "id": "L1R-dMERIkhd"
      }
    },
    {
      "cell_type": "code",
      "source": [
        "# number of houses < 25 m^2 and with more than 1 floor\n",
        "df_houses[(df_houses['sq'] < 25)  & (df_houses['floor'] > 1)]"
      ],
      "metadata": {
        "colab": {
          "base_uri": "https://localhost:8080/",
          "height": 424
        },
        "id": "bmAT4umR8a7O",
        "outputId": "e6e0c116-d5a0-4785-984d-c24a061754f4"
      },
      "execution_count": 26,
      "outputs": [
        {
          "output_type": "execute_result",
          "data": {
            "text/plain": [
              "                                       address      city  floor       id  \\\n",
              "1                    Praga-Po³udnie Grochowska  Warszawa      3  17828.0   \n",
              "18            Krowodrza Stanis³awa Konarskiego    Kraków      2  27706.0   \n",
              "48                             Ochota Grójecka  Warszawa      4  12808.0   \n",
              "122                               Stare Miasto    Kraków      4  22172.0   \n",
              "173                                     Ochota  Warszawa      3   9397.0   \n",
              "...                                        ...       ...    ...      ...   \n",
              "23279                       Ochota Adama P³uga  Warszawa      3   7817.0   \n",
              "23306                       Wola ul. O¿arowska  Warszawa      4  10034.0   \n",
              "23402                Stare Miasto w. Gertrudy    Kraków      2  19048.0   \n",
              "23442  Ochota Stara Ochota ul. Karola Dickensa  Warszawa      3  10409.0   \n",
              "23629                        Bielany Wrzeciono  Warszawa      4  16427.0   \n",
              "\n",
              "          latitude              longitude     price  rooms     sq  year  \n",
              "1      522.497.745            211.068.857  240548.0      1  24.38  2021  \n",
              "18     500.840.413  1.997.816.046.757.790  280000.0      1  16.20  1930  \n",
              "48      52.211.874             20.977.725  319000.0      1  23.00  1960  \n",
              "122    500.590.398  1.993.716.829.792.890  399000.0      1  24.50  1930  \n",
              "173     52.212.225            209.726.299  328500.0      2  24.00  1970  \n",
              "...            ...                    ...       ...    ...    ...   ...  \n",
              "23279  522.163.558            209.858.349  320000.0      1  18.00  1923  \n",
              "23306  522.465.852            209.546.547  285000.0      1  20.00  1950  \n",
              "23402  500.594.355            199.419.231  280000.0      1  14.03  1886  \n",
              "23442  522.057.522             20.971.997  328500.0      2  23.50  1970  \n",
              "23629  522.915.543            209.450.519  245000.0      1  17.50  1968  \n",
              "\n",
              "[190 rows x 10 columns]"
            ],
            "text/html": [
              "\n",
              "  <div id=\"df-1c1db07f-8e03-4414-9691-6589ad7c9d1e\">\n",
              "    <div class=\"colab-df-container\">\n",
              "      <div>\n",
              "<style scoped>\n",
              "    .dataframe tbody tr th:only-of-type {\n",
              "        vertical-align: middle;\n",
              "    }\n",
              "\n",
              "    .dataframe tbody tr th {\n",
              "        vertical-align: top;\n",
              "    }\n",
              "\n",
              "    .dataframe thead th {\n",
              "        text-align: right;\n",
              "    }\n",
              "</style>\n",
              "<table border=\"1\" class=\"dataframe\">\n",
              "  <thead>\n",
              "    <tr style=\"text-align: right;\">\n",
              "      <th></th>\n",
              "      <th>address</th>\n",
              "      <th>city</th>\n",
              "      <th>floor</th>\n",
              "      <th>id</th>\n",
              "      <th>latitude</th>\n",
              "      <th>longitude</th>\n",
              "      <th>price</th>\n",
              "      <th>rooms</th>\n",
              "      <th>sq</th>\n",
              "      <th>year</th>\n",
              "    </tr>\n",
              "  </thead>\n",
              "  <tbody>\n",
              "    <tr>\n",
              "      <th>1</th>\n",
              "      <td>Praga-Po³udnie Grochowska</td>\n",
              "      <td>Warszawa</td>\n",
              "      <td>3</td>\n",
              "      <td>17828.0</td>\n",
              "      <td>522.497.745</td>\n",
              "      <td>211.068.857</td>\n",
              "      <td>240548.0</td>\n",
              "      <td>1</td>\n",
              "      <td>24.38</td>\n",
              "      <td>2021</td>\n",
              "    </tr>\n",
              "    <tr>\n",
              "      <th>18</th>\n",
              "      <td>Krowodrza Stanis³awa Konarskiego</td>\n",
              "      <td>Kraków</td>\n",
              "      <td>2</td>\n",
              "      <td>27706.0</td>\n",
              "      <td>500.840.413</td>\n",
              "      <td>1.997.816.046.757.790</td>\n",
              "      <td>280000.0</td>\n",
              "      <td>1</td>\n",
              "      <td>16.20</td>\n",
              "      <td>1930</td>\n",
              "    </tr>\n",
              "    <tr>\n",
              "      <th>48</th>\n",
              "      <td>Ochota Grójecka</td>\n",
              "      <td>Warszawa</td>\n",
              "      <td>4</td>\n",
              "      <td>12808.0</td>\n",
              "      <td>52.211.874</td>\n",
              "      <td>20.977.725</td>\n",
              "      <td>319000.0</td>\n",
              "      <td>1</td>\n",
              "      <td>23.00</td>\n",
              "      <td>1960</td>\n",
              "    </tr>\n",
              "    <tr>\n",
              "      <th>122</th>\n",
              "      <td>Stare Miasto</td>\n",
              "      <td>Kraków</td>\n",
              "      <td>4</td>\n",
              "      <td>22172.0</td>\n",
              "      <td>500.590.398</td>\n",
              "      <td>1.993.716.829.792.890</td>\n",
              "      <td>399000.0</td>\n",
              "      <td>1</td>\n",
              "      <td>24.50</td>\n",
              "      <td>1930</td>\n",
              "    </tr>\n",
              "    <tr>\n",
              "      <th>173</th>\n",
              "      <td>Ochota</td>\n",
              "      <td>Warszawa</td>\n",
              "      <td>3</td>\n",
              "      <td>9397.0</td>\n",
              "      <td>52.212.225</td>\n",
              "      <td>209.726.299</td>\n",
              "      <td>328500.0</td>\n",
              "      <td>2</td>\n",
              "      <td>24.00</td>\n",
              "      <td>1970</td>\n",
              "    </tr>\n",
              "    <tr>\n",
              "      <th>...</th>\n",
              "      <td>...</td>\n",
              "      <td>...</td>\n",
              "      <td>...</td>\n",
              "      <td>...</td>\n",
              "      <td>...</td>\n",
              "      <td>...</td>\n",
              "      <td>...</td>\n",
              "      <td>...</td>\n",
              "      <td>...</td>\n",
              "      <td>...</td>\n",
              "    </tr>\n",
              "    <tr>\n",
              "      <th>23279</th>\n",
              "      <td>Ochota Adama P³uga</td>\n",
              "      <td>Warszawa</td>\n",
              "      <td>3</td>\n",
              "      <td>7817.0</td>\n",
              "      <td>522.163.558</td>\n",
              "      <td>209.858.349</td>\n",
              "      <td>320000.0</td>\n",
              "      <td>1</td>\n",
              "      <td>18.00</td>\n",
              "      <td>1923</td>\n",
              "    </tr>\n",
              "    <tr>\n",
              "      <th>23306</th>\n",
              "      <td>Wola ul. O¿arowska</td>\n",
              "      <td>Warszawa</td>\n",
              "      <td>4</td>\n",
              "      <td>10034.0</td>\n",
              "      <td>522.465.852</td>\n",
              "      <td>209.546.547</td>\n",
              "      <td>285000.0</td>\n",
              "      <td>1</td>\n",
              "      <td>20.00</td>\n",
              "      <td>1950</td>\n",
              "    </tr>\n",
              "    <tr>\n",
              "      <th>23402</th>\n",
              "      <td>Stare Miasto w. Gertrudy</td>\n",
              "      <td>Kraków</td>\n",
              "      <td>2</td>\n",
              "      <td>19048.0</td>\n",
              "      <td>500.594.355</td>\n",
              "      <td>199.419.231</td>\n",
              "      <td>280000.0</td>\n",
              "      <td>1</td>\n",
              "      <td>14.03</td>\n",
              "      <td>1886</td>\n",
              "    </tr>\n",
              "    <tr>\n",
              "      <th>23442</th>\n",
              "      <td>Ochota Stara Ochota ul. Karola Dickensa</td>\n",
              "      <td>Warszawa</td>\n",
              "      <td>3</td>\n",
              "      <td>10409.0</td>\n",
              "      <td>522.057.522</td>\n",
              "      <td>20.971.997</td>\n",
              "      <td>328500.0</td>\n",
              "      <td>2</td>\n",
              "      <td>23.50</td>\n",
              "      <td>1970</td>\n",
              "    </tr>\n",
              "    <tr>\n",
              "      <th>23629</th>\n",
              "      <td>Bielany Wrzeciono</td>\n",
              "      <td>Warszawa</td>\n",
              "      <td>4</td>\n",
              "      <td>16427.0</td>\n",
              "      <td>522.915.543</td>\n",
              "      <td>209.450.519</td>\n",
              "      <td>245000.0</td>\n",
              "      <td>1</td>\n",
              "      <td>17.50</td>\n",
              "      <td>1968</td>\n",
              "    </tr>\n",
              "  </tbody>\n",
              "</table>\n",
              "<p>190 rows × 10 columns</p>\n",
              "</div>\n",
              "      <button class=\"colab-df-convert\" onclick=\"convertToInteractive('df-1c1db07f-8e03-4414-9691-6589ad7c9d1e')\"\n",
              "              title=\"Convert this dataframe to an interactive table.\"\n",
              "              style=\"display:none;\">\n",
              "        \n",
              "  <svg xmlns=\"http://www.w3.org/2000/svg\" height=\"24px\"viewBox=\"0 0 24 24\"\n",
              "       width=\"24px\">\n",
              "    <path d=\"M0 0h24v24H0V0z\" fill=\"none\"/>\n",
              "    <path d=\"M18.56 5.44l.94 2.06.94-2.06 2.06-.94-2.06-.94-.94-2.06-.94 2.06-2.06.94zm-11 1L8.5 8.5l.94-2.06 2.06-.94-2.06-.94L8.5 2.5l-.94 2.06-2.06.94zm10 10l.94 2.06.94-2.06 2.06-.94-2.06-.94-.94-2.06-.94 2.06-2.06.94z\"/><path d=\"M17.41 7.96l-1.37-1.37c-.4-.4-.92-.59-1.43-.59-.52 0-1.04.2-1.43.59L10.3 9.45l-7.72 7.72c-.78.78-.78 2.05 0 2.83L4 21.41c.39.39.9.59 1.41.59.51 0 1.02-.2 1.41-.59l7.78-7.78 2.81-2.81c.8-.78.8-2.07 0-2.86zM5.41 20L4 18.59l7.72-7.72 1.47 1.35L5.41 20z\"/>\n",
              "  </svg>\n",
              "      </button>\n",
              "      \n",
              "  <style>\n",
              "    .colab-df-container {\n",
              "      display:flex;\n",
              "      flex-wrap:wrap;\n",
              "      gap: 12px;\n",
              "    }\n",
              "\n",
              "    .colab-df-convert {\n",
              "      background-color: #E8F0FE;\n",
              "      border: none;\n",
              "      border-radius: 50%;\n",
              "      cursor: pointer;\n",
              "      display: none;\n",
              "      fill: #1967D2;\n",
              "      height: 32px;\n",
              "      padding: 0 0 0 0;\n",
              "      width: 32px;\n",
              "    }\n",
              "\n",
              "    .colab-df-convert:hover {\n",
              "      background-color: #E2EBFA;\n",
              "      box-shadow: 0px 1px 2px rgba(60, 64, 67, 0.3), 0px 1px 3px 1px rgba(60, 64, 67, 0.15);\n",
              "      fill: #174EA6;\n",
              "    }\n",
              "\n",
              "    [theme=dark] .colab-df-convert {\n",
              "      background-color: #3B4455;\n",
              "      fill: #D2E3FC;\n",
              "    }\n",
              "\n",
              "    [theme=dark] .colab-df-convert:hover {\n",
              "      background-color: #434B5C;\n",
              "      box-shadow: 0px 1px 3px 1px rgba(0, 0, 0, 0.15);\n",
              "      filter: drop-shadow(0px 1px 2px rgba(0, 0, 0, 0.3));\n",
              "      fill: #FFFFFF;\n",
              "    }\n",
              "  </style>\n",
              "\n",
              "      <script>\n",
              "        const buttonEl =\n",
              "          document.querySelector('#df-1c1db07f-8e03-4414-9691-6589ad7c9d1e button.colab-df-convert');\n",
              "        buttonEl.style.display =\n",
              "          google.colab.kernel.accessAllowed ? 'block' : 'none';\n",
              "\n",
              "        async function convertToInteractive(key) {\n",
              "          const element = document.querySelector('#df-1c1db07f-8e03-4414-9691-6589ad7c9d1e');\n",
              "          const dataTable =\n",
              "            await google.colab.kernel.invokeFunction('convertToInteractive',\n",
              "                                                     [key], {});\n",
              "          if (!dataTable) return;\n",
              "\n",
              "          const docLinkHtml = 'Like what you see? Visit the ' +\n",
              "            '<a target=\"_blank\" href=https://colab.research.google.com/notebooks/data_table.ipynb>data table notebook</a>'\n",
              "            + ' to learn more about interactive tables.';\n",
              "          element.innerHTML = '';\n",
              "          dataTable['output_type'] = 'display_data';\n",
              "          await google.colab.output.renderOutput(dataTable, element);\n",
              "          const docLink = document.createElement('div');\n",
              "          docLink.innerHTML = docLinkHtml;\n",
              "          element.appendChild(docLink);\n",
              "        }\n",
              "      </script>\n",
              "    </div>\n",
              "  </div>\n",
              "  "
            ]
          },
          "metadata": {},
          "execution_count": 26
        }
      ]
    },
    {
      "cell_type": "markdown",
      "source": [
        "- Houses with less than $25$$m^2$ and with more than $1$ floor are not going to be taken into account because they are outliers and will generate noise in the model."
      ],
      "metadata": {
        "id": "Jiw-8SjA9Mhe"
      }
    },
    {
      "cell_type": "code",
      "source": [
        "# filter houses !>= 150 m^2\n",
        "df_houses = df_houses[df_houses['sq'] <= 150]\n",
        "# filter houses > 25m^2 and floor > 1\n",
        "df_houses = df_houses[(df_houses['sq'] > 25) & (df_houses['floor'] > 1)]\n",
        "\n",
        "df_houses = df_houses.reset_index()"
      ],
      "metadata": {
        "id": "6QjFO0KvIhDk"
      },
      "execution_count": 27,
      "outputs": []
    },
    {
      "cell_type": "code",
      "source": [
        "# plot distribution of m^2\n",
        "\n",
        "\n",
        "f, ax = plt.subplots(figsize=(12, 6))\n",
        "\n",
        "plt.hist(x=df_houses['sq'], alpha=0.5, color='crimson')\n",
        "# mean\n",
        "plt.axvline(x=df_houses['sq'].mean(), linestyle='dashed', linewidth=2, color='navy', label='Mean')\n",
        "# median\n",
        "plt.axvline(x=df_houses['sq'].mean(), linestyle='dashed', linewidth=2, color='green', label='Median')\n",
        "\n",
        "print(f'Houses m^2 Mean: {df_houses.sq.mean()}')\n",
        "print(f'Houses m^2 Median: {df_houses.sq.median()}')\n",
        "print(f'Houses m^2 Skewness: {df_houses.sq.skew()}')\n",
        "\n",
        "plt.legend()\n",
        "plt.title('Houses m^2 Distribution', pad=12)\n",
        "\n",
        "plt.show()"
      ],
      "metadata": {
        "colab": {
          "base_uri": "https://localhost:8080/",
          "height": 451
        },
        "id": "T-6JcvM_JkFL",
        "outputId": "e0fc0b7e-2c33-4e3a-c435-41c4696ec031"
      },
      "execution_count": 28,
      "outputs": [
        {
          "output_type": "stream",
          "name": "stdout",
          "text": [
            "Houses m^2 Mean: 56.96138351983722\n",
            "Houses m^2 Median: 53.22\n",
            "Houses m^2 Skewness: 1.1551877685537852\n"
          ]
        },
        {
          "output_type": "display_data",
          "data": {
            "text/plain": [
              "<Figure size 864x432 with 1 Axes>"
            ],
            "image/png": "[encoded data removed]"
          },
          "metadata": {
            "needs_background": "light"
          }
        }
      ]
    },
    {
      "cell_type": "markdown",
      "source": [
        "![purple-divider](https://user-images.githubusercontent.com/7065401/52071927-c1cd7100-2562-11e9-908a-dde91ba14e59.png)"
      ],
      "metadata": {
        "id": "ZJy41OxtIGHT"
      }
    },
    {
      "cell_type": "markdown",
      "source": [
        "## Features Encoding\n",
        "\n",
        "- The new columns that are going to be created are:\n",
        "  - is_warsaw >> 1 if the house is located in Warsaw\n",
        "  - is_greater_1970 >> 1 if the house was built in a year greater than 1970."
      ],
      "metadata": {
        "id": "qolveUsTsw11"
      }
    },
    {
      "cell_type": "code",
      "source": [
        "df_houses.head()"
      ],
      "metadata": {
        "colab": {
          "base_uri": "https://localhost:8080/",
          "height": 206
        },
        "id": "h7WGd4F2QoOm",
        "outputId": "8520ad46-265e-4d68-aa17-719ee1daf199"
      },
      "execution_count": 29,
      "outputs": [
        {
          "output_type": "execute_result",
          "data": {
            "text/plain": [
              "   index                                   address      city  floor       id  \\\n",
              "0      0  Podgórze Zab³ocie Stanis³awa Klimeckiego    Kraków      2  23918.0   \n",
              "1      2                   Krowodrza Czarnowiejska    Kraków      2  22784.0   \n",
              "2      5            Nowa Huta Czy¿yny ul. Woniców    Kraków      2  26071.0   \n",
              "3      8                            Ursynów Wy¿yny  Warszawa      3  11387.0   \n",
              "4     11                     Praga-Po³udnie Goc³aw  Warszawa      2  13355.0   \n",
              "\n",
              "      latitude               longitude     price  rooms     sq  year  \n",
              "0  500.492.242             199.703.793  749000.0      3  74.05  2021  \n",
              "1  500.669.642             199.200.249  427000.0      2  37.00  1970  \n",
              "2  500.469.432  19.997.153.435.836.600  414600.0      1  34.55  2022  \n",
              "3  521.402.821             210.563.452  615000.0      4  63.40  1982  \n",
              "4  522.286.331             211.065.722  520000.0      3  67.00  1989  "
            ],
            "text/html": [
              "\n",
              "  <div id=\"df-e748e8f2-0c9c-43e4-ae5c-cc934cd34209\">\n",
              "    <div class=\"colab-df-container\">\n",
              "      <div>\n",
              "<style scoped>\n",
              "    .dataframe tbody tr th:only-of-type {\n",
              "        vertical-align: middle;\n",
              "    }\n",
              "\n",
              "    .dataframe tbody tr th {\n",
              "        vertical-align: top;\n",
              "    }\n",
              "\n",
              "    .dataframe thead th {\n",
              "        text-align: right;\n",
              "    }\n",
              "</style>\n",
              "<table border=\"1\" class=\"dataframe\">\n",
              "  <thead>\n",
              "    <tr style=\"text-align: right;\">\n",
              "      <th></th>\n",
              "      <th>index</th>\n",
              "      <th>address</th>\n",
              "      <th>city</th>\n",
              "      <th>floor</th>\n",
              "      <th>id</th>\n",
              "      <th>latitude</th>\n",
              "      <th>longitude</th>\n",
              "      <th>price</th>\n",
              "      <th>rooms</th>\n",
              "      <th>sq</th>\n",
              "      <th>year</th>\n",
              "    </tr>\n",
              "  </thead>\n",
              "  <tbody>\n",
              "    <tr>\n",
              "      <th>0</th>\n",
              "      <td>0</td>\n",
              "      <td>Podgórze Zab³ocie Stanis³awa Klimeckiego</td>\n",
              "      <td>Kraków</td>\n",
              "      <td>2</td>\n",
              "      <td>23918.0</td>\n",
              "      <td>500.492.242</td>\n",
              "      <td>199.703.793</td>\n",
              "      <td>749000.0</td>\n",
              "      <td>3</td>\n",
              "      <td>74.05</td>\n",
              "      <td>2021</td>\n",
              "    </tr>\n",
              "    <tr>\n",
              "      <th>1</th>\n",
              "      <td>2</td>\n",
              "      <td>Krowodrza Czarnowiejska</td>\n",
              "      <td>Kraków</td>\n",
              "      <td>2</td>\n",
              "      <td>22784.0</td>\n",
              "      <td>500.669.642</td>\n",
              "      <td>199.200.249</td>\n",
              "      <td>427000.0</td>\n",
              "      <td>2</td>\n",
              "      <td>37.00</td>\n",
              "      <td>1970</td>\n",
              "    </tr>\n",
              "    <tr>\n",
              "      <th>2</th>\n",
              "      <td>5</td>\n",
              "      <td>Nowa Huta Czy¿yny ul. Woniców</td>\n",
              "      <td>Kraków</td>\n",
              "      <td>2</td>\n",
              "      <td>26071.0</td>\n",
              "      <td>500.469.432</td>\n",
              "      <td>19.997.153.435.836.600</td>\n",
              "      <td>414600.0</td>\n",
              "      <td>1</td>\n",
              "      <td>34.55</td>\n",
              "      <td>2022</td>\n",
              "    </tr>\n",
              "    <tr>\n",
              "      <th>3</th>\n",
              "      <td>8</td>\n",
              "      <td>Ursynów Wy¿yny</td>\n",
              "      <td>Warszawa</td>\n",
              "      <td>3</td>\n",
              "      <td>11387.0</td>\n",
              "      <td>521.402.821</td>\n",
              "      <td>210.563.452</td>\n",
              "      <td>615000.0</td>\n",
              "      <td>4</td>\n",
              "      <td>63.40</td>\n",
              "      <td>1982</td>\n",
              "    </tr>\n",
              "    <tr>\n",
              "      <th>4</th>\n",
              "      <td>11</td>\n",
              "      <td>Praga-Po³udnie Goc³aw</td>\n",
              "      <td>Warszawa</td>\n",
              "      <td>2</td>\n",
              "      <td>13355.0</td>\n",
              "      <td>522.286.331</td>\n",
              "      <td>211.065.722</td>\n",
              "      <td>520000.0</td>\n",
              "      <td>3</td>\n",
              "      <td>67.00</td>\n",
              "      <td>1989</td>\n",
              "    </tr>\n",
              "  </tbody>\n",
              "</table>\n",
              "</div>\n",
              "      <button class=\"colab-df-convert\" onclick=\"convertToInteractive('df-e748e8f2-0c9c-43e4-ae5c-cc934cd34209')\"\n",
              "              title=\"Convert this dataframe to an interactive table.\"\n",
              "              style=\"display:none;\">\n",
              "        \n",
              "  <svg xmlns=\"http://www.w3.org/2000/svg\" height=\"24px\"viewBox=\"0 0 24 24\"\n",
              "       width=\"24px\">\n",
              "    <path d=\"M0 0h24v24H0V0z\" fill=\"none\"/>\n",
              "    <path d=\"M18.56 5.44l.94 2.06.94-2.06 2.06-.94-2.06-.94-.94-2.06-.94 2.06-2.06.94zm-11 1L8.5 8.5l.94-2.06 2.06-.94-2.06-.94L8.5 2.5l-.94 2.06-2.06.94zm10 10l.94 2.06.94-2.06 2.06-.94-2.06-.94-.94-2.06-.94 2.06-2.06.94z\"/><path d=\"M17.41 7.96l-1.37-1.37c-.4-.4-.92-.59-1.43-.59-.52 0-1.04.2-1.43.59L10.3 9.45l-7.72 7.72c-.78.78-.78 2.05 0 2.83L4 21.41c.39.39.9.59 1.41.59.51 0 1.02-.2 1.41-.59l7.78-7.78 2.81-2.81c.8-.78.8-2.07 0-2.86zM5.41 20L4 18.59l7.72-7.72 1.47 1.35L5.41 20z\"/>\n",
              "  </svg>\n",
              "      </button>\n",
              "      \n",
              "  <style>\n",
              "    .colab-df-container {\n",
              "      display:flex;\n",
              "      flex-wrap:wrap;\n",
              "      gap: 12px;\n",
              "    }\n",
              "\n",
              "    .colab-df-convert {\n",
              "      background-color: #E8F0FE;\n",
              "      border: none;\n",
              "      border-radius: 50%;\n",
              "      cursor: pointer;\n",
              "      display: none;\n",
              "      fill: #1967D2;\n",
              "      height: 32px;\n",
              "      padding: 0 0 0 0;\n",
              "      width: 32px;\n",
              "    }\n",
              "\n",
              "    .colab-df-convert:hover {\n",
              "      background-color: #E2EBFA;\n",
              "      box-shadow: 0px 1px 2px rgba(60, 64, 67, 0.3), 0px 1px 3px 1px rgba(60, 64, 67, 0.15);\n",
              "      fill: #174EA6;\n",
              "    }\n",
              "\n",
              "    [theme=dark] .colab-df-convert {\n",
              "      background-color: #3B4455;\n",
              "      fill: #D2E3FC;\n",
              "    }\n",
              "\n",
              "    [theme=dark] .colab-df-convert:hover {\n",
              "      background-color: #434B5C;\n",
              "      box-shadow: 0px 1px 3px 1px rgba(0, 0, 0, 0.15);\n",
              "      filter: drop-shadow(0px 1px 2px rgba(0, 0, 0, 0.3));\n",
              "      fill: #FFFFFF;\n",
              "    }\n",
              "  </style>\n",
              "\n",
              "      <script>\n",
              "        const buttonEl =\n",
              "          document.querySelector('#df-e748e8f2-0c9c-43e4-ae5c-cc934cd34209 button.colab-df-convert');\n",
              "        buttonEl.style.display =\n",
              "          google.colab.kernel.accessAllowed ? 'block' : 'none';\n",
              "\n",
              "        async function convertToInteractive(key) {\n",
              "          const element = document.querySelector('#df-e748e8f2-0c9c-43e4-ae5c-cc934cd34209');\n",
              "          const dataTable =\n",
              "            await google.colab.kernel.invokeFunction('convertToInteractive',\n",
              "                                                     [key], {});\n",
              "          if (!dataTable) return;\n",
              "\n",
              "          const docLinkHtml = 'Like what you see? Visit the ' +\n",
              "            '<a target=\"_blank\" href=https://colab.research.google.com/notebooks/data_table.ipynb>data table notebook</a>'\n",
              "            + ' to learn more about interactive tables.';\n",
              "          element.innerHTML = '';\n",
              "          dataTable['output_type'] = 'display_data';\n",
              "          await google.colab.output.renderOutput(dataTable, element);\n",
              "          const docLink = document.createElement('div');\n",
              "          docLink.innerHTML = docLinkHtml;\n",
              "          element.appendChild(docLink);\n",
              "        }\n",
              "      </script>\n",
              "    </div>\n",
              "  </div>\n",
              "  "
            ]
          },
          "metadata": {},
          "execution_count": 29
        }
      ]
    },
    {
      "cell_type": "code",
      "source": [
        "# new column creation\n",
        "\n",
        "# is_warwaw >> 1 if the house is located in Warsaw\n",
        "df_houses['is_warsaw'] = [1 if df_houses.iloc[index].city == 'Warszawa' else 0 for index in df_houses.index]\n",
        "# is_greater_1970 >> 1 if the house is >= 1970\n",
        "df_houses['is_greater_1970'] = [1 if df_houses.iloc[index].year >= 1970 else 0 for index in df_houses.index]\n"
      ],
      "metadata": {
        "id": "tK4DIjoMtpzD"
      },
      "execution_count": 30,
      "outputs": []
    },
    {
      "cell_type": "code",
      "source": [
        "# check changes\n",
        "df_houses.head()"
      ],
      "metadata": {
        "colab": {
          "base_uri": "https://localhost:8080/",
          "height": 268
        },
        "id": "KH_7rFMNvyxc",
        "outputId": "02ac5a04-02cb-4b43-c854-e0b1097f8f6d"
      },
      "execution_count": 31,
      "outputs": [
        {
          "output_type": "execute_result",
          "data": {
            "text/plain": [
              "   index                                   address      city  floor       id  \\\n",
              "0      0  Podgórze Zab³ocie Stanis³awa Klimeckiego    Kraków      2  23918.0   \n",
              "1      2                   Krowodrza Czarnowiejska    Kraków      2  22784.0   \n",
              "2      5            Nowa Huta Czy¿yny ul. Woniców    Kraków      2  26071.0   \n",
              "3      8                            Ursynów Wy¿yny  Warszawa      3  11387.0   \n",
              "4     11                     Praga-Po³udnie Goc³aw  Warszawa      2  13355.0   \n",
              "\n",
              "      latitude               longitude     price  rooms     sq  year  \\\n",
              "0  500.492.242             199.703.793  749000.0      3  74.05  2021   \n",
              "1  500.669.642             199.200.249  427000.0      2  37.00  1970   \n",
              "2  500.469.432  19.997.153.435.836.600  414600.0      1  34.55  2022   \n",
              "3  521.402.821             210.563.452  615000.0      4  63.40  1982   \n",
              "4  522.286.331             211.065.722  520000.0      3  67.00  1989   \n",
              "\n",
              "   is_warsaw  is_greater_1970  \n",
              "0          0                1  \n",
              "1          0                1  \n",
              "2          0                1  \n",
              "3          1                1  \n",
              "4          1                1  "
            ],
            "text/html": [
              "\n",
              "  <div id=\"df-76ba0cdf-386a-4136-864d-ec44ec27fdf9\">\n",
              "    <div class=\"colab-df-container\">\n",
              "      <div>\n",
              "<style scoped>\n",
              "    .dataframe tbody tr th:only-of-type {\n",
              "        vertical-align: middle;\n",
              "    }\n",
              "\n",
              "    .dataframe tbody tr th {\n",
              "        vertical-align: top;\n",
              "    }\n",
              "\n",
              "    .dataframe thead th {\n",
              "        text-align: right;\n",
              "    }\n",
              "</style>\n",
              "<table border=\"1\" class=\"dataframe\">\n",
              "  <thead>\n",
              "    <tr style=\"text-align: right;\">\n",
              "      <th></th>\n",
              "      <th>index</th>\n",
              "      <th>address</th>\n",
              "      <th>city</th>\n",
              "      <th>floor</th>\n",
              "      <th>id</th>\n",
              "      <th>latitude</th>\n",
              "      <th>longitude</th>\n",
              "      <th>price</th>\n",
              "      <th>rooms</th>\n",
              "      <th>sq</th>\n",
              "      <th>year</th>\n",
              "      <th>is_warsaw</th>\n",
              "      <th>is_greater_1970</th>\n",
              "    </tr>\n",
              "  </thead>\n",
              "  <tbody>\n",
              "    <tr>\n",
              "      <th>0</th>\n",
              "      <td>0</td>\n",
              "      <td>Podgórze Zab³ocie Stanis³awa Klimeckiego</td>\n",
              "      <td>Kraków</td>\n",
              "      <td>2</td>\n",
              "      <td>23918.0</td>\n",
              "      <td>500.492.242</td>\n",
              "      <td>199.703.793</td>\n",
              "      <td>749000.0</td>\n",
              "      <td>3</td>\n",
              "      <td>74.05</td>\n",
              "      <td>2021</td>\n",
              "      <td>0</td>\n",
              "      <td>1</td>\n",
              "    </tr>\n",
              "    <tr>\n",
              "      <th>1</th>\n",
              "      <td>2</td>\n",
              "      <td>Krowodrza Czarnowiejska</td>\n",
              "      <td>Kraków</td>\n",
              "      <td>2</td>\n",
              "      <td>22784.0</td>\n",
              "      <td>500.669.642</td>\n",
              "      <td>199.200.249</td>\n",
              "      <td>427000.0</td>\n",
              "      <td>2</td>\n",
              "      <td>37.00</td>\n",
              "      <td>1970</td>\n",
              "      <td>0</td>\n",
              "      <td>1</td>\n",
              "    </tr>\n",
              "    <tr>\n",
              "      <th>2</th>\n",
              "      <td>5</td>\n",
              "      <td>Nowa Huta Czy¿yny ul. Woniców</td>\n",
              "      <td>Kraków</td>\n",
              "      <td>2</td>\n",
              "      <td>26071.0</td>\n",
              "      <td>500.469.432</td>\n",
              "      <td>19.997.153.435.836.600</td>\n",
              "      <td>414600.0</td>\n",
              "      <td>1</td>\n",
              "      <td>34.55</td>\n",
              "      <td>2022</td>\n",
              "      <td>0</td>\n",
              "      <td>1</td>\n",
              "    </tr>\n",
              "    <tr>\n",
              "      <th>3</th>\n",
              "      <td>8</td>\n",
              "      <td>Ursynów Wy¿yny</td>\n",
              "      <td>Warszawa</td>\n",
              "      <td>3</td>\n",
              "      <td>11387.0</td>\n",
              "      <td>521.402.821</td>\n",
              "      <td>210.563.452</td>\n",
              "      <td>615000.0</td>\n",
              "      <td>4</td>\n",
              "      <td>63.40</td>\n",
              "      <td>1982</td>\n",
              "      <td>1</td>\n",
              "      <td>1</td>\n",
              "    </tr>\n",
              "    <tr>\n",
              "      <th>4</th>\n",
              "      <td>11</td>\n",
              "      <td>Praga-Po³udnie Goc³aw</td>\n",
              "      <td>Warszawa</td>\n",
              "      <td>2</td>\n",
              "      <td>13355.0</td>\n",
              "      <td>522.286.331</td>\n",
              "      <td>211.065.722</td>\n",
              "      <td>520000.0</td>\n",
              "      <td>3</td>\n",
              "      <td>67.00</td>\n",
              "      <td>1989</td>\n",
              "      <td>1</td>\n",
              "      <td>1</td>\n",
              "    </tr>\n",
              "  </tbody>\n",
              "</table>\n",
              "</div>\n",
              "      <button class=\"colab-df-convert\" onclick=\"convertToInteractive('df-76ba0cdf-386a-4136-864d-ec44ec27fdf9')\"\n",
              "              title=\"Convert this dataframe to an interactive table.\"\n",
              "              style=\"display:none;\">\n",
              "        \n",
              "  <svg xmlns=\"http://www.w3.org/2000/svg\" height=\"24px\"viewBox=\"0 0 24 24\"\n",
              "       width=\"24px\">\n",
              "    <path d=\"M0 0h24v24H0V0z\" fill=\"none\"/>\n",
              "    <path d=\"M18.56 5.44l.94 2.06.94-2.06 2.06-.94-2.06-.94-.94-2.06-.94 2.06-2.06.94zm-11 1L8.5 8.5l.94-2.06 2.06-.94-2.06-.94L8.5 2.5l-.94 2.06-2.06.94zm10 10l.94 2.06.94-2.06 2.06-.94-2.06-.94-.94-2.06-.94 2.06-2.06.94z\"/><path d=\"M17.41 7.96l-1.37-1.37c-.4-.4-.92-.59-1.43-.59-.52 0-1.04.2-1.43.59L10.3 9.45l-7.72 7.72c-.78.78-.78 2.05 0 2.83L4 21.41c.39.39.9.59 1.41.59.51 0 1.02-.2 1.41-.59l7.78-7.78 2.81-2.81c.8-.78.8-2.07 0-2.86zM5.41 20L4 18.59l7.72-7.72 1.47 1.35L5.41 20z\"/>\n",
              "  </svg>\n",
              "      </button>\n",
              "      \n",
              "  <style>\n",
              "    .colab-df-container {\n",
              "      display:flex;\n",
              "      flex-wrap:wrap;\n",
              "      gap: 12px;\n",
              "    }\n",
              "\n",
              "    .colab-df-convert {\n",
              "      background-color: #E8F0FE;\n",
              "      border: none;\n",
              "      border-radius: 50%;\n",
              "      cursor: pointer;\n",
              "      display: none;\n",
              "      fill: #1967D2;\n",
              "      height: 32px;\n",
              "      padding: 0 0 0 0;\n",
              "      width: 32px;\n",
              "    }\n",
              "\n",
              "    .colab-df-convert:hover {\n",
              "      background-color: #E2EBFA;\n",
              "      box-shadow: 0px 1px 2px rgba(60, 64, 67, 0.3), 0px 1px 3px 1px rgba(60, 64, 67, 0.15);\n",
              "      fill: #174EA6;\n",
              "    }\n",
              "\n",
              "    [theme=dark] .colab-df-convert {\n",
              "      background-color: #3B4455;\n",
              "      fill: #D2E3FC;\n",
              "    }\n",
              "\n",
              "    [theme=dark] .colab-df-convert:hover {\n",
              "      background-color: #434B5C;\n",
              "      box-shadow: 0px 1px 3px 1px rgba(0, 0, 0, 0.15);\n",
              "      filter: drop-shadow(0px 1px 2px rgba(0, 0, 0, 0.3));\n",
              "      fill: #FFFFFF;\n",
              "    }\n",
              "  </style>\n",
              "\n",
              "      <script>\n",
              "        const buttonEl =\n",
              "          document.querySelector('#df-76ba0cdf-386a-4136-864d-ec44ec27fdf9 button.colab-df-convert');\n",
              "        buttonEl.style.display =\n",
              "          google.colab.kernel.accessAllowed ? 'block' : 'none';\n",
              "\n",
              "        async function convertToInteractive(key) {\n",
              "          const element = document.querySelector('#df-76ba0cdf-386a-4136-864d-ec44ec27fdf9');\n",
              "          const dataTable =\n",
              "            await google.colab.kernel.invokeFunction('convertToInteractive',\n",
              "                                                     [key], {});\n",
              "          if (!dataTable) return;\n",
              "\n",
              "          const docLinkHtml = 'Like what you see? Visit the ' +\n",
              "            '<a target=\"_blank\" href=https://colab.research.google.com/notebooks/data_table.ipynb>data table notebook</a>'\n",
              "            + ' to learn more about interactive tables.';\n",
              "          element.innerHTML = '';\n",
              "          dataTable['output_type'] = 'display_data';\n",
              "          await google.colab.output.renderOutput(dataTable, element);\n",
              "          const docLink = document.createElement('div');\n",
              "          docLink.innerHTML = docLinkHtml;\n",
              "          element.appendChild(docLink);\n",
              "        }\n",
              "      </script>\n",
              "    </div>\n",
              "  </div>\n",
              "  "
            ]
          },
          "metadata": {},
          "execution_count": 31
        }
      ]
    },
    {
      "cell_type": "markdown",
      "source": [
        "![purple-divider](https://user-images.githubusercontent.com/7065401/52071927-c1cd7100-2562-11e9-908a-dde91ba14e59.png)"
      ],
      "metadata": {
        "id": "rFmxtns4xAYc"
      }
    },
    {
      "cell_type": "markdown",
      "source": [
        "## Features Selection\n",
        "\n",
        "- The features **(Inputs)** that are going to be selected for the *prediction model* are:\n",
        "  - *is_warsaw, floor, rooms, sq, is_greater_1970*\n",
        "\n",
        "- The **Outputs** for the model is the *price* variable.\n",
        "  - the prices are in $zloty$, polands currency. $1$ $zloty$ $=$ $0.21$ $euros$"
      ],
      "metadata": {
        "id": "_1FjVYbYw9g2"
      }
    },
    {
      "cell_type": "code",
      "source": [
        "# create new df\n",
        "df_houses_raw = df_houses[['is_warsaw', 'floor', 'rooms', 'sq', 'is_greater_1970', 'price']]\n",
        "\n",
        "df_houses_raw.head()"
      ],
      "metadata": {
        "colab": {
          "base_uri": "https://localhost:8080/",
          "height": 206
        },
        "id": "L8d1zkVhw3pJ",
        "outputId": "86a5ea3f-1955-492f-a018-2945efbe56dd"
      },
      "execution_count": 32,
      "outputs": [
        {
          "output_type": "execute_result",
          "data": {
            "text/plain": [
              "   is_warsaw  floor  rooms     sq  is_greater_1970     price\n",
              "0          0      2      3  74.05                1  749000.0\n",
              "1          0      2      2  37.00                1  427000.0\n",
              "2          0      2      1  34.55                1  414600.0\n",
              "3          1      3      4  63.40                1  615000.0\n",
              "4          1      2      3  67.00                1  520000.0"
            ],
            "text/html": [
              "\n",
              "  <div id=\"df-b80b1577-61c0-4e1c-9aa8-a6ee5f9015ee\">\n",
              "    <div class=\"colab-df-container\">\n",
              "      <div>\n",
              "<style scoped>\n",
              "    .dataframe tbody tr th:only-of-type {\n",
              "        vertical-align: middle;\n",
              "    }\n",
              "\n",
              "    .dataframe tbody tr th {\n",
              "        vertical-align: top;\n",
              "    }\n",
              "\n",
              "    .dataframe thead th {\n",
              "        text-align: right;\n",
              "    }\n",
              "</style>\n",
              "<table border=\"1\" class=\"dataframe\">\n",
              "  <thead>\n",
              "    <tr style=\"text-align: right;\">\n",
              "      <th></th>\n",
              "      <th>is_warsaw</th>\n",
              "      <th>floor</th>\n",
              "      <th>rooms</th>\n",
              "      <th>sq</th>\n",
              "      <th>is_greater_1970</th>\n",
              "      <th>price</th>\n",
              "    </tr>\n",
              "  </thead>\n",
              "  <tbody>\n",
              "    <tr>\n",
              "      <th>0</th>\n",
              "      <td>0</td>\n",
              "      <td>2</td>\n",
              "      <td>3</td>\n",
              "      <td>74.05</td>\n",
              "      <td>1</td>\n",
              "      <td>749000.0</td>\n",
              "    </tr>\n",
              "    <tr>\n",
              "      <th>1</th>\n",
              "      <td>0</td>\n",
              "      <td>2</td>\n",
              "      <td>2</td>\n",
              "      <td>37.00</td>\n",
              "      <td>1</td>\n",
              "      <td>427000.0</td>\n",
              "    </tr>\n",
              "    <tr>\n",
              "      <th>2</th>\n",
              "      <td>0</td>\n",
              "      <td>2</td>\n",
              "      <td>1</td>\n",
              "      <td>34.55</td>\n",
              "      <td>1</td>\n",
              "      <td>414600.0</td>\n",
              "    </tr>\n",
              "    <tr>\n",
              "      <th>3</th>\n",
              "      <td>1</td>\n",
              "      <td>3</td>\n",
              "      <td>4</td>\n",
              "      <td>63.40</td>\n",
              "      <td>1</td>\n",
              "      <td>615000.0</td>\n",
              "    </tr>\n",
              "    <tr>\n",
              "      <th>4</th>\n",
              "      <td>1</td>\n",
              "      <td>2</td>\n",
              "      <td>3</td>\n",
              "      <td>67.00</td>\n",
              "      <td>1</td>\n",
              "      <td>520000.0</td>\n",
              "    </tr>\n",
              "  </tbody>\n",
              "</table>\n",
              "</div>\n",
              "      <button class=\"colab-df-convert\" onclick=\"convertToInteractive('df-b80b1577-61c0-4e1c-9aa8-a6ee5f9015ee')\"\n",
              "              title=\"Convert this dataframe to an interactive table.\"\n",
              "              style=\"display:none;\">\n",
              "        \n",
              "  <svg xmlns=\"http://www.w3.org/2000/svg\" height=\"24px\"viewBox=\"0 0 24 24\"\n",
              "       width=\"24px\">\n",
              "    <path d=\"M0 0h24v24H0V0z\" fill=\"none\"/>\n",
              "    <path d=\"M18.56 5.44l.94 2.06.94-2.06 2.06-.94-2.06-.94-.94-2.06-.94 2.06-2.06.94zm-11 1L8.5 8.5l.94-2.06 2.06-.94-2.06-.94L8.5 2.5l-.94 2.06-2.06.94zm10 10l.94 2.06.94-2.06 2.06-.94-2.06-.94-.94-2.06-.94 2.06-2.06.94z\"/><path d=\"M17.41 7.96l-1.37-1.37c-.4-.4-.92-.59-1.43-.59-.52 0-1.04.2-1.43.59L10.3 9.45l-7.72 7.72c-.78.78-.78 2.05 0 2.83L4 21.41c.39.39.9.59 1.41.59.51 0 1.02-.2 1.41-.59l7.78-7.78 2.81-2.81c.8-.78.8-2.07 0-2.86zM5.41 20L4 18.59l7.72-7.72 1.47 1.35L5.41 20z\"/>\n",
              "  </svg>\n",
              "      </button>\n",
              "      \n",
              "  <style>\n",
              "    .colab-df-container {\n",
              "      display:flex;\n",
              "      flex-wrap:wrap;\n",
              "      gap: 12px;\n",
              "    }\n",
              "\n",
              "    .colab-df-convert {\n",
              "      background-color: #E8F0FE;\n",
              "      border: none;\n",
              "      border-radius: 50%;\n",
              "      cursor: pointer;\n",
              "      display: none;\n",
              "      fill: #1967D2;\n",
              "      height: 32px;\n",
              "      padding: 0 0 0 0;\n",
              "      width: 32px;\n",
              "    }\n",
              "\n",
              "    .colab-df-convert:hover {\n",
              "      background-color: #E2EBFA;\n",
              "      box-shadow: 0px 1px 2px rgba(60, 64, 67, 0.3), 0px 1px 3px 1px rgba(60, 64, 67, 0.15);\n",
              "      fill: #174EA6;\n",
              "    }\n",
              "\n",
              "    [theme=dark] .colab-df-convert {\n",
              "      background-color: #3B4455;\n",
              "      fill: #D2E3FC;\n",
              "    }\n",
              "\n",
              "    [theme=dark] .colab-df-convert:hover {\n",
              "      background-color: #434B5C;\n",
              "      box-shadow: 0px 1px 3px 1px rgba(0, 0, 0, 0.15);\n",
              "      filter: drop-shadow(0px 1px 2px rgba(0, 0, 0, 0.3));\n",
              "      fill: #FFFFFF;\n",
              "    }\n",
              "  </style>\n",
              "\n",
              "      <script>\n",
              "        const buttonEl =\n",
              "          document.querySelector('#df-b80b1577-61c0-4e1c-9aa8-a6ee5f9015ee button.colab-df-convert');\n",
              "        buttonEl.style.display =\n",
              "          google.colab.kernel.accessAllowed ? 'block' : 'none';\n",
              "\n",
              "        async function convertToInteractive(key) {\n",
              "          const element = document.querySelector('#df-b80b1577-61c0-4e1c-9aa8-a6ee5f9015ee');\n",
              "          const dataTable =\n",
              "            await google.colab.kernel.invokeFunction('convertToInteractive',\n",
              "                                                     [key], {});\n",
              "          if (!dataTable) return;\n",
              "\n",
              "          const docLinkHtml = 'Like what you see? Visit the ' +\n",
              "            '<a target=\"_blank\" href=https://colab.research.google.com/notebooks/data_table.ipynb>data table notebook</a>'\n",
              "            + ' to learn more about interactive tables.';\n",
              "          element.innerHTML = '';\n",
              "          dataTable['output_type'] = 'display_data';\n",
              "          await google.colab.output.renderOutput(dataTable, element);\n",
              "          const docLink = document.createElement('div');\n",
              "          docLink.innerHTML = docLinkHtml;\n",
              "          element.appendChild(docLink);\n",
              "        }\n",
              "      </script>\n",
              "    </div>\n",
              "  </div>\n",
              "  "
            ]
          },
          "metadata": {},
          "execution_count": 32
        }
      ]
    },
    {
      "cell_type": "code",
      "source": [
        "# create price in euro column\n",
        "df_houses_raw['price_euro'] = df_houses_raw['price'] * 0.21\n",
        "\n",
        "# create price per sq column\n",
        "df_houses_raw['price_per_sq'] = df_houses_raw['price_euro'] / df_houses_raw['sq']\n",
        "\n",
        "df_houses_raw.head()"
      ],
      "metadata": {
        "colab": {
          "base_uri": "https://localhost:8080/",
          "height": 428
        },
        "id": "vvF28QxUj5Ec",
        "outputId": "15dee367-7ce1-4754-bdc8-f7205742f903"
      },
      "execution_count": 33,
      "outputs": [
        {
          "output_type": "stream",
          "name": "stderr",
          "text": [
            "/usr/local/lib/python3.7/dist-packages/ipykernel_launcher.py:2: SettingWithCopyWarning: \n",
            "A value is trying to be set on a copy of a slice from a DataFrame.\n",
            "Try using .loc[row_indexer,col_indexer] = value instead\n",
            "\n",
            "See the caveats in the documentation: https://pandas.pydata.org/pandas-docs/stable/user_guide/indexing.html#returning-a-view-versus-a-copy\n",
            "  \n",
            "/usr/local/lib/python3.7/dist-packages/ipykernel_launcher.py:5: SettingWithCopyWarning: \n",
            "A value is trying to be set on a copy of a slice from a DataFrame.\n",
            "Try using .loc[row_indexer,col_indexer] = value instead\n",
            "\n",
            "See the caveats in the documentation: https://pandas.pydata.org/pandas-docs/stable/user_guide/indexing.html#returning-a-view-versus-a-copy\n",
            "  \"\"\"\n"
          ]
        },
        {
          "output_type": "execute_result",
          "data": {
            "text/plain": [
              "   is_warsaw  floor  rooms     sq  is_greater_1970     price  price_euro  \\\n",
              "0          0      2      3  74.05                1  749000.0    157290.0   \n",
              "1          0      2      2  37.00                1  427000.0     89670.0   \n",
              "2          0      2      1  34.55                1  414600.0     87066.0   \n",
              "3          1      3      4  63.40                1  615000.0    129150.0   \n",
              "4          1      2      3  67.00                1  520000.0    109200.0   \n",
              "\n",
              "   price_per_sq  \n",
              "0   2124.105334  \n",
              "1   2423.513514  \n",
              "2   2520.000000  \n",
              "3   2037.066246  \n",
              "4   1629.850746  "
            ],
            "text/html": [
              "\n",
              "  <div id=\"df-e452057f-2590-4a1e-8f0a-2816b5d7f47d\">\n",
              "    <div class=\"colab-df-container\">\n",
              "      <div>\n",
              "<style scoped>\n",
              "    .dataframe tbody tr th:only-of-type {\n",
              "        vertical-align: middle;\n",
              "    }\n",
              "\n",
              "    .dataframe tbody tr th {\n",
              "        vertical-align: top;\n",
              "    }\n",
              "\n",
              "    .dataframe thead th {\n",
              "        text-align: right;\n",
              "    }\n",
              "</style>\n",
              "<table border=\"1\" class=\"dataframe\">\n",
              "  <thead>\n",
              "    <tr style=\"text-align: right;\">\n",
              "      <th></th>\n",
              "      <th>is_warsaw</th>\n",
              "      <th>floor</th>\n",
              "      <th>rooms</th>\n",
              "      <th>sq</th>\n",
              "      <th>is_greater_1970</th>\n",
              "      <th>price</th>\n",
              "      <th>price_euro</th>\n",
              "      <th>price_per_sq</th>\n",
              "    </tr>\n",
              "  </thead>\n",
              "  <tbody>\n",
              "    <tr>\n",
              "      <th>0</th>\n",
              "      <td>0</td>\n",
              "      <td>2</td>\n",
              "      <td>3</td>\n",
              "      <td>74.05</td>\n",
              "      <td>1</td>\n",
              "      <td>749000.0</td>\n",
              "      <td>157290.0</td>\n",
              "      <td>2124.105334</td>\n",
              "    </tr>\n",
              "    <tr>\n",
              "      <th>1</th>\n",
              "      <td>0</td>\n",
              "      <td>2</td>\n",
              "      <td>2</td>\n",
              "      <td>37.00</td>\n",
              "      <td>1</td>\n",
              "      <td>427000.0</td>\n",
              "      <td>89670.0</td>\n",
              "      <td>2423.513514</td>\n",
              "    </tr>\n",
              "    <tr>\n",
              "      <th>2</th>\n",
              "      <td>0</td>\n",
              "      <td>2</td>\n",
              "      <td>1</td>\n",
              "      <td>34.55</td>\n",
              "      <td>1</td>\n",
              "      <td>414600.0</td>\n",
              "      <td>87066.0</td>\n",
              "      <td>2520.000000</td>\n",
              "    </tr>\n",
              "    <tr>\n",
              "      <th>3</th>\n",
              "      <td>1</td>\n",
              "      <td>3</td>\n",
              "      <td>4</td>\n",
              "      <td>63.40</td>\n",
              "      <td>1</td>\n",
              "      <td>615000.0</td>\n",
              "      <td>129150.0</td>\n",
              "      <td>2037.066246</td>\n",
              "    </tr>\n",
              "    <tr>\n",
              "      <th>4</th>\n",
              "      <td>1</td>\n",
              "      <td>2</td>\n",
              "      <td>3</td>\n",
              "      <td>67.00</td>\n",
              "      <td>1</td>\n",
              "      <td>520000.0</td>\n",
              "      <td>109200.0</td>\n",
              "      <td>1629.850746</td>\n",
              "    </tr>\n",
              "  </tbody>\n",
              "</table>\n",
              "</div>\n",
              "      <button class=\"colab-df-convert\" onclick=\"convertToInteractive('df-e452057f-2590-4a1e-8f0a-2816b5d7f47d')\"\n",
              "              title=\"Convert this dataframe to an interactive table.\"\n",
              "              style=\"display:none;\">\n",
              "        \n",
              "  <svg xmlns=\"http://www.w3.org/2000/svg\" height=\"24px\"viewBox=\"0 0 24 24\"\n",
              "       width=\"24px\">\n",
              "    <path d=\"M0 0h24v24H0V0z\" fill=\"none\"/>\n",
              "    <path d=\"M18.56 5.44l.94 2.06.94-2.06 2.06-.94-2.06-.94-.94-2.06-.94 2.06-2.06.94zm-11 1L8.5 8.5l.94-2.06 2.06-.94-2.06-.94L8.5 2.5l-.94 2.06-2.06.94zm10 10l.94 2.06.94-2.06 2.06-.94-2.06-.94-.94-2.06-.94 2.06-2.06.94z\"/><path d=\"M17.41 7.96l-1.37-1.37c-.4-.4-.92-.59-1.43-.59-.52 0-1.04.2-1.43.59L10.3 9.45l-7.72 7.72c-.78.78-.78 2.05 0 2.83L4 21.41c.39.39.9.59 1.41.59.51 0 1.02-.2 1.41-.59l7.78-7.78 2.81-2.81c.8-.78.8-2.07 0-2.86zM5.41 20L4 18.59l7.72-7.72 1.47 1.35L5.41 20z\"/>\n",
              "  </svg>\n",
              "      </button>\n",
              "      \n",
              "  <style>\n",
              "    .colab-df-container {\n",
              "      display:flex;\n",
              "      flex-wrap:wrap;\n",
              "      gap: 12px;\n",
              "    }\n",
              "\n",
              "    .colab-df-convert {\n",
              "      background-color: #E8F0FE;\n",
              "      border: none;\n",
              "      border-radius: 50%;\n",
              "      cursor: pointer;\n",
              "      display: none;\n",
              "      fill: #1967D2;\n",
              "      height: 32px;\n",
              "      padding: 0 0 0 0;\n",
              "      width: 32px;\n",
              "    }\n",
              "\n",
              "    .colab-df-convert:hover {\n",
              "      background-color: #E2EBFA;\n",
              "      box-shadow: 0px 1px 2px rgba(60, 64, 67, 0.3), 0px 1px 3px 1px rgba(60, 64, 67, 0.15);\n",
              "      fill: #174EA6;\n",
              "    }\n",
              "\n",
              "    [theme=dark] .colab-df-convert {\n",
              "      background-color: #3B4455;\n",
              "      fill: #D2E3FC;\n",
              "    }\n",
              "\n",
              "    [theme=dark] .colab-df-convert:hover {\n",
              "      background-color: #434B5C;\n",
              "      box-shadow: 0px 1px 3px 1px rgba(0, 0, 0, 0.15);\n",
              "      filter: drop-shadow(0px 1px 2px rgba(0, 0, 0, 0.3));\n",
              "      fill: #FFFFFF;\n",
              "    }\n",
              "  </style>\n",
              "\n",
              "      <script>\n",
              "        const buttonEl =\n",
              "          document.querySelector('#df-e452057f-2590-4a1e-8f0a-2816b5d7f47d button.colab-df-convert');\n",
              "        buttonEl.style.display =\n",
              "          google.colab.kernel.accessAllowed ? 'block' : 'none';\n",
              "\n",
              "        async function convertToInteractive(key) {\n",
              "          const element = document.querySelector('#df-e452057f-2590-4a1e-8f0a-2816b5d7f47d');\n",
              "          const dataTable =\n",
              "            await google.colab.kernel.invokeFunction('convertToInteractive',\n",
              "                                                     [key], {});\n",
              "          if (!dataTable) return;\n",
              "\n",
              "          const docLinkHtml = 'Like what you see? Visit the ' +\n",
              "            '<a target=\"_blank\" href=https://colab.research.google.com/notebooks/data_table.ipynb>data table notebook</a>'\n",
              "            + ' to learn more about interactive tables.';\n",
              "          element.innerHTML = '';\n",
              "          dataTable['output_type'] = 'display_data';\n",
              "          await google.colab.output.renderOutput(dataTable, element);\n",
              "          const docLink = document.createElement('div');\n",
              "          docLink.innerHTML = docLinkHtml;\n",
              "          element.appendChild(docLink);\n",
              "        }\n",
              "      </script>\n",
              "    </div>\n",
              "  </div>\n",
              "  "
            ]
          },
          "metadata": {},
          "execution_count": 33
        }
      ]
    },
    {
      "cell_type": "code",
      "source": [
        "# descriptive statistics of df\n",
        "df_houses_raw.describe()"
      ],
      "metadata": {
        "colab": {
          "base_uri": "https://localhost:8080/",
          "height": 300
        },
        "id": "xwIMh53PlrBe",
        "outputId": "4f136e22-f081-46c5-a9a0-77368ba0a698"
      },
      "execution_count": 34,
      "outputs": [
        {
          "output_type": "execute_result",
          "data": {
            "text/plain": [
              "         is_warsaw        floor        rooms           sq  is_greater_1970  \\\n",
              "count  9830.000000  9830.000000  9830.000000  9830.000000      9830.000000   \n",
              "mean      0.369278     2.872940     2.541709    56.961384         0.837030   \n",
              "std       0.482634     0.796159     0.831176    20.359094         0.369358   \n",
              "min       0.000000     2.000000     1.000000    25.010000         0.000000   \n",
              "25%       0.000000     2.000000     2.000000    42.180000         1.000000   \n",
              "50%       0.000000     3.000000     3.000000    53.220000         1.000000   \n",
              "75%       1.000000     4.000000     3.000000    67.235000         1.000000   \n",
              "max       1.000000     4.000000     4.000000   150.000000         1.000000   \n",
              "\n",
              "              price    price_euro  price_per_sq  \n",
              "count  9.830000e+03  9.830000e+03   9830.000000  \n",
              "mean   5.986284e+05  1.257120e+05   2213.005892  \n",
              "std    3.342458e+05  7.019161e+04    735.971713  \n",
              "min    6.900000e+04  1.449000e+04    439.090909  \n",
              "25%    4.119692e+05  8.651354e+04   1753.389960  \n",
              "50%    5.150000e+05  1.081500e+05   2058.000000  \n",
              "75%    6.750000e+05  1.417500e+05   2520.000000  \n",
              "max    9.008000e+06  1.891680e+06  23821.684926  "
            ],
            "text/html": [
              "\n",
              "  <div id=\"df-c68376d0-5b52-4666-abf1-44d52b7d2f64\">\n",
              "    <div class=\"colab-df-container\">\n",
              "      <div>\n",
              "<style scoped>\n",
              "    .dataframe tbody tr th:only-of-type {\n",
              "        vertical-align: middle;\n",
              "    }\n",
              "\n",
              "    .dataframe tbody tr th {\n",
              "        vertical-align: top;\n",
              "    }\n",
              "\n",
              "    .dataframe thead th {\n",
              "        text-align: right;\n",
              "    }\n",
              "</style>\n",
              "<table border=\"1\" class=\"dataframe\">\n",
              "  <thead>\n",
              "    <tr style=\"text-align: right;\">\n",
              "      <th></th>\n",
              "      <th>is_warsaw</th>\n",
              "      <th>floor</th>\n",
              "      <th>rooms</th>\n",
              "      <th>sq</th>\n",
              "      <th>is_greater_1970</th>\n",
              "      <th>price</th>\n",
              "      <th>price_euro</th>\n",
              "      <th>price_per_sq</th>\n",
              "    </tr>\n",
              "  </thead>\n",
              "  <tbody>\n",
              "    <tr>\n",
              "      <th>count</th>\n",
              "      <td>9830.000000</td>\n",
              "      <td>9830.000000</td>\n",
              "      <td>9830.000000</td>\n",
              "      <td>9830.000000</td>\n",
              "      <td>9830.000000</td>\n",
              "      <td>9.830000e+03</td>\n",
              "      <td>9.830000e+03</td>\n",
              "      <td>9830.000000</td>\n",
              "    </tr>\n",
              "    <tr>\n",
              "      <th>mean</th>\n",
              "      <td>0.369278</td>\n",
              "      <td>2.872940</td>\n",
              "      <td>2.541709</td>\n",
              "      <td>56.961384</td>\n",
              "      <td>0.837030</td>\n",
              "      <td>5.986284e+05</td>\n",
              "      <td>1.257120e+05</td>\n",
              "      <td>2213.005892</td>\n",
              "    </tr>\n",
              "    <tr>\n",
              "      <th>std</th>\n",
              "      <td>0.482634</td>\n",
              "      <td>0.796159</td>\n",
              "      <td>0.831176</td>\n",
              "      <td>20.359094</td>\n",
              "      <td>0.369358</td>\n",
              "      <td>3.342458e+05</td>\n",
              "      <td>7.019161e+04</td>\n",
              "      <td>735.971713</td>\n",
              "    </tr>\n",
              "    <tr>\n",
              "      <th>min</th>\n",
              "      <td>0.000000</td>\n",
              "      <td>2.000000</td>\n",
              "      <td>1.000000</td>\n",
              "      <td>25.010000</td>\n",
              "      <td>0.000000</td>\n",
              "      <td>6.900000e+04</td>\n",
              "      <td>1.449000e+04</td>\n",
              "      <td>439.090909</td>\n",
              "    </tr>\n",
              "    <tr>\n",
              "      <th>25%</th>\n",
              "      <td>0.000000</td>\n",
              "      <td>2.000000</td>\n",
              "      <td>2.000000</td>\n",
              "      <td>42.180000</td>\n",
              "      <td>1.000000</td>\n",
              "      <td>4.119692e+05</td>\n",
              "      <td>8.651354e+04</td>\n",
              "      <td>1753.389960</td>\n",
              "    </tr>\n",
              "    <tr>\n",
              "      <th>50%</th>\n",
              "      <td>0.000000</td>\n",
              "      <td>3.000000</td>\n",
              "      <td>3.000000</td>\n",
              "      <td>53.220000</td>\n",
              "      <td>1.000000</td>\n",
              "      <td>5.150000e+05</td>\n",
              "      <td>1.081500e+05</td>\n",
              "      <td>2058.000000</td>\n",
              "    </tr>\n",
              "    <tr>\n",
              "      <th>75%</th>\n",
              "      <td>1.000000</td>\n",
              "      <td>4.000000</td>\n",
              "      <td>3.000000</td>\n",
              "      <td>67.235000</td>\n",
              "      <td>1.000000</td>\n",
              "      <td>6.750000e+05</td>\n",
              "      <td>1.417500e+05</td>\n",
              "      <td>2520.000000</td>\n",
              "    </tr>\n",
              "    <tr>\n",
              "      <th>max</th>\n",
              "      <td>1.000000</td>\n",
              "      <td>4.000000</td>\n",
              "      <td>4.000000</td>\n",
              "      <td>150.000000</td>\n",
              "      <td>1.000000</td>\n",
              "      <td>9.008000e+06</td>\n",
              "      <td>1.891680e+06</td>\n",
              "      <td>23821.684926</td>\n",
              "    </tr>\n",
              "  </tbody>\n",
              "</table>\n",
              "</div>\n",
              "      <button class=\"colab-df-convert\" onclick=\"convertToInteractive('df-c68376d0-5b52-4666-abf1-44d52b7d2f64')\"\n",
              "              title=\"Convert this dataframe to an interactive table.\"\n",
              "              style=\"display:none;\">\n",
              "        \n",
              "  <svg xmlns=\"http://www.w3.org/2000/svg\" height=\"24px\"viewBox=\"0 0 24 24\"\n",
              "       width=\"24px\">\n",
              "    <path d=\"M0 0h24v24H0V0z\" fill=\"none\"/>\n",
              "    <path d=\"M18.56 5.44l.94 2.06.94-2.06 2.06-.94-2.06-.94-.94-2.06-.94 2.06-2.06.94zm-11 1L8.5 8.5l.94-2.06 2.06-.94-2.06-.94L8.5 2.5l-.94 2.06-2.06.94zm10 10l.94 2.06.94-2.06 2.06-.94-2.06-.94-.94-2.06-.94 2.06-2.06.94z\"/><path d=\"M17.41 7.96l-1.37-1.37c-.4-.4-.92-.59-1.43-.59-.52 0-1.04.2-1.43.59L10.3 9.45l-7.72 7.72c-.78.78-.78 2.05 0 2.83L4 21.41c.39.39.9.59 1.41.59.51 0 1.02-.2 1.41-.59l7.78-7.78 2.81-2.81c.8-.78.8-2.07 0-2.86zM5.41 20L4 18.59l7.72-7.72 1.47 1.35L5.41 20z\"/>\n",
              "  </svg>\n",
              "      </button>\n",
              "      \n",
              "  <style>\n",
              "    .colab-df-container {\n",
              "      display:flex;\n",
              "      flex-wrap:wrap;\n",
              "      gap: 12px;\n",
              "    }\n",
              "\n",
              "    .colab-df-convert {\n",
              "      background-color: #E8F0FE;\n",
              "      border: none;\n",
              "      border-radius: 50%;\n",
              "      cursor: pointer;\n",
              "      display: none;\n",
              "      fill: #1967D2;\n",
              "      height: 32px;\n",
              "      padding: 0 0 0 0;\n",
              "      width: 32px;\n",
              "    }\n",
              "\n",
              "    .colab-df-convert:hover {\n",
              "      background-color: #E2EBFA;\n",
              "      box-shadow: 0px 1px 2px rgba(60, 64, 67, 0.3), 0px 1px 3px 1px rgba(60, 64, 67, 0.15);\n",
              "      fill: #174EA6;\n",
              "    }\n",
              "\n",
              "    [theme=dark] .colab-df-convert {\n",
              "      background-color: #3B4455;\n",
              "      fill: #D2E3FC;\n",
              "    }\n",
              "\n",
              "    [theme=dark] .colab-df-convert:hover {\n",
              "      background-color: #434B5C;\n",
              "      box-shadow: 0px 1px 3px 1px rgba(0, 0, 0, 0.15);\n",
              "      filter: drop-shadow(0px 1px 2px rgba(0, 0, 0, 0.3));\n",
              "      fill: #FFFFFF;\n",
              "    }\n",
              "  </style>\n",
              "\n",
              "      <script>\n",
              "        const buttonEl =\n",
              "          document.querySelector('#df-c68376d0-5b52-4666-abf1-44d52b7d2f64 button.colab-df-convert');\n",
              "        buttonEl.style.display =\n",
              "          google.colab.kernel.accessAllowed ? 'block' : 'none';\n",
              "\n",
              "        async function convertToInteractive(key) {\n",
              "          const element = document.querySelector('#df-c68376d0-5b52-4666-abf1-44d52b7d2f64');\n",
              "          const dataTable =\n",
              "            await google.colab.kernel.invokeFunction('convertToInteractive',\n",
              "                                                     [key], {});\n",
              "          if (!dataTable) return;\n",
              "\n",
              "          const docLinkHtml = 'Like what you see? Visit the ' +\n",
              "            '<a target=\"_blank\" href=https://colab.research.google.com/notebooks/data_table.ipynb>data table notebook</a>'\n",
              "            + ' to learn more about interactive tables.';\n",
              "          element.innerHTML = '';\n",
              "          dataTable['output_type'] = 'display_data';\n",
              "          await google.colab.output.renderOutput(dataTable, element);\n",
              "          const docLink = document.createElement('div');\n",
              "          docLink.innerHTML = docLinkHtml;\n",
              "          element.appendChild(docLink);\n",
              "        }\n",
              "      </script>\n",
              "    </div>\n",
              "  </div>\n",
              "  "
            ]
          },
          "metadata": {},
          "execution_count": 34
        }
      ]
    },
    {
      "cell_type": "markdown",
      "source": [
        "![green-divider](https://user-images.githubusercontent.com/7065401/52071924-c003ad80-2562-11e9-8297-1c6595f8a7ff.png)"
      ],
      "metadata": {
        "id": "99Jx_jjr0mZk"
      }
    },
    {
      "cell_type": "markdown",
      "source": [
        "### Features Standarization\n",
        "\n",
        "- **Normalization** is going to be used on *sq* features because they are in different scales and there distributions are skewed. This technique will map the values to a new range of 0 to 1.\n",
        "\n",
        "\n",
        "$$ Normalization = \\frac{x - x_{min}}{x_{max} - x_{min}} $$"
      ],
      "metadata": {
        "id": "JLmDPUHC0Zx2"
      }
    },
    {
      "cell_type": "code",
      "source": [
        "# features df\n",
        "features_df = df_houses_raw[['sq']]"
      ],
      "metadata": {
        "id": "9y2nmJlS6Q-G"
      },
      "execution_count": 35,
      "outputs": []
    },
    {
      "cell_type": "code",
      "source": [
        "# import MinMaxScaler\n",
        "from sklearn.preprocessing import MinMaxScaler\n",
        "\n",
        "# initialize scaler\n",
        "scaler = MinMaxScaler()\n",
        "# normalize data\n",
        "features = scaler.fit_transform(features_df) "
      ],
      "metadata": {
        "id": "lGCjkGNn23bK"
      },
      "execution_count": 36,
      "outputs": []
    },
    {
      "cell_type": "code",
      "source": [
        "# check normalization on first record\n",
        "features[0]"
      ],
      "metadata": {
        "colab": {
          "base_uri": "https://localhost:8080/"
        },
        "id": "dZdEohKo5UVa",
        "outputId": "fe5c98a6-7f6d-4b3a-9ab0-48ad6a1883c1"
      },
      "execution_count": 37,
      "outputs": [
        {
          "output_type": "execute_result",
          "data": {
            "text/plain": [
              "array([0.39235139])"
            ]
          },
          "metadata": {},
          "execution_count": 37
        }
      ]
    },
    {
      "cell_type": "code",
      "source": [
        "# create df to continue further analysis of normalized features\n",
        "df_features = pd.DataFrame(features, columns=['sq'])\n",
        "\n",
        "\n",
        "# add is_warsaw column\n",
        "df_features['is_warsaw'] = df_houses_raw['is_warsaw']\n",
        "# add floor column\n",
        "df_features['floor'] = df_houses_raw['floor']\n",
        "# add rooms \n",
        "df_features['rooms'] = df_houses_raw['rooms']\n",
        "# add is_greater_1970\n",
        "df_features['is_greater_1970'] = df_houses_raw['is_greater_1970']\n",
        "# add price column\n",
        "df_features['price_euro'] = df_houses_raw['price_euro']\n",
        "\n",
        "\n",
        "df_features.head()"
      ],
      "metadata": {
        "colab": {
          "base_uri": "https://localhost:8080/",
          "height": 206
        },
        "id": "EnmmIW8j4nLv",
        "outputId": "ebd69751-2a8f-4652-b583-27b4977dbd5e"
      },
      "execution_count": 38,
      "outputs": [
        {
          "output_type": "execute_result",
          "data": {
            "text/plain": [
              "         sq  is_warsaw  floor  rooms  is_greater_1970  price_euro\n",
              "0  0.392351          0      2      3                1    157290.0\n",
              "1  0.095928          0      2      2                1     89670.0\n",
              "2  0.076326          0      2      1                1     87066.0\n",
              "3  0.307145          1      3      4                1    129150.0\n",
              "4  0.335947          1      2      3                1    109200.0"
            ],
            "text/html": [
              "\n",
              "  <div id=\"df-cd1bdb63-2000-4d2a-aa96-cbb1a9840c8f\">\n",
              "    <div class=\"colab-df-container\">\n",
              "      <div>\n",
              "<style scoped>\n",
              "    .dataframe tbody tr th:only-of-type {\n",
              "        vertical-align: middle;\n",
              "    }\n",
              "\n",
              "    .dataframe tbody tr th {\n",
              "        vertical-align: top;\n",
              "    }\n",
              "\n",
              "    .dataframe thead th {\n",
              "        text-align: right;\n",
              "    }\n",
              "</style>\n",
              "<table border=\"1\" class=\"dataframe\">\n",
              "  <thead>\n",
              "    <tr style=\"text-align: right;\">\n",
              "      <th></th>\n",
              "      <th>sq</th>\n",
              "      <th>is_warsaw</th>\n",
              "      <th>floor</th>\n",
              "      <th>rooms</th>\n",
              "      <th>is_greater_1970</th>\n",
              "      <th>price_euro</th>\n",
              "    </tr>\n",
              "  </thead>\n",
              "  <tbody>\n",
              "    <tr>\n",
              "      <th>0</th>\n",
              "      <td>0.392351</td>\n",
              "      <td>0</td>\n",
              "      <td>2</td>\n",
              "      <td>3</td>\n",
              "      <td>1</td>\n",
              "      <td>157290.0</td>\n",
              "    </tr>\n",
              "    <tr>\n",
              "      <th>1</th>\n",
              "      <td>0.095928</td>\n",
              "      <td>0</td>\n",
              "      <td>2</td>\n",
              "      <td>2</td>\n",
              "      <td>1</td>\n",
              "      <td>89670.0</td>\n",
              "    </tr>\n",
              "    <tr>\n",
              "      <th>2</th>\n",
              "      <td>0.076326</td>\n",
              "      <td>0</td>\n",
              "      <td>2</td>\n",
              "      <td>1</td>\n",
              "      <td>1</td>\n",
              "      <td>87066.0</td>\n",
              "    </tr>\n",
              "    <tr>\n",
              "      <th>3</th>\n",
              "      <td>0.307145</td>\n",
              "      <td>1</td>\n",
              "      <td>3</td>\n",
              "      <td>4</td>\n",
              "      <td>1</td>\n",
              "      <td>129150.0</td>\n",
              "    </tr>\n",
              "    <tr>\n",
              "      <th>4</th>\n",
              "      <td>0.335947</td>\n",
              "      <td>1</td>\n",
              "      <td>2</td>\n",
              "      <td>3</td>\n",
              "      <td>1</td>\n",
              "      <td>109200.0</td>\n",
              "    </tr>\n",
              "  </tbody>\n",
              "</table>\n",
              "</div>\n",
              "      <button class=\"colab-df-convert\" onclick=\"convertToInteractive('df-cd1bdb63-2000-4d2a-aa96-cbb1a9840c8f')\"\n",
              "              title=\"Convert this dataframe to an interactive table.\"\n",
              "              style=\"display:none;\">\n",
              "        \n",
              "  <svg xmlns=\"http://www.w3.org/2000/svg\" height=\"24px\"viewBox=\"0 0 24 24\"\n",
              "       width=\"24px\">\n",
              "    <path d=\"M0 0h24v24H0V0z\" fill=\"none\"/>\n",
              "    <path d=\"M18.56 5.44l.94 2.06.94-2.06 2.06-.94-2.06-.94-.94-2.06-.94 2.06-2.06.94zm-11 1L8.5 8.5l.94-2.06 2.06-.94-2.06-.94L8.5 2.5l-.94 2.06-2.06.94zm10 10l.94 2.06.94-2.06 2.06-.94-2.06-.94-.94-2.06-.94 2.06-2.06.94z\"/><path d=\"M17.41 7.96l-1.37-1.37c-.4-.4-.92-.59-1.43-.59-.52 0-1.04.2-1.43.59L10.3 9.45l-7.72 7.72c-.78.78-.78 2.05 0 2.83L4 21.41c.39.39.9.59 1.41.59.51 0 1.02-.2 1.41-.59l7.78-7.78 2.81-2.81c.8-.78.8-2.07 0-2.86zM5.41 20L4 18.59l7.72-7.72 1.47 1.35L5.41 20z\"/>\n",
              "  </svg>\n",
              "      </button>\n",
              "      \n",
              "  <style>\n",
              "    .colab-df-container {\n",
              "      display:flex;\n",
              "      flex-wrap:wrap;\n",
              "      gap: 12px;\n",
              "    }\n",
              "\n",
              "    .colab-df-convert {\n",
              "      background-color: #E8F0FE;\n",
              "      border: none;\n",
              "      border-radius: 50%;\n",
              "      cursor: pointer;\n",
              "      display: none;\n",
              "      fill: #1967D2;\n",
              "      height: 32px;\n",
              "      padding: 0 0 0 0;\n",
              "      width: 32px;\n",
              "    }\n",
              "\n",
              "    .colab-df-convert:hover {\n",
              "      background-color: #E2EBFA;\n",
              "      box-shadow: 0px 1px 2px rgba(60, 64, 67, 0.3), 0px 1px 3px 1px rgba(60, 64, 67, 0.15);\n",
              "      fill: #174EA6;\n",
              "    }\n",
              "\n",
              "    [theme=dark] .colab-df-convert {\n",
              "      background-color: #3B4455;\n",
              "      fill: #D2E3FC;\n",
              "    }\n",
              "\n",
              "    [theme=dark] .colab-df-convert:hover {\n",
              "      background-color: #434B5C;\n",
              "      box-shadow: 0px 1px 3px 1px rgba(0, 0, 0, 0.15);\n",
              "      filter: drop-shadow(0px 1px 2px rgba(0, 0, 0, 0.3));\n",
              "      fill: #FFFFFF;\n",
              "    }\n",
              "  </style>\n",
              "\n",
              "      <script>\n",
              "        const buttonEl =\n",
              "          document.querySelector('#df-cd1bdb63-2000-4d2a-aa96-cbb1a9840c8f button.colab-df-convert');\n",
              "        buttonEl.style.display =\n",
              "          google.colab.kernel.accessAllowed ? 'block' : 'none';\n",
              "\n",
              "        async function convertToInteractive(key) {\n",
              "          const element = document.querySelector('#df-cd1bdb63-2000-4d2a-aa96-cbb1a9840c8f');\n",
              "          const dataTable =\n",
              "            await google.colab.kernel.invokeFunction('convertToInteractive',\n",
              "                                                     [key], {});\n",
              "          if (!dataTable) return;\n",
              "\n",
              "          const docLinkHtml = 'Like what you see? Visit the ' +\n",
              "            '<a target=\"_blank\" href=https://colab.research.google.com/notebooks/data_table.ipynb>data table notebook</a>'\n",
              "            + ' to learn more about interactive tables.';\n",
              "          element.innerHTML = '';\n",
              "          dataTable['output_type'] = 'display_data';\n",
              "          await google.colab.output.renderOutput(dataTable, element);\n",
              "          const docLink = document.createElement('div');\n",
              "          docLink.innerHTML = docLinkHtml;\n",
              "          element.appendChild(docLink);\n",
              "        }\n",
              "      </script>\n",
              "    </div>\n",
              "  </div>\n",
              "  "
            ]
          },
          "metadata": {},
          "execution_count": 38
        }
      ]
    },
    {
      "cell_type": "markdown",
      "source": [
        "- The Normalization of Sq is not going to be used. Since the house price is in thousands of euros if Sq is in a range from 0 to 1 its coeffcicent is going to be huge"
      ],
      "metadata": {
        "id": "vnkTZO7Nltaw"
      }
    },
    {
      "cell_type": "code",
      "source": [
        "df_features['sq'] = df_houses_raw['sq']\n",
        "\n",
        "df_features.head()"
      ],
      "metadata": {
        "colab": {
          "base_uri": "https://localhost:8080/",
          "height": 206
        },
        "id": "ZbjdwHIEkRRB",
        "outputId": "7ddef050-4bfe-4ae5-887d-14fecaa969ba"
      },
      "execution_count": 39,
      "outputs": [
        {
          "output_type": "execute_result",
          "data": {
            "text/plain": [
              "      sq  is_warsaw  floor  rooms  is_greater_1970  price_euro\n",
              "0  74.05          0      2      3                1    157290.0\n",
              "1  37.00          0      2      2                1     89670.0\n",
              "2  34.55          0      2      1                1     87066.0\n",
              "3  63.40          1      3      4                1    129150.0\n",
              "4  67.00          1      2      3                1    109200.0"
            ],
            "text/html": [
              "\n",
              "  <div id=\"df-753b4280-7546-47b6-9340-e85f8323f175\">\n",
              "    <div class=\"colab-df-container\">\n",
              "      <div>\n",
              "<style scoped>\n",
              "    .dataframe tbody tr th:only-of-type {\n",
              "        vertical-align: middle;\n",
              "    }\n",
              "\n",
              "    .dataframe tbody tr th {\n",
              "        vertical-align: top;\n",
              "    }\n",
              "\n",
              "    .dataframe thead th {\n",
              "        text-align: right;\n",
              "    }\n",
              "</style>\n",
              "<table border=\"1\" class=\"dataframe\">\n",
              "  <thead>\n",
              "    <tr style=\"text-align: right;\">\n",
              "      <th></th>\n",
              "      <th>sq</th>\n",
              "      <th>is_warsaw</th>\n",
              "      <th>floor</th>\n",
              "      <th>rooms</th>\n",
              "      <th>is_greater_1970</th>\n",
              "      <th>price_euro</th>\n",
              "    </tr>\n",
              "  </thead>\n",
              "  <tbody>\n",
              "    <tr>\n",
              "      <th>0</th>\n",
              "      <td>74.05</td>\n",
              "      <td>0</td>\n",
              "      <td>2</td>\n",
              "      <td>3</td>\n",
              "      <td>1</td>\n",
              "      <td>157290.0</td>\n",
              "    </tr>\n",
              "    <tr>\n",
              "      <th>1</th>\n",
              "      <td>37.00</td>\n",
              "      <td>0</td>\n",
              "      <td>2</td>\n",
              "      <td>2</td>\n",
              "      <td>1</td>\n",
              "      <td>89670.0</td>\n",
              "    </tr>\n",
              "    <tr>\n",
              "      <th>2</th>\n",
              "      <td>34.55</td>\n",
              "      <td>0</td>\n",
              "      <td>2</td>\n",
              "      <td>1</td>\n",
              "      <td>1</td>\n",
              "      <td>87066.0</td>\n",
              "    </tr>\n",
              "    <tr>\n",
              "      <th>3</th>\n",
              "      <td>63.40</td>\n",
              "      <td>1</td>\n",
              "      <td>3</td>\n",
              "      <td>4</td>\n",
              "      <td>1</td>\n",
              "      <td>129150.0</td>\n",
              "    </tr>\n",
              "    <tr>\n",
              "      <th>4</th>\n",
              "      <td>67.00</td>\n",
              "      <td>1</td>\n",
              "      <td>2</td>\n",
              "      <td>3</td>\n",
              "      <td>1</td>\n",
              "      <td>109200.0</td>\n",
              "    </tr>\n",
              "  </tbody>\n",
              "</table>\n",
              "</div>\n",
              "      <button class=\"colab-df-convert\" onclick=\"convertToInteractive('df-753b4280-7546-47b6-9340-e85f8323f175')\"\n",
              "              title=\"Convert this dataframe to an interactive table.\"\n",
              "              style=\"display:none;\">\n",
              "        \n",
              "  <svg xmlns=\"http://www.w3.org/2000/svg\" height=\"24px\"viewBox=\"0 0 24 24\"\n",
              "       width=\"24px\">\n",
              "    <path d=\"M0 0h24v24H0V0z\" fill=\"none\"/>\n",
              "    <path d=\"M18.56 5.44l.94 2.06.94-2.06 2.06-.94-2.06-.94-.94-2.06-.94 2.06-2.06.94zm-11 1L8.5 8.5l.94-2.06 2.06-.94-2.06-.94L8.5 2.5l-.94 2.06-2.06.94zm10 10l.94 2.06.94-2.06 2.06-.94-2.06-.94-.94-2.06-.94 2.06-2.06.94z\"/><path d=\"M17.41 7.96l-1.37-1.37c-.4-.4-.92-.59-1.43-.59-.52 0-1.04.2-1.43.59L10.3 9.45l-7.72 7.72c-.78.78-.78 2.05 0 2.83L4 21.41c.39.39.9.59 1.41.59.51 0 1.02-.2 1.41-.59l7.78-7.78 2.81-2.81c.8-.78.8-2.07 0-2.86zM5.41 20L4 18.59l7.72-7.72 1.47 1.35L5.41 20z\"/>\n",
              "  </svg>\n",
              "      </button>\n",
              "      \n",
              "  <style>\n",
              "    .colab-df-container {\n",
              "      display:flex;\n",
              "      flex-wrap:wrap;\n",
              "      gap: 12px;\n",
              "    }\n",
              "\n",
              "    .colab-df-convert {\n",
              "      background-color: #E8F0FE;\n",
              "      border: none;\n",
              "      border-radius: 50%;\n",
              "      cursor: pointer;\n",
              "      display: none;\n",
              "      fill: #1967D2;\n",
              "      height: 32px;\n",
              "      padding: 0 0 0 0;\n",
              "      width: 32px;\n",
              "    }\n",
              "\n",
              "    .colab-df-convert:hover {\n",
              "      background-color: #E2EBFA;\n",
              "      box-shadow: 0px 1px 2px rgba(60, 64, 67, 0.3), 0px 1px 3px 1px rgba(60, 64, 67, 0.15);\n",
              "      fill: #174EA6;\n",
              "    }\n",
              "\n",
              "    [theme=dark] .colab-df-convert {\n",
              "      background-color: #3B4455;\n",
              "      fill: #D2E3FC;\n",
              "    }\n",
              "\n",
              "    [theme=dark] .colab-df-convert:hover {\n",
              "      background-color: #434B5C;\n",
              "      box-shadow: 0px 1px 3px 1px rgba(0, 0, 0, 0.15);\n",
              "      filter: drop-shadow(0px 1px 2px rgba(0, 0, 0, 0.3));\n",
              "      fill: #FFFFFF;\n",
              "    }\n",
              "  </style>\n",
              "\n",
              "      <script>\n",
              "        const buttonEl =\n",
              "          document.querySelector('#df-753b4280-7546-47b6-9340-e85f8323f175 button.colab-df-convert');\n",
              "        buttonEl.style.display =\n",
              "          google.colab.kernel.accessAllowed ? 'block' : 'none';\n",
              "\n",
              "        async function convertToInteractive(key) {\n",
              "          const element = document.querySelector('#df-753b4280-7546-47b6-9340-e85f8323f175');\n",
              "          const dataTable =\n",
              "            await google.colab.kernel.invokeFunction('convertToInteractive',\n",
              "                                                     [key], {});\n",
              "          if (!dataTable) return;\n",
              "\n",
              "          const docLinkHtml = 'Like what you see? Visit the ' +\n",
              "            '<a target=\"_blank\" href=https://colab.research.google.com/notebooks/data_table.ipynb>data table notebook</a>'\n",
              "            + ' to learn more about interactive tables.';\n",
              "          element.innerHTML = '';\n",
              "          dataTable['output_type'] = 'display_data';\n",
              "          await google.colab.output.renderOutput(dataTable, element);\n",
              "          const docLink = document.createElement('div');\n",
              "          docLink.innerHTML = docLinkHtml;\n",
              "          element.appendChild(docLink);\n",
              "        }\n",
              "      </script>\n",
              "    </div>\n",
              "  </div>\n",
              "  "
            ]
          },
          "metadata": {},
          "execution_count": 39
        }
      ]
    },
    {
      "cell_type": "code",
      "source": [
        "df_features.describe()"
      ],
      "metadata": {
        "colab": {
          "base_uri": "https://localhost:8080/",
          "height": 300
        },
        "id": "4q0eRPLDA2uj",
        "outputId": "a95e30f0-b1c4-4e69-b165-19b913d8fccf"
      },
      "execution_count": 40,
      "outputs": [
        {
          "output_type": "execute_result",
          "data": {
            "text/plain": [
              "                sq    is_warsaw        floor        rooms  is_greater_1970  \\\n",
              "count  9830.000000  9830.000000  9830.000000  9830.000000      9830.000000   \n",
              "mean     56.961384     0.369278     2.872940     2.541709         0.837030   \n",
              "std      20.359094     0.482634     0.796159     0.831176         0.369358   \n",
              "min      25.010000     0.000000     2.000000     1.000000         0.000000   \n",
              "25%      42.180000     0.000000     2.000000     2.000000         1.000000   \n",
              "50%      53.220000     0.000000     3.000000     3.000000         1.000000   \n",
              "75%      67.235000     1.000000     4.000000     3.000000         1.000000   \n",
              "max     150.000000     1.000000     4.000000     4.000000         1.000000   \n",
              "\n",
              "         price_euro  \n",
              "count  9.830000e+03  \n",
              "mean   1.257120e+05  \n",
              "std    7.019161e+04  \n",
              "min    1.449000e+04  \n",
              "25%    8.651354e+04  \n",
              "50%    1.081500e+05  \n",
              "75%    1.417500e+05  \n",
              "max    1.891680e+06  "
            ],
            "text/html": [
              "\n",
              "  <div id=\"df-bcada137-7d4f-498c-9275-c59992b23b43\">\n",
              "    <div class=\"colab-df-container\">\n",
              "      <div>\n",
              "<style scoped>\n",
              "    .dataframe tbody tr th:only-of-type {\n",
              "        vertical-align: middle;\n",
              "    }\n",
              "\n",
              "    .dataframe tbody tr th {\n",
              "        vertical-align: top;\n",
              "    }\n",
              "\n",
              "    .dataframe thead th {\n",
              "        text-align: right;\n",
              "    }\n",
              "</style>\n",
              "<table border=\"1\" class=\"dataframe\">\n",
              "  <thead>\n",
              "    <tr style=\"text-align: right;\">\n",
              "      <th></th>\n",
              "      <th>sq</th>\n",
              "      <th>is_warsaw</th>\n",
              "      <th>floor</th>\n",
              "      <th>rooms</th>\n",
              "      <th>is_greater_1970</th>\n",
              "      <th>price_euro</th>\n",
              "    </tr>\n",
              "  </thead>\n",
              "  <tbody>\n",
              "    <tr>\n",
              "      <th>count</th>\n",
              "      <td>9830.000000</td>\n",
              "      <td>9830.000000</td>\n",
              "      <td>9830.000000</td>\n",
              "      <td>9830.000000</td>\n",
              "      <td>9830.000000</td>\n",
              "      <td>9.830000e+03</td>\n",
              "    </tr>\n",
              "    <tr>\n",
              "      <th>mean</th>\n",
              "      <td>56.961384</td>\n",
              "      <td>0.369278</td>\n",
              "      <td>2.872940</td>\n",
              "      <td>2.541709</td>\n",
              "      <td>0.837030</td>\n",
              "      <td>1.257120e+05</td>\n",
              "    </tr>\n",
              "    <tr>\n",
              "      <th>std</th>\n",
              "      <td>20.359094</td>\n",
              "      <td>0.482634</td>\n",
              "      <td>0.796159</td>\n",
              "      <td>0.831176</td>\n",
              "      <td>0.369358</td>\n",
              "      <td>7.019161e+04</td>\n",
              "    </tr>\n",
              "    <tr>\n",
              "      <th>min</th>\n",
              "      <td>25.010000</td>\n",
              "      <td>0.000000</td>\n",
              "      <td>2.000000</td>\n",
              "      <td>1.000000</td>\n",
              "      <td>0.000000</td>\n",
              "      <td>1.449000e+04</td>\n",
              "    </tr>\n",
              "    <tr>\n",
              "      <th>25%</th>\n",
              "      <td>42.180000</td>\n",
              "      <td>0.000000</td>\n",
              "      <td>2.000000</td>\n",
              "      <td>2.000000</td>\n",
              "      <td>1.000000</td>\n",
              "      <td>8.651354e+04</td>\n",
              "    </tr>\n",
              "    <tr>\n",
              "      <th>50%</th>\n",
              "      <td>53.220000</td>\n",
              "      <td>0.000000</td>\n",
              "      <td>3.000000</td>\n",
              "      <td>3.000000</td>\n",
              "      <td>1.000000</td>\n",
              "      <td>1.081500e+05</td>\n",
              "    </tr>\n",
              "    <tr>\n",
              "      <th>75%</th>\n",
              "      <td>67.235000</td>\n",
              "      <td>1.000000</td>\n",
              "      <td>4.000000</td>\n",
              "      <td>3.000000</td>\n",
              "      <td>1.000000</td>\n",
              "      <td>1.417500e+05</td>\n",
              "    </tr>\n",
              "    <tr>\n",
              "      <th>max</th>\n",
              "      <td>150.000000</td>\n",
              "      <td>1.000000</td>\n",
              "      <td>4.000000</td>\n",
              "      <td>4.000000</td>\n",
              "      <td>1.000000</td>\n",
              "      <td>1.891680e+06</td>\n",
              "    </tr>\n",
              "  </tbody>\n",
              "</table>\n",
              "</div>\n",
              "      <button class=\"colab-df-convert\" onclick=\"convertToInteractive('df-bcada137-7d4f-498c-9275-c59992b23b43')\"\n",
              "              title=\"Convert this dataframe to an interactive table.\"\n",
              "              style=\"display:none;\">\n",
              "        \n",
              "  <svg xmlns=\"http://www.w3.org/2000/svg\" height=\"24px\"viewBox=\"0 0 24 24\"\n",
              "       width=\"24px\">\n",
              "    <path d=\"M0 0h24v24H0V0z\" fill=\"none\"/>\n",
              "    <path d=\"M18.56 5.44l.94 2.06.94-2.06 2.06-.94-2.06-.94-.94-2.06-.94 2.06-2.06.94zm-11 1L8.5 8.5l.94-2.06 2.06-.94-2.06-.94L8.5 2.5l-.94 2.06-2.06.94zm10 10l.94 2.06.94-2.06 2.06-.94-2.06-.94-.94-2.06-.94 2.06-2.06.94z\"/><path d=\"M17.41 7.96l-1.37-1.37c-.4-.4-.92-.59-1.43-.59-.52 0-1.04.2-1.43.59L10.3 9.45l-7.72 7.72c-.78.78-.78 2.05 0 2.83L4 21.41c.39.39.9.59 1.41.59.51 0 1.02-.2 1.41-.59l7.78-7.78 2.81-2.81c.8-.78.8-2.07 0-2.86zM5.41 20L4 18.59l7.72-7.72 1.47 1.35L5.41 20z\"/>\n",
              "  </svg>\n",
              "      </button>\n",
              "      \n",
              "  <style>\n",
              "    .colab-df-container {\n",
              "      display:flex;\n",
              "      flex-wrap:wrap;\n",
              "      gap: 12px;\n",
              "    }\n",
              "\n",
              "    .colab-df-convert {\n",
              "      background-color: #E8F0FE;\n",
              "      border: none;\n",
              "      border-radius: 50%;\n",
              "      cursor: pointer;\n",
              "      display: none;\n",
              "      fill: #1967D2;\n",
              "      height: 32px;\n",
              "      padding: 0 0 0 0;\n",
              "      width: 32px;\n",
              "    }\n",
              "\n",
              "    .colab-df-convert:hover {\n",
              "      background-color: #E2EBFA;\n",
              "      box-shadow: 0px 1px 2px rgba(60, 64, 67, 0.3), 0px 1px 3px 1px rgba(60, 64, 67, 0.15);\n",
              "      fill: #174EA6;\n",
              "    }\n",
              "\n",
              "    [theme=dark] .colab-df-convert {\n",
              "      background-color: #3B4455;\n",
              "      fill: #D2E3FC;\n",
              "    }\n",
              "\n",
              "    [theme=dark] .colab-df-convert:hover {\n",
              "      background-color: #434B5C;\n",
              "      box-shadow: 0px 1px 3px 1px rgba(0, 0, 0, 0.15);\n",
              "      filter: drop-shadow(0px 1px 2px rgba(0, 0, 0, 0.3));\n",
              "      fill: #FFFFFF;\n",
              "    }\n",
              "  </style>\n",
              "\n",
              "      <script>\n",
              "        const buttonEl =\n",
              "          document.querySelector('#df-bcada137-7d4f-498c-9275-c59992b23b43 button.colab-df-convert');\n",
              "        buttonEl.style.display =\n",
              "          google.colab.kernel.accessAllowed ? 'block' : 'none';\n",
              "\n",
              "        async function convertToInteractive(key) {\n",
              "          const element = document.querySelector('#df-bcada137-7d4f-498c-9275-c59992b23b43');\n",
              "          const dataTable =\n",
              "            await google.colab.kernel.invokeFunction('convertToInteractive',\n",
              "                                                     [key], {});\n",
              "          if (!dataTable) return;\n",
              "\n",
              "          const docLinkHtml = 'Like what you see? Visit the ' +\n",
              "            '<a target=\"_blank\" href=https://colab.research.google.com/notebooks/data_table.ipynb>data table notebook</a>'\n",
              "            + ' to learn more about interactive tables.';\n",
              "          element.innerHTML = '';\n",
              "          dataTable['output_type'] = 'display_data';\n",
              "          await google.colab.output.renderOutput(dataTable, element);\n",
              "          const docLink = document.createElement('div');\n",
              "          docLink.innerHTML = docLinkHtml;\n",
              "          element.appendChild(docLink);\n",
              "        }\n",
              "      </script>\n",
              "    </div>\n",
              "  </div>\n",
              "  "
            ]
          },
          "metadata": {},
          "execution_count": 40
        }
      ]
    },
    {
      "cell_type": "markdown",
      "source": [
        "![purple-divider](https://user-images.githubusercontent.com/7065401/52071927-c1cd7100-2562-11e9-908a-dde91ba14e59.png)"
      ],
      "metadata": {
        "id": "nPVRsaV65kmS"
      }
    },
    {
      "cell_type": "markdown",
      "source": [
        "## Correlation Between Features"
      ],
      "metadata": {
        "id": "6Du6Q5uf5omC"
      }
    },
    {
      "cell_type": "markdown",
      "source": [
        "### Correlation Heatmap"
      ],
      "metadata": {
        "id": "ICV_T1Wv8N54"
      }
    },
    {
      "cell_type": "code",
      "source": [
        "# heatmap of features correlation\n",
        "f, ax = plt.subplots(figsize=(14, 10))\n",
        "\n",
        "sns.heatmap(df_features.corr(), vmin=-1, vmax=1, annot=True, cmap='YlGnBu_r')\n",
        "\n",
        "plt.title('Features Correlation Heatmap', pad=12)\n",
        "plt.show()"
      ],
      "metadata": {
        "colab": {
          "base_uri": "https://localhost:8080/",
          "height": 614
        },
        "id": "CUABLAYZ5tAS",
        "outputId": "4f80f86e-5f70-491a-bfe9-325eb44dd26f"
      },
      "execution_count": 41,
      "outputs": [
        {
          "output_type": "display_data",
          "data": {
            "text/plain": [
              "<Figure size 1008x720 with 2 Axes>"
            ],
            "image/png": "[encoded data removed]"
          },
          "metadata": {
            "needs_background": "light"
          }
        }
      ]
    },
    {
      "cell_type": "markdown",
      "source": [
        "- As can be seen in the **Heatmap** above there is little or none *Multicolinearity* between the features. None of them is lower than $-0.5$ and 2 are greater than $0.5$. This means, that the features selected are linearly independent among them and are suitable for a *Linear Regression Model*"
      ],
      "metadata": {
        "id": "7XTXA9De7KTz"
      }
    },
    {
      "cell_type": "markdown",
      "source": [
        "![purple-divider](https://user-images.githubusercontent.com/7065401/52071927-c1cd7100-2562-11e9-908a-dde91ba14e59.png)"
      ],
      "metadata": {
        "id": "25NyVFb6_zLc"
      }
    },
    {
      "cell_type": "markdown",
      "source": [
        "## Linear Regression Model\n",
        "\n",
        "$$ y = \\beta_0 + \\beta_1 x_1 + \\beta_2 x_2 + \\beta_3 x3 + \\beta_4 x4 + \\beta_5 x_5 $$"
      ],
      "metadata": {
        "id": "99s5Pt4QpB8H"
      }
    },
    {
      "cell_type": "markdown",
      "source": [
        "### Train Test Split"
      ],
      "metadata": {
        "id": "-vUziTH5nMci"
      }
    },
    {
      "cell_type": "code",
      "source": [
        "# xs\n",
        "xs = df_features[['is_warsaw', 'floor', 'rooms', 'sq', 'is_greater_1970']]\n",
        "xs = np.array(xs)\n",
        "\n",
        "# turn to tensor\n",
        "xs = torch.tensor(xs)\n",
        "\n",
        "xs"
      ],
      "metadata": {
        "colab": {
          "base_uri": "https://localhost:8080/"
        },
        "id": "YhFk6jOZpHYc",
        "outputId": "4c45c535-ae77-4fdd-a477-be08bd99540e"
      },
      "execution_count": 42,
      "outputs": [
        {
          "output_type": "execute_result",
          "data": {
            "text/plain": [
              "tensor([[ 0.0000,  2.0000,  3.0000, 74.0500,  1.0000],\n",
              "        [ 0.0000,  2.0000,  2.0000, 37.0000,  1.0000],\n",
              "        [ 0.0000,  2.0000,  1.0000, 34.5500,  1.0000],\n",
              "        ...,\n",
              "        [ 0.0000,  3.0000,  2.0000, 35.2300,  1.0000],\n",
              "        [ 1.0000,  4.0000,  3.0000, 71.0000,  1.0000],\n",
              "        [ 1.0000,  2.0000,  3.0000, 63.0000,  1.0000]], dtype=torch.float64)"
            ]
          },
          "metadata": {},
          "execution_count": 42
        }
      ]
    },
    {
      "cell_type": "code",
      "source": [
        "# y\n",
        "y = df_features['price_euro']\n",
        "y = np.array(y)\n",
        "\n",
        "# turn to tensor\n",
        "y = torch.tensor(y)\n",
        "\n",
        "y"
      ],
      "metadata": {
        "colab": {
          "base_uri": "https://localhost:8080/"
        },
        "id": "KQbcFw6Cqm2j",
        "outputId": "6c63db07-f02e-4ff0-aedb-743f4039662c"
      },
      "execution_count": 43,
      "outputs": [
        {
          "output_type": "execute_result",
          "data": {
            "text/plain": [
              "tensor([157290.0000,  89670.0000,  87066.0000,  ...,  61744.4100,\n",
              "        191100.0000, 127008.0000], dtype=torch.float64)"
            ]
          },
          "metadata": {},
          "execution_count": 43
        }
      ]
    },
    {
      "cell_type": "code",
      "source": [
        "# import train_test_split\n",
        "from sklearn.model_selection import train_test_split\n",
        "\n",
        "# split data into training and test\n",
        "xs_train, xs_test, y_train, y_test = train_test_split(xs, y, test_size=0.2, random_state=100)\n",
        "\n",
        "# check xs and y train \n",
        "print(f'xs_train length: {len(xs_train)}')\n",
        "print(f'y_train length: {len(y_train)}', '\\n')\n",
        "\n",
        "# check xs and y test\n",
        "print(f'xs_test length: {len(xs_test)}')\n",
        "print(f'y_test length: {len(y_test)}')"
      ],
      "metadata": {
        "colab": {
          "base_uri": "https://localhost:8080/"
        },
        "id": "Nu7smn7LbQt0",
        "outputId": "7c0cc380-acf6-463d-bbbf-a23f8bc25b70"
      },
      "execution_count": 44,
      "outputs": [
        {
          "output_type": "stream",
          "name": "stdout",
          "text": [
            "xs_train length: 7864\n",
            "y_train length: 7864 \n",
            "\n",
            "xs_test length: 1966\n",
            "y_test length: 1966\n"
          ]
        }
      ]
    },
    {
      "cell_type": "code",
      "source": [
        "# check y_train\n",
        "y_train"
      ],
      "metadata": {
        "colab": {
          "base_uri": "https://localhost:8080/"
        },
        "id": "-cZXLDHDd_ki",
        "outputId": "59d4a9c0-fc7f-4ea0-c0af-37d51a4920fa"
      },
      "execution_count": 45,
      "outputs": [
        {
          "output_type": "execute_result",
          "data": {
            "text/plain": [
              "tensor([145110.0000, 139658.4000, 115500.0000,  ...,  67122.9300,\n",
              "        157500.0000,  71190.0000], dtype=torch.float64)"
            ]
          },
          "metadata": {},
          "execution_count": 45
        }
      ]
    },
    {
      "cell_type": "markdown",
      "source": [
        "![green-divider](https://user-images.githubusercontent.com/7065401/52071924-c003ad80-2562-11e9-8297-1c6595f8a7ff.png)"
      ],
      "metadata": {
        "id": "Gi3B28yMgTEf"
      }
    },
    {
      "cell_type": "markdown",
      "source": [
        "### Step 1: Forward Pass"
      ],
      "metadata": {
        "id": "sLlXX9c1pQJG"
      }
    },
    {
      "cell_type": "code",
      "source": [
        "# regression function to calculate y_hats >> coefficient * column vector of x\n",
        "def regression(x, b_0, b_1, b_2, b_3, b_4, b_5):\n",
        "    return b_0 + b_1*x[:, 0] + b_2*x[:, 1] + b_3*x[:, 2] + b_4*x[:, 3] + b_5*x[:, 4]\n",
        "\n"
      ],
      "metadata": {
        "id": "jbXanFq-qtCq"
      },
      "execution_count": 46,
      "outputs": []
    },
    {
      "cell_type": "code",
      "source": [
        "# initialize parameters with tracking gradient\n",
        "b_0 = torch.tensor([20000.]).requires_grad_()\n",
        "b_1 = torch.tensor([550.5]).requires_grad_()\n",
        "b_2 = torch.tensor([908.5]).requires_grad_()\n",
        "b_3 = torch.tensor([10340.8]).requires_grad_()\n",
        "b_4 = torch.tensor([510.2]).requires_grad_()\n",
        "b_5 = torch.tensor([240.1]).requires_grad_()"
      ],
      "metadata": {
        "id": "bBIilPZ7sWdy"
      },
      "execution_count": 47,
      "outputs": []
    },
    {
      "cell_type": "code",
      "source": [
        "# y_hats\n",
        "y_hats = regression(xs_train, b_0, b_1, b_2, b_3, b_4, b_5)\n",
        "\n",
        "\n",
        "print(y_hats.shape, '\\n')  \n",
        "y_hats"
      ],
      "metadata": {
        "colab": {
          "base_uri": "https://localhost:8080/"
        },
        "id": "Gahr5oy6tUzK",
        "outputId": "c146b3f5-863c-4fd7-9468-570579435ea9"
      },
      "execution_count": 48,
      "outputs": [
        {
          "output_type": "stream",
          "name": "stdout",
          "text": [
            "torch.Size([7864]) \n",
            "\n"
          ]
        },
        {
          "output_type": "execute_result",
          "data": {
            "text/plain": [
              "tensor([ 87538.5802, 114226.3604,  62579.9001,  ...,  52045.7023,\n",
              "         92691.6003,  63882.0761], dtype=torch.float64, grad_fn=<AddBackward0>)"
            ]
          },
          "metadata": {},
          "execution_count": 48
        }
      ]
    },
    {
      "cell_type": "code",
      "source": [
        "# function to plot y vs y_hats\n",
        "def plot_ys(y, y_hat):\n",
        "\n",
        "  # turn tensors into arrays\n",
        "  y = y.detach().numpy()\n",
        "  y_hat = y_hat.detach().numpy()\n",
        "\n",
        "  # plot scatterplot\n",
        "  f, ax = plt.subplots(figsize=(12, 6))\n",
        "\n",
        "  sns.scatterplot(x=y, y=y_hat, color='crimson', alpha=0.4)\n",
        "  plt.xlabel('Actual Price: $Y_i$')\n",
        "  plt.ylabel('Predicted Price: $\\hat{Y}_i$')\n",
        "\n",
        "  plt.title('Actual House Price Vs Predicted House Price', pad=12)\n",
        "\n",
        "  plt.show()"
      ],
      "metadata": {
        "id": "m5vRdWnVcr-h"
      },
      "execution_count": 49,
      "outputs": []
    },
    {
      "cell_type": "code",
      "source": [
        "# plot ys Vs y_hat\n",
        "plot_ys(y_train, y_hats)"
      ],
      "metadata": {
        "colab": {
          "base_uri": "https://localhost:8080/",
          "height": 414
        },
        "id": "HXTD8tmMdMhg",
        "outputId": "bde71866-ced0-4bfa-f839-835d707c7ae7"
      },
      "execution_count": 50,
      "outputs": [
        {
          "output_type": "display_data",
          "data": {
            "text/plain": [
              "<Figure size 864x432 with 1 Axes>"
            ],
            "image/png": "[encoded data removed]"
          },
          "metadata": {
            "needs_background": "light"
          }
        }
      ]
    },
    {
      "cell_type": "markdown",
      "source": [
        "![green-divider](https://user-images.githubusercontent.com/7065401/52071924-c003ad80-2562-11e9-8297-1c6595f8a7ff.png)"
      ],
      "metadata": {
        "id": "iZvACA5ngUZ4"
      }
    },
    {
      "cell_type": "markdown",
      "source": [
        "### Step 2: Calculate Cost $C$\n",
        "\n",
        "- We are going to use **Mean Square Error**, averages the quadratic cost $(\\hat{y} - y)^2$ across multiple data points:\n",
        "\n",
        "$$ C = \\frac{1}{n} \\sum_{i=1}^n  (\\hat{y} - y)^2$$"
      ],
      "metadata": {
        "id": "aaX7PbL_gU_4"
      }
    },
    {
      "cell_type": "code",
      "source": [
        "# function that calculates Cost\n",
        "def mse(y, y_hat):\n",
        "  cost = 0\n",
        "\n",
        "  for i in range(len(y)):\n",
        "    cost += (y_hat[i] - y[i])**2\n",
        "\n",
        "  cost = cost/len(y)\n",
        "\n",
        "  return cost"
      ],
      "metadata": {
        "id": "xxHHsKCAgxk0"
      },
      "execution_count": 51,
      "outputs": []
    },
    {
      "cell_type": "code",
      "source": [
        "# calculate Cost\n",
        "C = mse(y_train, y_hats)\n",
        "\n",
        "print(f'Cost: {C}')\n",
        "C"
      ],
      "metadata": {
        "colab": {
          "base_uri": "https://localhost:8080/"
        },
        "id": "PLsXcKgDhtb3",
        "outputId": "aa27d38b-1de0-4a72-f855-b96b4bcc2e46"
      },
      "execution_count": 52,
      "outputs": [
        {
          "output_type": "stream",
          "name": "stdout",
          "text": [
            "Cost: 5749589533.7376175\n"
          ]
        },
        {
          "output_type": "execute_result",
          "data": {
            "text/plain": [
              "tensor(5.7496e+09, dtype=torch.float64, grad_fn=<DivBackward0>)"
            ]
          },
          "metadata": {},
          "execution_count": 52
        }
      ]
    },
    {
      "cell_type": "markdown",
      "source": [
        "![green-divider](https://user-images.githubusercontent.com/7065401/52071924-c003ad80-2562-11e9-8297-1c6595f8a7ff.png)"
      ],
      "metadata": {
        "id": "mg76Va3wi17N"
      }
    },
    {
      "cell_type": "markdown",
      "source": [
        "### Step 3: Calculate $\\nabla C$ with Respect to Paramaters"
      ],
      "metadata": {
        "id": "jDNGyup-i9aY"
      }
    },
    {
      "cell_type": "markdown",
      "source": [
        "#### Autodiff"
      ],
      "metadata": {
        "id": "1iRnQYRqjdDm"
      }
    },
    {
      "cell_type": "code",
      "source": [
        "# backward propagate C\n",
        "C.backward()"
      ],
      "metadata": {
        "id": "W8ehLUV_jfHX"
      },
      "execution_count": 53,
      "outputs": []
    },
    {
      "cell_type": "code",
      "source": [
        "# Partial Derivative of dC/dB_0 >> y_intercept\n",
        "print('dC/dB_0')\n",
        "b_0.grad"
      ],
      "metadata": {
        "colab": {
          "base_uri": "https://localhost:8080/"
        },
        "id": "v-Iwnhstn2G0",
        "outputId": "50e096ea-d970-4c47-c30b-c037be136925"
      },
      "execution_count": 54,
      "outputs": [
        {
          "output_type": "stream",
          "name": "stdout",
          "text": [
            "dC/dB_0\n"
          ]
        },
        {
          "output_type": "execute_result",
          "data": {
            "text/plain": [
              "tensor([-93020.0938])"
            ]
          },
          "metadata": {},
          "execution_count": 54
        }
      ]
    },
    {
      "cell_type": "code",
      "source": [
        "# Partial Derivative of dC/dB_1 >> is_warsaw\n",
        "print('dC/dB_1')\n",
        "b_1.grad"
      ],
      "metadata": {
        "colab": {
          "base_uri": "https://localhost:8080/"
        },
        "id": "Q9ySMsx-oH61",
        "outputId": "93fe3737-1d8a-487c-973c-ed8fefa11743"
      },
      "execution_count": 55,
      "outputs": [
        {
          "output_type": "stream",
          "name": "stdout",
          "text": [
            "dC/dB_1\n"
          ]
        },
        {
          "output_type": "execute_result",
          "data": {
            "text/plain": [
              "tensor([-49677.8828])"
            ]
          },
          "metadata": {},
          "execution_count": 55
        }
      ]
    },
    {
      "cell_type": "code",
      "source": [
        "# Partial Derivative of dC/dB_2 >> floor\n",
        "print('dC/dB_2')\n",
        "b_2.grad"
      ],
      "metadata": {
        "colab": {
          "base_uri": "https://localhost:8080/"
        },
        "id": "DjeTlfYloR6F",
        "outputId": "f58ef1b7-bcde-4b58-dc3a-a184aaeee9b3"
      },
      "execution_count": 56,
      "outputs": [
        {
          "output_type": "stream",
          "name": "stdout",
          "text": [
            "dC/dB_2\n"
          ]
        },
        {
          "output_type": "execute_result",
          "data": {
            "text/plain": [
              "tensor([-265444.2812])"
            ]
          },
          "metadata": {},
          "execution_count": 56
        }
      ]
    },
    {
      "cell_type": "code",
      "source": [
        "# Partial Derivative of dC/dB_3 >> rooms\n",
        "print('dC/dB_3')\n",
        "b_3.grad"
      ],
      "metadata": {
        "colab": {
          "base_uri": "https://localhost:8080/"
        },
        "id": "4dTTlcIzon4r",
        "outputId": "c373ec1f-f567-468f-dc69-9ad22467d7cb"
      },
      "execution_count": 57,
      "outputs": [
        {
          "output_type": "stream",
          "name": "stdout",
          "text": [
            "dC/dB_3\n"
          ]
        },
        {
          "output_type": "execute_result",
          "data": {
            "text/plain": [
              "tensor([-258401.9219])"
            ]
          },
          "metadata": {},
          "execution_count": 57
        }
      ]
    },
    {
      "cell_type": "code",
      "source": [
        "# Partial Derivative of dC/dB_4 >> sq\n",
        "print('dC/dB_4')\n",
        "b_4.grad"
      ],
      "metadata": {
        "colab": {
          "base_uri": "https://localhost:8080/"
        },
        "id": "NSRpKD5Zox59",
        "outputId": "d5f2d0a9-23e2-478a-b1d0-80c5aa35796c"
      },
      "execution_count": 58,
      "outputs": [
        {
          "output_type": "stream",
          "name": "stdout",
          "text": [
            "dC/dB_4\n"
          ]
        },
        {
          "output_type": "execute_result",
          "data": {
            "text/plain": [
              "tensor([-6514242.5000])"
            ]
          },
          "metadata": {},
          "execution_count": 58
        }
      ]
    },
    {
      "cell_type": "code",
      "source": [
        "# Partial Derivative of dC/dB_5 >> is_greater_1970\n",
        "print('dC/dB_5')\n",
        "b_5.grad"
      ],
      "metadata": {
        "colab": {
          "base_uri": "https://localhost:8080/"
        },
        "id": "zzSsd487pBQe",
        "outputId": "b6e44e72-dbf5-442e-b2c0-0684aba176fe"
      },
      "execution_count": 59,
      "outputs": [
        {
          "output_type": "stream",
          "name": "stdout",
          "text": [
            "dC/dB_5\n"
          ]
        },
        {
          "output_type": "execute_result",
          "data": {
            "text/plain": [
              "tensor([-73901.7422])"
            ]
          },
          "metadata": {},
          "execution_count": 59
        }
      ]
    },
    {
      "cell_type": "markdown",
      "source": [
        "![green-divider](https://user-images.githubusercontent.com/7065401/52071924-c003ad80-2562-11e9-8297-1c6595f8a7ff.png)"
      ],
      "metadata": {
        "id": "Z92s9NGlpjkY"
      }
    },
    {
      "cell_type": "markdown",
      "source": [
        "#### Manual Calculation of $\\nabla C$ with Respect to Parameters\n",
        "\n",
        "- Our parameters $b_0,b_1,b_2,b_3,b_4,b_5$ determine $\\hat{y}$"
      ],
      "metadata": {
        "id": "Z9z1yaglpka-"
      }
    },
    {
      "cell_type": "markdown",
      "source": [
        "\n",
        "\n",
        "$$ C = \\frac{1}{n} \\sum_{i=1}^n (\\hat{y} - y)^2 $$\n",
        "<br>\n",
        "$$ u = (\\hat{y} - y) $$\n",
        "$$ C = \\frac{1}{n} \\sum u^2 $$\n",
        "<br>\n",
        "\n",
        "- Partial Derivative of $u$ with respect to $\\hat{y}$:\n",
        "  - $\\frac{du}{d\\hat{y}} = 1 - 0 = 1$\n",
        "\n",
        "<br>\n",
        "\n",
        "- Partial Derivative of $C$ with respect to $u$:\n",
        "  \n",
        "  - $\\frac{dC}{du} = \\frac{1}{n} \\sum u^2 = \\frac{1}{n} \\sum 2u $\n",
        "  <br>\n",
        "\n",
        "  - $\\frac{dC}{du} = \\frac{2}{n} \\sum (\\hat{y} - y) $\n",
        "\n",
        "<br>\n",
        "\n",
        "- Partial Derivative of $C$ with respect to $\\hat{y}$: \n",
        "\n",
        "  - $\\frac{dC}{d\\hat{y}} = \\frac{dC}{du} \\frac{du}{d\\hat{y}} = \\frac{2}{n} \\sum (\\hat{y} - y) * 1$\n",
        "  <br>\n",
        "\n",
        "  - $\\frac{dC}{d\\hat{y}} = \\frac{2}{n} \\sum(\\hat{y} - y) $\n"
      ],
      "metadata": {
        "id": "Za92Tk6Cfp26"
      }
    },
    {
      "cell_type": "markdown",
      "source": [
        "![green-divider](https://user-images.githubusercontent.com/7065401/52071924-c003ad80-2562-11e9-8297-1c6595f8a7ff.png)"
      ],
      "metadata": {
        "id": "MWtPMTdck1cu"
      }
    },
    {
      "cell_type": "markdown",
      "source": [
        "$$ \\hat{y}_i = \\beta_0 + \\beta_1 x_1 + \\beta_2 x_2 + \\beta_3 x3 + \\beta_4 x4 + \\beta_5 x_5 $$\n",
        "<br>\n",
        "\n",
        "- Partial Derivative of $\\hat{y}$ with respect to $b_0$:\n",
        "  - $ \\frac{d\\hat{y}}{db_0} = 1 + 0 + 0 + 0 + 0 + 0 = 1 $\n",
        "\n",
        "<br>\n",
        "\n",
        "- Partial Derivative of $\\hat{y}$ with respect to $b_1$:\n",
        "  - $\\frac{d\\hat{y}}{db_1} = 0 + x_1 + 0 + 0 + 0 + 0 = x_1$\n",
        "\n",
        "<br>\n",
        "\n",
        "- Partial Derivative of $\\hat{y}$ with respect to $b_2$:\n",
        "  - $\\frac{d\\hat{y}}{db_2} = 0 + 0 + x_2 + 0 + 0 + 0 = x_2$\n",
        "\n",
        "<br>\n",
        "\n",
        "- Partial Derivative of $\\hat{y}$ with respect to $b_3$:\n",
        "  - $\\frac{d\\hat{y}}{db_3} = 0 + 0 + 0 + x_3 + 0 + 0 = x_3$\n",
        "\n",
        "<br>\n",
        "\n",
        "- Partial Derivative of $\\hat{y}$ with respect to $b_4$:\n",
        "  - $\\frac{d\\hat{y}}{db_4} = 0 + 0 + 0 + 0 + x_4 + 0 = x_4$\n",
        "\n",
        "<br>\n",
        "\n",
        "- Partial Derivative of $\\hat{y}$ with respect to $b_5$:\n",
        "  - $\\frac{d\\hat{y}}{db_5} = 0 + 0 + 0 + 0 + 0 + x_5 = x_5$\n",
        "\n"
      ],
      "metadata": {
        "id": "4_ubryEKlRj-"
      }
    },
    {
      "cell_type": "markdown",
      "source": [
        "![green-divider](https://user-images.githubusercontent.com/7065401/52071924-c003ad80-2562-11e9-8297-1c6595f8a7ff.png)"
      ],
      "metadata": {
        "id": "MujG2tchoLwf"
      }
    },
    {
      "cell_type": "markdown",
      "source": [
        "##### Partial Derivative of $C$ with respect to $b_0$ *(y-intercept)*\n",
        "\n",
        "$$ \\frac{dC}{db_0} = \\frac{dC}{du} \\frac{du}{d\\hat{y}} \\frac{d\\hat{y}}{db_0} $$\n",
        "<br>\n",
        "$$ \\frac{dC}{db_0} = \\frac{2}{n} \\sum(\\hat{y} - y) * 1 $$"
      ],
      "metadata": {
        "id": "EEO5kZdOoOUG"
      }
    },
    {
      "cell_type": "code",
      "source": [
        "# dC/db_0 >> (2/n) * SUM(y_hats-y) * 1\n",
        "dC_db0 = 0\n",
        "\n",
        "for i in range(len(y_train)):\n",
        "  dC_db0 += y_hats[i] - y_train[i]\n",
        "\n",
        "dC_db0 = (2/len(y_train)) * dC_db0\n",
        "\n",
        "print('dC/db_0 >> (2/n) * SUM(y_hats-y) * 1', '\\n')\n",
        "print(f'dC_db_0: {dC_db0}')\n",
        "print(f'Autodiff: {b_0.grad[0]}')"
      ],
      "metadata": {
        "colab": {
          "base_uri": "https://localhost:8080/"
        },
        "id": "GrHcdJyDprwQ",
        "outputId": "a92a73c3-17ae-471b-abf3-9c8890211280"
      },
      "execution_count": 62,
      "outputs": [
        {
          "output_type": "stream",
          "name": "stdout",
          "text": [
            "dC/db_0 >> 2/n SUM(y_hats-y) * 1 \n",
            "\n",
            "dC_db_0: -93020.09537402896\n",
            "Autodiff: -93020.09375\n"
          ]
        }
      ]
    },
    {
      "cell_type": "markdown",
      "source": [
        "![green-divider](https://user-images.githubusercontent.com/7065401/52071924-c003ad80-2562-11e9-8297-1c6595f8a7ff.png)"
      ],
      "metadata": {
        "id": "_myCyPppr4ip"
      }
    },
    {
      "cell_type": "markdown",
      "source": [
        "#### Partial Derivative of $C$ with respesct to $b_1$ *(is_warsaw)*\n",
        "\n",
        "$$ \\frac{dC}{db_1} = \\frac{dC}{du} \\frac{du}{d\\hat{y}} \\frac{d\\hat{y}}{db_1}  $$\n",
        "<br>\n",
        "$$ \\frac{dC}{db_1} = \\frac{2}{n} \\sum (\\hat{y} - y) * x_1 $$\n"
      ],
      "metadata": {
        "id": "CrZir9glsJLG"
      }
    },
    {
      "cell_type": "code",
      "source": [
        "# function to calculate partial derivatives of params b_1 to b_5\n",
        "def deriv_params(ys, y_hats, x):\n",
        "  dC_dp = 0\n",
        "\n",
        "  for i in range(len(ys)):\n",
        "    dC_dp += (y_hats[i] - ys[i]) * x[i]\n",
        "\n",
        "  dC_dp = (2/len(ys)) * dC_dp\n",
        "\n",
        "  return dC_dp "
      ],
      "metadata": {
        "id": "sX-RnhmAs-zj"
      },
      "execution_count": 63,
      "outputs": []
    },
    {
      "cell_type": "code",
      "source": [
        "xs_train[:, 0]"
      ],
      "metadata": {
        "colab": {
          "base_uri": "https://localhost:8080/"
        },
        "id": "dhRspCHpuBJO",
        "outputId": "e4b237de-ab71-4d79-e9d3-00283b8302ae"
      },
      "execution_count": 66,
      "outputs": [
        {
          "output_type": "execute_result",
          "data": {
            "text/plain": [
              "tensor([1., 0., 1.,  ..., 0., 1., 0.], dtype=torch.float64)"
            ]
          },
          "metadata": {},
          "execution_count": 66
        }
      ]
    },
    {
      "cell_type": "code",
      "source": [
        "# dC_db1 >> (2/n) * SUM(y_hats - y) * x_1\n",
        "dC_db1 = deriv_params(y_train, y_hats, xs_train[:, 0])\n",
        "\n",
        "print('dC_db1 >> (2/n) * SUM(y_hats - y) * x_1', '\\n')\n",
        "print(f'dC_db1: {dC_db1}')\n",
        "print(f'Autodiff: {b_1.grad[0]}')"
      ],
      "metadata": {
        "colab": {
          "base_uri": "https://localhost:8080/"
        },
        "id": "Et2aLHjOtkSq",
        "outputId": "81cb8a20-a8a3-4f11-c1ab-f1fc32573cc5"
      },
      "execution_count": 70,
      "outputs": [
        {
          "output_type": "stream",
          "name": "stdout",
          "text": [
            "dC_db1 >> (2/n) * SUM(y_hats - y) * x_1 \n",
            "\n",
            "dC_db1: -49677.8812835667\n",
            "Autodiff: -49677.8828125\n"
          ]
        }
      ]
    }
  ]
}