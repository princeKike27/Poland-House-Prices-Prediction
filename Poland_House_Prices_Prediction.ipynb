{
  "nbformat": 4,
  "nbformat_minor": 0,
  "metadata": {
    "colab": {
      "name": "Poland House Prices Prediction.ipynb",
      "provenance": [],
      "collapsed_sections": [],
      "authorship_tag": "ABX9TyPzw8HnP+dsSUhh8Beh6hHT",
      "include_colab_link": true
    },
    "kernelspec": {
      "name": "python3",
      "display_name": "Python 3"
    },
    "language_info": {
      "name": "python"
    }
  },
  "cells": [
    {
      "cell_type": "markdown",
      "metadata": {
        "id": "view-in-github",
        "colab_type": "text"
      },
      "source": [
        "<a href=\"https://colab.research.google.com/github/princeKike27/Poland-House-Prices-Prediction/blob/main/Poland_House_Prices_Prediction.ipynb\" target=\"_parent\"><img src=\"https://colab.research.google.com/assets/colab-badge.svg\" alt=\"Open In Colab\"/></a>"
      ]
    },
    {
      "cell_type": "markdown",
      "source": [
        "# Poland House Prices Prediction\n",
        "\n",
        "For this project I analyzed data from the housing market in 3 cities in Poland Krakow, Warsaw and Poznań ...."
      ],
      "metadata": {
        "id": "Bi4FwZQ0MrxN"
      }
    },
    {
      "cell_type": "markdown",
      "source": [
        "![purple-divider](https://user-images.githubusercontent.com/7065401/52071927-c1cd7100-2562-11e9-908a-dde91ba14e59.png)"
      ],
      "metadata": {
        "id": "Vczta8LiRfbB"
      }
    },
    {
      "cell_type": "code",
      "source": [
        "# import modules\n",
        "import pandas as pd\n",
        "import numpy as np\n",
        "import matplotlib.pyplot as plt\n",
        "import seaborn as sns\n",
        "\n",
        "import torch"
      ],
      "metadata": {
        "id": "5qWBNZinRu6k"
      },
      "execution_count": 1,
      "outputs": []
    },
    {
      "cell_type": "code",
      "source": [
        "# load dataset\n",
        "df_houses = pd.read_csv('https://raw.githubusercontent.com/princeKike27/Poland-House-Prices-Prediction/main/poland_houses.csv',\n",
        "                        encoding='latin-1', sep=';')\n",
        "\n",
        "df_houses"
      ],
      "metadata": {
        "colab": {
          "base_uri": "https://localhost:8080/",
          "height": 424
        },
        "id": "xPEfNVDHaN-x",
        "outputId": "6e5b2f65-290c-4500-c5e1-4b3dd9e45ea3"
      },
      "execution_count": 2,
      "outputs": [
        {
          "output_type": "execute_result",
          "data": {
            "text/plain": [
              "                                                 address      city  floor  \\\n",
              "0               Podgórze Zab³ocie Stanis³awa Klimeckiego    Kraków    2.0   \n",
              "1                              Praga-Po³udnie Grochowska  Warszawa    3.0   \n",
              "2                                Krowodrza Czarnowiejska    Kraków    2.0   \n",
              "3                                               Grunwald    Poznañ    2.0   \n",
              "4      Ochota Gotowy budynek. Stan deweloperski. Osta...  Warszawa    1.0   \n",
              "...                                                  ...       ...    ...   \n",
              "23759                            Stare Miasto Naramowice    Poznañ    0.0   \n",
              "23760                                             W³ochy  Warszawa    4.0   \n",
              "23761                    Nowe Miasto Malta ul. Katowicka    Poznañ    0.0   \n",
              "23762                 Podgórze Duchackie Walerego S³awka    Kraków    6.0   \n",
              "23763                                            Ursynów  Warszawa    2.0   \n",
              "\n",
              "            id     latitude    longitude      price  rooms      sq    year  \n",
              "0      23918.0  500.492.242  199.703.793   749000.0    3.0   74.05  2021.0  \n",
              "1      17828.0  522.497.745  211.068.857   240548.0    1.0   24.38  2021.0  \n",
              "2      22784.0  500.669.642  199.200.249   427000.0    2.0   37.00  1970.0  \n",
              "3       4315.0   52.404.212   16.882.542  1290000.0    5.0  166.00  1935.0  \n",
              "4      11770.0   52.212.225  209.726.299   996000.0    5.0  105.00  2020.0  \n",
              "...        ...          ...          ...        ...    ...     ...     ...  \n",
              "23759   3976.0  524.496.489  169.494.082   543000.0    4.0   77.00  2020.0  \n",
              "23760  10206.0  521.861.093  209.484.377   910000.0    3.0   71.00  2017.0  \n",
              "23761   4952.0  523.973.449  169.619.394   430695.0    3.0   50.67  2022.0  \n",
              "23762  24148.0  500.242.313   19.959.569   359000.0    2.0   38.86  2021.0  \n",
              "23763  10889.0   52.141.039  210.323.214   604800.0    3.0   63.00  1978.0  \n",
              "\n",
              "[23764 rows x 10 columns]"
            ],
            "text/html": [
              "\n",
              "  <div id=\"df-eee6016b-c257-44dc-addf-2ea7cad75de6\">\n",
              "    <div class=\"colab-df-container\">\n",
              "      <div>\n",
              "<style scoped>\n",
              "    .dataframe tbody tr th:only-of-type {\n",
              "        vertical-align: middle;\n",
              "    }\n",
              "\n",
              "    .dataframe tbody tr th {\n",
              "        vertical-align: top;\n",
              "    }\n",
              "\n",
              "    .dataframe thead th {\n",
              "        text-align: right;\n",
              "    }\n",
              "</style>\n",
              "<table border=\"1\" class=\"dataframe\">\n",
              "  <thead>\n",
              "    <tr style=\"text-align: right;\">\n",
              "      <th></th>\n",
              "      <th>address</th>\n",
              "      <th>city</th>\n",
              "      <th>floor</th>\n",
              "      <th>id</th>\n",
              "      <th>latitude</th>\n",
              "      <th>longitude</th>\n",
              "      <th>price</th>\n",
              "      <th>rooms</th>\n",
              "      <th>sq</th>\n",
              "      <th>year</th>\n",
              "    </tr>\n",
              "  </thead>\n",
              "  <tbody>\n",
              "    <tr>\n",
              "      <th>0</th>\n",
              "      <td>Podgórze Zab³ocie Stanis³awa Klimeckiego</td>\n",
              "      <td>Kraków</td>\n",
              "      <td>2.0</td>\n",
              "      <td>23918.0</td>\n",
              "      <td>500.492.242</td>\n",
              "      <td>199.703.793</td>\n",
              "      <td>749000.0</td>\n",
              "      <td>3.0</td>\n",
              "      <td>74.05</td>\n",
              "      <td>2021.0</td>\n",
              "    </tr>\n",
              "    <tr>\n",
              "      <th>1</th>\n",
              "      <td>Praga-Po³udnie Grochowska</td>\n",
              "      <td>Warszawa</td>\n",
              "      <td>3.0</td>\n",
              "      <td>17828.0</td>\n",
              "      <td>522.497.745</td>\n",
              "      <td>211.068.857</td>\n",
              "      <td>240548.0</td>\n",
              "      <td>1.0</td>\n",
              "      <td>24.38</td>\n",
              "      <td>2021.0</td>\n",
              "    </tr>\n",
              "    <tr>\n",
              "      <th>2</th>\n",
              "      <td>Krowodrza Czarnowiejska</td>\n",
              "      <td>Kraków</td>\n",
              "      <td>2.0</td>\n",
              "      <td>22784.0</td>\n",
              "      <td>500.669.642</td>\n",
              "      <td>199.200.249</td>\n",
              "      <td>427000.0</td>\n",
              "      <td>2.0</td>\n",
              "      <td>37.00</td>\n",
              "      <td>1970.0</td>\n",
              "    </tr>\n",
              "    <tr>\n",
              "      <th>3</th>\n",
              "      <td>Grunwald</td>\n",
              "      <td>Poznañ</td>\n",
              "      <td>2.0</td>\n",
              "      <td>4315.0</td>\n",
              "      <td>52.404.212</td>\n",
              "      <td>16.882.542</td>\n",
              "      <td>1290000.0</td>\n",
              "      <td>5.0</td>\n",
              "      <td>166.00</td>\n",
              "      <td>1935.0</td>\n",
              "    </tr>\n",
              "    <tr>\n",
              "      <th>4</th>\n",
              "      <td>Ochota Gotowy budynek. Stan deweloperski. Osta...</td>\n",
              "      <td>Warszawa</td>\n",
              "      <td>1.0</td>\n",
              "      <td>11770.0</td>\n",
              "      <td>52.212.225</td>\n",
              "      <td>209.726.299</td>\n",
              "      <td>996000.0</td>\n",
              "      <td>5.0</td>\n",
              "      <td>105.00</td>\n",
              "      <td>2020.0</td>\n",
              "    </tr>\n",
              "    <tr>\n",
              "      <th>...</th>\n",
              "      <td>...</td>\n",
              "      <td>...</td>\n",
              "      <td>...</td>\n",
              "      <td>...</td>\n",
              "      <td>...</td>\n",
              "      <td>...</td>\n",
              "      <td>...</td>\n",
              "      <td>...</td>\n",
              "      <td>...</td>\n",
              "      <td>...</td>\n",
              "    </tr>\n",
              "    <tr>\n",
              "      <th>23759</th>\n",
              "      <td>Stare Miasto Naramowice</td>\n",
              "      <td>Poznañ</td>\n",
              "      <td>0.0</td>\n",
              "      <td>3976.0</td>\n",
              "      <td>524.496.489</td>\n",
              "      <td>169.494.082</td>\n",
              "      <td>543000.0</td>\n",
              "      <td>4.0</td>\n",
              "      <td>77.00</td>\n",
              "      <td>2020.0</td>\n",
              "    </tr>\n",
              "    <tr>\n",
              "      <th>23760</th>\n",
              "      <td>W³ochy</td>\n",
              "      <td>Warszawa</td>\n",
              "      <td>4.0</td>\n",
              "      <td>10206.0</td>\n",
              "      <td>521.861.093</td>\n",
              "      <td>209.484.377</td>\n",
              "      <td>910000.0</td>\n",
              "      <td>3.0</td>\n",
              "      <td>71.00</td>\n",
              "      <td>2017.0</td>\n",
              "    </tr>\n",
              "    <tr>\n",
              "      <th>23761</th>\n",
              "      <td>Nowe Miasto Malta ul. Katowicka</td>\n",
              "      <td>Poznañ</td>\n",
              "      <td>0.0</td>\n",
              "      <td>4952.0</td>\n",
              "      <td>523.973.449</td>\n",
              "      <td>169.619.394</td>\n",
              "      <td>430695.0</td>\n",
              "      <td>3.0</td>\n",
              "      <td>50.67</td>\n",
              "      <td>2022.0</td>\n",
              "    </tr>\n",
              "    <tr>\n",
              "      <th>23762</th>\n",
              "      <td>Podgórze Duchackie Walerego S³awka</td>\n",
              "      <td>Kraków</td>\n",
              "      <td>6.0</td>\n",
              "      <td>24148.0</td>\n",
              "      <td>500.242.313</td>\n",
              "      <td>19.959.569</td>\n",
              "      <td>359000.0</td>\n",
              "      <td>2.0</td>\n",
              "      <td>38.86</td>\n",
              "      <td>2021.0</td>\n",
              "    </tr>\n",
              "    <tr>\n",
              "      <th>23763</th>\n",
              "      <td>Ursynów</td>\n",
              "      <td>Warszawa</td>\n",
              "      <td>2.0</td>\n",
              "      <td>10889.0</td>\n",
              "      <td>52.141.039</td>\n",
              "      <td>210.323.214</td>\n",
              "      <td>604800.0</td>\n",
              "      <td>3.0</td>\n",
              "      <td>63.00</td>\n",
              "      <td>1978.0</td>\n",
              "    </tr>\n",
              "  </tbody>\n",
              "</table>\n",
              "<p>23764 rows × 10 columns</p>\n",
              "</div>\n",
              "      <button class=\"colab-df-convert\" onclick=\"convertToInteractive('df-eee6016b-c257-44dc-addf-2ea7cad75de6')\"\n",
              "              title=\"Convert this dataframe to an interactive table.\"\n",
              "              style=\"display:none;\">\n",
              "        \n",
              "  <svg xmlns=\"http://www.w3.org/2000/svg\" height=\"24px\"viewBox=\"0 0 24 24\"\n",
              "       width=\"24px\">\n",
              "    <path d=\"M0 0h24v24H0V0z\" fill=\"none\"/>\n",
              "    <path d=\"M18.56 5.44l.94 2.06.94-2.06 2.06-.94-2.06-.94-.94-2.06-.94 2.06-2.06.94zm-11 1L8.5 8.5l.94-2.06 2.06-.94-2.06-.94L8.5 2.5l-.94 2.06-2.06.94zm10 10l.94 2.06.94-2.06 2.06-.94-2.06-.94-.94-2.06-.94 2.06-2.06.94z\"/><path d=\"M17.41 7.96l-1.37-1.37c-.4-.4-.92-.59-1.43-.59-.52 0-1.04.2-1.43.59L10.3 9.45l-7.72 7.72c-.78.78-.78 2.05 0 2.83L4 21.41c.39.39.9.59 1.41.59.51 0 1.02-.2 1.41-.59l7.78-7.78 2.81-2.81c.8-.78.8-2.07 0-2.86zM5.41 20L4 18.59l7.72-7.72 1.47 1.35L5.41 20z\"/>\n",
              "  </svg>\n",
              "      </button>\n",
              "      \n",
              "  <style>\n",
              "    .colab-df-container {\n",
              "      display:flex;\n",
              "      flex-wrap:wrap;\n",
              "      gap: 12px;\n",
              "    }\n",
              "\n",
              "    .colab-df-convert {\n",
              "      background-color: #E8F0FE;\n",
              "      border: none;\n",
              "      border-radius: 50%;\n",
              "      cursor: pointer;\n",
              "      display: none;\n",
              "      fill: #1967D2;\n",
              "      height: 32px;\n",
              "      padding: 0 0 0 0;\n",
              "      width: 32px;\n",
              "    }\n",
              "\n",
              "    .colab-df-convert:hover {\n",
              "      background-color: #E2EBFA;\n",
              "      box-shadow: 0px 1px 2px rgba(60, 64, 67, 0.3), 0px 1px 3px 1px rgba(60, 64, 67, 0.15);\n",
              "      fill: #174EA6;\n",
              "    }\n",
              "\n",
              "    [theme=dark] .colab-df-convert {\n",
              "      background-color: #3B4455;\n",
              "      fill: #D2E3FC;\n",
              "    }\n",
              "\n",
              "    [theme=dark] .colab-df-convert:hover {\n",
              "      background-color: #434B5C;\n",
              "      box-shadow: 0px 1px 3px 1px rgba(0, 0, 0, 0.15);\n",
              "      filter: drop-shadow(0px 1px 2px rgba(0, 0, 0, 0.3));\n",
              "      fill: #FFFFFF;\n",
              "    }\n",
              "  </style>\n",
              "\n",
              "      <script>\n",
              "        const buttonEl =\n",
              "          document.querySelector('#df-eee6016b-c257-44dc-addf-2ea7cad75de6 button.colab-df-convert');\n",
              "        buttonEl.style.display =\n",
              "          google.colab.kernel.accessAllowed ? 'block' : 'none';\n",
              "\n",
              "        async function convertToInteractive(key) {\n",
              "          const element = document.querySelector('#df-eee6016b-c257-44dc-addf-2ea7cad75de6');\n",
              "          const dataTable =\n",
              "            await google.colab.kernel.invokeFunction('convertToInteractive',\n",
              "                                                     [key], {});\n",
              "          if (!dataTable) return;\n",
              "\n",
              "          const docLinkHtml = 'Like what you see? Visit the ' +\n",
              "            '<a target=\"_blank\" href=https://colab.research.google.com/notebooks/data_table.ipynb>data table notebook</a>'\n",
              "            + ' to learn more about interactive tables.';\n",
              "          element.innerHTML = '';\n",
              "          dataTable['output_type'] = 'display_data';\n",
              "          await google.colab.output.renderOutput(dataTable, element);\n",
              "          const docLink = document.createElement('div');\n",
              "          docLink.innerHTML = docLinkHtml;\n",
              "          element.appendChild(docLink);\n",
              "        }\n",
              "      </script>\n",
              "    </div>\n",
              "  </div>\n",
              "  "
            ]
          },
          "metadata": {},
          "execution_count": 2
        }
      ]
    },
    {
      "cell_type": "markdown",
      "source": [
        "![purple-divider](https://user-images.githubusercontent.com/7065401/52071927-c1cd7100-2562-11e9-908a-dde91ba14e59.png)"
      ],
      "metadata": {
        "id": "9AWzf8CZccmm"
      }
    },
    {
      "cell_type": "markdown",
      "source": [
        "## Data Cleaning & Tidying"
      ],
      "metadata": {
        "id": "VkQGO5ncceqM"
      }
    },
    {
      "cell_type": "code",
      "source": [
        "# shape of df \n",
        "print(df_houses.shape)"
      ],
      "metadata": {
        "colab": {
          "base_uri": "https://localhost:8080/"
        },
        "id": "JiQXQRQuci2Q",
        "outputId": "413c1058-1874-41cd-894b-c405a415f685"
      },
      "execution_count": 3,
      "outputs": [
        {
          "output_type": "stream",
          "name": "stdout",
          "text": [
            "(23764, 10)\n"
          ]
        }
      ]
    },
    {
      "cell_type": "code",
      "source": [
        "# column types\n",
        "df_houses.dtypes"
      ],
      "metadata": {
        "colab": {
          "base_uri": "https://localhost:8080/"
        },
        "id": "nMc5fkrkcu5F",
        "outputId": "37ce2f01-8741-4708-9b72-23168f3d6082"
      },
      "execution_count": 4,
      "outputs": [
        {
          "output_type": "execute_result",
          "data": {
            "text/plain": [
              "address       object\n",
              "city          object\n",
              "floor        float64\n",
              "id           float64\n",
              "latitude      object\n",
              "longitude     object\n",
              "price        float64\n",
              "rooms        float64\n",
              "sq           float64\n",
              "year         float64\n",
              "dtype: object"
            ]
          },
          "metadata": {},
          "execution_count": 4
        }
      ]
    },
    {
      "cell_type": "code",
      "source": [
        "# change floor, rooms, year to int\n",
        "df_houses['floor'] = df_houses['floor'].astype(int)\n",
        "df_houses['rooms'] = df_houses['rooms'].astype(int)\n",
        "df_houses['year'] = df_houses['year'].astype(int)\n"
      ],
      "metadata": {
        "id": "WfIwEpvVgD-l"
      },
      "execution_count": 5,
      "outputs": []
    },
    {
      "cell_type": "code",
      "source": [
        "# unique values of year column\n",
        "df_houses.year.unique()"
      ],
      "metadata": {
        "colab": {
          "base_uri": "https://localhost:8080/"
        },
        "id": "Q0j4aSIly60A",
        "outputId": "014c7f2d-2cb2-461f-adcb-4bedddbf8d8c"
      },
      "execution_count": 6,
      "outputs": [
        {
          "output_type": "execute_result",
          "data": {
            "text/plain": [
              "array([2021, 1970, 1935, 2020, 2022, 2003, 1982, 1999, 1968, 1989, 2019,\n",
              "       2005, 1930, 2008, 1960, 2013, 1936, 1890, 2010, 1972, 2016, 2009,\n",
              "       1990, 2018, 2000, 1974, 1976, 2017, 1980, 1938, 1926, 1963, 2015,\n",
              "       2012, 1971, 1949, 1977, 1920, 2014, 2007, 2001, 1911, 1973, 2006,\n",
              "       1975, 1978, 1987, 1984, 2023, 1904, 2004, 1956, 1900, 1966, 1950,\n",
              "       1931, 1912, 1951, 1955, 1983, 1964, 1905, 1962, 2011, 1939, 1965,\n",
              "       1967, 2002, 1952, 1927, 1991, 1985, 1953, 1969, 1979, 1910, 1988,\n",
              "       1954, 1997, 1998, 1886, 1992, 1996, 1959, 1880, 1981, 1916, 1986,\n",
              "       1918, 1879, 1946, 1901, 1780, 1995, 1908, 1937,   75, 1994, 1864,\n",
              "       1919, 1923, 1958, 1993, 1915, 1948, 1907, 1957, 1961, 1902, 1924,\n",
              "       1885, 1934, 1947, 1925, 1913, 1892, 1922, 1929, 1841, 1933, 1897,\n",
              "       1895, 1932, 1854, 1893, 1903, 1906, 1830, 2980,   80, 1940, 1914,\n",
              "       1760, 1898, 1928,  202, 1942, 1876, 1899,   70, 1896, 1945, 1784,\n",
              "       1860, 1889, 1883, 1917,  195, 1921,   81, 1943, 1872, 1070, 1884,\n",
              "       2024, 1790, 1909, 1870, 1801, 1824, 1941, 1535, 1850,  200, 1390,\n",
              "       1800, 1944,  214])"
            ]
          },
          "metadata": {},
          "execution_count": 6
        }
      ]
    },
    {
      "cell_type": "code",
      "source": [
        "# select rows with years 75, 214, 2980, 80, 202, 70, 195, 81, 200 \n",
        "df_houses[(df_houses['year'] == 75) | (df_houses['year'] == 214) | (df_houses['year'] == 2980) |\n",
        "          (df_houses['year'] == 80) | (df_houses['year'] == 202) | (df_houses['year'] == 70) |\n",
        "          (df_houses['year'] == 195) | (df_houses['year'] == 81) | (df_houses['year'] == 200)]"
      ],
      "metadata": {
        "colab": {
          "base_uri": "https://localhost:8080/",
          "height": 363
        },
        "id": "MUTZEnBYzT8K",
        "outputId": "a0d5f037-65a5-4f16-fe6e-7a5889c5fb29"
      },
      "execution_count": 7,
      "outputs": [
        {
          "output_type": "execute_result",
          "data": {
            "text/plain": [
              "                                             address      city  floor  \\\n",
              "1032                             ródmiecie ¯urawia  Warszawa      1   \n",
              "4345                                  Targówek Mokra  Warszawa      8   \n",
              "4513                                 Wola Krochmalna  Warszawa     10   \n",
              "6458             Bie¿anów-Prokocim Bie¿anów Pod³êska    Kraków      2   \n",
              "7659                            Nowe Miasto G³uszyna    Poznañ      2   \n",
              "8972                   Grunwald £azarz ul. G³ogowska    Poznañ      1   \n",
              "10408                            Bemowo ul. Karabeli  Warszawa      9   \n",
              "14431  Stare Miasto Pi¹tkowo os. Boles³awa Chrobrego    Poznañ      1   \n",
              "19206       Krowodrza Krowodrza Górka S³omczyñskiego    Kraków      0   \n",
              "22999                      Bielany Radiowo Arkuszowa  Warszawa      2   \n",
              "\n",
              "            id     latitude               longitude     price  rooms     sq  \\\n",
              "1032   14485.0  522.319.581             210.067.249  760000.0      3  53.00   \n",
              "4345   16082.0  522.319.581             210.067.249  520000.0      3  56.00   \n",
              "4513   13832.0  522.319.581             210.067.249  320000.0      1  28.00   \n",
              "6458   21883.0  500.469.432  19.997.153.435.836.600  410000.0      2  48.00   \n",
              "7659    1603.0  523.263.616             169.628.861  235000.0      2  40.50   \n",
              "8972      56.0  524.016.616             169.100.607  329000.0      2  27.80   \n",
              "10408   8116.0  522.319.581             210.067.249  450000.0      2  47.80   \n",
              "14431    640.0  524.006.632   1.691.973.259.178.080  375000.0      3  64.00   \n",
              "19206  27281.0  500.469.432  19.997.153.435.836.600  655000.0      3  73.22   \n",
              "22999  11359.0  522.319.581             210.067.249  660000.0      3  59.00   \n",
              "\n",
              "       year  \n",
              "1032     75  \n",
              "4345   2980  \n",
              "4513     80  \n",
              "6458    202  \n",
              "7659     70  \n",
              "8972    195  \n",
              "10408    81  \n",
              "14431    80  \n",
              "19206   200  \n",
              "22999   214  "
            ],
            "text/html": [
              "\n",
              "  <div id=\"df-6cbb8207-ddaf-4898-8559-30401b3bac97\">\n",
              "    <div class=\"colab-df-container\">\n",
              "      <div>\n",
              "<style scoped>\n",
              "    .dataframe tbody tr th:only-of-type {\n",
              "        vertical-align: middle;\n",
              "    }\n",
              "\n",
              "    .dataframe tbody tr th {\n",
              "        vertical-align: top;\n",
              "    }\n",
              "\n",
              "    .dataframe thead th {\n",
              "        text-align: right;\n",
              "    }\n",
              "</style>\n",
              "<table border=\"1\" class=\"dataframe\">\n",
              "  <thead>\n",
              "    <tr style=\"text-align: right;\">\n",
              "      <th></th>\n",
              "      <th>address</th>\n",
              "      <th>city</th>\n",
              "      <th>floor</th>\n",
              "      <th>id</th>\n",
              "      <th>latitude</th>\n",
              "      <th>longitude</th>\n",
              "      <th>price</th>\n",
              "      <th>rooms</th>\n",
              "      <th>sq</th>\n",
              "      <th>year</th>\n",
              "    </tr>\n",
              "  </thead>\n",
              "  <tbody>\n",
              "    <tr>\n",
              "      <th>1032</th>\n",
              "      <td>ródmiecie ¯urawia</td>\n",
              "      <td>Warszawa</td>\n",
              "      <td>1</td>\n",
              "      <td>14485.0</td>\n",
              "      <td>522.319.581</td>\n",
              "      <td>210.067.249</td>\n",
              "      <td>760000.0</td>\n",
              "      <td>3</td>\n",
              "      <td>53.00</td>\n",
              "      <td>75</td>\n",
              "    </tr>\n",
              "    <tr>\n",
              "      <th>4345</th>\n",
              "      <td>Targówek Mokra</td>\n",
              "      <td>Warszawa</td>\n",
              "      <td>8</td>\n",
              "      <td>16082.0</td>\n",
              "      <td>522.319.581</td>\n",
              "      <td>210.067.249</td>\n",
              "      <td>520000.0</td>\n",
              "      <td>3</td>\n",
              "      <td>56.00</td>\n",
              "      <td>2980</td>\n",
              "    </tr>\n",
              "    <tr>\n",
              "      <th>4513</th>\n",
              "      <td>Wola Krochmalna</td>\n",
              "      <td>Warszawa</td>\n",
              "      <td>10</td>\n",
              "      <td>13832.0</td>\n",
              "      <td>522.319.581</td>\n",
              "      <td>210.067.249</td>\n",
              "      <td>320000.0</td>\n",
              "      <td>1</td>\n",
              "      <td>28.00</td>\n",
              "      <td>80</td>\n",
              "    </tr>\n",
              "    <tr>\n",
              "      <th>6458</th>\n",
              "      <td>Bie¿anów-Prokocim Bie¿anów Pod³êska</td>\n",
              "      <td>Kraków</td>\n",
              "      <td>2</td>\n",
              "      <td>21883.0</td>\n",
              "      <td>500.469.432</td>\n",
              "      <td>19.997.153.435.836.600</td>\n",
              "      <td>410000.0</td>\n",
              "      <td>2</td>\n",
              "      <td>48.00</td>\n",
              "      <td>202</td>\n",
              "    </tr>\n",
              "    <tr>\n",
              "      <th>7659</th>\n",
              "      <td>Nowe Miasto G³uszyna</td>\n",
              "      <td>Poznañ</td>\n",
              "      <td>2</td>\n",
              "      <td>1603.0</td>\n",
              "      <td>523.263.616</td>\n",
              "      <td>169.628.861</td>\n",
              "      <td>235000.0</td>\n",
              "      <td>2</td>\n",
              "      <td>40.50</td>\n",
              "      <td>70</td>\n",
              "    </tr>\n",
              "    <tr>\n",
              "      <th>8972</th>\n",
              "      <td>Grunwald £azarz ul. G³ogowska</td>\n",
              "      <td>Poznañ</td>\n",
              "      <td>1</td>\n",
              "      <td>56.0</td>\n",
              "      <td>524.016.616</td>\n",
              "      <td>169.100.607</td>\n",
              "      <td>329000.0</td>\n",
              "      <td>2</td>\n",
              "      <td>27.80</td>\n",
              "      <td>195</td>\n",
              "    </tr>\n",
              "    <tr>\n",
              "      <th>10408</th>\n",
              "      <td>Bemowo ul. Karabeli</td>\n",
              "      <td>Warszawa</td>\n",
              "      <td>9</td>\n",
              "      <td>8116.0</td>\n",
              "      <td>522.319.581</td>\n",
              "      <td>210.067.249</td>\n",
              "      <td>450000.0</td>\n",
              "      <td>2</td>\n",
              "      <td>47.80</td>\n",
              "      <td>81</td>\n",
              "    </tr>\n",
              "    <tr>\n",
              "      <th>14431</th>\n",
              "      <td>Stare Miasto Pi¹tkowo os. Boles³awa Chrobrego</td>\n",
              "      <td>Poznañ</td>\n",
              "      <td>1</td>\n",
              "      <td>640.0</td>\n",
              "      <td>524.006.632</td>\n",
              "      <td>1.691.973.259.178.080</td>\n",
              "      <td>375000.0</td>\n",
              "      <td>3</td>\n",
              "      <td>64.00</td>\n",
              "      <td>80</td>\n",
              "    </tr>\n",
              "    <tr>\n",
              "      <th>19206</th>\n",
              "      <td>Krowodrza Krowodrza Górka S³omczyñskiego</td>\n",
              "      <td>Kraków</td>\n",
              "      <td>0</td>\n",
              "      <td>27281.0</td>\n",
              "      <td>500.469.432</td>\n",
              "      <td>19.997.153.435.836.600</td>\n",
              "      <td>655000.0</td>\n",
              "      <td>3</td>\n",
              "      <td>73.22</td>\n",
              "      <td>200</td>\n",
              "    </tr>\n",
              "    <tr>\n",
              "      <th>22999</th>\n",
              "      <td>Bielany Radiowo Arkuszowa</td>\n",
              "      <td>Warszawa</td>\n",
              "      <td>2</td>\n",
              "      <td>11359.0</td>\n",
              "      <td>522.319.581</td>\n",
              "      <td>210.067.249</td>\n",
              "      <td>660000.0</td>\n",
              "      <td>3</td>\n",
              "      <td>59.00</td>\n",
              "      <td>214</td>\n",
              "    </tr>\n",
              "  </tbody>\n",
              "</table>\n",
              "</div>\n",
              "      <button class=\"colab-df-convert\" onclick=\"convertToInteractive('df-6cbb8207-ddaf-4898-8559-30401b3bac97')\"\n",
              "              title=\"Convert this dataframe to an interactive table.\"\n",
              "              style=\"display:none;\">\n",
              "        \n",
              "  <svg xmlns=\"http://www.w3.org/2000/svg\" height=\"24px\"viewBox=\"0 0 24 24\"\n",
              "       width=\"24px\">\n",
              "    <path d=\"M0 0h24v24H0V0z\" fill=\"none\"/>\n",
              "    <path d=\"M18.56 5.44l.94 2.06.94-2.06 2.06-.94-2.06-.94-.94-2.06-.94 2.06-2.06.94zm-11 1L8.5 8.5l.94-2.06 2.06-.94-2.06-.94L8.5 2.5l-.94 2.06-2.06.94zm10 10l.94 2.06.94-2.06 2.06-.94-2.06-.94-.94-2.06-.94 2.06-2.06.94z\"/><path d=\"M17.41 7.96l-1.37-1.37c-.4-.4-.92-.59-1.43-.59-.52 0-1.04.2-1.43.59L10.3 9.45l-7.72 7.72c-.78.78-.78 2.05 0 2.83L4 21.41c.39.39.9.59 1.41.59.51 0 1.02-.2 1.41-.59l7.78-7.78 2.81-2.81c.8-.78.8-2.07 0-2.86zM5.41 20L4 18.59l7.72-7.72 1.47 1.35L5.41 20z\"/>\n",
              "  </svg>\n",
              "      </button>\n",
              "      \n",
              "  <style>\n",
              "    .colab-df-container {\n",
              "      display:flex;\n",
              "      flex-wrap:wrap;\n",
              "      gap: 12px;\n",
              "    }\n",
              "\n",
              "    .colab-df-convert {\n",
              "      background-color: #E8F0FE;\n",
              "      border: none;\n",
              "      border-radius: 50%;\n",
              "      cursor: pointer;\n",
              "      display: none;\n",
              "      fill: #1967D2;\n",
              "      height: 32px;\n",
              "      padding: 0 0 0 0;\n",
              "      width: 32px;\n",
              "    }\n",
              "\n",
              "    .colab-df-convert:hover {\n",
              "      background-color: #E2EBFA;\n",
              "      box-shadow: 0px 1px 2px rgba(60, 64, 67, 0.3), 0px 1px 3px 1px rgba(60, 64, 67, 0.15);\n",
              "      fill: #174EA6;\n",
              "    }\n",
              "\n",
              "    [theme=dark] .colab-df-convert {\n",
              "      background-color: #3B4455;\n",
              "      fill: #D2E3FC;\n",
              "    }\n",
              "\n",
              "    [theme=dark] .colab-df-convert:hover {\n",
              "      background-color: #434B5C;\n",
              "      box-shadow: 0px 1px 3px 1px rgba(0, 0, 0, 0.15);\n",
              "      filter: drop-shadow(0px 1px 2px rgba(0, 0, 0, 0.3));\n",
              "      fill: #FFFFFF;\n",
              "    }\n",
              "  </style>\n",
              "\n",
              "      <script>\n",
              "        const buttonEl =\n",
              "          document.querySelector('#df-6cbb8207-ddaf-4898-8559-30401b3bac97 button.colab-df-convert');\n",
              "        buttonEl.style.display =\n",
              "          google.colab.kernel.accessAllowed ? 'block' : 'none';\n",
              "\n",
              "        async function convertToInteractive(key) {\n",
              "          const element = document.querySelector('#df-6cbb8207-ddaf-4898-8559-30401b3bac97');\n",
              "          const dataTable =\n",
              "            await google.colab.kernel.invokeFunction('convertToInteractive',\n",
              "                                                     [key], {});\n",
              "          if (!dataTable) return;\n",
              "\n",
              "          const docLinkHtml = 'Like what you see? Visit the ' +\n",
              "            '<a target=\"_blank\" href=https://colab.research.google.com/notebooks/data_table.ipynb>data table notebook</a>'\n",
              "            + ' to learn more about interactive tables.';\n",
              "          element.innerHTML = '';\n",
              "          dataTable['output_type'] = 'display_data';\n",
              "          await google.colab.output.renderOutput(dataTable, element);\n",
              "          const docLink = document.createElement('div');\n",
              "          docLink.innerHTML = docLinkHtml;\n",
              "          element.appendChild(docLink);\n",
              "        }\n",
              "      </script>\n",
              "    </div>\n",
              "  </div>\n",
              "  "
            ]
          },
          "metadata": {},
          "execution_count": 7
        }
      ]
    },
    {
      "cell_type": "code",
      "source": [
        "# replace years to correct values \n",
        "df_houses['year'].replace({2980: 1980,\n",
        "                           80: 1980,\n",
        "                           202: 2002,\n",
        "                           70: 1970,\n",
        "                           195: 1950,\n",
        "                           81: 1981,\n",
        "                           80: 1980,\n",
        "                           200: 2000,\n",
        "                           75: 1975,\n",
        "                           214: 2014}, inplace=True)"
      ],
      "metadata": {
        "id": "orJ8U8aw0mSs"
      },
      "execution_count": 8,
      "outputs": []
    },
    {
      "cell_type": "code",
      "source": [
        "# check changes\n",
        "df_houses.dtypes"
      ],
      "metadata": {
        "colab": {
          "base_uri": "https://localhost:8080/"
        },
        "id": "GJFTpNPJgOJI",
        "outputId": "409e927e-f89a-4ac8-ae64-d014b3f87fb1"
      },
      "execution_count": 9,
      "outputs": [
        {
          "output_type": "execute_result",
          "data": {
            "text/plain": [
              "address       object\n",
              "city          object\n",
              "floor          int64\n",
              "id           float64\n",
              "latitude      object\n",
              "longitude     object\n",
              "price        float64\n",
              "rooms          int64\n",
              "sq           float64\n",
              "year           int64\n",
              "dtype: object"
            ]
          },
          "metadata": {},
          "execution_count": 9
        }
      ]
    },
    {
      "cell_type": "code",
      "source": [
        "# check for missing values\n",
        "import missingno as msg\n",
        "\n",
        "msg.matrix(df_houses, figsize=(16, 8))"
      ],
      "metadata": {
        "colab": {
          "base_uri": "https://localhost:8080/",
          "height": 567
        },
        "id": "11-QVkkTg6kM",
        "outputId": "da3ee970-a460-4a99-a9bf-2fe0a0d91175"
      },
      "execution_count": 10,
      "outputs": [
        {
          "output_type": "execute_result",
          "data": {
            "text/plain": [
              "<matplotlib.axes._subplots.AxesSubplot at 0x7f801cab8350>"
            ]
          },
          "metadata": {},
          "execution_count": 10
        },
        {
          "output_type": "display_data",
          "data": {
            "text/plain": [
              "<Figure size 1152x576 with 2 Axes>"
            ],
            "image/png": "[encoded data removed]"
          },
          "metadata": {
            "needs_background": "light"
          }
        }
      ]
    },
    {
      "cell_type": "markdown",
      "source": [
        "![purple-divider](https://user-images.githubusercontent.com/7065401/52071927-c1cd7100-2562-11e9-908a-dde91ba14e59.png)"
      ],
      "metadata": {
        "id": "2QGqv0xtk2jT"
      }
    },
    {
      "cell_type": "markdown",
      "source": [
        "## Data Analysis"
      ],
      "metadata": {
        "id": "Wpkf40hulFFD"
      }
    },
    {
      "cell_type": "code",
      "source": [
        "# descriptive statistics of numeric columns\n",
        "df_houses.describe()"
      ],
      "metadata": {
        "colab": {
          "base_uri": "https://localhost:8080/",
          "height": 300
        },
        "id": "YydwzdtwyF3U",
        "outputId": "5fbeb2e6-120f-46af-be32-6a092ab338fe"
      },
      "execution_count": 11,
      "outputs": [
        {
          "output_type": "execute_result",
          "data": {
            "text/plain": [
              "              floor            id         price         rooms            sq  \\\n",
              "count  23764.000000  23764.000000  2.376400e+04  23764.000000  2.376400e+04   \n",
              "mean       2.808744  15621.964484  6.493536e+05      2.620771  1.027249e+02   \n",
              "std        2.463467   8617.293898  5.326970e+05      0.996530  6.533688e+03   \n",
              "min        0.000000      1.000000  5.000000e+03      1.000000  8.800000e+00   \n",
              "25%        1.000000   8420.750000  4.115461e+05      2.000000  4.200000e+01   \n",
              "50%        2.000000  15637.500000  5.200000e+05      3.000000  5.389500e+01   \n",
              "75%        4.000000  23111.250000  6.999990e+05      3.000000  6.891500e+01   \n",
              "max       10.000000  30308.000000  1.500000e+07     10.000000  1.007185e+06   \n",
              "\n",
              "               year  \n",
              "count  23764.000000  \n",
              "mean    2001.209939  \n",
              "std       31.164981  \n",
              "min     1070.000000  \n",
              "25%     1985.000000  \n",
              "50%     2019.000000  \n",
              "75%     2021.000000  \n",
              "max     2024.000000  "
            ],
            "text/html": [
              "\n",
              "  <div id=\"df-8b4f3f96-67b7-4504-a86c-e28ca205fe7d\">\n",
              "    <div class=\"colab-df-container\">\n",
              "      <div>\n",
              "<style scoped>\n",
              "    .dataframe tbody tr th:only-of-type {\n",
              "        vertical-align: middle;\n",
              "    }\n",
              "\n",
              "    .dataframe tbody tr th {\n",
              "        vertical-align: top;\n",
              "    }\n",
              "\n",
              "    .dataframe thead th {\n",
              "        text-align: right;\n",
              "    }\n",
              "</style>\n",
              "<table border=\"1\" class=\"dataframe\">\n",
              "  <thead>\n",
              "    <tr style=\"text-align: right;\">\n",
              "      <th></th>\n",
              "      <th>floor</th>\n",
              "      <th>id</th>\n",
              "      <th>price</th>\n",
              "      <th>rooms</th>\n",
              "      <th>sq</th>\n",
              "      <th>year</th>\n",
              "    </tr>\n",
              "  </thead>\n",
              "  <tbody>\n",
              "    <tr>\n",
              "      <th>count</th>\n",
              "      <td>23764.000000</td>\n",
              "      <td>23764.000000</td>\n",
              "      <td>2.376400e+04</td>\n",
              "      <td>23764.000000</td>\n",
              "      <td>2.376400e+04</td>\n",
              "      <td>23764.000000</td>\n",
              "    </tr>\n",
              "    <tr>\n",
              "      <th>mean</th>\n",
              "      <td>2.808744</td>\n",
              "      <td>15621.964484</td>\n",
              "      <td>6.493536e+05</td>\n",
              "      <td>2.620771</td>\n",
              "      <td>1.027249e+02</td>\n",
              "      <td>2001.209939</td>\n",
              "    </tr>\n",
              "    <tr>\n",
              "      <th>std</th>\n",
              "      <td>2.463467</td>\n",
              "      <td>8617.293898</td>\n",
              "      <td>5.326970e+05</td>\n",
              "      <td>0.996530</td>\n",
              "      <td>6.533688e+03</td>\n",
              "      <td>31.164981</td>\n",
              "    </tr>\n",
              "    <tr>\n",
              "      <th>min</th>\n",
              "      <td>0.000000</td>\n",
              "      <td>1.000000</td>\n",
              "      <td>5.000000e+03</td>\n",
              "      <td>1.000000</td>\n",
              "      <td>8.800000e+00</td>\n",
              "      <td>1070.000000</td>\n",
              "    </tr>\n",
              "    <tr>\n",
              "      <th>25%</th>\n",
              "      <td>1.000000</td>\n",
              "      <td>8420.750000</td>\n",
              "      <td>4.115461e+05</td>\n",
              "      <td>2.000000</td>\n",
              "      <td>4.200000e+01</td>\n",
              "      <td>1985.000000</td>\n",
              "    </tr>\n",
              "    <tr>\n",
              "      <th>50%</th>\n",
              "      <td>2.000000</td>\n",
              "      <td>15637.500000</td>\n",
              "      <td>5.200000e+05</td>\n",
              "      <td>3.000000</td>\n",
              "      <td>5.389500e+01</td>\n",
              "      <td>2019.000000</td>\n",
              "    </tr>\n",
              "    <tr>\n",
              "      <th>75%</th>\n",
              "      <td>4.000000</td>\n",
              "      <td>23111.250000</td>\n",
              "      <td>6.999990e+05</td>\n",
              "      <td>3.000000</td>\n",
              "      <td>6.891500e+01</td>\n",
              "      <td>2021.000000</td>\n",
              "    </tr>\n",
              "    <tr>\n",
              "      <th>max</th>\n",
              "      <td>10.000000</td>\n",
              "      <td>30308.000000</td>\n",
              "      <td>1.500000e+07</td>\n",
              "      <td>10.000000</td>\n",
              "      <td>1.007185e+06</td>\n",
              "      <td>2024.000000</td>\n",
              "    </tr>\n",
              "  </tbody>\n",
              "</table>\n",
              "</div>\n",
              "      <button class=\"colab-df-convert\" onclick=\"convertToInteractive('df-8b4f3f96-67b7-4504-a86c-e28ca205fe7d')\"\n",
              "              title=\"Convert this dataframe to an interactive table.\"\n",
              "              style=\"display:none;\">\n",
              "        \n",
              "  <svg xmlns=\"http://www.w3.org/2000/svg\" height=\"24px\"viewBox=\"0 0 24 24\"\n",
              "       width=\"24px\">\n",
              "    <path d=\"M0 0h24v24H0V0z\" fill=\"none\"/>\n",
              "    <path d=\"M18.56 5.44l.94 2.06.94-2.06 2.06-.94-2.06-.94-.94-2.06-.94 2.06-2.06.94zm-11 1L8.5 8.5l.94-2.06 2.06-.94-2.06-.94L8.5 2.5l-.94 2.06-2.06.94zm10 10l.94 2.06.94-2.06 2.06-.94-2.06-.94-.94-2.06-.94 2.06-2.06.94z\"/><path d=\"M17.41 7.96l-1.37-1.37c-.4-.4-.92-.59-1.43-.59-.52 0-1.04.2-1.43.59L10.3 9.45l-7.72 7.72c-.78.78-.78 2.05 0 2.83L4 21.41c.39.39.9.59 1.41.59.51 0 1.02-.2 1.41-.59l7.78-7.78 2.81-2.81c.8-.78.8-2.07 0-2.86zM5.41 20L4 18.59l7.72-7.72 1.47 1.35L5.41 20z\"/>\n",
              "  </svg>\n",
              "      </button>\n",
              "      \n",
              "  <style>\n",
              "    .colab-df-container {\n",
              "      display:flex;\n",
              "      flex-wrap:wrap;\n",
              "      gap: 12px;\n",
              "    }\n",
              "\n",
              "    .colab-df-convert {\n",
              "      background-color: #E8F0FE;\n",
              "      border: none;\n",
              "      border-radius: 50%;\n",
              "      cursor: pointer;\n",
              "      display: none;\n",
              "      fill: #1967D2;\n",
              "      height: 32px;\n",
              "      padding: 0 0 0 0;\n",
              "      width: 32px;\n",
              "    }\n",
              "\n",
              "    .colab-df-convert:hover {\n",
              "      background-color: #E2EBFA;\n",
              "      box-shadow: 0px 1px 2px rgba(60, 64, 67, 0.3), 0px 1px 3px 1px rgba(60, 64, 67, 0.15);\n",
              "      fill: #174EA6;\n",
              "    }\n",
              "\n",
              "    [theme=dark] .colab-df-convert {\n",
              "      background-color: #3B4455;\n",
              "      fill: #D2E3FC;\n",
              "    }\n",
              "\n",
              "    [theme=dark] .colab-df-convert:hover {\n",
              "      background-color: #434B5C;\n",
              "      box-shadow: 0px 1px 3px 1px rgba(0, 0, 0, 0.15);\n",
              "      filter: drop-shadow(0px 1px 2px rgba(0, 0, 0, 0.3));\n",
              "      fill: #FFFFFF;\n",
              "    }\n",
              "  </style>\n",
              "\n",
              "      <script>\n",
              "        const buttonEl =\n",
              "          document.querySelector('#df-8b4f3f96-67b7-4504-a86c-e28ca205fe7d button.colab-df-convert');\n",
              "        buttonEl.style.display =\n",
              "          google.colab.kernel.accessAllowed ? 'block' : 'none';\n",
              "\n",
              "        async function convertToInteractive(key) {\n",
              "          const element = document.querySelector('#df-8b4f3f96-67b7-4504-a86c-e28ca205fe7d');\n",
              "          const dataTable =\n",
              "            await google.colab.kernel.invokeFunction('convertToInteractive',\n",
              "                                                     [key], {});\n",
              "          if (!dataTable) return;\n",
              "\n",
              "          const docLinkHtml = 'Like what you see? Visit the ' +\n",
              "            '<a target=\"_blank\" href=https://colab.research.google.com/notebooks/data_table.ipynb>data table notebook</a>'\n",
              "            + ' to learn more about interactive tables.';\n",
              "          element.innerHTML = '';\n",
              "          dataTable['output_type'] = 'display_data';\n",
              "          await google.colab.output.renderOutput(dataTable, element);\n",
              "          const docLink = document.createElement('div');\n",
              "          docLink.innerHTML = docLinkHtml;\n",
              "          element.appendChild(docLink);\n",
              "        }\n",
              "      </script>\n",
              "    </div>\n",
              "  </div>\n",
              "  "
            ]
          },
          "metadata": {},
          "execution_count": 11
        }
      ]
    },
    {
      "cell_type": "markdown",
      "source": [
        "### Houses per City"
      ],
      "metadata": {
        "id": "Nceu3O0BpXTG"
      }
    },
    {
      "cell_type": "code",
      "source": [
        "# function to calculate number_houses and avg_price\n",
        "\n",
        "def city_calc(df): \n",
        "  # dict to store columns\n",
        "  calc = {}\n",
        "  calc['number_houses'] = len(df.id)\n",
        "  calc['avg_price'] = df['price'].mean()\n",
        "\n",
        "  # return a Pandas Series\n",
        "  return pd.Series(calc, index=['number_houses', 'avg_price'])"
      ],
      "metadata": {
        "id": "x3bgXUJP2s00"
      },
      "execution_count": 12,
      "outputs": []
    },
    {
      "cell_type": "code",
      "source": [
        "# groupby city & apply function\n",
        "houses_city = df_houses.groupby(['city']).apply(city_calc).reset_index()\n",
        "\n",
        "# add %_homes column\n",
        "houses_city['%_homes'] = (houses_city.number_houses / len(df_houses)) * 100\n",
        "\n",
        "houses_city.head()"
      ],
      "metadata": {
        "colab": {
          "base_uri": "https://localhost:8080/",
          "height": 143
        },
        "id": "8t_XKRtnpbw9",
        "outputId": "938d20ed-0a2d-4e05-c8db-f73df190507e"
      },
      "execution_count": 13,
      "outputs": [
        {
          "output_type": "execute_result",
          "data": {
            "text/plain": [
              "       city  number_houses      avg_price    %_homes\n",
              "0    Kraków         9764.0  593756.068258  41.087359\n",
              "1    Poznañ         4149.0  468527.120154  17.459182\n",
              "2  Warszawa         9851.0  780619.918237  41.453459"
            ],
            "text/html": [
              "\n",
              "  <div id=\"df-77ca4da8-2169-42de-ad79-3a70591bfc81\">\n",
              "    <div class=\"colab-df-container\">\n",
              "      <div>\n",
              "<style scoped>\n",
              "    .dataframe tbody tr th:only-of-type {\n",
              "        vertical-align: middle;\n",
              "    }\n",
              "\n",
              "    .dataframe tbody tr th {\n",
              "        vertical-align: top;\n",
              "    }\n",
              "\n",
              "    .dataframe thead th {\n",
              "        text-align: right;\n",
              "    }\n",
              "</style>\n",
              "<table border=\"1\" class=\"dataframe\">\n",
              "  <thead>\n",
              "    <tr style=\"text-align: right;\">\n",
              "      <th></th>\n",
              "      <th>city</th>\n",
              "      <th>number_houses</th>\n",
              "      <th>avg_price</th>\n",
              "      <th>%_homes</th>\n",
              "    </tr>\n",
              "  </thead>\n",
              "  <tbody>\n",
              "    <tr>\n",
              "      <th>0</th>\n",
              "      <td>Kraków</td>\n",
              "      <td>9764.0</td>\n",
              "      <td>593756.068258</td>\n",
              "      <td>41.087359</td>\n",
              "    </tr>\n",
              "    <tr>\n",
              "      <th>1</th>\n",
              "      <td>Poznañ</td>\n",
              "      <td>4149.0</td>\n",
              "      <td>468527.120154</td>\n",
              "      <td>17.459182</td>\n",
              "    </tr>\n",
              "    <tr>\n",
              "      <th>2</th>\n",
              "      <td>Warszawa</td>\n",
              "      <td>9851.0</td>\n",
              "      <td>780619.918237</td>\n",
              "      <td>41.453459</td>\n",
              "    </tr>\n",
              "  </tbody>\n",
              "</table>\n",
              "</div>\n",
              "      <button class=\"colab-df-convert\" onclick=\"convertToInteractive('df-77ca4da8-2169-42de-ad79-3a70591bfc81')\"\n",
              "              title=\"Convert this dataframe to an interactive table.\"\n",
              "              style=\"display:none;\">\n",
              "        \n",
              "  <svg xmlns=\"http://www.w3.org/2000/svg\" height=\"24px\"viewBox=\"0 0 24 24\"\n",
              "       width=\"24px\">\n",
              "    <path d=\"M0 0h24v24H0V0z\" fill=\"none\"/>\n",
              "    <path d=\"M18.56 5.44l.94 2.06.94-2.06 2.06-.94-2.06-.94-.94-2.06-.94 2.06-2.06.94zm-11 1L8.5 8.5l.94-2.06 2.06-.94-2.06-.94L8.5 2.5l-.94 2.06-2.06.94zm10 10l.94 2.06.94-2.06 2.06-.94-2.06-.94-.94-2.06-.94 2.06-2.06.94z\"/><path d=\"M17.41 7.96l-1.37-1.37c-.4-.4-.92-.59-1.43-.59-.52 0-1.04.2-1.43.59L10.3 9.45l-7.72 7.72c-.78.78-.78 2.05 0 2.83L4 21.41c.39.39.9.59 1.41.59.51 0 1.02-.2 1.41-.59l7.78-7.78 2.81-2.81c.8-.78.8-2.07 0-2.86zM5.41 20L4 18.59l7.72-7.72 1.47 1.35L5.41 20z\"/>\n",
              "  </svg>\n",
              "      </button>\n",
              "      \n",
              "  <style>\n",
              "    .colab-df-container {\n",
              "      display:flex;\n",
              "      flex-wrap:wrap;\n",
              "      gap: 12px;\n",
              "    }\n",
              "\n",
              "    .colab-df-convert {\n",
              "      background-color: #E8F0FE;\n",
              "      border: none;\n",
              "      border-radius: 50%;\n",
              "      cursor: pointer;\n",
              "      display: none;\n",
              "      fill: #1967D2;\n",
              "      height: 32px;\n",
              "      padding: 0 0 0 0;\n",
              "      width: 32px;\n",
              "    }\n",
              "\n",
              "    .colab-df-convert:hover {\n",
              "      background-color: #E2EBFA;\n",
              "      box-shadow: 0px 1px 2px rgba(60, 64, 67, 0.3), 0px 1px 3px 1px rgba(60, 64, 67, 0.15);\n",
              "      fill: #174EA6;\n",
              "    }\n",
              "\n",
              "    [theme=dark] .colab-df-convert {\n",
              "      background-color: #3B4455;\n",
              "      fill: #D2E3FC;\n",
              "    }\n",
              "\n",
              "    [theme=dark] .colab-df-convert:hover {\n",
              "      background-color: #434B5C;\n",
              "      box-shadow: 0px 1px 3px 1px rgba(0, 0, 0, 0.15);\n",
              "      filter: drop-shadow(0px 1px 2px rgba(0, 0, 0, 0.3));\n",
              "      fill: #FFFFFF;\n",
              "    }\n",
              "  </style>\n",
              "\n",
              "      <script>\n",
              "        const buttonEl =\n",
              "          document.querySelector('#df-77ca4da8-2169-42de-ad79-3a70591bfc81 button.colab-df-convert');\n",
              "        buttonEl.style.display =\n",
              "          google.colab.kernel.accessAllowed ? 'block' : 'none';\n",
              "\n",
              "        async function convertToInteractive(key) {\n",
              "          const element = document.querySelector('#df-77ca4da8-2169-42de-ad79-3a70591bfc81');\n",
              "          const dataTable =\n",
              "            await google.colab.kernel.invokeFunction('convertToInteractive',\n",
              "                                                     [key], {});\n",
              "          if (!dataTable) return;\n",
              "\n",
              "          const docLinkHtml = 'Like what you see? Visit the ' +\n",
              "            '<a target=\"_blank\" href=https://colab.research.google.com/notebooks/data_table.ipynb>data table notebook</a>'\n",
              "            + ' to learn more about interactive tables.';\n",
              "          element.innerHTML = '';\n",
              "          dataTable['output_type'] = 'display_data';\n",
              "          await google.colab.output.renderOutput(dataTable, element);\n",
              "          const docLink = document.createElement('div');\n",
              "          docLink.innerHTML = docLinkHtml;\n",
              "          element.appendChild(docLink);\n",
              "        }\n",
              "      </script>\n",
              "    </div>\n",
              "  </div>\n",
              "  "
            ]
          },
          "metadata": {},
          "execution_count": 13
        }
      ]
    },
    {
      "cell_type": "code",
      "source": [
        "# plot number of houses per city\n",
        "f, ax = plt.subplots(figsize=(12, 6))\n",
        "\n",
        "sns.barplot(x='city', y='number_houses', data=houses_city)\n",
        "\n",
        "plt.title('Number of Houses per City', pad=12)\n",
        "\n",
        "plt.show()"
      ],
      "metadata": {
        "colab": {
          "base_uri": "https://localhost:8080/",
          "height": 410
        },
        "id": "VKJWLpLGs5Cw",
        "outputId": "1842e47b-5c2c-4d80-c22a-dd0b87eb4db0"
      },
      "execution_count": 14,
      "outputs": [
        {
          "output_type": "display_data",
          "data": {
            "text/plain": [
              "<Figure size 864x432 with 1 Axes>"
            ],
            "image/png": "[encoded data removed]"
          },
          "metadata": {
            "needs_background": "light"
          }
        }
      ]
    },
    {
      "cell_type": "markdown",
      "source": [
        "- As can be seen in the graph and table above more than 80% of the houses are located in Warsaw and Krakow $9851$ and $9764$ respectively.\n",
        "\n",
        "- The avg house price per city is higher in Warsaw which is the capital city of Poland $780,634$ $zloty$ ($167,348$ $euros$), followed by Krakow $593,756$ $zloty$ ($127,286$ $euros$) and by Poznan, the smallest of the three cities, $468,527$ $zloty$ ($100,440$ $euros$)"
      ],
      "metadata": {
        "id": "jZrNrRmR6VF9"
      }
    },
    {
      "cell_type": "markdown",
      "source": [
        "![green-divider](https://user-images.githubusercontent.com/7065401/52071924-c003ad80-2562-11e9-8297-1c6595f8a7ff.png)"
      ],
      "metadata": {
        "id": "T9Bgp0cG8gE7"
      }
    },
    {
      "cell_type": "markdown",
      "source": [
        "### Avg Floors, Rooms and Square Meters per City"
      ],
      "metadata": {
        "id": "tjynAeD78Pu9"
      }
    },
    {
      "cell_type": "code",
      "source": [
        "# function to calculate 'avg_floors', 'avg_rooms', and 'avg_sq_meters'\n",
        "\n",
        "def averages_calc(df):\n",
        "  # dictionary to store calculations\n",
        "  calc = {}\n",
        "  calc['avg_floors'] = df.floor.mean()\n",
        "  calc['avg_rooms'] = df.rooms.mean()\n",
        "  calc['avg_sq_meters'] = df.sq.mean()\n",
        "\n",
        "  # return Series\n",
        "  return pd.Series(calc, index=['avg_floors', 'avg_rooms', 'avg_sq_meters'])"
      ],
      "metadata": {
        "id": "O67jYbxbdZZG"
      },
      "execution_count": 15,
      "outputs": []
    },
    {
      "cell_type": "code",
      "source": [
        "# groupby city & apply function\n",
        "houses_avg_city = df_houses.groupby(['city']).apply(averages_calc).reset_index()\n",
        "\n",
        "houses_avg_city"
      ],
      "metadata": {
        "colab": {
          "base_uri": "https://localhost:8080/",
          "height": 143
        },
        "id": "GBecuz3BeDTF",
        "outputId": "a3dcb9e5-8a93-4ea4-f332-a5f1f617b30f"
      },
      "execution_count": 16,
      "outputs": [
        {
          "output_type": "execute_result",
          "data": {
            "text/plain": [
              "       city  avg_floors  avg_rooms  avg_sq_meters\n",
              "0    Kraków    2.540045   2.598730     160.720631\n",
              "1    Poznañ    2.323210   2.657026      61.263203\n",
              "2  Warszawa    3.279566   2.627347      62.704040"
            ],
            "text/html": [
              "\n",
              "  <div id=\"df-96953d54-91d3-4a08-9b6e-b9d243cc78c5\">\n",
              "    <div class=\"colab-df-container\">\n",
              "      <div>\n",
              "<style scoped>\n",
              "    .dataframe tbody tr th:only-of-type {\n",
              "        vertical-align: middle;\n",
              "    }\n",
              "\n",
              "    .dataframe tbody tr th {\n",
              "        vertical-align: top;\n",
              "    }\n",
              "\n",
              "    .dataframe thead th {\n",
              "        text-align: right;\n",
              "    }\n",
              "</style>\n",
              "<table border=\"1\" class=\"dataframe\">\n",
              "  <thead>\n",
              "    <tr style=\"text-align: right;\">\n",
              "      <th></th>\n",
              "      <th>city</th>\n",
              "      <th>avg_floors</th>\n",
              "      <th>avg_rooms</th>\n",
              "      <th>avg_sq_meters</th>\n",
              "    </tr>\n",
              "  </thead>\n",
              "  <tbody>\n",
              "    <tr>\n",
              "      <th>0</th>\n",
              "      <td>Kraków</td>\n",
              "      <td>2.540045</td>\n",
              "      <td>2.598730</td>\n",
              "      <td>160.720631</td>\n",
              "    </tr>\n",
              "    <tr>\n",
              "      <th>1</th>\n",
              "      <td>Poznañ</td>\n",
              "      <td>2.323210</td>\n",
              "      <td>2.657026</td>\n",
              "      <td>61.263203</td>\n",
              "    </tr>\n",
              "    <tr>\n",
              "      <th>2</th>\n",
              "      <td>Warszawa</td>\n",
              "      <td>3.279566</td>\n",
              "      <td>2.627347</td>\n",
              "      <td>62.704040</td>\n",
              "    </tr>\n",
              "  </tbody>\n",
              "</table>\n",
              "</div>\n",
              "      <button class=\"colab-df-convert\" onclick=\"convertToInteractive('df-96953d54-91d3-4a08-9b6e-b9d243cc78c5')\"\n",
              "              title=\"Convert this dataframe to an interactive table.\"\n",
              "              style=\"display:none;\">\n",
              "        \n",
              "  <svg xmlns=\"http://www.w3.org/2000/svg\" height=\"24px\"viewBox=\"0 0 24 24\"\n",
              "       width=\"24px\">\n",
              "    <path d=\"M0 0h24v24H0V0z\" fill=\"none\"/>\n",
              "    <path d=\"M18.56 5.44l.94 2.06.94-2.06 2.06-.94-2.06-.94-.94-2.06-.94 2.06-2.06.94zm-11 1L8.5 8.5l.94-2.06 2.06-.94-2.06-.94L8.5 2.5l-.94 2.06-2.06.94zm10 10l.94 2.06.94-2.06 2.06-.94-2.06-.94-.94-2.06-.94 2.06-2.06.94z\"/><path d=\"M17.41 7.96l-1.37-1.37c-.4-.4-.92-.59-1.43-.59-.52 0-1.04.2-1.43.59L10.3 9.45l-7.72 7.72c-.78.78-.78 2.05 0 2.83L4 21.41c.39.39.9.59 1.41.59.51 0 1.02-.2 1.41-.59l7.78-7.78 2.81-2.81c.8-.78.8-2.07 0-2.86zM5.41 20L4 18.59l7.72-7.72 1.47 1.35L5.41 20z\"/>\n",
              "  </svg>\n",
              "      </button>\n",
              "      \n",
              "  <style>\n",
              "    .colab-df-container {\n",
              "      display:flex;\n",
              "      flex-wrap:wrap;\n",
              "      gap: 12px;\n",
              "    }\n",
              "\n",
              "    .colab-df-convert {\n",
              "      background-color: #E8F0FE;\n",
              "      border: none;\n",
              "      border-radius: 50%;\n",
              "      cursor: pointer;\n",
              "      display: none;\n",
              "      fill: #1967D2;\n",
              "      height: 32px;\n",
              "      padding: 0 0 0 0;\n",
              "      width: 32px;\n",
              "    }\n",
              "\n",
              "    .colab-df-convert:hover {\n",
              "      background-color: #E2EBFA;\n",
              "      box-shadow: 0px 1px 2px rgba(60, 64, 67, 0.3), 0px 1px 3px 1px rgba(60, 64, 67, 0.15);\n",
              "      fill: #174EA6;\n",
              "    }\n",
              "\n",
              "    [theme=dark] .colab-df-convert {\n",
              "      background-color: #3B4455;\n",
              "      fill: #D2E3FC;\n",
              "    }\n",
              "\n",
              "    [theme=dark] .colab-df-convert:hover {\n",
              "      background-color: #434B5C;\n",
              "      box-shadow: 0px 1px 3px 1px rgba(0, 0, 0, 0.15);\n",
              "      filter: drop-shadow(0px 1px 2px rgba(0, 0, 0, 0.3));\n",
              "      fill: #FFFFFF;\n",
              "    }\n",
              "  </style>\n",
              "\n",
              "      <script>\n",
              "        const buttonEl =\n",
              "          document.querySelector('#df-96953d54-91d3-4a08-9b6e-b9d243cc78c5 button.colab-df-convert');\n",
              "        buttonEl.style.display =\n",
              "          google.colab.kernel.accessAllowed ? 'block' : 'none';\n",
              "\n",
              "        async function convertToInteractive(key) {\n",
              "          const element = document.querySelector('#df-96953d54-91d3-4a08-9b6e-b9d243cc78c5');\n",
              "          const dataTable =\n",
              "            await google.colab.kernel.invokeFunction('convertToInteractive',\n",
              "                                                     [key], {});\n",
              "          if (!dataTable) return;\n",
              "\n",
              "          const docLinkHtml = 'Like what you see? Visit the ' +\n",
              "            '<a target=\"_blank\" href=https://colab.research.google.com/notebooks/data_table.ipynb>data table notebook</a>'\n",
              "            + ' to learn more about interactive tables.';\n",
              "          element.innerHTML = '';\n",
              "          dataTable['output_type'] = 'display_data';\n",
              "          await google.colab.output.renderOutput(dataTable, element);\n",
              "          const docLink = document.createElement('div');\n",
              "          docLink.innerHTML = docLinkHtml;\n",
              "          element.appendChild(docLink);\n",
              "        }\n",
              "      </script>\n",
              "    </div>\n",
              "  </div>\n",
              "  "
            ]
          },
          "metadata": {},
          "execution_count": 16
        }
      ]
    },
    {
      "cell_type": "code",
      "source": [
        "# barplot \n",
        "\n",
        "fig = plt.figure(figsize=(25, 4))\n",
        "\n",
        "# avg_floors per city\n",
        "ax = plt.subplot(1, 3, 1)\n",
        "sns.barplot(x='city', y='avg_floors', data=houses_avg_city)\n",
        "plt.title('Avg Houses Floors per City', pad=12)\n",
        "\n",
        "# avg rooms per city\n",
        "ax = plt.subplot(1, 3, 2)\n",
        "sns.barplot(x='city', y='avg_rooms', data=houses_avg_city)\n",
        "plt.title('Avg Houses Rooms per City', pad=12)\n",
        "\n",
        "# avg sq_meters per city\n",
        "ax = plt.subplot(1, 3, 3)\n",
        "sns.barplot(x='city', y='avg_sq_meters', data=houses_avg_city)\n",
        "plt.title('Avg Houses Sq Meters per City', pad=12)\n",
        "\n",
        "\n",
        "plt.show()"
      ],
      "metadata": {
        "colab": {
          "base_uri": "https://localhost:8080/",
          "height": 274
        },
        "id": "TAgVw_NVek8S",
        "outputId": "85af1394-ec08-416c-d8d5-aa52578bafa3"
      },
      "execution_count": 17,
      "outputs": [
        {
          "output_type": "display_data",
          "data": {
            "text/plain": [
              "<Figure size 1800x288 with 3 Axes>"
            ],
            "image/png": "[encoded data removed]"
          },
          "metadata": {
            "needs_background": "light"
          }
        }
      ]
    },
    {
      "cell_type": "markdown",
      "source": [
        "- As can be seen in the plots and table above the **Avg Floors per Houses** is higher in $Warsaw$ the capital city of Poland with $3$ floors per house. On the other hand $Krakow$ and $Poznan$, both have an avg of $2$ floors per house.\n",
        "\n",
        "- In terms of **Avg Rooms per Houses**, all three cities have on avg $2.5$ rooms per house.\n",
        "\n",
        "- Aditionally, the **Avg Sq Meters per House** are significantly higher in $Krakow$, with an average of $160m^2$ per house, it exceeds in more than double the average of $Warsaw$ and $Poznan$, $62m^2$ and $61m^2$ respectively."
      ],
      "metadata": {
        "id": "Dj7njmWJl1zI"
      }
    },
    {
      "cell_type": "markdown",
      "source": [
        "![green-divider](https://user-images.githubusercontent.com/7065401/52071924-c003ad80-2562-11e9-8297-1c6595f8a7ff.png)"
      ],
      "metadata": {
        "id": "1Ax5U02qfx6z"
      }
    },
    {
      "cell_type": "markdown",
      "source": [
        "### Avg Houses per Year"
      ],
      "metadata": {
        "id": "wJ7Ki3vLf2VN"
      }
    },
    {
      "cell_type": "code",
      "source": [
        "# function that calculates avg_houses & avg_price per year\n",
        "def average_houses(df):\n",
        "  # dictionary to store calculations\n",
        "  calc = {}\n",
        "  calc['avg_houses'] = df.id.count()\n",
        "  calc['avg_price'] = df.price.mean()\n",
        "\n",
        "  # return Series\n",
        "  return pd.Series(calc, index=['avg_houses', 'avg_price'])"
      ],
      "metadata": {
        "id": "X2HjAxEAf6e5"
      },
      "execution_count": 18,
      "outputs": []
    },
    {
      "cell_type": "code",
      "source": [
        "# groupby year and city\n",
        "houses_year = df_houses.groupby(['year', 'city']).apply(average_houses).reset_index()\n",
        "\n",
        "# '%' of houses \n",
        "houses_year['%'] = (houses_year.avg_houses / df_houses.id.count()) * 100\n",
        "\n",
        "houses_year.sort_values(by='avg_houses', ascending=False, inplace=True)\n",
        "\n",
        "# select top 20 years with more houses\n",
        "top_20 = houses_year.head(20)\n",
        "top_20"
      ],
      "metadata": {
        "colab": {
          "base_uri": "https://localhost:8080/",
          "height": 676
        },
        "id": "0htSCqUtgfsC",
        "outputId": "476326a8-08d4-4a94-a988-2c13bd6a5018"
      },
      "execution_count": 19,
      "outputs": [
        {
          "output_type": "execute_result",
          "data": {
            "text/plain": [
              "     year      city  avg_houses     avg_price          %\n",
              "387  2021    Kraków      2465.0  5.447005e+05  10.372833\n",
              "384  2020    Kraków      1656.0  5.913433e+05   6.968524\n",
              "390  2022    Kraków      1247.0  5.148134e+05   5.247433\n",
              "389  2021  Warszawa      1243.0  6.887584e+05   5.230601\n",
              "385  2020    Poznañ      1088.0  5.102572e+05   4.578354\n",
              "391  2022    Poznañ       929.0  4.323993e+05   3.909275\n",
              "386  2020  Warszawa       916.0  7.790521e+05   3.854570\n",
              "392  2022  Warszawa       844.0  6.079946e+05   3.551591\n",
              "388  2021    Poznañ       675.0  4.623591e+05   2.840431\n",
              "381  2019    Kraków       341.0  8.314649e+05   1.434944\n",
              "236  1970  Warszawa       320.0  4.886242e+05   1.346575\n",
              "383  2019  Warszawa       296.0  9.776246e+05   1.245582\n",
              "264  1980    Kraków       288.0  4.551873e+05   1.211917\n",
              "234  1970    Kraków       243.0  4.159222e+05   1.022555\n",
              "266  1980  Warszawa       222.0  5.416963e+05   0.934186\n",
              "350  2008  Warszawa       216.0  9.153906e+05   0.908938\n",
              "356  2010  Warszawa       213.0  1.067618e+06   0.896314\n",
              "326  2000  Warszawa       201.0  8.132096e+05   0.845817\n",
              "353  2009  Warszawa       192.0  9.914822e+05   0.807945\n",
              "380  2018  Warszawa       178.0  1.200999e+06   0.749032"
            ],
            "text/html": [
              "\n",
              "  <div id=\"df-cf7da84c-28fa-4057-8ee6-f131e6325a14\">\n",
              "    <div class=\"colab-df-container\">\n",
              "      <div>\n",
              "<style scoped>\n",
              "    .dataframe tbody tr th:only-of-type {\n",
              "        vertical-align: middle;\n",
              "    }\n",
              "\n",
              "    .dataframe tbody tr th {\n",
              "        vertical-align: top;\n",
              "    }\n",
              "\n",
              "    .dataframe thead th {\n",
              "        text-align: right;\n",
              "    }\n",
              "</style>\n",
              "<table border=\"1\" class=\"dataframe\">\n",
              "  <thead>\n",
              "    <tr style=\"text-align: right;\">\n",
              "      <th></th>\n",
              "      <th>year</th>\n",
              "      <th>city</th>\n",
              "      <th>avg_houses</th>\n",
              "      <th>avg_price</th>\n",
              "      <th>%</th>\n",
              "    </tr>\n",
              "  </thead>\n",
              "  <tbody>\n",
              "    <tr>\n",
              "      <th>387</th>\n",
              "      <td>2021</td>\n",
              "      <td>Kraków</td>\n",
              "      <td>2465.0</td>\n",
              "      <td>5.447005e+05</td>\n",
              "      <td>10.372833</td>\n",
              "    </tr>\n",
              "    <tr>\n",
              "      <th>384</th>\n",
              "      <td>2020</td>\n",
              "      <td>Kraków</td>\n",
              "      <td>1656.0</td>\n",
              "      <td>5.913433e+05</td>\n",
              "      <td>6.968524</td>\n",
              "    </tr>\n",
              "    <tr>\n",
              "      <th>390</th>\n",
              "      <td>2022</td>\n",
              "      <td>Kraków</td>\n",
              "      <td>1247.0</td>\n",
              "      <td>5.148134e+05</td>\n",
              "      <td>5.247433</td>\n",
              "    </tr>\n",
              "    <tr>\n",
              "      <th>389</th>\n",
              "      <td>2021</td>\n",
              "      <td>Warszawa</td>\n",
              "      <td>1243.0</td>\n",
              "      <td>6.887584e+05</td>\n",
              "      <td>5.230601</td>\n",
              "    </tr>\n",
              "    <tr>\n",
              "      <th>385</th>\n",
              "      <td>2020</td>\n",
              "      <td>Poznañ</td>\n",
              "      <td>1088.0</td>\n",
              "      <td>5.102572e+05</td>\n",
              "      <td>4.578354</td>\n",
              "    </tr>\n",
              "    <tr>\n",
              "      <th>391</th>\n",
              "      <td>2022</td>\n",
              "      <td>Poznañ</td>\n",
              "      <td>929.0</td>\n",
              "      <td>4.323993e+05</td>\n",
              "      <td>3.909275</td>\n",
              "    </tr>\n",
              "    <tr>\n",
              "      <th>386</th>\n",
              "      <td>2020</td>\n",
              "      <td>Warszawa</td>\n",
              "      <td>916.0</td>\n",
              "      <td>7.790521e+05</td>\n",
              "      <td>3.854570</td>\n",
              "    </tr>\n",
              "    <tr>\n",
              "      <th>392</th>\n",
              "      <td>2022</td>\n",
              "      <td>Warszawa</td>\n",
              "      <td>844.0</td>\n",
              "      <td>6.079946e+05</td>\n",
              "      <td>3.551591</td>\n",
              "    </tr>\n",
              "    <tr>\n",
              "      <th>388</th>\n",
              "      <td>2021</td>\n",
              "      <td>Poznañ</td>\n",
              "      <td>675.0</td>\n",
              "      <td>4.623591e+05</td>\n",
              "      <td>2.840431</td>\n",
              "    </tr>\n",
              "    <tr>\n",
              "      <th>381</th>\n",
              "      <td>2019</td>\n",
              "      <td>Kraków</td>\n",
              "      <td>341.0</td>\n",
              "      <td>8.314649e+05</td>\n",
              "      <td>1.434944</td>\n",
              "    </tr>\n",
              "    <tr>\n",
              "      <th>236</th>\n",
              "      <td>1970</td>\n",
              "      <td>Warszawa</td>\n",
              "      <td>320.0</td>\n",
              "      <td>4.886242e+05</td>\n",
              "      <td>1.346575</td>\n",
              "    </tr>\n",
              "    <tr>\n",
              "      <th>383</th>\n",
              "      <td>2019</td>\n",
              "      <td>Warszawa</td>\n",
              "      <td>296.0</td>\n",
              "      <td>9.776246e+05</td>\n",
              "      <td>1.245582</td>\n",
              "    </tr>\n",
              "    <tr>\n",
              "      <th>264</th>\n",
              "      <td>1980</td>\n",
              "      <td>Kraków</td>\n",
              "      <td>288.0</td>\n",
              "      <td>4.551873e+05</td>\n",
              "      <td>1.211917</td>\n",
              "    </tr>\n",
              "    <tr>\n",
              "      <th>234</th>\n",
              "      <td>1970</td>\n",
              "      <td>Kraków</td>\n",
              "      <td>243.0</td>\n",
              "      <td>4.159222e+05</td>\n",
              "      <td>1.022555</td>\n",
              "    </tr>\n",
              "    <tr>\n",
              "      <th>266</th>\n",
              "      <td>1980</td>\n",
              "      <td>Warszawa</td>\n",
              "      <td>222.0</td>\n",
              "      <td>5.416963e+05</td>\n",
              "      <td>0.934186</td>\n",
              "    </tr>\n",
              "    <tr>\n",
              "      <th>350</th>\n",
              "      <td>2008</td>\n",
              "      <td>Warszawa</td>\n",
              "      <td>216.0</td>\n",
              "      <td>9.153906e+05</td>\n",
              "      <td>0.908938</td>\n",
              "    </tr>\n",
              "    <tr>\n",
              "      <th>356</th>\n",
              "      <td>2010</td>\n",
              "      <td>Warszawa</td>\n",
              "      <td>213.0</td>\n",
              "      <td>1.067618e+06</td>\n",
              "      <td>0.896314</td>\n",
              "    </tr>\n",
              "    <tr>\n",
              "      <th>326</th>\n",
              "      <td>2000</td>\n",
              "      <td>Warszawa</td>\n",
              "      <td>201.0</td>\n",
              "      <td>8.132096e+05</td>\n",
              "      <td>0.845817</td>\n",
              "    </tr>\n",
              "    <tr>\n",
              "      <th>353</th>\n",
              "      <td>2009</td>\n",
              "      <td>Warszawa</td>\n",
              "      <td>192.0</td>\n",
              "      <td>9.914822e+05</td>\n",
              "      <td>0.807945</td>\n",
              "    </tr>\n",
              "    <tr>\n",
              "      <th>380</th>\n",
              "      <td>2018</td>\n",
              "      <td>Warszawa</td>\n",
              "      <td>178.0</td>\n",
              "      <td>1.200999e+06</td>\n",
              "      <td>0.749032</td>\n",
              "    </tr>\n",
              "  </tbody>\n",
              "</table>\n",
              "</div>\n",
              "      <button class=\"colab-df-convert\" onclick=\"convertToInteractive('df-cf7da84c-28fa-4057-8ee6-f131e6325a14')\"\n",
              "              title=\"Convert this dataframe to an interactive table.\"\n",
              "              style=\"display:none;\">\n",
              "        \n",
              "  <svg xmlns=\"http://www.w3.org/2000/svg\" height=\"24px\"viewBox=\"0 0 24 24\"\n",
              "       width=\"24px\">\n",
              "    <path d=\"M0 0h24v24H0V0z\" fill=\"none\"/>\n",
              "    <path d=\"M18.56 5.44l.94 2.06.94-2.06 2.06-.94-2.06-.94-.94-2.06-.94 2.06-2.06.94zm-11 1L8.5 8.5l.94-2.06 2.06-.94-2.06-.94L8.5 2.5l-.94 2.06-2.06.94zm10 10l.94 2.06.94-2.06 2.06-.94-2.06-.94-.94-2.06-.94 2.06-2.06.94z\"/><path d=\"M17.41 7.96l-1.37-1.37c-.4-.4-.92-.59-1.43-.59-.52 0-1.04.2-1.43.59L10.3 9.45l-7.72 7.72c-.78.78-.78 2.05 0 2.83L4 21.41c.39.39.9.59 1.41.59.51 0 1.02-.2 1.41-.59l7.78-7.78 2.81-2.81c.8-.78.8-2.07 0-2.86zM5.41 20L4 18.59l7.72-7.72 1.47 1.35L5.41 20z\"/>\n",
              "  </svg>\n",
              "      </button>\n",
              "      \n",
              "  <style>\n",
              "    .colab-df-container {\n",
              "      display:flex;\n",
              "      flex-wrap:wrap;\n",
              "      gap: 12px;\n",
              "    }\n",
              "\n",
              "    .colab-df-convert {\n",
              "      background-color: #E8F0FE;\n",
              "      border: none;\n",
              "      border-radius: 50%;\n",
              "      cursor: pointer;\n",
              "      display: none;\n",
              "      fill: #1967D2;\n",
              "      height: 32px;\n",
              "      padding: 0 0 0 0;\n",
              "      width: 32px;\n",
              "    }\n",
              "\n",
              "    .colab-df-convert:hover {\n",
              "      background-color: #E2EBFA;\n",
              "      box-shadow: 0px 1px 2px rgba(60, 64, 67, 0.3), 0px 1px 3px 1px rgba(60, 64, 67, 0.15);\n",
              "      fill: #174EA6;\n",
              "    }\n",
              "\n",
              "    [theme=dark] .colab-df-convert {\n",
              "      background-color: #3B4455;\n",
              "      fill: #D2E3FC;\n",
              "    }\n",
              "\n",
              "    [theme=dark] .colab-df-convert:hover {\n",
              "      background-color: #434B5C;\n",
              "      box-shadow: 0px 1px 3px 1px rgba(0, 0, 0, 0.15);\n",
              "      filter: drop-shadow(0px 1px 2px rgba(0, 0, 0, 0.3));\n",
              "      fill: #FFFFFF;\n",
              "    }\n",
              "  </style>\n",
              "\n",
              "      <script>\n",
              "        const buttonEl =\n",
              "          document.querySelector('#df-cf7da84c-28fa-4057-8ee6-f131e6325a14 button.colab-df-convert');\n",
              "        buttonEl.style.display =\n",
              "          google.colab.kernel.accessAllowed ? 'block' : 'none';\n",
              "\n",
              "        async function convertToInteractive(key) {\n",
              "          const element = document.querySelector('#df-cf7da84c-28fa-4057-8ee6-f131e6325a14');\n",
              "          const dataTable =\n",
              "            await google.colab.kernel.invokeFunction('convertToInteractive',\n",
              "                                                     [key], {});\n",
              "          if (!dataTable) return;\n",
              "\n",
              "          const docLinkHtml = 'Like what you see? Visit the ' +\n",
              "            '<a target=\"_blank\" href=https://colab.research.google.com/notebooks/data_table.ipynb>data table notebook</a>'\n",
              "            + ' to learn more about interactive tables.';\n",
              "          element.innerHTML = '';\n",
              "          dataTable['output_type'] = 'display_data';\n",
              "          await google.colab.output.renderOutput(dataTable, element);\n",
              "          const docLink = document.createElement('div');\n",
              "          docLink.innerHTML = docLinkHtml;\n",
              "          element.appendChild(docLink);\n",
              "        }\n",
              "      </script>\n",
              "    </div>\n",
              "  </div>\n",
              "  "
            ]
          },
          "metadata": {},
          "execution_count": 19
        }
      ]
    },
    {
      "cell_type": "code",
      "source": [
        "# lineplot\n",
        "fig = plt.figure(figsize=(25, 6))\n",
        "\n",
        "# lineplot year - avg houses\n",
        "ax = plt.subplot(1, 2, 1)\n",
        "sns.lineplot(x='year', y='avg_houses', data=top_20, hue='city')\n",
        "plt.title('Avg Houses by Year', pad=12)\n",
        "\n",
        "# lineplot year - avg house price\n",
        "ax = plt.subplot(1, 2, 2)\n",
        "sns.lineplot(x='year', y='avg_price', data=top_20, hue='city')\n",
        "# set y_ticks\n",
        "ax.set_yticklabels(['0', '400,000', '500,000', '600,000', '700,000', '800,000', '900,000',\n",
        "                   '1,000,000', '1,100,000', '1,200,000'])\n",
        "\n",
        "plt.title('Avg Price of Houses by Year', pad=12)\n",
        "\n",
        "\n",
        "plt.show()"
      ],
      "metadata": {
        "colab": {
          "base_uri": "https://localhost:8080/",
          "height": 370
        },
        "id": "sRrby5Fhh7cv",
        "outputId": "cbf74756-29d8-48b7-d793-beb265c76506"
      },
      "execution_count": 20,
      "outputs": [
        {
          "output_type": "display_data",
          "data": {
            "text/plain": [
              "<Figure size 1800x432 with 2 Axes>"
            ],
            "image/png": "[encoded data removed]"
          },
          "metadata": {
            "needs_background": "light"
          }
        }
      ]
    },
    {
      "cell_type": "markdown",
      "source": [
        "- As can be seen in the lineplot **Avg Houses by Year** there has been a significant increase in the avg number of houses after 2019. The biggest raise corresponds to the city of $Krakow$ which from 2019 to 2020 had a raise of $385$%, $1315$ more houses for sale.\n",
        "\n",
        "- On the other hand, the lineplot **Avg Price of Houses by Year** shows the average trend of house prices in $Krakow$, $Warsaw$ and $Poznan$ from 1970 to 2022. Even though, average house prices have been increasing throught the years, there has been a significant reduction in the average house price in the three cities after they achieve their highest price in 2018 - 2019."
      ],
      "metadata": {
        "id": "ktaGFl-s9jWY"
      }
    },
    {
      "cell_type": "markdown",
      "source": [
        "![purple-divider](https://user-images.githubusercontent.com/7065401/52071927-c1cd7100-2562-11e9-908a-dde91ba14e59.png)"
      ],
      "metadata": {
        "id": "hGVGnaWNmsZz"
      }
    },
    {
      "cell_type": "markdown",
      "source": [
        "## Floors & Rooms Distribution"
      ],
      "metadata": {
        "id": "wLbnKXbg_wAj"
      }
    },
    {
      "cell_type": "code",
      "source": [
        "# number of houses by floors\n",
        "df_houses['floor'].value_counts()"
      ],
      "metadata": {
        "colab": {
          "base_uri": "https://localhost:8080/"
        },
        "id": "lJ_APC1JD6M9",
        "outputId": "d59bdd2c-0458-4331-fdd4-b60a209ad595"
      },
      "execution_count": 21,
      "outputs": [
        {
          "output_type": "execute_result",
          "data": {
            "text/plain": [
              "1     4971\n",
              "2     4009\n",
              "0     3750\n",
              "3     3648\n",
              "4     2752\n",
              "5     1536\n",
              "6      934\n",
              "10     746\n",
              "7      616\n",
              "8      468\n",
              "9      334\n",
              "Name: floor, dtype: int64"
            ]
          },
          "metadata": {},
          "execution_count": 21
        }
      ]
    },
    {
      "cell_type": "markdown",
      "source": [
        "- $80$% of the houses have 4 floors or less. Houses with more than 4 floors are already buildings so they aren't going to be taken into consideration. "
      ],
      "metadata": {
        "id": "cXYwiGSwElvJ"
      }
    },
    {
      "cell_type": "code",
      "source": [
        "# number of houses by number of rooms\n",
        "df_houses['rooms'].value_counts()"
      ],
      "metadata": {
        "colab": {
          "base_uri": "https://localhost:8080/"
        },
        "id": "GsUks8ybFVBG",
        "outputId": "d7770969-5ad0-41bc-aa1c-80bd45fb9090"
      },
      "execution_count": 22,
      "outputs": [
        {
          "output_type": "execute_result",
          "data": {
            "text/plain": [
              "2     8806\n",
              "3     8437\n",
              "4     3109\n",
              "1     2595\n",
              "5      644\n",
              "6      136\n",
              "7       23\n",
              "10       8\n",
              "8        5\n",
              "9        1\n",
              "Name: rooms, dtype: int64"
            ]
          },
          "metadata": {},
          "execution_count": 22
        }
      ]
    },
    {
      "cell_type": "markdown",
      "source": [
        "- $96$% of the houses have 4 rooms or less. Houses with more than 4 rooms are not going to be taken into account since they could be potential outliers that could affect the accuracy of the model"
      ],
      "metadata": {
        "id": "vJxzQNvMFe0c"
      }
    },
    {
      "cell_type": "code",
      "source": [
        "# filter df <= 4  floors\n",
        "df_houses = df_houses[df_houses['floor'] <= 4]\n",
        "\n",
        "# filter df <= 4 rooms\n",
        "df_houses = df_houses[df_houses['rooms'] <= 4]\n",
        "\n",
        "df_houses"
      ],
      "metadata": {
        "colab": {
          "base_uri": "https://localhost:8080/",
          "height": 424
        },
        "id": "wHpjAYsWGD-i",
        "outputId": "d7958f49-423e-40b5-d96c-4bb47f9cddb9"
      },
      "execution_count": 23,
      "outputs": [
        {
          "output_type": "execute_result",
          "data": {
            "text/plain": [
              "                                        address      city  floor       id  \\\n",
              "0      Podgórze Zab³ocie Stanis³awa Klimeckiego    Kraków      2  23918.0   \n",
              "1                     Praga-Po³udnie Grochowska  Warszawa      3  17828.0   \n",
              "2                       Krowodrza Czarnowiejska    Kraków      2  22784.0   \n",
              "5                Nowa Huta Czy¿yny ul. Woniców    Kraków      2  26071.0   \n",
              "6                  Podgórze P³aszów Koszykarska    Kraków      0  22569.0   \n",
              "...                                         ...       ...    ...      ...   \n",
              "23758              Nowe Miasto Rataje Wagrowska    Poznañ      3   4516.0   \n",
              "23759                   Stare Miasto Naramowice    Poznañ      0   3976.0   \n",
              "23760                                    W³ochy  Warszawa      4  10206.0   \n",
              "23761           Nowe Miasto Malta ul. Katowicka    Poznañ      0   4952.0   \n",
              "23763                                   Ursynów  Warszawa      2  10889.0   \n",
              "\n",
              "          latitude               longitude     price  rooms     sq  year  \n",
              "0      500.492.242             199.703.793  749000.0      3  74.05  2021  \n",
              "1      522.497.745             211.068.857  240548.0      1  24.38  2021  \n",
              "2      500.669.642             199.200.249  427000.0      2  37.00  1970  \n",
              "5      500.469.432  19.997.153.435.836.600  414600.0      1  34.55  2022  \n",
              "6      500.498.929             199.906.026  750000.0      4  81.40  2021  \n",
              "...            ...                     ...       ...    ...    ...   ...  \n",
              "23758  523.789.966             169.442.442  294021.0      2  35.23  2022  \n",
              "23759  524.496.489             169.494.082  543000.0      4  77.00  2020  \n",
              "23760  521.861.093             209.484.377  910000.0      3  71.00  2017  \n",
              "23761  523.973.449             169.619.394  430695.0      3  50.67  2022  \n",
              "23763   52.141.039             210.323.214  604800.0      3  63.00  1978  \n",
              "\n",
              "[18470 rows x 10 columns]"
            ],
            "text/html": [
              "\n",
              "  <div id=\"df-fceb54b3-eae9-4e08-8f86-d345ef6af62b\">\n",
              "    <div class=\"colab-df-container\">\n",
              "      <div>\n",
              "<style scoped>\n",
              "    .dataframe tbody tr th:only-of-type {\n",
              "        vertical-align: middle;\n",
              "    }\n",
              "\n",
              "    .dataframe tbody tr th {\n",
              "        vertical-align: top;\n",
              "    }\n",
              "\n",
              "    .dataframe thead th {\n",
              "        text-align: right;\n",
              "    }\n",
              "</style>\n",
              "<table border=\"1\" class=\"dataframe\">\n",
              "  <thead>\n",
              "    <tr style=\"text-align: right;\">\n",
              "      <th></th>\n",
              "      <th>address</th>\n",
              "      <th>city</th>\n",
              "      <th>floor</th>\n",
              "      <th>id</th>\n",
              "      <th>latitude</th>\n",
              "      <th>longitude</th>\n",
              "      <th>price</th>\n",
              "      <th>rooms</th>\n",
              "      <th>sq</th>\n",
              "      <th>year</th>\n",
              "    </tr>\n",
              "  </thead>\n",
              "  <tbody>\n",
              "    <tr>\n",
              "      <th>0</th>\n",
              "      <td>Podgórze Zab³ocie Stanis³awa Klimeckiego</td>\n",
              "      <td>Kraków</td>\n",
              "      <td>2</td>\n",
              "      <td>23918.0</td>\n",
              "      <td>500.492.242</td>\n",
              "      <td>199.703.793</td>\n",
              "      <td>749000.0</td>\n",
              "      <td>3</td>\n",
              "      <td>74.05</td>\n",
              "      <td>2021</td>\n",
              "    </tr>\n",
              "    <tr>\n",
              "      <th>1</th>\n",
              "      <td>Praga-Po³udnie Grochowska</td>\n",
              "      <td>Warszawa</td>\n",
              "      <td>3</td>\n",
              "      <td>17828.0</td>\n",
              "      <td>522.497.745</td>\n",
              "      <td>211.068.857</td>\n",
              "      <td>240548.0</td>\n",
              "      <td>1</td>\n",
              "      <td>24.38</td>\n",
              "      <td>2021</td>\n",
              "    </tr>\n",
              "    <tr>\n",
              "      <th>2</th>\n",
              "      <td>Krowodrza Czarnowiejska</td>\n",
              "      <td>Kraków</td>\n",
              "      <td>2</td>\n",
              "      <td>22784.0</td>\n",
              "      <td>500.669.642</td>\n",
              "      <td>199.200.249</td>\n",
              "      <td>427000.0</td>\n",
              "      <td>2</td>\n",
              "      <td>37.00</td>\n",
              "      <td>1970</td>\n",
              "    </tr>\n",
              "    <tr>\n",
              "      <th>5</th>\n",
              "      <td>Nowa Huta Czy¿yny ul. Woniców</td>\n",
              "      <td>Kraków</td>\n",
              "      <td>2</td>\n",
              "      <td>26071.0</td>\n",
              "      <td>500.469.432</td>\n",
              "      <td>19.997.153.435.836.600</td>\n",
              "      <td>414600.0</td>\n",
              "      <td>1</td>\n",
              "      <td>34.55</td>\n",
              "      <td>2022</td>\n",
              "    </tr>\n",
              "    <tr>\n",
              "      <th>6</th>\n",
              "      <td>Podgórze P³aszów Koszykarska</td>\n",
              "      <td>Kraków</td>\n",
              "      <td>0</td>\n",
              "      <td>22569.0</td>\n",
              "      <td>500.498.929</td>\n",
              "      <td>199.906.026</td>\n",
              "      <td>750000.0</td>\n",
              "      <td>4</td>\n",
              "      <td>81.40</td>\n",
              "      <td>2021</td>\n",
              "    </tr>\n",
              "    <tr>\n",
              "      <th>...</th>\n",
              "      <td>...</td>\n",
              "      <td>...</td>\n",
              "      <td>...</td>\n",
              "      <td>...</td>\n",
              "      <td>...</td>\n",
              "      <td>...</td>\n",
              "      <td>...</td>\n",
              "      <td>...</td>\n",
              "      <td>...</td>\n",
              "      <td>...</td>\n",
              "    </tr>\n",
              "    <tr>\n",
              "      <th>23758</th>\n",
              "      <td>Nowe Miasto Rataje Wagrowska</td>\n",
              "      <td>Poznañ</td>\n",
              "      <td>3</td>\n",
              "      <td>4516.0</td>\n",
              "      <td>523.789.966</td>\n",
              "      <td>169.442.442</td>\n",
              "      <td>294021.0</td>\n",
              "      <td>2</td>\n",
              "      <td>35.23</td>\n",
              "      <td>2022</td>\n",
              "    </tr>\n",
              "    <tr>\n",
              "      <th>23759</th>\n",
              "      <td>Stare Miasto Naramowice</td>\n",
              "      <td>Poznañ</td>\n",
              "      <td>0</td>\n",
              "      <td>3976.0</td>\n",
              "      <td>524.496.489</td>\n",
              "      <td>169.494.082</td>\n",
              "      <td>543000.0</td>\n",
              "      <td>4</td>\n",
              "      <td>77.00</td>\n",
              "      <td>2020</td>\n",
              "    </tr>\n",
              "    <tr>\n",
              "      <th>23760</th>\n",
              "      <td>W³ochy</td>\n",
              "      <td>Warszawa</td>\n",
              "      <td>4</td>\n",
              "      <td>10206.0</td>\n",
              "      <td>521.861.093</td>\n",
              "      <td>209.484.377</td>\n",
              "      <td>910000.0</td>\n",
              "      <td>3</td>\n",
              "      <td>71.00</td>\n",
              "      <td>2017</td>\n",
              "    </tr>\n",
              "    <tr>\n",
              "      <th>23761</th>\n",
              "      <td>Nowe Miasto Malta ul. Katowicka</td>\n",
              "      <td>Poznañ</td>\n",
              "      <td>0</td>\n",
              "      <td>4952.0</td>\n",
              "      <td>523.973.449</td>\n",
              "      <td>169.619.394</td>\n",
              "      <td>430695.0</td>\n",
              "      <td>3</td>\n",
              "      <td>50.67</td>\n",
              "      <td>2022</td>\n",
              "    </tr>\n",
              "    <tr>\n",
              "      <th>23763</th>\n",
              "      <td>Ursynów</td>\n",
              "      <td>Warszawa</td>\n",
              "      <td>2</td>\n",
              "      <td>10889.0</td>\n",
              "      <td>52.141.039</td>\n",
              "      <td>210.323.214</td>\n",
              "      <td>604800.0</td>\n",
              "      <td>3</td>\n",
              "      <td>63.00</td>\n",
              "      <td>1978</td>\n",
              "    </tr>\n",
              "  </tbody>\n",
              "</table>\n",
              "<p>18470 rows × 10 columns</p>\n",
              "</div>\n",
              "      <button class=\"colab-df-convert\" onclick=\"convertToInteractive('df-fceb54b3-eae9-4e08-8f86-d345ef6af62b')\"\n",
              "              title=\"Convert this dataframe to an interactive table.\"\n",
              "              style=\"display:none;\">\n",
              "        \n",
              "  <svg xmlns=\"http://www.w3.org/2000/svg\" height=\"24px\"viewBox=\"0 0 24 24\"\n",
              "       width=\"24px\">\n",
              "    <path d=\"M0 0h24v24H0V0z\" fill=\"none\"/>\n",
              "    <path d=\"M18.56 5.44l.94 2.06.94-2.06 2.06-.94-2.06-.94-.94-2.06-.94 2.06-2.06.94zm-11 1L8.5 8.5l.94-2.06 2.06-.94-2.06-.94L8.5 2.5l-.94 2.06-2.06.94zm10 10l.94 2.06.94-2.06 2.06-.94-2.06-.94-.94-2.06-.94 2.06-2.06.94z\"/><path d=\"M17.41 7.96l-1.37-1.37c-.4-.4-.92-.59-1.43-.59-.52 0-1.04.2-1.43.59L10.3 9.45l-7.72 7.72c-.78.78-.78 2.05 0 2.83L4 21.41c.39.39.9.59 1.41.59.51 0 1.02-.2 1.41-.59l7.78-7.78 2.81-2.81c.8-.78.8-2.07 0-2.86zM5.41 20L4 18.59l7.72-7.72 1.47 1.35L5.41 20z\"/>\n",
              "  </svg>\n",
              "      </button>\n",
              "      \n",
              "  <style>\n",
              "    .colab-df-container {\n",
              "      display:flex;\n",
              "      flex-wrap:wrap;\n",
              "      gap: 12px;\n",
              "    }\n",
              "\n",
              "    .colab-df-convert {\n",
              "      background-color: #E8F0FE;\n",
              "      border: none;\n",
              "      border-radius: 50%;\n",
              "      cursor: pointer;\n",
              "      display: none;\n",
              "      fill: #1967D2;\n",
              "      height: 32px;\n",
              "      padding: 0 0 0 0;\n",
              "      width: 32px;\n",
              "    }\n",
              "\n",
              "    .colab-df-convert:hover {\n",
              "      background-color: #E2EBFA;\n",
              "      box-shadow: 0px 1px 2px rgba(60, 64, 67, 0.3), 0px 1px 3px 1px rgba(60, 64, 67, 0.15);\n",
              "      fill: #174EA6;\n",
              "    }\n",
              "\n",
              "    [theme=dark] .colab-df-convert {\n",
              "      background-color: #3B4455;\n",
              "      fill: #D2E3FC;\n",
              "    }\n",
              "\n",
              "    [theme=dark] .colab-df-convert:hover {\n",
              "      background-color: #434B5C;\n",
              "      box-shadow: 0px 1px 3px 1px rgba(0, 0, 0, 0.15);\n",
              "      filter: drop-shadow(0px 1px 2px rgba(0, 0, 0, 0.3));\n",
              "      fill: #FFFFFF;\n",
              "    }\n",
              "  </style>\n",
              "\n",
              "      <script>\n",
              "        const buttonEl =\n",
              "          document.querySelector('#df-fceb54b3-eae9-4e08-8f86-d345ef6af62b button.colab-df-convert');\n",
              "        buttonEl.style.display =\n",
              "          google.colab.kernel.accessAllowed ? 'block' : 'none';\n",
              "\n",
              "        async function convertToInteractive(key) {\n",
              "          const element = document.querySelector('#df-fceb54b3-eae9-4e08-8f86-d345ef6af62b');\n",
              "          const dataTable =\n",
              "            await google.colab.kernel.invokeFunction('convertToInteractive',\n",
              "                                                     [key], {});\n",
              "          if (!dataTable) return;\n",
              "\n",
              "          const docLinkHtml = 'Like what you see? Visit the ' +\n",
              "            '<a target=\"_blank\" href=https://colab.research.google.com/notebooks/data_table.ipynb>data table notebook</a>'\n",
              "            + ' to learn more about interactive tables.';\n",
              "          element.innerHTML = '';\n",
              "          dataTable['output_type'] = 'display_data';\n",
              "          await google.colab.output.renderOutput(dataTable, element);\n",
              "          const docLink = document.createElement('div');\n",
              "          docLink.innerHTML = docLinkHtml;\n",
              "          element.appendChild(docLink);\n",
              "        }\n",
              "      </script>\n",
              "    </div>\n",
              "  </div>\n",
              "  "
            ]
          },
          "metadata": {},
          "execution_count": 23
        }
      ]
    },
    {
      "cell_type": "code",
      "source": [
        "# features list\n",
        "features = ['floor', 'rooms']\n",
        "\n",
        "# plot counter\n",
        "counter = 1\n",
        "\n",
        "fig = plt.figure(figsize=(25, 20))\n",
        "# plot histogram for each feature\n",
        "for el in features:\n",
        "  ax = plt.subplot(3, 2, counter)\n",
        "\n",
        "  # histogram\n",
        "  plt.hist(x=df_houses[el], alpha=0.5, bins=4)\n",
        "  # mean\n",
        "  plt.axvline(x=df_houses[el].mean(), color='crimson', linestyle='dashed', linewidth=2, label='Mean')\n",
        "  # median\n",
        "  plt.axvline(x=df_houses[el].median(), color='green', linestyle='dashed', linewidth=2, label='Median')\n",
        "\n",
        "  print(f'{el} Mean: {df_houses[el].mean()}')\n",
        "  print(f'{el} Median: {df_houses[el].median()}')\n",
        "  print(f'{el} Skewness: {df_houses[el].skew()}', '\\n')\n",
        "\n",
        "  plt.legend()\n",
        "  plt.title(f'{el} Distribution', pad=12)\n",
        "\n",
        "  counter += 1\n",
        "\n",
        "plt.show()\n",
        "\n",
        "\n"
      ],
      "metadata": {
        "colab": {
          "base_uri": "https://localhost:8080/",
          "height": 504
        },
        "id": "8rZrxMpIinc0",
        "outputId": "528068af-ea5d-4141-fde1-799bdba592e2"
      },
      "execution_count": 24,
      "outputs": [
        {
          "output_type": "stream",
          "name": "stdout",
          "text": [
            "floor Mean: 1.825554953979426\n",
            "floor Median: 2.0\n",
            "floor Skewness: 0.18329430887205117 \n",
            "\n",
            "rooms Mean: 2.5220898754737413\n",
            "rooms Median: 3.0\n",
            "rooms Skewness: 0.0337789487777992 \n",
            "\n"
          ]
        },
        {
          "output_type": "display_data",
          "data": {
            "text/plain": [
              "<Figure size 1800x1440 with 2 Axes>"
            ],
            "image/png": "[encoded data removed]"
          },
          "metadata": {
            "needs_background": "light"
          }
        }
      ]
    },
    {
      "cell_type": "markdown",
      "source": [
        "![purple-divider](https://user-images.githubusercontent.com/7065401/52071927-c1cd7100-2562-11e9-908a-dde91ba14e59.png)"
      ],
      "metadata": {
        "id": "zfrvcXVjstOM"
      }
    },
    {
      "cell_type": "markdown",
      "source": [
        "## Square Meters Distribution"
      ],
      "metadata": {
        "id": "seutS8c3ICyr"
      }
    },
    {
      "cell_type": "code",
      "source": [
        "# number of houses > 150 m^2\n",
        "df_houses[df_houses['sq'] > 150]"
      ],
      "metadata": {
        "colab": {
          "base_uri": "https://localhost:8080/",
          "height": 424
        },
        "id": "7MweHl2AIFZd",
        "outputId": "85a623da-34b2-4b80-b212-964f717801a3"
      },
      "execution_count": 25,
      "outputs": [
        {
          "output_type": "execute_result",
          "data": {
            "text/plain": [
              "                                          address      city  floor       id  \\\n",
              "179             Pr¹dnik Czerwony Marka Eminowicza    Kraków      1  25162.0   \n",
              "332                             Wilanów Urodzajna  Warszawa      1   6436.0   \n",
              "461                    Zwierzyniec Wola Justowska    Kraków      0  29440.0   \n",
              "686                      Mokotów Bia³ej Koniczyny  Warszawa      0   9361.0   \n",
              "943                         Wilanów ul. Janczarów  Warszawa      0   6654.0   \n",
              "...                                           ...       ...    ...      ...   \n",
              "22082                                Stare Miasto    Kraków      1  29311.0   \n",
              "22390  Zwierzyniec Pó³wsie Zwierzynieckie Junacka    Kraków      0  30287.0   \n",
              "23160                Stare Miasto pl. Na Groblach    Kraków      4  30307.0   \n",
              "23255                              Je¿yce Zacisze    Poznañ      3   3833.0   \n",
              "23512                      Stare Miasto Winogrady    Poznañ      2   4538.0   \n",
              "\n",
              "          latitude              longitude      price  rooms      sq  year  \n",
              "179    500.868.616            199.696.987  1045000.0      4  200.00  1984  \n",
              "332    521.692.344            210.789.978  2800000.0      4  178.80  2005  \n",
              "461    500.650.619             19.877.649  1104000.0      4  175.00  2014  \n",
              "686    521.842.458             21.042.709  2715606.0      4  168.00  2021  \n",
              "943    522.319.581            210.067.249  2400000.0      4  204.50  2010  \n",
              "...            ...                    ...        ...    ...     ...   ...  \n",
              "22082  500.590.398  1.993.716.829.792.890  4998000.0      4  178.50  2013  \n",
              "22390  500.667.032            198.488.749  1164744.0      4  184.88  2015  \n",
              "23160  500.561.004            199.320.048  5000000.0      4  170.00  2013  \n",
              "23255   52.412.666            169.143.664   869000.0      4  158.78  1903  \n",
              "23512  524.348.647            169.383.531  1100000.0      4  179.00  2020  \n",
              "\n",
              "[104 rows x 10 columns]"
            ],
            "text/html": [
              "\n",
              "  <div id=\"df-07f6e276-b886-4c00-b049-3bf10ca90bd5\">\n",
              "    <div class=\"colab-df-container\">\n",
              "      <div>\n",
              "<style scoped>\n",
              "    .dataframe tbody tr th:only-of-type {\n",
              "        vertical-align: middle;\n",
              "    }\n",
              "\n",
              "    .dataframe tbody tr th {\n",
              "        vertical-align: top;\n",
              "    }\n",
              "\n",
              "    .dataframe thead th {\n",
              "        text-align: right;\n",
              "    }\n",
              "</style>\n",
              "<table border=\"1\" class=\"dataframe\">\n",
              "  <thead>\n",
              "    <tr style=\"text-align: right;\">\n",
              "      <th></th>\n",
              "      <th>address</th>\n",
              "      <th>city</th>\n",
              "      <th>floor</th>\n",
              "      <th>id</th>\n",
              "      <th>latitude</th>\n",
              "      <th>longitude</th>\n",
              "      <th>price</th>\n",
              "      <th>rooms</th>\n",
              "      <th>sq</th>\n",
              "      <th>year</th>\n",
              "    </tr>\n",
              "  </thead>\n",
              "  <tbody>\n",
              "    <tr>\n",
              "      <th>179</th>\n",
              "      <td>Pr¹dnik Czerwony Marka Eminowicza</td>\n",
              "      <td>Kraków</td>\n",
              "      <td>1</td>\n",
              "      <td>25162.0</td>\n",
              "      <td>500.868.616</td>\n",
              "      <td>199.696.987</td>\n",
              "      <td>1045000.0</td>\n",
              "      <td>4</td>\n",
              "      <td>200.00</td>\n",
              "      <td>1984</td>\n",
              "    </tr>\n",
              "    <tr>\n",
              "      <th>332</th>\n",
              "      <td>Wilanów Urodzajna</td>\n",
              "      <td>Warszawa</td>\n",
              "      <td>1</td>\n",
              "      <td>6436.0</td>\n",
              "      <td>521.692.344</td>\n",
              "      <td>210.789.978</td>\n",
              "      <td>2800000.0</td>\n",
              "      <td>4</td>\n",
              "      <td>178.80</td>\n",
              "      <td>2005</td>\n",
              "    </tr>\n",
              "    <tr>\n",
              "      <th>461</th>\n",
              "      <td>Zwierzyniec Wola Justowska</td>\n",
              "      <td>Kraków</td>\n",
              "      <td>0</td>\n",
              "      <td>29440.0</td>\n",
              "      <td>500.650.619</td>\n",
              "      <td>19.877.649</td>\n",
              "      <td>1104000.0</td>\n",
              "      <td>4</td>\n",
              "      <td>175.00</td>\n",
              "      <td>2014</td>\n",
              "    </tr>\n",
              "    <tr>\n",
              "      <th>686</th>\n",
              "      <td>Mokotów Bia³ej Koniczyny</td>\n",
              "      <td>Warszawa</td>\n",
              "      <td>0</td>\n",
              "      <td>9361.0</td>\n",
              "      <td>521.842.458</td>\n",
              "      <td>21.042.709</td>\n",
              "      <td>2715606.0</td>\n",
              "      <td>4</td>\n",
              "      <td>168.00</td>\n",
              "      <td>2021</td>\n",
              "    </tr>\n",
              "    <tr>\n",
              "      <th>943</th>\n",
              "      <td>Wilanów ul. Janczarów</td>\n",
              "      <td>Warszawa</td>\n",
              "      <td>0</td>\n",
              "      <td>6654.0</td>\n",
              "      <td>522.319.581</td>\n",
              "      <td>210.067.249</td>\n",
              "      <td>2400000.0</td>\n",
              "      <td>4</td>\n",
              "      <td>204.50</td>\n",
              "      <td>2010</td>\n",
              "    </tr>\n",
              "    <tr>\n",
              "      <th>...</th>\n",
              "      <td>...</td>\n",
              "      <td>...</td>\n",
              "      <td>...</td>\n",
              "      <td>...</td>\n",
              "      <td>...</td>\n",
              "      <td>...</td>\n",
              "      <td>...</td>\n",
              "      <td>...</td>\n",
              "      <td>...</td>\n",
              "      <td>...</td>\n",
              "    </tr>\n",
              "    <tr>\n",
              "      <th>22082</th>\n",
              "      <td>Stare Miasto</td>\n",
              "      <td>Kraków</td>\n",
              "      <td>1</td>\n",
              "      <td>29311.0</td>\n",
              "      <td>500.590.398</td>\n",
              "      <td>1.993.716.829.792.890</td>\n",
              "      <td>4998000.0</td>\n",
              "      <td>4</td>\n",
              "      <td>178.50</td>\n",
              "      <td>2013</td>\n",
              "    </tr>\n",
              "    <tr>\n",
              "      <th>22390</th>\n",
              "      <td>Zwierzyniec Pó³wsie Zwierzynieckie Junacka</td>\n",
              "      <td>Kraków</td>\n",
              "      <td>0</td>\n",
              "      <td>30287.0</td>\n",
              "      <td>500.667.032</td>\n",
              "      <td>198.488.749</td>\n",
              "      <td>1164744.0</td>\n",
              "      <td>4</td>\n",
              "      <td>184.88</td>\n",
              "      <td>2015</td>\n",
              "    </tr>\n",
              "    <tr>\n",
              "      <th>23160</th>\n",
              "      <td>Stare Miasto pl. Na Groblach</td>\n",
              "      <td>Kraków</td>\n",
              "      <td>4</td>\n",
              "      <td>30307.0</td>\n",
              "      <td>500.561.004</td>\n",
              "      <td>199.320.048</td>\n",
              "      <td>5000000.0</td>\n",
              "      <td>4</td>\n",
              "      <td>170.00</td>\n",
              "      <td>2013</td>\n",
              "    </tr>\n",
              "    <tr>\n",
              "      <th>23255</th>\n",
              "      <td>Je¿yce Zacisze</td>\n",
              "      <td>Poznañ</td>\n",
              "      <td>3</td>\n",
              "      <td>3833.0</td>\n",
              "      <td>52.412.666</td>\n",
              "      <td>169.143.664</td>\n",
              "      <td>869000.0</td>\n",
              "      <td>4</td>\n",
              "      <td>158.78</td>\n",
              "      <td>1903</td>\n",
              "    </tr>\n",
              "    <tr>\n",
              "      <th>23512</th>\n",
              "      <td>Stare Miasto Winogrady</td>\n",
              "      <td>Poznañ</td>\n",
              "      <td>2</td>\n",
              "      <td>4538.0</td>\n",
              "      <td>524.348.647</td>\n",
              "      <td>169.383.531</td>\n",
              "      <td>1100000.0</td>\n",
              "      <td>4</td>\n",
              "      <td>179.00</td>\n",
              "      <td>2020</td>\n",
              "    </tr>\n",
              "  </tbody>\n",
              "</table>\n",
              "<p>104 rows × 10 columns</p>\n",
              "</div>\n",
              "      <button class=\"colab-df-convert\" onclick=\"convertToInteractive('df-07f6e276-b886-4c00-b049-3bf10ca90bd5')\"\n",
              "              title=\"Convert this dataframe to an interactive table.\"\n",
              "              style=\"display:none;\">\n",
              "        \n",
              "  <svg xmlns=\"http://www.w3.org/2000/svg\" height=\"24px\"viewBox=\"0 0 24 24\"\n",
              "       width=\"24px\">\n",
              "    <path d=\"M0 0h24v24H0V0z\" fill=\"none\"/>\n",
              "    <path d=\"M18.56 5.44l.94 2.06.94-2.06 2.06-.94-2.06-.94-.94-2.06-.94 2.06-2.06.94zm-11 1L8.5 8.5l.94-2.06 2.06-.94-2.06-.94L8.5 2.5l-.94 2.06-2.06.94zm10 10l.94 2.06.94-2.06 2.06-.94-2.06-.94-.94-2.06-.94 2.06-2.06.94z\"/><path d=\"M17.41 7.96l-1.37-1.37c-.4-.4-.92-.59-1.43-.59-.52 0-1.04.2-1.43.59L10.3 9.45l-7.72 7.72c-.78.78-.78 2.05 0 2.83L4 21.41c.39.39.9.59 1.41.59.51 0 1.02-.2 1.41-.59l7.78-7.78 2.81-2.81c.8-.78.8-2.07 0-2.86zM5.41 20L4 18.59l7.72-7.72 1.47 1.35L5.41 20z\"/>\n",
              "  </svg>\n",
              "      </button>\n",
              "      \n",
              "  <style>\n",
              "    .colab-df-container {\n",
              "      display:flex;\n",
              "      flex-wrap:wrap;\n",
              "      gap: 12px;\n",
              "    }\n",
              "\n",
              "    .colab-df-convert {\n",
              "      background-color: #E8F0FE;\n",
              "      border: none;\n",
              "      border-radius: 50%;\n",
              "      cursor: pointer;\n",
              "      display: none;\n",
              "      fill: #1967D2;\n",
              "      height: 32px;\n",
              "      padding: 0 0 0 0;\n",
              "      width: 32px;\n",
              "    }\n",
              "\n",
              "    .colab-df-convert:hover {\n",
              "      background-color: #E2EBFA;\n",
              "      box-shadow: 0px 1px 2px rgba(60, 64, 67, 0.3), 0px 1px 3px 1px rgba(60, 64, 67, 0.15);\n",
              "      fill: #174EA6;\n",
              "    }\n",
              "\n",
              "    [theme=dark] .colab-df-convert {\n",
              "      background-color: #3B4455;\n",
              "      fill: #D2E3FC;\n",
              "    }\n",
              "\n",
              "    [theme=dark] .colab-df-convert:hover {\n",
              "      background-color: #434B5C;\n",
              "      box-shadow: 0px 1px 3px 1px rgba(0, 0, 0, 0.15);\n",
              "      filter: drop-shadow(0px 1px 2px rgba(0, 0, 0, 0.3));\n",
              "      fill: #FFFFFF;\n",
              "    }\n",
              "  </style>\n",
              "\n",
              "      <script>\n",
              "        const buttonEl =\n",
              "          document.querySelector('#df-07f6e276-b886-4c00-b049-3bf10ca90bd5 button.colab-df-convert');\n",
              "        buttonEl.style.display =\n",
              "          google.colab.kernel.accessAllowed ? 'block' : 'none';\n",
              "\n",
              "        async function convertToInteractive(key) {\n",
              "          const element = document.querySelector('#df-07f6e276-b886-4c00-b049-3bf10ca90bd5');\n",
              "          const dataTable =\n",
              "            await google.colab.kernel.invokeFunction('convertToInteractive',\n",
              "                                                     [key], {});\n",
              "          if (!dataTable) return;\n",
              "\n",
              "          const docLinkHtml = 'Like what you see? Visit the ' +\n",
              "            '<a target=\"_blank\" href=https://colab.research.google.com/notebooks/data_table.ipynb>data table notebook</a>'\n",
              "            + ' to learn more about interactive tables.';\n",
              "          element.innerHTML = '';\n",
              "          dataTable['output_type'] = 'display_data';\n",
              "          await google.colab.output.renderOutput(dataTable, element);\n",
              "          const docLink = document.createElement('div');\n",
              "          docLink.innerHTML = docLinkHtml;\n",
              "          element.appendChild(docLink);\n",
              "        }\n",
              "      </script>\n",
              "    </div>\n",
              "  </div>\n",
              "  "
            ]
          },
          "metadata": {},
          "execution_count": 25
        }
      ]
    },
    {
      "cell_type": "markdown",
      "source": [
        "- Houses with more than $150 m^2$ are not going to be taken into account because they are outliers and will generate noise in the model."
      ],
      "metadata": {
        "id": "L1R-dMERIkhd"
      }
    },
    {
      "cell_type": "code",
      "source": [
        "# number of houses < 25 m^2 and with more than 1 floor\n",
        "df_houses[(df_houses['sq'] < 25)  & (df_houses['floor'] > 1)]"
      ],
      "metadata": {
        "colab": {
          "base_uri": "https://localhost:8080/",
          "height": 424
        },
        "id": "bmAT4umR8a7O",
        "outputId": "faa7cff6-c71b-4c67-91b9-1ead014170d7"
      },
      "execution_count": 26,
      "outputs": [
        {
          "output_type": "execute_result",
          "data": {
            "text/plain": [
              "                                       address      city  floor       id  \\\n",
              "1                    Praga-Po³udnie Grochowska  Warszawa      3  17828.0   \n",
              "18            Krowodrza Stanis³awa Konarskiego    Kraków      2  27706.0   \n",
              "48                             Ochota Grójecka  Warszawa      4  12808.0   \n",
              "122                               Stare Miasto    Kraków      4  22172.0   \n",
              "173                                     Ochota  Warszawa      3   9397.0   \n",
              "...                                        ...       ...    ...      ...   \n",
              "23279                       Ochota Adama P³uga  Warszawa      3   7817.0   \n",
              "23306                       Wola ul. O¿arowska  Warszawa      4  10034.0   \n",
              "23402                Stare Miasto w. Gertrudy    Kraków      2  19048.0   \n",
              "23442  Ochota Stara Ochota ul. Karola Dickensa  Warszawa      3  10409.0   \n",
              "23629                        Bielany Wrzeciono  Warszawa      4  16427.0   \n",
              "\n",
              "          latitude              longitude     price  rooms     sq  year  \n",
              "1      522.497.745            211.068.857  240548.0      1  24.38  2021  \n",
              "18     500.840.413  1.997.816.046.757.790  280000.0      1  16.20  1930  \n",
              "48      52.211.874             20.977.725  319000.0      1  23.00  1960  \n",
              "122    500.590.398  1.993.716.829.792.890  399000.0      1  24.50  1930  \n",
              "173     52.212.225            209.726.299  328500.0      2  24.00  1970  \n",
              "...            ...                    ...       ...    ...    ...   ...  \n",
              "23279  522.163.558            209.858.349  320000.0      1  18.00  1923  \n",
              "23306  522.465.852            209.546.547  285000.0      1  20.00  1950  \n",
              "23402  500.594.355            199.419.231  280000.0      1  14.03  1886  \n",
              "23442  522.057.522             20.971.997  328500.0      2  23.50  1970  \n",
              "23629  522.915.543            209.450.519  245000.0      1  17.50  1968  \n",
              "\n",
              "[190 rows x 10 columns]"
            ],
            "text/html": [
              "\n",
              "  <div id=\"df-d97b59ca-d314-48af-b3e9-7f9eac5d2d3c\">\n",
              "    <div class=\"colab-df-container\">\n",
              "      <div>\n",
              "<style scoped>\n",
              "    .dataframe tbody tr th:only-of-type {\n",
              "        vertical-align: middle;\n",
              "    }\n",
              "\n",
              "    .dataframe tbody tr th {\n",
              "        vertical-align: top;\n",
              "    }\n",
              "\n",
              "    .dataframe thead th {\n",
              "        text-align: right;\n",
              "    }\n",
              "</style>\n",
              "<table border=\"1\" class=\"dataframe\">\n",
              "  <thead>\n",
              "    <tr style=\"text-align: right;\">\n",
              "      <th></th>\n",
              "      <th>address</th>\n",
              "      <th>city</th>\n",
              "      <th>floor</th>\n",
              "      <th>id</th>\n",
              "      <th>latitude</th>\n",
              "      <th>longitude</th>\n",
              "      <th>price</th>\n",
              "      <th>rooms</th>\n",
              "      <th>sq</th>\n",
              "      <th>year</th>\n",
              "    </tr>\n",
              "  </thead>\n",
              "  <tbody>\n",
              "    <tr>\n",
              "      <th>1</th>\n",
              "      <td>Praga-Po³udnie Grochowska</td>\n",
              "      <td>Warszawa</td>\n",
              "      <td>3</td>\n",
              "      <td>17828.0</td>\n",
              "      <td>522.497.745</td>\n",
              "      <td>211.068.857</td>\n",
              "      <td>240548.0</td>\n",
              "      <td>1</td>\n",
              "      <td>24.38</td>\n",
              "      <td>2021</td>\n",
              "    </tr>\n",
              "    <tr>\n",
              "      <th>18</th>\n",
              "      <td>Krowodrza Stanis³awa Konarskiego</td>\n",
              "      <td>Kraków</td>\n",
              "      <td>2</td>\n",
              "      <td>27706.0</td>\n",
              "      <td>500.840.413</td>\n",
              "      <td>1.997.816.046.757.790</td>\n",
              "      <td>280000.0</td>\n",
              "      <td>1</td>\n",
              "      <td>16.20</td>\n",
              "      <td>1930</td>\n",
              "    </tr>\n",
              "    <tr>\n",
              "      <th>48</th>\n",
              "      <td>Ochota Grójecka</td>\n",
              "      <td>Warszawa</td>\n",
              "      <td>4</td>\n",
              "      <td>12808.0</td>\n",
              "      <td>52.211.874</td>\n",
              "      <td>20.977.725</td>\n",
              "      <td>319000.0</td>\n",
              "      <td>1</td>\n",
              "      <td>23.00</td>\n",
              "      <td>1960</td>\n",
              "    </tr>\n",
              "    <tr>\n",
              "      <th>122</th>\n",
              "      <td>Stare Miasto</td>\n",
              "      <td>Kraków</td>\n",
              "      <td>4</td>\n",
              "      <td>22172.0</td>\n",
              "      <td>500.590.398</td>\n",
              "      <td>1.993.716.829.792.890</td>\n",
              "      <td>399000.0</td>\n",
              "      <td>1</td>\n",
              "      <td>24.50</td>\n",
              "      <td>1930</td>\n",
              "    </tr>\n",
              "    <tr>\n",
              "      <th>173</th>\n",
              "      <td>Ochota</td>\n",
              "      <td>Warszawa</td>\n",
              "      <td>3</td>\n",
              "      <td>9397.0</td>\n",
              "      <td>52.212.225</td>\n",
              "      <td>209.726.299</td>\n",
              "      <td>328500.0</td>\n",
              "      <td>2</td>\n",
              "      <td>24.00</td>\n",
              "      <td>1970</td>\n",
              "    </tr>\n",
              "    <tr>\n",
              "      <th>...</th>\n",
              "      <td>...</td>\n",
              "      <td>...</td>\n",
              "      <td>...</td>\n",
              "      <td>...</td>\n",
              "      <td>...</td>\n",
              "      <td>...</td>\n",
              "      <td>...</td>\n",
              "      <td>...</td>\n",
              "      <td>...</td>\n",
              "      <td>...</td>\n",
              "    </tr>\n",
              "    <tr>\n",
              "      <th>23279</th>\n",
              "      <td>Ochota Adama P³uga</td>\n",
              "      <td>Warszawa</td>\n",
              "      <td>3</td>\n",
              "      <td>7817.0</td>\n",
              "      <td>522.163.558</td>\n",
              "      <td>209.858.349</td>\n",
              "      <td>320000.0</td>\n",
              "      <td>1</td>\n",
              "      <td>18.00</td>\n",
              "      <td>1923</td>\n",
              "    </tr>\n",
              "    <tr>\n",
              "      <th>23306</th>\n",
              "      <td>Wola ul. O¿arowska</td>\n",
              "      <td>Warszawa</td>\n",
              "      <td>4</td>\n",
              "      <td>10034.0</td>\n",
              "      <td>522.465.852</td>\n",
              "      <td>209.546.547</td>\n",
              "      <td>285000.0</td>\n",
              "      <td>1</td>\n",
              "      <td>20.00</td>\n",
              "      <td>1950</td>\n",
              "    </tr>\n",
              "    <tr>\n",
              "      <th>23402</th>\n",
              "      <td>Stare Miasto w. Gertrudy</td>\n",
              "      <td>Kraków</td>\n",
              "      <td>2</td>\n",
              "      <td>19048.0</td>\n",
              "      <td>500.594.355</td>\n",
              "      <td>199.419.231</td>\n",
              "      <td>280000.0</td>\n",
              "      <td>1</td>\n",
              "      <td>14.03</td>\n",
              "      <td>1886</td>\n",
              "    </tr>\n",
              "    <tr>\n",
              "      <th>23442</th>\n",
              "      <td>Ochota Stara Ochota ul. Karola Dickensa</td>\n",
              "      <td>Warszawa</td>\n",
              "      <td>3</td>\n",
              "      <td>10409.0</td>\n",
              "      <td>522.057.522</td>\n",
              "      <td>20.971.997</td>\n",
              "      <td>328500.0</td>\n",
              "      <td>2</td>\n",
              "      <td>23.50</td>\n",
              "      <td>1970</td>\n",
              "    </tr>\n",
              "    <tr>\n",
              "      <th>23629</th>\n",
              "      <td>Bielany Wrzeciono</td>\n",
              "      <td>Warszawa</td>\n",
              "      <td>4</td>\n",
              "      <td>16427.0</td>\n",
              "      <td>522.915.543</td>\n",
              "      <td>209.450.519</td>\n",
              "      <td>245000.0</td>\n",
              "      <td>1</td>\n",
              "      <td>17.50</td>\n",
              "      <td>1968</td>\n",
              "    </tr>\n",
              "  </tbody>\n",
              "</table>\n",
              "<p>190 rows × 10 columns</p>\n",
              "</div>\n",
              "      <button class=\"colab-df-convert\" onclick=\"convertToInteractive('df-d97b59ca-d314-48af-b3e9-7f9eac5d2d3c')\"\n",
              "              title=\"Convert this dataframe to an interactive table.\"\n",
              "              style=\"display:none;\">\n",
              "        \n",
              "  <svg xmlns=\"http://www.w3.org/2000/svg\" height=\"24px\"viewBox=\"0 0 24 24\"\n",
              "       width=\"24px\">\n",
              "    <path d=\"M0 0h24v24H0V0z\" fill=\"none\"/>\n",
              "    <path d=\"M18.56 5.44l.94 2.06.94-2.06 2.06-.94-2.06-.94-.94-2.06-.94 2.06-2.06.94zm-11 1L8.5 8.5l.94-2.06 2.06-.94-2.06-.94L8.5 2.5l-.94 2.06-2.06.94zm10 10l.94 2.06.94-2.06 2.06-.94-2.06-.94-.94-2.06-.94 2.06-2.06.94z\"/><path d=\"M17.41 7.96l-1.37-1.37c-.4-.4-.92-.59-1.43-.59-.52 0-1.04.2-1.43.59L10.3 9.45l-7.72 7.72c-.78.78-.78 2.05 0 2.83L4 21.41c.39.39.9.59 1.41.59.51 0 1.02-.2 1.41-.59l7.78-7.78 2.81-2.81c.8-.78.8-2.07 0-2.86zM5.41 20L4 18.59l7.72-7.72 1.47 1.35L5.41 20z\"/>\n",
              "  </svg>\n",
              "      </button>\n",
              "      \n",
              "  <style>\n",
              "    .colab-df-container {\n",
              "      display:flex;\n",
              "      flex-wrap:wrap;\n",
              "      gap: 12px;\n",
              "    }\n",
              "\n",
              "    .colab-df-convert {\n",
              "      background-color: #E8F0FE;\n",
              "      border: none;\n",
              "      border-radius: 50%;\n",
              "      cursor: pointer;\n",
              "      display: none;\n",
              "      fill: #1967D2;\n",
              "      height: 32px;\n",
              "      padding: 0 0 0 0;\n",
              "      width: 32px;\n",
              "    }\n",
              "\n",
              "    .colab-df-convert:hover {\n",
              "      background-color: #E2EBFA;\n",
              "      box-shadow: 0px 1px 2px rgba(60, 64, 67, 0.3), 0px 1px 3px 1px rgba(60, 64, 67, 0.15);\n",
              "      fill: #174EA6;\n",
              "    }\n",
              "\n",
              "    [theme=dark] .colab-df-convert {\n",
              "      background-color: #3B4455;\n",
              "      fill: #D2E3FC;\n",
              "    }\n",
              "\n",
              "    [theme=dark] .colab-df-convert:hover {\n",
              "      background-color: #434B5C;\n",
              "      box-shadow: 0px 1px 3px 1px rgba(0, 0, 0, 0.15);\n",
              "      filter: drop-shadow(0px 1px 2px rgba(0, 0, 0, 0.3));\n",
              "      fill: #FFFFFF;\n",
              "    }\n",
              "  </style>\n",
              "\n",
              "      <script>\n",
              "        const buttonEl =\n",
              "          document.querySelector('#df-d97b59ca-d314-48af-b3e9-7f9eac5d2d3c button.colab-df-convert');\n",
              "        buttonEl.style.display =\n",
              "          google.colab.kernel.accessAllowed ? 'block' : 'none';\n",
              "\n",
              "        async function convertToInteractive(key) {\n",
              "          const element = document.querySelector('#df-d97b59ca-d314-48af-b3e9-7f9eac5d2d3c');\n",
              "          const dataTable =\n",
              "            await google.colab.kernel.invokeFunction('convertToInteractive',\n",
              "                                                     [key], {});\n",
              "          if (!dataTable) return;\n",
              "\n",
              "          const docLinkHtml = 'Like what you see? Visit the ' +\n",
              "            '<a target=\"_blank\" href=https://colab.research.google.com/notebooks/data_table.ipynb>data table notebook</a>'\n",
              "            + ' to learn more about interactive tables.';\n",
              "          element.innerHTML = '';\n",
              "          dataTable['output_type'] = 'display_data';\n",
              "          await google.colab.output.renderOutput(dataTable, element);\n",
              "          const docLink = document.createElement('div');\n",
              "          docLink.innerHTML = docLinkHtml;\n",
              "          element.appendChild(docLink);\n",
              "        }\n",
              "      </script>\n",
              "    </div>\n",
              "  </div>\n",
              "  "
            ]
          },
          "metadata": {},
          "execution_count": 26
        }
      ]
    },
    {
      "cell_type": "markdown",
      "source": [
        "- Houses with less than $25$$m^2$ and with more than $1$ floor are not going to be taken into account because they are outliers and will generate noise in the model."
      ],
      "metadata": {
        "id": "Jiw-8SjA9Mhe"
      }
    },
    {
      "cell_type": "code",
      "source": [
        "# filter houses !>= 150 m^2\n",
        "df_houses = df_houses[df_houses['sq'] <= 150]\n",
        "# filter houses > 25m^2 and floor > 1\n",
        "df_houses = df_houses[(df_houses['sq'] > 25) & (df_houses['floor'] > 1)]\n",
        "\n",
        "df_houses = df_houses.reset_index()"
      ],
      "metadata": {
        "id": "6QjFO0KvIhDk"
      },
      "execution_count": 27,
      "outputs": []
    },
    {
      "cell_type": "code",
      "source": [
        "# plot distribution of m^2\n",
        "\n",
        "\n",
        "f, ax = plt.subplots(figsize=(12, 6))\n",
        "\n",
        "plt.hist(x=df_houses['sq'], alpha=0.5, color='crimson')\n",
        "# mean\n",
        "plt.axvline(x=df_houses['sq'].mean(), linestyle='dashed', linewidth=2, color='navy', label='Mean')\n",
        "# median\n",
        "plt.axvline(x=df_houses['sq'].mean(), linestyle='dashed', linewidth=2, color='green', label='Median')\n",
        "\n",
        "print(f'Houses m^2 Mean: {df_houses.sq.mean()}')\n",
        "print(f'Houses m^2 Median: {df_houses.sq.median()}')\n",
        "print(f'Houses m^2 Skewness: {df_houses.sq.skew()}')\n",
        "\n",
        "plt.legend()\n",
        "plt.title('Houses m^2 Distribution', pad=12)\n",
        "\n",
        "plt.show()"
      ],
      "metadata": {
        "colab": {
          "base_uri": "https://localhost:8080/",
          "height": 451
        },
        "id": "T-6JcvM_JkFL",
        "outputId": "07dcdb89-7044-4c47-f18f-ad4c6a8f484f"
      },
      "execution_count": 28,
      "outputs": [
        {
          "output_type": "stream",
          "name": "stdout",
          "text": [
            "Houses m^2 Mean: 56.96138351983722\n",
            "Houses m^2 Median: 53.22\n",
            "Houses m^2 Skewness: 1.1551877685537852\n"
          ]
        },
        {
          "output_type": "display_data",
          "data": {
            "text/plain": [
              "<Figure size 864x432 with 1 Axes>"
            ],
            "image/png": "[encoded data removed]"
          },
          "metadata": {
            "needs_background": "light"
          }
        }
      ]
    },
    {
      "cell_type": "markdown",
      "source": [
        "![purple-divider](https://user-images.githubusercontent.com/7065401/52071927-c1cd7100-2562-11e9-908a-dde91ba14e59.png)"
      ],
      "metadata": {
        "id": "ZJy41OxtIGHT"
      }
    },
    {
      "cell_type": "markdown",
      "source": [
        "## Features Encoding\n",
        "\n",
        "- The new columns that are going to be created are:\n",
        "  - is_warsaw >> 1 if the house is located in Warsaw\n",
        "  - is_greater_1970 >> 1 if the house was built in a year greater than 1970."
      ],
      "metadata": {
        "id": "qolveUsTsw11"
      }
    },
    {
      "cell_type": "code",
      "source": [
        "df_houses.head()"
      ],
      "metadata": {
        "colab": {
          "base_uri": "https://localhost:8080/",
          "height": 206
        },
        "id": "h7WGd4F2QoOm",
        "outputId": "724a8ae0-74dc-483f-a0fe-f59a2f657df0"
      },
      "execution_count": 29,
      "outputs": [
        {
          "output_type": "execute_result",
          "data": {
            "text/plain": [
              "   index                                   address      city  floor       id  \\\n",
              "0      0  Podgórze Zab³ocie Stanis³awa Klimeckiego    Kraków      2  23918.0   \n",
              "1      2                   Krowodrza Czarnowiejska    Kraków      2  22784.0   \n",
              "2      5            Nowa Huta Czy¿yny ul. Woniców    Kraków      2  26071.0   \n",
              "3      8                            Ursynów Wy¿yny  Warszawa      3  11387.0   \n",
              "4     11                     Praga-Po³udnie Goc³aw  Warszawa      2  13355.0   \n",
              "\n",
              "      latitude               longitude     price  rooms     sq  year  \n",
              "0  500.492.242             199.703.793  749000.0      3  74.05  2021  \n",
              "1  500.669.642             199.200.249  427000.0      2  37.00  1970  \n",
              "2  500.469.432  19.997.153.435.836.600  414600.0      1  34.55  2022  \n",
              "3  521.402.821             210.563.452  615000.0      4  63.40  1982  \n",
              "4  522.286.331             211.065.722  520000.0      3  67.00  1989  "
            ],
            "text/html": [
              "\n",
              "  <div id=\"df-786f9457-aa7b-4576-bf95-328e49a5a5d7\">\n",
              "    <div class=\"colab-df-container\">\n",
              "      <div>\n",
              "<style scoped>\n",
              "    .dataframe tbody tr th:only-of-type {\n",
              "        vertical-align: middle;\n",
              "    }\n",
              "\n",
              "    .dataframe tbody tr th {\n",
              "        vertical-align: top;\n",
              "    }\n",
              "\n",
              "    .dataframe thead th {\n",
              "        text-align: right;\n",
              "    }\n",
              "</style>\n",
              "<table border=\"1\" class=\"dataframe\">\n",
              "  <thead>\n",
              "    <tr style=\"text-align: right;\">\n",
              "      <th></th>\n",
              "      <th>index</th>\n",
              "      <th>address</th>\n",
              "      <th>city</th>\n",
              "      <th>floor</th>\n",
              "      <th>id</th>\n",
              "      <th>latitude</th>\n",
              "      <th>longitude</th>\n",
              "      <th>price</th>\n",
              "      <th>rooms</th>\n",
              "      <th>sq</th>\n",
              "      <th>year</th>\n",
              "    </tr>\n",
              "  </thead>\n",
              "  <tbody>\n",
              "    <tr>\n",
              "      <th>0</th>\n",
              "      <td>0</td>\n",
              "      <td>Podgórze Zab³ocie Stanis³awa Klimeckiego</td>\n",
              "      <td>Kraków</td>\n",
              "      <td>2</td>\n",
              "      <td>23918.0</td>\n",
              "      <td>500.492.242</td>\n",
              "      <td>199.703.793</td>\n",
              "      <td>749000.0</td>\n",
              "      <td>3</td>\n",
              "      <td>74.05</td>\n",
              "      <td>2021</td>\n",
              "    </tr>\n",
              "    <tr>\n",
              "      <th>1</th>\n",
              "      <td>2</td>\n",
              "      <td>Krowodrza Czarnowiejska</td>\n",
              "      <td>Kraków</td>\n",
              "      <td>2</td>\n",
              "      <td>22784.0</td>\n",
              "      <td>500.669.642</td>\n",
              "      <td>199.200.249</td>\n",
              "      <td>427000.0</td>\n",
              "      <td>2</td>\n",
              "      <td>37.00</td>\n",
              "      <td>1970</td>\n",
              "    </tr>\n",
              "    <tr>\n",
              "      <th>2</th>\n",
              "      <td>5</td>\n",
              "      <td>Nowa Huta Czy¿yny ul. Woniców</td>\n",
              "      <td>Kraków</td>\n",
              "      <td>2</td>\n",
              "      <td>26071.0</td>\n",
              "      <td>500.469.432</td>\n",
              "      <td>19.997.153.435.836.600</td>\n",
              "      <td>414600.0</td>\n",
              "      <td>1</td>\n",
              "      <td>34.55</td>\n",
              "      <td>2022</td>\n",
              "    </tr>\n",
              "    <tr>\n",
              "      <th>3</th>\n",
              "      <td>8</td>\n",
              "      <td>Ursynów Wy¿yny</td>\n",
              "      <td>Warszawa</td>\n",
              "      <td>3</td>\n",
              "      <td>11387.0</td>\n",
              "      <td>521.402.821</td>\n",
              "      <td>210.563.452</td>\n",
              "      <td>615000.0</td>\n",
              "      <td>4</td>\n",
              "      <td>63.40</td>\n",
              "      <td>1982</td>\n",
              "    </tr>\n",
              "    <tr>\n",
              "      <th>4</th>\n",
              "      <td>11</td>\n",
              "      <td>Praga-Po³udnie Goc³aw</td>\n",
              "      <td>Warszawa</td>\n",
              "      <td>2</td>\n",
              "      <td>13355.0</td>\n",
              "      <td>522.286.331</td>\n",
              "      <td>211.065.722</td>\n",
              "      <td>520000.0</td>\n",
              "      <td>3</td>\n",
              "      <td>67.00</td>\n",
              "      <td>1989</td>\n",
              "    </tr>\n",
              "  </tbody>\n",
              "</table>\n",
              "</div>\n",
              "      <button class=\"colab-df-convert\" onclick=\"convertToInteractive('df-786f9457-aa7b-4576-bf95-328e49a5a5d7')\"\n",
              "              title=\"Convert this dataframe to an interactive table.\"\n",
              "              style=\"display:none;\">\n",
              "        \n",
              "  <svg xmlns=\"http://www.w3.org/2000/svg\" height=\"24px\"viewBox=\"0 0 24 24\"\n",
              "       width=\"24px\">\n",
              "    <path d=\"M0 0h24v24H0V0z\" fill=\"none\"/>\n",
              "    <path d=\"M18.56 5.44l.94 2.06.94-2.06 2.06-.94-2.06-.94-.94-2.06-.94 2.06-2.06.94zm-11 1L8.5 8.5l.94-2.06 2.06-.94-2.06-.94L8.5 2.5l-.94 2.06-2.06.94zm10 10l.94 2.06.94-2.06 2.06-.94-2.06-.94-.94-2.06-.94 2.06-2.06.94z\"/><path d=\"M17.41 7.96l-1.37-1.37c-.4-.4-.92-.59-1.43-.59-.52 0-1.04.2-1.43.59L10.3 9.45l-7.72 7.72c-.78.78-.78 2.05 0 2.83L4 21.41c.39.39.9.59 1.41.59.51 0 1.02-.2 1.41-.59l7.78-7.78 2.81-2.81c.8-.78.8-2.07 0-2.86zM5.41 20L4 18.59l7.72-7.72 1.47 1.35L5.41 20z\"/>\n",
              "  </svg>\n",
              "      </button>\n",
              "      \n",
              "  <style>\n",
              "    .colab-df-container {\n",
              "      display:flex;\n",
              "      flex-wrap:wrap;\n",
              "      gap: 12px;\n",
              "    }\n",
              "\n",
              "    .colab-df-convert {\n",
              "      background-color: #E8F0FE;\n",
              "      border: none;\n",
              "      border-radius: 50%;\n",
              "      cursor: pointer;\n",
              "      display: none;\n",
              "      fill: #1967D2;\n",
              "      height: 32px;\n",
              "      padding: 0 0 0 0;\n",
              "      width: 32px;\n",
              "    }\n",
              "\n",
              "    .colab-df-convert:hover {\n",
              "      background-color: #E2EBFA;\n",
              "      box-shadow: 0px 1px 2px rgba(60, 64, 67, 0.3), 0px 1px 3px 1px rgba(60, 64, 67, 0.15);\n",
              "      fill: #174EA6;\n",
              "    }\n",
              "\n",
              "    [theme=dark] .colab-df-convert {\n",
              "      background-color: #3B4455;\n",
              "      fill: #D2E3FC;\n",
              "    }\n",
              "\n",
              "    [theme=dark] .colab-df-convert:hover {\n",
              "      background-color: #434B5C;\n",
              "      box-shadow: 0px 1px 3px 1px rgba(0, 0, 0, 0.15);\n",
              "      filter: drop-shadow(0px 1px 2px rgba(0, 0, 0, 0.3));\n",
              "      fill: #FFFFFF;\n",
              "    }\n",
              "  </style>\n",
              "\n",
              "      <script>\n",
              "        const buttonEl =\n",
              "          document.querySelector('#df-786f9457-aa7b-4576-bf95-328e49a5a5d7 button.colab-df-convert');\n",
              "        buttonEl.style.display =\n",
              "          google.colab.kernel.accessAllowed ? 'block' : 'none';\n",
              "\n",
              "        async function convertToInteractive(key) {\n",
              "          const element = document.querySelector('#df-786f9457-aa7b-4576-bf95-328e49a5a5d7');\n",
              "          const dataTable =\n",
              "            await google.colab.kernel.invokeFunction('convertToInteractive',\n",
              "                                                     [key], {});\n",
              "          if (!dataTable) return;\n",
              "\n",
              "          const docLinkHtml = 'Like what you see? Visit the ' +\n",
              "            '<a target=\"_blank\" href=https://colab.research.google.com/notebooks/data_table.ipynb>data table notebook</a>'\n",
              "            + ' to learn more about interactive tables.';\n",
              "          element.innerHTML = '';\n",
              "          dataTable['output_type'] = 'display_data';\n",
              "          await google.colab.output.renderOutput(dataTable, element);\n",
              "          const docLink = document.createElement('div');\n",
              "          docLink.innerHTML = docLinkHtml;\n",
              "          element.appendChild(docLink);\n",
              "        }\n",
              "      </script>\n",
              "    </div>\n",
              "  </div>\n",
              "  "
            ]
          },
          "metadata": {},
          "execution_count": 29
        }
      ]
    },
    {
      "cell_type": "code",
      "source": [
        "# new column creation\n",
        "\n",
        "# is_warwaw >> 1 if the house is located in Warsaw\n",
        "df_houses['is_warsaw'] = [1 if df_houses.iloc[index].city == 'Warszawa' else 0 for index in df_houses.index]\n",
        "# is_greater_1970 >> 1 if the house is >= 1970\n",
        "df_houses['is_greater_1970'] = [1 if df_houses.iloc[index].year >= 1970 else 0 for index in df_houses.index]\n"
      ],
      "metadata": {
        "id": "tK4DIjoMtpzD"
      },
      "execution_count": 30,
      "outputs": []
    },
    {
      "cell_type": "code",
      "source": [
        "# check changes\n",
        "df_houses.head()"
      ],
      "metadata": {
        "colab": {
          "base_uri": "https://localhost:8080/",
          "height": 250
        },
        "id": "KH_7rFMNvyxc",
        "outputId": "da68a6ff-2dc9-4482-8b68-c6be9c782313"
      },
      "execution_count": 31,
      "outputs": [
        {
          "output_type": "execute_result",
          "data": {
            "text/plain": [
              "   index                                   address      city  floor       id  \\\n",
              "0      0  Podgórze Zab³ocie Stanis³awa Klimeckiego    Kraków      2  23918.0   \n",
              "1      2                   Krowodrza Czarnowiejska    Kraków      2  22784.0   \n",
              "2      5            Nowa Huta Czy¿yny ul. Woniców    Kraków      2  26071.0   \n",
              "3      8                            Ursynów Wy¿yny  Warszawa      3  11387.0   \n",
              "4     11                     Praga-Po³udnie Goc³aw  Warszawa      2  13355.0   \n",
              "\n",
              "      latitude               longitude     price  rooms     sq  year  \\\n",
              "0  500.492.242             199.703.793  749000.0      3  74.05  2021   \n",
              "1  500.669.642             199.200.249  427000.0      2  37.00  1970   \n",
              "2  500.469.432  19.997.153.435.836.600  414600.0      1  34.55  2022   \n",
              "3  521.402.821             210.563.452  615000.0      4  63.40  1982   \n",
              "4  522.286.331             211.065.722  520000.0      3  67.00  1989   \n",
              "\n",
              "   is_warsaw  is_greater_1970  \n",
              "0          0                1  \n",
              "1          0                1  \n",
              "2          0                1  \n",
              "3          1                1  \n",
              "4          1                1  "
            ],
            "text/html": [
              "\n",
              "  <div id=\"df-762660d7-b7b8-4ea6-b594-63854da05723\">\n",
              "    <div class=\"colab-df-container\">\n",
              "      <div>\n",
              "<style scoped>\n",
              "    .dataframe tbody tr th:only-of-type {\n",
              "        vertical-align: middle;\n",
              "    }\n",
              "\n",
              "    .dataframe tbody tr th {\n",
              "        vertical-align: top;\n",
              "    }\n",
              "\n",
              "    .dataframe thead th {\n",
              "        text-align: right;\n",
              "    }\n",
              "</style>\n",
              "<table border=\"1\" class=\"dataframe\">\n",
              "  <thead>\n",
              "    <tr style=\"text-align: right;\">\n",
              "      <th></th>\n",
              "      <th>index</th>\n",
              "      <th>address</th>\n",
              "      <th>city</th>\n",
              "      <th>floor</th>\n",
              "      <th>id</th>\n",
              "      <th>latitude</th>\n",
              "      <th>longitude</th>\n",
              "      <th>price</th>\n",
              "      <th>rooms</th>\n",
              "      <th>sq</th>\n",
              "      <th>year</th>\n",
              "      <th>is_warsaw</th>\n",
              "      <th>is_greater_1970</th>\n",
              "    </tr>\n",
              "  </thead>\n",
              "  <tbody>\n",
              "    <tr>\n",
              "      <th>0</th>\n",
              "      <td>0</td>\n",
              "      <td>Podgórze Zab³ocie Stanis³awa Klimeckiego</td>\n",
              "      <td>Kraków</td>\n",
              "      <td>2</td>\n",
              "      <td>23918.0</td>\n",
              "      <td>500.492.242</td>\n",
              "      <td>199.703.793</td>\n",
              "      <td>749000.0</td>\n",
              "      <td>3</td>\n",
              "      <td>74.05</td>\n",
              "      <td>2021</td>\n",
              "      <td>0</td>\n",
              "      <td>1</td>\n",
              "    </tr>\n",
              "    <tr>\n",
              "      <th>1</th>\n",
              "      <td>2</td>\n",
              "      <td>Krowodrza Czarnowiejska</td>\n",
              "      <td>Kraków</td>\n",
              "      <td>2</td>\n",
              "      <td>22784.0</td>\n",
              "      <td>500.669.642</td>\n",
              "      <td>199.200.249</td>\n",
              "      <td>427000.0</td>\n",
              "      <td>2</td>\n",
              "      <td>37.00</td>\n",
              "      <td>1970</td>\n",
              "      <td>0</td>\n",
              "      <td>1</td>\n",
              "    </tr>\n",
              "    <tr>\n",
              "      <th>2</th>\n",
              "      <td>5</td>\n",
              "      <td>Nowa Huta Czy¿yny ul. Woniców</td>\n",
              "      <td>Kraków</td>\n",
              "      <td>2</td>\n",
              "      <td>26071.0</td>\n",
              "      <td>500.469.432</td>\n",
              "      <td>19.997.153.435.836.600</td>\n",
              "      <td>414600.0</td>\n",
              "      <td>1</td>\n",
              "      <td>34.55</td>\n",
              "      <td>2022</td>\n",
              "      <td>0</td>\n",
              "      <td>1</td>\n",
              "    </tr>\n",
              "    <tr>\n",
              "      <th>3</th>\n",
              "      <td>8</td>\n",
              "      <td>Ursynów Wy¿yny</td>\n",
              "      <td>Warszawa</td>\n",
              "      <td>3</td>\n",
              "      <td>11387.0</td>\n",
              "      <td>521.402.821</td>\n",
              "      <td>210.563.452</td>\n",
              "      <td>615000.0</td>\n",
              "      <td>4</td>\n",
              "      <td>63.40</td>\n",
              "      <td>1982</td>\n",
              "      <td>1</td>\n",
              "      <td>1</td>\n",
              "    </tr>\n",
              "    <tr>\n",
              "      <th>4</th>\n",
              "      <td>11</td>\n",
              "      <td>Praga-Po³udnie Goc³aw</td>\n",
              "      <td>Warszawa</td>\n",
              "      <td>2</td>\n",
              "      <td>13355.0</td>\n",
              "      <td>522.286.331</td>\n",
              "      <td>211.065.722</td>\n",
              "      <td>520000.0</td>\n",
              "      <td>3</td>\n",
              "      <td>67.00</td>\n",
              "      <td>1989</td>\n",
              "      <td>1</td>\n",
              "      <td>1</td>\n",
              "    </tr>\n",
              "  </tbody>\n",
              "</table>\n",
              "</div>\n",
              "      <button class=\"colab-df-convert\" onclick=\"convertToInteractive('df-762660d7-b7b8-4ea6-b594-63854da05723')\"\n",
              "              title=\"Convert this dataframe to an interactive table.\"\n",
              "              style=\"display:none;\">\n",
              "        \n",
              "  <svg xmlns=\"http://www.w3.org/2000/svg\" height=\"24px\"viewBox=\"0 0 24 24\"\n",
              "       width=\"24px\">\n",
              "    <path d=\"M0 0h24v24H0V0z\" fill=\"none\"/>\n",
              "    <path d=\"M18.56 5.44l.94 2.06.94-2.06 2.06-.94-2.06-.94-.94-2.06-.94 2.06-2.06.94zm-11 1L8.5 8.5l.94-2.06 2.06-.94-2.06-.94L8.5 2.5l-.94 2.06-2.06.94zm10 10l.94 2.06.94-2.06 2.06-.94-2.06-.94-.94-2.06-.94 2.06-2.06.94z\"/><path d=\"M17.41 7.96l-1.37-1.37c-.4-.4-.92-.59-1.43-.59-.52 0-1.04.2-1.43.59L10.3 9.45l-7.72 7.72c-.78.78-.78 2.05 0 2.83L4 21.41c.39.39.9.59 1.41.59.51 0 1.02-.2 1.41-.59l7.78-7.78 2.81-2.81c.8-.78.8-2.07 0-2.86zM5.41 20L4 18.59l7.72-7.72 1.47 1.35L5.41 20z\"/>\n",
              "  </svg>\n",
              "      </button>\n",
              "      \n",
              "  <style>\n",
              "    .colab-df-container {\n",
              "      display:flex;\n",
              "      flex-wrap:wrap;\n",
              "      gap: 12px;\n",
              "    }\n",
              "\n",
              "    .colab-df-convert {\n",
              "      background-color: #E8F0FE;\n",
              "      border: none;\n",
              "      border-radius: 50%;\n",
              "      cursor: pointer;\n",
              "      display: none;\n",
              "      fill: #1967D2;\n",
              "      height: 32px;\n",
              "      padding: 0 0 0 0;\n",
              "      width: 32px;\n",
              "    }\n",
              "\n",
              "    .colab-df-convert:hover {\n",
              "      background-color: #E2EBFA;\n",
              "      box-shadow: 0px 1px 2px rgba(60, 64, 67, 0.3), 0px 1px 3px 1px rgba(60, 64, 67, 0.15);\n",
              "      fill: #174EA6;\n",
              "    }\n",
              "\n",
              "    [theme=dark] .colab-df-convert {\n",
              "      background-color: #3B4455;\n",
              "      fill: #D2E3FC;\n",
              "    }\n",
              "\n",
              "    [theme=dark] .colab-df-convert:hover {\n",
              "      background-color: #434B5C;\n",
              "      box-shadow: 0px 1px 3px 1px rgba(0, 0, 0, 0.15);\n",
              "      filter: drop-shadow(0px 1px 2px rgba(0, 0, 0, 0.3));\n",
              "      fill: #FFFFFF;\n",
              "    }\n",
              "  </style>\n",
              "\n",
              "      <script>\n",
              "        const buttonEl =\n",
              "          document.querySelector('#df-762660d7-b7b8-4ea6-b594-63854da05723 button.colab-df-convert');\n",
              "        buttonEl.style.display =\n",
              "          google.colab.kernel.accessAllowed ? 'block' : 'none';\n",
              "\n",
              "        async function convertToInteractive(key) {\n",
              "          const element = document.querySelector('#df-762660d7-b7b8-4ea6-b594-63854da05723');\n",
              "          const dataTable =\n",
              "            await google.colab.kernel.invokeFunction('convertToInteractive',\n",
              "                                                     [key], {});\n",
              "          if (!dataTable) return;\n",
              "\n",
              "          const docLinkHtml = 'Like what you see? Visit the ' +\n",
              "            '<a target=\"_blank\" href=https://colab.research.google.com/notebooks/data_table.ipynb>data table notebook</a>'\n",
              "            + ' to learn more about interactive tables.';\n",
              "          element.innerHTML = '';\n",
              "          dataTable['output_type'] = 'display_data';\n",
              "          await google.colab.output.renderOutput(dataTable, element);\n",
              "          const docLink = document.createElement('div');\n",
              "          docLink.innerHTML = docLinkHtml;\n",
              "          element.appendChild(docLink);\n",
              "        }\n",
              "      </script>\n",
              "    </div>\n",
              "  </div>\n",
              "  "
            ]
          },
          "metadata": {},
          "execution_count": 31
        }
      ]
    },
    {
      "cell_type": "markdown",
      "source": [
        "![purple-divider](https://user-images.githubusercontent.com/7065401/52071927-c1cd7100-2562-11e9-908a-dde91ba14e59.png)"
      ],
      "metadata": {
        "id": "rFmxtns4xAYc"
      }
    },
    {
      "cell_type": "markdown",
      "source": [
        "## Features Selection\n",
        "\n",
        "- The features **(Inputs)** that are going to be selected for the *prediction model* are:\n",
        "  - *is_warsaw, floor, rooms, sq, is_greater_1970*\n",
        "\n",
        "- The **Outputs** for the model is the *price* variable.\n",
        "  - the prices are in $zloty$, polands currency. $1$ $zloty$ $=$ $0.21$ $euros$"
      ],
      "metadata": {
        "id": "_1FjVYbYw9g2"
      }
    },
    {
      "cell_type": "code",
      "source": [
        "# create new df\n",
        "df_houses_raw = df_houses[['is_warsaw', 'floor', 'rooms', 'sq', 'is_greater_1970', 'price']]\n",
        "\n",
        "df_houses_raw.head()"
      ],
      "metadata": {
        "colab": {
          "base_uri": "https://localhost:8080/",
          "height": 206
        },
        "id": "L8d1zkVhw3pJ",
        "outputId": "473c8e9f-0cf1-443a-f91f-f0931489ae53"
      },
      "execution_count": 32,
      "outputs": [
        {
          "output_type": "execute_result",
          "data": {
            "text/plain": [
              "   is_warsaw  floor  rooms     sq  is_greater_1970     price\n",
              "0          0      2      3  74.05                1  749000.0\n",
              "1          0      2      2  37.00                1  427000.0\n",
              "2          0      2      1  34.55                1  414600.0\n",
              "3          1      3      4  63.40                1  615000.0\n",
              "4          1      2      3  67.00                1  520000.0"
            ],
            "text/html": [
              "\n",
              "  <div id=\"df-16356012-830b-4fc6-823b-cd6ce9552888\">\n",
              "    <div class=\"colab-df-container\">\n",
              "      <div>\n",
              "<style scoped>\n",
              "    .dataframe tbody tr th:only-of-type {\n",
              "        vertical-align: middle;\n",
              "    }\n",
              "\n",
              "    .dataframe tbody tr th {\n",
              "        vertical-align: top;\n",
              "    }\n",
              "\n",
              "    .dataframe thead th {\n",
              "        text-align: right;\n",
              "    }\n",
              "</style>\n",
              "<table border=\"1\" class=\"dataframe\">\n",
              "  <thead>\n",
              "    <tr style=\"text-align: right;\">\n",
              "      <th></th>\n",
              "      <th>is_warsaw</th>\n",
              "      <th>floor</th>\n",
              "      <th>rooms</th>\n",
              "      <th>sq</th>\n",
              "      <th>is_greater_1970</th>\n",
              "      <th>price</th>\n",
              "    </tr>\n",
              "  </thead>\n",
              "  <tbody>\n",
              "    <tr>\n",
              "      <th>0</th>\n",
              "      <td>0</td>\n",
              "      <td>2</td>\n",
              "      <td>3</td>\n",
              "      <td>74.05</td>\n",
              "      <td>1</td>\n",
              "      <td>749000.0</td>\n",
              "    </tr>\n",
              "    <tr>\n",
              "      <th>1</th>\n",
              "      <td>0</td>\n",
              "      <td>2</td>\n",
              "      <td>2</td>\n",
              "      <td>37.00</td>\n",
              "      <td>1</td>\n",
              "      <td>427000.0</td>\n",
              "    </tr>\n",
              "    <tr>\n",
              "      <th>2</th>\n",
              "      <td>0</td>\n",
              "      <td>2</td>\n",
              "      <td>1</td>\n",
              "      <td>34.55</td>\n",
              "      <td>1</td>\n",
              "      <td>414600.0</td>\n",
              "    </tr>\n",
              "    <tr>\n",
              "      <th>3</th>\n",
              "      <td>1</td>\n",
              "      <td>3</td>\n",
              "      <td>4</td>\n",
              "      <td>63.40</td>\n",
              "      <td>1</td>\n",
              "      <td>615000.0</td>\n",
              "    </tr>\n",
              "    <tr>\n",
              "      <th>4</th>\n",
              "      <td>1</td>\n",
              "      <td>2</td>\n",
              "      <td>3</td>\n",
              "      <td>67.00</td>\n",
              "      <td>1</td>\n",
              "      <td>520000.0</td>\n",
              "    </tr>\n",
              "  </tbody>\n",
              "</table>\n",
              "</div>\n",
              "      <button class=\"colab-df-convert\" onclick=\"convertToInteractive('df-16356012-830b-4fc6-823b-cd6ce9552888')\"\n",
              "              title=\"Convert this dataframe to an interactive table.\"\n",
              "              style=\"display:none;\">\n",
              "        \n",
              "  <svg xmlns=\"http://www.w3.org/2000/svg\" height=\"24px\"viewBox=\"0 0 24 24\"\n",
              "       width=\"24px\">\n",
              "    <path d=\"M0 0h24v24H0V0z\" fill=\"none\"/>\n",
              "    <path d=\"M18.56 5.44l.94 2.06.94-2.06 2.06-.94-2.06-.94-.94-2.06-.94 2.06-2.06.94zm-11 1L8.5 8.5l.94-2.06 2.06-.94-2.06-.94L8.5 2.5l-.94 2.06-2.06.94zm10 10l.94 2.06.94-2.06 2.06-.94-2.06-.94-.94-2.06-.94 2.06-2.06.94z\"/><path d=\"M17.41 7.96l-1.37-1.37c-.4-.4-.92-.59-1.43-.59-.52 0-1.04.2-1.43.59L10.3 9.45l-7.72 7.72c-.78.78-.78 2.05 0 2.83L4 21.41c.39.39.9.59 1.41.59.51 0 1.02-.2 1.41-.59l7.78-7.78 2.81-2.81c.8-.78.8-2.07 0-2.86zM5.41 20L4 18.59l7.72-7.72 1.47 1.35L5.41 20z\"/>\n",
              "  </svg>\n",
              "      </button>\n",
              "      \n",
              "  <style>\n",
              "    .colab-df-container {\n",
              "      display:flex;\n",
              "      flex-wrap:wrap;\n",
              "      gap: 12px;\n",
              "    }\n",
              "\n",
              "    .colab-df-convert {\n",
              "      background-color: #E8F0FE;\n",
              "      border: none;\n",
              "      border-radius: 50%;\n",
              "      cursor: pointer;\n",
              "      display: none;\n",
              "      fill: #1967D2;\n",
              "      height: 32px;\n",
              "      padding: 0 0 0 0;\n",
              "      width: 32px;\n",
              "    }\n",
              "\n",
              "    .colab-df-convert:hover {\n",
              "      background-color: #E2EBFA;\n",
              "      box-shadow: 0px 1px 2px rgba(60, 64, 67, 0.3), 0px 1px 3px 1px rgba(60, 64, 67, 0.15);\n",
              "      fill: #174EA6;\n",
              "    }\n",
              "\n",
              "    [theme=dark] .colab-df-convert {\n",
              "      background-color: #3B4455;\n",
              "      fill: #D2E3FC;\n",
              "    }\n",
              "\n",
              "    [theme=dark] .colab-df-convert:hover {\n",
              "      background-color: #434B5C;\n",
              "      box-shadow: 0px 1px 3px 1px rgba(0, 0, 0, 0.15);\n",
              "      filter: drop-shadow(0px 1px 2px rgba(0, 0, 0, 0.3));\n",
              "      fill: #FFFFFF;\n",
              "    }\n",
              "  </style>\n",
              "\n",
              "      <script>\n",
              "        const buttonEl =\n",
              "          document.querySelector('#df-16356012-830b-4fc6-823b-cd6ce9552888 button.colab-df-convert');\n",
              "        buttonEl.style.display =\n",
              "          google.colab.kernel.accessAllowed ? 'block' : 'none';\n",
              "\n",
              "        async function convertToInteractive(key) {\n",
              "          const element = document.querySelector('#df-16356012-830b-4fc6-823b-cd6ce9552888');\n",
              "          const dataTable =\n",
              "            await google.colab.kernel.invokeFunction('convertToInteractive',\n",
              "                                                     [key], {});\n",
              "          if (!dataTable) return;\n",
              "\n",
              "          const docLinkHtml = 'Like what you see? Visit the ' +\n",
              "            '<a target=\"_blank\" href=https://colab.research.google.com/notebooks/data_table.ipynb>data table notebook</a>'\n",
              "            + ' to learn more about interactive tables.';\n",
              "          element.innerHTML = '';\n",
              "          dataTable['output_type'] = 'display_data';\n",
              "          await google.colab.output.renderOutput(dataTable, element);\n",
              "          const docLink = document.createElement('div');\n",
              "          docLink.innerHTML = docLinkHtml;\n",
              "          element.appendChild(docLink);\n",
              "        }\n",
              "      </script>\n",
              "    </div>\n",
              "  </div>\n",
              "  "
            ]
          },
          "metadata": {},
          "execution_count": 32
        }
      ]
    },
    {
      "cell_type": "code",
      "source": [
        "# create price in euro column\n",
        "df_houses_raw['price_euro'] = df_houses_raw['price'] * 0.21\n",
        "\n",
        "# create price per sq column\n",
        "df_houses_raw['price_per_sq'] = df_houses_raw['price_euro'] / df_houses_raw['sq']\n",
        "\n",
        "df_houses_raw.head()"
      ],
      "metadata": {
        "colab": {
          "base_uri": "https://localhost:8080/",
          "height": 428
        },
        "id": "vvF28QxUj5Ec",
        "outputId": "7df3b5f2-5686-40fa-8faf-c50c2fddcf8f"
      },
      "execution_count": 33,
      "outputs": [
        {
          "output_type": "stream",
          "name": "stderr",
          "text": [
            "/usr/local/lib/python3.7/dist-packages/ipykernel_launcher.py:2: SettingWithCopyWarning: \n",
            "A value is trying to be set on a copy of a slice from a DataFrame.\n",
            "Try using .loc[row_indexer,col_indexer] = value instead\n",
            "\n",
            "See the caveats in the documentation: https://pandas.pydata.org/pandas-docs/stable/user_guide/indexing.html#returning-a-view-versus-a-copy\n",
            "  \n",
            "/usr/local/lib/python3.7/dist-packages/ipykernel_launcher.py:5: SettingWithCopyWarning: \n",
            "A value is trying to be set on a copy of a slice from a DataFrame.\n",
            "Try using .loc[row_indexer,col_indexer] = value instead\n",
            "\n",
            "See the caveats in the documentation: https://pandas.pydata.org/pandas-docs/stable/user_guide/indexing.html#returning-a-view-versus-a-copy\n",
            "  \"\"\"\n"
          ]
        },
        {
          "output_type": "execute_result",
          "data": {
            "text/plain": [
              "   is_warsaw  floor  rooms     sq  is_greater_1970     price  price_euro  \\\n",
              "0          0      2      3  74.05                1  749000.0    157290.0   \n",
              "1          0      2      2  37.00                1  427000.0     89670.0   \n",
              "2          0      2      1  34.55                1  414600.0     87066.0   \n",
              "3          1      3      4  63.40                1  615000.0    129150.0   \n",
              "4          1      2      3  67.00                1  520000.0    109200.0   \n",
              "\n",
              "   price_per_sq  \n",
              "0   2124.105334  \n",
              "1   2423.513514  \n",
              "2   2520.000000  \n",
              "3   2037.066246  \n",
              "4   1629.850746  "
            ],
            "text/html": [
              "\n",
              "  <div id=\"df-55ad2b9c-753f-4d2f-b2d0-637c6c44cf22\">\n",
              "    <div class=\"colab-df-container\">\n",
              "      <div>\n",
              "<style scoped>\n",
              "    .dataframe tbody tr th:only-of-type {\n",
              "        vertical-align: middle;\n",
              "    }\n",
              "\n",
              "    .dataframe tbody tr th {\n",
              "        vertical-align: top;\n",
              "    }\n",
              "\n",
              "    .dataframe thead th {\n",
              "        text-align: right;\n",
              "    }\n",
              "</style>\n",
              "<table border=\"1\" class=\"dataframe\">\n",
              "  <thead>\n",
              "    <tr style=\"text-align: right;\">\n",
              "      <th></th>\n",
              "      <th>is_warsaw</th>\n",
              "      <th>floor</th>\n",
              "      <th>rooms</th>\n",
              "      <th>sq</th>\n",
              "      <th>is_greater_1970</th>\n",
              "      <th>price</th>\n",
              "      <th>price_euro</th>\n",
              "      <th>price_per_sq</th>\n",
              "    </tr>\n",
              "  </thead>\n",
              "  <tbody>\n",
              "    <tr>\n",
              "      <th>0</th>\n",
              "      <td>0</td>\n",
              "      <td>2</td>\n",
              "      <td>3</td>\n",
              "      <td>74.05</td>\n",
              "      <td>1</td>\n",
              "      <td>749000.0</td>\n",
              "      <td>157290.0</td>\n",
              "      <td>2124.105334</td>\n",
              "    </tr>\n",
              "    <tr>\n",
              "      <th>1</th>\n",
              "      <td>0</td>\n",
              "      <td>2</td>\n",
              "      <td>2</td>\n",
              "      <td>37.00</td>\n",
              "      <td>1</td>\n",
              "      <td>427000.0</td>\n",
              "      <td>89670.0</td>\n",
              "      <td>2423.513514</td>\n",
              "    </tr>\n",
              "    <tr>\n",
              "      <th>2</th>\n",
              "      <td>0</td>\n",
              "      <td>2</td>\n",
              "      <td>1</td>\n",
              "      <td>34.55</td>\n",
              "      <td>1</td>\n",
              "      <td>414600.0</td>\n",
              "      <td>87066.0</td>\n",
              "      <td>2520.000000</td>\n",
              "    </tr>\n",
              "    <tr>\n",
              "      <th>3</th>\n",
              "      <td>1</td>\n",
              "      <td>3</td>\n",
              "      <td>4</td>\n",
              "      <td>63.40</td>\n",
              "      <td>1</td>\n",
              "      <td>615000.0</td>\n",
              "      <td>129150.0</td>\n",
              "      <td>2037.066246</td>\n",
              "    </tr>\n",
              "    <tr>\n",
              "      <th>4</th>\n",
              "      <td>1</td>\n",
              "      <td>2</td>\n",
              "      <td>3</td>\n",
              "      <td>67.00</td>\n",
              "      <td>1</td>\n",
              "      <td>520000.0</td>\n",
              "      <td>109200.0</td>\n",
              "      <td>1629.850746</td>\n",
              "    </tr>\n",
              "  </tbody>\n",
              "</table>\n",
              "</div>\n",
              "      <button class=\"colab-df-convert\" onclick=\"convertToInteractive('df-55ad2b9c-753f-4d2f-b2d0-637c6c44cf22')\"\n",
              "              title=\"Convert this dataframe to an interactive table.\"\n",
              "              style=\"display:none;\">\n",
              "        \n",
              "  <svg xmlns=\"http://www.w3.org/2000/svg\" height=\"24px\"viewBox=\"0 0 24 24\"\n",
              "       width=\"24px\">\n",
              "    <path d=\"M0 0h24v24H0V0z\" fill=\"none\"/>\n",
              "    <path d=\"M18.56 5.44l.94 2.06.94-2.06 2.06-.94-2.06-.94-.94-2.06-.94 2.06-2.06.94zm-11 1L8.5 8.5l.94-2.06 2.06-.94-2.06-.94L8.5 2.5l-.94 2.06-2.06.94zm10 10l.94 2.06.94-2.06 2.06-.94-2.06-.94-.94-2.06-.94 2.06-2.06.94z\"/><path d=\"M17.41 7.96l-1.37-1.37c-.4-.4-.92-.59-1.43-.59-.52 0-1.04.2-1.43.59L10.3 9.45l-7.72 7.72c-.78.78-.78 2.05 0 2.83L4 21.41c.39.39.9.59 1.41.59.51 0 1.02-.2 1.41-.59l7.78-7.78 2.81-2.81c.8-.78.8-2.07 0-2.86zM5.41 20L4 18.59l7.72-7.72 1.47 1.35L5.41 20z\"/>\n",
              "  </svg>\n",
              "      </button>\n",
              "      \n",
              "  <style>\n",
              "    .colab-df-container {\n",
              "      display:flex;\n",
              "      flex-wrap:wrap;\n",
              "      gap: 12px;\n",
              "    }\n",
              "\n",
              "    .colab-df-convert {\n",
              "      background-color: #E8F0FE;\n",
              "      border: none;\n",
              "      border-radius: 50%;\n",
              "      cursor: pointer;\n",
              "      display: none;\n",
              "      fill: #1967D2;\n",
              "      height: 32px;\n",
              "      padding: 0 0 0 0;\n",
              "      width: 32px;\n",
              "    }\n",
              "\n",
              "    .colab-df-convert:hover {\n",
              "      background-color: #E2EBFA;\n",
              "      box-shadow: 0px 1px 2px rgba(60, 64, 67, 0.3), 0px 1px 3px 1px rgba(60, 64, 67, 0.15);\n",
              "      fill: #174EA6;\n",
              "    }\n",
              "\n",
              "    [theme=dark] .colab-df-convert {\n",
              "      background-color: #3B4455;\n",
              "      fill: #D2E3FC;\n",
              "    }\n",
              "\n",
              "    [theme=dark] .colab-df-convert:hover {\n",
              "      background-color: #434B5C;\n",
              "      box-shadow: 0px 1px 3px 1px rgba(0, 0, 0, 0.15);\n",
              "      filter: drop-shadow(0px 1px 2px rgba(0, 0, 0, 0.3));\n",
              "      fill: #FFFFFF;\n",
              "    }\n",
              "  </style>\n",
              "\n",
              "      <script>\n",
              "        const buttonEl =\n",
              "          document.querySelector('#df-55ad2b9c-753f-4d2f-b2d0-637c6c44cf22 button.colab-df-convert');\n",
              "        buttonEl.style.display =\n",
              "          google.colab.kernel.accessAllowed ? 'block' : 'none';\n",
              "\n",
              "        async function convertToInteractive(key) {\n",
              "          const element = document.querySelector('#df-55ad2b9c-753f-4d2f-b2d0-637c6c44cf22');\n",
              "          const dataTable =\n",
              "            await google.colab.kernel.invokeFunction('convertToInteractive',\n",
              "                                                     [key], {});\n",
              "          if (!dataTable) return;\n",
              "\n",
              "          const docLinkHtml = 'Like what you see? Visit the ' +\n",
              "            '<a target=\"_blank\" href=https://colab.research.google.com/notebooks/data_table.ipynb>data table notebook</a>'\n",
              "            + ' to learn more about interactive tables.';\n",
              "          element.innerHTML = '';\n",
              "          dataTable['output_type'] = 'display_data';\n",
              "          await google.colab.output.renderOutput(dataTable, element);\n",
              "          const docLink = document.createElement('div');\n",
              "          docLink.innerHTML = docLinkHtml;\n",
              "          element.appendChild(docLink);\n",
              "        }\n",
              "      </script>\n",
              "    </div>\n",
              "  </div>\n",
              "  "
            ]
          },
          "metadata": {},
          "execution_count": 33
        }
      ]
    },
    {
      "cell_type": "code",
      "source": [
        "# descriptive statistics of df\n",
        "df_houses_raw.describe()"
      ],
      "metadata": {
        "colab": {
          "base_uri": "https://localhost:8080/",
          "height": 300
        },
        "id": "xwIMh53PlrBe",
        "outputId": "44cd0883-415e-4161-9be7-55fca3cc7373"
      },
      "execution_count": 34,
      "outputs": [
        {
          "output_type": "execute_result",
          "data": {
            "text/plain": [
              "         is_warsaw        floor        rooms           sq  is_greater_1970  \\\n",
              "count  9830.000000  9830.000000  9830.000000  9830.000000      9830.000000   \n",
              "mean      0.369278     2.872940     2.541709    56.961384         0.837030   \n",
              "std       0.482634     0.796159     0.831176    20.359094         0.369358   \n",
              "min       0.000000     2.000000     1.000000    25.010000         0.000000   \n",
              "25%       0.000000     2.000000     2.000000    42.180000         1.000000   \n",
              "50%       0.000000     3.000000     3.000000    53.220000         1.000000   \n",
              "75%       1.000000     4.000000     3.000000    67.235000         1.000000   \n",
              "max       1.000000     4.000000     4.000000   150.000000         1.000000   \n",
              "\n",
              "              price    price_euro  price_per_sq  \n",
              "count  9.830000e+03  9.830000e+03   9830.000000  \n",
              "mean   5.986284e+05  1.257120e+05   2213.005892  \n",
              "std    3.342458e+05  7.019161e+04    735.971713  \n",
              "min    6.900000e+04  1.449000e+04    439.090909  \n",
              "25%    4.119692e+05  8.651354e+04   1753.389960  \n",
              "50%    5.150000e+05  1.081500e+05   2058.000000  \n",
              "75%    6.750000e+05  1.417500e+05   2520.000000  \n",
              "max    9.008000e+06  1.891680e+06  23821.684926  "
            ],
            "text/html": [
              "\n",
              "  <div id=\"df-b8cdcfa6-60e2-4f4d-997d-c146b5302854\">\n",
              "    <div class=\"colab-df-container\">\n",
              "      <div>\n",
              "<style scoped>\n",
              "    .dataframe tbody tr th:only-of-type {\n",
              "        vertical-align: middle;\n",
              "    }\n",
              "\n",
              "    .dataframe tbody tr th {\n",
              "        vertical-align: top;\n",
              "    }\n",
              "\n",
              "    .dataframe thead th {\n",
              "        text-align: right;\n",
              "    }\n",
              "</style>\n",
              "<table border=\"1\" class=\"dataframe\">\n",
              "  <thead>\n",
              "    <tr style=\"text-align: right;\">\n",
              "      <th></th>\n",
              "      <th>is_warsaw</th>\n",
              "      <th>floor</th>\n",
              "      <th>rooms</th>\n",
              "      <th>sq</th>\n",
              "      <th>is_greater_1970</th>\n",
              "      <th>price</th>\n",
              "      <th>price_euro</th>\n",
              "      <th>price_per_sq</th>\n",
              "    </tr>\n",
              "  </thead>\n",
              "  <tbody>\n",
              "    <tr>\n",
              "      <th>count</th>\n",
              "      <td>9830.000000</td>\n",
              "      <td>9830.000000</td>\n",
              "      <td>9830.000000</td>\n",
              "      <td>9830.000000</td>\n",
              "      <td>9830.000000</td>\n",
              "      <td>9.830000e+03</td>\n",
              "      <td>9.830000e+03</td>\n",
              "      <td>9830.000000</td>\n",
              "    </tr>\n",
              "    <tr>\n",
              "      <th>mean</th>\n",
              "      <td>0.369278</td>\n",
              "      <td>2.872940</td>\n",
              "      <td>2.541709</td>\n",
              "      <td>56.961384</td>\n",
              "      <td>0.837030</td>\n",
              "      <td>5.986284e+05</td>\n",
              "      <td>1.257120e+05</td>\n",
              "      <td>2213.005892</td>\n",
              "    </tr>\n",
              "    <tr>\n",
              "      <th>std</th>\n",
              "      <td>0.482634</td>\n",
              "      <td>0.796159</td>\n",
              "      <td>0.831176</td>\n",
              "      <td>20.359094</td>\n",
              "      <td>0.369358</td>\n",
              "      <td>3.342458e+05</td>\n",
              "      <td>7.019161e+04</td>\n",
              "      <td>735.971713</td>\n",
              "    </tr>\n",
              "    <tr>\n",
              "      <th>min</th>\n",
              "      <td>0.000000</td>\n",
              "      <td>2.000000</td>\n",
              "      <td>1.000000</td>\n",
              "      <td>25.010000</td>\n",
              "      <td>0.000000</td>\n",
              "      <td>6.900000e+04</td>\n",
              "      <td>1.449000e+04</td>\n",
              "      <td>439.090909</td>\n",
              "    </tr>\n",
              "    <tr>\n",
              "      <th>25%</th>\n",
              "      <td>0.000000</td>\n",
              "      <td>2.000000</td>\n",
              "      <td>2.000000</td>\n",
              "      <td>42.180000</td>\n",
              "      <td>1.000000</td>\n",
              "      <td>4.119692e+05</td>\n",
              "      <td>8.651354e+04</td>\n",
              "      <td>1753.389960</td>\n",
              "    </tr>\n",
              "    <tr>\n",
              "      <th>50%</th>\n",
              "      <td>0.000000</td>\n",
              "      <td>3.000000</td>\n",
              "      <td>3.000000</td>\n",
              "      <td>53.220000</td>\n",
              "      <td>1.000000</td>\n",
              "      <td>5.150000e+05</td>\n",
              "      <td>1.081500e+05</td>\n",
              "      <td>2058.000000</td>\n",
              "    </tr>\n",
              "    <tr>\n",
              "      <th>75%</th>\n",
              "      <td>1.000000</td>\n",
              "      <td>4.000000</td>\n",
              "      <td>3.000000</td>\n",
              "      <td>67.235000</td>\n",
              "      <td>1.000000</td>\n",
              "      <td>6.750000e+05</td>\n",
              "      <td>1.417500e+05</td>\n",
              "      <td>2520.000000</td>\n",
              "    </tr>\n",
              "    <tr>\n",
              "      <th>max</th>\n",
              "      <td>1.000000</td>\n",
              "      <td>4.000000</td>\n",
              "      <td>4.000000</td>\n",
              "      <td>150.000000</td>\n",
              "      <td>1.000000</td>\n",
              "      <td>9.008000e+06</td>\n",
              "      <td>1.891680e+06</td>\n",
              "      <td>23821.684926</td>\n",
              "    </tr>\n",
              "  </tbody>\n",
              "</table>\n",
              "</div>\n",
              "      <button class=\"colab-df-convert\" onclick=\"convertToInteractive('df-b8cdcfa6-60e2-4f4d-997d-c146b5302854')\"\n",
              "              title=\"Convert this dataframe to an interactive table.\"\n",
              "              style=\"display:none;\">\n",
              "        \n",
              "  <svg xmlns=\"http://www.w3.org/2000/svg\" height=\"24px\"viewBox=\"0 0 24 24\"\n",
              "       width=\"24px\">\n",
              "    <path d=\"M0 0h24v24H0V0z\" fill=\"none\"/>\n",
              "    <path d=\"M18.56 5.44l.94 2.06.94-2.06 2.06-.94-2.06-.94-.94-2.06-.94 2.06-2.06.94zm-11 1L8.5 8.5l.94-2.06 2.06-.94-2.06-.94L8.5 2.5l-.94 2.06-2.06.94zm10 10l.94 2.06.94-2.06 2.06-.94-2.06-.94-.94-2.06-.94 2.06-2.06.94z\"/><path d=\"M17.41 7.96l-1.37-1.37c-.4-.4-.92-.59-1.43-.59-.52 0-1.04.2-1.43.59L10.3 9.45l-7.72 7.72c-.78.78-.78 2.05 0 2.83L4 21.41c.39.39.9.59 1.41.59.51 0 1.02-.2 1.41-.59l7.78-7.78 2.81-2.81c.8-.78.8-2.07 0-2.86zM5.41 20L4 18.59l7.72-7.72 1.47 1.35L5.41 20z\"/>\n",
              "  </svg>\n",
              "      </button>\n",
              "      \n",
              "  <style>\n",
              "    .colab-df-container {\n",
              "      display:flex;\n",
              "      flex-wrap:wrap;\n",
              "      gap: 12px;\n",
              "    }\n",
              "\n",
              "    .colab-df-convert {\n",
              "      background-color: #E8F0FE;\n",
              "      border: none;\n",
              "      border-radius: 50%;\n",
              "      cursor: pointer;\n",
              "      display: none;\n",
              "      fill: #1967D2;\n",
              "      height: 32px;\n",
              "      padding: 0 0 0 0;\n",
              "      width: 32px;\n",
              "    }\n",
              "\n",
              "    .colab-df-convert:hover {\n",
              "      background-color: #E2EBFA;\n",
              "      box-shadow: 0px 1px 2px rgba(60, 64, 67, 0.3), 0px 1px 3px 1px rgba(60, 64, 67, 0.15);\n",
              "      fill: #174EA6;\n",
              "    }\n",
              "\n",
              "    [theme=dark] .colab-df-convert {\n",
              "      background-color: #3B4455;\n",
              "      fill: #D2E3FC;\n",
              "    }\n",
              "\n",
              "    [theme=dark] .colab-df-convert:hover {\n",
              "      background-color: #434B5C;\n",
              "      box-shadow: 0px 1px 3px 1px rgba(0, 0, 0, 0.15);\n",
              "      filter: drop-shadow(0px 1px 2px rgba(0, 0, 0, 0.3));\n",
              "      fill: #FFFFFF;\n",
              "    }\n",
              "  </style>\n",
              "\n",
              "      <script>\n",
              "        const buttonEl =\n",
              "          document.querySelector('#df-b8cdcfa6-60e2-4f4d-997d-c146b5302854 button.colab-df-convert');\n",
              "        buttonEl.style.display =\n",
              "          google.colab.kernel.accessAllowed ? 'block' : 'none';\n",
              "\n",
              "        async function convertToInteractive(key) {\n",
              "          const element = document.querySelector('#df-b8cdcfa6-60e2-4f4d-997d-c146b5302854');\n",
              "          const dataTable =\n",
              "            await google.colab.kernel.invokeFunction('convertToInteractive',\n",
              "                                                     [key], {});\n",
              "          if (!dataTable) return;\n",
              "\n",
              "          const docLinkHtml = 'Like what you see? Visit the ' +\n",
              "            '<a target=\"_blank\" href=https://colab.research.google.com/notebooks/data_table.ipynb>data table notebook</a>'\n",
              "            + ' to learn more about interactive tables.';\n",
              "          element.innerHTML = '';\n",
              "          dataTable['output_type'] = 'display_data';\n",
              "          await google.colab.output.renderOutput(dataTable, element);\n",
              "          const docLink = document.createElement('div');\n",
              "          docLink.innerHTML = docLinkHtml;\n",
              "          element.appendChild(docLink);\n",
              "        }\n",
              "      </script>\n",
              "    </div>\n",
              "  </div>\n",
              "  "
            ]
          },
          "metadata": {},
          "execution_count": 34
        }
      ]
    },
    {
      "cell_type": "markdown",
      "source": [
        "![green-divider](https://user-images.githubusercontent.com/7065401/52071924-c003ad80-2562-11e9-8297-1c6595f8a7ff.png)"
      ],
      "metadata": {
        "id": "99Jx_jjr0mZk"
      }
    },
    {
      "cell_type": "markdown",
      "source": [
        "### Features Standarization\n",
        "\n",
        "- **Normalization** is going to be used on *sq* features because they are in different scales and there distributions are skewed. This technique will map the values to a new range of 0 to 1.\n",
        "\n",
        "\n",
        "$$ Normalization = \\frac{x - x_{min}}{x_{max} - x_{min}} $$"
      ],
      "metadata": {
        "id": "JLmDPUHC0Zx2"
      }
    },
    {
      "cell_type": "code",
      "source": [
        "# features df\n",
        "features_df = df_houses_raw[['sq']]"
      ],
      "metadata": {
        "id": "9y2nmJlS6Q-G"
      },
      "execution_count": 35,
      "outputs": []
    },
    {
      "cell_type": "code",
      "source": [
        "# import MinMaxScaler\n",
        "from sklearn.preprocessing import MinMaxScaler\n",
        "\n",
        "# initialize scaler\n",
        "scaler = MinMaxScaler()\n",
        "# normalize data\n",
        "features = scaler.fit_transform(features_df) "
      ],
      "metadata": {
        "id": "lGCjkGNn23bK"
      },
      "execution_count": 36,
      "outputs": []
    },
    {
      "cell_type": "code",
      "source": [
        "# check normalization on first record\n",
        "features[0]"
      ],
      "metadata": {
        "colab": {
          "base_uri": "https://localhost:8080/"
        },
        "id": "dZdEohKo5UVa",
        "outputId": "805763ff-1815-46e3-eeaa-a1e7b2c6944b"
      },
      "execution_count": 37,
      "outputs": [
        {
          "output_type": "execute_result",
          "data": {
            "text/plain": [
              "array([0.39235139])"
            ]
          },
          "metadata": {},
          "execution_count": 37
        }
      ]
    },
    {
      "cell_type": "code",
      "source": [
        "# create df to continue further analysis of normalized features\n",
        "df_features = pd.DataFrame(features, columns=['sq'])\n",
        "\n",
        "\n",
        "# add is_warsaw column\n",
        "df_features['is_warsaw'] = df_houses_raw['is_warsaw']\n",
        "# add floor column\n",
        "df_features['floor'] = df_houses_raw['floor']\n",
        "# add rooms \n",
        "df_features['rooms'] = df_houses_raw['rooms']\n",
        "# add is_greater_1970\n",
        "df_features['is_greater_1970'] = df_houses_raw['is_greater_1970']\n",
        "# add price column\n",
        "df_features['price_euro'] = df_houses_raw['price_euro'] / 100000\n",
        "\n",
        "\n",
        "df_features.head()"
      ],
      "metadata": {
        "colab": {
          "base_uri": "https://localhost:8080/",
          "height": 206
        },
        "id": "EnmmIW8j4nLv",
        "outputId": "bed43869-10e7-4dbd-f494-0cff7cf6552d"
      },
      "execution_count": 38,
      "outputs": [
        {
          "output_type": "execute_result",
          "data": {
            "text/plain": [
              "         sq  is_warsaw  floor  rooms  is_greater_1970  price_euro\n",
              "0  0.392351          0      2      3                1     1.57290\n",
              "1  0.095928          0      2      2                1     0.89670\n",
              "2  0.076326          0      2      1                1     0.87066\n",
              "3  0.307145          1      3      4                1     1.29150\n",
              "4  0.335947          1      2      3                1     1.09200"
            ],
            "text/html": [
              "\n",
              "  <div id=\"df-40ba6c56-281c-49f8-a4a7-d08617b09202\">\n",
              "    <div class=\"colab-df-container\">\n",
              "      <div>\n",
              "<style scoped>\n",
              "    .dataframe tbody tr th:only-of-type {\n",
              "        vertical-align: middle;\n",
              "    }\n",
              "\n",
              "    .dataframe tbody tr th {\n",
              "        vertical-align: top;\n",
              "    }\n",
              "\n",
              "    .dataframe thead th {\n",
              "        text-align: right;\n",
              "    }\n",
              "</style>\n",
              "<table border=\"1\" class=\"dataframe\">\n",
              "  <thead>\n",
              "    <tr style=\"text-align: right;\">\n",
              "      <th></th>\n",
              "      <th>sq</th>\n",
              "      <th>is_warsaw</th>\n",
              "      <th>floor</th>\n",
              "      <th>rooms</th>\n",
              "      <th>is_greater_1970</th>\n",
              "      <th>price_euro</th>\n",
              "    </tr>\n",
              "  </thead>\n",
              "  <tbody>\n",
              "    <tr>\n",
              "      <th>0</th>\n",
              "      <td>0.392351</td>\n",
              "      <td>0</td>\n",
              "      <td>2</td>\n",
              "      <td>3</td>\n",
              "      <td>1</td>\n",
              "      <td>1.57290</td>\n",
              "    </tr>\n",
              "    <tr>\n",
              "      <th>1</th>\n",
              "      <td>0.095928</td>\n",
              "      <td>0</td>\n",
              "      <td>2</td>\n",
              "      <td>2</td>\n",
              "      <td>1</td>\n",
              "      <td>0.89670</td>\n",
              "    </tr>\n",
              "    <tr>\n",
              "      <th>2</th>\n",
              "      <td>0.076326</td>\n",
              "      <td>0</td>\n",
              "      <td>2</td>\n",
              "      <td>1</td>\n",
              "      <td>1</td>\n",
              "      <td>0.87066</td>\n",
              "    </tr>\n",
              "    <tr>\n",
              "      <th>3</th>\n",
              "      <td>0.307145</td>\n",
              "      <td>1</td>\n",
              "      <td>3</td>\n",
              "      <td>4</td>\n",
              "      <td>1</td>\n",
              "      <td>1.29150</td>\n",
              "    </tr>\n",
              "    <tr>\n",
              "      <th>4</th>\n",
              "      <td>0.335947</td>\n",
              "      <td>1</td>\n",
              "      <td>2</td>\n",
              "      <td>3</td>\n",
              "      <td>1</td>\n",
              "      <td>1.09200</td>\n",
              "    </tr>\n",
              "  </tbody>\n",
              "</table>\n",
              "</div>\n",
              "      <button class=\"colab-df-convert\" onclick=\"convertToInteractive('df-40ba6c56-281c-49f8-a4a7-d08617b09202')\"\n",
              "              title=\"Convert this dataframe to an interactive table.\"\n",
              "              style=\"display:none;\">\n",
              "        \n",
              "  <svg xmlns=\"http://www.w3.org/2000/svg\" height=\"24px\"viewBox=\"0 0 24 24\"\n",
              "       width=\"24px\">\n",
              "    <path d=\"M0 0h24v24H0V0z\" fill=\"none\"/>\n",
              "    <path d=\"M18.56 5.44l.94 2.06.94-2.06 2.06-.94-2.06-.94-.94-2.06-.94 2.06-2.06.94zm-11 1L8.5 8.5l.94-2.06 2.06-.94-2.06-.94L8.5 2.5l-.94 2.06-2.06.94zm10 10l.94 2.06.94-2.06 2.06-.94-2.06-.94-.94-2.06-.94 2.06-2.06.94z\"/><path d=\"M17.41 7.96l-1.37-1.37c-.4-.4-.92-.59-1.43-.59-.52 0-1.04.2-1.43.59L10.3 9.45l-7.72 7.72c-.78.78-.78 2.05 0 2.83L4 21.41c.39.39.9.59 1.41.59.51 0 1.02-.2 1.41-.59l7.78-7.78 2.81-2.81c.8-.78.8-2.07 0-2.86zM5.41 20L4 18.59l7.72-7.72 1.47 1.35L5.41 20z\"/>\n",
              "  </svg>\n",
              "      </button>\n",
              "      \n",
              "  <style>\n",
              "    .colab-df-container {\n",
              "      display:flex;\n",
              "      flex-wrap:wrap;\n",
              "      gap: 12px;\n",
              "    }\n",
              "\n",
              "    .colab-df-convert {\n",
              "      background-color: #E8F0FE;\n",
              "      border: none;\n",
              "      border-radius: 50%;\n",
              "      cursor: pointer;\n",
              "      display: none;\n",
              "      fill: #1967D2;\n",
              "      height: 32px;\n",
              "      padding: 0 0 0 0;\n",
              "      width: 32px;\n",
              "    }\n",
              "\n",
              "    .colab-df-convert:hover {\n",
              "      background-color: #E2EBFA;\n",
              "      box-shadow: 0px 1px 2px rgba(60, 64, 67, 0.3), 0px 1px 3px 1px rgba(60, 64, 67, 0.15);\n",
              "      fill: #174EA6;\n",
              "    }\n",
              "\n",
              "    [theme=dark] .colab-df-convert {\n",
              "      background-color: #3B4455;\n",
              "      fill: #D2E3FC;\n",
              "    }\n",
              "\n",
              "    [theme=dark] .colab-df-convert:hover {\n",
              "      background-color: #434B5C;\n",
              "      box-shadow: 0px 1px 3px 1px rgba(0, 0, 0, 0.15);\n",
              "      filter: drop-shadow(0px 1px 2px rgba(0, 0, 0, 0.3));\n",
              "      fill: #FFFFFF;\n",
              "    }\n",
              "  </style>\n",
              "\n",
              "      <script>\n",
              "        const buttonEl =\n",
              "          document.querySelector('#df-40ba6c56-281c-49f8-a4a7-d08617b09202 button.colab-df-convert');\n",
              "        buttonEl.style.display =\n",
              "          google.colab.kernel.accessAllowed ? 'block' : 'none';\n",
              "\n",
              "        async function convertToInteractive(key) {\n",
              "          const element = document.querySelector('#df-40ba6c56-281c-49f8-a4a7-d08617b09202');\n",
              "          const dataTable =\n",
              "            await google.colab.kernel.invokeFunction('convertToInteractive',\n",
              "                                                     [key], {});\n",
              "          if (!dataTable) return;\n",
              "\n",
              "          const docLinkHtml = 'Like what you see? Visit the ' +\n",
              "            '<a target=\"_blank\" href=https://colab.research.google.com/notebooks/data_table.ipynb>data table notebook</a>'\n",
              "            + ' to learn more about interactive tables.';\n",
              "          element.innerHTML = '';\n",
              "          dataTable['output_type'] = 'display_data';\n",
              "          await google.colab.output.renderOutput(dataTable, element);\n",
              "          const docLink = document.createElement('div');\n",
              "          docLink.innerHTML = docLinkHtml;\n",
              "          element.appendChild(docLink);\n",
              "        }\n",
              "      </script>\n",
              "    </div>\n",
              "  </div>\n",
              "  "
            ]
          },
          "metadata": {},
          "execution_count": 38
        }
      ]
    },
    {
      "cell_type": "code",
      "source": [
        "df_features.describe()"
      ],
      "metadata": {
        "colab": {
          "base_uri": "https://localhost:8080/",
          "height": 300
        },
        "id": "4q0eRPLDA2uj",
        "outputId": "7894b981-9e66-48cf-dfc4-74d82aa2d43d"
      },
      "execution_count": 39,
      "outputs": [
        {
          "output_type": "execute_result",
          "data": {
            "text/plain": [
              "                sq    is_warsaw        floor        rooms  is_greater_1970  \\\n",
              "count  9830.000000  9830.000000  9830.000000  9830.000000      9830.000000   \n",
              "mean      0.255632     0.369278     2.872940     2.541709         0.837030   \n",
              "std       0.162886     0.482634     0.796159     0.831176         0.369358   \n",
              "min       0.000000     0.000000     2.000000     1.000000         0.000000   \n",
              "25%       0.137371     0.000000     2.000000     2.000000         1.000000   \n",
              "50%       0.225698     0.000000     3.000000     3.000000         1.000000   \n",
              "75%       0.337827     1.000000     4.000000     3.000000         1.000000   \n",
              "max       1.000000     1.000000     4.000000     4.000000         1.000000   \n",
              "\n",
              "        price_euro  \n",
              "count  9830.000000  \n",
              "mean      1.257120  \n",
              "std       0.701916  \n",
              "min       0.144900  \n",
              "25%       0.865135  \n",
              "50%       1.081500  \n",
              "75%       1.417500  \n",
              "max      18.916800  "
            ],
            "text/html": [
              "\n",
              "  <div id=\"df-023f28bc-99be-4a62-8eec-10b45dc91e43\">\n",
              "    <div class=\"colab-df-container\">\n",
              "      <div>\n",
              "<style scoped>\n",
              "    .dataframe tbody tr th:only-of-type {\n",
              "        vertical-align: middle;\n",
              "    }\n",
              "\n",
              "    .dataframe tbody tr th {\n",
              "        vertical-align: top;\n",
              "    }\n",
              "\n",
              "    .dataframe thead th {\n",
              "        text-align: right;\n",
              "    }\n",
              "</style>\n",
              "<table border=\"1\" class=\"dataframe\">\n",
              "  <thead>\n",
              "    <tr style=\"text-align: right;\">\n",
              "      <th></th>\n",
              "      <th>sq</th>\n",
              "      <th>is_warsaw</th>\n",
              "      <th>floor</th>\n",
              "      <th>rooms</th>\n",
              "      <th>is_greater_1970</th>\n",
              "      <th>price_euro</th>\n",
              "    </tr>\n",
              "  </thead>\n",
              "  <tbody>\n",
              "    <tr>\n",
              "      <th>count</th>\n",
              "      <td>9830.000000</td>\n",
              "      <td>9830.000000</td>\n",
              "      <td>9830.000000</td>\n",
              "      <td>9830.000000</td>\n",
              "      <td>9830.000000</td>\n",
              "      <td>9830.000000</td>\n",
              "    </tr>\n",
              "    <tr>\n",
              "      <th>mean</th>\n",
              "      <td>0.255632</td>\n",
              "      <td>0.369278</td>\n",
              "      <td>2.872940</td>\n",
              "      <td>2.541709</td>\n",
              "      <td>0.837030</td>\n",
              "      <td>1.257120</td>\n",
              "    </tr>\n",
              "    <tr>\n",
              "      <th>std</th>\n",
              "      <td>0.162886</td>\n",
              "      <td>0.482634</td>\n",
              "      <td>0.796159</td>\n",
              "      <td>0.831176</td>\n",
              "      <td>0.369358</td>\n",
              "      <td>0.701916</td>\n",
              "    </tr>\n",
              "    <tr>\n",
              "      <th>min</th>\n",
              "      <td>0.000000</td>\n",
              "      <td>0.000000</td>\n",
              "      <td>2.000000</td>\n",
              "      <td>1.000000</td>\n",
              "      <td>0.000000</td>\n",
              "      <td>0.144900</td>\n",
              "    </tr>\n",
              "    <tr>\n",
              "      <th>25%</th>\n",
              "      <td>0.137371</td>\n",
              "      <td>0.000000</td>\n",
              "      <td>2.000000</td>\n",
              "      <td>2.000000</td>\n",
              "      <td>1.000000</td>\n",
              "      <td>0.865135</td>\n",
              "    </tr>\n",
              "    <tr>\n",
              "      <th>50%</th>\n",
              "      <td>0.225698</td>\n",
              "      <td>0.000000</td>\n",
              "      <td>3.000000</td>\n",
              "      <td>3.000000</td>\n",
              "      <td>1.000000</td>\n",
              "      <td>1.081500</td>\n",
              "    </tr>\n",
              "    <tr>\n",
              "      <th>75%</th>\n",
              "      <td>0.337827</td>\n",
              "      <td>1.000000</td>\n",
              "      <td>4.000000</td>\n",
              "      <td>3.000000</td>\n",
              "      <td>1.000000</td>\n",
              "      <td>1.417500</td>\n",
              "    </tr>\n",
              "    <tr>\n",
              "      <th>max</th>\n",
              "      <td>1.000000</td>\n",
              "      <td>1.000000</td>\n",
              "      <td>4.000000</td>\n",
              "      <td>4.000000</td>\n",
              "      <td>1.000000</td>\n",
              "      <td>18.916800</td>\n",
              "    </tr>\n",
              "  </tbody>\n",
              "</table>\n",
              "</div>\n",
              "      <button class=\"colab-df-convert\" onclick=\"convertToInteractive('df-023f28bc-99be-4a62-8eec-10b45dc91e43')\"\n",
              "              title=\"Convert this dataframe to an interactive table.\"\n",
              "              style=\"display:none;\">\n",
              "        \n",
              "  <svg xmlns=\"http://www.w3.org/2000/svg\" height=\"24px\"viewBox=\"0 0 24 24\"\n",
              "       width=\"24px\">\n",
              "    <path d=\"M0 0h24v24H0V0z\" fill=\"none\"/>\n",
              "    <path d=\"M18.56 5.44l.94 2.06.94-2.06 2.06-.94-2.06-.94-.94-2.06-.94 2.06-2.06.94zm-11 1L8.5 8.5l.94-2.06 2.06-.94-2.06-.94L8.5 2.5l-.94 2.06-2.06.94zm10 10l.94 2.06.94-2.06 2.06-.94-2.06-.94-.94-2.06-.94 2.06-2.06.94z\"/><path d=\"M17.41 7.96l-1.37-1.37c-.4-.4-.92-.59-1.43-.59-.52 0-1.04.2-1.43.59L10.3 9.45l-7.72 7.72c-.78.78-.78 2.05 0 2.83L4 21.41c.39.39.9.59 1.41.59.51 0 1.02-.2 1.41-.59l7.78-7.78 2.81-2.81c.8-.78.8-2.07 0-2.86zM5.41 20L4 18.59l7.72-7.72 1.47 1.35L5.41 20z\"/>\n",
              "  </svg>\n",
              "      </button>\n",
              "      \n",
              "  <style>\n",
              "    .colab-df-container {\n",
              "      display:flex;\n",
              "      flex-wrap:wrap;\n",
              "      gap: 12px;\n",
              "    }\n",
              "\n",
              "    .colab-df-convert {\n",
              "      background-color: #E8F0FE;\n",
              "      border: none;\n",
              "      border-radius: 50%;\n",
              "      cursor: pointer;\n",
              "      display: none;\n",
              "      fill: #1967D2;\n",
              "      height: 32px;\n",
              "      padding: 0 0 0 0;\n",
              "      width: 32px;\n",
              "    }\n",
              "\n",
              "    .colab-df-convert:hover {\n",
              "      background-color: #E2EBFA;\n",
              "      box-shadow: 0px 1px 2px rgba(60, 64, 67, 0.3), 0px 1px 3px 1px rgba(60, 64, 67, 0.15);\n",
              "      fill: #174EA6;\n",
              "    }\n",
              "\n",
              "    [theme=dark] .colab-df-convert {\n",
              "      background-color: #3B4455;\n",
              "      fill: #D2E3FC;\n",
              "    }\n",
              "\n",
              "    [theme=dark] .colab-df-convert:hover {\n",
              "      background-color: #434B5C;\n",
              "      box-shadow: 0px 1px 3px 1px rgba(0, 0, 0, 0.15);\n",
              "      filter: drop-shadow(0px 1px 2px rgba(0, 0, 0, 0.3));\n",
              "      fill: #FFFFFF;\n",
              "    }\n",
              "  </style>\n",
              "\n",
              "      <script>\n",
              "        const buttonEl =\n",
              "          document.querySelector('#df-023f28bc-99be-4a62-8eec-10b45dc91e43 button.colab-df-convert');\n",
              "        buttonEl.style.display =\n",
              "          google.colab.kernel.accessAllowed ? 'block' : 'none';\n",
              "\n",
              "        async function convertToInteractive(key) {\n",
              "          const element = document.querySelector('#df-023f28bc-99be-4a62-8eec-10b45dc91e43');\n",
              "          const dataTable =\n",
              "            await google.colab.kernel.invokeFunction('convertToInteractive',\n",
              "                                                     [key], {});\n",
              "          if (!dataTable) return;\n",
              "\n",
              "          const docLinkHtml = 'Like what you see? Visit the ' +\n",
              "            '<a target=\"_blank\" href=https://colab.research.google.com/notebooks/data_table.ipynb>data table notebook</a>'\n",
              "            + ' to learn more about interactive tables.';\n",
              "          element.innerHTML = '';\n",
              "          dataTable['output_type'] = 'display_data';\n",
              "          await google.colab.output.renderOutput(dataTable, element);\n",
              "          const docLink = document.createElement('div');\n",
              "          docLink.innerHTML = docLinkHtml;\n",
              "          element.appendChild(docLink);\n",
              "        }\n",
              "      </script>\n",
              "    </div>\n",
              "  </div>\n",
              "  "
            ]
          },
          "metadata": {},
          "execution_count": 39
        }
      ]
    },
    {
      "cell_type": "markdown",
      "source": [
        "![purple-divider](https://user-images.githubusercontent.com/7065401/52071927-c1cd7100-2562-11e9-908a-dde91ba14e59.png)"
      ],
      "metadata": {
        "id": "nPVRsaV65kmS"
      }
    },
    {
      "cell_type": "markdown",
      "source": [
        "## Correlation Between Features"
      ],
      "metadata": {
        "id": "6Du6Q5uf5omC"
      }
    },
    {
      "cell_type": "markdown",
      "source": [
        "### Correlation Heatmap"
      ],
      "metadata": {
        "id": "ICV_T1Wv8N54"
      }
    },
    {
      "cell_type": "code",
      "source": [
        "# heatmap of features correlation\n",
        "f, ax = plt.subplots(figsize=(14, 10))\n",
        "\n",
        "\n",
        "sns.heatmap(df_features.corr(), vmin=-1, vmax=1, annot=True, cmap='YlGnBu_r')\n",
        "\n",
        "plt.title('Features Correlation Heatmap', pad=12)\n",
        "plt.show()"
      ],
      "metadata": {
        "colab": {
          "base_uri": "https://localhost:8080/",
          "height": 614
        },
        "id": "CUABLAYZ5tAS",
        "outputId": "b28a1324-bec4-46ef-d0fc-0c8f9498a4bb"
      },
      "execution_count": 40,
      "outputs": [
        {
          "output_type": "display_data",
          "data": {
            "text/plain": [
              "<Figure size 1008x720 with 2 Axes>"
            ],
            "image/png": "[encoded data removed]"
          },
          "metadata": {
            "needs_background": "light"
          }
        }
      ]
    },
    {
      "cell_type": "markdown",
      "source": [
        "- As can be seen in the **Heatmap** above there is little or none *Multicolinearity* between the features. None of them is lower than $-0.5$ and 2 are greater than $0.5$. This means, that the features selected are linearly independent among them and are suitable for a *Linear Regression Model*"
      ],
      "metadata": {
        "id": "7XTXA9De7KTz"
      }
    },
    {
      "cell_type": "markdown",
      "source": [
        "![purple-divider](https://user-images.githubusercontent.com/7065401/52071927-c1cd7100-2562-11e9-908a-dde91ba14e59.png)"
      ],
      "metadata": {
        "id": "25NyVFb6_zLc"
      }
    },
    {
      "cell_type": "markdown",
      "source": [
        "## Linear Regression Model\n",
        "\n",
        "$$ y = \\beta_0 + \\beta_1 x_1 + \\beta_2 x_2 + \\beta_3 x3 + \\beta_4 x4 + \\beta_5 x_5 $$"
      ],
      "metadata": {
        "id": "99s5Pt4QpB8H"
      }
    },
    {
      "cell_type": "markdown",
      "source": [
        "### Train Test Split"
      ],
      "metadata": {
        "id": "-vUziTH5nMci"
      }
    },
    {
      "cell_type": "code",
      "source": [
        "# xs\n",
        "# xs = df_features[['is_warsaw', 'floor', 'rooms', 'sq', 'is_greater_1970']]\n",
        "xs = df_features[['is_warsaw', 'floor', 'rooms', 'sq', 'is_greater_1970']]\n",
        "xs = np.array(xs)\n",
        "\n",
        "# turn to tensor\n",
        "xs = torch.tensor(xs)\n",
        "\n",
        "xs"
      ],
      "metadata": {
        "colab": {
          "base_uri": "https://localhost:8080/"
        },
        "id": "YhFk6jOZpHYc",
        "outputId": "ba4e21b9-0d0d-4c05-d6de-2076491cb78c"
      },
      "execution_count": 41,
      "outputs": [
        {
          "output_type": "execute_result",
          "data": {
            "text/plain": [
              "tensor([[0.0000, 2.0000, 3.0000, 0.3924, 1.0000],\n",
              "        [0.0000, 2.0000, 2.0000, 0.0959, 1.0000],\n",
              "        [0.0000, 2.0000, 1.0000, 0.0763, 1.0000],\n",
              "        ...,\n",
              "        [0.0000, 3.0000, 2.0000, 0.0818, 1.0000],\n",
              "        [1.0000, 4.0000, 3.0000, 0.3679, 1.0000],\n",
              "        [1.0000, 2.0000, 3.0000, 0.3039, 1.0000]], dtype=torch.float64)"
            ]
          },
          "metadata": {},
          "execution_count": 41
        }
      ]
    },
    {
      "cell_type": "code",
      "source": [
        "# y\n",
        "y = df_features['price_euro']\n",
        "y = np.array(y)\n",
        "\n",
        "# turn to tensor\n",
        "y = torch.tensor(y)\n",
        "\n",
        "y"
      ],
      "metadata": {
        "colab": {
          "base_uri": "https://localhost:8080/"
        },
        "id": "KQbcFw6Cqm2j",
        "outputId": "ab384e75-21ce-49f4-c97e-f2809accba9a"
      },
      "execution_count": 42,
      "outputs": [
        {
          "output_type": "execute_result",
          "data": {
            "text/plain": [
              "tensor([1.5729, 0.8967, 0.8707,  ..., 0.6174, 1.9110, 1.2701],\n",
              "       dtype=torch.float64)"
            ]
          },
          "metadata": {},
          "execution_count": 42
        }
      ]
    },
    {
      "cell_type": "code",
      "source": [
        "# import train_test_split\n",
        "from sklearn.model_selection import train_test_split\n",
        "\n",
        "# split data into training and test\n",
        "xs_train, xs_test, y_train, y_test = train_test_split(xs, y, test_size=0.2, random_state=100)\n",
        "\n",
        "# check xs and y train \n",
        "print(f'xs_train length: {len(xs_train)}')\n",
        "print(f'y_train length: {len(y_train)}', '\\n')\n",
        "\n",
        "# check xs and y test\n",
        "print(f'xs_test length: {len(xs_test)}')\n",
        "print(f'y_test length: {len(y_test)}')"
      ],
      "metadata": {
        "colab": {
          "base_uri": "https://localhost:8080/"
        },
        "id": "Nu7smn7LbQt0",
        "outputId": "5bf48ad0-2a09-46ad-e58e-9d8c50f6eee1"
      },
      "execution_count": 43,
      "outputs": [
        {
          "output_type": "stream",
          "name": "stdout",
          "text": [
            "xs_train length: 7864\n",
            "y_train length: 7864 \n",
            "\n",
            "xs_test length: 1966\n",
            "y_test length: 1966\n"
          ]
        }
      ]
    },
    {
      "cell_type": "code",
      "source": [
        "# check y_train\n",
        "y_train"
      ],
      "metadata": {
        "colab": {
          "base_uri": "https://localhost:8080/"
        },
        "id": "-cZXLDHDd_ki",
        "outputId": "84cb1314-9c95-46c5-8908-5d05e07624d0"
      },
      "execution_count": 44,
      "outputs": [
        {
          "output_type": "execute_result",
          "data": {
            "text/plain": [
              "tensor([1.4511, 1.3966, 1.1550,  ..., 0.6712, 1.5750, 0.7119],\n",
              "       dtype=torch.float64)"
            ]
          },
          "metadata": {},
          "execution_count": 44
        }
      ]
    },
    {
      "cell_type": "markdown",
      "source": [
        "![green-divider](https://user-images.githubusercontent.com/7065401/52071924-c003ad80-2562-11e9-8297-1c6595f8a7ff.png)"
      ],
      "metadata": {
        "id": "movpwGrZnMl8"
      }
    },
    {
      "cell_type": "markdown",
      "source": [
        "#### Linear Regression Test"
      ],
      "metadata": {
        "id": "IqurJKTKnNL7"
      }
    },
    {
      "cell_type": "code",
      "source": [
        "# test linear regression \n",
        "from sklearn.linear_model import LinearRegression\n",
        "\n",
        "# initialize model\n",
        "model = LinearRegression()\n",
        "\n",
        "# train model\n",
        "model.fit(xs_train, y_train)"
      ],
      "metadata": {
        "colab": {
          "base_uri": "https://localhost:8080/"
        },
        "id": "IusZyWGA5wzt",
        "outputId": "3ade8cc7-d709-4192-b2b2-2487445646f5"
      },
      "execution_count": 45,
      "outputs": [
        {
          "output_type": "execute_result",
          "data": {
            "text/plain": [
              "LinearRegression()"
            ]
          },
          "metadata": {},
          "execution_count": 45
        }
      ]
    },
    {
      "cell_type": "code",
      "source": [
        "# estimated parameters\n",
        "model.coef_"
      ],
      "metadata": {
        "colab": {
          "base_uri": "https://localhost:8080/"
        },
        "id": "wLdIhPdG6Fvl",
        "outputId": "7ba277aa-d5f3-4a6f-83de-5f2afbb6f817"
      },
      "execution_count": 46,
      "outputs": [
        {
          "output_type": "execute_result",
          "data": {
            "text/plain": [
              "array([ 0.27608756,  0.0089842 , -0.15050294,  3.44381613, -0.05871091])"
            ]
          },
          "metadata": {},
          "execution_count": 46
        }
      ]
    },
    {
      "cell_type": "code",
      "source": [
        "# check aacuracy of model\n",
        "model.score(xs_test, y_test)"
      ],
      "metadata": {
        "colab": {
          "base_uri": "https://localhost:8080/"
        },
        "id": "QtbyorpE6ZXT",
        "outputId": "046f7cb1-e9aa-4600-ac88-c5d8255aca11"
      },
      "execution_count": 47,
      "outputs": [
        {
          "output_type": "execute_result",
          "data": {
            "text/plain": [
              "0.5753366164105373"
            ]
          },
          "metadata": {},
          "execution_count": 47
        }
      ]
    },
    {
      "cell_type": "markdown",
      "source": [
        "![green-divider](https://user-images.githubusercontent.com/7065401/52071924-c003ad80-2562-11e9-8297-1c6595f8a7ff.png)"
      ],
      "metadata": {
        "id": "Gi3B28yMgTEf"
      }
    },
    {
      "cell_type": "markdown",
      "source": [
        "### Step 1: Forward Pass"
      ],
      "metadata": {
        "id": "sLlXX9c1pQJG"
      }
    },
    {
      "cell_type": "code",
      "source": [
        "# regression function to calculate y_hats >> coefficient * column vector of x\n",
        "def regression(x, b_0, b_1, b_2, b_3, b_4, b_5):\n",
        "    return b_0 + b_1*x[:, 0] + b_2*x[:, 1] + b_3*x[:, 2] + b_4*x[:, 3] + b_5*x[:, 4]\n",
        "\n"
      ],
      "metadata": {
        "id": "jbXanFq-qtCq"
      },
      "execution_count": 48,
      "outputs": []
    },
    {
      "cell_type": "code",
      "source": [
        "# initialize parameters with tracking gradient\n",
        "b_0 = torch.tensor([1.]).requires_grad_()\n",
        "b_1 = torch.tensor([0.4]).requires_grad_()\n",
        "b_2 = torch.tensor([0.5]).requires_grad_()\n",
        "b_3 = torch.tensor([2.]).requires_grad_()\n",
        "b_4 = torch.tensor([0.2]).requires_grad_()\n",
        "b_5 = torch.tensor([0.9]).requires_grad_()"
      ],
      "metadata": {
        "id": "bBIilPZ7sWdy"
      },
      "execution_count": 49,
      "outputs": []
    },
    {
      "cell_type": "code",
      "source": [
        "# y_hats\n",
        "y_hats = regression(xs_train, b_0, b_1, b_2, b_3, b_4, b_5)\n",
        "\n",
        "\n",
        "print(y_hats.shape, '\\n')  \n",
        "y_hats"
      ],
      "metadata": {
        "colab": {
          "base_uri": "https://localhost:8080/"
        },
        "id": "Gahr5oy6tUzK",
        "outputId": "fb70012e-8041-41c8-81ae-2d1ccb496f1d"
      },
      "execution_count": 50,
      "outputs": [
        {
          "output_type": "stream",
          "name": "stdout",
          "text": [
            "torch.Size([7864]) \n",
            "\n"
          ]
        },
        {
          "output_type": "execute_result",
          "data": {
            "text/plain": [
              "tensor([10.3606, 11.5165,  6.9184,  ...,  4.9216, 10.3768,  7.9206],\n",
              "       dtype=torch.float64, grad_fn=<AddBackward0>)"
            ]
          },
          "metadata": {},
          "execution_count": 50
        }
      ]
    },
    {
      "cell_type": "code",
      "source": [
        "# function to plot y vs y_hats\n",
        "def plot_ys(y, y_hat):\n",
        "\n",
        "  # turn tensors into arrays\n",
        "  y = y.detach().numpy()\n",
        "  y_hat = y_hat.detach().numpy()\n",
        "\n",
        "  # plot scatterplot\n",
        "  f, ax = plt.subplots(figsize=(12, 6))\n",
        "\n",
        "  sns.scatterplot(x=y, y=y_hat, color='crimson', alpha=0.4)\n",
        "  plt.xlabel('Actual Price: $Y_i$')\n",
        "  plt.ylabel('Predicted Price: $\\hat{Y}_i$')\n",
        "\n",
        "  plt.title('Actual House Price Vs Predicted House Price', pad=12)\n",
        "\n",
        "  plt.show()"
      ],
      "metadata": {
        "id": "m5vRdWnVcr-h"
      },
      "execution_count": 51,
      "outputs": []
    },
    {
      "cell_type": "code",
      "source": [
        "# plot ys Vs y_hat\n",
        "plot_ys(y_train, y_hats)"
      ],
      "metadata": {
        "colab": {
          "base_uri": "https://localhost:8080/",
          "height": 414
        },
        "id": "HXTD8tmMdMhg",
        "outputId": "798cc1fd-ce4d-4683-d2d0-b2b946af2a30"
      },
      "execution_count": 52,
      "outputs": [
        {
          "output_type": "display_data",
          "data": {
            "text/plain": [
              "<Figure size 864x432 with 1 Axes>"
            ],
            "image/png": "[encoded data removed]"
          },
          "metadata": {
            "needs_background": "light"
          }
        }
      ]
    },
    {
      "cell_type": "markdown",
      "source": [
        "![green-divider](https://user-images.githubusercontent.com/7065401/52071924-c003ad80-2562-11e9-8297-1c6595f8a7ff.png)"
      ],
      "metadata": {
        "id": "iZvACA5ngUZ4"
      }
    },
    {
      "cell_type": "markdown",
      "source": [
        "### Step 2: Calculate Cost $C$\n",
        "\n",
        "- We are going to use **Mean Square Error**, averages the quadratic cost $(\\hat{y} - y)^2$ across multiple data points:\n",
        "\n",
        "$$ C = \\frac{1}{n} \\sum_{i=1}^n  (\\hat{y} - y)^2$$"
      ],
      "metadata": {
        "id": "aaX7PbL_gU_4"
      }
    },
    {
      "cell_type": "code",
      "source": [
        "# function that calculates Cost\n",
        "def mse(y, y_hat):\n",
        "  cost = 0\n",
        "\n",
        "  for i in range(len(y)):\n",
        "    cost += (y_hat[i] - y[i])**2\n",
        "\n",
        "  cost = cost/len(y)\n",
        "\n",
        "  return cost"
      ],
      "metadata": {
        "id": "xxHHsKCAgxk0"
      },
      "execution_count": 53,
      "outputs": []
    },
    {
      "cell_type": "code",
      "source": [
        "# calculate Cost\n",
        "C = mse(y_train, y_hats)\n",
        "\n",
        "print(f'Cost: {C}')\n",
        "C"
      ],
      "metadata": {
        "colab": {
          "base_uri": "https://localhost:8080/"
        },
        "id": "PLsXcKgDhtb3",
        "outputId": "d453c031-7409-4180-b3c6-2a0056d95c57"
      },
      "execution_count": 54,
      "outputs": [
        {
          "output_type": "stream",
          "name": "stdout",
          "text": [
            "Cost: 54.74904944230098\n"
          ]
        },
        {
          "output_type": "execute_result",
          "data": {
            "text/plain": [
              "tensor(54.7490, dtype=torch.float64, grad_fn=<DivBackward0>)"
            ]
          },
          "metadata": {},
          "execution_count": 54
        }
      ]
    },
    {
      "cell_type": "markdown",
      "source": [
        "![green-divider](https://user-images.githubusercontent.com/7065401/52071924-c003ad80-2562-11e9-8297-1c6595f8a7ff.png)"
      ],
      "metadata": {
        "id": "mg76Va3wi17N"
      }
    },
    {
      "cell_type": "markdown",
      "source": [
        "### Step 3: Calculate $\\nabla C$ with Respect to Paramaters"
      ],
      "metadata": {
        "id": "jDNGyup-i9aY"
      }
    },
    {
      "cell_type": "markdown",
      "source": [
        "#### Autodiff"
      ],
      "metadata": {
        "id": "1iRnQYRqjdDm"
      }
    },
    {
      "cell_type": "code",
      "source": [
        "# backward propagate C\n",
        "C.backward()"
      ],
      "metadata": {
        "id": "W8ehLUV_jfHX"
      },
      "execution_count": 55,
      "outputs": []
    },
    {
      "cell_type": "code",
      "source": [
        "# Partial Derivative of dC/dB_0 >> y_intercept\n",
        "print('dC/dB_0')\n",
        "b_0.grad"
      ],
      "metadata": {
        "colab": {
          "base_uri": "https://localhost:8080/"
        },
        "id": "v-Iwnhstn2G0",
        "outputId": "2dd3f8bf-e080-4fb6-f1a1-57311f323f4b"
      },
      "execution_count": 56,
      "outputs": [
        {
          "output_type": "stream",
          "name": "stdout",
          "text": [
            "dC/dB_0\n"
          ]
        },
        {
          "output_type": "execute_result",
          "data": {
            "text/plain": [
              "tensor([14.4343])"
            ]
          },
          "metadata": {},
          "execution_count": 56
        }
      ]
    },
    {
      "cell_type": "code",
      "source": [
        "# Partial Derivative of dC/dB_1 >> is_warsaw\n",
        "print('dC/dB_1')\n",
        "b_1.grad"
      ],
      "metadata": {
        "colab": {
          "base_uri": "https://localhost:8080/"
        },
        "id": "Q9ySMsx-oH61",
        "outputId": "278c8265-ebc9-4e14-e61e-532fe964c976"
      },
      "execution_count": 57,
      "outputs": [
        {
          "output_type": "stream",
          "name": "stdout",
          "text": [
            "dC/dB_1\n"
          ]
        },
        {
          "output_type": "execute_result",
          "data": {
            "text/plain": [
              "tensor([5.3631])"
            ]
          },
          "metadata": {},
          "execution_count": 57
        }
      ]
    },
    {
      "cell_type": "code",
      "source": [
        "# Partial Derivative of dC/dB_2 >> floor\n",
        "print('dC/dB_2')\n",
        "b_2.grad"
      ],
      "metadata": {
        "colab": {
          "base_uri": "https://localhost:8080/"
        },
        "id": "DjeTlfYloR6F",
        "outputId": "5c65692a-8308-4dfb-8ec4-cd4902767c26"
      },
      "execution_count": 58,
      "outputs": [
        {
          "output_type": "stream",
          "name": "stdout",
          "text": [
            "dC/dB_2\n"
          ]
        },
        {
          "output_type": "execute_result",
          "data": {
            "text/plain": [
              "tensor([42.0766])"
            ]
          },
          "metadata": {},
          "execution_count": 58
        }
      ]
    },
    {
      "cell_type": "code",
      "source": [
        "# Partial Derivative of dC/dB_3 >> rooms\n",
        "print('dC/dB_3')\n",
        "b_3.grad"
      ],
      "metadata": {
        "colab": {
          "base_uri": "https://localhost:8080/"
        },
        "id": "4dTTlcIzon4r",
        "outputId": "4f440878-17cf-4e2c-ca9d-11ceacca1f90"
      },
      "execution_count": 59,
      "outputs": [
        {
          "output_type": "stream",
          "name": "stdout",
          "text": [
            "dC/dB_3\n"
          ]
        },
        {
          "output_type": "execute_result",
          "data": {
            "text/plain": [
              "tensor([38.9831])"
            ]
          },
          "metadata": {},
          "execution_count": 59
        }
      ]
    },
    {
      "cell_type": "code",
      "source": [
        "# Partial Derivative of dC/dB_4 >> sq\n",
        "print('dC/dB_4')\n",
        "b_4.grad"
      ],
      "metadata": {
        "colab": {
          "base_uri": "https://localhost:8080/"
        },
        "id": "NSRpKD5Zox59",
        "outputId": "1426b3a0-e6e7-4740-cc0a-bd9f24ce5da5"
      },
      "execution_count": 60,
      "outputs": [
        {
          "output_type": "stream",
          "name": "stdout",
          "text": [
            "dC/dB_4\n"
          ]
        },
        {
          "output_type": "execute_result",
          "data": {
            "text/plain": [
              "tensor([3.9464])"
            ]
          },
          "metadata": {},
          "execution_count": 60
        }
      ]
    },
    {
      "cell_type": "code",
      "source": [
        "# Partial Derivative of dC/dB_5 >> is_greater_1970\n",
        "print('dC/dB_5')\n",
        "b_5.grad"
      ],
      "metadata": {
        "colab": {
          "base_uri": "https://localhost:8080/"
        },
        "id": "zzSsd487pBQe",
        "outputId": "9dfff6fe-e5c9-4685-ec1b-34179ba119bf"
      },
      "execution_count": 61,
      "outputs": [
        {
          "output_type": "stream",
          "name": "stdout",
          "text": [
            "dC/dB_5\n"
          ]
        },
        {
          "output_type": "execute_result",
          "data": {
            "text/plain": [
              "tensor([12.4835])"
            ]
          },
          "metadata": {},
          "execution_count": 61
        }
      ]
    },
    {
      "cell_type": "markdown",
      "source": [
        "![green-divider](https://user-images.githubusercontent.com/7065401/52071924-c003ad80-2562-11e9-8297-1c6595f8a7ff.png)"
      ],
      "metadata": {
        "id": "Z92s9NGlpjkY"
      }
    },
    {
      "cell_type": "markdown",
      "source": [
        "#### Manual Calculation of $\\nabla C$ with Respect to Parameters\n",
        "\n",
        "- Our parameters $b_0,b_1,b_2,b_3,b_4,b_5$ determine $\\hat{y}$"
      ],
      "metadata": {
        "id": "Z9z1yaglpka-"
      }
    },
    {
      "cell_type": "markdown",
      "source": [
        "\n",
        "\n",
        "$$ C = \\frac{1}{n} \\sum_{i=1}^n (\\hat{y} - y)^2 $$\n",
        "<br>\n",
        "$$ u = (\\hat{y} - y) $$\n",
        "$$ C = \\frac{1}{n} \\sum u^2 $$\n",
        "<br>\n",
        "\n",
        "- Partial Derivative of $u$ with respect to $\\hat{y}$:\n",
        "  - $\\frac{du}{d\\hat{y}} = 1 - 0 = 1$\n",
        "\n",
        "<br>\n",
        "\n",
        "- Partial Derivative of $C$ with respect to $u$:\n",
        "  \n",
        "  - $\\frac{dC}{du} = \\frac{1}{n} \\sum u^2 = \\frac{1}{n} \\sum 2u $\n",
        "  <br>\n",
        "\n",
        "  - $\\frac{dC}{du} = \\frac{2}{n} \\sum (\\hat{y} - y) $\n",
        "\n",
        "<br>\n",
        "\n",
        "- Partial Derivative of $C$ with respect to $\\hat{y}$: \n",
        "\n",
        "  - $\\frac{dC}{d\\hat{y}} = \\frac{dC}{du} \\frac{du}{d\\hat{y}} = \\frac{2}{n} \\sum (\\hat{y} - y) * 1$\n",
        "  <br>\n",
        "\n",
        "  - $\\frac{dC}{d\\hat{y}} = \\frac{2}{n} \\sum(\\hat{y} - y) $\n"
      ],
      "metadata": {
        "id": "Za92Tk6Cfp26"
      }
    },
    {
      "cell_type": "markdown",
      "source": [
        "![green-divider](https://user-images.githubusercontent.com/7065401/52071924-c003ad80-2562-11e9-8297-1c6595f8a7ff.png)"
      ],
      "metadata": {
        "id": "MWtPMTdck1cu"
      }
    },
    {
      "cell_type": "markdown",
      "source": [
        "$$ \\hat{y}_i = \\beta_0 + \\beta_1 x_1 + \\beta_2 x_2 + \\beta_3 x3 + \\beta_4 x4 + \\beta_5 x_5 $$\n",
        "<br>\n",
        "\n",
        "- Partial Derivative of $\\hat{y}$ with respect to $b_0$:\n",
        "  - $ \\frac{d\\hat{y}}{db_0} = 1 + 0 + 0 + 0 + 0 + 0 = 1 $\n",
        "\n",
        "<br>\n",
        "\n",
        "- Partial Derivative of $\\hat{y}$ with respect to $b_1$:\n",
        "  - $\\frac{d\\hat{y}}{db_1} = 0 + x_1 + 0 + 0 + 0 + 0 = x_1$\n",
        "\n",
        "<br>\n",
        "\n",
        "- Partial Derivative of $\\hat{y}$ with respect to $b_2$:\n",
        "  - $\\frac{d\\hat{y}}{db_2} = 0 + 0 + x_2 + 0 + 0 + 0 = x_2$\n",
        "\n",
        "<br>\n",
        "\n",
        "- Partial Derivative of $\\hat{y}$ with respect to $b_3$:\n",
        "  - $\\frac{d\\hat{y}}{db_3} = 0 + 0 + 0 + x_3 + 0 + 0 = x_3$\n",
        "\n",
        "<br>\n",
        "\n",
        "- Partial Derivative of $\\hat{y}$ with respect to $b_4$:\n",
        "  - $\\frac{d\\hat{y}}{db_4} = 0 + 0 + 0 + 0 + x_4 + 0 = x_4$\n",
        "\n",
        "<br>\n",
        "\n",
        "- Partial Derivative of $\\hat{y}$ with respect to $b_5$:\n",
        "  - $\\frac{d\\hat{y}}{db_5} = 0 + 0 + 0 + 0 + 0 + x_5 = x_5$\n",
        "\n"
      ],
      "metadata": {
        "id": "4_ubryEKlRj-"
      }
    },
    {
      "cell_type": "markdown",
      "source": [
        "![green-divider](https://user-images.githubusercontent.com/7065401/52071924-c003ad80-2562-11e9-8297-1c6595f8a7ff.png)"
      ],
      "metadata": {
        "id": "MujG2tchoLwf"
      }
    },
    {
      "cell_type": "markdown",
      "source": [
        "#### Partial Derivative of $C$ with respect to $b_0$ *(y-intercept)*\n",
        "\n",
        "$$ \\frac{dC}{db_0} = \\frac{dC}{du} \\frac{du}{d\\hat{y}} \\frac{d\\hat{y}}{db_0} $$\n",
        "<br>\n",
        "$$ \\frac{dC}{db_0} = \\frac{2}{n} \\sum(\\hat{y} - y) * 1 $$"
      ],
      "metadata": {
        "id": "EEO5kZdOoOUG"
      }
    },
    {
      "cell_type": "code",
      "source": [
        "# dC/db_0 >> (2/n) * SUM(y_hats-y) * 1\n",
        "dC_db0 = 0\n",
        "\n",
        "for i in range(len(y_train)):\n",
        "  dC_db0 += y_hats[i] - y_train[i]\n",
        "\n",
        "dC_db0 = (2/len(y_train)) * dC_db0\n",
        "\n",
        "print('dC/db_0 >> (2/n) * SUM(y_hats-y) * 1', '\\n')\n",
        "print(f'dC_db_0: {dC_db0}')\n",
        "print(f'Autodiff: {b_0.grad[0]}')"
      ],
      "metadata": {
        "colab": {
          "base_uri": "https://localhost:8080/"
        },
        "id": "GrHcdJyDprwQ",
        "outputId": "4bd8cc9d-6708-4d36-8720-d1c3238ca3ec"
      },
      "execution_count": 62,
      "outputs": [
        {
          "output_type": "stream",
          "name": "stdout",
          "text": [
            "dC/db_0 >> (2/n) * SUM(y_hats-y) * 1 \n",
            "\n",
            "dC_db_0: 14.434270958775807\n",
            "Autodiff: 14.434270858764648\n"
          ]
        }
      ]
    },
    {
      "cell_type": "markdown",
      "source": [
        "- $\\frac{dC}{db_0} = 14.43$, means that there is a positive relation between $b_0$ and C\n",
        "  - If we decrease $b_0$ we will lower cost $C$"
      ],
      "metadata": {
        "id": "LRz_gMgvkihN"
      }
    },
    {
      "cell_type": "markdown",
      "source": [
        "![green-divider](https://user-images.githubusercontent.com/7065401/52071924-c003ad80-2562-11e9-8297-1c6595f8a7ff.png)"
      ],
      "metadata": {
        "id": "_myCyPppr4ip"
      }
    },
    {
      "cell_type": "markdown",
      "source": [
        "#### Partial Derivative of $C$ with respesct to $b_1$ *(is_warsaw)*\n",
        "\n",
        "$$ \\frac{dC}{db_1} = \\frac{dC}{du} \\frac{du}{d\\hat{y}} \\frac{d\\hat{y}}{db_1}  $$\n",
        "<br>\n",
        "$$ \\frac{dC}{db_1} = \\frac{2}{n} \\sum (\\hat{y} - y) * x_1 $$\n"
      ],
      "metadata": {
        "id": "CrZir9glsJLG"
      }
    },
    {
      "cell_type": "code",
      "source": [
        "# function to calculate partial derivatives of params b_1 to b_5\n",
        "def deriv_params(ys, y_hats, x):\n",
        "  dC_dp = 0\n",
        "\n",
        "  for i in range(len(ys)):\n",
        "    dC_dp += (y_hats[i] - ys[i]) * x[i]\n",
        "\n",
        "  dC_dp = (2/len(ys)) * dC_dp\n",
        "\n",
        "  return dC_dp "
      ],
      "metadata": {
        "id": "sX-RnhmAs-zj"
      },
      "execution_count": 63,
      "outputs": []
    },
    {
      "cell_type": "code",
      "source": [
        "# dC_db1 >> (2/n) * SUM(y_hats - y) * x_1\n",
        "dC_db1 = deriv_params(y_train, y_hats, xs_train[:, 0])\n",
        "\n",
        "print('dC_db1 >> (2/n) * SUM(y_hats - y) * x_1', '\\n')\n",
        "print(f'dC_db1: {dC_db1}')\n",
        "print(f'Autodiff: {b_1.grad[0]}')"
      ],
      "metadata": {
        "colab": {
          "base_uri": "https://localhost:8080/"
        },
        "id": "Et2aLHjOtkSq",
        "outputId": "17a4554b-4c8f-4df2-d24a-6830091e14de"
      },
      "execution_count": 64,
      "outputs": [
        {
          "output_type": "stream",
          "name": "stdout",
          "text": [
            "dC_db1 >> (2/n) * SUM(y_hats - y) * x_1 \n",
            "\n",
            "dC_db1: 5.3630780401658935\n",
            "Autodiff: 5.3630781173706055\n"
          ]
        }
      ]
    },
    {
      "cell_type": "markdown",
      "source": [
        "- $\\frac{dC}{db_1} = 5.36$, means that there is a positive relation between $b_1$ and $C$\n",
        "  - If we decrease $b_0$ we will lower cosr $C$ "
      ],
      "metadata": {
        "id": "AV3A-tlMlIeE"
      }
    },
    {
      "cell_type": "markdown",
      "source": [
        "![green-divider](https://user-images.githubusercontent.com/7065401/52071924-c003ad80-2562-11e9-8297-1c6595f8a7ff.png)"
      ],
      "metadata": {
        "id": "sYiLs1YmrxEY"
      }
    },
    {
      "cell_type": "markdown",
      "source": [
        "#### Patial Derivative of $C$ with respect to $b_2$ *(floor)*\n",
        "\n",
        "$$\\frac{dC}{db_2} = \\frac{dC}{du} \\frac{du}{d\\hat{y}} \\frac{d\\hat{y}}{db_2}  $$\n",
        "<br>\n",
        "\n",
        "$$\\frac{dC}{db_2} = \\frac{2}{n} \\sum (\\hat{y} - y) * x_2  $$"
      ],
      "metadata": {
        "id": "I1V3Yal3r0CY"
      }
    },
    {
      "cell_type": "code",
      "source": [
        "# dC_db2 >> (2/n) * SUM(y_hats - y) * x_2\n",
        "dC_b2 = deriv_params(y_train, y_hats, xs_train[:, 1])\n",
        "\n",
        "print('dC_db2 >> (2/n) * SUM(y_hats - y) * x_2', '\\n')\n",
        "print(f'dC_b2: {dC_b2}')\n",
        "print(f'Autodiff: {b_2.grad[0]}')"
      ],
      "metadata": {
        "colab": {
          "base_uri": "https://localhost:8080/"
        },
        "id": "5J9Qxligsiya",
        "outputId": "bdff0217-972f-4ed0-86b4-fddb801911eb"
      },
      "execution_count": 65,
      "outputs": [
        {
          "output_type": "stream",
          "name": "stdout",
          "text": [
            "dC_db2 >> (2/n) * SUM(y_hats - y) * x_2 \n",
            "\n",
            "dC_b2: 42.07663461943387\n",
            "Autodiff: 42.07663345336914\n"
          ]
        }
      ]
    },
    {
      "cell_type": "markdown",
      "source": [
        "- $\\frac{dC}{db_2} = 42.07$, means that there is a psotive relation between $b_2$ and $C$\n",
        "  - If we decrease $b_2$ we will lower cost $C$\n",
        "  - **$b_2$ *(floor)* has the bigger impact in reducing $C$**"
      ],
      "metadata": {
        "id": "RPlJpti2mJNr"
      }
    },
    {
      "cell_type": "markdown",
      "source": [
        "![green-divider](https://user-images.githubusercontent.com/7065401/52071924-c003ad80-2562-11e9-8297-1c6595f8a7ff.png)"
      ],
      "metadata": {
        "id": "4FAmJ-vutXSg"
      }
    },
    {
      "cell_type": "markdown",
      "source": [
        "#### Partial Derivative of $C$ with respect to $b_3$ *(rooms)*\n",
        "\n",
        "$$ \\frac{dC}{db_3} = \\frac{dC}{du} \\frac{du}{d\\hat{y}} \\frac{d\\hat{y}}{db_3} $$\n",
        "<br>\n",
        "\n",
        "$$ \\frac{dC}{db_3} = \\frac{2}{n} \\sum (\\hat{y} - y) * x_3 $$"
      ],
      "metadata": {
        "id": "y5uKyBiouhE5"
      }
    },
    {
      "cell_type": "code",
      "source": [
        "# dC_db3 >> (2/n) * SUM(y_hats - y) * x_3\n",
        "dC_db3 = deriv_params(y_train, y_hats, xs_train[:, 2])\n",
        "\n",
        "print('dC_db3 >> (2/n) * SUM(y_hats - y) * x_3', '\\n')\n",
        "print(f'dC_db3: {dC_db3}')\n",
        "print(f'Autodiff: {b_3.grad[0]}')"
      ],
      "metadata": {
        "colab": {
          "base_uri": "https://localhost:8080/"
        },
        "id": "VhjCXcyJvFHI",
        "outputId": "f1059008-b538-4409-950a-3041ecd76e89"
      },
      "execution_count": 66,
      "outputs": [
        {
          "output_type": "stream",
          "name": "stdout",
          "text": [
            "dC_db3 >> (2/n) * SUM(y_hats - y) * x_3 \n",
            "\n",
            "dC_db3: 38.983133940542096\n",
            "Autodiff: 38.98313522338867\n"
          ]
        }
      ]
    },
    {
      "cell_type": "markdown",
      "source": [
        "- $\\frac{dC}{db_3} = 38.98$, that means that there is a positive relation between $b_3$ and $C$\n",
        "  - If we decrease $b_3$ we will lower cost $C$"
      ],
      "metadata": {
        "id": "JvVIFNq-mt-9"
      }
    },
    {
      "cell_type": "markdown",
      "source": [
        "![green-divider](https://user-images.githubusercontent.com/7065401/52071924-c003ad80-2562-11e9-8297-1c6595f8a7ff.png)"
      ],
      "metadata": {
        "id": "f6VVfTGCvqdg"
      }
    },
    {
      "cell_type": "markdown",
      "source": [
        "#### Partial Derivative of $C$ with respect to $b_4$ *(sq)*\n",
        "\n",
        "$$ \\frac{dC}{db_4} = \\frac{dC}{du} \\frac{du}{d\\hat{y}} \\frac{d\\hat{y}}{db_4} $$\n",
        "<br>\n",
        "\n",
        "$$ \\frac{dC}{db_4} = \\frac{2}{n} \\sum (\\hat{y} - y) * x_4 $$"
      ],
      "metadata": {
        "id": "sQxVqZl_vsho"
      }
    },
    {
      "cell_type": "code",
      "source": [
        "# dC_db4 >> (2/n) * SUM(y_hats - y) * x_4\n",
        "dC_db4 = deriv_params(y_train, y_hats, xs_train[:, 3])\n",
        "\n",
        "print('dC_db4 >> (2/n) * SUM(y_hats - y) * x_4', '\\n')\n",
        "print(f'dC_db4: {dC_db4}')\n",
        "print(f'Autodiff: {b_4.grad[0]}')"
      ],
      "metadata": {
        "colab": {
          "base_uri": "https://localhost:8080/"
        },
        "id": "NRq2T3mTvz_g",
        "outputId": "055e8581-3e53-4e70-b6f8-8f70ed521dbb"
      },
      "execution_count": 67,
      "outputs": [
        {
          "output_type": "stream",
          "name": "stdout",
          "text": [
            "dC_db4 >> (2/n) * SUM(y_hats - y) * x_4 \n",
            "\n",
            "dC_db4: 3.9463974100527124\n",
            "Autodiff: 3.946397304534912\n"
          ]
        }
      ]
    },
    {
      "cell_type": "markdown",
      "source": [
        "- $\\frac{dC}{db_4} = 3.94$, means that there is a positive relation between $b_4$ and $C$\n",
        "  - If we decrease $b_4$ we will lower cost $C$"
      ],
      "metadata": {
        "id": "FhgciJ3TnVjD"
      }
    },
    {
      "cell_type": "markdown",
      "source": [
        "![green-divider](https://user-images.githubusercontent.com/7065401/52071924-c003ad80-2562-11e9-8297-1c6595f8a7ff.png)"
      ],
      "metadata": {
        "id": "hh0j_9rawXnI"
      }
    },
    {
      "cell_type": "markdown",
      "source": [
        "#### Partial Derivative of $C$ with respect to $b_5$ *(is_greater_1970)*\n",
        "\n",
        "$$ \\frac{dC}{db_5} = \\frac{dC}{du} \\frac{du}{d\\hat{y}} \\frac{d\\hat{y}}{db_5} $$\n",
        "<br>\n",
        "\n",
        "$$ \\frac{dC}{db_5} = \\frac{2}{n} \\sum (\\hat{y} - y) * x_5 $$"
      ],
      "metadata": {
        "id": "-liERLZrwjex"
      }
    },
    {
      "cell_type": "code",
      "source": [
        "# dC_db5 >> (2/n) * SUM(y_hats - y) * x_5\n",
        "dC_db5 = deriv_params(y_train, y_hats, xs_train[:, 4])\n",
        "\n",
        "print('dC_db5 >> (2/n) * SUM(y_hats - y) * x_5', '\\n')\n",
        "print(f'dC_db5: {dC_db5}')\n",
        "print(f'Autodiff: {b_5.grad[0]}')"
      ],
      "metadata": {
        "colab": {
          "base_uri": "https://localhost:8080/"
        },
        "id": "IEVG_gLNwuP5",
        "outputId": "b4fa0e30-a66e-485e-dee0-0c4d3965fcf3"
      },
      "execution_count": 68,
      "outputs": [
        {
          "output_type": "stream",
          "name": "stdout",
          "text": [
            "dC_db5 >> (2/n) * SUM(y_hats - y) * x_5 \n",
            "\n",
            "dC_db5: 12.48345462619551\n",
            "Autodiff: 12.483454704284668\n"
          ]
        }
      ]
    },
    {
      "cell_type": "markdown",
      "source": [
        "- $\\frac{dC}{db_5} = 12.48$, means that there is a positive relation between $b_5$ and $C$\n",
        "  - if we decrease $b_5$ we will lower cost $C$"
      ],
      "metadata": {
        "id": "b8NsMqn3n9yF"
      }
    },
    {
      "cell_type": "markdown",
      "source": [
        "![green-divider](https://user-images.githubusercontent.com/7065401/52071924-c003ad80-2562-11e9-8297-1c6595f8a7ff.png)"
      ],
      "metadata": {
        "id": "KBzK_0l5xiEa"
      }
    },
    {
      "cell_type": "markdown",
      "source": [
        "### Step 4: Gradient Descent"
      ],
      "metadata": {
        "id": "UgVCjYYzxitC"
      }
    },
    {
      "cell_type": "code",
      "source": [
        "# create optimizer >> uses Stochastic Gradient Descent\n",
        "optimizer = torch.optim.SGD([b_0, b_1, b_2, b_3, b_4, b_5], lr=0.02)\n",
        "\n",
        "optimizer"
      ],
      "metadata": {
        "colab": {
          "base_uri": "https://localhost:8080/"
        },
        "id": "P7HdI6dQzoBj",
        "outputId": "6133788b-6b08-4441-a249-f52f64cfbea7"
      },
      "execution_count": 69,
      "outputs": [
        {
          "output_type": "execute_result",
          "data": {
            "text/plain": [
              "SGD (\n",
              "Parameter Group 0\n",
              "    dampening: 0\n",
              "    lr: 0.02\n",
              "    momentum: 0\n",
              "    nesterov: False\n",
              "    weight_decay: 0\n",
              ")"
            ]
          },
          "metadata": {},
          "execution_count": 69
        }
      ]
    },
    {
      "cell_type": "code",
      "source": [
        "# 1 epoch == 1 round of training of all data points\n",
        "epochs = 1000\n",
        "\n",
        "for i in range(epochs):\n",
        "  # reset optimizer gradient to 0\n",
        "  optimizer.zero_grad()\n",
        "\n",
        "  # Step 1: Forward Pass\n",
        "  y_hats = regression(xs_train, b_0, b_1, b_2, b_3, b_4, b_5)\n",
        "\n",
        "  # Step 2: Calculate C\n",
        "  C = mse(y_train, y_hats)\n",
        "\n",
        "  # Step 3: Gradient of C with respect to params\n",
        "\n",
        "  # backpropagate C\n",
        "  C.backward()\n",
        "\n",
        "  # Partial Derivatives with respect to Parameters\n",
        "  dC_db0 = b_0.grad\n",
        "  dC_db1 = b_1.grad\n",
        "  dC_db2 = b_2.grad\n",
        "  dC_db3 = b_3.grad\n",
        "  dC_db4 = b_4.grad\n",
        "  dC_db5 = b_5.grad\n",
        "\n",
        "\n",
        "  print(f'Epoch: {i}, C: {C:.3f}, b_0: {b_0.item():.3f}, b_0.grad: {dC_db0.item():.6f}, b_1: {b_1.item():.3f}, b_1.grad: {dC_db1.item():.6f}, b_2: {b_2.item():.3f}, b_2.grad: {dC_db2.item():.6f}, b_3: {b_3.item():.3f}, b_3.grad: {dC_db3.item():.6f}, b_4: {b_4.item():.3f}, b_4.grad: {dC_db4.item():.6f}, b_5: {b_1.item():.3f}, b_5.grad: {dC_db5.item():.6f}')\n",
        "\n",
        "  # Step 4: Adjust parameters to reduce C\n",
        "  optimizer.step()\n",
        "\n"
      ],
      "metadata": {
        "colab": {
          "base_uri": "https://localhost:8080/"
        },
        "id": "5-RnqB4Qz74Q",
        "outputId": "4116e8de-982b-41c6-b2f9-450709e87e0a"
      },
      "execution_count": 70,
      "outputs": [
        {
          "output_type": "stream",
          "name": "stdout",
          "text": [
            "Epoch: 0, C: 54.749, b_0: 1.000, b_0.grad: 14.434271, b_1: 0.400, b_1.grad: 5.363078, b_2: 0.500, b_2.grad: 42.076633, b_3: 2.000, b_3.grad: 38.983135, b_4: 0.200, b_4.grad: 3.946397, b_5: 0.400, b_5.grad: 12.483455\n",
            "Epoch: 1, C: 6.207, b_0: 0.711, b_0.grad: 4.528414, b_1: 0.293, b_1.grad: 1.649979, b_2: -0.342, b_2.grad: 12.565289, b_3: 1.220, b_3.grad: 12.746421, b_4: 0.121, b_4.grad: 1.261983, b_5: 0.293, b_5.grad: 4.065661\n",
            "Epoch: 2, C: 1.451, b_0: 0.621, b_0.grad: 1.436467, b_1: 0.260, b_1.grad: 0.491038, b_2: -0.593, b_2.grad: 3.368408, b_3: 0.965, b_3.grad: 4.540725, b_4: 0.096, b_4.grad: 0.421637, b_5: 0.260, b_5.grad: 1.436633\n",
            "Epoch: 3, C: 0.963, b_0: 0.592, b_0.grad: 0.471428, b_1: 0.250, b_1.grad: 0.129364, b_2: -0.660, b_2.grad: 0.512144, b_3: 0.875, b_3.grad: 1.963725, b_4: 0.087, b_4.grad: 0.156972, b_5: 0.250, b_5.grad: 0.614546\n",
            "Epoch: 4, C: 0.891, b_0: 0.583, b_0.grad: 0.170282, b_1: 0.247, b_1.grad: 0.016556, b_2: -0.670, b_2.grad: -0.365332, b_3: 0.835, b_3.grad: 1.144112, b_4: 0.084, b_4.grad: 0.072069, b_5: 0.247, b_5.grad: 0.356502\n",
            "Epoch: 5, C: 0.862, b_0: 0.579, b_0.grad: 0.076360, b_1: 0.247, b_1.grad: -0.018566, b_2: -0.663, b_2.grad: -0.625523, b_3: 0.812, b_3.grad: 0.873472, b_4: 0.083, b_4.grad: 0.043342, b_5: 0.247, b_5.grad: 0.274540\n",
            "Epoch: 6, C: 0.838, b_0: 0.578, b_0.grad: 0.047114, b_1: 0.247, b_1.grad: -0.029436, b_2: -0.651, b_2.grad: -0.693403, b_3: 0.795, b_3.grad: 0.774596, b_4: 0.082, b_4.grad: 0.032212, b_5: 0.247, b_5.grad: 0.247560\n",
            "Epoch: 7, C: 0.815, b_0: 0.577, b_0.grad: 0.038052, b_1: 0.248, b_1.grad: -0.032731, b_2: -0.637, b_2.grad: -0.701615, b_3: 0.779, b_3.grad: 0.729729, b_4: 0.081, b_4.grad: 0.026636, b_5: 0.248, b_5.grad: 0.237759\n",
            "Epoch: 8, C: 0.794, b_0: 0.576, b_0.grad: 0.035283, b_1: 0.249, b_1.grad: -0.033658, b_2: -0.623, b_2.grad: -0.691549, b_3: 0.765, b_3.grad: 0.702106, b_4: 0.081, b_4.grad: 0.022853, b_5: 0.249, b_5.grad: 0.233340\n",
            "Epoch: 9, C: 0.773, b_0: 0.575, b_0.grad: 0.034474, b_1: 0.249, b_1.grad: -0.033843, b_2: -0.609, b_2.grad: -0.676122, b_3: 0.751, b_3.grad: 0.680237, b_4: 0.080, b_4.grad: 0.019687, b_5: 0.249, b_5.grad: 0.230617\n",
            "Epoch: 10, C: 0.754, b_0: 0.575, b_0.grad: 0.034271, b_1: 0.250, b_1.grad: -0.033792, b_2: -0.595, b_2.grad: -0.659349, b_3: 0.737, b_3.grad: 0.660529, b_4: 0.080, b_4.grad: 0.016770, b_5: 0.250, b_5.grad: 0.228441\n",
            "Epoch: 11, C: 0.736, b_0: 0.574, b_0.grad: 0.034253, b_1: 0.251, b_1.grad: -0.033665, b_2: -0.582, b_2.grad: -0.642480, b_3: 0.724, b_3.grad: 0.641849, b_4: 0.080, b_4.grad: 0.013985, b_5: 0.251, b_5.grad: 0.226453\n",
            "Epoch: 12, C: 0.718, b_0: 0.573, b_0.grad: 0.034286, b_1: 0.251, b_1.grad: -0.033511, b_2: -0.569, b_2.grad: -0.625894, b_3: 0.711, b_3.grad: 0.623833, b_4: 0.079, b_4.grad: 0.011295, b_5: 0.251, b_5.grad: 0.224540\n",
            "Epoch: 13, C: 0.702, b_0: 0.573, b_0.grad: 0.034331, b_1: 0.252, b_1.grad: -0.033345, b_2: -0.557, b_2.grad: -0.609702, b_3: 0.699, b_3.grad: 0.606358, b_4: 0.079, b_4.grad: 0.008686, b_5: 0.252, b_5.grad: 0.222666\n",
            "Epoch: 14, C: 0.686, b_0: 0.572, b_0.grad: 0.034376, b_1: 0.253, b_1.grad: -0.033174, b_2: -0.545, b_2.grad: -0.593928, b_3: 0.687, b_3.grad: 0.589379, b_4: 0.079, b_4.grad: 0.006153, b_5: 0.253, b_5.grad: 0.220821\n",
            "Epoch: 15, C: 0.672, b_0: 0.571, b_0.grad: 0.034415, b_1: 0.253, b_1.grad: -0.032998, b_2: -0.533, b_2.grad: -0.578575, b_3: 0.675, b_3.grad: 0.572870, b_4: 0.079, b_4.grad: 0.003691, b_5: 0.253, b_5.grad: 0.219000\n",
            "Epoch: 16, C: 0.657, b_0: 0.570, b_0.grad: 0.034449, b_1: 0.254, b_1.grad: -0.032818, b_2: -0.521, b_2.grad: -0.563631, b_3: 0.663, b_3.grad: 0.556817, b_4: 0.079, b_4.grad: 0.001301, b_5: 0.254, b_5.grad: 0.217203\n",
            "Epoch: 17, C: 0.644, b_0: 0.570, b_0.grad: 0.034477, b_1: 0.255, b_1.grad: -0.032634, b_2: -0.510, b_2.grad: -0.549091, b_3: 0.652, b_3.grad: 0.541204, b_4: 0.079, b_4.grad: -0.001022, b_5: 0.255, b_5.grad: 0.215427\n",
            "Epoch: 18, C: 0.631, b_0: 0.569, b_0.grad: 0.034498, b_1: 0.255, b_1.grad: -0.032447, b_2: -0.499, b_2.grad: -0.534941, b_3: 0.641, b_3.grad: 0.526020, b_4: 0.079, b_4.grad: -0.003279, b_5: 0.255, b_5.grad: 0.213672\n",
            "Epoch: 19, C: 0.619, b_0: 0.568, b_0.grad: 0.034514, b_1: 0.256, b_1.grad: -0.032257, b_2: -0.488, b_2.grad: -0.521172, b_3: 0.631, b_3.grad: 0.511254, b_4: 0.079, b_4.grad: -0.005471, b_5: 0.256, b_5.grad: 0.211939\n",
            "Epoch: 20, C: 0.608, b_0: 0.568, b_0.grad: 0.034524, b_1: 0.257, b_1.grad: -0.032064, b_2: -0.478, b_2.grad: -0.507773, b_3: 0.621, b_3.grad: 0.496894, b_4: 0.079, b_4.grad: -0.007601, b_5: 0.257, b_5.grad: 0.210227\n",
            "Epoch: 21, C: 0.597, b_0: 0.567, b_0.grad: 0.034529, b_1: 0.257, b_1.grad: -0.031868, b_2: -0.468, b_2.grad: -0.494734, b_3: 0.611, b_3.grad: 0.482929, b_4: 0.079, b_4.grad: -0.009670, b_5: 0.257, b_5.grad: 0.208535\n",
            "Epoch: 22, C: 0.587, b_0: 0.566, b_0.grad: 0.034528, b_1: 0.258, b_1.grad: -0.031670, b_2: -0.458, b_2.grad: -0.482046, b_3: 0.601, b_3.grad: 0.469347, b_4: 0.079, b_4.grad: -0.011679, b_5: 0.258, b_5.grad: 0.206863\n",
            "Epoch: 23, C: 0.577, b_0: 0.566, b_0.grad: 0.034522, b_1: 0.258, b_1.grad: -0.031469, b_2: -0.448, b_2.grad: -0.469699, b_3: 0.592, b_3.grad: 0.456139, b_4: 0.079, b_4.grad: -0.013631, b_5: 0.258, b_5.grad: 0.205210\n",
            "Epoch: 24, C: 0.567, b_0: 0.565, b_0.grad: 0.034511, b_1: 0.259, b_1.grad: -0.031266, b_2: -0.439, b_2.grad: -0.457684, b_3: 0.583, b_3.grad: 0.443294, b_4: 0.080, b_4.grad: -0.015527, b_5: 0.259, b_5.grad: 0.203577\n",
            "Epoch: 25, C: 0.559, b_0: 0.564, b_0.grad: 0.034496, b_1: 0.260, b_1.grad: -0.031061, b_2: -0.430, b_2.grad: -0.445991, b_3: 0.574, b_3.grad: 0.430803, b_4: 0.080, b_4.grad: -0.017369, b_5: 0.260, b_5.grad: 0.201962\n",
            "Epoch: 26, C: 0.550, b_0: 0.564, b_0.grad: 0.034476, b_1: 0.260, b_1.grad: -0.030853, b_2: -0.421, b_2.grad: -0.434611, b_3: 0.565, b_3.grad: 0.418656, b_4: 0.080, b_4.grad: -0.019157, b_5: 0.260, b_5.grad: 0.200366\n",
            "Epoch: 27, C: 0.542, b_0: 0.563, b_0.grad: 0.034451, b_1: 0.261, b_1.grad: -0.030644, b_2: -0.412, b_2.grad: -0.423538, b_3: 0.557, b_3.grad: 0.406843, b_4: 0.081, b_4.grad: -0.020894, b_5: 0.261, b_5.grad: 0.198788\n",
            "Epoch: 28, C: 0.534, b_0: 0.562, b_0.grad: 0.034422, b_1: 0.262, b_1.grad: -0.030433, b_2: -0.403, b_2.grad: -0.412761, b_3: 0.549, b_3.grad: 0.395355, b_4: 0.081, b_4.grad: -0.022581, b_5: 0.262, b_5.grad: 0.197228\n",
            "Epoch: 29, C: 0.527, b_0: 0.561, b_0.grad: 0.034389, b_1: 0.262, b_1.grad: -0.030220, b_2: -0.395, b_2.grad: -0.402274, b_3: 0.541, b_3.grad: 0.384183, b_4: 0.082, b_4.grad: -0.024219, b_5: 0.262, b_5.grad: 0.195685\n",
            "Epoch: 30, C: 0.520, b_0: 0.561, b_0.grad: 0.034352, b_1: 0.263, b_1.grad: -0.030006, b_2: -0.387, b_2.grad: -0.392068, b_3: 0.533, b_3.grad: 0.373320, b_4: 0.082, b_4.grad: -0.025810, b_5: 0.263, b_5.grad: 0.194160\n",
            "Epoch: 31, C: 0.514, b_0: 0.560, b_0.grad: 0.034311, b_1: 0.263, b_1.grad: -0.029791, b_2: -0.379, b_2.grad: -0.382135, b_3: 0.525, b_3.grad: 0.362756, b_4: 0.083, b_4.grad: -0.027354, b_5: 0.263, b_5.grad: 0.192651\n",
            "Epoch: 32, C: 0.507, b_0: 0.559, b_0.grad: 0.034266, b_1: 0.264, b_1.grad: -0.029574, b_2: -0.372, b_2.grad: -0.372468, b_3: 0.518, b_3.grad: 0.352483, b_4: 0.083, b_4.grad: -0.028854, b_5: 0.264, b_5.grad: 0.191159\n",
            "Epoch: 33, C: 0.501, b_0: 0.559, b_0.grad: 0.034217, b_1: 0.265, b_1.grad: -0.029356, b_2: -0.364, b_2.grad: -0.363061, b_3: 0.511, b_3.grad: 0.342493, b_4: 0.084, b_4.grad: -0.030310, b_5: 0.265, b_5.grad: 0.189683\n",
            "Epoch: 34, C: 0.496, b_0: 0.558, b_0.grad: 0.034165, b_1: 0.265, b_1.grad: -0.029137, b_2: -0.357, b_2.grad: -0.353905, b_3: 0.504, b_3.grad: 0.332780, b_4: 0.084, b_4.grad: -0.031724, b_5: 0.265, b_5.grad: 0.188224\n",
            "Epoch: 35, C: 0.490, b_0: 0.557, b_0.grad: 0.034110, b_1: 0.266, b_1.grad: -0.028917, b_2: -0.350, b_2.grad: -0.344994, b_3: 0.498, b_3.grad: 0.323334, b_4: 0.085, b_4.grad: -0.033097, b_5: 0.266, b_5.grad: 0.186780\n",
            "Epoch: 36, C: 0.485, b_0: 0.557, b_0.grad: 0.034051, b_1: 0.266, b_1.grad: -0.028696, b_2: -0.343, b_2.grad: -0.336322, b_3: 0.491, b_3.grad: 0.314149, b_4: 0.086, b_4.grad: -0.034429, b_5: 0.266, b_5.grad: 0.185351\n",
            "Epoch: 37, C: 0.480, b_0: 0.556, b_0.grad: 0.033989, b_1: 0.267, b_1.grad: -0.028474, b_2: -0.336, b_2.grad: -0.327882, b_3: 0.485, b_3.grad: 0.305217, b_4: 0.086, b_4.grad: -0.035722, b_5: 0.267, b_5.grad: 0.183937\n",
            "Epoch: 38, C: 0.476, b_0: 0.555, b_0.grad: 0.033924, b_1: 0.267, b_1.grad: -0.028252, b_2: -0.330, b_2.grad: -0.319667, b_3: 0.479, b_3.grad: 0.296532, b_4: 0.087, b_4.grad: -0.036978, b_5: 0.267, b_5.grad: 0.182539\n",
            "Epoch: 39, C: 0.471, b_0: 0.555, b_0.grad: 0.033856, b_1: 0.268, b_1.grad: -0.028029, b_2: -0.323, b_2.grad: -0.311672, b_3: 0.473, b_3.grad: 0.288087, b_4: 0.088, b_4.grad: -0.038197, b_5: 0.268, b_5.grad: 0.181155\n",
            "Epoch: 40, C: 0.467, b_0: 0.554, b_0.grad: 0.033786, b_1: 0.269, b_1.grad: -0.027806, b_2: -0.317, b_2.grad: -0.303891, b_3: 0.467, b_3.grad: 0.279876, b_4: 0.089, b_4.grad: -0.039379, b_5: 0.269, b_5.grad: 0.179785\n",
            "Epoch: 41, C: 0.463, b_0: 0.553, b_0.grad: 0.033712, b_1: 0.269, b_1.grad: -0.027582, b_2: -0.311, b_2.grad: -0.296317, b_3: 0.462, b_3.grad: 0.271891, b_4: 0.089, b_4.grad: -0.040527, b_5: 0.269, b_5.grad: 0.178430\n",
            "Epoch: 42, C: 0.459, b_0: 0.553, b_0.grad: 0.033636, b_1: 0.270, b_1.grad: -0.027358, b_2: -0.305, b_2.grad: -0.288946, b_3: 0.456, b_3.grad: 0.264128, b_4: 0.090, b_4.grad: -0.041641, b_5: 0.270, b_5.grad: 0.177088\n",
            "Epoch: 43, C: 0.455, b_0: 0.552, b_0.grad: 0.033558, b_1: 0.270, b_1.grad: -0.027134, b_2: -0.299, b_2.grad: -0.281771, b_3: 0.451, b_3.grad: 0.256579, b_4: 0.091, b_4.grad: -0.042722, b_5: 0.270, b_5.grad: 0.175760\n",
            "Epoch: 44, C: 0.452, b_0: 0.551, b_0.grad: 0.033477, b_1: 0.271, b_1.grad: -0.026910, b_2: -0.294, b_2.grad: -0.274788, b_3: 0.446, b_3.grad: 0.249239, b_4: 0.092, b_4.grad: -0.043771, b_5: 0.271, b_5.grad: 0.174446\n",
            "Epoch: 45, C: 0.448, b_0: 0.551, b_0.grad: 0.033393, b_1: 0.271, b_1.grad: -0.026685, b_2: -0.288, b_2.grad: -0.267992, b_3: 0.441, b_3.grad: 0.242102, b_4: 0.093, b_4.grad: -0.044789, b_5: 0.271, b_5.grad: 0.173144\n",
            "Epoch: 46, C: 0.445, b_0: 0.550, b_0.grad: 0.033308, b_1: 0.272, b_1.grad: -0.026461, b_2: -0.283, b_2.grad: -0.261376, b_3: 0.436, b_3.grad: 0.235163, b_4: 0.094, b_4.grad: -0.045776, b_5: 0.272, b_5.grad: 0.171856\n",
            "Epoch: 47, C: 0.442, b_0: 0.549, b_0.grad: 0.033220, b_1: 0.272, b_1.grad: -0.026236, b_2: -0.278, b_2.grad: -0.254936, b_3: 0.431, b_3.grad: 0.228416, b_4: 0.095, b_4.grad: -0.046734, b_5: 0.272, b_5.grad: 0.170581\n",
            "Epoch: 48, C: 0.439, b_0: 0.549, b_0.grad: 0.033130, b_1: 0.273, b_1.grad: -0.026012, b_2: -0.272, b_2.grad: -0.248668, b_3: 0.427, b_3.grad: 0.221857, b_4: 0.095, b_4.grad: -0.047664, b_5: 0.273, b_5.grad: 0.169318\n",
            "Epoch: 49, C: 0.436, b_0: 0.548, b_0.grad: 0.033038, b_1: 0.273, b_1.grad: -0.025787, b_2: -0.268, b_2.grad: -0.242568, b_3: 0.422, b_3.grad: 0.215479, b_4: 0.096, b_4.grad: -0.048565, b_5: 0.273, b_5.grad: 0.168068\n",
            "Epoch: 50, C: 0.433, b_0: 0.547, b_0.grad: 0.032944, b_1: 0.274, b_1.grad: -0.025563, b_2: -0.263, b_2.grad: -0.236628, b_3: 0.418, b_3.grad: 0.209278, b_4: 0.097, b_4.grad: -0.049439, b_5: 0.274, b_5.grad: 0.166829\n",
            "Epoch: 51, C: 0.431, b_0: 0.547, b_0.grad: 0.032849, b_1: 0.274, b_1.grad: -0.025340, b_2: -0.258, b_2.grad: -0.230847, b_3: 0.414, b_3.grad: 0.203250, b_4: 0.098, b_4.grad: -0.050287, b_5: 0.274, b_5.grad: 0.165603\n",
            "Epoch: 52, C: 0.428, b_0: 0.546, b_0.grad: 0.032751, b_1: 0.275, b_1.grad: -0.025116, b_2: -0.253, b_2.grad: -0.225220, b_3: 0.410, b_3.grad: 0.197388, b_4: 0.099, b_4.grad: -0.051109, b_5: 0.275, b_5.grad: 0.164389\n",
            "Epoch: 53, C: 0.426, b_0: 0.545, b_0.grad: 0.032652, b_1: 0.275, b_1.grad: -0.024893, b_2: -0.249, b_2.grad: -0.219741, b_3: 0.406, b_3.grad: 0.191690, b_4: 0.100, b_4.grad: -0.051907, b_5: 0.275, b_5.grad: 0.163186\n",
            "Epoch: 54, C: 0.423, b_0: 0.545, b_0.grad: 0.032551, b_1: 0.276, b_1.grad: -0.024671, b_2: -0.244, b_2.grad: -0.214409, b_3: 0.402, b_3.grad: 0.186150, b_4: 0.101, b_4.grad: -0.052680, b_5: 0.276, b_5.grad: 0.161995\n",
            "Epoch: 55, C: 0.421, b_0: 0.544, b_0.grad: 0.032449, b_1: 0.276, b_1.grad: -0.024448, b_2: -0.240, b_2.grad: -0.209218, b_3: 0.398, b_3.grad: 0.180764, b_4: 0.103, b_4.grad: -0.053429, b_5: 0.276, b_5.grad: 0.160815\n",
            "Epoch: 56, C: 0.419, b_0: 0.543, b_0.grad: 0.032345, b_1: 0.277, b_1.grad: -0.024227, b_2: -0.236, b_2.grad: -0.204165, b_3: 0.394, b_3.grad: 0.175528, b_4: 0.104, b_4.grad: -0.054156, b_5: 0.277, b_5.grad: 0.159646\n",
            "Epoch: 57, C: 0.417, b_0: 0.543, b_0.grad: 0.032240, b_1: 0.277, b_1.grad: -0.024006, b_2: -0.232, b_2.grad: -0.199246, b_3: 0.391, b_3.grad: 0.170437, b_4: 0.105, b_4.grad: -0.054860, b_5: 0.277, b_5.grad: 0.158488\n",
            "Epoch: 58, C: 0.415, b_0: 0.542, b_0.grad: 0.032133, b_1: 0.278, b_1.grad: -0.023786, b_2: -0.228, b_2.grad: -0.194457, b_3: 0.388, b_3.grad: 0.165489, b_4: 0.106, b_4.grad: -0.055543, b_5: 0.278, b_5.grad: 0.157341\n",
            "Epoch: 59, C: 0.413, b_0: 0.541, b_0.grad: 0.032025, b_1: 0.278, b_1.grad: -0.023566, b_2: -0.224, b_2.grad: -0.189794, b_3: 0.384, b_3.grad: 0.160678, b_4: 0.107, b_4.grad: -0.056204, b_5: 0.278, b_5.grad: 0.156204\n",
            "Epoch: 60, C: 0.411, b_0: 0.541, b_0.grad: 0.031916, b_1: 0.279, b_1.grad: -0.023347, b_2: -0.220, b_2.grad: -0.185256, b_3: 0.381, b_3.grad: 0.156002, b_4: 0.108, b_4.grad: -0.056846, b_5: 0.279, b_5.grad: 0.155078\n",
            "Epoch: 61, C: 0.410, b_0: 0.540, b_0.grad: 0.031805, b_1: 0.279, b_1.grad: -0.023129, b_2: -0.216, b_2.grad: -0.180837, b_3: 0.378, b_3.grad: 0.151456, b_4: 0.109, b_4.grad: -0.057467, b_5: 0.279, b_5.grad: 0.153962\n",
            "Epoch: 62, C: 0.408, b_0: 0.539, b_0.grad: 0.031694, b_1: 0.280, b_1.grad: -0.022911, b_2: -0.213, b_2.grad: -0.176535, b_3: 0.375, b_3.grad: 0.147036, b_4: 0.110, b_4.grad: -0.058069, b_5: 0.280, b_5.grad: 0.152856\n",
            "Epoch: 63, C: 0.406, b_0: 0.539, b_0.grad: 0.031581, b_1: 0.280, b_1.grad: -0.022695, b_2: -0.209, b_2.grad: -0.172347, b_3: 0.372, b_3.grad: 0.142740, b_4: 0.111, b_4.grad: -0.058652, b_5: 0.280, b_5.grad: 0.151760\n",
            "Epoch: 64, C: 0.405, b_0: 0.538, b_0.grad: 0.031468, b_1: 0.281, b_1.grad: -0.022479, b_2: -0.206, b_2.grad: -0.168269, b_3: 0.369, b_3.grad: 0.138565, b_4: 0.113, b_4.grad: -0.059216, b_5: 0.281, b_5.grad: 0.150675\n",
            "Epoch: 65, C: 0.403, b_0: 0.538, b_0.grad: 0.031353, b_1: 0.281, b_1.grad: -0.022264, b_2: -0.203, b_2.grad: -0.164298, b_3: 0.366, b_3.grad: 0.134506, b_4: 0.114, b_4.grad: -0.059763, b_5: 0.281, b_5.grad: 0.149598\n",
            "Epoch: 66, C: 0.402, b_0: 0.537, b_0.grad: 0.031237, b_1: 0.282, b_1.grad: -0.022050, b_2: -0.199, b_2.grad: -0.160433, b_3: 0.364, b_3.grad: 0.130560, b_4: 0.115, b_4.grad: -0.060293, b_5: 0.282, b_5.grad: 0.148532\n",
            "Epoch: 67, C: 0.401, b_0: 0.536, b_0.grad: 0.031121, b_1: 0.282, b_1.grad: -0.021837, b_2: -0.196, b_2.grad: -0.156669, b_3: 0.361, b_3.grad: 0.126725, b_4: 0.116, b_4.grad: -0.060806, b_5: 0.282, b_5.grad: 0.147474\n",
            "Epoch: 68, C: 0.399, b_0: 0.536, b_0.grad: 0.031004, b_1: 0.282, b_1.grad: -0.021625, b_2: -0.193, b_2.grad: -0.153005, b_3: 0.358, b_3.grad: 0.122997, b_4: 0.117, b_4.grad: -0.061302, b_5: 0.282, b_5.grad: 0.146427\n",
            "Epoch: 69, C: 0.398, b_0: 0.535, b_0.grad: 0.030885, b_1: 0.283, b_1.grad: -0.021414, b_2: -0.190, b_2.grad: -0.149436, b_3: 0.356, b_3.grad: 0.119374, b_4: 0.119, b_4.grad: -0.061783, b_5: 0.283, b_5.grad: 0.145388\n",
            "Epoch: 70, C: 0.397, b_0: 0.534, b_0.grad: 0.030767, b_1: 0.283, b_1.grad: -0.021204, b_2: -0.187, b_2.grad: -0.145961, b_3: 0.354, b_3.grad: 0.115853, b_4: 0.120, b_4.grad: -0.062248, b_5: 0.283, b_5.grad: 0.144358\n",
            "Epoch: 71, C: 0.395, b_0: 0.534, b_0.grad: 0.030647, b_1: 0.284, b_1.grad: -0.020995, b_2: -0.184, b_2.grad: -0.142579, b_3: 0.351, b_3.grad: 0.112430, b_4: 0.121, b_4.grad: -0.062698, b_5: 0.284, b_5.grad: 0.143338\n",
            "Epoch: 72, C: 0.394, b_0: 0.533, b_0.grad: 0.030527, b_1: 0.284, b_1.grad: -0.020787, b_2: -0.181, b_2.grad: -0.139284, b_3: 0.349, b_3.grad: 0.109104, b_4: 0.122, b_4.grad: -0.063133, b_5: 0.284, b_5.grad: 0.142326\n",
            "Epoch: 73, C: 0.393, b_0: 0.533, b_0.grad: 0.030406, b_1: 0.285, b_1.grad: -0.020580, b_2: -0.178, b_2.grad: -0.136076, b_3: 0.347, b_3.grad: 0.105871, b_4: 0.124, b_4.grad: -0.063554, b_5: 0.285, b_5.grad: 0.141323\n",
            "Epoch: 74, C: 0.392, b_0: 0.532, b_0.grad: 0.030284, b_1: 0.285, b_1.grad: -0.020374, b_2: -0.176, b_2.grad: -0.132952, b_3: 0.345, b_3.grad: 0.102728, b_4: 0.125, b_4.grad: -0.063962, b_5: 0.285, b_5.grad: 0.140328\n",
            "Epoch: 75, C: 0.391, b_0: 0.531, b_0.grad: 0.030163, b_1: 0.285, b_1.grad: -0.020170, b_2: -0.173, b_2.grad: -0.129910, b_3: 0.343, b_3.grad: 0.099675, b_4: 0.126, b_4.grad: -0.064356, b_5: 0.285, b_5.grad: 0.139342\n",
            "Epoch: 76, C: 0.390, b_0: 0.531, b_0.grad: 0.030040, b_1: 0.286, b_1.grad: -0.019966, b_2: -0.170, b_2.grad: -0.126948, b_3: 0.341, b_3.grad: 0.096707, b_4: 0.127, b_4.grad: -0.064737, b_5: 0.286, b_5.grad: 0.138364\n",
            "Epoch: 77, C: 0.389, b_0: 0.530, b_0.grad: 0.029917, b_1: 0.286, b_1.grad: -0.019764, b_2: -0.168, b_2.grad: -0.124062, b_3: 0.339, b_3.grad: 0.093823, b_4: 0.129, b_4.grad: -0.065105, b_5: 0.286, b_5.grad: 0.137394\n",
            "Epoch: 78, C: 0.388, b_0: 0.530, b_0.grad: 0.029794, b_1: 0.287, b_1.grad: -0.019563, b_2: -0.165, b_2.grad: -0.121252, b_3: 0.337, b_3.grad: 0.091021, b_4: 0.130, b_4.grad: -0.065461, b_5: 0.287, b_5.grad: 0.136433\n",
            "Epoch: 79, C: 0.387, b_0: 0.529, b_0.grad: 0.029670, b_1: 0.287, b_1.grad: -0.019363, b_2: -0.163, b_2.grad: -0.118516, b_3: 0.335, b_3.grad: 0.088298, b_4: 0.131, b_4.grad: -0.065805, b_5: 0.287, b_5.grad: 0.135479\n",
            "Epoch: 80, C: 0.386, b_0: 0.528, b_0.grad: 0.029545, b_1: 0.287, b_1.grad: -0.019164, b_2: -0.161, b_2.grad: -0.115851, b_3: 0.333, b_3.grad: 0.085651, b_4: 0.133, b_4.grad: -0.066138, b_5: 0.287, b_5.grad: 0.134534\n",
            "Epoch: 81, C: 0.385, b_0: 0.528, b_0.grad: 0.029421, b_1: 0.288, b_1.grad: -0.018966, b_2: -0.158, b_2.grad: -0.113255, b_3: 0.332, b_3.grad: 0.083080, b_4: 0.134, b_4.grad: -0.066459, b_5: 0.288, b_5.grad: 0.133596\n",
            "Epoch: 82, C: 0.384, b_0: 0.527, b_0.grad: 0.029296, b_1: 0.288, b_1.grad: -0.018770, b_2: -0.156, b_2.grad: -0.110727, b_3: 0.330, b_3.grad: 0.080581, b_4: 0.135, b_4.grad: -0.066769, b_5: 0.288, b_5.grad: 0.132666\n",
            "Epoch: 83, C: 0.384, b_0: 0.527, b_0.grad: 0.029171, b_1: 0.289, b_1.grad: -0.018575, b_2: -0.154, b_2.grad: -0.108265, b_3: 0.328, b_3.grad: 0.078153, b_4: 0.137, b_4.grad: -0.067068, b_5: 0.289, b_5.grad: 0.131744\n",
            "Epoch: 84, C: 0.383, b_0: 0.526, b_0.grad: 0.029045, b_1: 0.289, b_1.grad: -0.018381, b_2: -0.152, b_2.grad: -0.105866, b_3: 0.327, b_3.grad: 0.075794, b_4: 0.138, b_4.grad: -0.067357, b_5: 0.289, b_5.grad: 0.130829\n",
            "Epoch: 85, C: 0.382, b_0: 0.526, b_0.grad: 0.028920, b_1: 0.289, b_1.grad: -0.018189, b_2: -0.149, b_2.grad: -0.103530, b_3: 0.325, b_3.grad: 0.073502, b_4: 0.139, b_4.grad: -0.067636, b_5: 0.289, b_5.grad: 0.129922\n",
            "Epoch: 86, C: 0.381, b_0: 0.525, b_0.grad: 0.028794, b_1: 0.290, b_1.grad: -0.017998, b_2: -0.147, b_2.grad: -0.101254, b_3: 0.324, b_3.grad: 0.071275, b_4: 0.141, b_4.grad: -0.067905, b_5: 0.290, b_5.grad: 0.129022\n",
            "Epoch: 87, C: 0.381, b_0: 0.524, b_0.grad: 0.028668, b_1: 0.290, b_1.grad: -0.017808, b_2: -0.145, b_2.grad: -0.099038, b_3: 0.322, b_3.grad: 0.069111, b_4: 0.142, b_4.grad: -0.068165, b_5: 0.290, b_5.grad: 0.128129\n",
            "Epoch: 88, C: 0.380, b_0: 0.524, b_0.grad: 0.028541, b_1: 0.290, b_1.grad: -0.017619, b_2: -0.143, b_2.grad: -0.096878, b_3: 0.321, b_3.grad: 0.067009, b_4: 0.143, b_4.grad: -0.068415, b_5: 0.290, b_5.grad: 0.127243\n",
            "Epoch: 89, C: 0.379, b_0: 0.523, b_0.grad: 0.028415, b_1: 0.291, b_1.grad: -0.017432, b_2: -0.141, b_2.grad: -0.094775, b_3: 0.320, b_3.grad: 0.064967, b_4: 0.145, b_4.grad: -0.068657, b_5: 0.291, b_5.grad: 0.126365\n",
            "Epoch: 90, C: 0.378, b_0: 0.523, b_0.grad: 0.028288, b_1: 0.291, b_1.grad: -0.017246, b_2: -0.140, b_2.grad: -0.092726, b_3: 0.318, b_3.grad: 0.062982, b_4: 0.146, b_4.grad: -0.068889, b_5: 0.291, b_5.grad: 0.125493\n",
            "Epoch: 91, C: 0.378, b_0: 0.522, b_0.grad: 0.028162, b_1: 0.291, b_1.grad: -0.017061, b_2: -0.138, b_2.grad: -0.090730, b_3: 0.317, b_3.grad: 0.061056, b_4: 0.148, b_4.grad: -0.069113, b_5: 0.291, b_5.grad: 0.124628\n",
            "Epoch: 92, C: 0.377, b_0: 0.522, b_0.grad: 0.028035, b_1: 0.292, b_1.grad: -0.016878, b_2: -0.136, b_2.grad: -0.088785, b_3: 0.316, b_3.grad: 0.059183, b_4: 0.149, b_4.grad: -0.069329, b_5: 0.292, b_5.grad: 0.123770\n",
            "Epoch: 93, C: 0.376, b_0: 0.521, b_0.grad: 0.027909, b_1: 0.292, b_1.grad: -0.016695, b_2: -0.134, b_2.grad: -0.086889, b_3: 0.315, b_3.grad: 0.057365, b_4: 0.150, b_4.grad: -0.069537, b_5: 0.292, b_5.grad: 0.122919\n",
            "Epoch: 94, C: 0.376, b_0: 0.520, b_0.grad: 0.027782, b_1: 0.292, b_1.grad: -0.016515, b_2: -0.132, b_2.grad: -0.085043, b_3: 0.314, b_3.grad: 0.055599, b_4: 0.152, b_4.grad: -0.069737, b_5: 0.292, b_5.grad: 0.122075\n",
            "Epoch: 95, C: 0.375, b_0: 0.520, b_0.grad: 0.027655, b_1: 0.293, b_1.grad: -0.016335, b_2: -0.131, b_2.grad: -0.083244, b_3: 0.312, b_3.grad: 0.053883, b_4: 0.153, b_4.grad: -0.069929, b_5: 0.293, b_5.grad: 0.121237\n",
            "Epoch: 96, C: 0.375, b_0: 0.519, b_0.grad: 0.027528, b_1: 0.293, b_1.grad: -0.016157, b_2: -0.129, b_2.grad: -0.081491, b_3: 0.311, b_3.grad: 0.052217, b_4: 0.155, b_4.grad: -0.070114, b_5: 0.293, b_5.grad: 0.120406\n",
            "Epoch: 97, C: 0.374, b_0: 0.519, b_0.grad: 0.027402, b_1: 0.293, b_1.grad: -0.015980, b_2: -0.127, b_2.grad: -0.079783, b_3: 0.310, b_3.grad: 0.050599, b_4: 0.156, b_4.grad: -0.070292, b_5: 0.293, b_5.grad: 0.119581\n",
            "Epoch: 98, C: 0.373, b_0: 0.518, b_0.grad: 0.027275, b_1: 0.294, b_1.grad: -0.015805, b_2: -0.126, b_2.grad: -0.078119, b_3: 0.309, b_3.grad: 0.049027, b_4: 0.157, b_4.grad: -0.070462, b_5: 0.294, b_5.grad: 0.118763\n",
            "Epoch: 99, C: 0.373, b_0: 0.518, b_0.grad: 0.027148, b_1: 0.294, b_1.grad: -0.015631, b_2: -0.124, b_2.grad: -0.076498, b_3: 0.308, b_3.grad: 0.047500, b_4: 0.159, b_4.grad: -0.070627, b_5: 0.294, b_5.grad: 0.117951\n",
            "Epoch: 100, C: 0.372, b_0: 0.517, b_0.grad: 0.027022, b_1: 0.294, b_1.grad: -0.015458, b_2: -0.123, b_2.grad: -0.074917, b_3: 0.307, b_3.grad: 0.046018, b_4: 0.160, b_4.grad: -0.070784, b_5: 0.294, b_5.grad: 0.117145\n",
            "Epoch: 101, C: 0.372, b_0: 0.517, b_0.grad: 0.026895, b_1: 0.295, b_1.grad: -0.015287, b_2: -0.121, b_2.grad: -0.073377, b_3: 0.306, b_3.grad: 0.044578, b_4: 0.162, b_4.grad: -0.070935, b_5: 0.295, b_5.grad: 0.116345\n",
            "Epoch: 102, C: 0.371, b_0: 0.516, b_0.grad: 0.026769, b_1: 0.295, b_1.grad: -0.015117, b_2: -0.120, b_2.grad: -0.071876, b_3: 0.306, b_3.grad: 0.043180, b_4: 0.163, b_4.grad: -0.071080, b_5: 0.295, b_5.grad: 0.115551\n",
            "Epoch: 103, C: 0.371, b_0: 0.515, b_0.grad: 0.026643, b_1: 0.295, b_1.grad: -0.014948, b_2: -0.118, b_2.grad: -0.070414, b_3: 0.305, b_3.grad: 0.041823, b_4: 0.164, b_4.grad: -0.071219, b_5: 0.295, b_5.grad: 0.114764\n",
            "Epoch: 104, C: 0.370, b_0: 0.515, b_0.grad: 0.026517, b_1: 0.296, b_1.grad: -0.014781, b_2: -0.117, b_2.grad: -0.068988, b_3: 0.304, b_3.grad: 0.040505, b_4: 0.166, b_4.grad: -0.071352, b_5: 0.296, b_5.grad: 0.113982\n",
            "Epoch: 105, C: 0.370, b_0: 0.514, b_0.grad: 0.026391, b_1: 0.296, b_1.grad: -0.014615, b_2: -0.115, b_2.grad: -0.067598, b_3: 0.303, b_3.grad: 0.039225, b_4: 0.167, b_4.grad: -0.071479, b_5: 0.296, b_5.grad: 0.113206\n",
            "Epoch: 106, C: 0.369, b_0: 0.514, b_0.grad: 0.026265, b_1: 0.296, b_1.grad: -0.014451, b_2: -0.114, b_2.grad: -0.066244, b_3: 0.302, b_3.grad: 0.037983, b_4: 0.169, b_4.grad: -0.071601, b_5: 0.296, b_5.grad: 0.112436\n",
            "Epoch: 107, C: 0.369, b_0: 0.513, b_0.grad: 0.026140, b_1: 0.296, b_1.grad: -0.014287, b_2: -0.113, b_2.grad: -0.064923, b_3: 0.301, b_3.grad: 0.036777, b_4: 0.170, b_4.grad: -0.071718, b_5: 0.296, b_5.grad: 0.111672\n",
            "Epoch: 108, C: 0.368, b_0: 0.513, b_0.grad: 0.026015, b_1: 0.297, b_1.grad: -0.014125, b_2: -0.111, b_2.grad: -0.063636, b_3: 0.301, b_3.grad: 0.035606, b_4: 0.172, b_4.grad: -0.071829, b_5: 0.297, b_5.grad: 0.110914\n",
            "Epoch: 109, C: 0.368, b_0: 0.512, b_0.grad: 0.025889, b_1: 0.297, b_1.grad: -0.013965, b_2: -0.110, b_2.grad: -0.062382, b_3: 0.300, b_3.grad: 0.034470, b_4: 0.173, b_4.grad: -0.071935, b_5: 0.297, b_5.grad: 0.110161\n",
            "Epoch: 110, C: 0.367, b_0: 0.512, b_0.grad: 0.025765, b_1: 0.297, b_1.grad: -0.013806, b_2: -0.109, b_2.grad: -0.061158, b_3: 0.299, b_3.grad: 0.033367, b_4: 0.174, b_4.grad: -0.072037, b_5: 0.297, b_5.grad: 0.109414\n",
            "Epoch: 111, C: 0.367, b_0: 0.511, b_0.grad: 0.025640, b_1: 0.298, b_1.grad: -0.013648, b_2: -0.108, b_2.grad: -0.059966, b_3: 0.299, b_3.grad: 0.032296, b_4: 0.176, b_4.grad: -0.072133, b_5: 0.298, b_5.grad: 0.108672\n",
            "Epoch: 112, C: 0.366, b_0: 0.511, b_0.grad: 0.025516, b_1: 0.298, b_1.grad: -0.013491, b_2: -0.107, b_2.grad: -0.058803, b_3: 0.298, b_3.grad: 0.031257, b_4: 0.177, b_4.grad: -0.072225, b_5: 0.298, b_5.grad: 0.107936\n",
            "Epoch: 113, C: 0.366, b_0: 0.510, b_0.grad: 0.025391, b_1: 0.298, b_1.grad: -0.013336, b_2: -0.105, b_2.grad: -0.057670, b_3: 0.297, b_3.grad: 0.030248, b_4: 0.179, b_4.grad: -0.072312, b_5: 0.298, b_5.grad: 0.107205\n",
            "Epoch: 114, C: 0.365, b_0: 0.510, b_0.grad: 0.025268, b_1: 0.298, b_1.grad: -0.013182, b_2: -0.104, b_2.grad: -0.056565, b_3: 0.297, b_3.grad: 0.029269, b_4: 0.180, b_4.grad: -0.072396, b_5: 0.298, b_5.grad: 0.106480\n",
            "Epoch: 115, C: 0.365, b_0: 0.509, b_0.grad: 0.025144, b_1: 0.299, b_1.grad: -0.013030, b_2: -0.103, b_2.grad: -0.055487, b_3: 0.296, b_3.grad: 0.028319, b_4: 0.182, b_4.grad: -0.072474, b_5: 0.299, b_5.grad: 0.105760\n",
            "Epoch: 116, C: 0.365, b_0: 0.509, b_0.grad: 0.025021, b_1: 0.299, b_1.grad: -0.012878, b_2: -0.102, b_2.grad: -0.054436, b_3: 0.296, b_3.grad: 0.027397, b_4: 0.183, b_4.grad: -0.072549, b_5: 0.299, b_5.grad: 0.105045\n",
            "Epoch: 117, C: 0.364, b_0: 0.508, b_0.grad: 0.024898, b_1: 0.299, b_1.grad: -0.012728, b_2: -0.101, b_2.grad: -0.053412, b_3: 0.295, b_3.grad: 0.026503, b_4: 0.185, b_4.grad: -0.072620, b_5: 0.299, b_5.grad: 0.104336\n",
            "Epoch: 118, C: 0.364, b_0: 0.508, b_0.grad: 0.024775, b_1: 0.299, b_1.grad: -0.012580, b_2: -0.100, b_2.grad: -0.052412, b_3: 0.295, b_3.grad: 0.025635, b_4: 0.186, b_4.grad: -0.072686, b_5: 0.299, b_5.grad: 0.103631\n",
            "Epoch: 119, C: 0.363, b_0: 0.507, b_0.grad: 0.024652, b_1: 0.300, b_1.grad: -0.012433, b_2: -0.099, b_2.grad: -0.051437, b_3: 0.294, b_3.grad: 0.024793, b_4: 0.187, b_4.grad: -0.072749, b_5: 0.300, b_5.grad: 0.102932\n",
            "Epoch: 120, C: 0.363, b_0: 0.507, b_0.grad: 0.024530, b_1: 0.300, b_1.grad: -0.012287, b_2: -0.098, b_2.grad: -0.050487, b_3: 0.294, b_3.grad: 0.023976, b_4: 0.189, b_4.grad: -0.072809, b_5: 0.300, b_5.grad: 0.102238\n",
            "Epoch: 121, C: 0.363, b_0: 0.506, b_0.grad: 0.024408, b_1: 0.300, b_1.grad: -0.012142, b_2: -0.097, b_2.grad: -0.049559, b_3: 0.293, b_3.grad: 0.023184, b_4: 0.190, b_4.grad: -0.072865, b_5: 0.300, b_5.grad: 0.101548\n",
            "Epoch: 122, C: 0.362, b_0: 0.506, b_0.grad: 0.024287, b_1: 0.300, b_1.grad: -0.011999, b_2: -0.096, b_2.grad: -0.048655, b_3: 0.293, b_3.grad: 0.022416, b_4: 0.192, b_4.grad: -0.072917, b_5: 0.300, b_5.grad: 0.100864\n",
            "Epoch: 123, C: 0.362, b_0: 0.505, b_0.grad: 0.024166, b_1: 0.301, b_1.grad: -0.011856, b_2: -0.095, b_2.grad: -0.047773, b_3: 0.292, b_3.grad: 0.021671, b_4: 0.193, b_4.grad: -0.072966, b_5: 0.301, b_5.grad: 0.100185\n",
            "Epoch: 124, C: 0.361, b_0: 0.505, b_0.grad: 0.024045, b_1: 0.301, b_1.grad: -0.011716, b_2: -0.094, b_2.grad: -0.046912, b_3: 0.292, b_3.grad: 0.020948, b_4: 0.195, b_4.grad: -0.073012, b_5: 0.301, b_5.grad: 0.099510\n",
            "Epoch: 125, C: 0.361, b_0: 0.504, b_0.grad: 0.023925, b_1: 0.301, b_1.grad: -0.011576, b_2: -0.093, b_2.grad: -0.046072, b_3: 0.291, b_3.grad: 0.020247, b_4: 0.196, b_4.grad: -0.073054, b_5: 0.301, b_5.grad: 0.098841\n",
            "Epoch: 126, C: 0.361, b_0: 0.504, b_0.grad: 0.023805, b_1: 0.301, b_1.grad: -0.011438, b_2: -0.092, b_2.grad: -0.045253, b_3: 0.291, b_3.grad: 0.019567, b_4: 0.198, b_4.grad: -0.073094, b_5: 0.301, b_5.grad: 0.098176\n",
            "Epoch: 127, C: 0.360, b_0: 0.503, b_0.grad: 0.023685, b_1: 0.302, b_1.grad: -0.011301, b_2: -0.091, b_2.grad: -0.044454, b_3: 0.291, b_3.grad: 0.018908, b_4: 0.199, b_4.grad: -0.073130, b_5: 0.302, b_5.grad: 0.097516\n",
            "Epoch: 128, C: 0.360, b_0: 0.503, b_0.grad: 0.023566, b_1: 0.302, b_1.grad: -0.011165, b_2: -0.090, b_2.grad: -0.043674, b_3: 0.290, b_3.grad: 0.018269, b_4: 0.201, b_4.grad: -0.073164, b_5: 0.302, b_5.grad: 0.096860\n",
            "Epoch: 129, C: 0.360, b_0: 0.502, b_0.grad: 0.023447, b_1: 0.302, b_1.grad: -0.011030, b_2: -0.089, b_2.grad: -0.042913, b_3: 0.290, b_3.grad: 0.017650, b_4: 0.202, b_4.grad: -0.073195, b_5: 0.302, b_5.grad: 0.096210\n",
            "Epoch: 130, C: 0.359, b_0: 0.502, b_0.grad: 0.023328, b_1: 0.302, b_1.grad: -0.010897, b_2: -0.088, b_2.grad: -0.042170, b_3: 0.289, b_3.grad: 0.017049, b_4: 0.204, b_4.grad: -0.073223, b_5: 0.302, b_5.grad: 0.095563\n",
            "Epoch: 131, C: 0.359, b_0: 0.502, b_0.grad: 0.023210, b_1: 0.302, b_1.grad: -0.010765, b_2: -0.088, b_2.grad: -0.041446, b_3: 0.289, b_3.grad: 0.016467, b_4: 0.205, b_4.grad: -0.073249, b_5: 0.302, b_5.grad: 0.094922\n",
            "Epoch: 132, C: 0.359, b_0: 0.501, b_0.grad: 0.023092, b_1: 0.303, b_1.grad: -0.010634, b_2: -0.087, b_2.grad: -0.040739, b_3: 0.289, b_3.grad: 0.015903, b_4: 0.206, b_4.grad: -0.073272, b_5: 0.303, b_5.grad: 0.094285\n",
            "Epoch: 133, C: 0.358, b_0: 0.501, b_0.grad: 0.022975, b_1: 0.303, b_1.grad: -0.010505, b_2: -0.086, b_2.grad: -0.040048, b_3: 0.288, b_3.grad: 0.015357, b_4: 0.208, b_4.grad: -0.073292, b_5: 0.303, b_5.grad: 0.093652\n",
            "Epoch: 134, C: 0.358, b_0: 0.500, b_0.grad: 0.022858, b_1: 0.303, b_1.grad: -0.010377, b_2: -0.085, b_2.grad: -0.039374, b_3: 0.288, b_3.grad: 0.014827, b_4: 0.209, b_4.grad: -0.073310, b_5: 0.303, b_5.grad: 0.093024\n",
            "Epoch: 135, C: 0.358, b_0: 0.500, b_0.grad: 0.022741, b_1: 0.303, b_1.grad: -0.010249, b_2: -0.084, b_2.grad: -0.038716, b_3: 0.288, b_3.grad: 0.014314, b_4: 0.211, b_4.grad: -0.073326, b_5: 0.303, b_5.grad: 0.092400\n",
            "Epoch: 136, C: 0.357, b_0: 0.499, b_0.grad: 0.022625, b_1: 0.304, b_1.grad: -0.010123, b_2: -0.084, b_2.grad: -0.038074, b_3: 0.288, b_3.grad: 0.013817, b_4: 0.212, b_4.grad: -0.073339, b_5: 0.304, b_5.grad: 0.091781\n",
            "Epoch: 137, C: 0.357, b_0: 0.499, b_0.grad: 0.022509, b_1: 0.304, b_1.grad: -0.009999, b_2: -0.083, b_2.grad: -0.037447, b_3: 0.287, b_3.grad: 0.013335, b_4: 0.214, b_4.grad: -0.073351, b_5: 0.304, b_5.grad: 0.091165\n",
            "Epoch: 138, C: 0.357, b_0: 0.498, b_0.grad: 0.022394, b_1: 0.304, b_1.grad: -0.009875, b_2: -0.082, b_2.grad: -0.036835, b_3: 0.287, b_3.grad: 0.012868, b_4: 0.215, b_4.grad: -0.073360, b_5: 0.304, b_5.grad: 0.090555\n",
            "Epoch: 139, C: 0.356, b_0: 0.498, b_0.grad: 0.022279, b_1: 0.304, b_1.grad: -0.009753, b_2: -0.081, b_2.grad: -0.036238, b_3: 0.287, b_3.grad: 0.012417, b_4: 0.217, b_4.grad: -0.073367, b_5: 0.304, b_5.grad: 0.089948\n",
            "Epoch: 140, C: 0.356, b_0: 0.497, b_0.grad: 0.022164, b_1: 0.304, b_1.grad: -0.009632, b_2: -0.081, b_2.grad: -0.035654, b_3: 0.286, b_3.grad: 0.011979, b_4: 0.218, b_4.grad: -0.073372, b_5: 0.304, b_5.grad: 0.089346\n",
            "Epoch: 141, C: 0.356, b_0: 0.497, b_0.grad: 0.022050, b_1: 0.305, b_1.grad: -0.009512, b_2: -0.080, b_2.grad: -0.035084, b_3: 0.286, b_3.grad: 0.011556, b_4: 0.220, b_4.grad: -0.073375, b_5: 0.305, b_5.grad: 0.088747\n",
            "Epoch: 142, C: 0.355, b_0: 0.497, b_0.grad: 0.021937, b_1: 0.305, b_1.grad: -0.009393, b_2: -0.079, b_2.grad: -0.034528, b_3: 0.286, b_3.grad: 0.011146, b_4: 0.221, b_4.grad: -0.073377, b_5: 0.305, b_5.grad: 0.088153\n",
            "Epoch: 143, C: 0.355, b_0: 0.496, b_0.grad: 0.021823, b_1: 0.305, b_1.grad: -0.009275, b_2: -0.078, b_2.grad: -0.033985, b_3: 0.286, b_3.grad: 0.010748, b_4: 0.223, b_4.grad: -0.073376, b_5: 0.305, b_5.grad: 0.087563\n",
            "Epoch: 144, C: 0.355, b_0: 0.496, b_0.grad: 0.021711, b_1: 0.305, b_1.grad: -0.009159, b_2: -0.078, b_2.grad: -0.033453, b_3: 0.286, b_3.grad: 0.010365, b_4: 0.224, b_4.grad: -0.073374, b_5: 0.305, b_5.grad: 0.086978\n",
            "Epoch: 145, C: 0.355, b_0: 0.495, b_0.grad: 0.021598, b_1: 0.305, b_1.grad: -0.009043, b_2: -0.077, b_2.grad: -0.032935, b_3: 0.285, b_3.grad: 0.009992, b_4: 0.226, b_4.grad: -0.073370, b_5: 0.305, b_5.grad: 0.086396\n",
            "Epoch: 146, C: 0.354, b_0: 0.495, b_0.grad: 0.021486, b_1: 0.305, b_1.grad: -0.008929, b_2: -0.076, b_2.grad: -0.032428, b_3: 0.285, b_3.grad: 0.009633, b_4: 0.227, b_4.grad: -0.073364, b_5: 0.305, b_5.grad: 0.085818\n",
            "Epoch: 147, C: 0.354, b_0: 0.494, b_0.grad: 0.021375, b_1: 0.306, b_1.grad: -0.008816, b_2: -0.076, b_2.grad: -0.031933, b_3: 0.285, b_3.grad: 0.009285, b_4: 0.228, b_4.grad: -0.073357, b_5: 0.306, b_5.grad: 0.085244\n",
            "Epoch: 148, C: 0.354, b_0: 0.494, b_0.grad: 0.021264, b_1: 0.306, b_1.grad: -0.008704, b_2: -0.075, b_2.grad: -0.031450, b_3: 0.285, b_3.grad: 0.008948, b_4: 0.230, b_4.grad: -0.073348, b_5: 0.306, b_5.grad: 0.084674\n",
            "Epoch: 149, C: 0.353, b_0: 0.494, b_0.grad: 0.021153, b_1: 0.306, b_1.grad: -0.008593, b_2: -0.075, b_2.grad: -0.030977, b_3: 0.285, b_3.grad: 0.008623, b_4: 0.231, b_4.grad: -0.073338, b_5: 0.306, b_5.grad: 0.084108\n",
            "Epoch: 150, C: 0.353, b_0: 0.493, b_0.grad: 0.021043, b_1: 0.306, b_1.grad: -0.008483, b_2: -0.074, b_2.grad: -0.030516, b_3: 0.284, b_3.grad: 0.008308, b_4: 0.233, b_4.grad: -0.073326, b_5: 0.306, b_5.grad: 0.083546\n",
            "Epoch: 151, C: 0.353, b_0: 0.493, b_0.grad: 0.020934, b_1: 0.306, b_1.grad: -0.008375, b_2: -0.073, b_2.grad: -0.030064, b_3: 0.284, b_3.grad: 0.008003, b_4: 0.234, b_4.grad: -0.073313, b_5: 0.306, b_5.grad: 0.082987\n",
            "Epoch: 152, C: 0.353, b_0: 0.492, b_0.grad: 0.020824, b_1: 0.306, b_1.grad: -0.008267, b_2: -0.073, b_2.grad: -0.029623, b_3: 0.284, b_3.grad: 0.007709, b_4: 0.236, b_4.grad: -0.073298, b_5: 0.306, b_5.grad: 0.082433\n",
            "Epoch: 153, C: 0.352, b_0: 0.492, b_0.grad: 0.020716, b_1: 0.307, b_1.grad: -0.008161, b_2: -0.072, b_2.grad: -0.029192, b_3: 0.284, b_3.grad: 0.007425, b_4: 0.237, b_4.grad: -0.073282, b_5: 0.307, b_5.grad: 0.081882\n",
            "Epoch: 154, C: 0.352, b_0: 0.491, b_0.grad: 0.020607, b_1: 0.307, b_1.grad: -0.008055, b_2: -0.072, b_2.grad: -0.028771, b_3: 0.284, b_3.grad: 0.007150, b_4: 0.239, b_4.grad: -0.073265, b_5: 0.307, b_5.grad: 0.081335\n",
            "Epoch: 155, C: 0.352, b_0: 0.491, b_0.grad: 0.020499, b_1: 0.307, b_1.grad: -0.007951, b_2: -0.071, b_2.grad: -0.028359, b_3: 0.284, b_3.grad: 0.006884, b_4: 0.240, b_4.grad: -0.073246, b_5: 0.307, b_5.grad: 0.080791\n",
            "Epoch: 156, C: 0.351, b_0: 0.491, b_0.grad: 0.020392, b_1: 0.307, b_1.grad: -0.007847, b_2: -0.070, b_2.grad: -0.027956, b_3: 0.284, b_3.grad: 0.006628, b_4: 0.242, b_4.grad: -0.073227, b_5: 0.307, b_5.grad: 0.080252\n",
            "Epoch: 157, C: 0.351, b_0: 0.490, b_0.grad: 0.020285, b_1: 0.307, b_1.grad: -0.007745, b_2: -0.070, b_2.grad: -0.027563, b_3: 0.283, b_3.grad: 0.006380, b_4: 0.243, b_4.grad: -0.073206, b_5: 0.307, b_5.grad: 0.079716\n",
            "Epoch: 158, C: 0.351, b_0: 0.490, b_0.grad: 0.020178, b_1: 0.307, b_1.grad: -0.007644, b_2: -0.069, b_2.grad: -0.027178, b_3: 0.283, b_3.grad: 0.006141, b_4: 0.245, b_4.grad: -0.073184, b_5: 0.307, b_5.grad: 0.079183\n",
            "Epoch: 159, C: 0.351, b_0: 0.489, b_0.grad: 0.020072, b_1: 0.308, b_1.grad: -0.007544, b_2: -0.069, b_2.grad: -0.026801, b_3: 0.283, b_3.grad: 0.005910, b_4: 0.246, b_4.grad: -0.073161, b_5: 0.308, b_5.grad: 0.078654\n",
            "Epoch: 160, C: 0.350, b_0: 0.489, b_0.grad: 0.019967, b_1: 0.308, b_1.grad: -0.007444, b_2: -0.068, b_2.grad: -0.026433, b_3: 0.283, b_3.grad: 0.005687, b_4: 0.248, b_4.grad: -0.073137, b_5: 0.308, b_5.grad: 0.078129\n",
            "Epoch: 161, C: 0.350, b_0: 0.489, b_0.grad: 0.019862, b_1: 0.308, b_1.grad: -0.007346, b_2: -0.068, b_2.grad: -0.026073, b_3: 0.283, b_3.grad: 0.005472, b_4: 0.249, b_4.grad: -0.073112, b_5: 0.308, b_5.grad: 0.077607\n",
            "Epoch: 162, C: 0.350, b_0: 0.488, b_0.grad: 0.019757, b_1: 0.308, b_1.grad: -0.007249, b_2: -0.067, b_2.grad: -0.025721, b_3: 0.283, b_3.grad: 0.005265, b_4: 0.250, b_4.grad: -0.073086, b_5: 0.308, b_5.grad: 0.077089\n",
            "Epoch: 163, C: 0.350, b_0: 0.488, b_0.grad: 0.019653, b_1: 0.308, b_1.grad: -0.007153, b_2: -0.067, b_2.grad: -0.025376, b_3: 0.283, b_3.grad: 0.005065, b_4: 0.252, b_4.grad: -0.073058, b_5: 0.308, b_5.grad: 0.076575\n",
            "Epoch: 164, C: 0.349, b_0: 0.487, b_0.grad: 0.019549, b_1: 0.308, b_1.grad: -0.007058, b_2: -0.066, b_2.grad: -0.025039, b_3: 0.283, b_3.grad: 0.004872, b_4: 0.253, b_4.grad: -0.073030, b_5: 0.308, b_5.grad: 0.076063\n",
            "Epoch: 165, C: 0.349, b_0: 0.487, b_0.grad: 0.019446, b_1: 0.308, b_1.grad: -0.006963, b_2: -0.066, b_2.grad: -0.024709, b_3: 0.283, b_3.grad: 0.004686, b_4: 0.255, b_4.grad: -0.073002, b_5: 0.308, b_5.grad: 0.075555\n",
            "Epoch: 166, C: 0.349, b_0: 0.487, b_0.grad: 0.019343, b_1: 0.309, b_1.grad: -0.006870, b_2: -0.065, b_2.grad: -0.024386, b_3: 0.282, b_3.grad: 0.004507, b_4: 0.256, b_4.grad: -0.072972, b_5: 0.309, b_5.grad: 0.075051\n",
            "Epoch: 167, C: 0.349, b_0: 0.486, b_0.grad: 0.019241, b_1: 0.309, b_1.grad: -0.006778, b_2: -0.065, b_2.grad: -0.024071, b_3: 0.282, b_3.grad: 0.004334, b_4: 0.258, b_4.grad: -0.072941, b_5: 0.309, b_5.grad: 0.074550\n",
            "Epoch: 168, C: 0.348, b_0: 0.486, b_0.grad: 0.019139, b_1: 0.309, b_1.grad: -0.006687, b_2: -0.064, b_2.grad: -0.023761, b_3: 0.282, b_3.grad: 0.004168, b_4: 0.259, b_4.grad: -0.072910, b_5: 0.309, b_5.grad: 0.074052\n",
            "Epoch: 169, C: 0.348, b_0: 0.485, b_0.grad: 0.019037, b_1: 0.309, b_1.grad: -0.006596, b_2: -0.064, b_2.grad: -0.023459, b_3: 0.282, b_3.grad: 0.004008, b_4: 0.261, b_4.grad: -0.072878, b_5: 0.309, b_5.grad: 0.073558\n",
            "Epoch: 170, C: 0.348, b_0: 0.485, b_0.grad: 0.018936, b_1: 0.309, b_1.grad: -0.006507, b_2: -0.063, b_2.grad: -0.023163, b_3: 0.282, b_3.grad: 0.003854, b_4: 0.262, b_4.grad: -0.072845, b_5: 0.309, b_5.grad: 0.073067\n",
            "Epoch: 171, C: 0.348, b_0: 0.485, b_0.grad: 0.018836, b_1: 0.309, b_1.grad: -0.006419, b_2: -0.063, b_2.grad: -0.022873, b_3: 0.282, b_3.grad: 0.003706, b_4: 0.264, b_4.grad: -0.072811, b_5: 0.309, b_5.grad: 0.072579\n",
            "Epoch: 172, C: 0.348, b_0: 0.484, b_0.grad: 0.018736, b_1: 0.309, b_1.grad: -0.006331, b_2: -0.062, b_2.grad: -0.022589, b_3: 0.282, b_3.grad: 0.003564, b_4: 0.265, b_4.grad: -0.072777, b_5: 0.309, b_5.grad: 0.072094\n",
            "Epoch: 173, C: 0.347, b_0: 0.484, b_0.grad: 0.018636, b_1: 0.310, b_1.grad: -0.006244, b_2: -0.062, b_2.grad: -0.022311, b_3: 0.282, b_3.grad: 0.003427, b_4: 0.266, b_4.grad: -0.072742, b_5: 0.310, b_5.grad: 0.071613\n",
            "Epoch: 174, C: 0.347, b_0: 0.484, b_0.grad: 0.018537, b_1: 0.310, b_1.grad: -0.006159, b_2: -0.061, b_2.grad: -0.022038, b_3: 0.282, b_3.grad: 0.003295, b_4: 0.268, b_4.grad: -0.072706, b_5: 0.310, b_5.grad: 0.071135\n",
            "Epoch: 175, C: 0.347, b_0: 0.483, b_0.grad: 0.018438, b_1: 0.310, b_1.grad: -0.006074, b_2: -0.061, b_2.grad: -0.021771, b_3: 0.282, b_3.grad: 0.003169, b_4: 0.269, b_4.grad: -0.072670, b_5: 0.310, b_5.grad: 0.070660\n",
            "Epoch: 176, C: 0.347, b_0: 0.483, b_0.grad: 0.018340, b_1: 0.310, b_1.grad: -0.005990, b_2: -0.061, b_2.grad: -0.021510, b_3: 0.282, b_3.grad: 0.003048, b_4: 0.271, b_4.grad: -0.072633, b_5: 0.310, b_5.grad: 0.070188\n",
            "Epoch: 177, C: 0.346, b_0: 0.482, b_0.grad: 0.018242, b_1: 0.310, b_1.grad: -0.005907, b_2: -0.060, b_2.grad: -0.021255, b_3: 0.282, b_3.grad: 0.002931, b_4: 0.272, b_4.grad: -0.072595, b_5: 0.310, b_5.grad: 0.069719\n",
            "Epoch: 178, C: 0.346, b_0: 0.482, b_0.grad: 0.018145, b_1: 0.310, b_1.grad: -0.005825, b_2: -0.060, b_2.grad: -0.021004, b_3: 0.282, b_3.grad: 0.002820, b_4: 0.274, b_4.grad: -0.072557, b_5: 0.310, b_5.grad: 0.069253\n",
            "Epoch: 179, C: 0.346, b_0: 0.482, b_0.grad: 0.018048, b_1: 0.310, b_1.grad: -0.005744, b_2: -0.059, b_2.grad: -0.020758, b_3: 0.281, b_3.grad: 0.002713, b_4: 0.275, b_4.grad: -0.072519, b_5: 0.310, b_5.grad: 0.068791\n",
            "Epoch: 180, C: 0.346, b_0: 0.481, b_0.grad: 0.017951, b_1: 0.310, b_1.grad: -0.005663, b_2: -0.059, b_2.grad: -0.020518, b_3: 0.281, b_3.grad: 0.002610, b_4: 0.277, b_4.grad: -0.072479, b_5: 0.310, b_5.grad: 0.068331\n",
            "Epoch: 181, C: 0.346, b_0: 0.481, b_0.grad: 0.017856, b_1: 0.310, b_1.grad: -0.005584, b_2: -0.058, b_2.grad: -0.020282, b_3: 0.281, b_3.grad: 0.002512, b_4: 0.278, b_4.grad: -0.072440, b_5: 0.310, b_5.grad: 0.067875\n",
            "Epoch: 182, C: 0.345, b_0: 0.481, b_0.grad: 0.017760, b_1: 0.311, b_1.grad: -0.005505, b_2: -0.058, b_2.grad: -0.020051, b_3: 0.281, b_3.grad: 0.002418, b_4: 0.280, b_4.grad: -0.072400, b_5: 0.311, b_5.grad: 0.067421\n",
            "Epoch: 183, C: 0.345, b_0: 0.480, b_0.grad: 0.017665, b_1: 0.311, b_1.grad: -0.005427, b_2: -0.058, b_2.grad: -0.019824, b_3: 0.281, b_3.grad: 0.002328, b_4: 0.281, b_4.grad: -0.072359, b_5: 0.311, b_5.grad: 0.066971\n",
            "Epoch: 184, C: 0.345, b_0: 0.480, b_0.grad: 0.017570, b_1: 0.311, b_1.grad: -0.005350, b_2: -0.057, b_2.grad: -0.019602, b_3: 0.281, b_3.grad: 0.002242, b_4: 0.282, b_4.grad: -0.072318, b_5: 0.311, b_5.grad: 0.066523\n",
            "Epoch: 185, C: 0.345, b_0: 0.480, b_0.grad: 0.017476, b_1: 0.311, b_1.grad: -0.005274, b_2: -0.057, b_2.grad: -0.019384, b_3: 0.281, b_3.grad: 0.002160, b_4: 0.284, b_4.grad: -0.072277, b_5: 0.311, b_5.grad: 0.066079\n",
            "Epoch: 186, C: 0.345, b_0: 0.479, b_0.grad: 0.017382, b_1: 0.311, b_1.grad: -0.005199, b_2: -0.056, b_2.grad: -0.019171, b_3: 0.281, b_3.grad: 0.002082, b_4: 0.285, b_4.grad: -0.072235, b_5: 0.311, b_5.grad: 0.065637\n",
            "Epoch: 187, C: 0.344, b_0: 0.479, b_0.grad: 0.017289, b_1: 0.311, b_1.grad: -0.005124, b_2: -0.056, b_2.grad: -0.018961, b_3: 0.281, b_3.grad: 0.002007, b_4: 0.287, b_4.grad: -0.072192, b_5: 0.311, b_5.grad: 0.065198\n",
            "Epoch: 188, C: 0.344, b_0: 0.479, b_0.grad: 0.017196, b_1: 0.311, b_1.grad: -0.005051, b_2: -0.056, b_2.grad: -0.018756, b_3: 0.281, b_3.grad: 0.001936, b_4: 0.288, b_4.grad: -0.072150, b_5: 0.311, b_5.grad: 0.064762\n",
            "Epoch: 189, C: 0.344, b_0: 0.478, b_0.grad: 0.017104, b_1: 0.311, b_1.grad: -0.004978, b_2: -0.055, b_2.grad: -0.018555, b_3: 0.281, b_3.grad: 0.001868, b_4: 0.290, b_4.grad: -0.072107, b_5: 0.311, b_5.grad: 0.064329\n",
            "Epoch: 190, C: 0.344, b_0: 0.478, b_0.grad: 0.017012, b_1: 0.311, b_1.grad: -0.004906, b_2: -0.055, b_2.grad: -0.018357, b_3: 0.281, b_3.grad: 0.001804, b_4: 0.291, b_4.grad: -0.072063, b_5: 0.311, b_5.grad: 0.063899\n",
            "Epoch: 191, C: 0.343, b_0: 0.478, b_0.grad: 0.016921, b_1: 0.312, b_1.grad: -0.004834, b_2: -0.055, b_2.grad: -0.018163, b_3: 0.281, b_3.grad: 0.001743, b_4: 0.293, b_4.grad: -0.072020, b_5: 0.312, b_5.grad: 0.063472\n",
            "Epoch: 192, C: 0.343, b_0: 0.477, b_0.grad: 0.016830, b_1: 0.312, b_1.grad: -0.004764, b_2: -0.054, b_2.grad: -0.017973, b_3: 0.281, b_3.grad: 0.001685, b_4: 0.294, b_4.grad: -0.071975, b_5: 0.312, b_5.grad: 0.063047\n",
            "Epoch: 193, C: 0.343, b_0: 0.477, b_0.grad: 0.016739, b_1: 0.312, b_1.grad: -0.004694, b_2: -0.054, b_2.grad: -0.017786, b_3: 0.281, b_3.grad: 0.001629, b_4: 0.295, b_4.grad: -0.071931, b_5: 0.312, b_5.grad: 0.062625\n",
            "Epoch: 194, C: 0.343, b_0: 0.477, b_0.grad: 0.016649, b_1: 0.312, b_1.grad: -0.004625, b_2: -0.054, b_2.grad: -0.017603, b_3: 0.281, b_3.grad: 0.001577, b_4: 0.297, b_4.grad: -0.071886, b_5: 0.312, b_5.grad: 0.062206\n",
            "Epoch: 195, C: 0.343, b_0: 0.476, b_0.grad: 0.016559, b_1: 0.312, b_1.grad: -0.004557, b_2: -0.053, b_2.grad: -0.017423, b_3: 0.281, b_3.grad: 0.001528, b_4: 0.298, b_4.grad: -0.071842, b_5: 0.312, b_5.grad: 0.061790\n",
            "Epoch: 196, C: 0.343, b_0: 0.476, b_0.grad: 0.016470, b_1: 0.312, b_1.grad: -0.004489, b_2: -0.053, b_2.grad: -0.017247, b_3: 0.281, b_3.grad: 0.001482, b_4: 0.300, b_4.grad: -0.071796, b_5: 0.312, b_5.grad: 0.061376\n",
            "Epoch: 197, C: 0.342, b_0: 0.476, b_0.grad: 0.016381, b_1: 0.312, b_1.grad: -0.004422, b_2: -0.052, b_2.grad: -0.017073, b_3: 0.281, b_3.grad: 0.001438, b_4: 0.301, b_4.grad: -0.071751, b_5: 0.312, b_5.grad: 0.060966\n",
            "Epoch: 198, C: 0.342, b_0: 0.475, b_0.grad: 0.016293, b_1: 0.312, b_1.grad: -0.004356, b_2: -0.052, b_2.grad: -0.016903, b_3: 0.281, b_3.grad: 0.001396, b_4: 0.303, b_4.grad: -0.071705, b_5: 0.312, b_5.grad: 0.060557\n",
            "Epoch: 199, C: 0.342, b_0: 0.475, b_0.grad: 0.016205, b_1: 0.312, b_1.grad: -0.004291, b_2: -0.052, b_2.grad: -0.016736, b_3: 0.281, b_3.grad: 0.001358, b_4: 0.304, b_4.grad: -0.071659, b_5: 0.312, b_5.grad: 0.060152\n",
            "Epoch: 200, C: 0.342, b_0: 0.475, b_0.grad: 0.016117, b_1: 0.312, b_1.grad: -0.004227, b_2: -0.051, b_2.grad: -0.016572, b_3: 0.281, b_3.grad: 0.001321, b_4: 0.305, b_4.grad: -0.071613, b_5: 0.312, b_5.grad: 0.059749\n",
            "Epoch: 201, C: 0.342, b_0: 0.474, b_0.grad: 0.016030, b_1: 0.312, b_1.grad: -0.004163, b_2: -0.051, b_2.grad: -0.016411, b_3: 0.281, b_3.grad: 0.001287, b_4: 0.307, b_4.grad: -0.071567, b_5: 0.312, b_5.grad: 0.059349\n",
            "Epoch: 202, C: 0.341, b_0: 0.474, b_0.grad: 0.015943, b_1: 0.313, b_1.grad: -0.004100, b_2: -0.051, b_2.grad: -0.016253, b_3: 0.281, b_3.grad: 0.001256, b_4: 0.308, b_4.grad: -0.071520, b_5: 0.313, b_5.grad: 0.058951\n",
            "Epoch: 203, C: 0.341, b_0: 0.474, b_0.grad: 0.015857, b_1: 0.313, b_1.grad: -0.004037, b_2: -0.050, b_2.grad: -0.016098, b_3: 0.281, b_3.grad: 0.001226, b_4: 0.310, b_4.grad: -0.071473, b_5: 0.313, b_5.grad: 0.058556\n",
            "Epoch: 204, C: 0.341, b_0: 0.473, b_0.grad: 0.015771, b_1: 0.313, b_1.grad: -0.003975, b_2: -0.050, b_2.grad: -0.015945, b_3: 0.281, b_3.grad: 0.001199, b_4: 0.311, b_4.grad: -0.071426, b_5: 0.313, b_5.grad: 0.058163\n",
            "Epoch: 205, C: 0.341, b_0: 0.473, b_0.grad: 0.015686, b_1: 0.313, b_1.grad: -0.003914, b_2: -0.050, b_2.grad: -0.015795, b_3: 0.281, b_3.grad: 0.001174, b_4: 0.313, b_4.grad: -0.071379, b_5: 0.313, b_5.grad: 0.057773\n",
            "Epoch: 206, C: 0.341, b_0: 0.473, b_0.grad: 0.015601, b_1: 0.313, b_1.grad: -0.003854, b_2: -0.050, b_2.grad: -0.015647, b_3: 0.281, b_3.grad: 0.001151, b_4: 0.314, b_4.grad: -0.071332, b_5: 0.313, b_5.grad: 0.057386\n",
            "Epoch: 207, C: 0.341, b_0: 0.472, b_0.grad: 0.015516, b_1: 0.313, b_1.grad: -0.003794, b_2: -0.049, b_2.grad: -0.015502, b_3: 0.280, b_3.grad: 0.001130, b_4: 0.315, b_4.grad: -0.071284, b_5: 0.313, b_5.grad: 0.057001\n",
            "Epoch: 208, C: 0.340, b_0: 0.472, b_0.grad: 0.015432, b_1: 0.313, b_1.grad: -0.003735, b_2: -0.049, b_2.grad: -0.015359, b_3: 0.280, b_3.grad: 0.001110, b_4: 0.317, b_4.grad: -0.071237, b_5: 0.313, b_5.grad: 0.056619\n",
            "Epoch: 209, C: 0.340, b_0: 0.472, b_0.grad: 0.015349, b_1: 0.313, b_1.grad: -0.003677, b_2: -0.049, b_2.grad: -0.015219, b_3: 0.280, b_3.grad: 0.001093, b_4: 0.318, b_4.grad: -0.071189, b_5: 0.313, b_5.grad: 0.056239\n",
            "Epoch: 210, C: 0.340, b_0: 0.471, b_0.grad: 0.015265, b_1: 0.313, b_1.grad: -0.003619, b_2: -0.048, b_2.grad: -0.015081, b_3: 0.280, b_3.grad: 0.001077, b_4: 0.320, b_4.grad: -0.071141, b_5: 0.313, b_5.grad: 0.055861\n",
            "Epoch: 211, C: 0.340, b_0: 0.471, b_0.grad: 0.015182, b_1: 0.313, b_1.grad: -0.003562, b_2: -0.048, b_2.grad: -0.014946, b_3: 0.280, b_3.grad: 0.001063, b_4: 0.321, b_4.grad: -0.071093, b_5: 0.313, b_5.grad: 0.055486\n",
            "Epoch: 212, C: 0.340, b_0: 0.471, b_0.grad: 0.015100, b_1: 0.313, b_1.grad: -0.003506, b_2: -0.048, b_2.grad: -0.014813, b_3: 0.280, b_3.grad: 0.001051, b_4: 0.323, b_4.grad: -0.071045, b_5: 0.313, b_5.grad: 0.055114\n",
            "Epoch: 213, C: 0.339, b_0: 0.470, b_0.grad: 0.015018, b_1: 0.313, b_1.grad: -0.003450, b_2: -0.047, b_2.grad: -0.014681, b_3: 0.280, b_3.grad: 0.001040, b_4: 0.324, b_4.grad: -0.070997, b_5: 0.313, b_5.grad: 0.054743\n",
            "Epoch: 214, C: 0.339, b_0: 0.470, b_0.grad: 0.014936, b_1: 0.313, b_1.grad: -0.003395, b_2: -0.047, b_2.grad: -0.014552, b_3: 0.280, b_3.grad: 0.001031, b_4: 0.325, b_4.grad: -0.070948, b_5: 0.313, b_5.grad: 0.054376\n",
            "Epoch: 215, C: 0.339, b_0: 0.470, b_0.grad: 0.014855, b_1: 0.313, b_1.grad: -0.003340, b_2: -0.047, b_2.grad: -0.014425, b_3: 0.280, b_3.grad: 0.001023, b_4: 0.327, b_4.grad: -0.070900, b_5: 0.313, b_5.grad: 0.054010\n",
            "Epoch: 216, C: 0.339, b_0: 0.470, b_0.grad: 0.014774, b_1: 0.314, b_1.grad: -0.003287, b_2: -0.047, b_2.grad: -0.014301, b_3: 0.280, b_3.grad: 0.001017, b_4: 0.328, b_4.grad: -0.070851, b_5: 0.314, b_5.grad: 0.053647\n",
            "Epoch: 217, C: 0.339, b_0: 0.469, b_0.grad: 0.014694, b_1: 0.314, b_1.grad: -0.003233, b_2: -0.046, b_2.grad: -0.014178, b_3: 0.280, b_3.grad: 0.001012, b_4: 0.330, b_4.grad: -0.070803, b_5: 0.314, b_5.grad: 0.053286\n",
            "Epoch: 218, C: 0.339, b_0: 0.469, b_0.grad: 0.014614, b_1: 0.314, b_1.grad: -0.003181, b_2: -0.046, b_2.grad: -0.014057, b_3: 0.280, b_3.grad: 0.001009, b_4: 0.331, b_4.grad: -0.070754, b_5: 0.314, b_5.grad: 0.052928\n",
            "Epoch: 219, C: 0.338, b_0: 0.469, b_0.grad: 0.014534, b_1: 0.314, b_1.grad: -0.003129, b_2: -0.046, b_2.grad: -0.013938, b_3: 0.280, b_3.grad: 0.001007, b_4: 0.333, b_4.grad: -0.070705, b_5: 0.314, b_5.grad: 0.052572\n",
            "Epoch: 220, C: 0.338, b_0: 0.468, b_0.grad: 0.014455, b_1: 0.314, b_1.grad: -0.003077, b_2: -0.045, b_2.grad: -0.013821, b_3: 0.280, b_3.grad: 0.001006, b_4: 0.334, b_4.grad: -0.070656, b_5: 0.314, b_5.grad: 0.052218\n",
            "Epoch: 221, C: 0.338, b_0: 0.468, b_0.grad: 0.014376, b_1: 0.314, b_1.grad: -0.003026, b_2: -0.045, b_2.grad: -0.013705, b_3: 0.280, b_3.grad: 0.001007, b_4: 0.335, b_4.grad: -0.070607, b_5: 0.314, b_5.grad: 0.051867\n",
            "Epoch: 222, C: 0.338, b_0: 0.468, b_0.grad: 0.014298, b_1: 0.314, b_1.grad: -0.002976, b_2: -0.045, b_2.grad: -0.013592, b_3: 0.280, b_3.grad: 0.001008, b_4: 0.337, b_4.grad: -0.070559, b_5: 0.314, b_5.grad: 0.051518\n",
            "Epoch: 223, C: 0.338, b_0: 0.468, b_0.grad: 0.014220, b_1: 0.314, b_1.grad: -0.002926, b_2: -0.045, b_2.grad: -0.013480, b_3: 0.280, b_3.grad: 0.001011, b_4: 0.338, b_4.grad: -0.070510, b_5: 0.314, b_5.grad: 0.051171\n",
            "Epoch: 224, C: 0.338, b_0: 0.467, b_0.grad: 0.014142, b_1: 0.314, b_1.grad: -0.002877, b_2: -0.044, b_2.grad: -0.013370, b_3: 0.280, b_3.grad: 0.001015, b_4: 0.340, b_4.grad: -0.070461, b_5: 0.314, b_5.grad: 0.050826\n",
            "Epoch: 225, C: 0.338, b_0: 0.467, b_0.grad: 0.014065, b_1: 0.314, b_1.grad: -0.002829, b_2: -0.044, b_2.grad: -0.013261, b_3: 0.280, b_3.grad: 0.001020, b_4: 0.341, b_4.grad: -0.070411, b_5: 0.314, b_5.grad: 0.050484\n",
            "Epoch: 226, C: 0.337, b_0: 0.467, b_0.grad: 0.013988, b_1: 0.314, b_1.grad: -0.002781, b_2: -0.044, b_2.grad: -0.013154, b_3: 0.280, b_3.grad: 0.001026, b_4: 0.342, b_4.grad: -0.070362, b_5: 0.314, b_5.grad: 0.050143\n",
            "Epoch: 227, C: 0.337, b_0: 0.466, b_0.grad: 0.013912, b_1: 0.314, b_1.grad: -0.002733, b_2: -0.043, b_2.grad: -0.013049, b_3: 0.280, b_3.grad: 0.001033, b_4: 0.344, b_4.grad: -0.070313, b_5: 0.314, b_5.grad: 0.049805\n",
            "Epoch: 228, C: 0.337, b_0: 0.466, b_0.grad: 0.013835, b_1: 0.314, b_1.grad: -0.002686, b_2: -0.043, b_2.grad: -0.012945, b_3: 0.280, b_3.grad: 0.001041, b_4: 0.345, b_4.grad: -0.070264, b_5: 0.314, b_5.grad: 0.049469\n",
            "Epoch: 229, C: 0.337, b_0: 0.466, b_0.grad: 0.013760, b_1: 0.314, b_1.grad: -0.002640, b_2: -0.043, b_2.grad: -0.012843, b_3: 0.280, b_3.grad: 0.001050, b_4: 0.347, b_4.grad: -0.070215, b_5: 0.314, b_5.grad: 0.049135\n",
            "Epoch: 230, C: 0.337, b_0: 0.466, b_0.grad: 0.013684, b_1: 0.314, b_1.grad: -0.002594, b_2: -0.043, b_2.grad: -0.012742, b_3: 0.280, b_3.grad: 0.001060, b_4: 0.348, b_4.grad: -0.070166, b_5: 0.314, b_5.grad: 0.048804\n",
            "Epoch: 231, C: 0.337, b_0: 0.465, b_0.grad: 0.013610, b_1: 0.314, b_1.grad: -0.002549, b_2: -0.042, b_2.grad: -0.012643, b_3: 0.280, b_3.grad: 0.001070, b_4: 0.349, b_4.grad: -0.070117, b_5: 0.314, b_5.grad: 0.048474\n",
            "Epoch: 232, C: 0.336, b_0: 0.465, b_0.grad: 0.013535, b_1: 0.314, b_1.grad: -0.002504, b_2: -0.042, b_2.grad: -0.012544, b_3: 0.280, b_3.grad: 0.001082, b_4: 0.351, b_4.grad: -0.070068, b_5: 0.314, b_5.grad: 0.048147\n",
            "Epoch: 233, C: 0.336, b_0: 0.465, b_0.grad: 0.013461, b_1: 0.315, b_1.grad: -0.002460, b_2: -0.042, b_2.grad: -0.012448, b_3: 0.280, b_3.grad: 0.001094, b_4: 0.352, b_4.grad: -0.070018, b_5: 0.315, b_5.grad: 0.047822\n",
            "Epoch: 234, C: 0.336, b_0: 0.465, b_0.grad: 0.013387, b_1: 0.315, b_1.grad: -0.002416, b_2: -0.042, b_2.grad: -0.012353, b_3: 0.280, b_3.grad: 0.001108, b_4: 0.354, b_4.grad: -0.069969, b_5: 0.315, b_5.grad: 0.047499\n",
            "Epoch: 235, C: 0.336, b_0: 0.464, b_0.grad: 0.013314, b_1: 0.315, b_1.grad: -0.002373, b_2: -0.041, b_2.grad: -0.012259, b_3: 0.280, b_3.grad: 0.001122, b_4: 0.355, b_4.grad: -0.069920, b_5: 0.315, b_5.grad: 0.047178\n",
            "Epoch: 236, C: 0.336, b_0: 0.464, b_0.grad: 0.013241, b_1: 0.315, b_1.grad: -0.002330, b_2: -0.041, b_2.grad: -0.012167, b_3: 0.280, b_3.grad: 0.001136, b_4: 0.356, b_4.grad: -0.069871, b_5: 0.315, b_5.grad: 0.046858\n",
            "Epoch: 237, C: 0.336, b_0: 0.464, b_0.grad: 0.013168, b_1: 0.315, b_1.grad: -0.002288, b_2: -0.041, b_2.grad: -0.012075, b_3: 0.280, b_3.grad: 0.001151, b_4: 0.358, b_4.grad: -0.069822, b_5: 0.315, b_5.grad: 0.046542\n",
            "Epoch: 238, C: 0.336, b_0: 0.463, b_0.grad: 0.013096, b_1: 0.315, b_1.grad: -0.002246, b_2: -0.041, b_2.grad: -0.011985, b_3: 0.280, b_3.grad: 0.001167, b_4: 0.359, b_4.grad: -0.069773, b_5: 0.315, b_5.grad: 0.046227\n",
            "Epoch: 239, C: 0.335, b_0: 0.463, b_0.grad: 0.013024, b_1: 0.315, b_1.grad: -0.002205, b_2: -0.040, b_2.grad: -0.011896, b_3: 0.280, b_3.grad: 0.001184, b_4: 0.361, b_4.grad: -0.069724, b_5: 0.315, b_5.grad: 0.045914\n",
            "Epoch: 240, C: 0.335, b_0: 0.463, b_0.grad: 0.012952, b_1: 0.315, b_1.grad: -0.002164, b_2: -0.040, b_2.grad: -0.011809, b_3: 0.280, b_3.grad: 0.001201, b_4: 0.362, b_4.grad: -0.069675, b_5: 0.315, b_5.grad: 0.045603\n",
            "Epoch: 241, C: 0.335, b_0: 0.463, b_0.grad: 0.012881, b_1: 0.315, b_1.grad: -0.002124, b_2: -0.040, b_2.grad: -0.011722, b_3: 0.280, b_3.grad: 0.001219, b_4: 0.363, b_4.grad: -0.069625, b_5: 0.315, b_5.grad: 0.045294\n",
            "Epoch: 242, C: 0.335, b_0: 0.462, b_0.grad: 0.012810, b_1: 0.315, b_1.grad: -0.002084, b_2: -0.040, b_2.grad: -0.011636, b_3: 0.280, b_3.grad: 0.001238, b_4: 0.365, b_4.grad: -0.069576, b_5: 0.315, b_5.grad: 0.044987\n",
            "Epoch: 243, C: 0.335, b_0: 0.462, b_0.grad: 0.012740, b_1: 0.315, b_1.grad: -0.002045, b_2: -0.040, b_2.grad: -0.011552, b_3: 0.280, b_3.grad: 0.001256, b_4: 0.366, b_4.grad: -0.069527, b_5: 0.315, b_5.grad: 0.044682\n",
            "Epoch: 244, C: 0.335, b_0: 0.462, b_0.grad: 0.012670, b_1: 0.315, b_1.grad: -0.002006, b_2: -0.039, b_2.grad: -0.011469, b_3: 0.280, b_3.grad: 0.001276, b_4: 0.368, b_4.grad: -0.069479, b_5: 0.315, b_5.grad: 0.044379\n",
            "Epoch: 245, C: 0.335, b_0: 0.462, b_0.grad: 0.012600, b_1: 0.315, b_1.grad: -0.001968, b_2: -0.039, b_2.grad: -0.011387, b_3: 0.280, b_3.grad: 0.001296, b_4: 0.369, b_4.grad: -0.069430, b_5: 0.315, b_5.grad: 0.044078\n",
            "Epoch: 246, C: 0.334, b_0: 0.461, b_0.grad: 0.012530, b_1: 0.315, b_1.grad: -0.001930, b_2: -0.039, b_2.grad: -0.011306, b_3: 0.280, b_3.grad: 0.001317, b_4: 0.370, b_4.grad: -0.069381, b_5: 0.315, b_5.grad: 0.043779\n",
            "Epoch: 247, C: 0.334, b_0: 0.461, b_0.grad: 0.012462, b_1: 0.315, b_1.grad: -0.001893, b_2: -0.039, b_2.grad: -0.011226, b_3: 0.280, b_3.grad: 0.001338, b_4: 0.372, b_4.grad: -0.069332, b_5: 0.315, b_5.grad: 0.043482\n",
            "Epoch: 248, C: 0.334, b_0: 0.461, b_0.grad: 0.012393, b_1: 0.315, b_1.grad: -0.001856, b_2: -0.038, b_2.grad: -0.011147, b_3: 0.280, b_3.grad: 0.001359, b_4: 0.373, b_4.grad: -0.069283, b_5: 0.315, b_5.grad: 0.043186\n",
            "Epoch: 249, C: 0.334, b_0: 0.461, b_0.grad: 0.012324, b_1: 0.315, b_1.grad: -0.001819, b_2: -0.038, b_2.grad: -0.011069, b_3: 0.280, b_3.grad: 0.001381, b_4: 0.375, b_4.grad: -0.069234, b_5: 0.315, b_5.grad: 0.042893\n",
            "Epoch: 250, C: 0.334, b_0: 0.460, b_0.grad: 0.012256, b_1: 0.315, b_1.grad: -0.001783, b_2: -0.038, b_2.grad: -0.010992, b_3: 0.280, b_3.grad: 0.001403, b_4: 0.376, b_4.grad: -0.069186, b_5: 0.315, b_5.grad: 0.042601\n",
            "Epoch: 251, C: 0.334, b_0: 0.460, b_0.grad: 0.012189, b_1: 0.315, b_1.grad: -0.001747, b_2: -0.038, b_2.grad: -0.010915, b_3: 0.280, b_3.grad: 0.001426, b_4: 0.377, b_4.grad: -0.069137, b_5: 0.315, b_5.grad: 0.042312\n",
            "Epoch: 252, C: 0.334, b_0: 0.460, b_0.grad: 0.012122, b_1: 0.315, b_1.grad: -0.001712, b_2: -0.038, b_2.grad: -0.010840, b_3: 0.279, b_3.grad: 0.001449, b_4: 0.379, b_4.grad: -0.069089, b_5: 0.315, b_5.grad: 0.042024\n",
            "Epoch: 253, C: 0.333, b_0: 0.460, b_0.grad: 0.012055, b_1: 0.315, b_1.grad: -0.001677, b_2: -0.037, b_2.grad: -0.010765, b_3: 0.279, b_3.grad: 0.001472, b_4: 0.380, b_4.grad: -0.069040, b_5: 0.315, b_5.grad: 0.041738\n",
            "Epoch: 254, C: 0.333, b_0: 0.459, b_0.grad: 0.011988, b_1: 0.315, b_1.grad: -0.001643, b_2: -0.037, b_2.grad: -0.010692, b_3: 0.279, b_3.grad: 0.001496, b_4: 0.381, b_4.grad: -0.068992, b_5: 0.315, b_5.grad: 0.041454\n",
            "Epoch: 255, C: 0.333, b_0: 0.459, b_0.grad: 0.011922, b_1: 0.315, b_1.grad: -0.001609, b_2: -0.037, b_2.grad: -0.010620, b_3: 0.279, b_3.grad: 0.001520, b_4: 0.383, b_4.grad: -0.068943, b_5: 0.315, b_5.grad: 0.041171\n",
            "Epoch: 256, C: 0.333, b_0: 0.459, b_0.grad: 0.011856, b_1: 0.315, b_1.grad: -0.001575, b_2: -0.037, b_2.grad: -0.010548, b_3: 0.279, b_3.grad: 0.001545, b_4: 0.384, b_4.grad: -0.068895, b_5: 0.315, b_5.grad: 0.040891\n",
            "Epoch: 257, C: 0.333, b_0: 0.459, b_0.grad: 0.011790, b_1: 0.315, b_1.grad: -0.001542, b_2: -0.036, b_2.grad: -0.010477, b_3: 0.279, b_3.grad: 0.001569, b_4: 0.386, b_4.grad: -0.068847, b_5: 0.315, b_5.grad: 0.040612\n",
            "Epoch: 258, C: 0.333, b_0: 0.458, b_0.grad: 0.011725, b_1: 0.316, b_1.grad: -0.001509, b_2: -0.036, b_2.grad: -0.010407, b_3: 0.279, b_3.grad: 0.001594, b_4: 0.387, b_4.grad: -0.068798, b_5: 0.316, b_5.grad: 0.040335\n",
            "Epoch: 259, C: 0.333, b_0: 0.458, b_0.grad: 0.011660, b_1: 0.316, b_1.grad: -0.001477, b_2: -0.036, b_2.grad: -0.010338, b_3: 0.279, b_3.grad: 0.001620, b_4: 0.388, b_4.grad: -0.068750, b_5: 0.316, b_5.grad: 0.040060\n",
            "Epoch: 260, C: 0.332, b_0: 0.458, b_0.grad: 0.011595, b_1: 0.316, b_1.grad: -0.001445, b_2: -0.036, b_2.grad: -0.010269, b_3: 0.279, b_3.grad: 0.001645, b_4: 0.390, b_4.grad: -0.068702, b_5: 0.316, b_5.grad: 0.039787\n",
            "Epoch: 261, C: 0.332, b_0: 0.458, b_0.grad: 0.011531, b_1: 0.316, b_1.grad: -0.001413, b_2: -0.036, b_2.grad: -0.010201, b_3: 0.279, b_3.grad: 0.001671, b_4: 0.391, b_4.grad: -0.068654, b_5: 0.316, b_5.grad: 0.039515\n",
            "Epoch: 262, C: 0.332, b_0: 0.458, b_0.grad: 0.011467, b_1: 0.316, b_1.grad: -0.001382, b_2: -0.035, b_2.grad: -0.010134, b_3: 0.279, b_3.grad: 0.001697, b_4: 0.392, b_4.grad: -0.068606, b_5: 0.316, b_5.grad: 0.039245\n",
            "Epoch: 263, C: 0.332, b_0: 0.457, b_0.grad: 0.011404, b_1: 0.316, b_1.grad: -0.001351, b_2: -0.035, b_2.grad: -0.010068, b_3: 0.279, b_3.grad: 0.001723, b_4: 0.394, b_4.grad: -0.068558, b_5: 0.316, b_5.grad: 0.038977\n",
            "Epoch: 264, C: 0.332, b_0: 0.457, b_0.grad: 0.011340, b_1: 0.316, b_1.grad: -0.001321, b_2: -0.035, b_2.grad: -0.010002, b_3: 0.279, b_3.grad: 0.001750, b_4: 0.395, b_4.grad: -0.068511, b_5: 0.316, b_5.grad: 0.038711\n",
            "Epoch: 265, C: 0.332, b_0: 0.457, b_0.grad: 0.011278, b_1: 0.316, b_1.grad: -0.001291, b_2: -0.035, b_2.grad: -0.009937, b_3: 0.279, b_3.grad: 0.001777, b_4: 0.397, b_4.grad: -0.068463, b_5: 0.316, b_5.grad: 0.038446\n",
            "Epoch: 266, C: 0.332, b_0: 0.457, b_0.grad: 0.011215, b_1: 0.316, b_1.grad: -0.001261, b_2: -0.035, b_2.grad: -0.009873, b_3: 0.279, b_3.grad: 0.001803, b_4: 0.398, b_4.grad: -0.068415, b_5: 0.316, b_5.grad: 0.038183\n",
            "Epoch: 267, C: 0.332, b_0: 0.456, b_0.grad: 0.011153, b_1: 0.316, b_1.grad: -0.001232, b_2: -0.034, b_2.grad: -0.009810, b_3: 0.279, b_3.grad: 0.001830, b_4: 0.399, b_4.grad: -0.068368, b_5: 0.316, b_5.grad: 0.037921\n",
            "Epoch: 268, C: 0.331, b_0: 0.456, b_0.grad: 0.011091, b_1: 0.316, b_1.grad: -0.001203, b_2: -0.034, b_2.grad: -0.009747, b_3: 0.279, b_3.grad: 0.001858, b_4: 0.401, b_4.grad: -0.068320, b_5: 0.316, b_5.grad: 0.037662\n",
            "Epoch: 269, C: 0.331, b_0: 0.456, b_0.grad: 0.011029, b_1: 0.316, b_1.grad: -0.001174, b_2: -0.034, b_2.grad: -0.009685, b_3: 0.279, b_3.grad: 0.001885, b_4: 0.402, b_4.grad: -0.068273, b_5: 0.316, b_5.grad: 0.037403\n",
            "Epoch: 270, C: 0.331, b_0: 0.456, b_0.grad: 0.010967, b_1: 0.316, b_1.grad: -0.001146, b_2: -0.034, b_2.grad: -0.009624, b_3: 0.279, b_3.grad: 0.001912, b_4: 0.403, b_4.grad: -0.068226, b_5: 0.316, b_5.grad: 0.037147\n",
            "Epoch: 271, C: 0.331, b_0: 0.456, b_0.grad: 0.010906, b_1: 0.316, b_1.grad: -0.001118, b_2: -0.034, b_2.grad: -0.009563, b_3: 0.279, b_3.grad: 0.001940, b_4: 0.405, b_4.grad: -0.068178, b_5: 0.316, b_5.grad: 0.036892\n",
            "Epoch: 272, C: 0.331, b_0: 0.455, b_0.grad: 0.010846, b_1: 0.316, b_1.grad: -0.001091, b_2: -0.033, b_2.grad: -0.009503, b_3: 0.279, b_3.grad: 0.001967, b_4: 0.406, b_4.grad: -0.068131, b_5: 0.316, b_5.grad: 0.036639\n",
            "Epoch: 273, C: 0.331, b_0: 0.455, b_0.grad: 0.010785, b_1: 0.316, b_1.grad: -0.001063, b_2: -0.033, b_2.grad: -0.009443, b_3: 0.279, b_3.grad: 0.001996, b_4: 0.407, b_4.grad: -0.068084, b_5: 0.316, b_5.grad: 0.036388\n",
            "Epoch: 274, C: 0.331, b_0: 0.455, b_0.grad: 0.010725, b_1: 0.316, b_1.grad: -0.001037, b_2: -0.033, b_2.grad: -0.009384, b_3: 0.279, b_3.grad: 0.002023, b_4: 0.409, b_4.grad: -0.068037, b_5: 0.316, b_5.grad: 0.036138\n",
            "Epoch: 275, C: 0.331, b_0: 0.455, b_0.grad: 0.010665, b_1: 0.316, b_1.grad: -0.001010, b_2: -0.033, b_2.grad: -0.009326, b_3: 0.279, b_3.grad: 0.002051, b_4: 0.410, b_4.grad: -0.067990, b_5: 0.316, b_5.grad: 0.035889\n",
            "Epoch: 276, C: 0.330, b_0: 0.454, b_0.grad: 0.010606, b_1: 0.316, b_1.grad: -0.000984, b_2: -0.033, b_2.grad: -0.009269, b_3: 0.279, b_3.grad: 0.002079, b_4: 0.412, b_4.grad: -0.067943, b_5: 0.316, b_5.grad: 0.035643\n",
            "Epoch: 277, C: 0.330, b_0: 0.454, b_0.grad: 0.010547, b_1: 0.316, b_1.grad: -0.000958, b_2: -0.033, b_2.grad: -0.009211, b_3: 0.279, b_3.grad: 0.002108, b_4: 0.413, b_4.grad: -0.067897, b_5: 0.316, b_5.grad: 0.035397\n",
            "Epoch: 278, C: 0.330, b_0: 0.454, b_0.grad: 0.010488, b_1: 0.316, b_1.grad: -0.000933, b_2: -0.032, b_2.grad: -0.009155, b_3: 0.279, b_3.grad: 0.002136, b_4: 0.414, b_4.grad: -0.067850, b_5: 0.316, b_5.grad: 0.035154\n",
            "Epoch: 279, C: 0.330, b_0: 0.454, b_0.grad: 0.010429, b_1: 0.316, b_1.grad: -0.000907, b_2: -0.032, b_2.grad: -0.009098, b_3: 0.279, b_3.grad: 0.002164, b_4: 0.416, b_4.grad: -0.067803, b_5: 0.316, b_5.grad: 0.034912\n",
            "Epoch: 280, C: 0.330, b_0: 0.454, b_0.grad: 0.010371, b_1: 0.316, b_1.grad: -0.000882, b_2: -0.032, b_2.grad: -0.009043, b_3: 0.278, b_3.grad: 0.002193, b_4: 0.417, b_4.grad: -0.067757, b_5: 0.316, b_5.grad: 0.034671\n",
            "Epoch: 281, C: 0.330, b_0: 0.453, b_0.grad: 0.010313, b_1: 0.316, b_1.grad: -0.000858, b_2: -0.032, b_2.grad: -0.008988, b_3: 0.278, b_3.grad: 0.002221, b_4: 0.418, b_4.grad: -0.067710, b_5: 0.316, b_5.grad: 0.034432\n",
            "Epoch: 282, C: 0.330, b_0: 0.453, b_0.grad: 0.010255, b_1: 0.316, b_1.grad: -0.000834, b_2: -0.032, b_2.grad: -0.008934, b_3: 0.278, b_3.grad: 0.002250, b_4: 0.420, b_4.grad: -0.067664, b_5: 0.316, b_5.grad: 0.034195\n",
            "Epoch: 283, C: 0.330, b_0: 0.453, b_0.grad: 0.010198, b_1: 0.316, b_1.grad: -0.000810, b_2: -0.031, b_2.grad: -0.008880, b_3: 0.278, b_3.grad: 0.002278, b_4: 0.421, b_4.grad: -0.067618, b_5: 0.316, b_5.grad: 0.033959\n",
            "Epoch: 284, C: 0.329, b_0: 0.453, b_0.grad: 0.010141, b_1: 0.316, b_1.grad: -0.000786, b_2: -0.031, b_2.grad: -0.008826, b_3: 0.278, b_3.grad: 0.002307, b_4: 0.422, b_4.grad: -0.067572, b_5: 0.316, b_5.grad: 0.033724\n",
            "Epoch: 285, C: 0.329, b_0: 0.453, b_0.grad: 0.010084, b_1: 0.316, b_1.grad: -0.000763, b_2: -0.031, b_2.grad: -0.008773, b_3: 0.278, b_3.grad: 0.002335, b_4: 0.424, b_4.grad: -0.067526, b_5: 0.316, b_5.grad: 0.033492\n",
            "Epoch: 286, C: 0.329, b_0: 0.452, b_0.grad: 0.010027, b_1: 0.316, b_1.grad: -0.000740, b_2: -0.031, b_2.grad: -0.008721, b_3: 0.278, b_3.grad: 0.002364, b_4: 0.425, b_4.grad: -0.067480, b_5: 0.316, b_5.grad: 0.033260\n",
            "Epoch: 287, C: 0.329, b_0: 0.452, b_0.grad: 0.009971, b_1: 0.316, b_1.grad: -0.000717, b_2: -0.031, b_2.grad: -0.008669, b_3: 0.278, b_3.grad: 0.002393, b_4: 0.426, b_4.grad: -0.067434, b_5: 0.316, b_5.grad: 0.033030\n",
            "Epoch: 288, C: 0.329, b_0: 0.452, b_0.grad: 0.009915, b_1: 0.316, b_1.grad: -0.000694, b_2: -0.031, b_2.grad: -0.008618, b_3: 0.278, b_3.grad: 0.002421, b_4: 0.428, b_4.grad: -0.067388, b_5: 0.316, b_5.grad: 0.032802\n",
            "Epoch: 289, C: 0.329, b_0: 0.452, b_0.grad: 0.009859, b_1: 0.316, b_1.grad: -0.000672, b_2: -0.030, b_2.grad: -0.008567, b_3: 0.278, b_3.grad: 0.002450, b_4: 0.429, b_4.grad: -0.067342, b_5: 0.316, b_5.grad: 0.032575\n",
            "Epoch: 290, C: 0.329, b_0: 0.452, b_0.grad: 0.009804, b_1: 0.316, b_1.grad: -0.000650, b_2: -0.030, b_2.grad: -0.008516, b_3: 0.278, b_3.grad: 0.002479, b_4: 0.431, b_4.grad: -0.067297, b_5: 0.316, b_5.grad: 0.032349\n",
            "Epoch: 291, C: 0.329, b_0: 0.451, b_0.grad: 0.009749, b_1: 0.316, b_1.grad: -0.000629, b_2: -0.030, b_2.grad: -0.008466, b_3: 0.278, b_3.grad: 0.002508, b_4: 0.432, b_4.grad: -0.067251, b_5: 0.316, b_5.grad: 0.032125\n",
            "Epoch: 292, C: 0.329, b_0: 0.451, b_0.grad: 0.009694, b_1: 0.316, b_1.grad: -0.000607, b_2: -0.030, b_2.grad: -0.008416, b_3: 0.278, b_3.grad: 0.002536, b_4: 0.433, b_4.grad: -0.067206, b_5: 0.316, b_5.grad: 0.031902\n",
            "Epoch: 293, C: 0.328, b_0: 0.451, b_0.grad: 0.009640, b_1: 0.316, b_1.grad: -0.000586, b_2: -0.030, b_2.grad: -0.008367, b_3: 0.278, b_3.grad: 0.002565, b_4: 0.435, b_4.grad: -0.067161, b_5: 0.316, b_5.grad: 0.031681\n",
            "Epoch: 294, C: 0.328, b_0: 0.451, b_0.grad: 0.009585, b_1: 0.316, b_1.grad: -0.000565, b_2: -0.030, b_2.grad: -0.008318, b_3: 0.278, b_3.grad: 0.002593, b_4: 0.436, b_4.grad: -0.067115, b_5: 0.316, b_5.grad: 0.031461\n",
            "Epoch: 295, C: 0.328, b_0: 0.451, b_0.grad: 0.009531, b_1: 0.316, b_1.grad: -0.000545, b_2: -0.029, b_2.grad: -0.008270, b_3: 0.278, b_3.grad: 0.002622, b_4: 0.437, b_4.grad: -0.067070, b_5: 0.316, b_5.grad: 0.031242\n",
            "Epoch: 296, C: 0.328, b_0: 0.450, b_0.grad: 0.009477, b_1: 0.316, b_1.grad: -0.000525, b_2: -0.029, b_2.grad: -0.008222, b_3: 0.278, b_3.grad: 0.002650, b_4: 0.439, b_4.grad: -0.067025, b_5: 0.316, b_5.grad: 0.031025\n",
            "Epoch: 297, C: 0.328, b_0: 0.450, b_0.grad: 0.009424, b_1: 0.316, b_1.grad: -0.000505, b_2: -0.029, b_2.grad: -0.008175, b_3: 0.278, b_3.grad: 0.002679, b_4: 0.440, b_4.grad: -0.066980, b_5: 0.316, b_5.grad: 0.030810\n",
            "Epoch: 298, C: 0.328, b_0: 0.450, b_0.grad: 0.009371, b_1: 0.316, b_1.grad: -0.000485, b_2: -0.029, b_2.grad: -0.008128, b_3: 0.278, b_3.grad: 0.002707, b_4: 0.441, b_4.grad: -0.066935, b_5: 0.316, b_5.grad: 0.030595\n",
            "Epoch: 299, C: 0.328, b_0: 0.450, b_0.grad: 0.009318, b_1: 0.316, b_1.grad: -0.000465, b_2: -0.029, b_2.grad: -0.008081, b_3: 0.278, b_3.grad: 0.002736, b_4: 0.443, b_4.grad: -0.066891, b_5: 0.316, b_5.grad: 0.030382\n",
            "Epoch: 300, C: 0.328, b_0: 0.450, b_0.grad: 0.009265, b_1: 0.316, b_1.grad: -0.000446, b_2: -0.029, b_2.grad: -0.008035, b_3: 0.277, b_3.grad: 0.002764, b_4: 0.444, b_4.grad: -0.066846, b_5: 0.316, b_5.grad: 0.030171\n",
            "Epoch: 301, C: 0.328, b_0: 0.449, b_0.grad: 0.009213, b_1: 0.316, b_1.grad: -0.000427, b_2: -0.028, b_2.grad: -0.007989, b_3: 0.277, b_3.grad: 0.002793, b_4: 0.445, b_4.grad: -0.066801, b_5: 0.316, b_5.grad: 0.029960\n",
            "Epoch: 302, C: 0.327, b_0: 0.449, b_0.grad: 0.009161, b_1: 0.316, b_1.grad: -0.000409, b_2: -0.028, b_2.grad: -0.007943, b_3: 0.277, b_3.grad: 0.002821, b_4: 0.447, b_4.grad: -0.066757, b_5: 0.316, b_5.grad: 0.029752\n",
            "Epoch: 303, C: 0.327, b_0: 0.449, b_0.grad: 0.009109, b_1: 0.316, b_1.grad: -0.000390, b_2: -0.028, b_2.grad: -0.007898, b_3: 0.277, b_3.grad: 0.002849, b_4: 0.448, b_4.grad: -0.066713, b_5: 0.316, b_5.grad: 0.029544\n",
            "Epoch: 304, C: 0.327, b_0: 0.449, b_0.grad: 0.009057, b_1: 0.316, b_1.grad: -0.000372, b_2: -0.028, b_2.grad: -0.007853, b_3: 0.277, b_3.grad: 0.002877, b_4: 0.449, b_4.grad: -0.066668, b_5: 0.316, b_5.grad: 0.029338\n",
            "Epoch: 305, C: 0.327, b_0: 0.449, b_0.grad: 0.009006, b_1: 0.316, b_1.grad: -0.000354, b_2: -0.028, b_2.grad: -0.007809, b_3: 0.277, b_3.grad: 0.002906, b_4: 0.451, b_4.grad: -0.066624, b_5: 0.316, b_5.grad: 0.029133\n",
            "Epoch: 306, C: 0.327, b_0: 0.449, b_0.grad: 0.008955, b_1: 0.316, b_1.grad: -0.000336, b_2: -0.028, b_2.grad: -0.007765, b_3: 0.277, b_3.grad: 0.002934, b_4: 0.452, b_4.grad: -0.066580, b_5: 0.316, b_5.grad: 0.028929\n",
            "Epoch: 307, C: 0.327, b_0: 0.448, b_0.grad: 0.008904, b_1: 0.316, b_1.grad: -0.000319, b_2: -0.027, b_2.grad: -0.007721, b_3: 0.277, b_3.grad: 0.002961, b_4: 0.453, b_4.grad: -0.066536, b_5: 0.316, b_5.grad: 0.028727\n",
            "Epoch: 308, C: 0.327, b_0: 0.448, b_0.grad: 0.008854, b_1: 0.316, b_1.grad: -0.000301, b_2: -0.027, b_2.grad: -0.007678, b_3: 0.277, b_3.grad: 0.002990, b_4: 0.455, b_4.grad: -0.066492, b_5: 0.316, b_5.grad: 0.028526\n",
            "Epoch: 309, C: 0.327, b_0: 0.448, b_0.grad: 0.008803, b_1: 0.316, b_1.grad: -0.000284, b_2: -0.027, b_2.grad: -0.007635, b_3: 0.277, b_3.grad: 0.003018, b_4: 0.456, b_4.grad: -0.066448, b_5: 0.316, b_5.grad: 0.028326\n",
            "Epoch: 310, C: 0.327, b_0: 0.448, b_0.grad: 0.008753, b_1: 0.316, b_1.grad: -0.000268, b_2: -0.027, b_2.grad: -0.007592, b_3: 0.277, b_3.grad: 0.003045, b_4: 0.457, b_4.grad: -0.066405, b_5: 0.316, b_5.grad: 0.028127\n",
            "Epoch: 311, C: 0.326, b_0: 0.448, b_0.grad: 0.008704, b_1: 0.316, b_1.grad: -0.000251, b_2: -0.027, b_2.grad: -0.007550, b_3: 0.277, b_3.grad: 0.003073, b_4: 0.459, b_4.grad: -0.066361, b_5: 0.316, b_5.grad: 0.027930\n",
            "Epoch: 312, C: 0.326, b_0: 0.448, b_0.grad: 0.008654, b_1: 0.316, b_1.grad: -0.000235, b_2: -0.027, b_2.grad: -0.007508, b_3: 0.277, b_3.grad: 0.003100, b_4: 0.460, b_4.grad: -0.066317, b_5: 0.316, b_5.grad: 0.027734\n",
            "Epoch: 313, C: 0.326, b_0: 0.447, b_0.grad: 0.008605, b_1: 0.316, b_1.grad: -0.000218, b_2: -0.027, b_2.grad: -0.007467, b_3: 0.277, b_3.grad: 0.003128, b_4: 0.461, b_4.grad: -0.066274, b_5: 0.316, b_5.grad: 0.027539\n",
            "Epoch: 314, C: 0.326, b_0: 0.447, b_0.grad: 0.008556, b_1: 0.316, b_1.grad: -0.000203, b_2: -0.026, b_2.grad: -0.007425, b_3: 0.277, b_3.grad: 0.003155, b_4: 0.463, b_4.grad: -0.066231, b_5: 0.316, b_5.grad: 0.027346\n",
            "Epoch: 315, C: 0.326, b_0: 0.447, b_0.grad: 0.008507, b_1: 0.316, b_1.grad: -0.000187, b_2: -0.026, b_2.grad: -0.007385, b_3: 0.277, b_3.grad: 0.003183, b_4: 0.464, b_4.grad: -0.066187, b_5: 0.316, b_5.grad: 0.027154\n",
            "Epoch: 316, C: 0.326, b_0: 0.447, b_0.grad: 0.008458, b_1: 0.316, b_1.grad: -0.000171, b_2: -0.026, b_2.grad: -0.007344, b_3: 0.277, b_3.grad: 0.003210, b_4: 0.465, b_4.grad: -0.066144, b_5: 0.316, b_5.grad: 0.026963\n",
            "Epoch: 317, C: 0.326, b_0: 0.447, b_0.grad: 0.008410, b_1: 0.316, b_1.grad: -0.000156, b_2: -0.026, b_2.grad: -0.007303, b_3: 0.276, b_3.grad: 0.003237, b_4: 0.467, b_4.grad: -0.066101, b_5: 0.316, b_5.grad: 0.026773\n",
            "Epoch: 318, C: 0.326, b_0: 0.447, b_0.grad: 0.008362, b_1: 0.316, b_1.grad: -0.000141, b_2: -0.026, b_2.grad: -0.007263, b_3: 0.276, b_3.grad: 0.003265, b_4: 0.468, b_4.grad: -0.066058, b_5: 0.316, b_5.grad: 0.026584\n",
            "Epoch: 319, C: 0.326, b_0: 0.446, b_0.grad: 0.008314, b_1: 0.316, b_1.grad: -0.000126, b_2: -0.026, b_2.grad: -0.007224, b_3: 0.276, b_3.grad: 0.003291, b_4: 0.469, b_4.grad: -0.066015, b_5: 0.316, b_5.grad: 0.026397\n",
            "Epoch: 320, C: 0.326, b_0: 0.446, b_0.grad: 0.008267, b_1: 0.316, b_1.grad: -0.000111, b_2: -0.026, b_2.grad: -0.007184, b_3: 0.276, b_3.grad: 0.003318, b_4: 0.471, b_4.grad: -0.065972, b_5: 0.316, b_5.grad: 0.026211\n",
            "Epoch: 321, C: 0.325, b_0: 0.446, b_0.grad: 0.008219, b_1: 0.316, b_1.grad: -0.000097, b_2: -0.025, b_2.grad: -0.007145, b_3: 0.276, b_3.grad: 0.003345, b_4: 0.472, b_4.grad: -0.065930, b_5: 0.316, b_5.grad: 0.026026\n",
            "Epoch: 322, C: 0.325, b_0: 0.446, b_0.grad: 0.008172, b_1: 0.316, b_1.grad: -0.000083, b_2: -0.025, b_2.grad: -0.007107, b_3: 0.276, b_3.grad: 0.003371, b_4: 0.473, b_4.grad: -0.065887, b_5: 0.316, b_5.grad: 0.025842\n",
            "Epoch: 323, C: 0.325, b_0: 0.446, b_0.grad: 0.008125, b_1: 0.316, b_1.grad: -0.000069, b_2: -0.025, b_2.grad: -0.007068, b_3: 0.276, b_3.grad: 0.003398, b_4: 0.474, b_4.grad: -0.065844, b_5: 0.316, b_5.grad: 0.025659\n",
            "Epoch: 324, C: 0.325, b_0: 0.446, b_0.grad: 0.008079, b_1: 0.316, b_1.grad: -0.000055, b_2: -0.025, b_2.grad: -0.007029, b_3: 0.276, b_3.grad: 0.003425, b_4: 0.476, b_4.grad: -0.065802, b_5: 0.316, b_5.grad: 0.025478\n",
            "Epoch: 325, C: 0.325, b_0: 0.445, b_0.grad: 0.008032, b_1: 0.316, b_1.grad: -0.000041, b_2: -0.025, b_2.grad: -0.006991, b_3: 0.276, b_3.grad: 0.003451, b_4: 0.477, b_4.grad: -0.065760, b_5: 0.316, b_5.grad: 0.025297\n",
            "Epoch: 326, C: 0.325, b_0: 0.445, b_0.grad: 0.007986, b_1: 0.316, b_1.grad: -0.000027, b_2: -0.025, b_2.grad: -0.006954, b_3: 0.276, b_3.grad: 0.003478, b_4: 0.478, b_4.grad: -0.065717, b_5: 0.316, b_5.grad: 0.025118\n",
            "Epoch: 327, C: 0.325, b_0: 0.445, b_0.grad: 0.007940, b_1: 0.316, b_1.grad: -0.000014, b_2: -0.025, b_2.grad: -0.006917, b_3: 0.276, b_3.grad: 0.003504, b_4: 0.480, b_4.grad: -0.065675, b_5: 0.316, b_5.grad: 0.024940\n",
            "Epoch: 328, C: 0.325, b_0: 0.445, b_0.grad: 0.007895, b_1: 0.316, b_1.grad: -0.000001, b_2: -0.024, b_2.grad: -0.006879, b_3: 0.276, b_3.grad: 0.003530, b_4: 0.481, b_4.grad: -0.065633, b_5: 0.316, b_5.grad: 0.024763\n",
            "Epoch: 329, C: 0.325, b_0: 0.445, b_0.grad: 0.007849, b_1: 0.316, b_1.grad: 0.000012, b_2: -0.024, b_2.grad: -0.006843, b_3: 0.276, b_3.grad: 0.003556, b_4: 0.482, b_4.grad: -0.065591, b_5: 0.316, b_5.grad: 0.024587\n",
            "Epoch: 330, C: 0.325, b_0: 0.445, b_0.grad: 0.007804, b_1: 0.316, b_1.grad: 0.000025, b_2: -0.024, b_2.grad: -0.006806, b_3: 0.276, b_3.grad: 0.003582, b_4: 0.484, b_4.grad: -0.065549, b_5: 0.316, b_5.grad: 0.024413\n",
            "Epoch: 331, C: 0.324, b_0: 0.444, b_0.grad: 0.007759, b_1: 0.316, b_1.grad: 0.000037, b_2: -0.024, b_2.grad: -0.006770, b_3: 0.276, b_3.grad: 0.003607, b_4: 0.485, b_4.grad: -0.065508, b_5: 0.316, b_5.grad: 0.024239\n",
            "Epoch: 332, C: 0.324, b_0: 0.444, b_0.grad: 0.007714, b_1: 0.316, b_1.grad: 0.000050, b_2: -0.024, b_2.grad: -0.006734, b_3: 0.275, b_3.grad: 0.003633, b_4: 0.486, b_4.grad: -0.065466, b_5: 0.316, b_5.grad: 0.024067\n",
            "Epoch: 333, C: 0.324, b_0: 0.444, b_0.grad: 0.007670, b_1: 0.316, b_1.grad: 0.000062, b_2: -0.024, b_2.grad: -0.006698, b_3: 0.275, b_3.grad: 0.003658, b_4: 0.488, b_4.grad: -0.065424, b_5: 0.316, b_5.grad: 0.023895\n",
            "Epoch: 334, C: 0.324, b_0: 0.444, b_0.grad: 0.007625, b_1: 0.316, b_1.grad: 0.000074, b_2: -0.024, b_2.grad: -0.006662, b_3: 0.275, b_3.grad: 0.003684, b_4: 0.489, b_4.grad: -0.065383, b_5: 0.316, b_5.grad: 0.023725\n",
            "Epoch: 335, C: 0.324, b_0: 0.444, b_0.grad: 0.007581, b_1: 0.316, b_1.grad: 0.000086, b_2: -0.023, b_2.grad: -0.006627, b_3: 0.275, b_3.grad: 0.003709, b_4: 0.490, b_4.grad: -0.065341, b_5: 0.316, b_5.grad: 0.023556\n",
            "Epoch: 336, C: 0.324, b_0: 0.444, b_0.grad: 0.007537, b_1: 0.316, b_1.grad: 0.000097, b_2: -0.023, b_2.grad: -0.006592, b_3: 0.275, b_3.grad: 0.003734, b_4: 0.492, b_4.grad: -0.065300, b_5: 0.316, b_5.grad: 0.023388\n",
            "Epoch: 337, C: 0.324, b_0: 0.443, b_0.grad: 0.007494, b_1: 0.316, b_1.grad: 0.000109, b_2: -0.023, b_2.grad: -0.006557, b_3: 0.275, b_3.grad: 0.003759, b_4: 0.493, b_4.grad: -0.065259, b_5: 0.316, b_5.grad: 0.023221\n",
            "Epoch: 338, C: 0.324, b_0: 0.443, b_0.grad: 0.007450, b_1: 0.316, b_1.grad: 0.000120, b_2: -0.023, b_2.grad: -0.006522, b_3: 0.275, b_3.grad: 0.003784, b_4: 0.494, b_4.grad: -0.065217, b_5: 0.316, b_5.grad: 0.023055\n",
            "Epoch: 339, C: 0.324, b_0: 0.443, b_0.grad: 0.007407, b_1: 0.316, b_1.grad: 0.000132, b_2: -0.023, b_2.grad: -0.006488, b_3: 0.275, b_3.grad: 0.003809, b_4: 0.495, b_4.grad: -0.065176, b_5: 0.316, b_5.grad: 0.022890\n",
            "Epoch: 340, C: 0.324, b_0: 0.443, b_0.grad: 0.007364, b_1: 0.316, b_1.grad: 0.000143, b_2: -0.023, b_2.grad: -0.006454, b_3: 0.275, b_3.grad: 0.003834, b_4: 0.497, b_4.grad: -0.065135, b_5: 0.316, b_5.grad: 0.022726\n",
            "Epoch: 341, C: 0.323, b_0: 0.443, b_0.grad: 0.007321, b_1: 0.316, b_1.grad: 0.000154, b_2: -0.023, b_2.grad: -0.006420, b_3: 0.275, b_3.grad: 0.003858, b_4: 0.498, b_4.grad: -0.065094, b_5: 0.316, b_5.grad: 0.022563\n",
            "Epoch: 342, C: 0.323, b_0: 0.443, b_0.grad: 0.007278, b_1: 0.316, b_1.grad: 0.000164, b_2: -0.023, b_2.grad: -0.006387, b_3: 0.275, b_3.grad: 0.003883, b_4: 0.499, b_4.grad: -0.065054, b_5: 0.316, b_5.grad: 0.022402\n",
            "Epoch: 343, C: 0.323, b_0: 0.443, b_0.grad: 0.007236, b_1: 0.316, b_1.grad: 0.000175, b_2: -0.022, b_2.grad: -0.006353, b_3: 0.275, b_3.grad: 0.003907, b_4: 0.501, b_4.grad: -0.065013, b_5: 0.316, b_5.grad: 0.022241\n",
            "Epoch: 344, C: 0.323, b_0: 0.442, b_0.grad: 0.007194, b_1: 0.316, b_1.grad: 0.000185, b_2: -0.022, b_2.grad: -0.006320, b_3: 0.275, b_3.grad: 0.003931, b_4: 0.502, b_4.grad: -0.064972, b_5: 0.316, b_5.grad: 0.022081\n",
            "Epoch: 345, C: 0.323, b_0: 0.442, b_0.grad: 0.007152, b_1: 0.316, b_1.grad: 0.000196, b_2: -0.022, b_2.grad: -0.006287, b_3: 0.274, b_3.grad: 0.003956, b_4: 0.503, b_4.grad: -0.064932, b_5: 0.316, b_5.grad: 0.021922\n",
            "Epoch: 346, C: 0.323, b_0: 0.442, b_0.grad: 0.007110, b_1: 0.316, b_1.grad: 0.000206, b_2: -0.022, b_2.grad: -0.006255, b_3: 0.274, b_3.grad: 0.003979, b_4: 0.505, b_4.grad: -0.064891, b_5: 0.316, b_5.grad: 0.021765\n",
            "Epoch: 347, C: 0.323, b_0: 0.442, b_0.grad: 0.007069, b_1: 0.316, b_1.grad: 0.000216, b_2: -0.022, b_2.grad: -0.006222, b_3: 0.274, b_3.grad: 0.004003, b_4: 0.506, b_4.grad: -0.064851, b_5: 0.316, b_5.grad: 0.021608\n",
            "Epoch: 348, C: 0.323, b_0: 0.442, b_0.grad: 0.007027, b_1: 0.316, b_1.grad: 0.000225, b_2: -0.022, b_2.grad: -0.006190, b_3: 0.274, b_3.grad: 0.004027, b_4: 0.507, b_4.grad: -0.064810, b_5: 0.316, b_5.grad: 0.021452\n",
            "Epoch: 349, C: 0.323, b_0: 0.442, b_0.grad: 0.006986, b_1: 0.316, b_1.grad: 0.000235, b_2: -0.022, b_2.grad: -0.006157, b_3: 0.274, b_3.grad: 0.004051, b_4: 0.508, b_4.grad: -0.064770, b_5: 0.316, b_5.grad: 0.021298\n",
            "Epoch: 350, C: 0.323, b_0: 0.442, b_0.grad: 0.006945, b_1: 0.316, b_1.grad: 0.000245, b_2: -0.022, b_2.grad: -0.006125, b_3: 0.274, b_3.grad: 0.004074, b_4: 0.510, b_4.grad: -0.064730, b_5: 0.316, b_5.grad: 0.021144\n",
            "Epoch: 351, C: 0.322, b_0: 0.441, b_0.grad: 0.006904, b_1: 0.316, b_1.grad: 0.000254, b_2: -0.021, b_2.grad: -0.006094, b_3: 0.274, b_3.grad: 0.004098, b_4: 0.511, b_4.grad: -0.064690, b_5: 0.316, b_5.grad: 0.020991\n",
            "Epoch: 352, C: 0.322, b_0: 0.441, b_0.grad: 0.006864, b_1: 0.316, b_1.grad: 0.000263, b_2: -0.021, b_2.grad: -0.006063, b_3: 0.274, b_3.grad: 0.004121, b_4: 0.512, b_4.grad: -0.064650, b_5: 0.316, b_5.grad: 0.020840\n",
            "Epoch: 353, C: 0.322, b_0: 0.441, b_0.grad: 0.006824, b_1: 0.316, b_1.grad: 0.000273, b_2: -0.021, b_2.grad: -0.006031, b_3: 0.274, b_3.grad: 0.004144, b_4: 0.514, b_4.grad: -0.064610, b_5: 0.316, b_5.grad: 0.020689\n",
            "Epoch: 354, C: 0.322, b_0: 0.441, b_0.grad: 0.006783, b_1: 0.316, b_1.grad: 0.000282, b_2: -0.021, b_2.grad: -0.006000, b_3: 0.274, b_3.grad: 0.004167, b_4: 0.515, b_4.grad: -0.064570, b_5: 0.316, b_5.grad: 0.020539\n",
            "Epoch: 355, C: 0.322, b_0: 0.441, b_0.grad: 0.006744, b_1: 0.316, b_1.grad: 0.000290, b_2: -0.021, b_2.grad: -0.005969, b_3: 0.274, b_3.grad: 0.004190, b_4: 0.516, b_4.grad: -0.064531, b_5: 0.316, b_5.grad: 0.020390\n",
            "Epoch: 356, C: 0.322, b_0: 0.441, b_0.grad: 0.006704, b_1: 0.316, b_1.grad: 0.000299, b_2: -0.021, b_2.grad: -0.005939, b_3: 0.274, b_3.grad: 0.004213, b_4: 0.517, b_4.grad: -0.064491, b_5: 0.316, b_5.grad: 0.020242\n",
            "Epoch: 357, C: 0.322, b_0: 0.441, b_0.grad: 0.006664, b_1: 0.316, b_1.grad: 0.000308, b_2: -0.021, b_2.grad: -0.005909, b_3: 0.273, b_3.grad: 0.004235, b_4: 0.519, b_4.grad: -0.064451, b_5: 0.316, b_5.grad: 0.020095\n",
            "Epoch: 358, C: 0.322, b_0: 0.441, b_0.grad: 0.006625, b_1: 0.316, b_1.grad: 0.000316, b_2: -0.021, b_2.grad: -0.005879, b_3: 0.273, b_3.grad: 0.004258, b_4: 0.520, b_4.grad: -0.064412, b_5: 0.316, b_5.grad: 0.019949\n",
            "Epoch: 359, C: 0.322, b_0: 0.440, b_0.grad: 0.006586, b_1: 0.316, b_1.grad: 0.000324, b_2: -0.020, b_2.grad: -0.005848, b_3: 0.273, b_3.grad: 0.004280, b_4: 0.521, b_4.grad: -0.064373, b_5: 0.316, b_5.grad: 0.019804\n",
            "Epoch: 360, C: 0.322, b_0: 0.440, b_0.grad: 0.006547, b_1: 0.316, b_1.grad: 0.000333, b_2: -0.020, b_2.grad: -0.005819, b_3: 0.273, b_3.grad: 0.004303, b_4: 0.523, b_4.grad: -0.064333, b_5: 0.316, b_5.grad: 0.019660\n",
            "Epoch: 361, C: 0.322, b_0: 0.440, b_0.grad: 0.006508, b_1: 0.316, b_1.grad: 0.000341, b_2: -0.020, b_2.grad: -0.005789, b_3: 0.273, b_3.grad: 0.004325, b_4: 0.524, b_4.grad: -0.064294, b_5: 0.316, b_5.grad: 0.019517\n",
            "Epoch: 362, C: 0.321, b_0: 0.440, b_0.grad: 0.006469, b_1: 0.316, b_1.grad: 0.000349, b_2: -0.020, b_2.grad: -0.005760, b_3: 0.273, b_3.grad: 0.004347, b_4: 0.525, b_4.grad: -0.064255, b_5: 0.316, b_5.grad: 0.019375\n",
            "Epoch: 363, C: 0.321, b_0: 0.440, b_0.grad: 0.006431, b_1: 0.316, b_1.grad: 0.000356, b_2: -0.020, b_2.grad: -0.005731, b_3: 0.273, b_3.grad: 0.004369, b_4: 0.526, b_4.grad: -0.064216, b_5: 0.316, b_5.grad: 0.019233\n",
            "Epoch: 364, C: 0.321, b_0: 0.440, b_0.grad: 0.006393, b_1: 0.316, b_1.grad: 0.000364, b_2: -0.020, b_2.grad: -0.005702, b_3: 0.273, b_3.grad: 0.004390, b_4: 0.528, b_4.grad: -0.064177, b_5: 0.316, b_5.grad: 0.019093\n",
            "Epoch: 365, C: 0.321, b_0: 0.440, b_0.grad: 0.006355, b_1: 0.316, b_1.grad: 0.000372, b_2: -0.020, b_2.grad: -0.005673, b_3: 0.273, b_3.grad: 0.004412, b_4: 0.529, b_4.grad: -0.064138, b_5: 0.316, b_5.grad: 0.018953\n",
            "Epoch: 366, C: 0.321, b_0: 0.439, b_0.grad: 0.006317, b_1: 0.316, b_1.grad: 0.000379, b_2: -0.020, b_2.grad: -0.005644, b_3: 0.273, b_3.grad: 0.004433, b_4: 0.530, b_4.grad: -0.064099, b_5: 0.316, b_5.grad: 0.018814\n",
            "Epoch: 367, C: 0.321, b_0: 0.439, b_0.grad: 0.006279, b_1: 0.316, b_1.grad: 0.000387, b_2: -0.020, b_2.grad: -0.005616, b_3: 0.273, b_3.grad: 0.004455, b_4: 0.532, b_4.grad: -0.064060, b_5: 0.316, b_5.grad: 0.018677\n",
            "Epoch: 368, C: 0.321, b_0: 0.439, b_0.grad: 0.006242, b_1: 0.316, b_1.grad: 0.000394, b_2: -0.019, b_2.grad: -0.005588, b_3: 0.273, b_3.grad: 0.004476, b_4: 0.533, b_4.grad: -0.064022, b_5: 0.316, b_5.grad: 0.018540\n",
            "Epoch: 369, C: 0.321, b_0: 0.439, b_0.grad: 0.006204, b_1: 0.316, b_1.grad: 0.000401, b_2: -0.019, b_2.grad: -0.005560, b_3: 0.272, b_3.grad: 0.004497, b_4: 0.534, b_4.grad: -0.063983, b_5: 0.316, b_5.grad: 0.018403\n",
            "Epoch: 370, C: 0.321, b_0: 0.439, b_0.grad: 0.006167, b_1: 0.316, b_1.grad: 0.000408, b_2: -0.019, b_2.grad: -0.005532, b_3: 0.272, b_3.grad: 0.004518, b_4: 0.535, b_4.grad: -0.063945, b_5: 0.316, b_5.grad: 0.018268\n",
            "Epoch: 371, C: 0.321, b_0: 0.439, b_0.grad: 0.006130, b_1: 0.316, b_1.grad: 0.000415, b_2: -0.019, b_2.grad: -0.005504, b_3: 0.272, b_3.grad: 0.004539, b_4: 0.537, b_4.grad: -0.063906, b_5: 0.316, b_5.grad: 0.018134\n",
            "Epoch: 372, C: 0.321, b_0: 0.439, b_0.grad: 0.006094, b_1: 0.316, b_1.grad: 0.000422, b_2: -0.019, b_2.grad: -0.005476, b_3: 0.272, b_3.grad: 0.004560, b_4: 0.538, b_4.grad: -0.063868, b_5: 0.316, b_5.grad: 0.018001\n",
            "Epoch: 373, C: 0.320, b_0: 0.439, b_0.grad: 0.006057, b_1: 0.316, b_1.grad: 0.000428, b_2: -0.019, b_2.grad: -0.005448, b_3: 0.272, b_3.grad: 0.004581, b_4: 0.539, b_4.grad: -0.063830, b_5: 0.316, b_5.grad: 0.017868\n",
            "Epoch: 374, C: 0.320, b_0: 0.438, b_0.grad: 0.006021, b_1: 0.316, b_1.grad: 0.000435, b_2: -0.019, b_2.grad: -0.005421, b_3: 0.272, b_3.grad: 0.004601, b_4: 0.541, b_4.grad: -0.063791, b_5: 0.316, b_5.grad: 0.017736\n",
            "Epoch: 375, C: 0.320, b_0: 0.438, b_0.grad: 0.005985, b_1: 0.316, b_1.grad: 0.000441, b_2: -0.019, b_2.grad: -0.005394, b_3: 0.272, b_3.grad: 0.004621, b_4: 0.542, b_4.grad: -0.063753, b_5: 0.316, b_5.grad: 0.017605\n",
            "Epoch: 376, C: 0.320, b_0: 0.438, b_0.grad: 0.005949, b_1: 0.316, b_1.grad: 0.000448, b_2: -0.019, b_2.grad: -0.005367, b_3: 0.272, b_3.grad: 0.004642, b_4: 0.543, b_4.grad: -0.063715, b_5: 0.316, b_5.grad: 0.017475\n",
            "Epoch: 377, C: 0.320, b_0: 0.438, b_0.grad: 0.005913, b_1: 0.316, b_1.grad: 0.000454, b_2: -0.018, b_2.grad: -0.005341, b_3: 0.272, b_3.grad: 0.004662, b_4: 0.544, b_4.grad: -0.063677, b_5: 0.316, b_5.grad: 0.017346\n",
            "Epoch: 378, C: 0.320, b_0: 0.438, b_0.grad: 0.005877, b_1: 0.316, b_1.grad: 0.000460, b_2: -0.018, b_2.grad: -0.005314, b_3: 0.272, b_3.grad: 0.004682, b_4: 0.546, b_4.grad: -0.063639, b_5: 0.316, b_5.grad: 0.017217\n",
            "Epoch: 379, C: 0.320, b_0: 0.438, b_0.grad: 0.005842, b_1: 0.316, b_1.grad: 0.000466, b_2: -0.018, b_2.grad: -0.005288, b_3: 0.272, b_3.grad: 0.004702, b_4: 0.547, b_4.grad: -0.063602, b_5: 0.316, b_5.grad: 0.017090\n",
            "Epoch: 380, C: 0.320, b_0: 0.438, b_0.grad: 0.005806, b_1: 0.316, b_1.grad: 0.000472, b_2: -0.018, b_2.grad: -0.005261, b_3: 0.271, b_3.grad: 0.004722, b_4: 0.548, b_4.grad: -0.063564, b_5: 0.316, b_5.grad: 0.016963\n",
            "Epoch: 381, C: 0.320, b_0: 0.438, b_0.grad: 0.005771, b_1: 0.316, b_1.grad: 0.000478, b_2: -0.018, b_2.grad: -0.005236, b_3: 0.271, b_3.grad: 0.004741, b_4: 0.549, b_4.grad: -0.063526, b_5: 0.316, b_5.grad: 0.016837\n",
            "Epoch: 382, C: 0.320, b_0: 0.438, b_0.grad: 0.005736, b_1: 0.316, b_1.grad: 0.000484, b_2: -0.018, b_2.grad: -0.005210, b_3: 0.271, b_3.grad: 0.004761, b_4: 0.551, b_4.grad: -0.063489, b_5: 0.316, b_5.grad: 0.016712\n",
            "Epoch: 383, C: 0.320, b_0: 0.437, b_0.grad: 0.005701, b_1: 0.316, b_1.grad: 0.000489, b_2: -0.018, b_2.grad: -0.005184, b_3: 0.271, b_3.grad: 0.004780, b_4: 0.552, b_4.grad: -0.063451, b_5: 0.316, b_5.grad: 0.016587\n",
            "Epoch: 384, C: 0.319, b_0: 0.437, b_0.grad: 0.005667, b_1: 0.316, b_1.grad: 0.000495, b_2: -0.018, b_2.grad: -0.005158, b_3: 0.271, b_3.grad: 0.004800, b_4: 0.553, b_4.grad: -0.063414, b_5: 0.316, b_5.grad: 0.016464\n",
            "Epoch: 385, C: 0.319, b_0: 0.437, b_0.grad: 0.005632, b_1: 0.316, b_1.grad: 0.000500, b_2: -0.018, b_2.grad: -0.005133, b_3: 0.271, b_3.grad: 0.004819, b_4: 0.555, b_4.grad: -0.063376, b_5: 0.316, b_5.grad: 0.016341\n",
            "Epoch: 386, C: 0.319, b_0: 0.437, b_0.grad: 0.005598, b_1: 0.316, b_1.grad: 0.000506, b_2: -0.017, b_2.grad: -0.005108, b_3: 0.271, b_3.grad: 0.004838, b_4: 0.556, b_4.grad: -0.063339, b_5: 0.316, b_5.grad: 0.016219\n",
            "Epoch: 387, C: 0.319, b_0: 0.437, b_0.grad: 0.005564, b_1: 0.316, b_1.grad: 0.000511, b_2: -0.017, b_2.grad: -0.005082, b_3: 0.271, b_3.grad: 0.004857, b_4: 0.557, b_4.grad: -0.063302, b_5: 0.316, b_5.grad: 0.016098\n",
            "Epoch: 388, C: 0.319, b_0: 0.437, b_0.grad: 0.005530, b_1: 0.316, b_1.grad: 0.000516, b_2: -0.017, b_2.grad: -0.005057, b_3: 0.271, b_3.grad: 0.004876, b_4: 0.558, b_4.grad: -0.063265, b_5: 0.316, b_5.grad: 0.015977\n",
            "Epoch: 389, C: 0.319, b_0: 0.437, b_0.grad: 0.005496, b_1: 0.316, b_1.grad: 0.000521, b_2: -0.017, b_2.grad: -0.005032, b_3: 0.271, b_3.grad: 0.004895, b_4: 0.560, b_4.grad: -0.063228, b_5: 0.316, b_5.grad: 0.015858\n",
            "Epoch: 390, C: 0.319, b_0: 0.437, b_0.grad: 0.005462, b_1: 0.316, b_1.grad: 0.000526, b_2: -0.017, b_2.grad: -0.005008, b_3: 0.270, b_3.grad: 0.004913, b_4: 0.561, b_4.grad: -0.063191, b_5: 0.316, b_5.grad: 0.015739\n",
            "Epoch: 391, C: 0.319, b_0: 0.437, b_0.grad: 0.005429, b_1: 0.316, b_1.grad: 0.000531, b_2: -0.017, b_2.grad: -0.004983, b_3: 0.270, b_3.grad: 0.004932, b_4: 0.562, b_4.grad: -0.063154, b_5: 0.316, b_5.grad: 0.015620\n",
            "Epoch: 392, C: 0.319, b_0: 0.436, b_0.grad: 0.005395, b_1: 0.316, b_1.grad: 0.000536, b_2: -0.017, b_2.grad: -0.004959, b_3: 0.270, b_3.grad: 0.004950, b_4: 0.563, b_4.grad: -0.063117, b_5: 0.316, b_5.grad: 0.015503\n",
            "Epoch: 393, C: 0.319, b_0: 0.436, b_0.grad: 0.005362, b_1: 0.316, b_1.grad: 0.000541, b_2: -0.017, b_2.grad: -0.004935, b_3: 0.270, b_3.grad: 0.004968, b_4: 0.565, b_4.grad: -0.063080, b_5: 0.316, b_5.grad: 0.015386\n",
            "Epoch: 394, C: 0.319, b_0: 0.436, b_0.grad: 0.005329, b_1: 0.316, b_1.grad: 0.000545, b_2: -0.017, b_2.grad: -0.004911, b_3: 0.270, b_3.grad: 0.004987, b_4: 0.566, b_4.grad: -0.063043, b_5: 0.316, b_5.grad: 0.015270\n",
            "Epoch: 395, C: 0.319, b_0: 0.436, b_0.grad: 0.005296, b_1: 0.316, b_1.grad: 0.000550, b_2: -0.017, b_2.grad: -0.004887, b_3: 0.270, b_3.grad: 0.005005, b_4: 0.567, b_4.grad: -0.063007, b_5: 0.316, b_5.grad: 0.015155\n",
            "Epoch: 396, C: 0.318, b_0: 0.436, b_0.grad: 0.005264, b_1: 0.316, b_1.grad: 0.000554, b_2: -0.016, b_2.grad: -0.004863, b_3: 0.270, b_3.grad: 0.005022, b_4: 0.568, b_4.grad: -0.062970, b_5: 0.316, b_5.grad: 0.015041\n",
            "Epoch: 397, C: 0.318, b_0: 0.436, b_0.grad: 0.005231, b_1: 0.316, b_1.grad: 0.000559, b_2: -0.016, b_2.grad: -0.004839, b_3: 0.270, b_3.grad: 0.005041, b_4: 0.570, b_4.grad: -0.062933, b_5: 0.316, b_5.grad: 0.014927\n",
            "Epoch: 398, C: 0.318, b_0: 0.436, b_0.grad: 0.005199, b_1: 0.316, b_1.grad: 0.000563, b_2: -0.016, b_2.grad: -0.004816, b_3: 0.270, b_3.grad: 0.005058, b_4: 0.571, b_4.grad: -0.062897, b_5: 0.316, b_5.grad: 0.014814\n",
            "Epoch: 399, C: 0.318, b_0: 0.436, b_0.grad: 0.005166, b_1: 0.316, b_1.grad: 0.000567, b_2: -0.016, b_2.grad: -0.004793, b_3: 0.270, b_3.grad: 0.005076, b_4: 0.572, b_4.grad: -0.062861, b_5: 0.316, b_5.grad: 0.014702\n",
            "Epoch: 400, C: 0.318, b_0: 0.436, b_0.grad: 0.005134, b_1: 0.316, b_1.grad: 0.000572, b_2: -0.016, b_2.grad: -0.004769, b_3: 0.269, b_3.grad: 0.005093, b_4: 0.574, b_4.grad: -0.062824, b_5: 0.316, b_5.grad: 0.014590\n",
            "Epoch: 401, C: 0.318, b_0: 0.435, b_0.grad: 0.005102, b_1: 0.316, b_1.grad: 0.000576, b_2: -0.016, b_2.grad: -0.004746, b_3: 0.269, b_3.grad: 0.005110, b_4: 0.575, b_4.grad: -0.062788, b_5: 0.316, b_5.grad: 0.014480\n",
            "Epoch: 402, C: 0.318, b_0: 0.435, b_0.grad: 0.005071, b_1: 0.316, b_1.grad: 0.000580, b_2: -0.016, b_2.grad: -0.004724, b_3: 0.269, b_3.grad: 0.005128, b_4: 0.576, b_4.grad: -0.062752, b_5: 0.316, b_5.grad: 0.014369\n",
            "Epoch: 403, C: 0.318, b_0: 0.435, b_0.grad: 0.005039, b_1: 0.316, b_1.grad: 0.000584, b_2: -0.016, b_2.grad: -0.004701, b_3: 0.269, b_3.grad: 0.005145, b_4: 0.577, b_4.grad: -0.062716, b_5: 0.316, b_5.grad: 0.014260\n",
            "Epoch: 404, C: 0.318, b_0: 0.435, b_0.grad: 0.005008, b_1: 0.316, b_1.grad: 0.000588, b_2: -0.016, b_2.grad: -0.004678, b_3: 0.269, b_3.grad: 0.005162, b_4: 0.579, b_4.grad: -0.062680, b_5: 0.316, b_5.grad: 0.014151\n",
            "Epoch: 405, C: 0.318, b_0: 0.435, b_0.grad: 0.004976, b_1: 0.316, b_1.grad: 0.000591, b_2: -0.016, b_2.grad: -0.004655, b_3: 0.269, b_3.grad: 0.005179, b_4: 0.580, b_4.grad: -0.062644, b_5: 0.316, b_5.grad: 0.014043\n",
            "Epoch: 406, C: 0.318, b_0: 0.435, b_0.grad: 0.004945, b_1: 0.316, b_1.grad: 0.000595, b_2: -0.016, b_2.grad: -0.004633, b_3: 0.269, b_3.grad: 0.005196, b_4: 0.581, b_4.grad: -0.062608, b_5: 0.316, b_5.grad: 0.013936\n",
            "Epoch: 407, C: 0.317, b_0: 0.435, b_0.grad: 0.004914, b_1: 0.316, b_1.grad: 0.000599, b_2: -0.015, b_2.grad: -0.004611, b_3: 0.269, b_3.grad: 0.005212, b_4: 0.582, b_4.grad: -0.062572, b_5: 0.316, b_5.grad: 0.013829\n",
            "Epoch: 408, C: 0.317, b_0: 0.435, b_0.grad: 0.004883, b_1: 0.316, b_1.grad: 0.000602, b_2: -0.015, b_2.grad: -0.004589, b_3: 0.269, b_3.grad: 0.005229, b_4: 0.584, b_4.grad: -0.062536, b_5: 0.316, b_5.grad: 0.013723\n",
            "Epoch: 409, C: 0.317, b_0: 0.435, b_0.grad: 0.004852, b_1: 0.316, b_1.grad: 0.000606, b_2: -0.015, b_2.grad: -0.004567, b_3: 0.269, b_3.grad: 0.005245, b_4: 0.585, b_4.grad: -0.062501, b_5: 0.316, b_5.grad: 0.013618\n",
            "Epoch: 410, C: 0.317, b_0: 0.435, b_0.grad: 0.004822, b_1: 0.316, b_1.grad: 0.000609, b_2: -0.015, b_2.grad: -0.004545, b_3: 0.268, b_3.grad: 0.005262, b_4: 0.586, b_4.grad: -0.062465, b_5: 0.316, b_5.grad: 0.013514\n",
            "Epoch: 411, C: 0.317, b_0: 0.434, b_0.grad: 0.004791, b_1: 0.316, b_1.grad: 0.000613, b_2: -0.015, b_2.grad: -0.004523, b_3: 0.268, b_3.grad: 0.005278, b_4: 0.587, b_4.grad: -0.062429, b_5: 0.316, b_5.grad: 0.013410\n",
            "Epoch: 412, C: 0.317, b_0: 0.434, b_0.grad: 0.004761, b_1: 0.316, b_1.grad: 0.000616, b_2: -0.015, b_2.grad: -0.004501, b_3: 0.268, b_3.grad: 0.005294, b_4: 0.589, b_4.grad: -0.062394, b_5: 0.316, b_5.grad: 0.013306\n",
            "Epoch: 413, C: 0.317, b_0: 0.434, b_0.grad: 0.004731, b_1: 0.316, b_1.grad: 0.000619, b_2: -0.015, b_2.grad: -0.004480, b_3: 0.268, b_3.grad: 0.005310, b_4: 0.590, b_4.grad: -0.062359, b_5: 0.316, b_5.grad: 0.013204\n",
            "Epoch: 414, C: 0.317, b_0: 0.434, b_0.grad: 0.004701, b_1: 0.316, b_1.grad: 0.000623, b_2: -0.015, b_2.grad: -0.004459, b_3: 0.268, b_3.grad: 0.005326, b_4: 0.591, b_4.grad: -0.062323, b_5: 0.316, b_5.grad: 0.013102\n",
            "Epoch: 415, C: 0.317, b_0: 0.434, b_0.grad: 0.004671, b_1: 0.316, b_1.grad: 0.000626, b_2: -0.015, b_2.grad: -0.004437, b_3: 0.268, b_3.grad: 0.005342, b_4: 0.592, b_4.grad: -0.062288, b_5: 0.316, b_5.grad: 0.013001\n",
            "Epoch: 416, C: 0.317, b_0: 0.434, b_0.grad: 0.004641, b_1: 0.316, b_1.grad: 0.000629, b_2: -0.015, b_2.grad: -0.004416, b_3: 0.268, b_3.grad: 0.005357, b_4: 0.594, b_4.grad: -0.062253, b_5: 0.316, b_5.grad: 0.012900\n",
            "Epoch: 417, C: 0.317, b_0: 0.434, b_0.grad: 0.004612, b_1: 0.316, b_1.grad: 0.000632, b_2: -0.015, b_2.grad: -0.004395, b_3: 0.268, b_3.grad: 0.005373, b_4: 0.595, b_4.grad: -0.062217, b_5: 0.316, b_5.grad: 0.012800\n",
            "Epoch: 418, C: 0.317, b_0: 0.434, b_0.grad: 0.004582, b_1: 0.316, b_1.grad: 0.000635, b_2: -0.014, b_2.grad: -0.004374, b_3: 0.268, b_3.grad: 0.005389, b_4: 0.596, b_4.grad: -0.062182, b_5: 0.316, b_5.grad: 0.012701\n",
            "Epoch: 419, C: 0.317, b_0: 0.434, b_0.grad: 0.004553, b_1: 0.316, b_1.grad: 0.000638, b_2: -0.014, b_2.grad: -0.004353, b_3: 0.267, b_3.grad: 0.005404, b_4: 0.597, b_4.grad: -0.062147, b_5: 0.316, b_5.grad: 0.012602\n",
            "Epoch: 420, C: 0.316, b_0: 0.434, b_0.grad: 0.004524, b_1: 0.316, b_1.grad: 0.000641, b_2: -0.014, b_2.grad: -0.004333, b_3: 0.267, b_3.grad: 0.005419, b_4: 0.599, b_4.grad: -0.062112, b_5: 0.316, b_5.grad: 0.012504\n",
            "Epoch: 421, C: 0.316, b_0: 0.434, b_0.grad: 0.004495, b_1: 0.316, b_1.grad: 0.000643, b_2: -0.014, b_2.grad: -0.004313, b_3: 0.267, b_3.grad: 0.005434, b_4: 0.600, b_4.grad: -0.062077, b_5: 0.316, b_5.grad: 0.012407\n",
            "Epoch: 422, C: 0.316, b_0: 0.433, b_0.grad: 0.004466, b_1: 0.316, b_1.grad: 0.000646, b_2: -0.014, b_2.grad: -0.004292, b_3: 0.267, b_3.grad: 0.005450, b_4: 0.601, b_4.grad: -0.062042, b_5: 0.316, b_5.grad: 0.012310\n",
            "Epoch: 423, C: 0.316, b_0: 0.433, b_0.grad: 0.004437, b_1: 0.316, b_1.grad: 0.000649, b_2: -0.014, b_2.grad: -0.004272, b_3: 0.267, b_3.grad: 0.005465, b_4: 0.602, b_4.grad: -0.062008, b_5: 0.316, b_5.grad: 0.012214\n",
            "Epoch: 424, C: 0.316, b_0: 0.433, b_0.grad: 0.004409, b_1: 0.316, b_1.grad: 0.000651, b_2: -0.014, b_2.grad: -0.004252, b_3: 0.267, b_3.grad: 0.005480, b_4: 0.603, b_4.grad: -0.061973, b_5: 0.316, b_5.grad: 0.012118\n",
            "Epoch: 425, C: 0.316, b_0: 0.433, b_0.grad: 0.004380, b_1: 0.316, b_1.grad: 0.000654, b_2: -0.014, b_2.grad: -0.004232, b_3: 0.267, b_3.grad: 0.005495, b_4: 0.605, b_4.grad: -0.061938, b_5: 0.316, b_5.grad: 0.012023\n",
            "Epoch: 426, C: 0.316, b_0: 0.433, b_0.grad: 0.004352, b_1: 0.316, b_1.grad: 0.000656, b_2: -0.014, b_2.grad: -0.004212, b_3: 0.267, b_3.grad: 0.005509, b_4: 0.606, b_4.grad: -0.061904, b_5: 0.316, b_5.grad: 0.011929\n",
            "Epoch: 427, C: 0.316, b_0: 0.433, b_0.grad: 0.004324, b_1: 0.316, b_1.grad: 0.000659, b_2: -0.014, b_2.grad: -0.004192, b_3: 0.267, b_3.grad: 0.005524, b_4: 0.607, b_4.grad: -0.061869, b_5: 0.316, b_5.grad: 0.011835\n",
            "Epoch: 428, C: 0.316, b_0: 0.433, b_0.grad: 0.004295, b_1: 0.316, b_1.grad: 0.000661, b_2: -0.014, b_2.grad: -0.004172, b_3: 0.266, b_3.grad: 0.005538, b_4: 0.608, b_4.grad: -0.061835, b_5: 0.316, b_5.grad: 0.011742\n",
            "Epoch: 429, C: 0.316, b_0: 0.433, b_0.grad: 0.004267, b_1: 0.316, b_1.grad: 0.000663, b_2: -0.013, b_2.grad: -0.004153, b_3: 0.266, b_3.grad: 0.005552, b_4: 0.610, b_4.grad: -0.061800, b_5: 0.316, b_5.grad: 0.011649\n",
            "Epoch: 430, C: 0.316, b_0: 0.433, b_0.grad: 0.004240, b_1: 0.316, b_1.grad: 0.000666, b_2: -0.013, b_2.grad: -0.004133, b_3: 0.266, b_3.grad: 0.005567, b_4: 0.611, b_4.grad: -0.061766, b_5: 0.316, b_5.grad: 0.011557\n",
            "Epoch: 431, C: 0.316, b_0: 0.433, b_0.grad: 0.004212, b_1: 0.316, b_1.grad: 0.000668, b_2: -0.013, b_2.grad: -0.004114, b_3: 0.266, b_3.grad: 0.005581, b_4: 0.612, b_4.grad: -0.061731, b_5: 0.316, b_5.grad: 0.011466\n",
            "Epoch: 432, C: 0.315, b_0: 0.433, b_0.grad: 0.004184, b_1: 0.316, b_1.grad: 0.000670, b_2: -0.013, b_2.grad: -0.004095, b_3: 0.266, b_3.grad: 0.005595, b_4: 0.613, b_4.grad: -0.061697, b_5: 0.316, b_5.grad: 0.011375\n",
            "Epoch: 433, C: 0.315, b_0: 0.433, b_0.grad: 0.004157, b_1: 0.316, b_1.grad: 0.000672, b_2: -0.013, b_2.grad: -0.004076, b_3: 0.266, b_3.grad: 0.005609, b_4: 0.615, b_4.grad: -0.061663, b_5: 0.316, b_5.grad: 0.011285\n",
            "Epoch: 434, C: 0.315, b_0: 0.432, b_0.grad: 0.004130, b_1: 0.316, b_1.grad: 0.000674, b_2: -0.013, b_2.grad: -0.004057, b_3: 0.266, b_3.grad: 0.005623, b_4: 0.616, b_4.grad: -0.061629, b_5: 0.316, b_5.grad: 0.011195\n",
            "Epoch: 435, C: 0.315, b_0: 0.432, b_0.grad: 0.004102, b_1: 0.316, b_1.grad: 0.000676, b_2: -0.013, b_2.grad: -0.004038, b_3: 0.266, b_3.grad: 0.005637, b_4: 0.617, b_4.grad: -0.061595, b_5: 0.316, b_5.grad: 0.011106\n",
            "Epoch: 436, C: 0.315, b_0: 0.432, b_0.grad: 0.004075, b_1: 0.316, b_1.grad: 0.000678, b_2: -0.013, b_2.grad: -0.004019, b_3: 0.266, b_3.grad: 0.005650, b_4: 0.618, b_4.grad: -0.061561, b_5: 0.316, b_5.grad: 0.011018\n",
            "Epoch: 437, C: 0.315, b_0: 0.432, b_0.grad: 0.004048, b_1: 0.315, b_1.grad: 0.000680, b_2: -0.013, b_2.grad: -0.004000, b_3: 0.265, b_3.grad: 0.005664, b_4: 0.620, b_4.grad: -0.061527, b_5: 0.315, b_5.grad: 0.010930\n",
            "Epoch: 438, C: 0.315, b_0: 0.432, b_0.grad: 0.004022, b_1: 0.315, b_1.grad: 0.000682, b_2: -0.013, b_2.grad: -0.003982, b_3: 0.265, b_3.grad: 0.005678, b_4: 0.621, b_4.grad: -0.061493, b_5: 0.315, b_5.grad: 0.010843\n",
            "Epoch: 439, C: 0.315, b_0: 0.432, b_0.grad: 0.003995, b_1: 0.315, b_1.grad: 0.000684, b_2: -0.013, b_2.grad: -0.003963, b_3: 0.265, b_3.grad: 0.005691, b_4: 0.622, b_4.grad: -0.061459, b_5: 0.315, b_5.grad: 0.010756\n",
            "Epoch: 440, C: 0.315, b_0: 0.432, b_0.grad: 0.003968, b_1: 0.315, b_1.grad: 0.000686, b_2: -0.013, b_2.grad: -0.003945, b_3: 0.265, b_3.grad: 0.005704, b_4: 0.623, b_4.grad: -0.061425, b_5: 0.315, b_5.grad: 0.010670\n",
            "Epoch: 441, C: 0.315, b_0: 0.432, b_0.grad: 0.003942, b_1: 0.315, b_1.grad: 0.000687, b_2: -0.013, b_2.grad: -0.003927, b_3: 0.265, b_3.grad: 0.005718, b_4: 0.624, b_4.grad: -0.061391, b_5: 0.315, b_5.grad: 0.010584\n",
            "Epoch: 442, C: 0.315, b_0: 0.432, b_0.grad: 0.003916, b_1: 0.315, b_1.grad: 0.000689, b_2: -0.012, b_2.grad: -0.003908, b_3: 0.265, b_3.grad: 0.005731, b_4: 0.626, b_4.grad: -0.061358, b_5: 0.315, b_5.grad: 0.010499\n",
            "Epoch: 443, C: 0.315, b_0: 0.432, b_0.grad: 0.003889, b_1: 0.315, b_1.grad: 0.000691, b_2: -0.012, b_2.grad: -0.003890, b_3: 0.265, b_3.grad: 0.005744, b_4: 0.627, b_4.grad: -0.061324, b_5: 0.315, b_5.grad: 0.010415\n",
            "Epoch: 444, C: 0.314, b_0: 0.432, b_0.grad: 0.003863, b_1: 0.315, b_1.grad: 0.000692, b_2: -0.012, b_2.grad: -0.003873, b_3: 0.265, b_3.grad: 0.005756, b_4: 0.628, b_4.grad: -0.061290, b_5: 0.315, b_5.grad: 0.010330\n",
            "Epoch: 445, C: 0.314, b_0: 0.432, b_0.grad: 0.003837, b_1: 0.315, b_1.grad: 0.000694, b_2: -0.012, b_2.grad: -0.003855, b_3: 0.265, b_3.grad: 0.005769, b_4: 0.629, b_4.grad: -0.061257, b_5: 0.315, b_5.grad: 0.010247\n",
            "Epoch: 446, C: 0.314, b_0: 0.431, b_0.grad: 0.003811, b_1: 0.315, b_1.grad: 0.000695, b_2: -0.012, b_2.grad: -0.003837, b_3: 0.264, b_3.grad: 0.005782, b_4: 0.631, b_4.grad: -0.061223, b_5: 0.315, b_5.grad: 0.010164\n",
            "Epoch: 447, C: 0.314, b_0: 0.431, b_0.grad: 0.003786, b_1: 0.315, b_1.grad: 0.000697, b_2: -0.012, b_2.grad: -0.003819, b_3: 0.264, b_3.grad: 0.005795, b_4: 0.632, b_4.grad: -0.061190, b_5: 0.315, b_5.grad: 0.010082\n",
            "Epoch: 448, C: 0.314, b_0: 0.431, b_0.grad: 0.003760, b_1: 0.315, b_1.grad: 0.000698, b_2: -0.012, b_2.grad: -0.003802, b_3: 0.264, b_3.grad: 0.005807, b_4: 0.633, b_4.grad: -0.061157, b_5: 0.315, b_5.grad: 0.010000\n",
            "Epoch: 449, C: 0.314, b_0: 0.431, b_0.grad: 0.003735, b_1: 0.315, b_1.grad: 0.000700, b_2: -0.012, b_2.grad: -0.003784, b_3: 0.264, b_3.grad: 0.005820, b_4: 0.634, b_4.grad: -0.061123, b_5: 0.315, b_5.grad: 0.009919\n",
            "Epoch: 450, C: 0.314, b_0: 0.431, b_0.grad: 0.003709, b_1: 0.315, b_1.grad: 0.000701, b_2: -0.012, b_2.grad: -0.003767, b_3: 0.264, b_3.grad: 0.005832, b_4: 0.635, b_4.grad: -0.061090, b_5: 0.315, b_5.grad: 0.009838\n",
            "Epoch: 451, C: 0.314, b_0: 0.431, b_0.grad: 0.003684, b_1: 0.315, b_1.grad: 0.000702, b_2: -0.012, b_2.grad: -0.003750, b_3: 0.264, b_3.grad: 0.005845, b_4: 0.637, b_4.grad: -0.061057, b_5: 0.315, b_5.grad: 0.009758\n",
            "Epoch: 452, C: 0.314, b_0: 0.431, b_0.grad: 0.003659, b_1: 0.315, b_1.grad: 0.000704, b_2: -0.012, b_2.grad: -0.003732, b_3: 0.264, b_3.grad: 0.005857, b_4: 0.638, b_4.grad: -0.061024, b_5: 0.315, b_5.grad: 0.009678\n",
            "Epoch: 453, C: 0.314, b_0: 0.431, b_0.grad: 0.003634, b_1: 0.315, b_1.grad: 0.000705, b_2: -0.012, b_2.grad: -0.003716, b_3: 0.264, b_3.grad: 0.005869, b_4: 0.639, b_4.grad: -0.060991, b_5: 0.315, b_5.grad: 0.009598\n",
            "Epoch: 454, C: 0.314, b_0: 0.431, b_0.grad: 0.003609, b_1: 0.315, b_1.grad: 0.000706, b_2: -0.012, b_2.grad: -0.003699, b_3: 0.264, b_3.grad: 0.005881, b_4: 0.640, b_4.grad: -0.060958, b_5: 0.315, b_5.grad: 0.009520\n",
            "Epoch: 455, C: 0.314, b_0: 0.431, b_0.grad: 0.003584, b_1: 0.315, b_1.grad: 0.000707, b_2: -0.011, b_2.grad: -0.003682, b_3: 0.263, b_3.grad: 0.005893, b_4: 0.642, b_4.grad: -0.060925, b_5: 0.315, b_5.grad: 0.009441\n",
            "Epoch: 456, C: 0.314, b_0: 0.431, b_0.grad: 0.003560, b_1: 0.315, b_1.grad: 0.000708, b_2: -0.011, b_2.grad: -0.003665, b_3: 0.263, b_3.grad: 0.005905, b_4: 0.643, b_4.grad: -0.060892, b_5: 0.315, b_5.grad: 0.009364\n",
            "Epoch: 457, C: 0.313, b_0: 0.431, b_0.grad: 0.003535, b_1: 0.315, b_1.grad: 0.000709, b_2: -0.011, b_2.grad: -0.003649, b_3: 0.263, b_3.grad: 0.005916, b_4: 0.644, b_4.grad: -0.060859, b_5: 0.315, b_5.grad: 0.009286\n",
            "Epoch: 458, C: 0.313, b_0: 0.431, b_0.grad: 0.003511, b_1: 0.315, b_1.grad: 0.000711, b_2: -0.011, b_2.grad: -0.003632, b_3: 0.263, b_3.grad: 0.005929, b_4: 0.645, b_4.grad: -0.060826, b_5: 0.315, b_5.grad: 0.009210\n",
            "Epoch: 459, C: 0.313, b_0: 0.431, b_0.grad: 0.003486, b_1: 0.315, b_1.grad: 0.000712, b_2: -0.011, b_2.grad: -0.003615, b_3: 0.263, b_3.grad: 0.005940, b_4: 0.646, b_4.grad: -0.060793, b_5: 0.315, b_5.grad: 0.009134\n",
            "Epoch: 460, C: 0.313, b_0: 0.430, b_0.grad: 0.003462, b_1: 0.315, b_1.grad: 0.000713, b_2: -0.011, b_2.grad: -0.003599, b_3: 0.263, b_3.grad: 0.005952, b_4: 0.648, b_4.grad: -0.060761, b_5: 0.315, b_5.grad: 0.009058\n",
            "Epoch: 461, C: 0.313, b_0: 0.430, b_0.grad: 0.003438, b_1: 0.315, b_1.grad: 0.000714, b_2: -0.011, b_2.grad: -0.003583, b_3: 0.263, b_3.grad: 0.005963, b_4: 0.649, b_4.grad: -0.060728, b_5: 0.315, b_5.grad: 0.008983\n",
            "Epoch: 462, C: 0.313, b_0: 0.430, b_0.grad: 0.003414, b_1: 0.315, b_1.grad: 0.000714, b_2: -0.011, b_2.grad: -0.003567, b_3: 0.263, b_3.grad: 0.005974, b_4: 0.650, b_4.grad: -0.060695, b_5: 0.315, b_5.grad: 0.008908\n",
            "Epoch: 463, C: 0.313, b_0: 0.430, b_0.grad: 0.003390, b_1: 0.315, b_1.grad: 0.000715, b_2: -0.011, b_2.grad: -0.003550, b_3: 0.262, b_3.grad: 0.005986, b_4: 0.651, b_4.grad: -0.060663, b_5: 0.315, b_5.grad: 0.008834\n",
            "Epoch: 464, C: 0.313, b_0: 0.430, b_0.grad: 0.003366, b_1: 0.315, b_1.grad: 0.000716, b_2: -0.011, b_2.grad: -0.003534, b_3: 0.262, b_3.grad: 0.005997, b_4: 0.653, b_4.grad: -0.060630, b_5: 0.315, b_5.grad: 0.008760\n",
            "Epoch: 465, C: 0.313, b_0: 0.430, b_0.grad: 0.003343, b_1: 0.315, b_1.grad: 0.000717, b_2: -0.011, b_2.grad: -0.003518, b_3: 0.262, b_3.grad: 0.006008, b_4: 0.654, b_4.grad: -0.060598, b_5: 0.315, b_5.grad: 0.008687\n",
            "Epoch: 466, C: 0.313, b_0: 0.430, b_0.grad: 0.003319, b_1: 0.315, b_1.grad: 0.000718, b_2: -0.011, b_2.grad: -0.003502, b_3: 0.262, b_3.grad: 0.006019, b_4: 0.655, b_4.grad: -0.060565, b_5: 0.315, b_5.grad: 0.008614\n",
            "Epoch: 467, C: 0.313, b_0: 0.430, b_0.grad: 0.003295, b_1: 0.315, b_1.grad: 0.000719, b_2: -0.011, b_2.grad: -0.003487, b_3: 0.262, b_3.grad: 0.006030, b_4: 0.656, b_4.grad: -0.060533, b_5: 0.315, b_5.grad: 0.008541\n",
            "Epoch: 468, C: 0.313, b_0: 0.430, b_0.grad: 0.003272, b_1: 0.315, b_1.grad: 0.000719, b_2: -0.011, b_2.grad: -0.003471, b_3: 0.262, b_3.grad: 0.006041, b_4: 0.657, b_4.grad: -0.060501, b_5: 0.315, b_5.grad: 0.008469\n",
            "Epoch: 469, C: 0.313, b_0: 0.430, b_0.grad: 0.003249, b_1: 0.315, b_1.grad: 0.000720, b_2: -0.010, b_2.grad: -0.003456, b_3: 0.262, b_3.grad: 0.006052, b_4: 0.659, b_4.grad: -0.060468, b_5: 0.315, b_5.grad: 0.008398\n",
            "Epoch: 470, C: 0.312, b_0: 0.430, b_0.grad: 0.003226, b_1: 0.315, b_1.grad: 0.000721, b_2: -0.010, b_2.grad: -0.003440, b_3: 0.262, b_3.grad: 0.006062, b_4: 0.660, b_4.grad: -0.060436, b_5: 0.315, b_5.grad: 0.008327\n",
            "Epoch: 471, C: 0.312, b_0: 0.430, b_0.grad: 0.003203, b_1: 0.315, b_1.grad: 0.000721, b_2: -0.010, b_2.grad: -0.003425, b_3: 0.261, b_3.grad: 0.006073, b_4: 0.661, b_4.grad: -0.060404, b_5: 0.315, b_5.grad: 0.008256\n",
            "Epoch: 472, C: 0.312, b_0: 0.430, b_0.grad: 0.003180, b_1: 0.315, b_1.grad: 0.000722, b_2: -0.010, b_2.grad: -0.003410, b_3: 0.261, b_3.grad: 0.006083, b_4: 0.662, b_4.grad: -0.060372, b_5: 0.315, b_5.grad: 0.008186\n",
            "Epoch: 473, C: 0.312, b_0: 0.430, b_0.grad: 0.003157, b_1: 0.315, b_1.grad: 0.000723, b_2: -0.010, b_2.grad: -0.003394, b_3: 0.261, b_3.grad: 0.006094, b_4: 0.663, b_4.grad: -0.060340, b_5: 0.315, b_5.grad: 0.008117\n",
            "Epoch: 474, C: 0.312, b_0: 0.430, b_0.grad: 0.003134, b_1: 0.315, b_1.grad: 0.000723, b_2: -0.010, b_2.grad: -0.003379, b_3: 0.261, b_3.grad: 0.006105, b_4: 0.665, b_4.grad: -0.060308, b_5: 0.315, b_5.grad: 0.008048\n",
            "Epoch: 475, C: 0.312, b_0: 0.429, b_0.grad: 0.003111, b_1: 0.315, b_1.grad: 0.000724, b_2: -0.010, b_2.grad: -0.003364, b_3: 0.261, b_3.grad: 0.006115, b_4: 0.666, b_4.grad: -0.060276, b_5: 0.315, b_5.grad: 0.007979\n",
            "Epoch: 476, C: 0.312, b_0: 0.429, b_0.grad: 0.003089, b_1: 0.315, b_1.grad: 0.000724, b_2: -0.010, b_2.grad: -0.003349, b_3: 0.261, b_3.grad: 0.006125, b_4: 0.667, b_4.grad: -0.060244, b_5: 0.315, b_5.grad: 0.007911\n",
            "Epoch: 477, C: 0.312, b_0: 0.429, b_0.grad: 0.003067, b_1: 0.315, b_1.grad: 0.000725, b_2: -0.010, b_2.grad: -0.003334, b_3: 0.261, b_3.grad: 0.006135, b_4: 0.668, b_4.grad: -0.060212, b_5: 0.315, b_5.grad: 0.007843\n",
            "Epoch: 478, C: 0.312, b_0: 0.429, b_0.grad: 0.003044, b_1: 0.315, b_1.grad: 0.000725, b_2: -0.010, b_2.grad: -0.003319, b_3: 0.261, b_3.grad: 0.006145, b_4: 0.669, b_4.grad: -0.060180, b_5: 0.315, b_5.grad: 0.007775\n",
            "Epoch: 479, C: 0.312, b_0: 0.429, b_0.grad: 0.003022, b_1: 0.315, b_1.grad: 0.000725, b_2: -0.010, b_2.grad: -0.003305, b_3: 0.261, b_3.grad: 0.006155, b_4: 0.671, b_4.grad: -0.060149, b_5: 0.315, b_5.grad: 0.007708\n",
            "Epoch: 480, C: 0.312, b_0: 0.429, b_0.grad: 0.003000, b_1: 0.315, b_1.grad: 0.000726, b_2: -0.010, b_2.grad: -0.003290, b_3: 0.260, b_3.grad: 0.006165, b_4: 0.672, b_4.grad: -0.060117, b_5: 0.315, b_5.grad: 0.007642\n",
            "Epoch: 481, C: 0.312, b_0: 0.429, b_0.grad: 0.002978, b_1: 0.315, b_1.grad: 0.000726, b_2: -0.010, b_2.grad: -0.003275, b_3: 0.260, b_3.grad: 0.006175, b_4: 0.673, b_4.grad: -0.060085, b_5: 0.315, b_5.grad: 0.007576\n",
            "Epoch: 482, C: 0.312, b_0: 0.429, b_0.grad: 0.002956, b_1: 0.315, b_1.grad: 0.000727, b_2: -0.010, b_2.grad: -0.003261, b_3: 0.260, b_3.grad: 0.006185, b_4: 0.674, b_4.grad: -0.060053, b_5: 0.315, b_5.grad: 0.007510\n",
            "Epoch: 483, C: 0.312, b_0: 0.429, b_0.grad: 0.002934, b_1: 0.315, b_1.grad: 0.000727, b_2: -0.010, b_2.grad: -0.003247, b_3: 0.260, b_3.grad: 0.006194, b_4: 0.675, b_4.grad: -0.060022, b_5: 0.315, b_5.grad: 0.007445\n",
            "Epoch: 484, C: 0.311, b_0: 0.429, b_0.grad: 0.002912, b_1: 0.315, b_1.grad: 0.000727, b_2: -0.009, b_2.grad: -0.003232, b_3: 0.260, b_3.grad: 0.006204, b_4: 0.677, b_4.grad: -0.059990, b_5: 0.315, b_5.grad: 0.007380\n",
            "Epoch: 485, C: 0.311, b_0: 0.429, b_0.grad: 0.002891, b_1: 0.315, b_1.grad: 0.000727, b_2: -0.009, b_2.grad: -0.003218, b_3: 0.260, b_3.grad: 0.006214, b_4: 0.678, b_4.grad: -0.059959, b_5: 0.315, b_5.grad: 0.007316\n",
            "Epoch: 486, C: 0.311, b_0: 0.429, b_0.grad: 0.002869, b_1: 0.315, b_1.grad: 0.000728, b_2: -0.009, b_2.grad: -0.003204, b_3: 0.260, b_3.grad: 0.006223, b_4: 0.679, b_4.grad: -0.059927, b_5: 0.315, b_5.grad: 0.007252\n",
            "Epoch: 487, C: 0.311, b_0: 0.429, b_0.grad: 0.002848, b_1: 0.315, b_1.grad: 0.000728, b_2: -0.009, b_2.grad: -0.003190, b_3: 0.260, b_3.grad: 0.006233, b_4: 0.680, b_4.grad: -0.059896, b_5: 0.315, b_5.grad: 0.007188\n",
            "Epoch: 488, C: 0.311, b_0: 0.429, b_0.grad: 0.002826, b_1: 0.315, b_1.grad: 0.000728, b_2: -0.009, b_2.grad: -0.003176, b_3: 0.259, b_3.grad: 0.006242, b_4: 0.681, b_4.grad: -0.059865, b_5: 0.315, b_5.grad: 0.007125\n",
            "Epoch: 489, C: 0.311, b_0: 0.429, b_0.grad: 0.002805, b_1: 0.315, b_1.grad: 0.000728, b_2: -0.009, b_2.grad: -0.003162, b_3: 0.259, b_3.grad: 0.006251, b_4: 0.683, b_4.grad: -0.059833, b_5: 0.315, b_5.grad: 0.007062\n",
            "Epoch: 490, C: 0.311, b_0: 0.429, b_0.grad: 0.002784, b_1: 0.315, b_1.grad: 0.000728, b_2: -0.009, b_2.grad: -0.003148, b_3: 0.259, b_3.grad: 0.006260, b_4: 0.684, b_4.grad: -0.059802, b_5: 0.315, b_5.grad: 0.007000\n",
            "Epoch: 491, C: 0.311, b_0: 0.429, b_0.grad: 0.002763, b_1: 0.315, b_1.grad: 0.000729, b_2: -0.009, b_2.grad: -0.003134, b_3: 0.259, b_3.grad: 0.006270, b_4: 0.685, b_4.grad: -0.059771, b_5: 0.315, b_5.grad: 0.006938\n",
            "Epoch: 492, C: 0.311, b_0: 0.428, b_0.grad: 0.002742, b_1: 0.315, b_1.grad: 0.000729, b_2: -0.009, b_2.grad: -0.003120, b_3: 0.259, b_3.grad: 0.006279, b_4: 0.686, b_4.grad: -0.059740, b_5: 0.315, b_5.grad: 0.006877\n",
            "Epoch: 493, C: 0.311, b_0: 0.428, b_0.grad: 0.002721, b_1: 0.315, b_1.grad: 0.000729, b_2: -0.009, b_2.grad: -0.003107, b_3: 0.259, b_3.grad: 0.006287, b_4: 0.687, b_4.grad: -0.059709, b_5: 0.315, b_5.grad: 0.006815\n",
            "Epoch: 494, C: 0.311, b_0: 0.428, b_0.grad: 0.002700, b_1: 0.315, b_1.grad: 0.000729, b_2: -0.009, b_2.grad: -0.003093, b_3: 0.259, b_3.grad: 0.006296, b_4: 0.689, b_4.grad: -0.059677, b_5: 0.315, b_5.grad: 0.006755\n",
            "Epoch: 495, C: 0.311, b_0: 0.428, b_0.grad: 0.002679, b_1: 0.315, b_1.grad: 0.000729, b_2: -0.009, b_2.grad: -0.003080, b_3: 0.259, b_3.grad: 0.006305, b_4: 0.690, b_4.grad: -0.059646, b_5: 0.315, b_5.grad: 0.006694\n",
            "Epoch: 496, C: 0.311, b_0: 0.428, b_0.grad: 0.002659, b_1: 0.315, b_1.grad: 0.000729, b_2: -0.009, b_2.grad: -0.003067, b_3: 0.258, b_3.grad: 0.006314, b_4: 0.691, b_4.grad: -0.059615, b_5: 0.315, b_5.grad: 0.006634\n",
            "Epoch: 497, C: 0.310, b_0: 0.428, b_0.grad: 0.002638, b_1: 0.315, b_1.grad: 0.000729, b_2: -0.009, b_2.grad: -0.003053, b_3: 0.258, b_3.grad: 0.006323, b_4: 0.692, b_4.grad: -0.059584, b_5: 0.315, b_5.grad: 0.006575\n",
            "Epoch: 498, C: 0.310, b_0: 0.428, b_0.grad: 0.002618, b_1: 0.315, b_1.grad: 0.000729, b_2: -0.009, b_2.grad: -0.003040, b_3: 0.258, b_3.grad: 0.006332, b_4: 0.693, b_4.grad: -0.059554, b_5: 0.315, b_5.grad: 0.006516\n",
            "Epoch: 499, C: 0.310, b_0: 0.428, b_0.grad: 0.002597, b_1: 0.315, b_1.grad: 0.000729, b_2: -0.009, b_2.grad: -0.003027, b_3: 0.258, b_3.grad: 0.006340, b_4: 0.695, b_4.grad: -0.059523, b_5: 0.315, b_5.grad: 0.006457\n",
            "Epoch: 500, C: 0.310, b_0: 0.428, b_0.grad: 0.002577, b_1: 0.315, b_1.grad: 0.000729, b_2: -0.008, b_2.grad: -0.003014, b_3: 0.258, b_3.grad: 0.006348, b_4: 0.696, b_4.grad: -0.059492, b_5: 0.315, b_5.grad: 0.006398\n",
            "Epoch: 501, C: 0.310, b_0: 0.428, b_0.grad: 0.002557, b_1: 0.315, b_1.grad: 0.000729, b_2: -0.008, b_2.grad: -0.003001, b_3: 0.258, b_3.grad: 0.006357, b_4: 0.697, b_4.grad: -0.059461, b_5: 0.315, b_5.grad: 0.006341\n",
            "Epoch: 502, C: 0.310, b_0: 0.428, b_0.grad: 0.002537, b_1: 0.315, b_1.grad: 0.000729, b_2: -0.008, b_2.grad: -0.002988, b_3: 0.258, b_3.grad: 0.006365, b_4: 0.698, b_4.grad: -0.059430, b_5: 0.315, b_5.grad: 0.006283\n",
            "Epoch: 503, C: 0.310, b_0: 0.428, b_0.grad: 0.002517, b_1: 0.315, b_1.grad: 0.000729, b_2: -0.008, b_2.grad: -0.002975, b_3: 0.257, b_3.grad: 0.006373, b_4: 0.699, b_4.grad: -0.059400, b_5: 0.315, b_5.grad: 0.006226\n",
            "Epoch: 504, C: 0.310, b_0: 0.428, b_0.grad: 0.002497, b_1: 0.315, b_1.grad: 0.000729, b_2: -0.008, b_2.grad: -0.002962, b_3: 0.257, b_3.grad: 0.006382, b_4: 0.701, b_4.grad: -0.059369, b_5: 0.315, b_5.grad: 0.006169\n",
            "Epoch: 505, C: 0.310, b_0: 0.428, b_0.grad: 0.002477, b_1: 0.315, b_1.grad: 0.000729, b_2: -0.008, b_2.grad: -0.002949, b_3: 0.257, b_3.grad: 0.006390, b_4: 0.702, b_4.grad: -0.059338, b_5: 0.315, b_5.grad: 0.006112\n",
            "Epoch: 506, C: 0.310, b_0: 0.428, b_0.grad: 0.002457, b_1: 0.315, b_1.grad: 0.000728, b_2: -0.008, b_2.grad: -0.002937, b_3: 0.257, b_3.grad: 0.006398, b_4: 0.703, b_4.grad: -0.059308, b_5: 0.315, b_5.grad: 0.006056\n",
            "Epoch: 507, C: 0.310, b_0: 0.428, b_0.grad: 0.002438, b_1: 0.314, b_1.grad: 0.000728, b_2: -0.008, b_2.grad: -0.002924, b_3: 0.257, b_3.grad: 0.006406, b_4: 0.704, b_4.grad: -0.059277, b_5: 0.314, b_5.grad: 0.006000\n",
            "Epoch: 508, C: 0.310, b_0: 0.428, b_0.grad: 0.002418, b_1: 0.314, b_1.grad: 0.000728, b_2: -0.008, b_2.grad: -0.002912, b_3: 0.257, b_3.grad: 0.006414, b_4: 0.705, b_4.grad: -0.059247, b_5: 0.314, b_5.grad: 0.005945\n",
            "Epoch: 509, C: 0.310, b_0: 0.428, b_0.grad: 0.002399, b_1: 0.314, b_1.grad: 0.000728, b_2: -0.008, b_2.grad: -0.002899, b_3: 0.257, b_3.grad: 0.006422, b_4: 0.706, b_4.grad: -0.059216, b_5: 0.314, b_5.grad: 0.005890\n",
            "Epoch: 510, C: 0.310, b_0: 0.428, b_0.grad: 0.002379, b_1: 0.314, b_1.grad: 0.000728, b_2: -0.008, b_2.grad: -0.002887, b_3: 0.257, b_3.grad: 0.006430, b_4: 0.708, b_4.grad: -0.059186, b_5: 0.314, b_5.grad: 0.005835\n",
            "Epoch: 511, C: 0.309, b_0: 0.427, b_0.grad: 0.002360, b_1: 0.314, b_1.grad: 0.000727, b_2: -0.008, b_2.grad: -0.002874, b_3: 0.256, b_3.grad: 0.006437, b_4: 0.709, b_4.grad: -0.059156, b_5: 0.314, b_5.grad: 0.005781\n",
            "Epoch: 512, C: 0.309, b_0: 0.427, b_0.grad: 0.002341, b_1: 0.314, b_1.grad: 0.000727, b_2: -0.008, b_2.grad: -0.002862, b_3: 0.256, b_3.grad: 0.006445, b_4: 0.710, b_4.grad: -0.059125, b_5: 0.314, b_5.grad: 0.005727\n",
            "Epoch: 513, C: 0.309, b_0: 0.427, b_0.grad: 0.002321, b_1: 0.314, b_1.grad: 0.000727, b_2: -0.008, b_2.grad: -0.002850, b_3: 0.256, b_3.grad: 0.006453, b_4: 0.711, b_4.grad: -0.059095, b_5: 0.314, b_5.grad: 0.005673\n",
            "Epoch: 514, C: 0.309, b_0: 0.427, b_0.grad: 0.002302, b_1: 0.314, b_1.grad: 0.000727, b_2: -0.008, b_2.grad: -0.002838, b_3: 0.256, b_3.grad: 0.006461, b_4: 0.712, b_4.grad: -0.059065, b_5: 0.314, b_5.grad: 0.005620\n",
            "Epoch: 515, C: 0.309, b_0: 0.427, b_0.grad: 0.002283, b_1: 0.314, b_1.grad: 0.000726, b_2: -0.008, b_2.grad: -0.002826, b_3: 0.256, b_3.grad: 0.006468, b_4: 0.714, b_4.grad: -0.059034, b_5: 0.314, b_5.grad: 0.005567\n",
            "Epoch: 516, C: 0.309, b_0: 0.427, b_0.grad: 0.002264, b_1: 0.314, b_1.grad: 0.000726, b_2: -0.008, b_2.grad: -0.002814, b_3: 0.256, b_3.grad: 0.006475, b_4: 0.715, b_4.grad: -0.059004, b_5: 0.314, b_5.grad: 0.005514\n",
            "Epoch: 517, C: 0.309, b_0: 0.427, b_0.grad: 0.002246, b_1: 0.314, b_1.grad: 0.000726, b_2: -0.007, b_2.grad: -0.002802, b_3: 0.256, b_3.grad: 0.006483, b_4: 0.716, b_4.grad: -0.058974, b_5: 0.314, b_5.grad: 0.005462\n",
            "Epoch: 518, C: 0.309, b_0: 0.427, b_0.grad: 0.002227, b_1: 0.314, b_1.grad: 0.000726, b_2: -0.007, b_2.grad: -0.002790, b_3: 0.256, b_3.grad: 0.006490, b_4: 0.717, b_4.grad: -0.058944, b_5: 0.314, b_5.grad: 0.005410\n",
            "Epoch: 519, C: 0.309, b_0: 0.427, b_0.grad: 0.002208, b_1: 0.314, b_1.grad: 0.000725, b_2: -0.007, b_2.grad: -0.002778, b_3: 0.255, b_3.grad: 0.006497, b_4: 0.718, b_4.grad: -0.058914, b_5: 0.314, b_5.grad: 0.005359\n",
            "Epoch: 520, C: 0.309, b_0: 0.427, b_0.grad: 0.002190, b_1: 0.314, b_1.grad: 0.000725, b_2: -0.007, b_2.grad: -0.002766, b_3: 0.255, b_3.grad: 0.006505, b_4: 0.719, b_4.grad: -0.058884, b_5: 0.314, b_5.grad: 0.005307\n",
            "Epoch: 521, C: 0.309, b_0: 0.427, b_0.grad: 0.002171, b_1: 0.314, b_1.grad: 0.000724, b_2: -0.007, b_2.grad: -0.002754, b_3: 0.255, b_3.grad: 0.006512, b_4: 0.721, b_4.grad: -0.058854, b_5: 0.314, b_5.grad: 0.005257\n",
            "Epoch: 522, C: 0.309, b_0: 0.427, b_0.grad: 0.002153, b_1: 0.314, b_1.grad: 0.000724, b_2: -0.007, b_2.grad: -0.002743, b_3: 0.255, b_3.grad: 0.006519, b_4: 0.722, b_4.grad: -0.058824, b_5: 0.314, b_5.grad: 0.005206\n",
            "Epoch: 523, C: 0.309, b_0: 0.427, b_0.grad: 0.002134, b_1: 0.314, b_1.grad: 0.000724, b_2: -0.007, b_2.grad: -0.002731, b_3: 0.255, b_3.grad: 0.006526, b_4: 0.723, b_4.grad: -0.058794, b_5: 0.314, b_5.grad: 0.005156\n",
            "Epoch: 524, C: 0.309, b_0: 0.427, b_0.grad: 0.002116, b_1: 0.314, b_1.grad: 0.000723, b_2: -0.007, b_2.grad: -0.002720, b_3: 0.255, b_3.grad: 0.006533, b_4: 0.724, b_4.grad: -0.058764, b_5: 0.314, b_5.grad: 0.005106\n",
            "Epoch: 525, C: 0.308, b_0: 0.427, b_0.grad: 0.002098, b_1: 0.314, b_1.grad: 0.000723, b_2: -0.007, b_2.grad: -0.002709, b_3: 0.255, b_3.grad: 0.006540, b_4: 0.725, b_4.grad: -0.058735, b_5: 0.314, b_5.grad: 0.005056\n",
            "Epoch: 526, C: 0.308, b_0: 0.427, b_0.grad: 0.002080, b_1: 0.314, b_1.grad: 0.000722, b_2: -0.007, b_2.grad: -0.002697, b_3: 0.255, b_3.grad: 0.006547, b_4: 0.727, b_4.grad: -0.058705, b_5: 0.314, b_5.grad: 0.005007\n",
            "Epoch: 527, C: 0.308, b_0: 0.427, b_0.grad: 0.002062, b_1: 0.314, b_1.grad: 0.000722, b_2: -0.007, b_2.grad: -0.002686, b_3: 0.254, b_3.grad: 0.006554, b_4: 0.728, b_4.grad: -0.058675, b_5: 0.314, b_5.grad: 0.004958\n",
            "Epoch: 528, C: 0.308, b_0: 0.427, b_0.grad: 0.002044, b_1: 0.314, b_1.grad: 0.000722, b_2: -0.007, b_2.grad: -0.002675, b_3: 0.254, b_3.grad: 0.006560, b_4: 0.729, b_4.grad: -0.058645, b_5: 0.314, b_5.grad: 0.004909\n",
            "Epoch: 529, C: 0.308, b_0: 0.427, b_0.grad: 0.002026, b_1: 0.314, b_1.grad: 0.000721, b_2: -0.007, b_2.grad: -0.002664, b_3: 0.254, b_3.grad: 0.006567, b_4: 0.730, b_4.grad: -0.058616, b_5: 0.314, b_5.grad: 0.004861\n",
            "Epoch: 530, C: 0.308, b_0: 0.427, b_0.grad: 0.002008, b_1: 0.314, b_1.grad: 0.000721, b_2: -0.007, b_2.grad: -0.002652, b_3: 0.254, b_3.grad: 0.006574, b_4: 0.731, b_4.grad: -0.058586, b_5: 0.314, b_5.grad: 0.004813\n",
            "Epoch: 531, C: 0.308, b_0: 0.427, b_0.grad: 0.001991, b_1: 0.314, b_1.grad: 0.000720, b_2: -0.007, b_2.grad: -0.002641, b_3: 0.254, b_3.grad: 0.006580, b_4: 0.732, b_4.grad: -0.058556, b_5: 0.314, b_5.grad: 0.004766\n",
            "Epoch: 532, C: 0.308, b_0: 0.427, b_0.grad: 0.001973, b_1: 0.314, b_1.grad: 0.000720, b_2: -0.007, b_2.grad: -0.002630, b_3: 0.254, b_3.grad: 0.006587, b_4: 0.734, b_4.grad: -0.058527, b_5: 0.314, b_5.grad: 0.004718\n",
            "Epoch: 533, C: 0.308, b_0: 0.427, b_0.grad: 0.001955, b_1: 0.314, b_1.grad: 0.000719, b_2: -0.007, b_2.grad: -0.002619, b_3: 0.254, b_3.grad: 0.006593, b_4: 0.735, b_4.grad: -0.058497, b_5: 0.314, b_5.grad: 0.004671\n",
            "Epoch: 534, C: 0.308, b_0: 0.427, b_0.grad: 0.001938, b_1: 0.314, b_1.grad: 0.000719, b_2: -0.007, b_2.grad: -0.002609, b_3: 0.253, b_3.grad: 0.006600, b_4: 0.736, b_4.grad: -0.058468, b_5: 0.314, b_5.grad: 0.004624\n",
            "Epoch: 535, C: 0.308, b_0: 0.426, b_0.grad: 0.001920, b_1: 0.314, b_1.grad: 0.000718, b_2: -0.006, b_2.grad: -0.002598, b_3: 0.253, b_3.grad: 0.006606, b_4: 0.737, b_4.grad: -0.058439, b_5: 0.314, b_5.grad: 0.004578\n",
            "Epoch: 536, C: 0.308, b_0: 0.426, b_0.grad: 0.001903, b_1: 0.314, b_1.grad: 0.000718, b_2: -0.006, b_2.grad: -0.002587, b_3: 0.253, b_3.grad: 0.006613, b_4: 0.738, b_4.grad: -0.058409, b_5: 0.314, b_5.grad: 0.004532\n",
            "Epoch: 537, C: 0.308, b_0: 0.426, b_0.grad: 0.001886, b_1: 0.314, b_1.grad: 0.000717, b_2: -0.006, b_2.grad: -0.002576, b_3: 0.253, b_3.grad: 0.006619, b_4: 0.739, b_4.grad: -0.058380, b_5: 0.314, b_5.grad: 0.004486\n",
            "Epoch: 538, C: 0.308, b_0: 0.426, b_0.grad: 0.001868, b_1: 0.314, b_1.grad: 0.000716, b_2: -0.006, b_2.grad: -0.002566, b_3: 0.253, b_3.grad: 0.006625, b_4: 0.741, b_4.grad: -0.058350, b_5: 0.314, b_5.grad: 0.004440\n",
            "Epoch: 539, C: 0.307, b_0: 0.426, b_0.grad: 0.001851, b_1: 0.314, b_1.grad: 0.000716, b_2: -0.006, b_2.grad: -0.002555, b_3: 0.253, b_3.grad: 0.006631, b_4: 0.742, b_4.grad: -0.058321, b_5: 0.314, b_5.grad: 0.004395\n",
            "Epoch: 540, C: 0.307, b_0: 0.426, b_0.grad: 0.001834, b_1: 0.314, b_1.grad: 0.000715, b_2: -0.006, b_2.grad: -0.002544, b_3: 0.253, b_3.grad: 0.006637, b_4: 0.743, b_4.grad: -0.058292, b_5: 0.314, b_5.grad: 0.004350\n",
            "Epoch: 541, C: 0.307, b_0: 0.426, b_0.grad: 0.001817, b_1: 0.314, b_1.grad: 0.000715, b_2: -0.006, b_2.grad: -0.002534, b_3: 0.253, b_3.grad: 0.006643, b_4: 0.744, b_4.grad: -0.058263, b_5: 0.314, b_5.grad: 0.004306\n",
            "Epoch: 542, C: 0.307, b_0: 0.426, b_0.grad: 0.001800, b_1: 0.314, b_1.grad: 0.000714, b_2: -0.006, b_2.grad: -0.002523, b_3: 0.252, b_3.grad: 0.006649, b_4: 0.745, b_4.grad: -0.058233, b_5: 0.314, b_5.grad: 0.004261\n",
            "Epoch: 543, C: 0.307, b_0: 0.426, b_0.grad: 0.001784, b_1: 0.314, b_1.grad: 0.000714, b_2: -0.006, b_2.grad: -0.002513, b_3: 0.252, b_3.grad: 0.006655, b_4: 0.746, b_4.grad: -0.058204, b_5: 0.314, b_5.grad: 0.004217\n",
            "Epoch: 544, C: 0.307, b_0: 0.426, b_0.grad: 0.001767, b_1: 0.314, b_1.grad: 0.000713, b_2: -0.006, b_2.grad: -0.002503, b_3: 0.252, b_3.grad: 0.006661, b_4: 0.748, b_4.grad: -0.058175, b_5: 0.314, b_5.grad: 0.004174\n",
            "Epoch: 545, C: 0.307, b_0: 0.426, b_0.grad: 0.001750, b_1: 0.314, b_1.grad: 0.000712, b_2: -0.006, b_2.grad: -0.002493, b_3: 0.252, b_3.grad: 0.006667, b_4: 0.749, b_4.grad: -0.058146, b_5: 0.314, b_5.grad: 0.004130\n",
            "Epoch: 546, C: 0.307, b_0: 0.426, b_0.grad: 0.001733, b_1: 0.314, b_1.grad: 0.000712, b_2: -0.006, b_2.grad: -0.002482, b_3: 0.252, b_3.grad: 0.006673, b_4: 0.750, b_4.grad: -0.058117, b_5: 0.314, b_5.grad: 0.004087\n",
            "Epoch: 547, C: 0.307, b_0: 0.426, b_0.grad: 0.001717, b_1: 0.314, b_1.grad: 0.000711, b_2: -0.006, b_2.grad: -0.002472, b_3: 0.252, b_3.grad: 0.006678, b_4: 0.751, b_4.grad: -0.058088, b_5: 0.314, b_5.grad: 0.004044\n",
            "Epoch: 548, C: 0.307, b_0: 0.426, b_0.grad: 0.001700, b_1: 0.314, b_1.grad: 0.000711, b_2: -0.006, b_2.grad: -0.002462, b_3: 0.252, b_3.grad: 0.006684, b_4: 0.752, b_4.grad: -0.058059, b_5: 0.314, b_5.grad: 0.004002\n",
            "Epoch: 549, C: 0.307, b_0: 0.426, b_0.grad: 0.001684, b_1: 0.314, b_1.grad: 0.000710, b_2: -0.006, b_2.grad: -0.002452, b_3: 0.251, b_3.grad: 0.006689, b_4: 0.753, b_4.grad: -0.058030, b_5: 0.314, b_5.grad: 0.003959\n",
            "Epoch: 550, C: 0.307, b_0: 0.426, b_0.grad: 0.001668, b_1: 0.314, b_1.grad: 0.000709, b_2: -0.006, b_2.grad: -0.002442, b_3: 0.251, b_3.grad: 0.006695, b_4: 0.755, b_4.grad: -0.058001, b_5: 0.314, b_5.grad: 0.003917\n",
            "Epoch: 551, C: 0.307, b_0: 0.426, b_0.grad: 0.001651, b_1: 0.314, b_1.grad: 0.000709, b_2: -0.006, b_2.grad: -0.002432, b_3: 0.251, b_3.grad: 0.006701, b_4: 0.756, b_4.grad: -0.057972, b_5: 0.314, b_5.grad: 0.003875\n",
            "Epoch: 552, C: 0.307, b_0: 0.426, b_0.grad: 0.001635, b_1: 0.314, b_1.grad: 0.000708, b_2: -0.006, b_2.grad: -0.002423, b_3: 0.251, b_3.grad: 0.006706, b_4: 0.757, b_4.grad: -0.057944, b_5: 0.314, b_5.grad: 0.003834\n",
            "Epoch: 553, C: 0.307, b_0: 0.426, b_0.grad: 0.001619, b_1: 0.314, b_1.grad: 0.000707, b_2: -0.006, b_2.grad: -0.002412, b_3: 0.251, b_3.grad: 0.006712, b_4: 0.758, b_4.grad: -0.057915, b_5: 0.314, b_5.grad: 0.003793\n",
            "Epoch: 554, C: 0.306, b_0: 0.426, b_0.grad: 0.001603, b_1: 0.314, b_1.grad: 0.000707, b_2: -0.006, b_2.grad: -0.002403, b_3: 0.251, b_3.grad: 0.006717, b_4: 0.759, b_4.grad: -0.057886, b_5: 0.314, b_5.grad: 0.003752\n",
            "Epoch: 555, C: 0.306, b_0: 0.426, b_0.grad: 0.001587, b_1: 0.314, b_1.grad: 0.000706, b_2: -0.005, b_2.grad: -0.002393, b_3: 0.251, b_3.grad: 0.006722, b_4: 0.760, b_4.grad: -0.057857, b_5: 0.314, b_5.grad: 0.003711\n",
            "Epoch: 556, C: 0.306, b_0: 0.426, b_0.grad: 0.001571, b_1: 0.314, b_1.grad: 0.000705, b_2: -0.005, b_2.grad: -0.002383, b_3: 0.251, b_3.grad: 0.006728, b_4: 0.761, b_4.grad: -0.057829, b_5: 0.314, b_5.grad: 0.003671\n",
            "Epoch: 557, C: 0.306, b_0: 0.426, b_0.grad: 0.001555, b_1: 0.314, b_1.grad: 0.000705, b_2: -0.005, b_2.grad: -0.002374, b_3: 0.250, b_3.grad: 0.006733, b_4: 0.763, b_4.grad: -0.057800, b_5: 0.314, b_5.grad: 0.003631\n",
            "Epoch: 558, C: 0.306, b_0: 0.426, b_0.grad: 0.001539, b_1: 0.314, b_1.grad: 0.000704, b_2: -0.005, b_2.grad: -0.002364, b_3: 0.250, b_3.grad: 0.006738, b_4: 0.764, b_4.grad: -0.057771, b_5: 0.314, b_5.grad: 0.003591\n",
            "Epoch: 559, C: 0.306, b_0: 0.426, b_0.grad: 0.001523, b_1: 0.314, b_1.grad: 0.000703, b_2: -0.005, b_2.grad: -0.002355, b_3: 0.250, b_3.grad: 0.006743, b_4: 0.765, b_4.grad: -0.057743, b_5: 0.314, b_5.grad: 0.003551\n",
            "Epoch: 560, C: 0.306, b_0: 0.426, b_0.grad: 0.001508, b_1: 0.314, b_1.grad: 0.000702, b_2: -0.005, b_2.grad: -0.002345, b_3: 0.250, b_3.grad: 0.006748, b_4: 0.766, b_4.grad: -0.057714, b_5: 0.314, b_5.grad: 0.003512\n",
            "Epoch: 561, C: 0.306, b_0: 0.426, b_0.grad: 0.001492, b_1: 0.314, b_1.grad: 0.000702, b_2: -0.005, b_2.grad: -0.002336, b_3: 0.250, b_3.grad: 0.006753, b_4: 0.767, b_4.grad: -0.057686, b_5: 0.314, b_5.grad: 0.003473\n",
            "Epoch: 562, C: 0.306, b_0: 0.426, b_0.grad: 0.001476, b_1: 0.314, b_1.grad: 0.000701, b_2: -0.005, b_2.grad: -0.002327, b_3: 0.250, b_3.grad: 0.006758, b_4: 0.768, b_4.grad: -0.057657, b_5: 0.314, b_5.grad: 0.003434\n",
            "Epoch: 563, C: 0.306, b_0: 0.426, b_0.grad: 0.001461, b_1: 0.314, b_1.grad: 0.000700, b_2: -0.005, b_2.grad: -0.002317, b_3: 0.250, b_3.grad: 0.006763, b_4: 0.770, b_4.grad: -0.057629, b_5: 0.314, b_5.grad: 0.003395\n",
            "Epoch: 564, C: 0.306, b_0: 0.425, b_0.grad: 0.001445, b_1: 0.314, b_1.grad: 0.000700, b_2: -0.005, b_2.grad: -0.002308, b_3: 0.249, b_3.grad: 0.006768, b_4: 0.771, b_4.grad: -0.057600, b_5: 0.314, b_5.grad: 0.003357\n",
            "Epoch: 565, C: 0.306, b_0: 0.425, b_0.grad: 0.001430, b_1: 0.314, b_1.grad: 0.000699, b_2: -0.005, b_2.grad: -0.002299, b_3: 0.249, b_3.grad: 0.006773, b_4: 0.772, b_4.grad: -0.057572, b_5: 0.314, b_5.grad: 0.003319\n",
            "Epoch: 566, C: 0.306, b_0: 0.425, b_0.grad: 0.001415, b_1: 0.314, b_1.grad: 0.000698, b_2: -0.005, b_2.grad: -0.002290, b_3: 0.249, b_3.grad: 0.006778, b_4: 0.773, b_4.grad: -0.057543, b_5: 0.314, b_5.grad: 0.003281\n",
            "Epoch: 567, C: 0.306, b_0: 0.425, b_0.grad: 0.001399, b_1: 0.314, b_1.grad: 0.000697, b_2: -0.005, b_2.grad: -0.002280, b_3: 0.249, b_3.grad: 0.006783, b_4: 0.774, b_4.grad: -0.057515, b_5: 0.314, b_5.grad: 0.003243\n",
            "Epoch: 568, C: 0.306, b_0: 0.425, b_0.grad: 0.001384, b_1: 0.314, b_1.grad: 0.000697, b_2: -0.005, b_2.grad: -0.002271, b_3: 0.249, b_3.grad: 0.006787, b_4: 0.775, b_4.grad: -0.057487, b_5: 0.314, b_5.grad: 0.003206\n",
            "Epoch: 569, C: 0.305, b_0: 0.425, b_0.grad: 0.001369, b_1: 0.314, b_1.grad: 0.000696, b_2: -0.005, b_2.grad: -0.002262, b_3: 0.249, b_3.grad: 0.006792, b_4: 0.776, b_4.grad: -0.057459, b_5: 0.314, b_5.grad: 0.003169\n",
            "Epoch: 570, C: 0.305, b_0: 0.425, b_0.grad: 0.001354, b_1: 0.314, b_1.grad: 0.000695, b_2: -0.005, b_2.grad: -0.002253, b_3: 0.249, b_3.grad: 0.006797, b_4: 0.778, b_4.grad: -0.057430, b_5: 0.314, b_5.grad: 0.003132\n",
            "Epoch: 571, C: 0.305, b_0: 0.425, b_0.grad: 0.001339, b_1: 0.314, b_1.grad: 0.000694, b_2: -0.005, b_2.grad: -0.002245, b_3: 0.249, b_3.grad: 0.006801, b_4: 0.779, b_4.grad: -0.057402, b_5: 0.314, b_5.grad: 0.003096\n",
            "Epoch: 572, C: 0.305, b_0: 0.425, b_0.grad: 0.001324, b_1: 0.314, b_1.grad: 0.000694, b_2: -0.005, b_2.grad: -0.002236, b_3: 0.248, b_3.grad: 0.006806, b_4: 0.780, b_4.grad: -0.057374, b_5: 0.314, b_5.grad: 0.003059\n",
            "Epoch: 573, C: 0.305, b_0: 0.425, b_0.grad: 0.001309, b_1: 0.314, b_1.grad: 0.000693, b_2: -0.005, b_2.grad: -0.002227, b_3: 0.248, b_3.grad: 0.006810, b_4: 0.781, b_4.grad: -0.057346, b_5: 0.314, b_5.grad: 0.003023\n",
            "Epoch: 574, C: 0.305, b_0: 0.425, b_0.grad: 0.001294, b_1: 0.314, b_1.grad: 0.000692, b_2: -0.005, b_2.grad: -0.002218, b_3: 0.248, b_3.grad: 0.006815, b_4: 0.782, b_4.grad: -0.057318, b_5: 0.314, b_5.grad: 0.002987\n",
            "Epoch: 575, C: 0.305, b_0: 0.425, b_0.grad: 0.001280, b_1: 0.314, b_1.grad: 0.000691, b_2: -0.005, b_2.grad: -0.002209, b_3: 0.248, b_3.grad: 0.006819, b_4: 0.783, b_4.grad: -0.057290, b_5: 0.314, b_5.grad: 0.002952\n",
            "Epoch: 576, C: 0.305, b_0: 0.425, b_0.grad: 0.001265, b_1: 0.314, b_1.grad: 0.000690, b_2: -0.005, b_2.grad: -0.002201, b_3: 0.248, b_3.grad: 0.006823, b_4: 0.784, b_4.grad: -0.057262, b_5: 0.314, b_5.grad: 0.002916\n",
            "Epoch: 577, C: 0.305, b_0: 0.425, b_0.grad: 0.001250, b_1: 0.313, b_1.grad: 0.000690, b_2: -0.004, b_2.grad: -0.002192, b_3: 0.248, b_3.grad: 0.006828, b_4: 0.786, b_4.grad: -0.057234, b_5: 0.313, b_5.grad: 0.002881\n",
            "Epoch: 578, C: 0.305, b_0: 0.425, b_0.grad: 0.001236, b_1: 0.313, b_1.grad: 0.000689, b_2: -0.004, b_2.grad: -0.002183, b_3: 0.248, b_3.grad: 0.006832, b_4: 0.787, b_4.grad: -0.057206, b_5: 0.313, b_5.grad: 0.002846\n",
            "Epoch: 579, C: 0.305, b_0: 0.425, b_0.grad: 0.001221, b_1: 0.313, b_1.grad: 0.000688, b_2: -0.004, b_2.grad: -0.002175, b_3: 0.247, b_3.grad: 0.006836, b_4: 0.788, b_4.grad: -0.057178, b_5: 0.313, b_5.grad: 0.002812\n",
            "Epoch: 580, C: 0.305, b_0: 0.425, b_0.grad: 0.001207, b_1: 0.313, b_1.grad: 0.000687, b_2: -0.004, b_2.grad: -0.002166, b_3: 0.247, b_3.grad: 0.006841, b_4: 0.789, b_4.grad: -0.057150, b_5: 0.313, b_5.grad: 0.002777\n",
            "Epoch: 581, C: 0.305, b_0: 0.425, b_0.grad: 0.001192, b_1: 0.313, b_1.grad: 0.000687, b_2: -0.004, b_2.grad: -0.002158, b_3: 0.247, b_3.grad: 0.006845, b_4: 0.790, b_4.grad: -0.057122, b_5: 0.313, b_5.grad: 0.002743\n",
            "Epoch: 582, C: 0.305, b_0: 0.425, b_0.grad: 0.001178, b_1: 0.313, b_1.grad: 0.000686, b_2: -0.004, b_2.grad: -0.002150, b_3: 0.247, b_3.grad: 0.006849, b_4: 0.791, b_4.grad: -0.057094, b_5: 0.313, b_5.grad: 0.002709\n",
            "Epoch: 583, C: 0.305, b_0: 0.425, b_0.grad: 0.001164, b_1: 0.313, b_1.grad: 0.000685, b_2: -0.004, b_2.grad: -0.002141, b_3: 0.247, b_3.grad: 0.006853, b_4: 0.792, b_4.grad: -0.057066, b_5: 0.313, b_5.grad: 0.002675\n",
            "Epoch: 584, C: 0.304, b_0: 0.425, b_0.grad: 0.001149, b_1: 0.313, b_1.grad: 0.000684, b_2: -0.004, b_2.grad: -0.002133, b_3: 0.247, b_3.grad: 0.006857, b_4: 0.794, b_4.grad: -0.057038, b_5: 0.313, b_5.grad: 0.002642\n",
            "Epoch: 585, C: 0.304, b_0: 0.425, b_0.grad: 0.001135, b_1: 0.313, b_1.grad: 0.000683, b_2: -0.004, b_2.grad: -0.002124, b_3: 0.247, b_3.grad: 0.006861, b_4: 0.795, b_4.grad: -0.057010, b_5: 0.313, b_5.grad: 0.002608\n",
            "Epoch: 586, C: 0.304, b_0: 0.425, b_0.grad: 0.001121, b_1: 0.313, b_1.grad: 0.000683, b_2: -0.004, b_2.grad: -0.002116, b_3: 0.246, b_3.grad: 0.006865, b_4: 0.796, b_4.grad: -0.056983, b_5: 0.313, b_5.grad: 0.002575\n",
            "Epoch: 587, C: 0.304, b_0: 0.425, b_0.grad: 0.001107, b_1: 0.313, b_1.grad: 0.000682, b_2: -0.004, b_2.grad: -0.002108, b_3: 0.246, b_3.grad: 0.006869, b_4: 0.797, b_4.grad: -0.056955, b_5: 0.313, b_5.grad: 0.002542\n",
            "Epoch: 588, C: 0.304, b_0: 0.425, b_0.grad: 0.001093, b_1: 0.313, b_1.grad: 0.000681, b_2: -0.004, b_2.grad: -0.002100, b_3: 0.246, b_3.grad: 0.006873, b_4: 0.798, b_4.grad: -0.056927, b_5: 0.313, b_5.grad: 0.002510\n",
            "Epoch: 589, C: 0.304, b_0: 0.425, b_0.grad: 0.001079, b_1: 0.313, b_1.grad: 0.000680, b_2: -0.004, b_2.grad: -0.002092, b_3: 0.246, b_3.grad: 0.006877, b_4: 0.799, b_4.grad: -0.056900, b_5: 0.313, b_5.grad: 0.002477\n",
            "Epoch: 590, C: 0.304, b_0: 0.425, b_0.grad: 0.001065, b_1: 0.313, b_1.grad: 0.000679, b_2: -0.004, b_2.grad: -0.002084, b_3: 0.246, b_3.grad: 0.006880, b_4: 0.800, b_4.grad: -0.056872, b_5: 0.313, b_5.grad: 0.002445\n",
            "Epoch: 591, C: 0.304, b_0: 0.425, b_0.grad: 0.001051, b_1: 0.313, b_1.grad: 0.000678, b_2: -0.004, b_2.grad: -0.002076, b_3: 0.246, b_3.grad: 0.006884, b_4: 0.802, b_4.grad: -0.056844, b_5: 0.313, b_5.grad: 0.002413\n",
            "Epoch: 592, C: 0.304, b_0: 0.425, b_0.grad: 0.001037, b_1: 0.313, b_1.grad: 0.000678, b_2: -0.004, b_2.grad: -0.002068, b_3: 0.246, b_3.grad: 0.006888, b_4: 0.803, b_4.grad: -0.056817, b_5: 0.313, b_5.grad: 0.002381\n",
            "Epoch: 593, C: 0.304, b_0: 0.425, b_0.grad: 0.001024, b_1: 0.313, b_1.grad: 0.000677, b_2: -0.004, b_2.grad: -0.002060, b_3: 0.246, b_3.grad: 0.006891, b_4: 0.804, b_4.grad: -0.056789, b_5: 0.313, b_5.grad: 0.002350\n",
            "Epoch: 594, C: 0.304, b_0: 0.425, b_0.grad: 0.001010, b_1: 0.313, b_1.grad: 0.000676, b_2: -0.004, b_2.grad: -0.002052, b_3: 0.245, b_3.grad: 0.006895, b_4: 0.805, b_4.grad: -0.056762, b_5: 0.313, b_5.grad: 0.002318\n",
            "Epoch: 595, C: 0.304, b_0: 0.425, b_0.grad: 0.000996, b_1: 0.313, b_1.grad: 0.000675, b_2: -0.004, b_2.grad: -0.002044, b_3: 0.245, b_3.grad: 0.006899, b_4: 0.806, b_4.grad: -0.056734, b_5: 0.313, b_5.grad: 0.002287\n",
            "Epoch: 596, C: 0.304, b_0: 0.425, b_0.grad: 0.000983, b_1: 0.313, b_1.grad: 0.000674, b_2: -0.004, b_2.grad: -0.002036, b_3: 0.245, b_3.grad: 0.006902, b_4: 0.807, b_4.grad: -0.056707, b_5: 0.313, b_5.grad: 0.002256\n",
            "Epoch: 597, C: 0.304, b_0: 0.425, b_0.grad: 0.000969, b_1: 0.313, b_1.grad: 0.000674, b_2: -0.004, b_2.grad: -0.002028, b_3: 0.245, b_3.grad: 0.006906, b_4: 0.808, b_4.grad: -0.056679, b_5: 0.313, b_5.grad: 0.002226\n",
            "Epoch: 598, C: 0.304, b_0: 0.425, b_0.grad: 0.000956, b_1: 0.313, b_1.grad: 0.000673, b_2: -0.004, b_2.grad: -0.002021, b_3: 0.245, b_3.grad: 0.006909, b_4: 0.810, b_4.grad: -0.056652, b_5: 0.313, b_5.grad: 0.002195\n",
            "Epoch: 599, C: 0.303, b_0: 0.425, b_0.grad: 0.000942, b_1: 0.313, b_1.grad: 0.000672, b_2: -0.004, b_2.grad: -0.002013, b_3: 0.245, b_3.grad: 0.006913, b_4: 0.811, b_4.grad: -0.056625, b_5: 0.313, b_5.grad: 0.002165\n",
            "Epoch: 600, C: 0.303, b_0: 0.425, b_0.grad: 0.000929, b_1: 0.313, b_1.grad: 0.000671, b_2: -0.004, b_2.grad: -0.002005, b_3: 0.245, b_3.grad: 0.006916, b_4: 0.812, b_4.grad: -0.056597, b_5: 0.313, b_5.grad: 0.002135\n",
            "Epoch: 601, C: 0.303, b_0: 0.425, b_0.grad: 0.000916, b_1: 0.313, b_1.grad: 0.000670, b_2: -0.003, b_2.grad: -0.001998, b_3: 0.244, b_3.grad: 0.006920, b_4: 0.813, b_4.grad: -0.056570, b_5: 0.313, b_5.grad: 0.002105\n",
            "Epoch: 602, C: 0.303, b_0: 0.425, b_0.grad: 0.000902, b_1: 0.313, b_1.grad: 0.000669, b_2: -0.003, b_2.grad: -0.001990, b_3: 0.244, b_3.grad: 0.006923, b_4: 0.814, b_4.grad: -0.056543, b_5: 0.313, b_5.grad: 0.002075\n",
            "Epoch: 603, C: 0.303, b_0: 0.425, b_0.grad: 0.000889, b_1: 0.313, b_1.grad: 0.000669, b_2: -0.003, b_2.grad: -0.001983, b_3: 0.244, b_3.grad: 0.006926, b_4: 0.815, b_4.grad: -0.056515, b_5: 0.313, b_5.grad: 0.002046\n",
            "Epoch: 604, C: 0.303, b_0: 0.425, b_0.grad: 0.000876, b_1: 0.313, b_1.grad: 0.000668, b_2: -0.003, b_2.grad: -0.001975, b_3: 0.244, b_3.grad: 0.006929, b_4: 0.816, b_4.grad: -0.056488, b_5: 0.313, b_5.grad: 0.002016\n",
            "Epoch: 605, C: 0.303, b_0: 0.425, b_0.grad: 0.000863, b_1: 0.313, b_1.grad: 0.000667, b_2: -0.003, b_2.grad: -0.001968, b_3: 0.244, b_3.grad: 0.006933, b_4: 0.817, b_4.grad: -0.056461, b_5: 0.313, b_5.grad: 0.001987\n",
            "Epoch: 606, C: 0.303, b_0: 0.425, b_0.grad: 0.000850, b_1: 0.313, b_1.grad: 0.000666, b_2: -0.003, b_2.grad: -0.001960, b_3: 0.244, b_3.grad: 0.006936, b_4: 0.819, b_4.grad: -0.056434, b_5: 0.313, b_5.grad: 0.001958\n",
            "Epoch: 607, C: 0.303, b_0: 0.425, b_0.grad: 0.000837, b_1: 0.313, b_1.grad: 0.000665, b_2: -0.003, b_2.grad: -0.001953, b_3: 0.244, b_3.grad: 0.006939, b_4: 0.820, b_4.grad: -0.056407, b_5: 0.313, b_5.grad: 0.001929\n",
            "Epoch: 608, C: 0.303, b_0: 0.424, b_0.grad: 0.000824, b_1: 0.313, b_1.grad: 0.000664, b_2: -0.003, b_2.grad: -0.001945, b_3: 0.243, b_3.grad: 0.006942, b_4: 0.821, b_4.grad: -0.056380, b_5: 0.313, b_5.grad: 0.001901\n",
            "Epoch: 609, C: 0.303, b_0: 0.424, b_0.grad: 0.000811, b_1: 0.313, b_1.grad: 0.000663, b_2: -0.003, b_2.grad: -0.001938, b_3: 0.243, b_3.grad: 0.006945, b_4: 0.822, b_4.grad: -0.056352, b_5: 0.313, b_5.grad: 0.001873\n",
            "Epoch: 610, C: 0.303, b_0: 0.424, b_0.grad: 0.000798, b_1: 0.313, b_1.grad: 0.000663, b_2: -0.003, b_2.grad: -0.001931, b_3: 0.243, b_3.grad: 0.006948, b_4: 0.823, b_4.grad: -0.056325, b_5: 0.313, b_5.grad: 0.001844\n",
            "Epoch: 611, C: 0.303, b_0: 0.424, b_0.grad: 0.000785, b_1: 0.313, b_1.grad: 0.000662, b_2: -0.003, b_2.grad: -0.001924, b_3: 0.243, b_3.grad: 0.006951, b_4: 0.824, b_4.grad: -0.056298, b_5: 0.313, b_5.grad: 0.001816\n",
            "Epoch: 612, C: 0.303, b_0: 0.424, b_0.grad: 0.000773, b_1: 0.313, b_1.grad: 0.000661, b_2: -0.003, b_2.grad: -0.001916, b_3: 0.243, b_3.grad: 0.006954, b_4: 0.825, b_4.grad: -0.056271, b_5: 0.313, b_5.grad: 0.001789\n",
            "Epoch: 613, C: 0.303, b_0: 0.424, b_0.grad: 0.000760, b_1: 0.313, b_1.grad: 0.000660, b_2: -0.003, b_2.grad: -0.001909, b_3: 0.243, b_3.grad: 0.006957, b_4: 0.826, b_4.grad: -0.056244, b_5: 0.313, b_5.grad: 0.001761\n",
            "Epoch: 614, C: 0.302, b_0: 0.424, b_0.grad: 0.000747, b_1: 0.313, b_1.grad: 0.000659, b_2: -0.003, b_2.grad: -0.001902, b_3: 0.243, b_3.grad: 0.006960, b_4: 0.828, b_4.grad: -0.056217, b_5: 0.313, b_5.grad: 0.001734\n",
            "Epoch: 615, C: 0.302, b_0: 0.424, b_0.grad: 0.000735, b_1: 0.313, b_1.grad: 0.000658, b_2: -0.003, b_2.grad: -0.001895, b_3: 0.242, b_3.grad: 0.006963, b_4: 0.829, b_4.grad: -0.056190, b_5: 0.313, b_5.grad: 0.001706\n",
            "Epoch: 616, C: 0.302, b_0: 0.424, b_0.grad: 0.000722, b_1: 0.313, b_1.grad: 0.000658, b_2: -0.003, b_2.grad: -0.001888, b_3: 0.242, b_3.grad: 0.006966, b_4: 0.830, b_4.grad: -0.056164, b_5: 0.313, b_5.grad: 0.001679\n",
            "Epoch: 617, C: 0.302, b_0: 0.424, b_0.grad: 0.000710, b_1: 0.313, b_1.grad: 0.000657, b_2: -0.003, b_2.grad: -0.001881, b_3: 0.242, b_3.grad: 0.006969, b_4: 0.831, b_4.grad: -0.056137, b_5: 0.313, b_5.grad: 0.001653\n",
            "Epoch: 618, C: 0.302, b_0: 0.424, b_0.grad: 0.000697, b_1: 0.313, b_1.grad: 0.000656, b_2: -0.003, b_2.grad: -0.001874, b_3: 0.242, b_3.grad: 0.006971, b_4: 0.832, b_4.grad: -0.056110, b_5: 0.313, b_5.grad: 0.001626\n",
            "Epoch: 619, C: 0.302, b_0: 0.424, b_0.grad: 0.000685, b_1: 0.313, b_1.grad: 0.000655, b_2: -0.003, b_2.grad: -0.001867, b_3: 0.242, b_3.grad: 0.006974, b_4: 0.833, b_4.grad: -0.056083, b_5: 0.313, b_5.grad: 0.001599\n",
            "Epoch: 620, C: 0.302, b_0: 0.424, b_0.grad: 0.000672, b_1: 0.313, b_1.grad: 0.000654, b_2: -0.003, b_2.grad: -0.001860, b_3: 0.242, b_3.grad: 0.006977, b_4: 0.834, b_4.grad: -0.056056, b_5: 0.313, b_5.grad: 0.001573\n",
            "Epoch: 621, C: 0.302, b_0: 0.424, b_0.grad: 0.000660, b_1: 0.313, b_1.grad: 0.000653, b_2: -0.003, b_2.grad: -0.001853, b_3: 0.242, b_3.grad: 0.006980, b_4: 0.835, b_4.grad: -0.056029, b_5: 0.313, b_5.grad: 0.001547\n",
            "Epoch: 622, C: 0.302, b_0: 0.424, b_0.grad: 0.000648, b_1: 0.313, b_1.grad: 0.000653, b_2: -0.003, b_2.grad: -0.001846, b_3: 0.241, b_3.grad: 0.006982, b_4: 0.837, b_4.grad: -0.056003, b_5: 0.313, b_5.grad: 0.001521\n",
            "Epoch: 623, C: 0.302, b_0: 0.424, b_0.grad: 0.000635, b_1: 0.313, b_1.grad: 0.000652, b_2: -0.003, b_2.grad: -0.001840, b_3: 0.241, b_3.grad: 0.006985, b_4: 0.838, b_4.grad: -0.055976, b_5: 0.313, b_5.grad: 0.001495\n",
            "Epoch: 624, C: 0.302, b_0: 0.424, b_0.grad: 0.000623, b_1: 0.313, b_1.grad: 0.000651, b_2: -0.003, b_2.grad: -0.001833, b_3: 0.241, b_3.grad: 0.006987, b_4: 0.839, b_4.grad: -0.055949, b_5: 0.313, b_5.grad: 0.001470\n",
            "Epoch: 625, C: 0.302, b_0: 0.424, b_0.grad: 0.000611, b_1: 0.313, b_1.grad: 0.000650, b_2: -0.003, b_2.grad: -0.001826, b_3: 0.241, b_3.grad: 0.006990, b_4: 0.840, b_4.grad: -0.055923, b_5: 0.313, b_5.grad: 0.001444\n",
            "Epoch: 626, C: 0.302, b_0: 0.424, b_0.grad: 0.000599, b_1: 0.313, b_1.grad: 0.000649, b_2: -0.003, b_2.grad: -0.001819, b_3: 0.241, b_3.grad: 0.006993, b_4: 0.841, b_4.grad: -0.055896, b_5: 0.313, b_5.grad: 0.001419\n",
            "Epoch: 627, C: 0.302, b_0: 0.424, b_0.grad: 0.000587, b_1: 0.313, b_1.grad: 0.000648, b_2: -0.002, b_2.grad: -0.001813, b_3: 0.241, b_3.grad: 0.006995, b_4: 0.842, b_4.grad: -0.055869, b_5: 0.313, b_5.grad: 0.001394\n",
            "Epoch: 628, C: 0.302, b_0: 0.424, b_0.grad: 0.000575, b_1: 0.313, b_1.grad: 0.000647, b_2: -0.002, b_2.grad: -0.001806, b_3: 0.241, b_3.grad: 0.006997, b_4: 0.843, b_4.grad: -0.055843, b_5: 0.313, b_5.grad: 0.001369\n",
            "Epoch: 629, C: 0.302, b_0: 0.424, b_0.grad: 0.000563, b_1: 0.313, b_1.grad: 0.000647, b_2: -0.002, b_2.grad: -0.001800, b_3: 0.240, b_3.grad: 0.007000, b_4: 0.844, b_4.grad: -0.055816, b_5: 0.313, b_5.grad: 0.001344\n",
            "Epoch: 630, C: 0.301, b_0: 0.424, b_0.grad: 0.000551, b_1: 0.313, b_1.grad: 0.000646, b_2: -0.002, b_2.grad: -0.001793, b_3: 0.240, b_3.grad: 0.007002, b_4: 0.846, b_4.grad: -0.055790, b_5: 0.313, b_5.grad: 0.001320\n",
            "Epoch: 631, C: 0.301, b_0: 0.424, b_0.grad: 0.000539, b_1: 0.313, b_1.grad: 0.000645, b_2: -0.002, b_2.grad: -0.001786, b_3: 0.240, b_3.grad: 0.007005, b_4: 0.847, b_4.grad: -0.055763, b_5: 0.313, b_5.grad: 0.001295\n",
            "Epoch: 632, C: 0.301, b_0: 0.424, b_0.grad: 0.000528, b_1: 0.313, b_1.grad: 0.000644, b_2: -0.002, b_2.grad: -0.001780, b_3: 0.240, b_3.grad: 0.007007, b_4: 0.848, b_4.grad: -0.055737, b_5: 0.313, b_5.grad: 0.001271\n",
            "Epoch: 633, C: 0.301, b_0: 0.424, b_0.grad: 0.000516, b_1: 0.313, b_1.grad: 0.000643, b_2: -0.002, b_2.grad: -0.001774, b_3: 0.240, b_3.grad: 0.007009, b_4: 0.849, b_4.grad: -0.055710, b_5: 0.313, b_5.grad: 0.001247\n",
            "Epoch: 634, C: 0.301, b_0: 0.424, b_0.grad: 0.000504, b_1: 0.313, b_1.grad: 0.000642, b_2: -0.002, b_2.grad: -0.001767, b_3: 0.240, b_3.grad: 0.007011, b_4: 0.850, b_4.grad: -0.055684, b_5: 0.313, b_5.grad: 0.001223\n",
            "Epoch: 635, C: 0.301, b_0: 0.424, b_0.grad: 0.000492, b_1: 0.313, b_1.grad: 0.000642, b_2: -0.002, b_2.grad: -0.001761, b_3: 0.240, b_3.grad: 0.007014, b_4: 0.851, b_4.grad: -0.055657, b_5: 0.313, b_5.grad: 0.001199\n",
            "Epoch: 636, C: 0.301, b_0: 0.424, b_0.grad: 0.000481, b_1: 0.313, b_1.grad: 0.000641, b_2: -0.002, b_2.grad: -0.001754, b_3: 0.240, b_3.grad: 0.007016, b_4: 0.852, b_4.grad: -0.055631, b_5: 0.313, b_5.grad: 0.001176\n",
            "Epoch: 637, C: 0.301, b_0: 0.424, b_0.grad: 0.000469, b_1: 0.313, b_1.grad: 0.000640, b_2: -0.002, b_2.grad: -0.001748, b_3: 0.239, b_3.grad: 0.007018, b_4: 0.853, b_4.grad: -0.055605, b_5: 0.313, b_5.grad: 0.001152\n",
            "Epoch: 638, C: 0.301, b_0: 0.424, b_0.grad: 0.000458, b_1: 0.313, b_1.grad: 0.000639, b_2: -0.002, b_2.grad: -0.001742, b_3: 0.239, b_3.grad: 0.007020, b_4: 0.854, b_4.grad: -0.055578, b_5: 0.313, b_5.grad: 0.001129\n",
            "Epoch: 639, C: 0.301, b_0: 0.424, b_0.grad: 0.000446, b_1: 0.313, b_1.grad: 0.000638, b_2: -0.002, b_2.grad: -0.001735, b_3: 0.239, b_3.grad: 0.007023, b_4: 0.856, b_4.grad: -0.055552, b_5: 0.313, b_5.grad: 0.001106\n",
            "Epoch: 640, C: 0.301, b_0: 0.424, b_0.grad: 0.000435, b_1: 0.313, b_1.grad: 0.000637, b_2: -0.002, b_2.grad: -0.001729, b_3: 0.239, b_3.grad: 0.007025, b_4: 0.857, b_4.grad: -0.055526, b_5: 0.313, b_5.grad: 0.001083\n",
            "Epoch: 641, C: 0.301, b_0: 0.424, b_0.grad: 0.000423, b_1: 0.313, b_1.grad: 0.000637, b_2: -0.002, b_2.grad: -0.001723, b_3: 0.239, b_3.grad: 0.007027, b_4: 0.858, b_4.grad: -0.055499, b_5: 0.313, b_5.grad: 0.001060\n",
            "Epoch: 642, C: 0.301, b_0: 0.424, b_0.grad: 0.000412, b_1: 0.313, b_1.grad: 0.000636, b_2: -0.002, b_2.grad: -0.001717, b_3: 0.239, b_3.grad: 0.007029, b_4: 0.859, b_4.grad: -0.055473, b_5: 0.313, b_5.grad: 0.001037\n",
            "Epoch: 643, C: 0.301, b_0: 0.424, b_0.grad: 0.000401, b_1: 0.313, b_1.grad: 0.000635, b_2: -0.002, b_2.grad: -0.001711, b_3: 0.239, b_3.grad: 0.007031, b_4: 0.860, b_4.grad: -0.055447, b_5: 0.313, b_5.grad: 0.001015\n",
            "Epoch: 644, C: 0.301, b_0: 0.424, b_0.grad: 0.000389, b_1: 0.313, b_1.grad: 0.000634, b_2: -0.002, b_2.grad: -0.001704, b_3: 0.238, b_3.grad: 0.007033, b_4: 0.861, b_4.grad: -0.055421, b_5: 0.313, b_5.grad: 0.000993\n",
            "Epoch: 645, C: 0.301, b_0: 0.424, b_0.grad: 0.000378, b_1: 0.313, b_1.grad: 0.000633, b_2: -0.002, b_2.grad: -0.001698, b_3: 0.238, b_3.grad: 0.007035, b_4: 0.862, b_4.grad: -0.055394, b_5: 0.313, b_5.grad: 0.000970\n",
            "Epoch: 646, C: 0.300, b_0: 0.424, b_0.grad: 0.000367, b_1: 0.313, b_1.grad: 0.000632, b_2: -0.002, b_2.grad: -0.001692, b_3: 0.238, b_3.grad: 0.007036, b_4: 0.863, b_4.grad: -0.055368, b_5: 0.313, b_5.grad: 0.000948\n",
            "Epoch: 647, C: 0.300, b_0: 0.424, b_0.grad: 0.000356, b_1: 0.313, b_1.grad: 0.000632, b_2: -0.002, b_2.grad: -0.001686, b_3: 0.238, b_3.grad: 0.007039, b_4: 0.864, b_4.grad: -0.055342, b_5: 0.313, b_5.grad: 0.000927\n",
            "Epoch: 648, C: 0.300, b_0: 0.424, b_0.grad: 0.000345, b_1: 0.313, b_1.grad: 0.000631, b_2: -0.002, b_2.grad: -0.001680, b_3: 0.238, b_3.grad: 0.007040, b_4: 0.866, b_4.grad: -0.055316, b_5: 0.313, b_5.grad: 0.000905\n",
            "Epoch: 649, C: 0.300, b_0: 0.424, b_0.grad: 0.000333, b_1: 0.313, b_1.grad: 0.000630, b_2: -0.002, b_2.grad: -0.001674, b_3: 0.238, b_3.grad: 0.007042, b_4: 0.867, b_4.grad: -0.055290, b_5: 0.313, b_5.grad: 0.000883\n",
            "Epoch: 650, C: 0.300, b_0: 0.424, b_0.grad: 0.000322, b_1: 0.313, b_1.grad: 0.000629, b_2: -0.002, b_2.grad: -0.001668, b_3: 0.238, b_3.grad: 0.007044, b_4: 0.868, b_4.grad: -0.055264, b_5: 0.313, b_5.grad: 0.000862\n",
            "Epoch: 651, C: 0.300, b_0: 0.424, b_0.grad: 0.000311, b_1: 0.313, b_1.grad: 0.000628, b_2: -0.002, b_2.grad: -0.001662, b_3: 0.237, b_3.grad: 0.007046, b_4: 0.869, b_4.grad: -0.055238, b_5: 0.313, b_5.grad: 0.000841\n",
            "Epoch: 652, C: 0.300, b_0: 0.424, b_0.grad: 0.000300, b_1: 0.313, b_1.grad: 0.000628, b_2: -0.002, b_2.grad: -0.001657, b_3: 0.237, b_3.grad: 0.007048, b_4: 0.870, b_4.grad: -0.055212, b_5: 0.313, b_5.grad: 0.000819\n",
            "Epoch: 653, C: 0.300, b_0: 0.424, b_0.grad: 0.000290, b_1: 0.312, b_1.grad: 0.000627, b_2: -0.002, b_2.grad: -0.001651, b_3: 0.237, b_3.grad: 0.007049, b_4: 0.871, b_4.grad: -0.055186, b_5: 0.312, b_5.grad: 0.000798\n",
            "Epoch: 654, C: 0.300, b_0: 0.424, b_0.grad: 0.000279, b_1: 0.312, b_1.grad: 0.000626, b_2: -0.002, b_2.grad: -0.001645, b_3: 0.237, b_3.grad: 0.007051, b_4: 0.872, b_4.grad: -0.055160, b_5: 0.312, b_5.grad: 0.000778\n",
            "Epoch: 655, C: 0.300, b_0: 0.424, b_0.grad: 0.000268, b_1: 0.312, b_1.grad: 0.000625, b_2: -0.002, b_2.grad: -0.001639, b_3: 0.237, b_3.grad: 0.007053, b_4: 0.873, b_4.grad: -0.055134, b_5: 0.312, b_5.grad: 0.000757\n",
            "Epoch: 656, C: 0.300, b_0: 0.424, b_0.grad: 0.000257, b_1: 0.312, b_1.grad: 0.000624, b_2: -0.001, b_2.grad: -0.001634, b_3: 0.237, b_3.grad: 0.007054, b_4: 0.874, b_4.grad: -0.055108, b_5: 0.312, b_5.grad: 0.000736\n",
            "Epoch: 657, C: 0.300, b_0: 0.424, b_0.grad: 0.000246, b_1: 0.312, b_1.grad: 0.000624, b_2: -0.001, b_2.grad: -0.001628, b_3: 0.237, b_3.grad: 0.007056, b_4: 0.875, b_4.grad: -0.055082, b_5: 0.312, b_5.grad: 0.000716\n",
            "Epoch: 658, C: 0.300, b_0: 0.424, b_0.grad: 0.000236, b_1: 0.312, b_1.grad: 0.000623, b_2: -0.001, b_2.grad: -0.001622, b_3: 0.236, b_3.grad: 0.007058, b_4: 0.877, b_4.grad: -0.055056, b_5: 0.312, b_5.grad: 0.000696\n",
            "Epoch: 659, C: 0.300, b_0: 0.424, b_0.grad: 0.000225, b_1: 0.312, b_1.grad: 0.000622, b_2: -0.001, b_2.grad: -0.001616, b_3: 0.236, b_3.grad: 0.007059, b_4: 0.878, b_4.grad: -0.055031, b_5: 0.312, b_5.grad: 0.000676\n",
            "Epoch: 660, C: 0.300, b_0: 0.424, b_0.grad: 0.000214, b_1: 0.312, b_1.grad: 0.000621, b_2: -0.001, b_2.grad: -0.001611, b_3: 0.236, b_3.grad: 0.007061, b_4: 0.879, b_4.grad: -0.055005, b_5: 0.312, b_5.grad: 0.000655\n",
            "Epoch: 661, C: 0.300, b_0: 0.424, b_0.grad: 0.000204, b_1: 0.312, b_1.grad: 0.000620, b_2: -0.001, b_2.grad: -0.001605, b_3: 0.236, b_3.grad: 0.007062, b_4: 0.880, b_4.grad: -0.054979, b_5: 0.312, b_5.grad: 0.000636\n",
            "Epoch: 662, C: 0.299, b_0: 0.424, b_0.grad: 0.000193, b_1: 0.312, b_1.grad: 0.000620, b_2: -0.001, b_2.grad: -0.001600, b_3: 0.236, b_3.grad: 0.007064, b_4: 0.881, b_4.grad: -0.054953, b_5: 0.312, b_5.grad: 0.000616\n",
            "Epoch: 663, C: 0.299, b_0: 0.424, b_0.grad: 0.000182, b_1: 0.312, b_1.grad: 0.000619, b_2: -0.001, b_2.grad: -0.001594, b_3: 0.236, b_3.grad: 0.007065, b_4: 0.882, b_4.grad: -0.054927, b_5: 0.312, b_5.grad: 0.000596\n",
            "Epoch: 664, C: 0.299, b_0: 0.424, b_0.grad: 0.000172, b_1: 0.312, b_1.grad: 0.000618, b_2: -0.001, b_2.grad: -0.001588, b_3: 0.236, b_3.grad: 0.007067, b_4: 0.883, b_4.grad: -0.054902, b_5: 0.312, b_5.grad: 0.000577\n",
            "Epoch: 665, C: 0.299, b_0: 0.424, b_0.grad: 0.000162, b_1: 0.312, b_1.grad: 0.000617, b_2: -0.001, b_2.grad: -0.001583, b_3: 0.235, b_3.grad: 0.007068, b_4: 0.884, b_4.grad: -0.054876, b_5: 0.312, b_5.grad: 0.000558\n",
            "Epoch: 666, C: 0.299, b_0: 0.424, b_0.grad: 0.000151, b_1: 0.312, b_1.grad: 0.000616, b_2: -0.001, b_2.grad: -0.001577, b_3: 0.235, b_3.grad: 0.007070, b_4: 0.885, b_4.grad: -0.054850, b_5: 0.312, b_5.grad: 0.000538\n",
            "Epoch: 667, C: 0.299, b_0: 0.424, b_0.grad: 0.000141, b_1: 0.312, b_1.grad: 0.000616, b_2: -0.001, b_2.grad: -0.001572, b_3: 0.235, b_3.grad: 0.007071, b_4: 0.886, b_4.grad: -0.054825, b_5: 0.312, b_5.grad: 0.000519\n",
            "Epoch: 668, C: 0.299, b_0: 0.424, b_0.grad: 0.000131, b_1: 0.312, b_1.grad: 0.000615, b_2: -0.001, b_2.grad: -0.001567, b_3: 0.235, b_3.grad: 0.007072, b_4: 0.888, b_4.grad: -0.054799, b_5: 0.312, b_5.grad: 0.000500\n",
            "Epoch: 669, C: 0.299, b_0: 0.424, b_0.grad: 0.000120, b_1: 0.312, b_1.grad: 0.000614, b_2: -0.001, b_2.grad: -0.001561, b_3: 0.235, b_3.grad: 0.007073, b_4: 0.889, b_4.grad: -0.054773, b_5: 0.312, b_5.grad: 0.000482\n",
            "Epoch: 670, C: 0.299, b_0: 0.424, b_0.grad: 0.000110, b_1: 0.312, b_1.grad: 0.000613, b_2: -0.001, b_2.grad: -0.001556, b_3: 0.235, b_3.grad: 0.007075, b_4: 0.890, b_4.grad: -0.054748, b_5: 0.312, b_5.grad: 0.000463\n",
            "Epoch: 671, C: 0.299, b_0: 0.424, b_0.grad: 0.000100, b_1: 0.312, b_1.grad: 0.000612, b_2: -0.001, b_2.grad: -0.001551, b_3: 0.235, b_3.grad: 0.007076, b_4: 0.891, b_4.grad: -0.054722, b_5: 0.312, b_5.grad: 0.000444\n",
            "Epoch: 672, C: 0.299, b_0: 0.424, b_0.grad: 0.000090, b_1: 0.312, b_1.grad: 0.000612, b_2: -0.001, b_2.grad: -0.001545, b_3: 0.234, b_3.grad: 0.007077, b_4: 0.892, b_4.grad: -0.054697, b_5: 0.312, b_5.grad: 0.000426\n",
            "Epoch: 673, C: 0.299, b_0: 0.424, b_0.grad: 0.000079, b_1: 0.312, b_1.grad: 0.000611, b_2: -0.001, b_2.grad: -0.001540, b_3: 0.234, b_3.grad: 0.007079, b_4: 0.893, b_4.grad: -0.054671, b_5: 0.312, b_5.grad: 0.000408\n",
            "Epoch: 674, C: 0.299, b_0: 0.424, b_0.grad: 0.000069, b_1: 0.312, b_1.grad: 0.000610, b_2: -0.001, b_2.grad: -0.001534, b_3: 0.234, b_3.grad: 0.007080, b_4: 0.894, b_4.grad: -0.054645, b_5: 0.312, b_5.grad: 0.000390\n",
            "Epoch: 675, C: 0.299, b_0: 0.424, b_0.grad: 0.000059, b_1: 0.312, b_1.grad: 0.000609, b_2: -0.001, b_2.grad: -0.001529, b_3: 0.234, b_3.grad: 0.007081, b_4: 0.895, b_4.grad: -0.054620, b_5: 0.312, b_5.grad: 0.000372\n",
            "Epoch: 676, C: 0.299, b_0: 0.424, b_0.grad: 0.000049, b_1: 0.312, b_1.grad: 0.000609, b_2: -0.001, b_2.grad: -0.001524, b_3: 0.234, b_3.grad: 0.007082, b_4: 0.896, b_4.grad: -0.054595, b_5: 0.312, b_5.grad: 0.000354\n",
            "Epoch: 677, C: 0.299, b_0: 0.424, b_0.grad: 0.000039, b_1: 0.312, b_1.grad: 0.000608, b_2: -0.001, b_2.grad: -0.001519, b_3: 0.234, b_3.grad: 0.007083, b_4: 0.897, b_4.grad: -0.054569, b_5: 0.312, b_5.grad: 0.000336\n",
            "Epoch: 678, C: 0.298, b_0: 0.424, b_0.grad: 0.000029, b_1: 0.312, b_1.grad: 0.000607, b_2: -0.001, b_2.grad: -0.001514, b_3: 0.234, b_3.grad: 0.007085, b_4: 0.899, b_4.grad: -0.054544, b_5: 0.312, b_5.grad: 0.000318\n",
            "Epoch: 679, C: 0.298, b_0: 0.424, b_0.grad: 0.000019, b_1: 0.312, b_1.grad: 0.000606, b_2: -0.001, b_2.grad: -0.001509, b_3: 0.233, b_3.grad: 0.007086, b_4: 0.900, b_4.grad: -0.054518, b_5: 0.312, b_5.grad: 0.000301\n",
            "Epoch: 680, C: 0.298, b_0: 0.424, b_0.grad: 0.000009, b_1: 0.312, b_1.grad: 0.000606, b_2: -0.001, b_2.grad: -0.001504, b_3: 0.233, b_3.grad: 0.007087, b_4: 0.901, b_4.grad: -0.054493, b_5: 0.312, b_5.grad: 0.000283\n",
            "Epoch: 681, C: 0.298, b_0: 0.424, b_0.grad: -0.000000, b_1: 0.312, b_1.grad: 0.000605, b_2: -0.001, b_2.grad: -0.001498, b_3: 0.233, b_3.grad: 0.007088, b_4: 0.902, b_4.grad: -0.054467, b_5: 0.312, b_5.grad: 0.000266\n",
            "Epoch: 682, C: 0.298, b_0: 0.424, b_0.grad: -0.000010, b_1: 0.312, b_1.grad: 0.000604, b_2: -0.001, b_2.grad: -0.001493, b_3: 0.233, b_3.grad: 0.007089, b_4: 0.903, b_4.grad: -0.054442, b_5: 0.312, b_5.grad: 0.000249\n",
            "Epoch: 683, C: 0.298, b_0: 0.424, b_0.grad: -0.000020, b_1: 0.312, b_1.grad: 0.000603, b_2: -0.001, b_2.grad: -0.001488, b_3: 0.233, b_3.grad: 0.007090, b_4: 0.904, b_4.grad: -0.054417, b_5: 0.312, b_5.grad: 0.000232\n",
            "Epoch: 684, C: 0.298, b_0: 0.424, b_0.grad: -0.000030, b_1: 0.312, b_1.grad: 0.000603, b_2: -0.001, b_2.grad: -0.001483, b_3: 0.233, b_3.grad: 0.007091, b_4: 0.905, b_4.grad: -0.054392, b_5: 0.312, b_5.grad: 0.000215\n",
            "Epoch: 685, C: 0.298, b_0: 0.424, b_0.grad: -0.000040, b_1: 0.312, b_1.grad: 0.000602, b_2: -0.001, b_2.grad: -0.001478, b_3: 0.233, b_3.grad: 0.007092, b_4: 0.906, b_4.grad: -0.054366, b_5: 0.312, b_5.grad: 0.000198\n",
            "Epoch: 686, C: 0.298, b_0: 0.424, b_0.grad: -0.000049, b_1: 0.312, b_1.grad: 0.000601, b_2: -0.001, b_2.grad: -0.001473, b_3: 0.232, b_3.grad: 0.007093, b_4: 0.907, b_4.grad: -0.054341, b_5: 0.312, b_5.grad: 0.000182\n",
            "Epoch: 687, C: 0.298, b_0: 0.424, b_0.grad: -0.000059, b_1: 0.312, b_1.grad: 0.000600, b_2: -0.001, b_2.grad: -0.001468, b_3: 0.232, b_3.grad: 0.007094, b_4: 0.908, b_4.grad: -0.054316, b_5: 0.312, b_5.grad: 0.000165\n",
            "Epoch: 688, C: 0.298, b_0: 0.424, b_0.grad: -0.000068, b_1: 0.312, b_1.grad: 0.000600, b_2: -0.000, b_2.grad: -0.001464, b_3: 0.232, b_3.grad: 0.007094, b_4: 0.909, b_4.grad: -0.054291, b_5: 0.312, b_5.grad: 0.000149\n",
            "Epoch: 689, C: 0.298, b_0: 0.424, b_0.grad: -0.000078, b_1: 0.312, b_1.grad: 0.000599, b_2: -0.000, b_2.grad: -0.001459, b_3: 0.232, b_3.grad: 0.007095, b_4: 0.910, b_4.grad: -0.054265, b_5: 0.312, b_5.grad: 0.000132\n",
            "Epoch: 690, C: 0.298, b_0: 0.424, b_0.grad: -0.000088, b_1: 0.312, b_1.grad: 0.000598, b_2: -0.000, b_2.grad: -0.001454, b_3: 0.232, b_3.grad: 0.007096, b_4: 0.912, b_4.grad: -0.054240, b_5: 0.312, b_5.grad: 0.000116\n",
            "Epoch: 691, C: 0.298, b_0: 0.424, b_0.grad: -0.000097, b_1: 0.312, b_1.grad: 0.000597, b_2: -0.000, b_2.grad: -0.001449, b_3: 0.232, b_3.grad: 0.007097, b_4: 0.913, b_4.grad: -0.054215, b_5: 0.312, b_5.grad: 0.000100\n",
            "Epoch: 692, C: 0.298, b_0: 0.424, b_0.grad: -0.000107, b_1: 0.312, b_1.grad: 0.000597, b_2: -0.000, b_2.grad: -0.001444, b_3: 0.232, b_3.grad: 0.007098, b_4: 0.914, b_4.grad: -0.054190, b_5: 0.312, b_5.grad: 0.000084\n",
            "Epoch: 693, C: 0.298, b_0: 0.424, b_0.grad: -0.000116, b_1: 0.312, b_1.grad: 0.000596, b_2: -0.000, b_2.grad: -0.001439, b_3: 0.231, b_3.grad: 0.007099, b_4: 0.915, b_4.grad: -0.054165, b_5: 0.312, b_5.grad: 0.000068\n",
            "Epoch: 694, C: 0.298, b_0: 0.424, b_0.grad: -0.000125, b_1: 0.312, b_1.grad: 0.000595, b_2: -0.000, b_2.grad: -0.001434, b_3: 0.231, b_3.grad: 0.007099, b_4: 0.916, b_4.grad: -0.054140, b_5: 0.312, b_5.grad: 0.000052\n",
            "Epoch: 695, C: 0.297, b_0: 0.424, b_0.grad: -0.000135, b_1: 0.312, b_1.grad: 0.000595, b_2: -0.000, b_2.grad: -0.001430, b_3: 0.231, b_3.grad: 0.007100, b_4: 0.917, b_4.grad: -0.054115, b_5: 0.312, b_5.grad: 0.000037\n",
            "Epoch: 696, C: 0.297, b_0: 0.424, b_0.grad: -0.000144, b_1: 0.312, b_1.grad: 0.000594, b_2: -0.000, b_2.grad: -0.001425, b_3: 0.231, b_3.grad: 0.007101, b_4: 0.918, b_4.grad: -0.054089, b_5: 0.312, b_5.grad: 0.000021\n",
            "Epoch: 697, C: 0.297, b_0: 0.424, b_0.grad: -0.000154, b_1: 0.312, b_1.grad: 0.000593, b_2: -0.000, b_2.grad: -0.001420, b_3: 0.231, b_3.grad: 0.007101, b_4: 0.919, b_4.grad: -0.054064, b_5: 0.312, b_5.grad: 0.000006\n",
            "Epoch: 698, C: 0.297, b_0: 0.424, b_0.grad: -0.000163, b_1: 0.312, b_1.grad: 0.000592, b_2: -0.000, b_2.grad: -0.001416, b_3: 0.231, b_3.grad: 0.007102, b_4: 0.920, b_4.grad: -0.054039, b_5: 0.312, b_5.grad: -0.000009\n",
            "Epoch: 699, C: 0.297, b_0: 0.424, b_0.grad: -0.000172, b_1: 0.312, b_1.grad: 0.000592, b_2: -0.000, b_2.grad: -0.001411, b_3: 0.231, b_3.grad: 0.007103, b_4: 0.921, b_4.grad: -0.054014, b_5: 0.312, b_5.grad: -0.000025\n",
            "Epoch: 700, C: 0.297, b_0: 0.424, b_0.grad: -0.000181, b_1: 0.312, b_1.grad: 0.000591, b_2: -0.000, b_2.grad: -0.001406, b_3: 0.230, b_3.grad: 0.007103, b_4: 0.922, b_4.grad: -0.053989, b_5: 0.312, b_5.grad: -0.000040\n",
            "Epoch: 701, C: 0.297, b_0: 0.424, b_0.grad: -0.000190, b_1: 0.312, b_1.grad: 0.000590, b_2: -0.000, b_2.grad: -0.001402, b_3: 0.230, b_3.grad: 0.007104, b_4: 0.923, b_4.grad: -0.053965, b_5: 0.312, b_5.grad: -0.000055\n",
            "Epoch: 702, C: 0.297, b_0: 0.424, b_0.grad: -0.000200, b_1: 0.312, b_1.grad: 0.000590, b_2: -0.000, b_2.grad: -0.001397, b_3: 0.230, b_3.grad: 0.007105, b_4: 0.925, b_4.grad: -0.053940, b_5: 0.312, b_5.grad: -0.000070\n",
            "Epoch: 703, C: 0.297, b_0: 0.424, b_0.grad: -0.000209, b_1: 0.312, b_1.grad: 0.000589, b_2: -0.000, b_2.grad: -0.001393, b_3: 0.230, b_3.grad: 0.007105, b_4: 0.926, b_4.grad: -0.053915, b_5: 0.312, b_5.grad: -0.000084\n",
            "Epoch: 704, C: 0.297, b_0: 0.424, b_0.grad: -0.000218, b_1: 0.312, b_1.grad: 0.000588, b_2: -0.000, b_2.grad: -0.001388, b_3: 0.230, b_3.grad: 0.007106, b_4: 0.927, b_4.grad: -0.053890, b_5: 0.312, b_5.grad: -0.000099\n",
            "Epoch: 705, C: 0.297, b_0: 0.424, b_0.grad: -0.000227, b_1: 0.312, b_1.grad: 0.000587, b_2: -0.000, b_2.grad: -0.001383, b_3: 0.230, b_3.grad: 0.007106, b_4: 0.928, b_4.grad: -0.053865, b_5: 0.312, b_5.grad: -0.000114\n",
            "Epoch: 706, C: 0.297, b_0: 0.424, b_0.grad: -0.000236, b_1: 0.312, b_1.grad: 0.000587, b_2: 0.000, b_2.grad: -0.001379, b_3: 0.230, b_3.grad: 0.007107, b_4: 0.929, b_4.grad: -0.053840, b_5: 0.312, b_5.grad: -0.000128\n",
            "Epoch: 707, C: 0.297, b_0: 0.424, b_0.grad: -0.000245, b_1: 0.312, b_1.grad: 0.000586, b_2: 0.000, b_2.grad: -0.001374, b_3: 0.229, b_3.grad: 0.007108, b_4: 0.930, b_4.grad: -0.053815, b_5: 0.312, b_5.grad: -0.000142\n",
            "Epoch: 708, C: 0.297, b_0: 0.424, b_0.grad: -0.000254, b_1: 0.312, b_1.grad: 0.000585, b_2: 0.000, b_2.grad: -0.001370, b_3: 0.229, b_3.grad: 0.007108, b_4: 0.931, b_4.grad: -0.053790, b_5: 0.312, b_5.grad: -0.000157\n",
            "Epoch: 709, C: 0.297, b_0: 0.424, b_0.grad: -0.000263, b_1: 0.312, b_1.grad: 0.000585, b_2: 0.000, b_2.grad: -0.001366, b_3: 0.229, b_3.grad: 0.007108, b_4: 0.932, b_4.grad: -0.053766, b_5: 0.312, b_5.grad: -0.000171\n",
            "Epoch: 710, C: 0.297, b_0: 0.424, b_0.grad: -0.000272, b_1: 0.312, b_1.grad: 0.000584, b_2: 0.000, b_2.grad: -0.001361, b_3: 0.229, b_3.grad: 0.007109, b_4: 0.933, b_4.grad: -0.053741, b_5: 0.312, b_5.grad: -0.000185\n",
            "Epoch: 711, C: 0.297, b_0: 0.424, b_0.grad: -0.000281, b_1: 0.312, b_1.grad: 0.000583, b_2: 0.000, b_2.grad: -0.001357, b_3: 0.229, b_3.grad: 0.007109, b_4: 0.934, b_4.grad: -0.053716, b_5: 0.312, b_5.grad: -0.000199\n",
            "Epoch: 712, C: 0.296, b_0: 0.424, b_0.grad: -0.000289, b_1: 0.312, b_1.grad: 0.000583, b_2: 0.000, b_2.grad: -0.001352, b_3: 0.229, b_3.grad: 0.007110, b_4: 0.935, b_4.grad: -0.053691, b_5: 0.312, b_5.grad: -0.000213\n",
            "Epoch: 713, C: 0.296, b_0: 0.424, b_0.grad: -0.000298, b_1: 0.312, b_1.grad: 0.000582, b_2: 0.000, b_2.grad: -0.001348, b_3: 0.229, b_3.grad: 0.007110, b_4: 0.936, b_4.grad: -0.053667, b_5: 0.312, b_5.grad: -0.000226\n",
            "Epoch: 714, C: 0.296, b_0: 0.424, b_0.grad: -0.000307, b_1: 0.312, b_1.grad: 0.000581, b_2: 0.000, b_2.grad: -0.001344, b_3: 0.228, b_3.grad: 0.007111, b_4: 0.937, b_4.grad: -0.053642, b_5: 0.312, b_5.grad: -0.000240\n",
            "Epoch: 715, C: 0.296, b_0: 0.424, b_0.grad: -0.000316, b_1: 0.312, b_1.grad: 0.000581, b_2: 0.000, b_2.grad: -0.001339, b_3: 0.228, b_3.grad: 0.007111, b_4: 0.939, b_4.grad: -0.053617, b_5: 0.312, b_5.grad: -0.000254\n",
            "Epoch: 716, C: 0.296, b_0: 0.424, b_0.grad: -0.000324, b_1: 0.312, b_1.grad: 0.000580, b_2: 0.000, b_2.grad: -0.001335, b_3: 0.228, b_3.grad: 0.007111, b_4: 0.940, b_4.grad: -0.053593, b_5: 0.312, b_5.grad: -0.000267\n",
            "Epoch: 717, C: 0.296, b_0: 0.424, b_0.grad: -0.000333, b_1: 0.312, b_1.grad: 0.000579, b_2: 0.000, b_2.grad: -0.001331, b_3: 0.228, b_3.grad: 0.007112, b_4: 0.941, b_4.grad: -0.053568, b_5: 0.312, b_5.grad: -0.000280\n",
            "Epoch: 718, C: 0.296, b_0: 0.424, b_0.grad: -0.000342, b_1: 0.312, b_1.grad: 0.000579, b_2: 0.000, b_2.grad: -0.001326, b_3: 0.228, b_3.grad: 0.007112, b_4: 0.942, b_4.grad: -0.053543, b_5: 0.312, b_5.grad: -0.000294\n",
            "Epoch: 719, C: 0.296, b_0: 0.424, b_0.grad: -0.000350, b_1: 0.312, b_1.grad: 0.000578, b_2: 0.000, b_2.grad: -0.001322, b_3: 0.228, b_3.grad: 0.007112, b_4: 0.943, b_4.grad: -0.053519, b_5: 0.312, b_5.grad: -0.000307\n",
            "Epoch: 720, C: 0.296, b_0: 0.424, b_0.grad: -0.000359, b_1: 0.312, b_1.grad: 0.000577, b_2: 0.000, b_2.grad: -0.001318, b_3: 0.228, b_3.grad: 0.007112, b_4: 0.944, b_4.grad: -0.053494, b_5: 0.312, b_5.grad: -0.000320\n",
            "Epoch: 721, C: 0.296, b_0: 0.424, b_0.grad: -0.000368, b_1: 0.312, b_1.grad: 0.000577, b_2: 0.000, b_2.grad: -0.001314, b_3: 0.227, b_3.grad: 0.007113, b_4: 0.945, b_4.grad: -0.053470, b_5: 0.312, b_5.grad: -0.000333\n",
            "Epoch: 722, C: 0.296, b_0: 0.424, b_0.grad: -0.000376, b_1: 0.312, b_1.grad: 0.000576, b_2: 0.000, b_2.grad: -0.001310, b_3: 0.227, b_3.grad: 0.007113, b_4: 0.946, b_4.grad: -0.053445, b_5: 0.312, b_5.grad: -0.000346\n",
            "Epoch: 723, C: 0.296, b_0: 0.424, b_0.grad: -0.000385, b_1: 0.312, b_1.grad: 0.000575, b_2: 0.000, b_2.grad: -0.001306, b_3: 0.227, b_3.grad: 0.007113, b_4: 0.947, b_4.grad: -0.053420, b_5: 0.312, b_5.grad: -0.000359\n",
            "Epoch: 724, C: 0.296, b_0: 0.424, b_0.grad: -0.000393, b_1: 0.312, b_1.grad: 0.000575, b_2: 0.001, b_2.grad: -0.001301, b_3: 0.227, b_3.grad: 0.007113, b_4: 0.948, b_4.grad: -0.053396, b_5: 0.312, b_5.grad: -0.000371\n",
            "Epoch: 725, C: 0.296, b_0: 0.424, b_0.grad: -0.000402, b_1: 0.312, b_1.grad: 0.000574, b_2: 0.001, b_2.grad: -0.001297, b_3: 0.227, b_3.grad: 0.007114, b_4: 0.949, b_4.grad: -0.053371, b_5: 0.312, b_5.grad: -0.000384\n",
            "Epoch: 726, C: 0.296, b_0: 0.424, b_0.grad: -0.000410, b_1: 0.312, b_1.grad: 0.000573, b_2: 0.001, b_2.grad: -0.001293, b_3: 0.227, b_3.grad: 0.007114, b_4: 0.950, b_4.grad: -0.053347, b_5: 0.312, b_5.grad: -0.000397\n",
            "Epoch: 727, C: 0.296, b_0: 0.424, b_0.grad: -0.000418, b_1: 0.312, b_1.grad: 0.000573, b_2: 0.001, b_2.grad: -0.001289, b_3: 0.227, b_3.grad: 0.007114, b_4: 0.951, b_4.grad: -0.053323, b_5: 0.312, b_5.grad: -0.000409\n",
            "Epoch: 728, C: 0.296, b_0: 0.424, b_0.grad: -0.000427, b_1: 0.312, b_1.grad: 0.000572, b_2: 0.001, b_2.grad: -0.001285, b_3: 0.226, b_3.grad: 0.007114, b_4: 0.952, b_4.grad: -0.053298, b_5: 0.312, b_5.grad: -0.000421\n",
            "Epoch: 729, C: 0.295, b_0: 0.424, b_0.grad: -0.000435, b_1: 0.312, b_1.grad: 0.000572, b_2: 0.001, b_2.grad: -0.001281, b_3: 0.226, b_3.grad: 0.007114, b_4: 0.954, b_4.grad: -0.053274, b_5: 0.312, b_5.grad: -0.000434\n",
            "Epoch: 730, C: 0.295, b_0: 0.424, b_0.grad: -0.000443, b_1: 0.312, b_1.grad: 0.000571, b_2: 0.001, b_2.grad: -0.001277, b_3: 0.226, b_3.grad: 0.007114, b_4: 0.955, b_4.grad: -0.053249, b_5: 0.312, b_5.grad: -0.000446\n",
            "Epoch: 731, C: 0.295, b_0: 0.424, b_0.grad: -0.000452, b_1: 0.312, b_1.grad: 0.000570, b_2: 0.001, b_2.grad: -0.001273, b_3: 0.226, b_3.grad: 0.007114, b_4: 0.956, b_4.grad: -0.053225, b_5: 0.312, b_5.grad: -0.000458\n",
            "Epoch: 732, C: 0.295, b_0: 0.424, b_0.grad: -0.000460, b_1: 0.312, b_1.grad: 0.000570, b_2: 0.001, b_2.grad: -0.001269, b_3: 0.226, b_3.grad: 0.007114, b_4: 0.957, b_4.grad: -0.053201, b_5: 0.312, b_5.grad: -0.000470\n",
            "Epoch: 733, C: 0.295, b_0: 0.424, b_0.grad: -0.000468, b_1: 0.312, b_1.grad: 0.000569, b_2: 0.001, b_2.grad: -0.001265, b_3: 0.226, b_3.grad: 0.007114, b_4: 0.958, b_4.grad: -0.053176, b_5: 0.312, b_5.grad: -0.000482\n",
            "Epoch: 734, C: 0.295, b_0: 0.424, b_0.grad: -0.000476, b_1: 0.312, b_1.grad: 0.000568, b_2: 0.001, b_2.grad: -0.001261, b_3: 0.226, b_3.grad: 0.007114, b_4: 0.959, b_4.grad: -0.053152, b_5: 0.312, b_5.grad: -0.000493\n",
            "Epoch: 735, C: 0.295, b_0: 0.424, b_0.grad: -0.000485, b_1: 0.312, b_1.grad: 0.000568, b_2: 0.001, b_2.grad: -0.001257, b_3: 0.225, b_3.grad: 0.007115, b_4: 0.960, b_4.grad: -0.053128, b_5: 0.312, b_5.grad: -0.000505\n",
            "Epoch: 736, C: 0.295, b_0: 0.424, b_0.grad: -0.000493, b_1: 0.312, b_1.grad: 0.000567, b_2: 0.001, b_2.grad: -0.001253, b_3: 0.225, b_3.grad: 0.007115, b_4: 0.961, b_4.grad: -0.053103, b_5: 0.312, b_5.grad: -0.000517\n",
            "Epoch: 737, C: 0.295, b_0: 0.424, b_0.grad: -0.000501, b_1: 0.311, b_1.grad: 0.000567, b_2: 0.001, b_2.grad: -0.001249, b_3: 0.225, b_3.grad: 0.007115, b_4: 0.962, b_4.grad: -0.053079, b_5: 0.311, b_5.grad: -0.000528\n",
            "Epoch: 738, C: 0.295, b_0: 0.424, b_0.grad: -0.000509, b_1: 0.311, b_1.grad: 0.000566, b_2: 0.001, b_2.grad: -0.001245, b_3: 0.225, b_3.grad: 0.007114, b_4: 0.963, b_4.grad: -0.053055, b_5: 0.311, b_5.grad: -0.000540\n",
            "Epoch: 739, C: 0.295, b_0: 0.424, b_0.grad: -0.000517, b_1: 0.311, b_1.grad: 0.000565, b_2: 0.001, b_2.grad: -0.001241, b_3: 0.225, b_3.grad: 0.007115, b_4: 0.964, b_4.grad: -0.053030, b_5: 0.311, b_5.grad: -0.000551\n",
            "Epoch: 740, C: 0.295, b_0: 0.424, b_0.grad: -0.000525, b_1: 0.311, b_1.grad: 0.000565, b_2: 0.001, b_2.grad: -0.001238, b_3: 0.225, b_3.grad: 0.007114, b_4: 0.965, b_4.grad: -0.053006, b_5: 0.311, b_5.grad: -0.000562\n",
            "Epoch: 741, C: 0.295, b_0: 0.424, b_0.grad: -0.000533, b_1: 0.311, b_1.grad: 0.000564, b_2: 0.001, b_2.grad: -0.001234, b_3: 0.225, b_3.grad: 0.007114, b_4: 0.966, b_4.grad: -0.052982, b_5: 0.311, b_5.grad: -0.000574\n",
            "Epoch: 742, C: 0.295, b_0: 0.424, b_0.grad: -0.000541, b_1: 0.311, b_1.grad: 0.000564, b_2: 0.001, b_2.grad: -0.001230, b_3: 0.224, b_3.grad: 0.007114, b_4: 0.967, b_4.grad: -0.052958, b_5: 0.311, b_5.grad: -0.000585\n",
            "Epoch: 743, C: 0.295, b_0: 0.424, b_0.grad: -0.000549, b_1: 0.311, b_1.grad: 0.000563, b_2: 0.001, b_2.grad: -0.001226, b_3: 0.224, b_3.grad: 0.007114, b_4: 0.968, b_4.grad: -0.052934, b_5: 0.311, b_5.grad: -0.000596\n",
            "Epoch: 744, C: 0.295, b_0: 0.424, b_0.grad: -0.000557, b_1: 0.311, b_1.grad: 0.000562, b_2: 0.001, b_2.grad: -0.001222, b_3: 0.224, b_3.grad: 0.007114, b_4: 0.969, b_4.grad: -0.052909, b_5: 0.311, b_5.grad: -0.000607\n",
            "Epoch: 745, C: 0.295, b_0: 0.424, b_0.grad: -0.000565, b_1: 0.311, b_1.grad: 0.000562, b_2: 0.001, b_2.grad: -0.001219, b_3: 0.224, b_3.grad: 0.007114, b_4: 0.971, b_4.grad: -0.052885, b_5: 0.311, b_5.grad: -0.000618\n",
            "Epoch: 746, C: 0.294, b_0: 0.424, b_0.grad: -0.000573, b_1: 0.311, b_1.grad: 0.000561, b_2: 0.001, b_2.grad: -0.001215, b_3: 0.224, b_3.grad: 0.007114, b_4: 0.972, b_4.grad: -0.052861, b_5: 0.311, b_5.grad: -0.000629\n",
            "Epoch: 747, C: 0.294, b_0: 0.424, b_0.grad: -0.000580, b_1: 0.311, b_1.grad: 0.000561, b_2: 0.001, b_2.grad: -0.001211, b_3: 0.224, b_3.grad: 0.007114, b_4: 0.973, b_4.grad: -0.052837, b_5: 0.311, b_5.grad: -0.000639\n",
            "Epoch: 748, C: 0.294, b_0: 0.424, b_0.grad: -0.000588, b_1: 0.311, b_1.grad: 0.000560, b_2: 0.001, b_2.grad: -0.001208, b_3: 0.224, b_3.grad: 0.007113, b_4: 0.974, b_4.grad: -0.052813, b_5: 0.311, b_5.grad: -0.000650\n",
            "Epoch: 749, C: 0.294, b_0: 0.424, b_0.grad: -0.000596, b_1: 0.311, b_1.grad: 0.000559, b_2: 0.001, b_2.grad: -0.001204, b_3: 0.224, b_3.grad: 0.007113, b_4: 0.975, b_4.grad: -0.052789, b_5: 0.311, b_5.grad: -0.000660\n",
            "Epoch: 750, C: 0.294, b_0: 0.424, b_0.grad: -0.000604, b_1: 0.311, b_1.grad: 0.000559, b_2: 0.001, b_2.grad: -0.001200, b_3: 0.223, b_3.grad: 0.007113, b_4: 0.976, b_4.grad: -0.052765, b_5: 0.311, b_5.grad: -0.000671\n",
            "Epoch: 751, C: 0.294, b_0: 0.424, b_0.grad: -0.000612, b_1: 0.311, b_1.grad: 0.000558, b_2: 0.001, b_2.grad: -0.001197, b_3: 0.223, b_3.grad: 0.007113, b_4: 0.977, b_4.grad: -0.052741, b_5: 0.311, b_5.grad: -0.000681\n",
            "Epoch: 752, C: 0.294, b_0: 0.424, b_0.grad: -0.000619, b_1: 0.311, b_1.grad: 0.000558, b_2: 0.001, b_2.grad: -0.001193, b_3: 0.223, b_3.grad: 0.007112, b_4: 0.978, b_4.grad: -0.052717, b_5: 0.311, b_5.grad: -0.000692\n",
            "Epoch: 753, C: 0.294, b_0: 0.424, b_0.grad: -0.000627, b_1: 0.311, b_1.grad: 0.000557, b_2: 0.001, b_2.grad: -0.001189, b_3: 0.223, b_3.grad: 0.007112, b_4: 0.979, b_4.grad: -0.052693, b_5: 0.311, b_5.grad: -0.000702\n",
            "Epoch: 754, C: 0.294, b_0: 0.424, b_0.grad: -0.000635, b_1: 0.311, b_1.grad: 0.000557, b_2: 0.001, b_2.grad: -0.001186, b_3: 0.223, b_3.grad: 0.007112, b_4: 0.980, b_4.grad: -0.052669, b_5: 0.311, b_5.grad: -0.000712\n",
            "Epoch: 755, C: 0.294, b_0: 0.424, b_0.grad: -0.000642, b_1: 0.311, b_1.grad: 0.000556, b_2: 0.001, b_2.grad: -0.001182, b_3: 0.223, b_3.grad: 0.007112, b_4: 0.981, b_4.grad: -0.052645, b_5: 0.311, b_5.grad: -0.000722\n",
            "Epoch: 756, C: 0.294, b_0: 0.424, b_0.grad: -0.000650, b_1: 0.311, b_1.grad: 0.000556, b_2: 0.001, b_2.grad: -0.001179, b_3: 0.223, b_3.grad: 0.007111, b_4: 0.982, b_4.grad: -0.052621, b_5: 0.311, b_5.grad: -0.000732\n",
            "Epoch: 757, C: 0.294, b_0: 0.424, b_0.grad: -0.000658, b_1: 0.311, b_1.grad: 0.000555, b_2: 0.001, b_2.grad: -0.001175, b_3: 0.222, b_3.grad: 0.007111, b_4: 0.983, b_4.grad: -0.052597, b_5: 0.311, b_5.grad: -0.000742\n",
            "Epoch: 758, C: 0.294, b_0: 0.424, b_0.grad: -0.000665, b_1: 0.311, b_1.grad: 0.000554, b_2: 0.001, b_2.grad: -0.001171, b_3: 0.222, b_3.grad: 0.007111, b_4: 0.984, b_4.grad: -0.052573, b_5: 0.311, b_5.grad: -0.000752\n",
            "Epoch: 759, C: 0.294, b_0: 0.424, b_0.grad: -0.000673, b_1: 0.311, b_1.grad: 0.000554, b_2: 0.001, b_2.grad: -0.001168, b_3: 0.222, b_3.grad: 0.007111, b_4: 0.985, b_4.grad: -0.052549, b_5: 0.311, b_5.grad: -0.000762\n",
            "Epoch: 760, C: 0.294, b_0: 0.424, b_0.grad: -0.000680, b_1: 0.311, b_1.grad: 0.000553, b_2: 0.001, b_2.grad: -0.001165, b_3: 0.222, b_3.grad: 0.007110, b_4: 0.986, b_4.grad: -0.052525, b_5: 0.311, b_5.grad: -0.000772\n",
            "Epoch: 761, C: 0.294, b_0: 0.424, b_0.grad: -0.000688, b_1: 0.311, b_1.grad: 0.000553, b_2: 0.001, b_2.grad: -0.001161, b_3: 0.222, b_3.grad: 0.007110, b_4: 0.987, b_4.grad: -0.052502, b_5: 0.311, b_5.grad: -0.000781\n",
            "Epoch: 762, C: 0.294, b_0: 0.424, b_0.grad: -0.000695, b_1: 0.311, b_1.grad: 0.000552, b_2: 0.001, b_2.grad: -0.001157, b_3: 0.222, b_3.grad: 0.007109, b_4: 0.988, b_4.grad: -0.052478, b_5: 0.311, b_5.grad: -0.000791\n",
            "Epoch: 763, C: 0.294, b_0: 0.425, b_0.grad: -0.000703, b_1: 0.311, b_1.grad: 0.000552, b_2: 0.001, b_2.grad: -0.001154, b_3: 0.222, b_3.grad: 0.007109, b_4: 0.989, b_4.grad: -0.052454, b_5: 0.311, b_5.grad: -0.000800\n",
            "Epoch: 764, C: 0.293, b_0: 0.425, b_0.grad: -0.000710, b_1: 0.311, b_1.grad: 0.000551, b_2: 0.001, b_2.grad: -0.001151, b_3: 0.221, b_3.grad: 0.007109, b_4: 0.991, b_4.grad: -0.052430, b_5: 0.311, b_5.grad: -0.000810\n",
            "Epoch: 765, C: 0.293, b_0: 0.425, b_0.grad: -0.000717, b_1: 0.311, b_1.grad: 0.000551, b_2: 0.002, b_2.grad: -0.001147, b_3: 0.221, b_3.grad: 0.007108, b_4: 0.992, b_4.grad: -0.052406, b_5: 0.311, b_5.grad: -0.000819\n",
            "Epoch: 766, C: 0.293, b_0: 0.425, b_0.grad: -0.000725, b_1: 0.311, b_1.grad: 0.000550, b_2: 0.002, b_2.grad: -0.001144, b_3: 0.221, b_3.grad: 0.007108, b_4: 0.993, b_4.grad: -0.052382, b_5: 0.311, b_5.grad: -0.000828\n",
            "Epoch: 767, C: 0.293, b_0: 0.425, b_0.grad: -0.000732, b_1: 0.311, b_1.grad: 0.000550, b_2: 0.002, b_2.grad: -0.001140, b_3: 0.221, b_3.grad: 0.007107, b_4: 0.994, b_4.grad: -0.052359, b_5: 0.311, b_5.grad: -0.000838\n",
            "Epoch: 768, C: 0.293, b_0: 0.425, b_0.grad: -0.000739, b_1: 0.311, b_1.grad: 0.000549, b_2: 0.002, b_2.grad: -0.001137, b_3: 0.221, b_3.grad: 0.007107, b_4: 0.995, b_4.grad: -0.052335, b_5: 0.311, b_5.grad: -0.000847\n",
            "Epoch: 769, C: 0.293, b_0: 0.425, b_0.grad: -0.000747, b_1: 0.311, b_1.grad: 0.000548, b_2: 0.002, b_2.grad: -0.001134, b_3: 0.221, b_3.grad: 0.007106, b_4: 0.996, b_4.grad: -0.052311, b_5: 0.311, b_5.grad: -0.000856\n",
            "Epoch: 770, C: 0.293, b_0: 0.425, b_0.grad: -0.000754, b_1: 0.311, b_1.grad: 0.000548, b_2: 0.002, b_2.grad: -0.001130, b_3: 0.221, b_3.grad: 0.007106, b_4: 0.997, b_4.grad: -0.052288, b_5: 0.311, b_5.grad: -0.000865\n",
            "Epoch: 771, C: 0.293, b_0: 0.425, b_0.grad: -0.000761, b_1: 0.311, b_1.grad: 0.000547, b_2: 0.002, b_2.grad: -0.001127, b_3: 0.220, b_3.grad: 0.007106, b_4: 0.998, b_4.grad: -0.052264, b_5: 0.311, b_5.grad: -0.000874\n",
            "Epoch: 772, C: 0.293, b_0: 0.425, b_0.grad: -0.000769, b_1: 0.311, b_1.grad: 0.000547, b_2: 0.002, b_2.grad: -0.001123, b_3: 0.220, b_3.grad: 0.007105, b_4: 0.999, b_4.grad: -0.052240, b_5: 0.311, b_5.grad: -0.000883\n",
            "Epoch: 773, C: 0.293, b_0: 0.425, b_0.grad: -0.000776, b_1: 0.311, b_1.grad: 0.000546, b_2: 0.002, b_2.grad: -0.001120, b_3: 0.220, b_3.grad: 0.007105, b_4: 1.000, b_4.grad: -0.052217, b_5: 0.311, b_5.grad: -0.000892\n",
            "Epoch: 774, C: 0.293, b_0: 0.425, b_0.grad: -0.000783, b_1: 0.311, b_1.grad: 0.000546, b_2: 0.002, b_2.grad: -0.001117, b_3: 0.220, b_3.grad: 0.007104, b_4: 1.001, b_4.grad: -0.052193, b_5: 0.311, b_5.grad: -0.000900\n",
            "Epoch: 775, C: 0.293, b_0: 0.425, b_0.grad: -0.000790, b_1: 0.311, b_1.grad: 0.000545, b_2: 0.002, b_2.grad: -0.001114, b_3: 0.220, b_3.grad: 0.007103, b_4: 1.002, b_4.grad: -0.052169, b_5: 0.311, b_5.grad: -0.000909\n",
            "Epoch: 776, C: 0.293, b_0: 0.425, b_0.grad: -0.000797, b_1: 0.311, b_1.grad: 0.000545, b_2: 0.002, b_2.grad: -0.001110, b_3: 0.220, b_3.grad: 0.007103, b_4: 1.003, b_4.grad: -0.052146, b_5: 0.311, b_5.grad: -0.000918\n",
            "Epoch: 777, C: 0.293, b_0: 0.425, b_0.grad: -0.000804, b_1: 0.311, b_1.grad: 0.000544, b_2: 0.002, b_2.grad: -0.001107, b_3: 0.220, b_3.grad: 0.007102, b_4: 1.004, b_4.grad: -0.052122, b_5: 0.311, b_5.grad: -0.000926\n",
            "Epoch: 778, C: 0.293, b_0: 0.425, b_0.grad: -0.000811, b_1: 0.311, b_1.grad: 0.000544, b_2: 0.002, b_2.grad: -0.001104, b_3: 0.219, b_3.grad: 0.007102, b_4: 1.005, b_4.grad: -0.052098, b_5: 0.311, b_5.grad: -0.000935\n",
            "Epoch: 779, C: 0.293, b_0: 0.425, b_0.grad: -0.000818, b_1: 0.311, b_1.grad: 0.000543, b_2: 0.002, b_2.grad: -0.001101, b_3: 0.219, b_3.grad: 0.007101, b_4: 1.006, b_4.grad: -0.052075, b_5: 0.311, b_5.grad: -0.000943\n",
            "Epoch: 780, C: 0.293, b_0: 0.425, b_0.grad: -0.000826, b_1: 0.311, b_1.grad: 0.000543, b_2: 0.002, b_2.grad: -0.001097, b_3: 0.219, b_3.grad: 0.007101, b_4: 1.007, b_4.grad: -0.052051, b_5: 0.311, b_5.grad: -0.000952\n",
            "Epoch: 781, C: 0.293, b_0: 0.425, b_0.grad: -0.000833, b_1: 0.311, b_1.grad: 0.000542, b_2: 0.002, b_2.grad: -0.001094, b_3: 0.219, b_3.grad: 0.007100, b_4: 1.008, b_4.grad: -0.052028, b_5: 0.311, b_5.grad: -0.000960\n",
            "Epoch: 782, C: 0.292, b_0: 0.425, b_0.grad: -0.000840, b_1: 0.311, b_1.grad: 0.000542, b_2: 0.002, b_2.grad: -0.001091, b_3: 0.219, b_3.grad: 0.007099, b_4: 1.009, b_4.grad: -0.052004, b_5: 0.311, b_5.grad: -0.000968\n",
            "Epoch: 783, C: 0.292, b_0: 0.425, b_0.grad: -0.000847, b_1: 0.311, b_1.grad: 0.000541, b_2: 0.002, b_2.grad: -0.001088, b_3: 0.219, b_3.grad: 0.007099, b_4: 1.010, b_4.grad: -0.051981, b_5: 0.311, b_5.grad: -0.000976\n",
            "Epoch: 784, C: 0.292, b_0: 0.425, b_0.grad: -0.000854, b_1: 0.311, b_1.grad: 0.000541, b_2: 0.002, b_2.grad: -0.001085, b_3: 0.219, b_3.grad: 0.007098, b_4: 1.011, b_4.grad: -0.051957, b_5: 0.311, b_5.grad: -0.000984\n",
            "Epoch: 785, C: 0.292, b_0: 0.425, b_0.grad: -0.000860, b_1: 0.311, b_1.grad: 0.000540, b_2: 0.002, b_2.grad: -0.001082, b_3: 0.218, b_3.grad: 0.007097, b_4: 1.012, b_4.grad: -0.051934, b_5: 0.311, b_5.grad: -0.000992\n",
            "Epoch: 786, C: 0.292, b_0: 0.425, b_0.grad: -0.000867, b_1: 0.311, b_1.grad: 0.000540, b_2: 0.002, b_2.grad: -0.001079, b_3: 0.218, b_3.grad: 0.007096, b_4: 1.013, b_4.grad: -0.051910, b_5: 0.311, b_5.grad: -0.001000\n",
            "Epoch: 787, C: 0.292, b_0: 0.425, b_0.grad: -0.000874, b_1: 0.311, b_1.grad: 0.000540, b_2: 0.002, b_2.grad: -0.001076, b_3: 0.218, b_3.grad: 0.007096, b_4: 1.015, b_4.grad: -0.051887, b_5: 0.311, b_5.grad: -0.001008\n",
            "Epoch: 788, C: 0.292, b_0: 0.425, b_0.grad: -0.000881, b_1: 0.311, b_1.grad: 0.000539, b_2: 0.002, b_2.grad: -0.001072, b_3: 0.218, b_3.grad: 0.007095, b_4: 1.016, b_4.grad: -0.051864, b_5: 0.311, b_5.grad: -0.001016\n",
            "Epoch: 789, C: 0.292, b_0: 0.425, b_0.grad: -0.000888, b_1: 0.311, b_1.grad: 0.000539, b_2: 0.002, b_2.grad: -0.001069, b_3: 0.218, b_3.grad: 0.007094, b_4: 1.017, b_4.grad: -0.051840, b_5: 0.311, b_5.grad: -0.001024\n",
            "Epoch: 790, C: 0.292, b_0: 0.425, b_0.grad: -0.000895, b_1: 0.311, b_1.grad: 0.000538, b_2: 0.002, b_2.grad: -0.001066, b_3: 0.218, b_3.grad: 0.007094, b_4: 1.018, b_4.grad: -0.051817, b_5: 0.311, b_5.grad: -0.001032\n",
            "Epoch: 791, C: 0.292, b_0: 0.425, b_0.grad: -0.000902, b_1: 0.311, b_1.grad: 0.000538, b_2: 0.002, b_2.grad: -0.001063, b_3: 0.218, b_3.grad: 0.007093, b_4: 1.019, b_4.grad: -0.051793, b_5: 0.311, b_5.grad: -0.001039\n",
            "Epoch: 792, C: 0.292, b_0: 0.425, b_0.grad: -0.000908, b_1: 0.311, b_1.grad: 0.000537, b_2: 0.002, b_2.grad: -0.001060, b_3: 0.217, b_3.grad: 0.007092, b_4: 1.020, b_4.grad: -0.051770, b_5: 0.311, b_5.grad: -0.001047\n",
            "Epoch: 793, C: 0.292, b_0: 0.425, b_0.grad: -0.000915, b_1: 0.311, b_1.grad: 0.000537, b_2: 0.002, b_2.grad: -0.001057, b_3: 0.217, b_3.grad: 0.007092, b_4: 1.021, b_4.grad: -0.051747, b_5: 0.311, b_5.grad: -0.001054\n",
            "Epoch: 794, C: 0.292, b_0: 0.425, b_0.grad: -0.000922, b_1: 0.311, b_1.grad: 0.000536, b_2: 0.002, b_2.grad: -0.001054, b_3: 0.217, b_3.grad: 0.007091, b_4: 1.022, b_4.grad: -0.051723, b_5: 0.311, b_5.grad: -0.001062\n",
            "Epoch: 795, C: 0.292, b_0: 0.425, b_0.grad: -0.000929, b_1: 0.311, b_1.grad: 0.000536, b_2: 0.002, b_2.grad: -0.001051, b_3: 0.217, b_3.grad: 0.007090, b_4: 1.023, b_4.grad: -0.051700, b_5: 0.311, b_5.grad: -0.001069\n",
            "Epoch: 796, C: 0.292, b_0: 0.425, b_0.grad: -0.000935, b_1: 0.311, b_1.grad: 0.000535, b_2: 0.002, b_2.grad: -0.001048, b_3: 0.217, b_3.grad: 0.007089, b_4: 1.024, b_4.grad: -0.051677, b_5: 0.311, b_5.grad: -0.001077\n",
            "Epoch: 797, C: 0.292, b_0: 0.425, b_0.grad: -0.000942, b_1: 0.311, b_1.grad: 0.000535, b_2: 0.002, b_2.grad: -0.001045, b_3: 0.217, b_3.grad: 0.007089, b_4: 1.025, b_4.grad: -0.051653, b_5: 0.311, b_5.grad: -0.001084\n",
            "Epoch: 798, C: 0.292, b_0: 0.425, b_0.grad: -0.000949, b_1: 0.311, b_1.grad: 0.000534, b_2: 0.002, b_2.grad: -0.001042, b_3: 0.217, b_3.grad: 0.007088, b_4: 1.026, b_4.grad: -0.051630, b_5: 0.311, b_5.grad: -0.001091\n",
            "Epoch: 799, C: 0.292, b_0: 0.425, b_0.grad: -0.000955, b_1: 0.311, b_1.grad: 0.000534, b_2: 0.002, b_2.grad: -0.001039, b_3: 0.216, b_3.grad: 0.007087, b_4: 1.027, b_4.grad: -0.051607, b_5: 0.311, b_5.grad: -0.001099\n",
            "Epoch: 800, C: 0.291, b_0: 0.425, b_0.grad: -0.000962, b_1: 0.311, b_1.grad: 0.000534, b_2: 0.002, b_2.grad: -0.001036, b_3: 0.216, b_3.grad: 0.007086, b_4: 1.028, b_4.grad: -0.051584, b_5: 0.311, b_5.grad: -0.001106\n",
            "Epoch: 801, C: 0.291, b_0: 0.425, b_0.grad: -0.000968, b_1: 0.311, b_1.grad: 0.000533, b_2: 0.002, b_2.grad: -0.001033, b_3: 0.216, b_3.grad: 0.007085, b_4: 1.029, b_4.grad: -0.051560, b_5: 0.311, b_5.grad: -0.001113\n",
            "Epoch: 802, C: 0.291, b_0: 0.425, b_0.grad: -0.000975, b_1: 0.311, b_1.grad: 0.000533, b_2: 0.002, b_2.grad: -0.001031, b_3: 0.216, b_3.grad: 0.007084, b_4: 1.030, b_4.grad: -0.051537, b_5: 0.311, b_5.grad: -0.001120\n",
            "Epoch: 803, C: 0.291, b_0: 0.425, b_0.grad: -0.000982, b_1: 0.311, b_1.grad: 0.000532, b_2: 0.002, b_2.grad: -0.001027, b_3: 0.216, b_3.grad: 0.007083, b_4: 1.031, b_4.grad: -0.051514, b_5: 0.311, b_5.grad: -0.001127\n",
            "Epoch: 804, C: 0.291, b_0: 0.425, b_0.grad: -0.000988, b_1: 0.311, b_1.grad: 0.000532, b_2: 0.002, b_2.grad: -0.001024, b_3: 0.216, b_3.grad: 0.007083, b_4: 1.032, b_4.grad: -0.051491, b_5: 0.311, b_5.grad: -0.001134\n",
            "Epoch: 805, C: 0.291, b_0: 0.425, b_0.grad: -0.000995, b_1: 0.311, b_1.grad: 0.000531, b_2: 0.002, b_2.grad: -0.001022, b_3: 0.216, b_3.grad: 0.007082, b_4: 1.033, b_4.grad: -0.051468, b_5: 0.311, b_5.grad: -0.001141\n",
            "Epoch: 806, C: 0.291, b_0: 0.425, b_0.grad: -0.001001, b_1: 0.311, b_1.grad: 0.000531, b_2: 0.002, b_2.grad: -0.001019, b_3: 0.215, b_3.grad: 0.007081, b_4: 1.034, b_4.grad: -0.051445, b_5: 0.311, b_5.grad: -0.001147\n",
            "Epoch: 807, C: 0.291, b_0: 0.425, b_0.grad: -0.001008, b_1: 0.311, b_1.grad: 0.000530, b_2: 0.002, b_2.grad: -0.001016, b_3: 0.215, b_3.grad: 0.007080, b_4: 1.035, b_4.grad: -0.051421, b_5: 0.311, b_5.grad: -0.001154\n",
            "Epoch: 808, C: 0.291, b_0: 0.425, b_0.grad: -0.001014, b_1: 0.311, b_1.grad: 0.000530, b_2: 0.002, b_2.grad: -0.001013, b_3: 0.215, b_3.grad: 0.007079, b_4: 1.036, b_4.grad: -0.051398, b_5: 0.311, b_5.grad: -0.001161\n",
            "Epoch: 809, C: 0.291, b_0: 0.425, b_0.grad: -0.001020, b_1: 0.311, b_1.grad: 0.000530, b_2: 0.002, b_2.grad: -0.001010, b_3: 0.215, b_3.grad: 0.007078, b_4: 1.037, b_4.grad: -0.051375, b_5: 0.311, b_5.grad: -0.001167\n",
            "Epoch: 810, C: 0.291, b_0: 0.425, b_0.grad: -0.001027, b_1: 0.311, b_1.grad: 0.000529, b_2: 0.002, b_2.grad: -0.001008, b_3: 0.215, b_3.grad: 0.007077, b_4: 1.038, b_4.grad: -0.051352, b_5: 0.311, b_5.grad: -0.001174\n",
            "Epoch: 811, C: 0.291, b_0: 0.425, b_0.grad: -0.001033, b_1: 0.311, b_1.grad: 0.000529, b_2: 0.002, b_2.grad: -0.001005, b_3: 0.215, b_3.grad: 0.007076, b_4: 1.039, b_4.grad: -0.051329, b_5: 0.311, b_5.grad: -0.001181\n",
            "Epoch: 812, C: 0.291, b_0: 0.425, b_0.grad: -0.001040, b_1: 0.311, b_1.grad: 0.000528, b_2: 0.003, b_2.grad: -0.001002, b_3: 0.215, b_3.grad: 0.007075, b_4: 1.040, b_4.grad: -0.051306, b_5: 0.311, b_5.grad: -0.001187\n",
            "Epoch: 813, C: 0.291, b_0: 0.425, b_0.grad: -0.001046, b_1: 0.311, b_1.grad: 0.000528, b_2: 0.003, b_2.grad: -0.000999, b_3: 0.214, b_3.grad: 0.007074, b_4: 1.041, b_4.grad: -0.051283, b_5: 0.311, b_5.grad: -0.001194\n",
            "Epoch: 814, C: 0.291, b_0: 0.425, b_0.grad: -0.001052, b_1: 0.311, b_1.grad: 0.000528, b_2: 0.003, b_2.grad: -0.000996, b_3: 0.214, b_3.grad: 0.007073, b_4: 1.042, b_4.grad: -0.051260, b_5: 0.311, b_5.grad: -0.001200\n",
            "Epoch: 815, C: 0.291, b_0: 0.425, b_0.grad: -0.001059, b_1: 0.311, b_1.grad: 0.000527, b_2: 0.003, b_2.grad: -0.000994, b_3: 0.214, b_3.grad: 0.007072, b_4: 1.043, b_4.grad: -0.051237, b_5: 0.311, b_5.grad: -0.001206\n",
            "Epoch: 816, C: 0.291, b_0: 0.425, b_0.grad: -0.001065, b_1: 0.311, b_1.grad: 0.000527, b_2: 0.003, b_2.grad: -0.000991, b_3: 0.214, b_3.grad: 0.007071, b_4: 1.044, b_4.grad: -0.051214, b_5: 0.311, b_5.grad: -0.001213\n",
            "Epoch: 817, C: 0.291, b_0: 0.425, b_0.grad: -0.001071, b_1: 0.311, b_1.grad: 0.000526, b_2: 0.003, b_2.grad: -0.000988, b_3: 0.214, b_3.grad: 0.007070, b_4: 1.045, b_4.grad: -0.051191, b_5: 0.311, b_5.grad: -0.001219\n",
            "Epoch: 818, C: 0.291, b_0: 0.425, b_0.grad: -0.001078, b_1: 0.311, b_1.grad: 0.000526, b_2: 0.003, b_2.grad: -0.000986, b_3: 0.214, b_3.grad: 0.007069, b_4: 1.046, b_4.grad: -0.051168, b_5: 0.311, b_5.grad: -0.001225\n",
            "Epoch: 819, C: 0.290, b_0: 0.426, b_0.grad: -0.001084, b_1: 0.311, b_1.grad: 0.000526, b_2: 0.003, b_2.grad: -0.000983, b_3: 0.214, b_3.grad: 0.007068, b_4: 1.047, b_4.grad: -0.051145, b_5: 0.311, b_5.grad: -0.001231\n",
            "Epoch: 820, C: 0.290, b_0: 0.426, b_0.grad: -0.001090, b_1: 0.311, b_1.grad: 0.000525, b_2: 0.003, b_2.grad: -0.000980, b_3: 0.213, b_3.grad: 0.007067, b_4: 1.049, b_4.grad: -0.051122, b_5: 0.311, b_5.grad: -0.001237\n",
            "Epoch: 821, C: 0.290, b_0: 0.426, b_0.grad: -0.001096, b_1: 0.311, b_1.grad: 0.000525, b_2: 0.003, b_2.grad: -0.000977, b_3: 0.213, b_3.grad: 0.007066, b_4: 1.050, b_4.grad: -0.051099, b_5: 0.311, b_5.grad: -0.001243\n",
            "Epoch: 822, C: 0.290, b_0: 0.426, b_0.grad: -0.001102, b_1: 0.311, b_1.grad: 0.000524, b_2: 0.003, b_2.grad: -0.000975, b_3: 0.213, b_3.grad: 0.007065, b_4: 1.051, b_4.grad: -0.051076, b_5: 0.311, b_5.grad: -0.001249\n",
            "Epoch: 823, C: 0.290, b_0: 0.426, b_0.grad: -0.001108, b_1: 0.311, b_1.grad: 0.000524, b_2: 0.003, b_2.grad: -0.000972, b_3: 0.213, b_3.grad: 0.007064, b_4: 1.052, b_4.grad: -0.051053, b_5: 0.311, b_5.grad: -0.001255\n",
            "Epoch: 824, C: 0.290, b_0: 0.426, b_0.grad: -0.001115, b_1: 0.311, b_1.grad: 0.000524, b_2: 0.003, b_2.grad: -0.000969, b_3: 0.213, b_3.grad: 0.007063, b_4: 1.053, b_4.grad: -0.051030, b_5: 0.311, b_5.grad: -0.001261\n",
            "Epoch: 825, C: 0.290, b_0: 0.426, b_0.grad: -0.001121, b_1: 0.311, b_1.grad: 0.000523, b_2: 0.003, b_2.grad: -0.000967, b_3: 0.213, b_3.grad: 0.007062, b_4: 1.054, b_4.grad: -0.051008, b_5: 0.311, b_5.grad: -0.001267\n",
            "Epoch: 826, C: 0.290, b_0: 0.426, b_0.grad: -0.001127, b_1: 0.311, b_1.grad: 0.000523, b_2: 0.003, b_2.grad: -0.000964, b_3: 0.213, b_3.grad: 0.007061, b_4: 1.055, b_4.grad: -0.050985, b_5: 0.311, b_5.grad: -0.001273\n",
            "Epoch: 827, C: 0.290, b_0: 0.426, b_0.grad: -0.001133, b_1: 0.311, b_1.grad: 0.000522, b_2: 0.003, b_2.grad: -0.000961, b_3: 0.212, b_3.grad: 0.007060, b_4: 1.056, b_4.grad: -0.050962, b_5: 0.311, b_5.grad: -0.001278\n",
            "Epoch: 828, C: 0.290, b_0: 0.426, b_0.grad: -0.001139, b_1: 0.311, b_1.grad: 0.000522, b_2: 0.003, b_2.grad: -0.000959, b_3: 0.212, b_3.grad: 0.007059, b_4: 1.057, b_4.grad: -0.050939, b_5: 0.311, b_5.grad: -0.001284\n",
            "Epoch: 829, C: 0.290, b_0: 0.426, b_0.grad: -0.001145, b_1: 0.310, b_1.grad: 0.000522, b_2: 0.003, b_2.grad: -0.000956, b_3: 0.212, b_3.grad: 0.007057, b_4: 1.058, b_4.grad: -0.050916, b_5: 0.310, b_5.grad: -0.001290\n",
            "Epoch: 830, C: 0.290, b_0: 0.426, b_0.grad: -0.001151, b_1: 0.310, b_1.grad: 0.000521, b_2: 0.003, b_2.grad: -0.000954, b_3: 0.212, b_3.grad: 0.007056, b_4: 1.059, b_4.grad: -0.050894, b_5: 0.310, b_5.grad: -0.001295\n",
            "Epoch: 831, C: 0.290, b_0: 0.426, b_0.grad: -0.001157, b_1: 0.310, b_1.grad: 0.000521, b_2: 0.003, b_2.grad: -0.000951, b_3: 0.212, b_3.grad: 0.007055, b_4: 1.060, b_4.grad: -0.050871, b_5: 0.310, b_5.grad: -0.001301\n",
            "Epoch: 832, C: 0.290, b_0: 0.426, b_0.grad: -0.001163, b_1: 0.310, b_1.grad: 0.000521, b_2: 0.003, b_2.grad: -0.000948, b_3: 0.212, b_3.grad: 0.007054, b_4: 1.061, b_4.grad: -0.050848, b_5: 0.310, b_5.grad: -0.001306\n",
            "Epoch: 833, C: 0.290, b_0: 0.426, b_0.grad: -0.001169, b_1: 0.310, b_1.grad: 0.000520, b_2: 0.003, b_2.grad: -0.000946, b_3: 0.212, b_3.grad: 0.007053, b_4: 1.062, b_4.grad: -0.050825, b_5: 0.310, b_5.grad: -0.001312\n",
            "Epoch: 834, C: 0.290, b_0: 0.426, b_0.grad: -0.001175, b_1: 0.310, b_1.grad: 0.000520, b_2: 0.003, b_2.grad: -0.000943, b_3: 0.211, b_3.grad: 0.007052, b_4: 1.063, b_4.grad: -0.050802, b_5: 0.310, b_5.grad: -0.001317\n",
            "Epoch: 835, C: 0.290, b_0: 0.426, b_0.grad: -0.001181, b_1: 0.310, b_1.grad: 0.000519, b_2: 0.003, b_2.grad: -0.000941, b_3: 0.211, b_3.grad: 0.007051, b_4: 1.064, b_4.grad: -0.050780, b_5: 0.310, b_5.grad: -0.001323\n",
            "Epoch: 836, C: 0.290, b_0: 0.426, b_0.grad: -0.001187, b_1: 0.310, b_1.grad: 0.000519, b_2: 0.003, b_2.grad: -0.000938, b_3: 0.211, b_3.grad: 0.007050, b_4: 1.065, b_4.grad: -0.050757, b_5: 0.310, b_5.grad: -0.001328\n",
            "Epoch: 837, C: 0.290, b_0: 0.426, b_0.grad: -0.001193, b_1: 0.310, b_1.grad: 0.000519, b_2: 0.003, b_2.grad: -0.000936, b_3: 0.211, b_3.grad: 0.007048, b_4: 1.066, b_4.grad: -0.050734, b_5: 0.310, b_5.grad: -0.001333\n",
            "Epoch: 838, C: 0.289, b_0: 0.426, b_0.grad: -0.001199, b_1: 0.310, b_1.grad: 0.000518, b_2: 0.003, b_2.grad: -0.000933, b_3: 0.211, b_3.grad: 0.007047, b_4: 1.067, b_4.grad: -0.050712, b_5: 0.310, b_5.grad: -0.001338\n",
            "Epoch: 839, C: 0.289, b_0: 0.426, b_0.grad: -0.001205, b_1: 0.310, b_1.grad: 0.000518, b_2: 0.003, b_2.grad: -0.000931, b_3: 0.211, b_3.grad: 0.007046, b_4: 1.068, b_4.grad: -0.050689, b_5: 0.310, b_5.grad: -0.001344\n",
            "Epoch: 840, C: 0.289, b_0: 0.426, b_0.grad: -0.001210, b_1: 0.310, b_1.grad: 0.000518, b_2: 0.003, b_2.grad: -0.000929, b_3: 0.211, b_3.grad: 0.007045, b_4: 1.069, b_4.grad: -0.050666, b_5: 0.310, b_5.grad: -0.001349\n",
            "Epoch: 841, C: 0.289, b_0: 0.426, b_0.grad: -0.001216, b_1: 0.310, b_1.grad: 0.000517, b_2: 0.003, b_2.grad: -0.000926, b_3: 0.210, b_3.grad: 0.007043, b_4: 1.070, b_4.grad: -0.050644, b_5: 0.310, b_5.grad: -0.001354\n",
            "Epoch: 842, C: 0.289, b_0: 0.426, b_0.grad: -0.001222, b_1: 0.310, b_1.grad: 0.000517, b_2: 0.003, b_2.grad: -0.000924, b_3: 0.210, b_3.grad: 0.007042, b_4: 1.071, b_4.grad: -0.050621, b_5: 0.310, b_5.grad: -0.001359\n",
            "Epoch: 843, C: 0.289, b_0: 0.426, b_0.grad: -0.001228, b_1: 0.310, b_1.grad: 0.000517, b_2: 0.003, b_2.grad: -0.000921, b_3: 0.210, b_3.grad: 0.007041, b_4: 1.072, b_4.grad: -0.050598, b_5: 0.310, b_5.grad: -0.001364\n",
            "Epoch: 844, C: 0.289, b_0: 0.426, b_0.grad: -0.001234, b_1: 0.310, b_1.grad: 0.000516, b_2: 0.003, b_2.grad: -0.000918, b_3: 0.210, b_3.grad: 0.007040, b_4: 1.073, b_4.grad: -0.050576, b_5: 0.310, b_5.grad: -0.001369\n",
            "Epoch: 845, C: 0.289, b_0: 0.426, b_0.grad: -0.001239, b_1: 0.310, b_1.grad: 0.000516, b_2: 0.003, b_2.grad: -0.000916, b_3: 0.210, b_3.grad: 0.007039, b_4: 1.074, b_4.grad: -0.050553, b_5: 0.310, b_5.grad: -0.001374\n",
            "Epoch: 846, C: 0.289, b_0: 0.426, b_0.grad: -0.001245, b_1: 0.310, b_1.grad: 0.000516, b_2: 0.003, b_2.grad: -0.000914, b_3: 0.210, b_3.grad: 0.007037, b_4: 1.075, b_4.grad: -0.050531, b_5: 0.310, b_5.grad: -0.001379\n",
            "Epoch: 847, C: 0.289, b_0: 0.426, b_0.grad: -0.001251, b_1: 0.310, b_1.grad: 0.000515, b_2: 0.003, b_2.grad: -0.000911, b_3: 0.210, b_3.grad: 0.007036, b_4: 1.076, b_4.grad: -0.050508, b_5: 0.310, b_5.grad: -0.001384\n",
            "Epoch: 848, C: 0.289, b_0: 0.426, b_0.grad: -0.001257, b_1: 0.310, b_1.grad: 0.000515, b_2: 0.003, b_2.grad: -0.000909, b_3: 0.209, b_3.grad: 0.007035, b_4: 1.077, b_4.grad: -0.050486, b_5: 0.310, b_5.grad: -0.001388\n",
            "Epoch: 849, C: 0.289, b_0: 0.426, b_0.grad: -0.001262, b_1: 0.310, b_1.grad: 0.000515, b_2: 0.003, b_2.grad: -0.000906, b_3: 0.209, b_3.grad: 0.007034, b_4: 1.078, b_4.grad: -0.050463, b_5: 0.310, b_5.grad: -0.001393\n",
            "Epoch: 850, C: 0.289, b_0: 0.426, b_0.grad: -0.001268, b_1: 0.310, b_1.grad: 0.000514, b_2: 0.003, b_2.grad: -0.000904, b_3: 0.209, b_3.grad: 0.007032, b_4: 1.079, b_4.grad: -0.050441, b_5: 0.310, b_5.grad: -0.001398\n",
            "Epoch: 851, C: 0.289, b_0: 0.426, b_0.grad: -0.001274, b_1: 0.310, b_1.grad: 0.000514, b_2: 0.003, b_2.grad: -0.000902, b_3: 0.209, b_3.grad: 0.007031, b_4: 1.080, b_4.grad: -0.050418, b_5: 0.310, b_5.grad: -0.001403\n",
            "Epoch: 852, C: 0.289, b_0: 0.426, b_0.grad: -0.001279, b_1: 0.310, b_1.grad: 0.000514, b_2: 0.003, b_2.grad: -0.000899, b_3: 0.209, b_3.grad: 0.007030, b_4: 1.081, b_4.grad: -0.050396, b_5: 0.310, b_5.grad: -0.001407\n",
            "Epoch: 853, C: 0.289, b_0: 0.426, b_0.grad: -0.001285, b_1: 0.310, b_1.grad: 0.000513, b_2: 0.003, b_2.grad: -0.000897, b_3: 0.209, b_3.grad: 0.007028, b_4: 1.082, b_4.grad: -0.050373, b_5: 0.310, b_5.grad: -0.001412\n",
            "Epoch: 854, C: 0.289, b_0: 0.426, b_0.grad: -0.001290, b_1: 0.310, b_1.grad: 0.000513, b_2: 0.003, b_2.grad: -0.000895, b_3: 0.209, b_3.grad: 0.007027, b_4: 1.083, b_4.grad: -0.050351, b_5: 0.310, b_5.grad: -0.001416\n",
            "Epoch: 855, C: 0.289, b_0: 0.426, b_0.grad: -0.001296, b_1: 0.310, b_1.grad: 0.000513, b_2: 0.003, b_2.grad: -0.000892, b_3: 0.208, b_3.grad: 0.007026, b_4: 1.084, b_4.grad: -0.050328, b_5: 0.310, b_5.grad: -0.001421\n",
            "Epoch: 856, C: 0.289, b_0: 0.426, b_0.grad: -0.001302, b_1: 0.310, b_1.grad: 0.000512, b_2: 0.003, b_2.grad: -0.000890, b_3: 0.208, b_3.grad: 0.007024, b_4: 1.085, b_4.grad: -0.050306, b_5: 0.310, b_5.grad: -0.001425\n",
            "Epoch: 857, C: 0.288, b_0: 0.426, b_0.grad: -0.001307, b_1: 0.310, b_1.grad: 0.000512, b_2: 0.003, b_2.grad: -0.000888, b_3: 0.208, b_3.grad: 0.007023, b_4: 1.086, b_4.grad: -0.050283, b_5: 0.310, b_5.grad: -0.001430\n",
            "Epoch: 858, C: 0.288, b_0: 0.426, b_0.grad: -0.001313, b_1: 0.310, b_1.grad: 0.000512, b_2: 0.003, b_2.grad: -0.000885, b_3: 0.208, b_3.grad: 0.007022, b_4: 1.087, b_4.grad: -0.050261, b_5: 0.310, b_5.grad: -0.001434\n",
            "Epoch: 859, C: 0.288, b_0: 0.426, b_0.grad: -0.001318, b_1: 0.310, b_1.grad: 0.000511, b_2: 0.003, b_2.grad: -0.000883, b_3: 0.208, b_3.grad: 0.007020, b_4: 1.088, b_4.grad: -0.050239, b_5: 0.310, b_5.grad: -0.001439\n",
            "Epoch: 860, C: 0.288, b_0: 0.426, b_0.grad: -0.001324, b_1: 0.310, b_1.grad: 0.000511, b_2: 0.003, b_2.grad: -0.000881, b_3: 0.208, b_3.grad: 0.007019, b_4: 1.089, b_4.grad: -0.050216, b_5: 0.310, b_5.grad: -0.001443\n",
            "Epoch: 861, C: 0.288, b_0: 0.427, b_0.grad: -0.001329, b_1: 0.310, b_1.grad: 0.000511, b_2: 0.003, b_2.grad: -0.000878, b_3: 0.208, b_3.grad: 0.007018, b_4: 1.090, b_4.grad: -0.050194, b_5: 0.310, b_5.grad: -0.001447\n",
            "Epoch: 862, C: 0.288, b_0: 0.427, b_0.grad: -0.001335, b_1: 0.310, b_1.grad: 0.000510, b_2: 0.003, b_2.grad: -0.000876, b_3: 0.208, b_3.grad: 0.007016, b_4: 1.091, b_4.grad: -0.050171, b_5: 0.310, b_5.grad: -0.001451\n",
            "Epoch: 863, C: 0.288, b_0: 0.427, b_0.grad: -0.001340, b_1: 0.310, b_1.grad: 0.000510, b_2: 0.003, b_2.grad: -0.000874, b_3: 0.207, b_3.grad: 0.007015, b_4: 1.092, b_4.grad: -0.050149, b_5: 0.310, b_5.grad: -0.001456\n",
            "Epoch: 864, C: 0.288, b_0: 0.427, b_0.grad: -0.001346, b_1: 0.310, b_1.grad: 0.000510, b_2: 0.003, b_2.grad: -0.000872, b_3: 0.207, b_3.grad: 0.007014, b_4: 1.093, b_4.grad: -0.050127, b_5: 0.310, b_5.grad: -0.001460\n",
            "Epoch: 865, C: 0.288, b_0: 0.427, b_0.grad: -0.001351, b_1: 0.310, b_1.grad: 0.000510, b_2: 0.004, b_2.grad: -0.000869, b_3: 0.207, b_3.grad: 0.007012, b_4: 1.094, b_4.grad: -0.050105, b_5: 0.310, b_5.grad: -0.001464\n",
            "Epoch: 866, C: 0.288, b_0: 0.427, b_0.grad: -0.001356, b_1: 0.310, b_1.grad: 0.000509, b_2: 0.004, b_2.grad: -0.000867, b_3: 0.207, b_3.grad: 0.007011, b_4: 1.095, b_4.grad: -0.050082, b_5: 0.310, b_5.grad: -0.001468\n",
            "Epoch: 867, C: 0.288, b_0: 0.427, b_0.grad: -0.001362, b_1: 0.310, b_1.grad: 0.000509, b_2: 0.004, b_2.grad: -0.000865, b_3: 0.207, b_3.grad: 0.007009, b_4: 1.096, b_4.grad: -0.050060, b_5: 0.310, b_5.grad: -0.001472\n",
            "Epoch: 868, C: 0.288, b_0: 0.427, b_0.grad: -0.001367, b_1: 0.310, b_1.grad: 0.000509, b_2: 0.004, b_2.grad: -0.000863, b_3: 0.207, b_3.grad: 0.007008, b_4: 1.097, b_4.grad: -0.050038, b_5: 0.310, b_5.grad: -0.001476\n",
            "Epoch: 869, C: 0.288, b_0: 0.427, b_0.grad: -0.001373, b_1: 0.310, b_1.grad: 0.000508, b_2: 0.004, b_2.grad: -0.000861, b_3: 0.207, b_3.grad: 0.007007, b_4: 1.098, b_4.grad: -0.050015, b_5: 0.310, b_5.grad: -0.001480\n",
            "Epoch: 870, C: 0.288, b_0: 0.427, b_0.grad: -0.001378, b_1: 0.310, b_1.grad: 0.000508, b_2: 0.004, b_2.grad: -0.000858, b_3: 0.206, b_3.grad: 0.007005, b_4: 1.099, b_4.grad: -0.049993, b_5: 0.310, b_5.grad: -0.001484\n",
            "Epoch: 871, C: 0.288, b_0: 0.427, b_0.grad: -0.001383, b_1: 0.310, b_1.grad: 0.000508, b_2: 0.004, b_2.grad: -0.000856, b_3: 0.206, b_3.grad: 0.007004, b_4: 1.100, b_4.grad: -0.049971, b_5: 0.310, b_5.grad: -0.001488\n",
            "Epoch: 872, C: 0.288, b_0: 0.427, b_0.grad: -0.001389, b_1: 0.310, b_1.grad: 0.000508, b_2: 0.004, b_2.grad: -0.000854, b_3: 0.206, b_3.grad: 0.007002, b_4: 1.101, b_4.grad: -0.049949, b_5: 0.310, b_5.grad: -0.001492\n",
            "Epoch: 873, C: 0.288, b_0: 0.427, b_0.grad: -0.001394, b_1: 0.310, b_1.grad: 0.000507, b_2: 0.004, b_2.grad: -0.000852, b_3: 0.206, b_3.grad: 0.007001, b_4: 1.102, b_4.grad: -0.049927, b_5: 0.310, b_5.grad: -0.001496\n",
            "Epoch: 874, C: 0.288, b_0: 0.427, b_0.grad: -0.001399, b_1: 0.310, b_1.grad: 0.000507, b_2: 0.004, b_2.grad: -0.000850, b_3: 0.206, b_3.grad: 0.006999, b_4: 1.103, b_4.grad: -0.049904, b_5: 0.310, b_5.grad: -0.001500\n",
            "Epoch: 875, C: 0.288, b_0: 0.427, b_0.grad: -0.001404, b_1: 0.310, b_1.grad: 0.000507, b_2: 0.004, b_2.grad: -0.000847, b_3: 0.206, b_3.grad: 0.006998, b_4: 1.104, b_4.grad: -0.049882, b_5: 0.310, b_5.grad: -0.001503\n",
            "Epoch: 876, C: 0.287, b_0: 0.427, b_0.grad: -0.001410, b_1: 0.310, b_1.grad: 0.000506, b_2: 0.004, b_2.grad: -0.000845, b_3: 0.206, b_3.grad: 0.006996, b_4: 1.105, b_4.grad: -0.049860, b_5: 0.310, b_5.grad: -0.001507\n",
            "Epoch: 877, C: 0.287, b_0: 0.427, b_0.grad: -0.001415, b_1: 0.310, b_1.grad: 0.000506, b_2: 0.004, b_2.grad: -0.000843, b_3: 0.205, b_3.grad: 0.006995, b_4: 1.106, b_4.grad: -0.049838, b_5: 0.310, b_5.grad: -0.001511\n",
            "Epoch: 878, C: 0.287, b_0: 0.427, b_0.grad: -0.001420, b_1: 0.310, b_1.grad: 0.000506, b_2: 0.004, b_2.grad: -0.000841, b_3: 0.205, b_3.grad: 0.006993, b_4: 1.107, b_4.grad: -0.049816, b_5: 0.310, b_5.grad: -0.001515\n",
            "Epoch: 879, C: 0.287, b_0: 0.427, b_0.grad: -0.001425, b_1: 0.310, b_1.grad: 0.000506, b_2: 0.004, b_2.grad: -0.000839, b_3: 0.205, b_3.grad: 0.006992, b_4: 1.108, b_4.grad: -0.049794, b_5: 0.310, b_5.grad: -0.001518\n",
            "Epoch: 880, C: 0.287, b_0: 0.427, b_0.grad: -0.001431, b_1: 0.310, b_1.grad: 0.000505, b_2: 0.004, b_2.grad: -0.000837, b_3: 0.205, b_3.grad: 0.006990, b_4: 1.109, b_4.grad: -0.049771, b_5: 0.310, b_5.grad: -0.001522\n",
            "Epoch: 881, C: 0.287, b_0: 0.427, b_0.grad: -0.001436, b_1: 0.310, b_1.grad: 0.000505, b_2: 0.004, b_2.grad: -0.000835, b_3: 0.205, b_3.grad: 0.006989, b_4: 1.110, b_4.grad: -0.049749, b_5: 0.310, b_5.grad: -0.001525\n",
            "Epoch: 882, C: 0.287, b_0: 0.427, b_0.grad: -0.001441, b_1: 0.310, b_1.grad: 0.000505, b_2: 0.004, b_2.grad: -0.000833, b_3: 0.205, b_3.grad: 0.006987, b_4: 1.111, b_4.grad: -0.049727, b_5: 0.310, b_5.grad: -0.001529\n",
            "Epoch: 883, C: 0.287, b_0: 0.427, b_0.grad: -0.001446, b_1: 0.310, b_1.grad: 0.000504, b_2: 0.004, b_2.grad: -0.000830, b_3: 0.205, b_3.grad: 0.006986, b_4: 1.112, b_4.grad: -0.049705, b_5: 0.310, b_5.grad: -0.001532\n",
            "Epoch: 884, C: 0.287, b_0: 0.427, b_0.grad: -0.001451, b_1: 0.310, b_1.grad: 0.000504, b_2: 0.004, b_2.grad: -0.000829, b_3: 0.204, b_3.grad: 0.006984, b_4: 1.113, b_4.grad: -0.049683, b_5: 0.310, b_5.grad: -0.001536\n",
            "Epoch: 885, C: 0.287, b_0: 0.427, b_0.grad: -0.001456, b_1: 0.310, b_1.grad: 0.000504, b_2: 0.004, b_2.grad: -0.000826, b_3: 0.204, b_3.grad: 0.006983, b_4: 1.114, b_4.grad: -0.049661, b_5: 0.310, b_5.grad: -0.001539\n",
            "Epoch: 886, C: 0.287, b_0: 0.427, b_0.grad: -0.001461, b_1: 0.310, b_1.grad: 0.000504, b_2: 0.004, b_2.grad: -0.000824, b_3: 0.204, b_3.grad: 0.006982, b_4: 1.115, b_4.grad: -0.049639, b_5: 0.310, b_5.grad: -0.001543\n",
            "Epoch: 887, C: 0.287, b_0: 0.427, b_0.grad: -0.001466, b_1: 0.310, b_1.grad: 0.000503, b_2: 0.004, b_2.grad: -0.000822, b_3: 0.204, b_3.grad: 0.006980, b_4: 1.116, b_4.grad: -0.049617, b_5: 0.310, b_5.grad: -0.001546\n",
            "Epoch: 888, C: 0.287, b_0: 0.427, b_0.grad: -0.001472, b_1: 0.310, b_1.grad: 0.000503, b_2: 0.004, b_2.grad: -0.000820, b_3: 0.204, b_3.grad: 0.006978, b_4: 1.117, b_4.grad: -0.049595, b_5: 0.310, b_5.grad: -0.001549\n",
            "Epoch: 889, C: 0.287, b_0: 0.427, b_0.grad: -0.001477, b_1: 0.310, b_1.grad: 0.000503, b_2: 0.004, b_2.grad: -0.000818, b_3: 0.204, b_3.grad: 0.006977, b_4: 1.118, b_4.grad: -0.049573, b_5: 0.310, b_5.grad: -0.001553\n",
            "Epoch: 890, C: 0.287, b_0: 0.427, b_0.grad: -0.001482, b_1: 0.310, b_1.grad: 0.000503, b_2: 0.004, b_2.grad: -0.000816, b_3: 0.204, b_3.grad: 0.006975, b_4: 1.119, b_4.grad: -0.049551, b_5: 0.310, b_5.grad: -0.001556\n",
            "Epoch: 891, C: 0.287, b_0: 0.427, b_0.grad: -0.001487, b_1: 0.310, b_1.grad: 0.000502, b_2: 0.004, b_2.grad: -0.000814, b_3: 0.203, b_3.grad: 0.006974, b_4: 1.120, b_4.grad: -0.049529, b_5: 0.310, b_5.grad: -0.001559\n",
            "Epoch: 892, C: 0.287, b_0: 0.427, b_0.grad: -0.001492, b_1: 0.310, b_1.grad: 0.000502, b_2: 0.004, b_2.grad: -0.000812, b_3: 0.203, b_3.grad: 0.006972, b_4: 1.121, b_4.grad: -0.049507, b_5: 0.310, b_5.grad: -0.001562\n",
            "Epoch: 893, C: 0.287, b_0: 0.427, b_0.grad: -0.001497, b_1: 0.310, b_1.grad: 0.000502, b_2: 0.004, b_2.grad: -0.000810, b_3: 0.203, b_3.grad: 0.006971, b_4: 1.122, b_4.grad: -0.049485, b_5: 0.310, b_5.grad: -0.001566\n",
            "Epoch: 894, C: 0.287, b_0: 0.427, b_0.grad: -0.001502, b_1: 0.310, b_1.grad: 0.000502, b_2: 0.004, b_2.grad: -0.000808, b_3: 0.203, b_3.grad: 0.006969, b_4: 1.123, b_4.grad: -0.049463, b_5: 0.310, b_5.grad: -0.001569\n",
            "Epoch: 895, C: 0.287, b_0: 0.427, b_0.grad: -0.001507, b_1: 0.310, b_1.grad: 0.000501, b_2: 0.004, b_2.grad: -0.000806, b_3: 0.203, b_3.grad: 0.006967, b_4: 1.124, b_4.grad: -0.049441, b_5: 0.310, b_5.grad: -0.001572\n",
            "Epoch: 896, C: 0.286, b_0: 0.428, b_0.grad: -0.001512, b_1: 0.310, b_1.grad: 0.000501, b_2: 0.004, b_2.grad: -0.000804, b_3: 0.203, b_3.grad: 0.006966, b_4: 1.125, b_4.grad: -0.049419, b_5: 0.310, b_5.grad: -0.001575\n",
            "Epoch: 897, C: 0.286, b_0: 0.428, b_0.grad: -0.001517, b_1: 0.310, b_1.grad: 0.000501, b_2: 0.004, b_2.grad: -0.000802, b_3: 0.203, b_3.grad: 0.006964, b_4: 1.126, b_4.grad: -0.049397, b_5: 0.310, b_5.grad: -0.001578\n",
            "Epoch: 898, C: 0.286, b_0: 0.428, b_0.grad: -0.001521, b_1: 0.310, b_1.grad: 0.000501, b_2: 0.004, b_2.grad: -0.000800, b_3: 0.202, b_3.grad: 0.006963, b_4: 1.127, b_4.grad: -0.049376, b_5: 0.310, b_5.grad: -0.001581\n",
            "Epoch: 899, C: 0.286, b_0: 0.428, b_0.grad: -0.001526, b_1: 0.310, b_1.grad: 0.000500, b_2: 0.004, b_2.grad: -0.000798, b_3: 0.202, b_3.grad: 0.006961, b_4: 1.128, b_4.grad: -0.049354, b_5: 0.310, b_5.grad: -0.001584\n",
            "Epoch: 900, C: 0.286, b_0: 0.428, b_0.grad: -0.001531, b_1: 0.310, b_1.grad: 0.000500, b_2: 0.004, b_2.grad: -0.000796, b_3: 0.202, b_3.grad: 0.006960, b_4: 1.129, b_4.grad: -0.049332, b_5: 0.310, b_5.grad: -0.001587\n",
            "Epoch: 901, C: 0.286, b_0: 0.428, b_0.grad: -0.001536, b_1: 0.310, b_1.grad: 0.000500, b_2: 0.004, b_2.grad: -0.000794, b_3: 0.202, b_3.grad: 0.006958, b_4: 1.130, b_4.grad: -0.049310, b_5: 0.310, b_5.grad: -0.001590\n",
            "Epoch: 902, C: 0.286, b_0: 0.428, b_0.grad: -0.001541, b_1: 0.310, b_1.grad: 0.000500, b_2: 0.004, b_2.grad: -0.000792, b_3: 0.202, b_3.grad: 0.006956, b_4: 1.131, b_4.grad: -0.049288, b_5: 0.310, b_5.grad: -0.001593\n",
            "Epoch: 903, C: 0.286, b_0: 0.428, b_0.grad: -0.001546, b_1: 0.310, b_1.grad: 0.000499, b_2: 0.004, b_2.grad: -0.000790, b_3: 0.202, b_3.grad: 0.006955, b_4: 1.132, b_4.grad: -0.049266, b_5: 0.310, b_5.grad: -0.001596\n",
            "Epoch: 904, C: 0.286, b_0: 0.428, b_0.grad: -0.001551, b_1: 0.310, b_1.grad: 0.000499, b_2: 0.004, b_2.grad: -0.000788, b_3: 0.202, b_3.grad: 0.006953, b_4: 1.133, b_4.grad: -0.049244, b_5: 0.310, b_5.grad: -0.001599\n",
            "Epoch: 905, C: 0.286, b_0: 0.428, b_0.grad: -0.001555, b_1: 0.310, b_1.grad: 0.000499, b_2: 0.004, b_2.grad: -0.000786, b_3: 0.202, b_3.grad: 0.006952, b_4: 1.134, b_4.grad: -0.049223, b_5: 0.310, b_5.grad: -0.001601\n",
            "Epoch: 906, C: 0.286, b_0: 0.428, b_0.grad: -0.001560, b_1: 0.310, b_1.grad: 0.000499, b_2: 0.004, b_2.grad: -0.000784, b_3: 0.201, b_3.grad: 0.006950, b_4: 1.135, b_4.grad: -0.049201, b_5: 0.310, b_5.grad: -0.001604\n",
            "Epoch: 907, C: 0.286, b_0: 0.428, b_0.grad: -0.001565, b_1: 0.310, b_1.grad: 0.000499, b_2: 0.004, b_2.grad: -0.000783, b_3: 0.201, b_3.grad: 0.006948, b_4: 1.136, b_4.grad: -0.049179, b_5: 0.310, b_5.grad: -0.001607\n",
            "Epoch: 908, C: 0.286, b_0: 0.428, b_0.grad: -0.001570, b_1: 0.310, b_1.grad: 0.000498, b_2: 0.004, b_2.grad: -0.000781, b_3: 0.201, b_3.grad: 0.006946, b_4: 1.137, b_4.grad: -0.049157, b_5: 0.310, b_5.grad: -0.001610\n",
            "Epoch: 909, C: 0.286, b_0: 0.428, b_0.grad: -0.001575, b_1: 0.310, b_1.grad: 0.000498, b_2: 0.004, b_2.grad: -0.000779, b_3: 0.201, b_3.grad: 0.006945, b_4: 1.138, b_4.grad: -0.049136, b_5: 0.310, b_5.grad: -0.001613\n",
            "Epoch: 910, C: 0.286, b_0: 0.428, b_0.grad: -0.001579, b_1: 0.310, b_1.grad: 0.000498, b_2: 0.004, b_2.grad: -0.000777, b_3: 0.201, b_3.grad: 0.006943, b_4: 1.139, b_4.grad: -0.049114, b_5: 0.310, b_5.grad: -0.001615\n",
            "Epoch: 911, C: 0.286, b_0: 0.428, b_0.grad: -0.001584, b_1: 0.310, b_1.grad: 0.000498, b_2: 0.004, b_2.grad: -0.000775, b_3: 0.201, b_3.grad: 0.006942, b_4: 1.140, b_4.grad: -0.049092, b_5: 0.310, b_5.grad: -0.001618\n",
            "Epoch: 912, C: 0.286, b_0: 0.428, b_0.grad: -0.001589, b_1: 0.310, b_1.grad: 0.000497, b_2: 0.004, b_2.grad: -0.000773, b_3: 0.201, b_3.grad: 0.006940, b_4: 1.141, b_4.grad: -0.049070, b_5: 0.310, b_5.grad: -0.001621\n",
            "Epoch: 913, C: 0.286, b_0: 0.428, b_0.grad: -0.001594, b_1: 0.310, b_1.grad: 0.000497, b_2: 0.004, b_2.grad: -0.000771, b_3: 0.200, b_3.grad: 0.006938, b_4: 1.142, b_4.grad: -0.049049, b_5: 0.310, b_5.grad: -0.001623\n",
            "Epoch: 914, C: 0.286, b_0: 0.428, b_0.grad: -0.001598, b_1: 0.310, b_1.grad: 0.000497, b_2: 0.004, b_2.grad: -0.000769, b_3: 0.200, b_3.grad: 0.006937, b_4: 1.143, b_4.grad: -0.049027, b_5: 0.310, b_5.grad: -0.001626\n",
            "Epoch: 915, C: 0.286, b_0: 0.428, b_0.grad: -0.001603, b_1: 0.310, b_1.grad: 0.000497, b_2: 0.004, b_2.grad: -0.000767, b_3: 0.200, b_3.grad: 0.006935, b_4: 1.144, b_4.grad: -0.049005, b_5: 0.310, b_5.grad: -0.001628\n",
            "Epoch: 916, C: 0.285, b_0: 0.428, b_0.grad: -0.001608, b_1: 0.310, b_1.grad: 0.000497, b_2: 0.004, b_2.grad: -0.000766, b_3: 0.200, b_3.grad: 0.006933, b_4: 1.145, b_4.grad: -0.048984, b_5: 0.310, b_5.grad: -0.001631\n",
            "Epoch: 917, C: 0.285, b_0: 0.428, b_0.grad: -0.001612, b_1: 0.310, b_1.grad: 0.000496, b_2: 0.004, b_2.grad: -0.000764, b_3: 0.200, b_3.grad: 0.006931, b_4: 1.146, b_4.grad: -0.048962, b_5: 0.310, b_5.grad: -0.001633\n",
            "Epoch: 918, C: 0.285, b_0: 0.428, b_0.grad: -0.001617, b_1: 0.310, b_1.grad: 0.000496, b_2: 0.004, b_2.grad: -0.000762, b_3: 0.200, b_3.grad: 0.006930, b_4: 1.147, b_4.grad: -0.048940, b_5: 0.310, b_5.grad: -0.001636\n",
            "Epoch: 919, C: 0.285, b_0: 0.428, b_0.grad: -0.001622, b_1: 0.310, b_1.grad: 0.000496, b_2: 0.004, b_2.grad: -0.000760, b_3: 0.200, b_3.grad: 0.006928, b_4: 1.148, b_4.grad: -0.048919, b_5: 0.310, b_5.grad: -0.001638\n",
            "Epoch: 920, C: 0.285, b_0: 0.428, b_0.grad: -0.001626, b_1: 0.310, b_1.grad: 0.000496, b_2: 0.004, b_2.grad: -0.000759, b_3: 0.199, b_3.grad: 0.006926, b_4: 1.149, b_4.grad: -0.048897, b_5: 0.310, b_5.grad: -0.001641\n",
            "Epoch: 921, C: 0.285, b_0: 0.428, b_0.grad: -0.001631, b_1: 0.310, b_1.grad: 0.000496, b_2: 0.004, b_2.grad: -0.000757, b_3: 0.199, b_3.grad: 0.006925, b_4: 1.150, b_4.grad: -0.048876, b_5: 0.310, b_5.grad: -0.001643\n",
            "Epoch: 922, C: 0.285, b_0: 0.428, b_0.grad: -0.001636, b_1: 0.310, b_1.grad: 0.000495, b_2: 0.004, b_2.grad: -0.000755, b_3: 0.199, b_3.grad: 0.006923, b_4: 1.150, b_4.grad: -0.048854, b_5: 0.310, b_5.grad: -0.001645\n",
            "Epoch: 923, C: 0.285, b_0: 0.428, b_0.grad: -0.001640, b_1: 0.310, b_1.grad: 0.000495, b_2: 0.004, b_2.grad: -0.000753, b_3: 0.199, b_3.grad: 0.006921, b_4: 1.151, b_4.grad: -0.048832, b_5: 0.310, b_5.grad: -0.001648\n",
            "Epoch: 924, C: 0.285, b_0: 0.428, b_0.grad: -0.001645, b_1: 0.310, b_1.grad: 0.000495, b_2: 0.004, b_2.grad: -0.000751, b_3: 0.199, b_3.grad: 0.006920, b_4: 1.152, b_4.grad: -0.048811, b_5: 0.310, b_5.grad: -0.001650\n",
            "Epoch: 925, C: 0.285, b_0: 0.428, b_0.grad: -0.001649, b_1: 0.310, b_1.grad: 0.000495, b_2: 0.004, b_2.grad: -0.000749, b_3: 0.199, b_3.grad: 0.006918, b_4: 1.153, b_4.grad: -0.048789, b_5: 0.310, b_5.grad: -0.001652\n",
            "Epoch: 926, C: 0.285, b_0: 0.428, b_0.grad: -0.001654, b_1: 0.310, b_1.grad: 0.000495, b_2: 0.004, b_2.grad: -0.000748, b_3: 0.199, b_3.grad: 0.006916, b_4: 1.154, b_4.grad: -0.048768, b_5: 0.310, b_5.grad: -0.001655\n",
            "Epoch: 927, C: 0.285, b_0: 0.428, b_0.grad: -0.001658, b_1: 0.309, b_1.grad: 0.000494, b_2: 0.005, b_2.grad: -0.000746, b_3: 0.198, b_3.grad: 0.006914, b_4: 1.155, b_4.grad: -0.048746, b_5: 0.309, b_5.grad: -0.001657\n",
            "Epoch: 928, C: 0.285, b_0: 0.429, b_0.grad: -0.001663, b_1: 0.309, b_1.grad: 0.000494, b_2: 0.005, b_2.grad: -0.000744, b_3: 0.198, b_3.grad: 0.006913, b_4: 1.156, b_4.grad: -0.048725, b_5: 0.309, b_5.grad: -0.001659\n",
            "Epoch: 929, C: 0.285, b_0: 0.429, b_0.grad: -0.001667, b_1: 0.309, b_1.grad: 0.000494, b_2: 0.005, b_2.grad: -0.000742, b_3: 0.198, b_3.grad: 0.006911, b_4: 1.157, b_4.grad: -0.048703, b_5: 0.309, b_5.grad: -0.001661\n",
            "Epoch: 930, C: 0.285, b_0: 0.429, b_0.grad: -0.001672, b_1: 0.309, b_1.grad: 0.000494, b_2: 0.005, b_2.grad: -0.000741, b_3: 0.198, b_3.grad: 0.006909, b_4: 1.158, b_4.grad: -0.048682, b_5: 0.309, b_5.grad: -0.001664\n",
            "Epoch: 931, C: 0.285, b_0: 0.429, b_0.grad: -0.001676, b_1: 0.309, b_1.grad: 0.000494, b_2: 0.005, b_2.grad: -0.000739, b_3: 0.198, b_3.grad: 0.006907, b_4: 1.159, b_4.grad: -0.048660, b_5: 0.309, b_5.grad: -0.001666\n",
            "Epoch: 932, C: 0.285, b_0: 0.429, b_0.grad: -0.001681, b_1: 0.309, b_1.grad: 0.000493, b_2: 0.005, b_2.grad: -0.000737, b_3: 0.198, b_3.grad: 0.006905, b_4: 1.160, b_4.grad: -0.048639, b_5: 0.309, b_5.grad: -0.001668\n",
            "Epoch: 933, C: 0.285, b_0: 0.429, b_0.grad: -0.001685, b_1: 0.309, b_1.grad: 0.000493, b_2: 0.005, b_2.grad: -0.000735, b_3: 0.198, b_3.grad: 0.006904, b_4: 1.161, b_4.grad: -0.048617, b_5: 0.309, b_5.grad: -0.001670\n",
            "Epoch: 934, C: 0.285, b_0: 0.429, b_0.grad: -0.001690, b_1: 0.309, b_1.grad: 0.000493, b_2: 0.005, b_2.grad: -0.000733, b_3: 0.197, b_3.grad: 0.006902, b_4: 1.162, b_4.grad: -0.048596, b_5: 0.309, b_5.grad: -0.001672\n",
            "Epoch: 935, C: 0.285, b_0: 0.429, b_0.grad: -0.001694, b_1: 0.309, b_1.grad: 0.000493, b_2: 0.005, b_2.grad: -0.000732, b_3: 0.197, b_3.grad: 0.006900, b_4: 1.163, b_4.grad: -0.048574, b_5: 0.309, b_5.grad: -0.001674\n",
            "Epoch: 936, C: 0.285, b_0: 0.429, b_0.grad: -0.001699, b_1: 0.309, b_1.grad: 0.000493, b_2: 0.005, b_2.grad: -0.000730, b_3: 0.197, b_3.grad: 0.006898, b_4: 1.164, b_4.grad: -0.048553, b_5: 0.309, b_5.grad: -0.001676\n",
            "Epoch: 937, C: 0.284, b_0: 0.429, b_0.grad: -0.001703, b_1: 0.309, b_1.grad: 0.000492, b_2: 0.005, b_2.grad: -0.000728, b_3: 0.197, b_3.grad: 0.006896, b_4: 1.165, b_4.grad: -0.048532, b_5: 0.309, b_5.grad: -0.001678\n",
            "Epoch: 938, C: 0.284, b_0: 0.429, b_0.grad: -0.001707, b_1: 0.309, b_1.grad: 0.000492, b_2: 0.005, b_2.grad: -0.000727, b_3: 0.197, b_3.grad: 0.006895, b_4: 1.166, b_4.grad: -0.048510, b_5: 0.309, b_5.grad: -0.001680\n",
            "Epoch: 939, C: 0.284, b_0: 0.429, b_0.grad: -0.001712, b_1: 0.309, b_1.grad: 0.000492, b_2: 0.005, b_2.grad: -0.000725, b_3: 0.197, b_3.grad: 0.006893, b_4: 1.167, b_4.grad: -0.048489, b_5: 0.309, b_5.grad: -0.001682\n",
            "Epoch: 940, C: 0.284, b_0: 0.429, b_0.grad: -0.001716, b_1: 0.309, b_1.grad: 0.000492, b_2: 0.005, b_2.grad: -0.000723, b_3: 0.197, b_3.grad: 0.006891, b_4: 1.168, b_4.grad: -0.048467, b_5: 0.309, b_5.grad: -0.001684\n",
            "Epoch: 941, C: 0.284, b_0: 0.429, b_0.grad: -0.001721, b_1: 0.309, b_1.grad: 0.000492, b_2: 0.005, b_2.grad: -0.000722, b_3: 0.197, b_3.grad: 0.006889, b_4: 1.169, b_4.grad: -0.048446, b_5: 0.309, b_5.grad: -0.001686\n",
            "Epoch: 942, C: 0.284, b_0: 0.429, b_0.grad: -0.001725, b_1: 0.309, b_1.grad: 0.000492, b_2: 0.005, b_2.grad: -0.000720, b_3: 0.196, b_3.grad: 0.006888, b_4: 1.170, b_4.grad: -0.048425, b_5: 0.309, b_5.grad: -0.001688\n",
            "Epoch: 943, C: 0.284, b_0: 0.429, b_0.grad: -0.001729, b_1: 0.309, b_1.grad: 0.000491, b_2: 0.005, b_2.grad: -0.000718, b_3: 0.196, b_3.grad: 0.006886, b_4: 1.171, b_4.grad: -0.048403, b_5: 0.309, b_5.grad: -0.001690\n",
            "Epoch: 944, C: 0.284, b_0: 0.429, b_0.grad: -0.001734, b_1: 0.309, b_1.grad: 0.000491, b_2: 0.005, b_2.grad: -0.000716, b_3: 0.196, b_3.grad: 0.006884, b_4: 1.172, b_4.grad: -0.048382, b_5: 0.309, b_5.grad: -0.001691\n",
            "Epoch: 945, C: 0.284, b_0: 0.429, b_0.grad: -0.001738, b_1: 0.309, b_1.grad: 0.000491, b_2: 0.005, b_2.grad: -0.000715, b_3: 0.196, b_3.grad: 0.006882, b_4: 1.173, b_4.grad: -0.048361, b_5: 0.309, b_5.grad: -0.001693\n",
            "Epoch: 946, C: 0.284, b_0: 0.429, b_0.grad: -0.001742, b_1: 0.309, b_1.grad: 0.000491, b_2: 0.005, b_2.grad: -0.000713, b_3: 0.196, b_3.grad: 0.006880, b_4: 1.174, b_4.grad: -0.048339, b_5: 0.309, b_5.grad: -0.001695\n",
            "Epoch: 947, C: 0.284, b_0: 0.429, b_0.grad: -0.001747, b_1: 0.309, b_1.grad: 0.000491, b_2: 0.005, b_2.grad: -0.000712, b_3: 0.196, b_3.grad: 0.006878, b_4: 1.175, b_4.grad: -0.048318, b_5: 0.309, b_5.grad: -0.001697\n",
            "Epoch: 948, C: 0.284, b_0: 0.429, b_0.grad: -0.001751, b_1: 0.309, b_1.grad: 0.000490, b_2: 0.005, b_2.grad: -0.000710, b_3: 0.196, b_3.grad: 0.006877, b_4: 1.176, b_4.grad: -0.048297, b_5: 0.309, b_5.grad: -0.001699\n",
            "Epoch: 949, C: 0.284, b_0: 0.429, b_0.grad: -0.001755, b_1: 0.309, b_1.grad: 0.000490, b_2: 0.005, b_2.grad: -0.000708, b_3: 0.195, b_3.grad: 0.006875, b_4: 1.177, b_4.grad: -0.048276, b_5: 0.309, b_5.grad: -0.001700\n",
            "Epoch: 950, C: 0.284, b_0: 0.429, b_0.grad: -0.001759, b_1: 0.309, b_1.grad: 0.000490, b_2: 0.005, b_2.grad: -0.000707, b_3: 0.195, b_3.grad: 0.006873, b_4: 1.178, b_4.grad: -0.048254, b_5: 0.309, b_5.grad: -0.001702\n",
            "Epoch: 951, C: 0.284, b_0: 0.429, b_0.grad: -0.001764, b_1: 0.309, b_1.grad: 0.000490, b_2: 0.005, b_2.grad: -0.000705, b_3: 0.195, b_3.grad: 0.006871, b_4: 1.179, b_4.grad: -0.048233, b_5: 0.309, b_5.grad: -0.001704\n",
            "Epoch: 952, C: 0.284, b_0: 0.429, b_0.grad: -0.001768, b_1: 0.309, b_1.grad: 0.000490, b_2: 0.005, b_2.grad: -0.000703, b_3: 0.195, b_3.grad: 0.006869, b_4: 1.180, b_4.grad: -0.048212, b_5: 0.309, b_5.grad: -0.001705\n",
            "Epoch: 953, C: 0.284, b_0: 0.429, b_0.grad: -0.001772, b_1: 0.309, b_1.grad: 0.000490, b_2: 0.005, b_2.grad: -0.000702, b_3: 0.195, b_3.grad: 0.006867, b_4: 1.181, b_4.grad: -0.048191, b_5: 0.309, b_5.grad: -0.001707\n",
            "Epoch: 954, C: 0.284, b_0: 0.429, b_0.grad: -0.001776, b_1: 0.309, b_1.grad: 0.000489, b_2: 0.005, b_2.grad: -0.000700, b_3: 0.195, b_3.grad: 0.006866, b_4: 1.182, b_4.grad: -0.048169, b_5: 0.309, b_5.grad: -0.001709\n",
            "Epoch: 955, C: 0.284, b_0: 0.429, b_0.grad: -0.001780, b_1: 0.309, b_1.grad: 0.000489, b_2: 0.005, b_2.grad: -0.000699, b_3: 0.195, b_3.grad: 0.006864, b_4: 1.183, b_4.grad: -0.048148, b_5: 0.309, b_5.grad: -0.001710\n",
            "Epoch: 956, C: 0.284, b_0: 0.429, b_0.grad: -0.001785, b_1: 0.309, b_1.grad: 0.000489, b_2: 0.005, b_2.grad: -0.000697, b_3: 0.194, b_3.grad: 0.006862, b_4: 1.183, b_4.grad: -0.048127, b_5: 0.309, b_5.grad: -0.001712\n",
            "Epoch: 957, C: 0.284, b_0: 0.430, b_0.grad: -0.001789, b_1: 0.309, b_1.grad: 0.000489, b_2: 0.005, b_2.grad: -0.000695, b_3: 0.194, b_3.grad: 0.006860, b_4: 1.184, b_4.grad: -0.048106, b_5: 0.309, b_5.grad: -0.001713\n",
            "Epoch: 958, C: 0.283, b_0: 0.430, b_0.grad: -0.001793, b_1: 0.309, b_1.grad: 0.000489, b_2: 0.005, b_2.grad: -0.000694, b_3: 0.194, b_3.grad: 0.006858, b_4: 1.185, b_4.grad: -0.048085, b_5: 0.309, b_5.grad: -0.001715\n",
            "Epoch: 959, C: 0.283, b_0: 0.430, b_0.grad: -0.001797, b_1: 0.309, b_1.grad: 0.000489, b_2: 0.005, b_2.grad: -0.000692, b_3: 0.194, b_3.grad: 0.006856, b_4: 1.186, b_4.grad: -0.048064, b_5: 0.309, b_5.grad: -0.001717\n",
            "Epoch: 960, C: 0.283, b_0: 0.430, b_0.grad: -0.001801, b_1: 0.309, b_1.grad: 0.000489, b_2: 0.005, b_2.grad: -0.000690, b_3: 0.194, b_3.grad: 0.006855, b_4: 1.187, b_4.grad: -0.048042, b_5: 0.309, b_5.grad: -0.001718\n",
            "Epoch: 961, C: 0.283, b_0: 0.430, b_0.grad: -0.001805, b_1: 0.309, b_1.grad: 0.000488, b_2: 0.005, b_2.grad: -0.000689, b_3: 0.194, b_3.grad: 0.006853, b_4: 1.188, b_4.grad: -0.048021, b_5: 0.309, b_5.grad: -0.001720\n",
            "Epoch: 962, C: 0.283, b_0: 0.430, b_0.grad: -0.001809, b_1: 0.309, b_1.grad: 0.000488, b_2: 0.005, b_2.grad: -0.000687, b_3: 0.194, b_3.grad: 0.006851, b_4: 1.189, b_4.grad: -0.048000, b_5: 0.309, b_5.grad: -0.001721\n",
            "Epoch: 963, C: 0.283, b_0: 0.430, b_0.grad: -0.001814, b_1: 0.309, b_1.grad: 0.000488, b_2: 0.005, b_2.grad: -0.000686, b_3: 0.193, b_3.grad: 0.006849, b_4: 1.190, b_4.grad: -0.047979, b_5: 0.309, b_5.grad: -0.001723\n",
            "Epoch: 964, C: 0.283, b_0: 0.430, b_0.grad: -0.001818, b_1: 0.309, b_1.grad: 0.000488, b_2: 0.005, b_2.grad: -0.000684, b_3: 0.193, b_3.grad: 0.006847, b_4: 1.191, b_4.grad: -0.047958, b_5: 0.309, b_5.grad: -0.001724\n",
            "Epoch: 965, C: 0.283, b_0: 0.430, b_0.grad: -0.001822, b_1: 0.309, b_1.grad: 0.000488, b_2: 0.005, b_2.grad: -0.000683, b_3: 0.193, b_3.grad: 0.006845, b_4: 1.192, b_4.grad: -0.047937, b_5: 0.309, b_5.grad: -0.001725\n",
            "Epoch: 966, C: 0.283, b_0: 0.430, b_0.grad: -0.001826, b_1: 0.309, b_1.grad: 0.000488, b_2: 0.005, b_2.grad: -0.000681, b_3: 0.193, b_3.grad: 0.006843, b_4: 1.193, b_4.grad: -0.047916, b_5: 0.309, b_5.grad: -0.001727\n",
            "Epoch: 967, C: 0.283, b_0: 0.430, b_0.grad: -0.001830, b_1: 0.309, b_1.grad: 0.000488, b_2: 0.005, b_2.grad: -0.000680, b_3: 0.193, b_3.grad: 0.006841, b_4: 1.194, b_4.grad: -0.047895, b_5: 0.309, b_5.grad: -0.001728\n",
            "Epoch: 968, C: 0.283, b_0: 0.430, b_0.grad: -0.001834, b_1: 0.309, b_1.grad: 0.000487, b_2: 0.005, b_2.grad: -0.000678, b_3: 0.193, b_3.grad: 0.006839, b_4: 1.195, b_4.grad: -0.047874, b_5: 0.309, b_5.grad: -0.001730\n",
            "Epoch: 969, C: 0.283, b_0: 0.430, b_0.grad: -0.001838, b_1: 0.309, b_1.grad: 0.000487, b_2: 0.005, b_2.grad: -0.000677, b_3: 0.193, b_3.grad: 0.006837, b_4: 1.196, b_4.grad: -0.047853, b_5: 0.309, b_5.grad: -0.001731\n",
            "Epoch: 970, C: 0.283, b_0: 0.430, b_0.grad: -0.001842, b_1: 0.309, b_1.grad: 0.000487, b_2: 0.005, b_2.grad: -0.000675, b_3: 0.193, b_3.grad: 0.006835, b_4: 1.197, b_4.grad: -0.047832, b_5: 0.309, b_5.grad: -0.001732\n",
            "Epoch: 971, C: 0.283, b_0: 0.430, b_0.grad: -0.001846, b_1: 0.309, b_1.grad: 0.000487, b_2: 0.005, b_2.grad: -0.000673, b_3: 0.192, b_3.grad: 0.006834, b_4: 1.198, b_4.grad: -0.047811, b_5: 0.309, b_5.grad: -0.001733\n",
            "Epoch: 972, C: 0.283, b_0: 0.430, b_0.grad: -0.001850, b_1: 0.309, b_1.grad: 0.000487, b_2: 0.005, b_2.grad: -0.000672, b_3: 0.192, b_3.grad: 0.006832, b_4: 1.199, b_4.grad: -0.047790, b_5: 0.309, b_5.grad: -0.001735\n",
            "Epoch: 973, C: 0.283, b_0: 0.430, b_0.grad: -0.001854, b_1: 0.309, b_1.grad: 0.000487, b_2: 0.005, b_2.grad: -0.000670, b_3: 0.192, b_3.grad: 0.006830, b_4: 1.200, b_4.grad: -0.047768, b_5: 0.309, b_5.grad: -0.001736\n",
            "Epoch: 974, C: 0.283, b_0: 0.430, b_0.grad: -0.001858, b_1: 0.309, b_1.grad: 0.000486, b_2: 0.005, b_2.grad: -0.000669, b_3: 0.192, b_3.grad: 0.006828, b_4: 1.201, b_4.grad: -0.047748, b_5: 0.309, b_5.grad: -0.001737\n",
            "Epoch: 975, C: 0.283, b_0: 0.430, b_0.grad: -0.001862, b_1: 0.309, b_1.grad: 0.000486, b_2: 0.005, b_2.grad: -0.000667, b_3: 0.192, b_3.grad: 0.006826, b_4: 1.202, b_4.grad: -0.047727, b_5: 0.309, b_5.grad: -0.001739\n",
            "Epoch: 976, C: 0.283, b_0: 0.430, b_0.grad: -0.001866, b_1: 0.309, b_1.grad: 0.000486, b_2: 0.005, b_2.grad: -0.000666, b_3: 0.192, b_3.grad: 0.006824, b_4: 1.203, b_4.grad: -0.047706, b_5: 0.309, b_5.grad: -0.001740\n",
            "Epoch: 977, C: 0.283, b_0: 0.430, b_0.grad: -0.001870, b_1: 0.309, b_1.grad: 0.000486, b_2: 0.005, b_2.grad: -0.000664, b_3: 0.192, b_3.grad: 0.006822, b_4: 1.204, b_4.grad: -0.047685, b_5: 0.309, b_5.grad: -0.001741\n",
            "Epoch: 978, C: 0.283, b_0: 0.430, b_0.grad: -0.001874, b_1: 0.309, b_1.grad: 0.000486, b_2: 0.005, b_2.grad: -0.000663, b_3: 0.191, b_3.grad: 0.006820, b_4: 1.205, b_4.grad: -0.047664, b_5: 0.309, b_5.grad: -0.001742\n",
            "Epoch: 979, C: 0.282, b_0: 0.430, b_0.grad: -0.001878, b_1: 0.309, b_1.grad: 0.000486, b_2: 0.005, b_2.grad: -0.000661, b_3: 0.191, b_3.grad: 0.006818, b_4: 1.206, b_4.grad: -0.047643, b_5: 0.309, b_5.grad: -0.001743\n",
            "Epoch: 980, C: 0.282, b_0: 0.430, b_0.grad: -0.001882, b_1: 0.309, b_1.grad: 0.000486, b_2: 0.005, b_2.grad: -0.000660, b_3: 0.191, b_3.grad: 0.006816, b_4: 1.206, b_4.grad: -0.047622, b_5: 0.309, b_5.grad: -0.001744\n",
            "Epoch: 981, C: 0.282, b_0: 0.430, b_0.grad: -0.001886, b_1: 0.309, b_1.grad: 0.000486, b_2: 0.005, b_2.grad: -0.000658, b_3: 0.191, b_3.grad: 0.006814, b_4: 1.207, b_4.grad: -0.047601, b_5: 0.309, b_5.grad: -0.001746\n",
            "Epoch: 982, C: 0.282, b_0: 0.430, b_0.grad: -0.001889, b_1: 0.309, b_1.grad: 0.000485, b_2: 0.005, b_2.grad: -0.000657, b_3: 0.191, b_3.grad: 0.006812, b_4: 1.208, b_4.grad: -0.047580, b_5: 0.309, b_5.grad: -0.001747\n",
            "Epoch: 983, C: 0.282, b_0: 0.430, b_0.grad: -0.001893, b_1: 0.309, b_1.grad: 0.000485, b_2: 0.005, b_2.grad: -0.000655, b_3: 0.191, b_3.grad: 0.006811, b_4: 1.209, b_4.grad: -0.047559, b_5: 0.309, b_5.grad: -0.001748\n",
            "Epoch: 984, C: 0.282, b_0: 0.431, b_0.grad: -0.001897, b_1: 0.309, b_1.grad: 0.000485, b_2: 0.005, b_2.grad: -0.000654, b_3: 0.191, b_3.grad: 0.006809, b_4: 1.210, b_4.grad: -0.047538, b_5: 0.309, b_5.grad: -0.001749\n",
            "Epoch: 985, C: 0.282, b_0: 0.431, b_0.grad: -0.001901, b_1: 0.309, b_1.grad: 0.000485, b_2: 0.005, b_2.grad: -0.000653, b_3: 0.190, b_3.grad: 0.006807, b_4: 1.211, b_4.grad: -0.047517, b_5: 0.309, b_5.grad: -0.001750\n",
            "Epoch: 986, C: 0.282, b_0: 0.431, b_0.grad: -0.001905, b_1: 0.309, b_1.grad: 0.000485, b_2: 0.005, b_2.grad: -0.000651, b_3: 0.190, b_3.grad: 0.006805, b_4: 1.212, b_4.grad: -0.047497, b_5: 0.309, b_5.grad: -0.001751\n",
            "Epoch: 987, C: 0.282, b_0: 0.431, b_0.grad: -0.001909, b_1: 0.309, b_1.grad: 0.000485, b_2: 0.005, b_2.grad: -0.000650, b_3: 0.190, b_3.grad: 0.006803, b_4: 1.213, b_4.grad: -0.047476, b_5: 0.309, b_5.grad: -0.001752\n",
            "Epoch: 988, C: 0.282, b_0: 0.431, b_0.grad: -0.001913, b_1: 0.309, b_1.grad: 0.000485, b_2: 0.005, b_2.grad: -0.000648, b_3: 0.190, b_3.grad: 0.006801, b_4: 1.214, b_4.grad: -0.047455, b_5: 0.309, b_5.grad: -0.001753\n",
            "Epoch: 989, C: 0.282, b_0: 0.431, b_0.grad: -0.001916, b_1: 0.309, b_1.grad: 0.000485, b_2: 0.005, b_2.grad: -0.000647, b_3: 0.190, b_3.grad: 0.006799, b_4: 1.215, b_4.grad: -0.047434, b_5: 0.309, b_5.grad: -0.001754\n",
            "Epoch: 990, C: 0.282, b_0: 0.431, b_0.grad: -0.001920, b_1: 0.309, b_1.grad: 0.000484, b_2: 0.005, b_2.grad: -0.000645, b_3: 0.190, b_3.grad: 0.006797, b_4: 1.216, b_4.grad: -0.047413, b_5: 0.309, b_5.grad: -0.001755\n",
            "Epoch: 991, C: 0.282, b_0: 0.431, b_0.grad: -0.001924, b_1: 0.309, b_1.grad: 0.000484, b_2: 0.005, b_2.grad: -0.000644, b_3: 0.190, b_3.grad: 0.006795, b_4: 1.217, b_4.grad: -0.047392, b_5: 0.309, b_5.grad: -0.001756\n",
            "Epoch: 992, C: 0.282, b_0: 0.431, b_0.grad: -0.001928, b_1: 0.309, b_1.grad: 0.000484, b_2: 0.005, b_2.grad: -0.000643, b_3: 0.190, b_3.grad: 0.006793, b_4: 1.218, b_4.grad: -0.047372, b_5: 0.309, b_5.grad: -0.001757\n",
            "Epoch: 993, C: 0.282, b_0: 0.431, b_0.grad: -0.001932, b_1: 0.309, b_1.grad: 0.000484, b_2: 0.005, b_2.grad: -0.000641, b_3: 0.189, b_3.grad: 0.006791, b_4: 1.219, b_4.grad: -0.047351, b_5: 0.309, b_5.grad: -0.001758\n",
            "Epoch: 994, C: 0.282, b_0: 0.431, b_0.grad: -0.001935, b_1: 0.309, b_1.grad: 0.000484, b_2: 0.005, b_2.grad: -0.000640, b_3: 0.189, b_3.grad: 0.006789, b_4: 1.220, b_4.grad: -0.047330, b_5: 0.309, b_5.grad: -0.001759\n",
            "Epoch: 995, C: 0.282, b_0: 0.431, b_0.grad: -0.001939, b_1: 0.309, b_1.grad: 0.000484, b_2: 0.005, b_2.grad: -0.000638, b_3: 0.189, b_3.grad: 0.006787, b_4: 1.221, b_4.grad: -0.047309, b_5: 0.309, b_5.grad: -0.001760\n",
            "Epoch: 996, C: 0.282, b_0: 0.431, b_0.grad: -0.001943, b_1: 0.309, b_1.grad: 0.000484, b_2: 0.005, b_2.grad: -0.000637, b_3: 0.189, b_3.grad: 0.006785, b_4: 1.222, b_4.grad: -0.047289, b_5: 0.309, b_5.grad: -0.001761\n",
            "Epoch: 997, C: 0.282, b_0: 0.431, b_0.grad: -0.001947, b_1: 0.309, b_1.grad: 0.000484, b_2: 0.005, b_2.grad: -0.000635, b_3: 0.189, b_3.grad: 0.006783, b_4: 1.223, b_4.grad: -0.047268, b_5: 0.309, b_5.grad: -0.001761\n",
            "Epoch: 998, C: 0.282, b_0: 0.431, b_0.grad: -0.001950, b_1: 0.309, b_1.grad: 0.000483, b_2: 0.005, b_2.grad: -0.000634, b_3: 0.189, b_3.grad: 0.006781, b_4: 1.224, b_4.grad: -0.047247, b_5: 0.309, b_5.grad: -0.001762\n",
            "Epoch: 999, C: 0.282, b_0: 0.431, b_0.grad: -0.001954, b_1: 0.309, b_1.grad: 0.000483, b_2: 0.005, b_2.grad: -0.000633, b_3: 0.189, b_3.grad: 0.006779, b_4: 1.224, b_4.grad: -0.047226, b_5: 0.309, b_5.grad: -0.001763\n"
          ]
        }
      ]
    },
    {
      "cell_type": "markdown",
      "source": [
        "![green-divider](https://user-images.githubusercontent.com/7065401/52071924-c003ad80-2562-11e9-8297-1c6595f8a7ff.png)"
      ],
      "metadata": {
        "id": "Bm5QJp6NgzD2"
      }
    },
    {
      "cell_type": "markdown",
      "source": [
        "#### Gradient of $Cost$, $\\nabla C$ \n",
        "\n",
        "- $\\nabla C$ is a vector of all the Partial Derivatives of $C$ with respect to each of the individual parameters\n",
        "  - $\\nabla C = \\left[\\frac{dC}{db_0}, \\frac{dC}{db_1}, \\frac{dC}{db_2}, \\frac{dC}{db_3}, \\frac{dC}{db_4}, \\frac{dC}{db_5}\\right]T$ \n",
        "    - we transpose the vector to turn it into a column vector"
      ],
      "metadata": {
        "id": "LTaVyaehg38F"
      }
    },
    {
      "cell_type": "code",
      "source": [
        "# C_gradient\n",
        "C_gradient = torch.tensor([[b_0.grad[0], b_1.grad[0], b_2.grad[0], b_3.grad[0], b_4.grad[0], b_5.grad[0]]]).T\n",
        "\n",
        "print('C Gradient:', '\\n')\n",
        "C_gradient"
      ],
      "metadata": {
        "colab": {
          "base_uri": "https://localhost:8080/"
        },
        "id": "YdOxE9JEgwTd",
        "outputId": "6df5d9f1-ff57-4e41-f742-1683b56b688b"
      },
      "execution_count": 74,
      "outputs": [
        {
          "output_type": "stream",
          "name": "stdout",
          "text": [
            "C Gradient: \n",
            "\n"
          ]
        },
        {
          "output_type": "execute_result",
          "data": {
            "text/plain": [
              "tensor([[-0.0020],\n",
              "        [ 0.0005],\n",
              "        [-0.0006],\n",
              "        [ 0.0068],\n",
              "        [-0.0472],\n",
              "        [-0.0018]])"
            ]
          },
          "metadata": {},
          "execution_count": 74
        }
      ]
    },
    {
      "cell_type": "code",
      "source": [
        "# Actual House Price Vs Predicted House Price \n",
        "\n",
        "plot_ys(y_train, y_hats)"
      ],
      "metadata": {
        "colab": {
          "base_uri": "https://localhost:8080/",
          "height": 414
        },
        "id": "Q6fL2AbtjoS1",
        "outputId": "b0ada4bf-f2f5-4334-bc5d-0450942845c4"
      },
      "execution_count": 75,
      "outputs": [
        {
          "output_type": "display_data",
          "data": {
            "text/plain": [
              "<Figure size 864x432 with 1 Axes>"
            ],
            "image/png": "[encoded data removed]"
          },
          "metadata": {
            "needs_background": "light"
          }
        }
      ]
    }
  ]
}